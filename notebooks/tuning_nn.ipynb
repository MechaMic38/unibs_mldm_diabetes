{
 "cells": [
  {
   "cell_type": "markdown",
   "metadata": {},
   "source": [
    "# Optuna Tuning | Neural Network\n",
    "**Neural Network** hyper-parameter tuning for the [UCI dataset](https://archive.ics.uci.edu/dataset/296/diabetes+130-us+hospitals+for+years+1999-2008). The dataset represents ten years (1999-2008) of clinical care at 130 US hospitals and integrated delivery networks.\n",
    "\n",
    "> **[CAUTION]** Do <u>NOT</u> execute \"Run All\", that will tell Optuna to run hyper-parameter tuning, regardless of whether you have already done it or not. Avoid running the _\"Hyper-parameter tuning\"_ subsections if you don't have to."
   ]
  },
  {
   "cell_type": "markdown",
   "metadata": {},
   "source": [
    "## **0. Initial Setup**\n",
    "Taking care of package imports, defining work constants, and loading all necessary datasets."
   ]
  },
  {
   "cell_type": "markdown",
   "metadata": {},
   "source": [
    "### 0.1 Python imports"
   ]
  },
  {
   "cell_type": "code",
   "execution_count": 1,
   "metadata": {},
   "outputs": [
    {
     "name": "stderr",
     "output_type": "stream",
     "text": [
      "d:\\VSCode_Workspaces\\unibs_mldm_diabetes\\.venv\\Lib\\site-packages\\tqdm\\auto.py:21: TqdmWarning: IProgress not found. Please update jupyter and ipywidgets. See https://ipywidgets.readthedocs.io/en/stable/user_install.html\n",
      "  from .autonotebook import tqdm as notebook_tqdm\n"
     ]
    }
   ],
   "source": [
    "# Data Analysis\n",
    "import numpy as np\n",
    "import pandas as pd\n",
    "\n",
    "# Hyperparameter optimization\n",
    "import optuna\n",
    "\n",
    "# Machine learning\n",
    "import os\n",
    "\n",
    "# Visualization\n",
    "import seaborn as sns\n",
    "import matplotlib.pyplot as plt\n",
    "\n",
    "# Visualization configurations\n",
    "pd.set_option('display.max_columns', 60)\n",
    "plt.style.use('ggplot')\n",
    "sns.set_style('white')"
   ]
  },
  {
   "cell_type": "code",
   "execution_count": 2,
   "metadata": {},
   "outputs": [],
   "source": [
    "from collections import Counter\n",
    "\n",
    "from imblearn.combine import SMOTETomek\n",
    "from imblearn.pipeline import make_pipeline\n",
    "from imblearn.over_sampling import SMOTE\n",
    "from imblearn.under_sampling import RandomUnderSampler, TomekLinks\n",
    "\n",
    "from optuna.storages import JournalStorage\n",
    "from optuna.storages.journal import JournalFileBackend\n",
    "\n",
    "from sklearn.metrics import accuracy_score, classification_report, confusion_matrix, f1_score, fbeta_score, make_scorer, precision_score, recall_score, roc_auc_score\n",
    "from sklearn.model_selection import cross_val_score, StratifiedKFold\n",
    "from sklearn.preprocessing import StandardScaler\n",
    "\n",
    "from sklearn.neural_network import MLPClassifier"
   ]
  },
  {
   "cell_type": "markdown",
   "metadata": {},
   "source": [
    "### 0.2 Constants"
   ]
  },
  {
   "cell_type": "code",
   "execution_count": 3,
   "metadata": {},
   "outputs": [],
   "source": [
    "DATA_PATH = '../data/original/'\n",
    "DATA_PATH_PROCESSED = '../data/processed/'\n",
    "\n",
    "MODEL_NAME = 'nn' # Modify this to the model you are using\n",
    "\n",
    "OPTUNA_PATH = '../optuna/'\n",
    "OPTUNA_DIR = OPTUNA_PATH + MODEL_NAME + '/'\n",
    "\n",
    "STUDY_NAME = \"Diabetes_130-US\"\n",
    "STUDY_PATH_NONE = OPTUNA_DIR + f\"optuna_{MODEL_NAME}_none.log\"\n",
    "STUDY_PATH_RUS = OPTUNA_DIR + f\"optuna_{MODEL_NAME}_rus.log\"\n",
    "STUDY_PATH_SMOTE = OPTUNA_DIR + f\"optuna_{MODEL_NAME}_smote.log\"\n",
    "STUDY_PATH_SMOTE_TOMEK = OPTUNA_DIR + f\"optuna_{MODEL_NAME}_smote-tomek.log\"\n",
    "\n",
    "# Ensure the directories exist\n",
    "os.makedirs(OPTUNA_DIR, exist_ok=True)\n",
    "os.makedirs(os.path.dirname(STUDY_PATH_NONE), exist_ok=True)\n",
    "\n",
    "N_TRIALS = 100\n",
    "RANDOM_STATE = 38\n",
    "\n",
    "SCORE_NAME = 'F1-Score'\n",
    "SCORING = make_scorer(fbeta_score, beta=1, average='macro')"
   ]
  },
  {
   "cell_type": "markdown",
   "metadata": {},
   "source": [
    "### 0.3 Loading datasets"
   ]
  },
  {
   "cell_type": "code",
   "execution_count": 4,
   "metadata": {},
   "outputs": [],
   "source": [
    "train_set = pd.read_csv(\n",
    "    DATA_PATH_PROCESSED + 'train.csv',\n",
    "    na_values='?',\n",
    "    keep_default_na=False\n",
    ")\n",
    "\n",
    "test_set = pd.read_csv(\n",
    "    DATA_PATH_PROCESSED + 'test.csv',\n",
    "    na_values='?',\n",
    "    keep_default_na=False\n",
    ")"
   ]
  },
  {
   "cell_type": "markdown",
   "metadata": {},
   "source": [
    "## **1. Feature Scaling**\n",
    "Applying scaling to numerical features."
   ]
  },
  {
   "cell_type": "code",
   "execution_count": 5,
   "metadata": {},
   "outputs": [],
   "source": [
    "target = 'readmitted'\n",
    "\n",
    "X_train = train_set.drop(target, axis=1)\n",
    "y_train = train_set[target]\n",
    "\n",
    "X_test = test_set.drop(target, axis=1)\n",
    "y_test = test_set[target]"
   ]
  },
  {
   "cell_type": "markdown",
   "metadata": {},
   "source": [
    "### 1.1 Scaling\n",
    "Applying scaling to numerical features, while leaving boolean features untouched."
   ]
  },
  {
   "cell_type": "code",
   "execution_count": 6,
   "metadata": {},
   "outputs": [],
   "source": [
    "NUMERICAL_COLUMNS = [\n",
    "    'age', 'time_in_hospital', 'num_medications',\n",
    "    'num_emergency', 'num_inpatient', 'num_diagnoses'\n",
    "]"
   ]
  },
  {
   "cell_type": "code",
   "execution_count": 7,
   "metadata": {},
   "outputs": [],
   "source": [
    "scaler = StandardScaler()\n",
    "\n",
    "X_train[NUMERICAL_COLUMNS] = scaler.fit_transform(X_train[NUMERICAL_COLUMNS])\n",
    "X_test[NUMERICAL_COLUMNS] = scaler.transform(X_test[NUMERICAL_COLUMNS])"
   ]
  },
  {
   "cell_type": "code",
   "execution_count": 8,
   "metadata": {},
   "outputs": [
    {
     "name": "stdout",
     "output_type": "stream",
     "text": [
      "Train set: Counter({0: 45522, 1: 4523})\n",
      "Test set: Counter({0: 19510, 1: 1938})\n"
     ]
    }
   ],
   "source": [
    "print('Train set:', Counter(y_train))\n",
    "print('Test set:', Counter(y_test))"
   ]
  },
  {
   "cell_type": "markdown",
   "metadata": {},
   "source": [
    "## **2. Optuna Hyper-parameter Tuning | No under/oversampling**\n",
    "Hyper-parameter tuning of the model using Optuna, with no undersampling/oversampling."
   ]
  },
  {
   "cell_type": "markdown",
   "metadata": {},
   "source": [
    "### 2.1 Objective & study setup\n",
    "Preparing the objective function with all hyper-parameters, and creating/loading the Optuna study."
   ]
  },
  {
   "cell_type": "code",
   "execution_count": 9,
   "metadata": {},
   "outputs": [],
   "source": [
    "def objective(trial: optuna.Trial) -> float:\n",
    "    # Hyperparameter search space\n",
    "    params = {\n",
    "        \"hidden_layer_sizes\": tuple(\n",
    "            trial.suggest_int(f\"layer_{i}\", 10, 100) for i in range(trial.suggest_int(\"n_layers\", 1, 3))\n",
    "        ),\n",
    "        \"activation\": trial.suggest_categorical(\"activation\", [\"identity\", \"logistic\", \"tanh\", \"relu\"]),\n",
    "        \"solver\": trial.suggest_categorical(\"solver\", [\"lbfgs\", \"sgd\", \"adam\"]),\n",
    "        \"alpha\": trial.suggest_float(\"alpha\", 1e-5, 1e-1, log=True),\n",
    "        \"learning_rate_init\": trial.suggest_float(\"learning_rate_init\", 1e-4, 1e-1, log=True),\n",
    "        \"max_iter\": 500\n",
    "    }\n",
    "    \n",
    "    # Define validation folds\n",
    "    kf = StratifiedKFold(n_splits=5, shuffle=False)\n",
    "    model = MLPClassifier(**params, random_state=RANDOM_STATE)\n",
    "    \n",
    "    # Cross validation\n",
    "    scores = cross_val_score(model, X_train, y_train, cv=kf, scoring=SCORING)\n",
    "\n",
    "    print(\"Cross validation scores: {}\".format(scores))\n",
    "    print(\"Average score: {}\".format(scores.mean()))\n",
    "\n",
    "    return scores.mean()"
   ]
  },
  {
   "cell_type": "code",
   "execution_count": 10,
   "metadata": {},
   "outputs": [
    {
     "name": "stderr",
     "output_type": "stream",
     "text": [
      "d:\\VSCode_Workspaces\\unibs_mldm_diabetes\\.venv\\Lib\\site-packages\\optuna\\_experimental.py:31: ExperimentalWarning: Argument ``constant_liar`` is an experimental feature. The interface can change in the future.\n",
      "  warnings.warn(\n",
      "[I 2025-01-12 22:07:11,230] A new study created in Journal with name: Diabetes_130-US\n"
     ]
    }
   ],
   "source": [
    "# Set up study with name and storage\n",
    "storage = JournalStorage(JournalFileBackend(STUDY_PATH_NONE))\n",
    "\n",
    "study = optuna.create_study(\n",
    "    direction=\"maximize\",\n",
    "    study_name=STUDY_NAME,\n",
    "    storage=storage,\n",
    "    load_if_exists=True,\n",
    "    sampler=optuna.samplers.TPESampler(constant_liar=True, seed=RANDOM_STATE),\n",
    "    pruner=optuna.pruners.SuccessiveHalvingPruner()\n",
    ")\n",
    "\n",
    "optuna.logging.set_verbosity(optuna.logging.INFO)"
   ]
  },
  {
   "cell_type": "markdown",
   "metadata": {},
   "source": [
    "### 2.2 Hyper-parameter tuning\n",
    "**(CAUTION)** <u>Do not run</u>, unless you already need to find the best parameters. If you already have bound the best model configuration, <u>run the section above</u> _(Objective & study setup)_."
   ]
  },
  {
   "cell_type": "code",
   "execution_count": null,
   "metadata": {},
   "outputs": [
    {
     "name": "stderr",
     "output_type": "stream",
     "text": [
      "[I 2025-01-12 22:07:29,125] Trial 3 finished with value: 0.47633597337075617 and parameters: {'n_layers': 1, 'layer_0': 42, 'activation': 'identity', 'solver': 'sgd', 'alpha': 0.005638539705962209, 'learning_rate_init': 0.0064397920977982736}. Best is trial 3 with value: 0.47633597337075617.\n"
     ]
    },
    {
     "name": "stdout",
     "output_type": "stream",
     "text": [
      "Cross validation scores: [0.47635241 0.47635241 0.47632501 0.47632501 0.47632501]\n",
      "Average score: 0.47633597337075617\n"
     ]
    },
    {
     "name": "stderr",
     "output_type": "stream",
     "text": [
      "[I 2025-01-12 22:07:48,617] Trial 4 finished with value: 0.47633597337075617 and parameters: {'n_layers': 1, 'layer_0': 63, 'activation': 'identity', 'solver': 'sgd', 'alpha': 0.0011580631855430134, 'learning_rate_init': 0.04641445214806029}. Best is trial 3 with value: 0.47633597337075617.\n"
     ]
    },
    {
     "name": "stdout",
     "output_type": "stream",
     "text": [
      "Cross validation scores: [0.47635241 0.47635241 0.47632501 0.47632501 0.47632501]\n",
      "Average score: 0.47633597337075617\n"
     ]
    },
    {
     "name": "stderr",
     "output_type": "stream",
     "text": [
      "[I 2025-01-12 22:08:41,283] Trial 5 finished with value: 0.47675456206850503 and parameters: {'n_layers': 2, 'layer_0': 13, 'layer_1': 66, 'activation': 'relu', 'solver': 'adam', 'alpha': 4.9806958572673844e-05, 'learning_rate_init': 0.022764231759952347}. Best is trial 5 with value: 0.47675456206850503.\n"
     ]
    },
    {
     "name": "stdout",
     "output_type": "stream",
     "text": [
      "Cross validation scores: [0.4762428  0.47860977 0.47632501 0.47627021 0.47632501]\n",
      "Average score: 0.47675456206850503\n"
     ]
    },
    {
     "name": "stderr",
     "output_type": "stream",
     "text": [
      "[I 2025-01-12 22:08:45,884] Trial 2 finished with value: 0.47633597337075617 and parameters: {'n_layers': 1, 'layer_0': 96, 'activation': 'logistic', 'solver': 'adam', 'alpha': 8.398395764629379e-05, 'learning_rate_init': 0.00021552892856213255}. Best is trial 5 with value: 0.47675456206850503.\n"
     ]
    },
    {
     "name": "stdout",
     "output_type": "stream",
     "text": [
      "Cross validation scores: [0.47635241 0.47635241 0.47632501 0.47632501 0.47632501]\n",
      "Average score: 0.47633597337075617\n"
     ]
    },
    {
     "name": "stderr",
     "output_type": "stream",
     "text": [
      "[I 2025-01-12 22:08:48,752] Trial 8 finished with value: 0.47633597337075617 and parameters: {'n_layers': 2, 'layer_0': 51, 'layer_1': 14, 'activation': 'identity', 'solver': 'lbfgs', 'alpha': 7.375160743951547e-05, 'learning_rate_init': 0.00021557935968468428}. Best is trial 5 with value: 0.47675456206850503.\n"
     ]
    },
    {
     "name": "stdout",
     "output_type": "stream",
     "text": [
      "Cross validation scores: [0.47635241 0.47635241 0.47632501 0.47632501 0.47632501]\n",
      "Average score: 0.47633597337075617\n"
     ]
    },
    {
     "name": "stderr",
     "output_type": "stream",
     "text": [
      "d:\\VSCode_Workspaces\\unibs_mldm_diabetes\\.venv\\Lib\\site-packages\\sklearn\\neural_network\\_multilayer_perceptron.py:545: ConvergenceWarning: lbfgs failed to converge (status=1):\n",
      "STOP: TOTAL NO. of ITERATIONS REACHED LIMIT.\n",
      "\n",
      "Increase the number of iterations (max_iter) or scale the data as shown in:\n",
      "    https://scikit-learn.org/stable/modules/preprocessing.html\n",
      "  self.n_iter_ = _check_optimize_result(\"lbfgs\", opt_res, self.max_iter)\n"
     ]
    },
    {
     "name": "stdout",
     "output_type": "stream",
     "text": [
      "Cross validation scores: [0.47635241 0.47635241 0.47632501 0.47632501 0.47632501]\n",
      "Average score: 0.47633597337075617\n"
     ]
    },
    {
     "name": "stderr",
     "output_type": "stream",
     "text": [
      "[I 2025-01-12 22:09:23,351] Trial 9 finished with value: 0.47633597337075617 and parameters: {'n_layers': 1, 'layer_0': 19, 'activation': 'logistic', 'solver': 'sgd', 'alpha': 0.08266816328075288, 'learning_rate_init': 0.029078782762091058}. Best is trial 5 with value: 0.47675456206850503.\n",
      "[I 2025-01-12 22:09:24,331] Trial 10 finished with value: 0.47633597337075617 and parameters: {'n_layers': 2, 'layer_0': 11, 'layer_1': 37, 'activation': 'identity', 'solver': 'sgd', 'alpha': 5.935578695525419e-05, 'learning_rate_init': 0.037306167090825015}. Best is trial 5 with value: 0.47675456206850503.\n"
     ]
    },
    {
     "name": "stdout",
     "output_type": "stream",
     "text": [
      "Cross validation scores: [0.47635241 0.47635241 0.47632501 0.47632501 0.47632501]\n",
      "Average score: 0.47633597337075617\n"
     ]
    },
    {
     "name": "stderr",
     "output_type": "stream",
     "text": [
      "d:\\VSCode_Workspaces\\unibs_mldm_diabetes\\.venv\\Lib\\site-packages\\sklearn\\neural_network\\_multilayer_perceptron.py:545: ConvergenceWarning: lbfgs failed to converge (status=1):\n",
      "STOP: TOTAL NO. of ITERATIONS REACHED LIMIT.\n",
      "\n",
      "Increase the number of iterations (max_iter) or scale the data as shown in:\n",
      "    https://scikit-learn.org/stable/modules/preprocessing.html\n",
      "  self.n_iter_ = _check_optimize_result(\"lbfgs\", opt_res, self.max_iter)\n"
     ]
    },
    {
     "name": "stdout",
     "output_type": "stream",
     "text": [
      "Cross validation scores: [0.47635241 0.47635241 0.47632501 0.47632501 0.47632501]\n",
      "Average score: 0.47633597337075617\n"
     ]
    },
    {
     "name": "stderr",
     "output_type": "stream",
     "text": [
      "[I 2025-01-12 22:10:28,150] Trial 12 finished with value: 0.47633597337075617 and parameters: {'n_layers': 2, 'layer_0': 12, 'layer_1': 35, 'activation': 'relu', 'solver': 'sgd', 'alpha': 0.035258161666158645, 'learning_rate_init': 0.0011313469637118983}. Best is trial 5 with value: 0.47675456206850503.\n"
     ]
    },
    {
     "name": "stdout",
     "output_type": "stream",
     "text": [
      "Cross validation scores: [0.47635241 0.47635241 0.47632501 0.47632501 0.47632501]\n",
      "Average score: 0.47633597337075617\n"
     ]
    },
    {
     "name": "stderr",
     "output_type": "stream",
     "text": [
      "[I 2025-01-12 22:10:56,800] Trial 1 finished with value: 0.47633597337075617 and parameters: {'n_layers': 2, 'layer_0': 62, 'layer_1': 39, 'activation': 'relu', 'solver': 'sgd', 'alpha': 0.07368632133617957, 'learning_rate_init': 0.018623402030749546}. Best is trial 5 with value: 0.47675456206850503.\n"
     ]
    },
    {
     "name": "stdout",
     "output_type": "stream",
     "text": [
      "Cross validation scores: [0.47635241 0.47635241 0.47632501 0.47632501 0.47632501]\n",
      "Average score: 0.47633597337075617\n"
     ]
    },
    {
     "name": "stderr",
     "output_type": "stream",
     "text": [
      "[I 2025-01-12 22:11:29,323] Trial 11 finished with value: 0.47633597337075617 and parameters: {'n_layers': 2, 'layer_0': 66, 'layer_1': 50, 'activation': 'logistic', 'solver': 'sgd', 'alpha': 0.004517496255815682, 'learning_rate_init': 0.00024535688415963246}. Best is trial 5 with value: 0.47675456206850503.\n",
      "[I 2025-01-12 22:11:36,706] Trial 14 finished with value: 0.47633597337075617 and parameters: {'n_layers': 1, 'layer_0': 67, 'activation': 'relu', 'solver': 'sgd', 'alpha': 0.08011142417533072, 'learning_rate_init': 0.012885837705356824}. Best is trial 5 with value: 0.47675456206850503.\n"
     ]
    },
    {
     "name": "stdout",
     "output_type": "stream",
     "text": [
      "Cross validation scores: [0.47635241 0.47635241 0.47632501 0.47632501 0.47632501]\n",
      "Average score: 0.47633597337075617\n"
     ]
    },
    {
     "name": "stderr",
     "output_type": "stream",
     "text": [
      "d:\\VSCode_Workspaces\\unibs_mldm_diabetes\\.venv\\Lib\\site-packages\\sklearn\\neural_network\\_multilayer_perceptron.py:545: ConvergenceWarning: lbfgs failed to converge (status=1):\n",
      "STOP: TOTAL NO. of ITERATIONS REACHED LIMIT.\n",
      "\n",
      "Increase the number of iterations (max_iter) or scale the data as shown in:\n",
      "    https://scikit-learn.org/stable/modules/preprocessing.html\n",
      "  self.n_iter_ = _check_optimize_result(\"lbfgs\", opt_res, self.max_iter)\n",
      "d:\\VSCode_Workspaces\\unibs_mldm_diabetes\\.venv\\Lib\\site-packages\\sklearn\\neural_network\\_multilayer_perceptron.py:545: ConvergenceWarning: lbfgs failed to converge (status=1):\n",
      "STOP: TOTAL NO. of ITERATIONS REACHED LIMIT.\n",
      "\n",
      "Increase the number of iterations (max_iter) or scale the data as shown in:\n",
      "    https://scikit-learn.org/stable/modules/preprocessing.html\n",
      "  self.n_iter_ = _check_optimize_result(\"lbfgs\", opt_res, self.max_iter)\n",
      "d:\\VSCode_Workspaces\\unibs_mldm_diabetes\\.venv\\Lib\\site-packages\\sklearn\\neural_network\\_multilayer_perceptron.py:545: ConvergenceWarning: lbfgs failed to converge (status=1):\n",
      "STOP: TOTAL NO. of ITERATIONS REACHED LIMIT.\n",
      "\n",
      "Increase the number of iterations (max_iter) or scale the data as shown in:\n",
      "    https://scikit-learn.org/stable/modules/preprocessing.html\n",
      "  self.n_iter_ = _check_optimize_result(\"lbfgs\", opt_res, self.max_iter)\n"
     ]
    },
    {
     "name": "stdout",
     "output_type": "stream",
     "text": [
      "Cross validation scores: [0.47635241 0.47635241 0.47632501 0.47632501 0.47632501]\n",
      "Average score: 0.47633597337075617\n"
     ]
    },
    {
     "name": "stderr",
     "output_type": "stream",
     "text": [
      "[I 2025-01-12 22:13:11,713] Trial 16 finished with value: 0.47633597337075617 and parameters: {'n_layers': 2, 'layer_0': 84, 'layer_1': 74, 'activation': 'tanh', 'solver': 'adam', 'alpha': 0.0003342859338256075, 'learning_rate_init': 0.06900586020062129}. Best is trial 5 with value: 0.47675456206850503.\n"
     ]
    },
    {
     "name": "stdout",
     "output_type": "stream",
     "text": [
      "Cross validation scores: [0.47819234 0.48656556 0.47632501 0.47846063 0.47825195]\n",
      "Average score: 0.4795590989809696\n"
     ]
    },
    {
     "name": "stderr",
     "output_type": "stream",
     "text": [
      "[I 2025-01-12 22:13:36,197] Trial 0 finished with value: 0.4795590989809696 and parameters: {'n_layers': 2, 'layer_0': 71, 'layer_1': 46, 'activation': 'relu', 'solver': 'adam', 'alpha': 0.0011635317509214428, 'learning_rate_init': 0.010800812285170705}. Best is trial 0 with value: 0.4795590989809696.\n"
     ]
    },
    {
     "name": "stdout",
     "output_type": "stream",
     "text": [
      "Cross validation scores: [0.47635241 0.47635241 0.47632501 0.47632501 0.47632501]\n",
      "Average score: 0.47633597337075617\n"
     ]
    },
    {
     "name": "stderr",
     "output_type": "stream",
     "text": [
      "[I 2025-01-12 22:14:30,542] Trial 17 finished with value: 0.47633597337075617 and parameters: {'n_layers': 3, 'layer_0': 31, 'layer_1': 68, 'layer_2': 24, 'activation': 'relu', 'solver': 'adam', 'alpha': 0.01060445465346019, 'learning_rate_init': 0.0039746784032938486}. Best is trial 0 with value: 0.4795590989809696.\n",
      "d:\\VSCode_Workspaces\\unibs_mldm_diabetes\\.venv\\Lib\\site-packages\\sklearn\\neural_network\\_multilayer_perceptron.py:545: ConvergenceWarning: lbfgs failed to converge (status=1):\n",
      "STOP: TOTAL NO. of ITERATIONS REACHED LIMIT.\n",
      "\n",
      "Increase the number of iterations (max_iter) or scale the data as shown in:\n",
      "    https://scikit-learn.org/stable/modules/preprocessing.html\n",
      "  self.n_iter_ = _check_optimize_result(\"lbfgs\", opt_res, self.max_iter)\n",
      "d:\\VSCode_Workspaces\\unibs_mldm_diabetes\\.venv\\Lib\\site-packages\\sklearn\\neural_network\\_multilayer_perceptron.py:545: ConvergenceWarning: lbfgs failed to converge (status=1):\n",
      "STOP: TOTAL NO. of ITERATIONS REACHED LIMIT.\n",
      "\n",
      "Increase the number of iterations (max_iter) or scale the data as shown in:\n",
      "    https://scikit-learn.org/stable/modules/preprocessing.html\n",
      "  self.n_iter_ = _check_optimize_result(\"lbfgs\", opt_res, self.max_iter)\n",
      "[I 2025-01-12 22:14:35,014] Trial 6 finished with value: 0.500928287865207 and parameters: {'n_layers': 3, 'layer_0': 22, 'layer_1': 49, 'layer_2': 91, 'activation': 'relu', 'solver': 'lbfgs', 'alpha': 3.6628393557132015e-05, 'learning_rate_init': 0.02368201498864883}. Best is trial 6 with value: 0.500928287865207.\n"
     ]
    },
    {
     "name": "stdout",
     "output_type": "stream",
     "text": [
      "Cross validation scores: [0.50269484 0.50352764 0.50470578 0.49832264 0.49539054]\n",
      "Average score: 0.500928287865207\n"
     ]
    },
    {
     "name": "stderr",
     "output_type": "stream",
     "text": [
      "[I 2025-01-12 22:14:36,179] Trial 13 finished with value: 0.4773339065268183 and parameters: {'n_layers': 1, 'layer_0': 61, 'activation': 'logistic', 'solver': 'lbfgs', 'alpha': 3.9187015348362503e-05, 'learning_rate_init': 0.010477544592550347}. Best is trial 6 with value: 0.500928287865207.\n"
     ]
    },
    {
     "name": "stdout",
     "output_type": "stream",
     "text": [
      "Cross validation scores: [0.47635241 0.48164364 0.47632501 0.47602345 0.47632501]\n",
      "Average score: 0.4773339065268183\n"
     ]
    },
    {
     "name": "stderr",
     "output_type": "stream",
     "text": [
      "d:\\VSCode_Workspaces\\unibs_mldm_diabetes\\.venv\\Lib\\site-packages\\sklearn\\neural_network\\_multilayer_perceptron.py:545: ConvergenceWarning: lbfgs failed to converge (status=1):\n",
      "STOP: TOTAL NO. of ITERATIONS REACHED LIMIT.\n",
      "\n",
      "Increase the number of iterations (max_iter) or scale the data as shown in:\n",
      "    https://scikit-learn.org/stable/modules/preprocessing.html\n",
      "  self.n_iter_ = _check_optimize_result(\"lbfgs\", opt_res, self.max_iter)\n"
     ]
    },
    {
     "name": "stdout",
     "output_type": "stream",
     "text": [
      "Cross validation scores: [0.47635241 0.47635241 0.47632501 0.47632501 0.47632501]\n",
      "Average score: 0.47633597337075617\n"
     ]
    },
    {
     "name": "stderr",
     "output_type": "stream",
     "text": [
      "[I 2025-01-12 22:16:28,855] Trial 18 finished with value: 0.47633597337075617 and parameters: {'n_layers': 2, 'layer_0': 79, 'layer_1': 100, 'activation': 'relu', 'solver': 'adam', 'alpha': 0.00034699843927528385, 'learning_rate_init': 0.08663515706135477}. Best is trial 6 with value: 0.500928287865207.\n",
      "d:\\VSCode_Workspaces\\unibs_mldm_diabetes\\.venv\\Lib\\site-packages\\sklearn\\neural_network\\_multilayer_perceptron.py:545: ConvergenceWarning: lbfgs failed to converge (status=1):\n",
      "STOP: TOTAL NO. of ITERATIONS REACHED LIMIT.\n",
      "\n",
      "Increase the number of iterations (max_iter) or scale the data as shown in:\n",
      "    https://scikit-learn.org/stable/modules/preprocessing.html\n",
      "  self.n_iter_ = _check_optimize_result(\"lbfgs\", opt_res, self.max_iter)\n",
      "d:\\VSCode_Workspaces\\unibs_mldm_diabetes\\.venv\\Lib\\site-packages\\sklearn\\neural_network\\_multilayer_perceptron.py:545: ConvergenceWarning: lbfgs failed to converge (status=1):\n",
      "STOP: TOTAL NO. of ITERATIONS REACHED LIMIT.\n",
      "\n",
      "Increase the number of iterations (max_iter) or scale the data as shown in:\n",
      "    https://scikit-learn.org/stable/modules/preprocessing.html\n",
      "  self.n_iter_ = _check_optimize_result(\"lbfgs\", opt_res, self.max_iter)\n",
      "d:\\VSCode_Workspaces\\unibs_mldm_diabetes\\.venv\\Lib\\site-packages\\sklearn\\neural_network\\_multilayer_perceptron.py:545: ConvergenceWarning: lbfgs failed to converge (status=1):\n",
      "STOP: TOTAL NO. of ITERATIONS REACHED LIMIT.\n",
      "\n",
      "Increase the number of iterations (max_iter) or scale the data as shown in:\n",
      "    https://scikit-learn.org/stable/modules/preprocessing.html\n",
      "  self.n_iter_ = _check_optimize_result(\"lbfgs\", opt_res, self.max_iter)\n",
      "d:\\VSCode_Workspaces\\unibs_mldm_diabetes\\.venv\\Lib\\site-packages\\sklearn\\neural_network\\_multilayer_perceptron.py:545: ConvergenceWarning: lbfgs failed to converge (status=1):\n",
      "STOP: TOTAL NO. of ITERATIONS REACHED LIMIT.\n",
      "\n",
      "Increase the number of iterations (max_iter) or scale the data as shown in:\n",
      "    https://scikit-learn.org/stable/modules/preprocessing.html\n",
      "  self.n_iter_ = _check_optimize_result(\"lbfgs\", opt_res, self.max_iter)\n",
      "d:\\VSCode_Workspaces\\unibs_mldm_diabetes\\.venv\\Lib\\site-packages\\sklearn\\neural_network\\_multilayer_perceptron.py:545: ConvergenceWarning: lbfgs failed to converge (status=1):\n",
      "STOP: TOTAL NO. of ITERATIONS REACHED LIMIT.\n",
      "\n",
      "Increase the number of iterations (max_iter) or scale the data as shown in:\n",
      "    https://scikit-learn.org/stable/modules/preprocessing.html\n",
      "  self.n_iter_ = _check_optimize_result(\"lbfgs\", opt_res, self.max_iter)\n",
      "d:\\VSCode_Workspaces\\unibs_mldm_diabetes\\.venv\\Lib\\site-packages\\sklearn\\neural_network\\_multilayer_perceptron.py:545: ConvergenceWarning: lbfgs failed to converge (status=1):\n",
      "STOP: TOTAL NO. of ITERATIONS REACHED LIMIT.\n",
      "\n",
      "Increase the number of iterations (max_iter) or scale the data as shown in:\n",
      "    https://scikit-learn.org/stable/modules/preprocessing.html\n",
      "  self.n_iter_ = _check_optimize_result(\"lbfgs\", opt_res, self.max_iter)\n",
      "d:\\VSCode_Workspaces\\unibs_mldm_diabetes\\.venv\\Lib\\site-packages\\sklearn\\neural_network\\_multilayer_perceptron.py:545: ConvergenceWarning: lbfgs failed to converge (status=1):\n",
      "STOP: TOTAL NO. of ITERATIONS REACHED LIMIT.\n",
      "\n",
      "Increase the number of iterations (max_iter) or scale the data as shown in:\n",
      "    https://scikit-learn.org/stable/modules/preprocessing.html\n",
      "  self.n_iter_ = _check_optimize_result(\"lbfgs\", opt_res, self.max_iter)\n",
      "d:\\VSCode_Workspaces\\unibs_mldm_diabetes\\.venv\\Lib\\site-packages\\sklearn\\neural_network\\_multilayer_perceptron.py:545: ConvergenceWarning: lbfgs failed to converge (status=1):\n",
      "STOP: TOTAL NO. of ITERATIONS REACHED LIMIT.\n",
      "\n",
      "Increase the number of iterations (max_iter) or scale the data as shown in:\n",
      "    https://scikit-learn.org/stable/modules/preprocessing.html\n",
      "  self.n_iter_ = _check_optimize_result(\"lbfgs\", opt_res, self.max_iter)\n",
      "d:\\VSCode_Workspaces\\unibs_mldm_diabetes\\.venv\\Lib\\site-packages\\sklearn\\neural_network\\_multilayer_perceptron.py:545: ConvergenceWarning: lbfgs failed to converge (status=1):\n",
      "STOP: TOTAL NO. of ITERATIONS REACHED LIMIT.\n",
      "\n",
      "Increase the number of iterations (max_iter) or scale the data as shown in:\n",
      "    https://scikit-learn.org/stable/modules/preprocessing.html\n",
      "  self.n_iter_ = _check_optimize_result(\"lbfgs\", opt_res, self.max_iter)\n"
     ]
    },
    {
     "name": "stdout",
     "output_type": "stream",
     "text": [
      "Cross validation scores: [0.49791283 0.51973655 0.51800776 0.51364347 0.49920404]\n",
      "Average score: 0.50970093110412\n"
     ]
    },
    {
     "name": "stderr",
     "output_type": "stream",
     "text": [
      "[I 2025-01-12 22:24:52,022] Trial 7 finished with value: 0.50970093110412 and parameters: {'n_layers': 3, 'layer_0': 51, 'layer_1': 33, 'layer_2': 71, 'activation': 'relu', 'solver': 'adam', 'alpha': 0.0013525619221662574, 'learning_rate_init': 0.0020796050226414187}. Best is trial 7 with value: 0.50970093110412.\n",
      "d:\\VSCode_Workspaces\\unibs_mldm_diabetes\\.venv\\Lib\\site-packages\\sklearn\\neural_network\\_multilayer_perceptron.py:545: ConvergenceWarning: lbfgs failed to converge (status=1):\n",
      "STOP: TOTAL NO. of ITERATIONS REACHED LIMIT.\n",
      "\n",
      "Increase the number of iterations (max_iter) or scale the data as shown in:\n",
      "    https://scikit-learn.org/stable/modules/preprocessing.html\n",
      "  self.n_iter_ = _check_optimize_result(\"lbfgs\", opt_res, self.max_iter)\n",
      "d:\\VSCode_Workspaces\\unibs_mldm_diabetes\\.venv\\Lib\\site-packages\\sklearn\\neural_network\\_multilayer_perceptron.py:545: ConvergenceWarning: lbfgs failed to converge (status=1):\n",
      "STOP: TOTAL NO. of ITERATIONS REACHED LIMIT.\n",
      "\n",
      "Increase the number of iterations (max_iter) or scale the data as shown in:\n",
      "    https://scikit-learn.org/stable/modules/preprocessing.html\n",
      "  self.n_iter_ = _check_optimize_result(\"lbfgs\", opt_res, self.max_iter)\n",
      "[I 2025-01-12 22:25:33,068] Trial 21 finished with value: 0.4909792830182121 and parameters: {'n_layers': 3, 'layer_0': 74, 'layer_1': 18, 'layer_2': 100, 'activation': 'relu', 'solver': 'lbfgs', 'alpha': 0.0001768381079181778, 'learning_rate_init': 0.0004889545070025314}. Best is trial 7 with value: 0.50970093110412.\n"
     ]
    },
    {
     "name": "stdout",
     "output_type": "stream",
     "text": [
      "Cross validation scores: [0.49412919 0.49068144 0.49433368 0.4882374  0.4875147 ]\n",
      "Average score: 0.4909792830182121\n"
     ]
    },
    {
     "name": "stderr",
     "output_type": "stream",
     "text": [
      "d:\\VSCode_Workspaces\\unibs_mldm_diabetes\\.venv\\Lib\\site-packages\\sklearn\\neural_network\\_multilayer_perceptron.py:545: ConvergenceWarning: lbfgs failed to converge (status=1):\n",
      "STOP: TOTAL NO. of ITERATIONS REACHED LIMIT.\n",
      "\n",
      "Increase the number of iterations (max_iter) or scale the data as shown in:\n",
      "    https://scikit-learn.org/stable/modules/preprocessing.html\n",
      "  self.n_iter_ = _check_optimize_result(\"lbfgs\", opt_res, self.max_iter)\n",
      "d:\\VSCode_Workspaces\\unibs_mldm_diabetes\\.venv\\Lib\\site-packages\\sklearn\\neural_network\\_multilayer_perceptron.py:545: ConvergenceWarning: lbfgs failed to converge (status=1):\n",
      "STOP: TOTAL NO. of ITERATIONS REACHED LIMIT.\n",
      "\n",
      "Increase the number of iterations (max_iter) or scale the data as shown in:\n",
      "    https://scikit-learn.org/stable/modules/preprocessing.html\n",
      "  self.n_iter_ = _check_optimize_result(\"lbfgs\", opt_res, self.max_iter)\n",
      "d:\\VSCode_Workspaces\\unibs_mldm_diabetes\\.venv\\Lib\\site-packages\\sklearn\\neural_network\\_multilayer_perceptron.py:545: ConvergenceWarning: lbfgs failed to converge (status=1):\n",
      "STOP: TOTAL NO. of ITERATIONS REACHED LIMIT.\n",
      "\n",
      "Increase the number of iterations (max_iter) or scale the data as shown in:\n",
      "    https://scikit-learn.org/stable/modules/preprocessing.html\n",
      "  self.n_iter_ = _check_optimize_result(\"lbfgs\", opt_res, self.max_iter)\n",
      "d:\\VSCode_Workspaces\\unibs_mldm_diabetes\\.venv\\Lib\\site-packages\\sklearn\\neural_network\\_multilayer_perceptron.py:545: ConvergenceWarning: lbfgs failed to converge (status=1):\n",
      "STOP: TOTAL NO. of ITERATIONS REACHED LIMIT.\n",
      "\n",
      "Increase the number of iterations (max_iter) or scale the data as shown in:\n",
      "    https://scikit-learn.org/stable/modules/preprocessing.html\n",
      "  self.n_iter_ = _check_optimize_result(\"lbfgs\", opt_res, self.max_iter)\n"
     ]
    },
    {
     "name": "stdout",
     "output_type": "stream",
     "text": [
      "Cross validation scores: [0.50295559 0.50538231 0.4991877  0.50043208 0.5075916 ]\n",
      "Average score: 0.5031098564788795\n"
     ]
    },
    {
     "name": "stderr",
     "output_type": "stream",
     "text": [
      "[I 2025-01-12 22:28:39,752] Trial 20 finished with value: 0.5031098564788795 and parameters: {'n_layers': 3, 'layer_0': 24, 'layer_1': 50, 'layer_2': 96, 'activation': 'tanh', 'solver': 'lbfgs', 'alpha': 1.6848419935374372e-05, 'learning_rate_init': 0.001501710695546471}. Best is trial 7 with value: 0.50970093110412.\n",
      "d:\\VSCode_Workspaces\\unibs_mldm_diabetes\\.venv\\Lib\\site-packages\\sklearn\\neural_network\\_multilayer_perceptron.py:545: ConvergenceWarning: lbfgs failed to converge (status=1):\n",
      "STOP: TOTAL NO. of ITERATIONS REACHED LIMIT.\n",
      "\n",
      "Increase the number of iterations (max_iter) or scale the data as shown in:\n",
      "    https://scikit-learn.org/stable/modules/preprocessing.html\n",
      "  self.n_iter_ = _check_optimize_result(\"lbfgs\", opt_res, self.max_iter)\n",
      "[I 2025-01-12 22:29:01,491] Trial 22 finished with value: 0.49399455515510393 and parameters: {'n_layers': 3, 'layer_0': 98, 'layer_1': 26, 'layer_2': 60, 'activation': 'relu', 'solver': 'lbfgs', 'alpha': 0.001734012100250254, 'learning_rate_init': 0.008550432166159}. Best is trial 7 with value: 0.50970093110412.\n"
     ]
    },
    {
     "name": "stdout",
     "output_type": "stream",
     "text": [
      "Cross validation scores: [0.49876318 0.50120012 0.48848228 0.4928696  0.4886576 ]\n",
      "Average score: 0.49399455515510393\n"
     ]
    },
    {
     "name": "stderr",
     "output_type": "stream",
     "text": [
      "d:\\VSCode_Workspaces\\unibs_mldm_diabetes\\.venv\\Lib\\site-packages\\sklearn\\neural_network\\_multilayer_perceptron.py:545: ConvergenceWarning: lbfgs failed to converge (status=1):\n",
      "STOP: TOTAL NO. of ITERATIONS REACHED LIMIT.\n",
      "\n",
      "Increase the number of iterations (max_iter) or scale the data as shown in:\n",
      "    https://scikit-learn.org/stable/modules/preprocessing.html\n",
      "  self.n_iter_ = _check_optimize_result(\"lbfgs\", opt_res, self.max_iter)\n",
      "d:\\VSCode_Workspaces\\unibs_mldm_diabetes\\.venv\\Lib\\site-packages\\sklearn\\neural_network\\_multilayer_perceptron.py:545: ConvergenceWarning: lbfgs failed to converge (status=1):\n",
      "STOP: TOTAL NO. of ITERATIONS REACHED LIMIT.\n",
      "\n",
      "Increase the number of iterations (max_iter) or scale the data as shown in:\n",
      "    https://scikit-learn.org/stable/modules/preprocessing.html\n",
      "  self.n_iter_ = _check_optimize_result(\"lbfgs\", opt_res, self.max_iter)\n",
      "d:\\VSCode_Workspaces\\unibs_mldm_diabetes\\.venv\\Lib\\site-packages\\sklearn\\neural_network\\_multilayer_perceptron.py:545: ConvergenceWarning: lbfgs failed to converge (status=1):\n",
      "STOP: TOTAL NO. of ITERATIONS REACHED LIMIT.\n",
      "\n",
      "Increase the number of iterations (max_iter) or scale the data as shown in:\n",
      "    https://scikit-learn.org/stable/modules/preprocessing.html\n",
      "  self.n_iter_ = _check_optimize_result(\"lbfgs\", opt_res, self.max_iter)\n",
      "d:\\VSCode_Workspaces\\unibs_mldm_diabetes\\.venv\\Lib\\site-packages\\sklearn\\neural_network\\_multilayer_perceptron.py:545: ConvergenceWarning: lbfgs failed to converge (status=1):\n",
      "STOP: TOTAL NO. of ITERATIONS REACHED LIMIT.\n",
      "\n",
      "Increase the number of iterations (max_iter) or scale the data as shown in:\n",
      "    https://scikit-learn.org/stable/modules/preprocessing.html\n",
      "  self.n_iter_ = _check_optimize_result(\"lbfgs\", opt_res, self.max_iter)\n",
      "d:\\VSCode_Workspaces\\unibs_mldm_diabetes\\.venv\\Lib\\site-packages\\sklearn\\neural_network\\_multilayer_perceptron.py:545: ConvergenceWarning: lbfgs failed to converge (status=1):\n",
      "STOP: TOTAL NO. of ITERATIONS REACHED LIMIT.\n",
      "\n",
      "Increase the number of iterations (max_iter) or scale the data as shown in:\n",
      "    https://scikit-learn.org/stable/modules/preprocessing.html\n",
      "  self.n_iter_ = _check_optimize_result(\"lbfgs\", opt_res, self.max_iter)\n",
      "d:\\VSCode_Workspaces\\unibs_mldm_diabetes\\.venv\\Lib\\site-packages\\sklearn\\neural_network\\_multilayer_perceptron.py:545: ConvergenceWarning: lbfgs failed to converge (status=1):\n",
      "STOP: TOTAL NO. of ITERATIONS REACHED LIMIT.\n",
      "\n",
      "Increase the number of iterations (max_iter) or scale the data as shown in:\n",
      "    https://scikit-learn.org/stable/modules/preprocessing.html\n",
      "  self.n_iter_ = _check_optimize_result(\"lbfgs\", opt_res, self.max_iter)\n",
      "d:\\VSCode_Workspaces\\unibs_mldm_diabetes\\.venv\\Lib\\site-packages\\sklearn\\neural_network\\_multilayer_perceptron.py:545: ConvergenceWarning: lbfgs failed to converge (status=1):\n",
      "STOP: TOTAL NO. of ITERATIONS REACHED LIMIT.\n",
      "\n",
      "Increase the number of iterations (max_iter) or scale the data as shown in:\n",
      "    https://scikit-learn.org/stable/modules/preprocessing.html\n",
      "  self.n_iter_ = _check_optimize_result(\"lbfgs\", opt_res, self.max_iter)\n",
      "d:\\VSCode_Workspaces\\unibs_mldm_diabetes\\.venv\\Lib\\site-packages\\sklearn\\neural_network\\_multilayer_perceptron.py:545: ConvergenceWarning: lbfgs failed to converge (status=1):\n",
      "STOP: TOTAL NO. of ITERATIONS REACHED LIMIT.\n",
      "\n",
      "Increase the number of iterations (max_iter) or scale the data as shown in:\n",
      "    https://scikit-learn.org/stable/modules/preprocessing.html\n",
      "  self.n_iter_ = _check_optimize_result(\"lbfgs\", opt_res, self.max_iter)\n",
      "d:\\VSCode_Workspaces\\unibs_mldm_diabetes\\.venv\\Lib\\site-packages\\sklearn\\neural_network\\_multilayer_perceptron.py:545: ConvergenceWarning: lbfgs failed to converge (status=1):\n",
      "STOP: TOTAL NO. of ITERATIONS REACHED LIMIT.\n",
      "\n",
      "Increase the number of iterations (max_iter) or scale the data as shown in:\n",
      "    https://scikit-learn.org/stable/modules/preprocessing.html\n",
      "  self.n_iter_ = _check_optimize_result(\"lbfgs\", opt_res, self.max_iter)\n",
      "d:\\VSCode_Workspaces\\unibs_mldm_diabetes\\.venv\\Lib\\site-packages\\sklearn\\neural_network\\_multilayer_perceptron.py:545: ConvergenceWarning: lbfgs failed to converge (status=1):\n",
      "STOP: TOTAL NO. of ITERATIONS REACHED LIMIT.\n",
      "\n",
      "Increase the number of iterations (max_iter) or scale the data as shown in:\n",
      "    https://scikit-learn.org/stable/modules/preprocessing.html\n",
      "  self.n_iter_ = _check_optimize_result(\"lbfgs\", opt_res, self.max_iter)\n",
      "d:\\VSCode_Workspaces\\unibs_mldm_diabetes\\.venv\\Lib\\site-packages\\sklearn\\neural_network\\_multilayer_perceptron.py:545: ConvergenceWarning: lbfgs failed to converge (status=1):\n",
      "STOP: TOTAL NO. of ITERATIONS REACHED LIMIT.\n",
      "\n",
      "Increase the number of iterations (max_iter) or scale the data as shown in:\n",
      "    https://scikit-learn.org/stable/modules/preprocessing.html\n",
      "  self.n_iter_ = _check_optimize_result(\"lbfgs\", opt_res, self.max_iter)\n",
      "d:\\VSCode_Workspaces\\unibs_mldm_diabetes\\.venv\\Lib\\site-packages\\sklearn\\neural_network\\_multilayer_perceptron.py:690: ConvergenceWarning: Stochastic Optimizer: Maximum iterations (500) reached and the optimization hasn't converged yet.\n",
      "  warnings.warn(\n",
      "d:\\VSCode_Workspaces\\unibs_mldm_diabetes\\.venv\\Lib\\site-packages\\sklearn\\neural_network\\_multilayer_perceptron.py:545: ConvergenceWarning: lbfgs failed to converge (status=1):\n",
      "STOP: TOTAL NO. of ITERATIONS REACHED LIMIT.\n",
      "\n",
      "Increase the number of iterations (max_iter) or scale the data as shown in:\n",
      "    https://scikit-learn.org/stable/modules/preprocessing.html\n",
      "  self.n_iter_ = _check_optimize_result(\"lbfgs\", opt_res, self.max_iter)\n",
      "d:\\VSCode_Workspaces\\unibs_mldm_diabetes\\.venv\\Lib\\site-packages\\sklearn\\neural_network\\_multilayer_perceptron.py:545: ConvergenceWarning: lbfgs failed to converge (status=1):\n",
      "STOP: TOTAL NO. of ITERATIONS REACHED LIMIT.\n",
      "\n",
      "Increase the number of iterations (max_iter) or scale the data as shown in:\n",
      "    https://scikit-learn.org/stable/modules/preprocessing.html\n",
      "  self.n_iter_ = _check_optimize_result(\"lbfgs\", opt_res, self.max_iter)\n",
      "d:\\VSCode_Workspaces\\unibs_mldm_diabetes\\.venv\\Lib\\site-packages\\sklearn\\neural_network\\_multilayer_perceptron.py:545: ConvergenceWarning: lbfgs failed to converge (status=1):\n",
      "STOP: TOTAL NO. of ITERATIONS REACHED LIMIT.\n",
      "\n",
      "Increase the number of iterations (max_iter) or scale the data as shown in:\n",
      "    https://scikit-learn.org/stable/modules/preprocessing.html\n",
      "  self.n_iter_ = _check_optimize_result(\"lbfgs\", opt_res, self.max_iter)\n"
     ]
    },
    {
     "name": "stdout",
     "output_type": "stream",
     "text": [
      "Cross validation scores: [0.50128483 0.50550759 0.50499422 0.50861728 0.49842549]\n",
      "Average score: 0.5037658821705019\n"
     ]
    },
    {
     "name": "stderr",
     "output_type": "stream",
     "text": [
      "[I 2025-01-12 22:38:14,807] Trial 24 finished with value: 0.5037658821705019 and parameters: {'n_layers': 3, 'layer_0': 32, 'layer_1': 57, 'layer_2': 76, 'activation': 'relu', 'solver': 'lbfgs', 'alpha': 0.01850035206506752, 'learning_rate_init': 0.0030753652152603226}. Best is trial 7 with value: 0.50970093110412.\n",
      "d:\\VSCode_Workspaces\\unibs_mldm_diabetes\\.venv\\Lib\\site-packages\\sklearn\\neural_network\\_multilayer_perceptron.py:545: ConvergenceWarning: lbfgs failed to converge (status=1):\n",
      "STOP: TOTAL NO. of ITERATIONS REACHED LIMIT.\n",
      "\n",
      "Increase the number of iterations (max_iter) or scale the data as shown in:\n",
      "    https://scikit-learn.org/stable/modules/preprocessing.html\n",
      "  self.n_iter_ = _check_optimize_result(\"lbfgs\", opt_res, self.max_iter)\n"
     ]
    },
    {
     "name": "stdout",
     "output_type": "stream",
     "text": [
      "Cross validation scores: [0.51884253 0.52019023 0.51193938 0.51264594 0.50491547]\n",
      "Average score: 0.5137067105345675\n"
     ]
    },
    {
     "name": "stderr",
     "output_type": "stream",
     "text": [
      "[I 2025-01-12 22:39:25,108] Trial 23 finished with value: 0.5137067105345675 and parameters: {'n_layers': 3, 'layer_0': 48, 'layer_1': 26, 'layer_2': 71, 'activation': 'tanh', 'solver': 'lbfgs', 'alpha': 0.0028018706605933046, 'learning_rate_init': 0.0022823692593345623}. Best is trial 23 with value: 0.5137067105345675.\n",
      "d:\\VSCode_Workspaces\\unibs_mldm_diabetes\\.venv\\Lib\\site-packages\\sklearn\\neural_network\\_multilayer_perceptron.py:545: ConvergenceWarning: lbfgs failed to converge (status=1):\n",
      "STOP: TOTAL NO. of ITERATIONS REACHED LIMIT.\n",
      "\n",
      "Increase the number of iterations (max_iter) or scale the data as shown in:\n",
      "    https://scikit-learn.org/stable/modules/preprocessing.html\n",
      "  self.n_iter_ = _check_optimize_result(\"lbfgs\", opt_res, self.max_iter)\n",
      "[I 2025-01-12 22:39:57,791] Trial 25 finished with value: 0.5097974573795602 and parameters: {'n_layers': 3, 'layer_0': 26, 'layer_1': 27, 'layer_2': 41, 'activation': 'tanh', 'solver': 'lbfgs', 'alpha': 1.255339073333527e-05, 'learning_rate_init': 0.0014717255730058278}. Best is trial 23 with value: 0.5137067105345675.\n"
     ]
    },
    {
     "name": "stdout",
     "output_type": "stream",
     "text": [
      "Cross validation scores: [0.49949461 0.51128366 0.50736615 0.50908573 0.52175714]\n",
      "Average score: 0.5097974573795602\n"
     ]
    },
    {
     "name": "stderr",
     "output_type": "stream",
     "text": [
      "d:\\VSCode_Workspaces\\unibs_mldm_diabetes\\.venv\\Lib\\site-packages\\sklearn\\neural_network\\_multilayer_perceptron.py:545: ConvergenceWarning: lbfgs failed to converge (status=1):\n",
      "STOP: TOTAL NO. of ITERATIONS REACHED LIMIT.\n",
      "\n",
      "Increase the number of iterations (max_iter) or scale the data as shown in:\n",
      "    https://scikit-learn.org/stable/modules/preprocessing.html\n",
      "  self.n_iter_ = _check_optimize_result(\"lbfgs\", opt_res, self.max_iter)\n",
      "d:\\VSCode_Workspaces\\unibs_mldm_diabetes\\.venv\\Lib\\site-packages\\sklearn\\neural_network\\_multilayer_perceptron.py:545: ConvergenceWarning: lbfgs failed to converge (status=1):\n",
      "STOP: TOTAL NO. of ITERATIONS REACHED LIMIT.\n",
      "\n",
      "Increase the number of iterations (max_iter) or scale the data as shown in:\n",
      "    https://scikit-learn.org/stable/modules/preprocessing.html\n",
      "  self.n_iter_ = _check_optimize_result(\"lbfgs\", opt_res, self.max_iter)\n",
      "d:\\VSCode_Workspaces\\unibs_mldm_diabetes\\.venv\\Lib\\site-packages\\sklearn\\neural_network\\_multilayer_perceptron.py:545: ConvergenceWarning: lbfgs failed to converge (status=1):\n",
      "STOP: TOTAL NO. of ITERATIONS REACHED LIMIT.\n",
      "\n",
      "Increase the number of iterations (max_iter) or scale the data as shown in:\n",
      "    https://scikit-learn.org/stable/modules/preprocessing.html\n",
      "  self.n_iter_ = _check_optimize_result(\"lbfgs\", opt_res, self.max_iter)\n",
      "d:\\VSCode_Workspaces\\unibs_mldm_diabetes\\.venv\\Lib\\site-packages\\sklearn\\neural_network\\_multilayer_perceptron.py:545: ConvergenceWarning: lbfgs failed to converge (status=1):\n",
      "STOP: TOTAL NO. of ITERATIONS REACHED LIMIT.\n",
      "\n",
      "Increase the number of iterations (max_iter) or scale the data as shown in:\n",
      "    https://scikit-learn.org/stable/modules/preprocessing.html\n",
      "  self.n_iter_ = _check_optimize_result(\"lbfgs\", opt_res, self.max_iter)\n",
      "d:\\VSCode_Workspaces\\unibs_mldm_diabetes\\.venv\\Lib\\site-packages\\sklearn\\neural_network\\_multilayer_perceptron.py:545: ConvergenceWarning: lbfgs failed to converge (status=1):\n",
      "STOP: TOTAL NO. of ITERATIONS REACHED LIMIT.\n",
      "\n",
      "Increase the number of iterations (max_iter) or scale the data as shown in:\n",
      "    https://scikit-learn.org/stable/modules/preprocessing.html\n",
      "  self.n_iter_ = _check_optimize_result(\"lbfgs\", opt_res, self.max_iter)\n",
      "d:\\VSCode_Workspaces\\unibs_mldm_diabetes\\.venv\\Lib\\site-packages\\sklearn\\neural_network\\_multilayer_perceptron.py:545: ConvergenceWarning: lbfgs failed to converge (status=1):\n",
      "STOP: TOTAL NO. of ITERATIONS REACHED LIMIT.\n",
      "\n",
      "Increase the number of iterations (max_iter) or scale the data as shown in:\n",
      "    https://scikit-learn.org/stable/modules/preprocessing.html\n",
      "  self.n_iter_ = _check_optimize_result(\"lbfgs\", opt_res, self.max_iter)\n"
     ]
    },
    {
     "name": "stdout",
     "output_type": "stream",
     "text": [
      "Cross validation scores: [0.50460628 0.51624815 0.51248788 0.51248435 0.50896554]\n",
      "Average score: 0.5109584427301971\n"
     ]
    },
    {
     "name": "stderr",
     "output_type": "stream",
     "text": [
      "[I 2025-01-12 22:44:11,343] Trial 26 finished with value: 0.5109584427301971 and parameters: {'n_layers': 3, 'layer_0': 22, 'layer_1': 47, 'layer_2': 97, 'activation': 'tanh', 'solver': 'lbfgs', 'alpha': 2.55362458361675e-05, 'learning_rate_init': 0.00045732840298292726}. Best is trial 23 with value: 0.5137067105345675.\n",
      "d:\\VSCode_Workspaces\\unibs_mldm_diabetes\\.venv\\Lib\\site-packages\\sklearn\\neural_network\\_multilayer_perceptron.py:545: ConvergenceWarning: lbfgs failed to converge (status=1):\n",
      "STOP: TOTAL NO. of ITERATIONS REACHED LIMIT.\n",
      "\n",
      "Increase the number of iterations (max_iter) or scale the data as shown in:\n",
      "    https://scikit-learn.org/stable/modules/preprocessing.html\n",
      "  self.n_iter_ = _check_optimize_result(\"lbfgs\", opt_res, self.max_iter)\n",
      "d:\\VSCode_Workspaces\\unibs_mldm_diabetes\\.venv\\Lib\\site-packages\\sklearn\\neural_network\\_multilayer_perceptron.py:545: ConvergenceWarning: lbfgs failed to converge (status=1):\n",
      "STOP: TOTAL NO. of ITERATIONS REACHED LIMIT.\n",
      "\n",
      "Increase the number of iterations (max_iter) or scale the data as shown in:\n",
      "    https://scikit-learn.org/stable/modules/preprocessing.html\n",
      "  self.n_iter_ = _check_optimize_result(\"lbfgs\", opt_res, self.max_iter)\n",
      "d:\\VSCode_Workspaces\\unibs_mldm_diabetes\\.venv\\Lib\\site-packages\\sklearn\\neural_network\\_multilayer_perceptron.py:545: ConvergenceWarning: lbfgs failed to converge (status=1):\n",
      "STOP: TOTAL NO. of ITERATIONS REACHED LIMIT.\n",
      "\n",
      "Increase the number of iterations (max_iter) or scale the data as shown in:\n",
      "    https://scikit-learn.org/stable/modules/preprocessing.html\n",
      "  self.n_iter_ = _check_optimize_result(\"lbfgs\", opt_res, self.max_iter)\n",
      "d:\\VSCode_Workspaces\\unibs_mldm_diabetes\\.venv\\Lib\\site-packages\\sklearn\\neural_network\\_multilayer_perceptron.py:545: ConvergenceWarning: lbfgs failed to converge (status=1):\n",
      "STOP: TOTAL NO. of ITERATIONS REACHED LIMIT.\n",
      "\n",
      "Increase the number of iterations (max_iter) or scale the data as shown in:\n",
      "    https://scikit-learn.org/stable/modules/preprocessing.html\n",
      "  self.n_iter_ = _check_optimize_result(\"lbfgs\", opt_res, self.max_iter)\n",
      "d:\\VSCode_Workspaces\\unibs_mldm_diabetes\\.venv\\Lib\\site-packages\\sklearn\\neural_network\\_multilayer_perceptron.py:545: ConvergenceWarning: lbfgs failed to converge (status=1):\n",
      "STOP: TOTAL NO. of ITERATIONS REACHED LIMIT.\n",
      "\n",
      "Increase the number of iterations (max_iter) or scale the data as shown in:\n",
      "    https://scikit-learn.org/stable/modules/preprocessing.html\n",
      "  self.n_iter_ = _check_optimize_result(\"lbfgs\", opt_res, self.max_iter)\n",
      "d:\\VSCode_Workspaces\\unibs_mldm_diabetes\\.venv\\Lib\\site-packages\\sklearn\\neural_network\\_multilayer_perceptron.py:545: ConvergenceWarning: lbfgs failed to converge (status=1):\n",
      "STOP: TOTAL NO. of ITERATIONS REACHED LIMIT.\n",
      "\n",
      "Increase the number of iterations (max_iter) or scale the data as shown in:\n",
      "    https://scikit-learn.org/stable/modules/preprocessing.html\n",
      "  self.n_iter_ = _check_optimize_result(\"lbfgs\", opt_res, self.max_iter)\n",
      "d:\\VSCode_Workspaces\\unibs_mldm_diabetes\\.venv\\Lib\\site-packages\\sklearn\\neural_network\\_multilayer_perceptron.py:545: ConvergenceWarning: lbfgs failed to converge (status=1):\n",
      "STOP: TOTAL NO. of ITERATIONS REACHED LIMIT.\n",
      "\n",
      "Increase the number of iterations (max_iter) or scale the data as shown in:\n",
      "    https://scikit-learn.org/stable/modules/preprocessing.html\n",
      "  self.n_iter_ = _check_optimize_result(\"lbfgs\", opt_res, self.max_iter)\n",
      "d:\\VSCode_Workspaces\\unibs_mldm_diabetes\\.venv\\Lib\\site-packages\\sklearn\\neural_network\\_multilayer_perceptron.py:545: ConvergenceWarning: lbfgs failed to converge (status=1):\n",
      "STOP: TOTAL NO. of ITERATIONS REACHED LIMIT.\n",
      "\n",
      "Increase the number of iterations (max_iter) or scale the data as shown in:\n",
      "    https://scikit-learn.org/stable/modules/preprocessing.html\n",
      "  self.n_iter_ = _check_optimize_result(\"lbfgs\", opt_res, self.max_iter)\n",
      "d:\\VSCode_Workspaces\\unibs_mldm_diabetes\\.venv\\Lib\\site-packages\\sklearn\\neural_network\\_multilayer_perceptron.py:545: ConvergenceWarning: lbfgs failed to converge (status=1):\n",
      "STOP: TOTAL NO. of ITERATIONS REACHED LIMIT.\n",
      "\n",
      "Increase the number of iterations (max_iter) or scale the data as shown in:\n",
      "    https://scikit-learn.org/stable/modules/preprocessing.html\n",
      "  self.n_iter_ = _check_optimize_result(\"lbfgs\", opt_res, self.max_iter)\n"
     ]
    },
    {
     "name": "stdout",
     "output_type": "stream",
     "text": [
      "Cross validation scores: [0.51292701 0.50314575 0.49541261 0.49971119 0.50000285]\n",
      "Average score: 0.5022398801445461\n"
     ]
    },
    {
     "name": "stderr",
     "output_type": "stream",
     "text": [
      "[I 2025-01-12 22:49:13,180] Trial 29 finished with value: 0.5022398801445461 and parameters: {'n_layers': 3, 'layer_0': 48, 'layer_1': 10, 'layer_2': 33, 'activation': 'tanh', 'solver': 'lbfgs', 'alpha': 0.0007630983274736808, 'learning_rate_init': 0.0017660107017530107}. Best is trial 23 with value: 0.5137067105345675.\n",
      "d:\\VSCode_Workspaces\\unibs_mldm_diabetes\\.venv\\Lib\\site-packages\\sklearn\\neural_network\\_multilayer_perceptron.py:545: ConvergenceWarning: lbfgs failed to converge (status=1):\n",
      "STOP: TOTAL NO. of ITERATIONS REACHED LIMIT.\n",
      "\n",
      "Increase the number of iterations (max_iter) or scale the data as shown in:\n",
      "    https://scikit-learn.org/stable/modules/preprocessing.html\n",
      "  self.n_iter_ = _check_optimize_result(\"lbfgs\", opt_res, self.max_iter)\n",
      "d:\\VSCode_Workspaces\\unibs_mldm_diabetes\\.venv\\Lib\\site-packages\\sklearn\\neural_network\\_multilayer_perceptron.py:545: ConvergenceWarning: lbfgs failed to converge (status=1):\n",
      "STOP: TOTAL NO. of ITERATIONS REACHED LIMIT.\n",
      "\n",
      "Increase the number of iterations (max_iter) or scale the data as shown in:\n",
      "    https://scikit-learn.org/stable/modules/preprocessing.html\n",
      "  self.n_iter_ = _check_optimize_result(\"lbfgs\", opt_res, self.max_iter)\n",
      "d:\\VSCode_Workspaces\\unibs_mldm_diabetes\\.venv\\Lib\\site-packages\\sklearn\\neural_network\\_multilayer_perceptron.py:545: ConvergenceWarning: lbfgs failed to converge (status=1):\n",
      "STOP: TOTAL NO. of ITERATIONS REACHED LIMIT.\n",
      "\n",
      "Increase the number of iterations (max_iter) or scale the data as shown in:\n",
      "    https://scikit-learn.org/stable/modules/preprocessing.html\n",
      "  self.n_iter_ = _check_optimize_result(\"lbfgs\", opt_res, self.max_iter)\n",
      "d:\\VSCode_Workspaces\\unibs_mldm_diabetes\\.venv\\Lib\\site-packages\\sklearn\\neural_network\\_multilayer_perceptron.py:545: ConvergenceWarning: lbfgs failed to converge (status=1):\n",
      "STOP: TOTAL NO. of ITERATIONS REACHED LIMIT.\n",
      "\n",
      "Increase the number of iterations (max_iter) or scale the data as shown in:\n",
      "    https://scikit-learn.org/stable/modules/preprocessing.html\n",
      "  self.n_iter_ = _check_optimize_result(\"lbfgs\", opt_res, self.max_iter)\n",
      "d:\\VSCode_Workspaces\\unibs_mldm_diabetes\\.venv\\Lib\\site-packages\\sklearn\\neural_network\\_multilayer_perceptron.py:545: ConvergenceWarning: lbfgs failed to converge (status=1):\n",
      "STOP: TOTAL NO. of ITERATIONS REACHED LIMIT.\n",
      "\n",
      "Increase the number of iterations (max_iter) or scale the data as shown in:\n",
      "    https://scikit-learn.org/stable/modules/preprocessing.html\n",
      "  self.n_iter_ = _check_optimize_result(\"lbfgs\", opt_res, self.max_iter)\n"
     ]
    },
    {
     "name": "stdout",
     "output_type": "stream",
     "text": [
      "Cross validation scores: [0.50615444 0.51187593 0.5116268  0.50481866 0.49588093]\n",
      "Average score: 0.5060713507486704\n"
     ]
    },
    {
     "name": "stderr",
     "output_type": "stream",
     "text": [
      "[I 2025-01-12 22:52:24,569] Trial 28 finished with value: 0.5060713507486704 and parameters: {'n_layers': 3, 'layer_0': 48, 'layer_1': 23, 'layer_2': 70, 'activation': 'tanh', 'solver': 'lbfgs', 'alpha': 0.002605113873307152, 'learning_rate_init': 0.0026669612740861433}. Best is trial 23 with value: 0.5137067105345675.\n",
      "d:\\VSCode_Workspaces\\unibs_mldm_diabetes\\.venv\\Lib\\site-packages\\sklearn\\neural_network\\_multilayer_perceptron.py:545: ConvergenceWarning: lbfgs failed to converge (status=1):\n",
      "STOP: TOTAL NO. of ITERATIONS REACHED LIMIT.\n",
      "\n",
      "Increase the number of iterations (max_iter) or scale the data as shown in:\n",
      "    https://scikit-learn.org/stable/modules/preprocessing.html\n",
      "  self.n_iter_ = _check_optimize_result(\"lbfgs\", opt_res, self.max_iter)\n",
      "d:\\VSCode_Workspaces\\unibs_mldm_diabetes\\.venv\\Lib\\site-packages\\sklearn\\neural_network\\_multilayer_perceptron.py:545: ConvergenceWarning: lbfgs failed to converge (status=1):\n",
      "STOP: TOTAL NO. of ITERATIONS REACHED LIMIT.\n",
      "\n",
      "Increase the number of iterations (max_iter) or scale the data as shown in:\n",
      "    https://scikit-learn.org/stable/modules/preprocessing.html\n",
      "  self.n_iter_ = _check_optimize_result(\"lbfgs\", opt_res, self.max_iter)\n"
     ]
    },
    {
     "name": "stdout",
     "output_type": "stream",
     "text": [
      "Cross validation scores: [0.51180521 0.51616037 0.51663969 0.51676602 0.51215942]\n",
      "Average score: 0.5147061422803425\n"
     ]
    },
    {
     "name": "stderr",
     "output_type": "stream",
     "text": [
      "[I 2025-01-12 22:53:24,951] Trial 27 finished with value: 0.5147061422803425 and parameters: {'n_layers': 3, 'layer_0': 34, 'layer_1': 57, 'layer_2': 75, 'activation': 'tanh', 'solver': 'lbfgs', 'alpha': 0.01711491690109296, 'learning_rate_init': 0.00010032699899999028}. Best is trial 27 with value: 0.5147061422803425.\n",
      "d:\\VSCode_Workspaces\\unibs_mldm_diabetes\\.venv\\Lib\\site-packages\\sklearn\\neural_network\\_multilayer_perceptron.py:545: ConvergenceWarning: lbfgs failed to converge (status=1):\n",
      "STOP: TOTAL NO. of ITERATIONS REACHED LIMIT.\n",
      "\n",
      "Increase the number of iterations (max_iter) or scale the data as shown in:\n",
      "    https://scikit-learn.org/stable/modules/preprocessing.html\n",
      "  self.n_iter_ = _check_optimize_result(\"lbfgs\", opt_res, self.max_iter)\n",
      "d:\\VSCode_Workspaces\\unibs_mldm_diabetes\\.venv\\Lib\\site-packages\\sklearn\\neural_network\\_multilayer_perceptron.py:545: ConvergenceWarning: lbfgs failed to converge (status=1):\n",
      "STOP: TOTAL NO. of ITERATIONS REACHED LIMIT.\n",
      "\n",
      "Increase the number of iterations (max_iter) or scale the data as shown in:\n",
      "    https://scikit-learn.org/stable/modules/preprocessing.html\n",
      "  self.n_iter_ = _check_optimize_result(\"lbfgs\", opt_res, self.max_iter)\n",
      "d:\\VSCode_Workspaces\\unibs_mldm_diabetes\\.venv\\Lib\\site-packages\\sklearn\\neural_network\\_multilayer_perceptron.py:545: ConvergenceWarning: lbfgs failed to converge (status=1):\n",
      "STOP: TOTAL NO. of ITERATIONS REACHED LIMIT.\n",
      "\n",
      "Increase the number of iterations (max_iter) or scale the data as shown in:\n",
      "    https://scikit-learn.org/stable/modules/preprocessing.html\n",
      "  self.n_iter_ = _check_optimize_result(\"lbfgs\", opt_res, self.max_iter)\n"
     ]
    },
    {
     "name": "stdout",
     "output_type": "stream",
     "text": [
      "Cross validation scores: [0.50836418 0.50561705 0.51480229 0.50354814 0.5093256 ]\n",
      "Average score: 0.5083314517871779\n"
     ]
    },
    {
     "name": "stderr",
     "output_type": "stream",
     "text": [
      "[I 2025-01-12 22:55:18,828] Trial 30 finished with value: 0.5083314517871779 and parameters: {'n_layers': 3, 'layer_0': 24, 'layer_1': 28, 'layer_2': 42, 'activation': 'tanh', 'solver': 'lbfgs', 'alpha': 2.1640452607995678e-05, 'learning_rate_init': 0.0004885085258068667}. Best is trial 27 with value: 0.5147061422803425.\n",
      "d:\\VSCode_Workspaces\\unibs_mldm_diabetes\\.venv\\Lib\\site-packages\\sklearn\\neural_network\\_multilayer_perceptron.py:545: ConvergenceWarning: lbfgs failed to converge (status=1):\n",
      "STOP: TOTAL NO. of ITERATIONS REACHED LIMIT.\n",
      "\n",
      "Increase the number of iterations (max_iter) or scale the data as shown in:\n",
      "    https://scikit-learn.org/stable/modules/preprocessing.html\n",
      "  self.n_iter_ = _check_optimize_result(\"lbfgs\", opt_res, self.max_iter)\n",
      "d:\\VSCode_Workspaces\\unibs_mldm_diabetes\\.venv\\Lib\\site-packages\\sklearn\\neural_network\\_multilayer_perceptron.py:545: ConvergenceWarning: lbfgs failed to converge (status=1):\n",
      "STOP: TOTAL NO. of ITERATIONS REACHED LIMIT.\n",
      "\n",
      "Increase the number of iterations (max_iter) or scale the data as shown in:\n",
      "    https://scikit-learn.org/stable/modules/preprocessing.html\n",
      "  self.n_iter_ = _check_optimize_result(\"lbfgs\", opt_res, self.max_iter)\n",
      "d:\\VSCode_Workspaces\\unibs_mldm_diabetes\\.venv\\Lib\\site-packages\\sklearn\\neural_network\\_multilayer_perceptron.py:545: ConvergenceWarning: lbfgs failed to converge (status=1):\n",
      "STOP: TOTAL NO. of ITERATIONS REACHED LIMIT.\n",
      "\n",
      "Increase the number of iterations (max_iter) or scale the data as shown in:\n",
      "    https://scikit-learn.org/stable/modules/preprocessing.html\n",
      "  self.n_iter_ = _check_optimize_result(\"lbfgs\", opt_res, self.max_iter)\n",
      "d:\\VSCode_Workspaces\\unibs_mldm_diabetes\\.venv\\Lib\\site-packages\\sklearn\\neural_network\\_multilayer_perceptron.py:545: ConvergenceWarning: lbfgs failed to converge (status=1):\n",
      "STOP: TOTAL NO. of ITERATIONS REACHED LIMIT.\n",
      "\n",
      "Increase the number of iterations (max_iter) or scale the data as shown in:\n",
      "    https://scikit-learn.org/stable/modules/preprocessing.html\n",
      "  self.n_iter_ = _check_optimize_result(\"lbfgs\", opt_res, self.max_iter)\n",
      "d:\\VSCode_Workspaces\\unibs_mldm_diabetes\\.venv\\Lib\\site-packages\\sklearn\\neural_network\\_multilayer_perceptron.py:545: ConvergenceWarning: lbfgs failed to converge (status=1):\n",
      "STOP: TOTAL NO. of ITERATIONS REACHED LIMIT.\n",
      "\n",
      "Increase the number of iterations (max_iter) or scale the data as shown in:\n",
      "    https://scikit-learn.org/stable/modules/preprocessing.html\n",
      "  self.n_iter_ = _check_optimize_result(\"lbfgs\", opt_res, self.max_iter)\n",
      "d:\\VSCode_Workspaces\\unibs_mldm_diabetes\\.venv\\Lib\\site-packages\\sklearn\\neural_network\\_multilayer_perceptron.py:545: ConvergenceWarning: lbfgs failed to converge (status=1):\n",
      "STOP: TOTAL NO. of ITERATIONS REACHED LIMIT.\n",
      "\n",
      "Increase the number of iterations (max_iter) or scale the data as shown in:\n",
      "    https://scikit-learn.org/stable/modules/preprocessing.html\n",
      "  self.n_iter_ = _check_optimize_result(\"lbfgs\", opt_res, self.max_iter)\n",
      "d:\\VSCode_Workspaces\\unibs_mldm_diabetes\\.venv\\Lib\\site-packages\\sklearn\\neural_network\\_multilayer_perceptron.py:545: ConvergenceWarning: lbfgs failed to converge (status=1):\n",
      "STOP: TOTAL NO. of ITERATIONS REACHED LIMIT.\n",
      "\n",
      "Increase the number of iterations (max_iter) or scale the data as shown in:\n",
      "    https://scikit-learn.org/stable/modules/preprocessing.html\n",
      "  self.n_iter_ = _check_optimize_result(\"lbfgs\", opt_res, self.max_iter)\n",
      "d:\\VSCode_Workspaces\\unibs_mldm_diabetes\\.venv\\Lib\\site-packages\\sklearn\\neural_network\\_multilayer_perceptron.py:545: ConvergenceWarning: lbfgs failed to converge (status=1):\n",
      "STOP: TOTAL NO. of ITERATIONS REACHED LIMIT.\n",
      "\n",
      "Increase the number of iterations (max_iter) or scale the data as shown in:\n",
      "    https://scikit-learn.org/stable/modules/preprocessing.html\n",
      "  self.n_iter_ = _check_optimize_result(\"lbfgs\", opt_res, self.max_iter)\n",
      "d:\\VSCode_Workspaces\\unibs_mldm_diabetes\\.venv\\Lib\\site-packages\\sklearn\\neural_network\\_multilayer_perceptron.py:545: ConvergenceWarning: lbfgs failed to converge (status=1):\n",
      "STOP: TOTAL NO. of ITERATIONS REACHED LIMIT.\n",
      "\n",
      "Increase the number of iterations (max_iter) or scale the data as shown in:\n",
      "    https://scikit-learn.org/stable/modules/preprocessing.html\n",
      "  self.n_iter_ = _check_optimize_result(\"lbfgs\", opt_res, self.max_iter)\n"
     ]
    },
    {
     "name": "stdout",
     "output_type": "stream",
     "text": [
      "Cross validation scores: [0.51629278 0.51379673 0.52679132 0.51112829 0.50218227]\n",
      "Average score: 0.5140382766585697\n"
     ]
    },
    {
     "name": "stderr",
     "output_type": "stream",
     "text": [
      "[I 2025-01-12 23:03:00,900] Trial 31 finished with value: 0.5140382766585697 and parameters: {'n_layers': 3, 'layer_0': 40, 'layer_1': 41, 'layer_2': 48, 'activation': 'tanh', 'solver': 'lbfgs', 'alpha': 0.00012824515915715079, 'learning_rate_init': 0.000774470649099873}. Best is trial 27 with value: 0.5147061422803425.\n",
      "d:\\VSCode_Workspaces\\unibs_mldm_diabetes\\.venv\\Lib\\site-packages\\sklearn\\neural_network\\_multilayer_perceptron.py:545: ConvergenceWarning: lbfgs failed to converge (status=1):\n",
      "STOP: TOTAL NO. of ITERATIONS REACHED LIMIT.\n",
      "\n",
      "Increase the number of iterations (max_iter) or scale the data as shown in:\n",
      "    https://scikit-learn.org/stable/modules/preprocessing.html\n",
      "  self.n_iter_ = _check_optimize_result(\"lbfgs\", opt_res, self.max_iter)\n",
      "d:\\VSCode_Workspaces\\unibs_mldm_diabetes\\.venv\\Lib\\site-packages\\sklearn\\neural_network\\_multilayer_perceptron.py:545: ConvergenceWarning: lbfgs failed to converge (status=1):\n",
      "STOP: TOTAL NO. of ITERATIONS REACHED LIMIT.\n",
      "\n",
      "Increase the number of iterations (max_iter) or scale the data as shown in:\n",
      "    https://scikit-learn.org/stable/modules/preprocessing.html\n",
      "  self.n_iter_ = _check_optimize_result(\"lbfgs\", opt_res, self.max_iter)\n",
      "d:\\VSCode_Workspaces\\unibs_mldm_diabetes\\.venv\\Lib\\site-packages\\sklearn\\neural_network\\_multilayer_perceptron.py:545: ConvergenceWarning: lbfgs failed to converge (status=1):\n",
      "STOP: TOTAL NO. of ITERATIONS REACHED LIMIT.\n",
      "\n",
      "Increase the number of iterations (max_iter) or scale the data as shown in:\n",
      "    https://scikit-learn.org/stable/modules/preprocessing.html\n",
      "  self.n_iter_ = _check_optimize_result(\"lbfgs\", opt_res, self.max_iter)\n",
      "d:\\VSCode_Workspaces\\unibs_mldm_diabetes\\.venv\\Lib\\site-packages\\sklearn\\neural_network\\_multilayer_perceptron.py:545: ConvergenceWarning: lbfgs failed to converge (status=1):\n",
      "STOP: TOTAL NO. of ITERATIONS REACHED LIMIT.\n",
      "\n",
      "Increase the number of iterations (max_iter) or scale the data as shown in:\n",
      "    https://scikit-learn.org/stable/modules/preprocessing.html\n",
      "  self.n_iter_ = _check_optimize_result(\"lbfgs\", opt_res, self.max_iter)\n",
      "d:\\VSCode_Workspaces\\unibs_mldm_diabetes\\.venv\\Lib\\site-packages\\sklearn\\neural_network\\_multilayer_perceptron.py:545: ConvergenceWarning: lbfgs failed to converge (status=1):\n",
      "STOP: TOTAL NO. of ITERATIONS REACHED LIMIT.\n",
      "\n",
      "Increase the number of iterations (max_iter) or scale the data as shown in:\n",
      "    https://scikit-learn.org/stable/modules/preprocessing.html\n",
      "  self.n_iter_ = _check_optimize_result(\"lbfgs\", opt_res, self.max_iter)\n",
      "[I 2025-01-12 23:07:46,380] Trial 32 finished with value: 0.5084790565707678 and parameters: {'n_layers': 3, 'layer_0': 29, 'layer_1': 30, 'layer_2': 86, 'activation': 'tanh', 'solver': 'lbfgs', 'alpha': 1.0311100063645156e-05, 'learning_rate_init': 0.00041134184309350865}. Best is trial 27 with value: 0.5147061422803425.\n"
     ]
    },
    {
     "name": "stdout",
     "output_type": "stream",
     "text": [
      "Cross validation scores: [0.50558707 0.51529378 0.51204706 0.51063931 0.49882807]\n",
      "Average score: 0.5084790565707678\n"
     ]
    },
    {
     "name": "stderr",
     "output_type": "stream",
     "text": [
      "d:\\VSCode_Workspaces\\unibs_mldm_diabetes\\.venv\\Lib\\site-packages\\sklearn\\neural_network\\_multilayer_perceptron.py:545: ConvergenceWarning: lbfgs failed to converge (status=1):\n",
      "STOP: TOTAL NO. of ITERATIONS REACHED LIMIT.\n",
      "\n",
      "Increase the number of iterations (max_iter) or scale the data as shown in:\n",
      "    https://scikit-learn.org/stable/modules/preprocessing.html\n",
      "  self.n_iter_ = _check_optimize_result(\"lbfgs\", opt_res, self.max_iter)\n",
      "d:\\VSCode_Workspaces\\unibs_mldm_diabetes\\.venv\\Lib\\site-packages\\sklearn\\neural_network\\_multilayer_perceptron.py:545: ConvergenceWarning: lbfgs failed to converge (status=1):\n",
      "STOP: TOTAL NO. of ITERATIONS REACHED LIMIT.\n",
      "\n",
      "Increase the number of iterations (max_iter) or scale the data as shown in:\n",
      "    https://scikit-learn.org/stable/modules/preprocessing.html\n",
      "  self.n_iter_ = _check_optimize_result(\"lbfgs\", opt_res, self.max_iter)\n",
      "d:\\VSCode_Workspaces\\unibs_mldm_diabetes\\.venv\\Lib\\site-packages\\sklearn\\neural_network\\_multilayer_perceptron.py:545: ConvergenceWarning: lbfgs failed to converge (status=1):\n",
      "STOP: TOTAL NO. of ITERATIONS REACHED LIMIT.\n",
      "\n",
      "Increase the number of iterations (max_iter) or scale the data as shown in:\n",
      "    https://scikit-learn.org/stable/modules/preprocessing.html\n",
      "  self.n_iter_ = _check_optimize_result(\"lbfgs\", opt_res, self.max_iter)\n",
      "d:\\VSCode_Workspaces\\unibs_mldm_diabetes\\.venv\\Lib\\site-packages\\sklearn\\neural_network\\_multilayer_perceptron.py:545: ConvergenceWarning: lbfgs failed to converge (status=1):\n",
      "STOP: TOTAL NO. of ITERATIONS REACHED LIMIT.\n",
      "\n",
      "Increase the number of iterations (max_iter) or scale the data as shown in:\n",
      "    https://scikit-learn.org/stable/modules/preprocessing.html\n",
      "  self.n_iter_ = _check_optimize_result(\"lbfgs\", opt_res, self.max_iter)\n",
      "d:\\VSCode_Workspaces\\unibs_mldm_diabetes\\.venv\\Lib\\site-packages\\sklearn\\neural_network\\_multilayer_perceptron.py:545: ConvergenceWarning: lbfgs failed to converge (status=1):\n",
      "STOP: TOTAL NO. of ITERATIONS REACHED LIMIT.\n",
      "\n",
      "Increase the number of iterations (max_iter) or scale the data as shown in:\n",
      "    https://scikit-learn.org/stable/modules/preprocessing.html\n",
      "  self.n_iter_ = _check_optimize_result(\"lbfgs\", opt_res, self.max_iter)\n"
     ]
    },
    {
     "name": "stdout",
     "output_type": "stream",
     "text": [
      "Cross validation scores: [0.5144094  0.51951106 0.51798383 0.5134925  0.50895121]\n",
      "Average score: 0.5148696011116008\n"
     ]
    },
    {
     "name": "stderr",
     "output_type": "stream",
     "text": [
      "[I 2025-01-12 23:11:48,868] Trial 33 finished with value: 0.5148696011116008 and parameters: {'n_layers': 3, 'layer_0': 36, 'layer_1': 77, 'layer_2': 82, 'activation': 'tanh', 'solver': 'lbfgs', 'alpha': 0.035952226439172896, 'learning_rate_init': 0.0001014202297639988}. Best is trial 33 with value: 0.5148696011116008.\n",
      "d:\\VSCode_Workspaces\\unibs_mldm_diabetes\\.venv\\Lib\\site-packages\\sklearn\\neural_network\\_multilayer_perceptron.py:545: ConvergenceWarning: lbfgs failed to converge (status=1):\n",
      "STOP: TOTAL NO. of ITERATIONS REACHED LIMIT.\n",
      "\n",
      "Increase the number of iterations (max_iter) or scale the data as shown in:\n",
      "    https://scikit-learn.org/stable/modules/preprocessing.html\n",
      "  self.n_iter_ = _check_optimize_result(\"lbfgs\", opt_res, self.max_iter)\n"
     ]
    },
    {
     "name": "stdout",
     "output_type": "stream",
     "text": [
      "Cross validation scores: [0.51586831 0.51899331 0.51967608 0.51186106 0.50049864]\n",
      "Average score: 0.5133794793664466\n"
     ]
    },
    {
     "name": "stderr",
     "output_type": "stream",
     "text": [
      "[I 2025-01-12 23:12:19,592] Trial 34 finished with value: 0.5133794793664466 and parameters: {'n_layers': 3, 'layer_0': 45, 'layer_1': 58, 'layer_2': 59, 'activation': 'tanh', 'solver': 'lbfgs', 'alpha': 0.007163980344253513, 'learning_rate_init': 0.0001143508493640092}. Best is trial 33 with value: 0.5148696011116008.\n",
      "d:\\VSCode_Workspaces\\unibs_mldm_diabetes\\.venv\\Lib\\site-packages\\sklearn\\neural_network\\_multilayer_perceptron.py:545: ConvergenceWarning: lbfgs failed to converge (status=1):\n",
      "STOP: TOTAL NO. of ITERATIONS REACHED LIMIT.\n",
      "\n",
      "Increase the number of iterations (max_iter) or scale the data as shown in:\n",
      "    https://scikit-learn.org/stable/modules/preprocessing.html\n",
      "  self.n_iter_ = _check_optimize_result(\"lbfgs\", opt_res, self.max_iter)\n",
      "d:\\VSCode_Workspaces\\unibs_mldm_diabetes\\.venv\\Lib\\site-packages\\sklearn\\neural_network\\_multilayer_perceptron.py:545: ConvergenceWarning: lbfgs failed to converge (status=1):\n",
      "STOP: TOTAL NO. of ITERATIONS REACHED LIMIT.\n",
      "\n",
      "Increase the number of iterations (max_iter) or scale the data as shown in:\n",
      "    https://scikit-learn.org/stable/modules/preprocessing.html\n",
      "  self.n_iter_ = _check_optimize_result(\"lbfgs\", opt_res, self.max_iter)\n",
      "d:\\VSCode_Workspaces\\unibs_mldm_diabetes\\.venv\\Lib\\site-packages\\sklearn\\neural_network\\_multilayer_perceptron.py:545: ConvergenceWarning: lbfgs failed to converge (status=1):\n",
      "STOP: TOTAL NO. of ITERATIONS REACHED LIMIT.\n",
      "\n",
      "Increase the number of iterations (max_iter) or scale the data as shown in:\n",
      "    https://scikit-learn.org/stable/modules/preprocessing.html\n",
      "  self.n_iter_ = _check_optimize_result(\"lbfgs\", opt_res, self.max_iter)\n",
      "d:\\VSCode_Workspaces\\unibs_mldm_diabetes\\.venv\\Lib\\site-packages\\sklearn\\neural_network\\_multilayer_perceptron.py:545: ConvergenceWarning: lbfgs failed to converge (status=1):\n",
      "STOP: TOTAL NO. of ITERATIONS REACHED LIMIT.\n",
      "\n",
      "Increase the number of iterations (max_iter) or scale the data as shown in:\n",
      "    https://scikit-learn.org/stable/modules/preprocessing.html\n",
      "  self.n_iter_ = _check_optimize_result(\"lbfgs\", opt_res, self.max_iter)\n",
      "d:\\VSCode_Workspaces\\unibs_mldm_diabetes\\.venv\\Lib\\site-packages\\sklearn\\neural_network\\_multilayer_perceptron.py:545: ConvergenceWarning: lbfgs failed to converge (status=1):\n",
      "STOP: TOTAL NO. of ITERATIONS REACHED LIMIT.\n",
      "\n",
      "Increase the number of iterations (max_iter) or scale the data as shown in:\n",
      "    https://scikit-learn.org/stable/modules/preprocessing.html\n",
      "  self.n_iter_ = _check_optimize_result(\"lbfgs\", opt_res, self.max_iter)\n",
      "d:\\VSCode_Workspaces\\unibs_mldm_diabetes\\.venv\\Lib\\site-packages\\sklearn\\neural_network\\_multilayer_perceptron.py:690: ConvergenceWarning: Stochastic Optimizer: Maximum iterations (500) reached and the optimization hasn't converged yet.\n",
      "  warnings.warn(\n",
      "d:\\VSCode_Workspaces\\unibs_mldm_diabetes\\.venv\\Lib\\site-packages\\sklearn\\neural_network\\_multilayer_perceptron.py:545: ConvergenceWarning: lbfgs failed to converge (status=1):\n",
      "STOP: TOTAL NO. of ITERATIONS REACHED LIMIT.\n",
      "\n",
      "Increase the number of iterations (max_iter) or scale the data as shown in:\n",
      "    https://scikit-learn.org/stable/modules/preprocessing.html\n",
      "  self.n_iter_ = _check_optimize_result(\"lbfgs\", opt_res, self.max_iter)\n",
      "d:\\VSCode_Workspaces\\unibs_mldm_diabetes\\.venv\\Lib\\site-packages\\sklearn\\neural_network\\_multilayer_perceptron.py:545: ConvergenceWarning: lbfgs failed to converge (status=1):\n",
      "STOP: TOTAL NO. of ITERATIONS REACHED LIMIT.\n",
      "\n",
      "Increase the number of iterations (max_iter) or scale the data as shown in:\n",
      "    https://scikit-learn.org/stable/modules/preprocessing.html\n",
      "  self.n_iter_ = _check_optimize_result(\"lbfgs\", opt_res, self.max_iter)\n",
      "d:\\VSCode_Workspaces\\unibs_mldm_diabetes\\.venv\\Lib\\site-packages\\sklearn\\neural_network\\_multilayer_perceptron.py:545: ConvergenceWarning: lbfgs failed to converge (status=1):\n",
      "STOP: TOTAL NO. of ITERATIONS REACHED LIMIT.\n",
      "\n",
      "Increase the number of iterations (max_iter) or scale the data as shown in:\n",
      "    https://scikit-learn.org/stable/modules/preprocessing.html\n",
      "  self.n_iter_ = _check_optimize_result(\"lbfgs\", opt_res, self.max_iter)\n"
     ]
    },
    {
     "name": "stdout",
     "output_type": "stream",
     "text": [
      "Cross validation scores: [0.52573639 0.51684095 0.50841469 0.52266577 0.51616377]\n",
      "Average score: 0.5179643141455859\n"
     ]
    },
    {
     "name": "stderr",
     "output_type": "stream",
     "text": [
      "[I 2025-01-12 23:21:00,376] Trial 35 finished with value: 0.5179643141455859 and parameters: {'n_layers': 3, 'layer_0': 57, 'layer_1': 43, 'layer_2': 55, 'activation': 'tanh', 'solver': 'lbfgs', 'alpha': 0.0025495179778687333, 'learning_rate_init': 0.0008355601787780057}. Best is trial 35 with value: 0.5179643141455859.\n",
      "d:\\VSCode_Workspaces\\unibs_mldm_diabetes\\.venv\\Lib\\site-packages\\sklearn\\neural_network\\_multilayer_perceptron.py:545: ConvergenceWarning: lbfgs failed to converge (status=1):\n",
      "STOP: TOTAL NO. of ITERATIONS REACHED LIMIT.\n",
      "\n",
      "Increase the number of iterations (max_iter) or scale the data as shown in:\n",
      "    https://scikit-learn.org/stable/modules/preprocessing.html\n",
      "  self.n_iter_ = _check_optimize_result(\"lbfgs\", opt_res, self.max_iter)\n",
      "d:\\VSCode_Workspaces\\unibs_mldm_diabetes\\.venv\\Lib\\site-packages\\sklearn\\neural_network\\_multilayer_perceptron.py:545: ConvergenceWarning: lbfgs failed to converge (status=1):\n",
      "STOP: TOTAL NO. of ITERATIONS REACHED LIMIT.\n",
      "\n",
      "Increase the number of iterations (max_iter) or scale the data as shown in:\n",
      "    https://scikit-learn.org/stable/modules/preprocessing.html\n",
      "  self.n_iter_ = _check_optimize_result(\"lbfgs\", opt_res, self.max_iter)\n",
      "d:\\VSCode_Workspaces\\unibs_mldm_diabetes\\.venv\\Lib\\site-packages\\sklearn\\neural_network\\_multilayer_perceptron.py:545: ConvergenceWarning: lbfgs failed to converge (status=1):\n",
      "STOP: TOTAL NO. of ITERATIONS REACHED LIMIT.\n",
      "\n",
      "Increase the number of iterations (max_iter) or scale the data as shown in:\n",
      "    https://scikit-learn.org/stable/modules/preprocessing.html\n",
      "  self.n_iter_ = _check_optimize_result(\"lbfgs\", opt_res, self.max_iter)\n",
      "d:\\VSCode_Workspaces\\unibs_mldm_diabetes\\.venv\\Lib\\site-packages\\sklearn\\neural_network\\_multilayer_perceptron.py:545: ConvergenceWarning: lbfgs failed to converge (status=1):\n",
      "STOP: TOTAL NO. of ITERATIONS REACHED LIMIT.\n",
      "\n",
      "Increase the number of iterations (max_iter) or scale the data as shown in:\n",
      "    https://scikit-learn.org/stable/modules/preprocessing.html\n",
      "  self.n_iter_ = _check_optimize_result(\"lbfgs\", opt_res, self.max_iter)\n",
      "d:\\VSCode_Workspaces\\unibs_mldm_diabetes\\.venv\\Lib\\site-packages\\sklearn\\neural_network\\_multilayer_perceptron.py:545: ConvergenceWarning: lbfgs failed to converge (status=1):\n",
      "STOP: TOTAL NO. of ITERATIONS REACHED LIMIT.\n",
      "\n",
      "Increase the number of iterations (max_iter) or scale the data as shown in:\n",
      "    https://scikit-learn.org/stable/modules/preprocessing.html\n",
      "  self.n_iter_ = _check_optimize_result(\"lbfgs\", opt_res, self.max_iter)\n"
     ]
    },
    {
     "name": "stdout",
     "output_type": "stream",
     "text": [
      "Cross validation scores: [0.51334418 0.52767242 0.52261148 0.52342828 0.5080592 ]\n",
      "Average score: 0.5190231083269887\n"
     ]
    },
    {
     "name": "stderr",
     "output_type": "stream",
     "text": [
      "[I 2025-01-12 23:25:11,986] Trial 36 finished with value: 0.5190231083269887 and parameters: {'n_layers': 3, 'layer_0': 38, 'layer_1': 45, 'layer_2': 64, 'activation': 'tanh', 'solver': 'lbfgs', 'alpha': 0.0001307456793002975, 'learning_rate_init': 0.00014480226698421103}. Best is trial 36 with value: 0.5190231083269887.\n"
     ]
    },
    {
     "name": "stdout",
     "output_type": "stream",
     "text": [
      "Cross validation scores: [0.47635241 0.47635241 0.47632501 0.47632501 0.47632501]\n",
      "Average score: 0.47633597337075617\n"
     ]
    },
    {
     "name": "stderr",
     "output_type": "stream",
     "text": [
      "[I 2025-01-12 23:25:46,624] Trial 40 finished with value: 0.47633597337075617 and parameters: {'n_layers': 3, 'layer_0': 56, 'layer_1': 72, 'layer_2': 63, 'activation': 'identity', 'solver': 'lbfgs', 'alpha': 0.012952975711559405, 'learning_rate_init': 0.00017161543520752918}. Best is trial 36 with value: 0.5190231083269887.\n",
      "d:\\VSCode_Workspaces\\unibs_mldm_diabetes\\.venv\\Lib\\site-packages\\sklearn\\neural_network\\_multilayer_perceptron.py:545: ConvergenceWarning: lbfgs failed to converge (status=1):\n",
      "STOP: TOTAL NO. of ITERATIONS REACHED LIMIT.\n",
      "\n",
      "Increase the number of iterations (max_iter) or scale the data as shown in:\n",
      "    https://scikit-learn.org/stable/modules/preprocessing.html\n",
      "  self.n_iter_ = _check_optimize_result(\"lbfgs\", opt_res, self.max_iter)\n",
      "d:\\VSCode_Workspaces\\unibs_mldm_diabetes\\.venv\\Lib\\site-packages\\sklearn\\neural_network\\_multilayer_perceptron.py:545: ConvergenceWarning: lbfgs failed to converge (status=1):\n",
      "STOP: TOTAL NO. of ITERATIONS REACHED LIMIT.\n",
      "\n",
      "Increase the number of iterations (max_iter) or scale the data as shown in:\n",
      "    https://scikit-learn.org/stable/modules/preprocessing.html\n",
      "  self.n_iter_ = _check_optimize_result(\"lbfgs\", opt_res, self.max_iter)\n",
      "d:\\VSCode_Workspaces\\unibs_mldm_diabetes\\.venv\\Lib\\site-packages\\sklearn\\neural_network\\_multilayer_perceptron.py:545: ConvergenceWarning: lbfgs failed to converge (status=1):\n",
      "STOP: TOTAL NO. of ITERATIONS REACHED LIMIT.\n",
      "\n",
      "Increase the number of iterations (max_iter) or scale the data as shown in:\n",
      "    https://scikit-learn.org/stable/modules/preprocessing.html\n",
      "  self.n_iter_ = _check_optimize_result(\"lbfgs\", opt_res, self.max_iter)\n",
      "d:\\VSCode_Workspaces\\unibs_mldm_diabetes\\.venv\\Lib\\site-packages\\sklearn\\neural_network\\_multilayer_perceptron.py:545: ConvergenceWarning: lbfgs failed to converge (status=1):\n",
      "STOP: TOTAL NO. of ITERATIONS REACHED LIMIT.\n",
      "\n",
      "Increase the number of iterations (max_iter) or scale the data as shown in:\n",
      "    https://scikit-learn.org/stable/modules/preprocessing.html\n",
      "  self.n_iter_ = _check_optimize_result(\"lbfgs\", opt_res, self.max_iter)\n",
      "d:\\VSCode_Workspaces\\unibs_mldm_diabetes\\.venv\\Lib\\site-packages\\sklearn\\neural_network\\_multilayer_perceptron.py:545: ConvergenceWarning: lbfgs failed to converge (status=1):\n",
      "STOP: TOTAL NO. of ITERATIONS REACHED LIMIT.\n",
      "\n",
      "Increase the number of iterations (max_iter) or scale the data as shown in:\n",
      "    https://scikit-learn.org/stable/modules/preprocessing.html\n",
      "  self.n_iter_ = _check_optimize_result(\"lbfgs\", opt_res, self.max_iter)\n",
      "d:\\VSCode_Workspaces\\unibs_mldm_diabetes\\.venv\\Lib\\site-packages\\sklearn\\neural_network\\_multilayer_perceptron.py:545: ConvergenceWarning: lbfgs failed to converge (status=1):\n",
      "STOP: TOTAL NO. of ITERATIONS REACHED LIMIT.\n",
      "\n",
      "Increase the number of iterations (max_iter) or scale the data as shown in:\n",
      "    https://scikit-learn.org/stable/modules/preprocessing.html\n",
      "  self.n_iter_ = _check_optimize_result(\"lbfgs\", opt_res, self.max_iter)\n",
      "d:\\VSCode_Workspaces\\unibs_mldm_diabetes\\.venv\\Lib\\site-packages\\sklearn\\neural_network\\_multilayer_perceptron.py:545: ConvergenceWarning: lbfgs failed to converge (status=1):\n",
      "STOP: TOTAL NO. of ITERATIONS REACHED LIMIT.\n",
      "\n",
      "Increase the number of iterations (max_iter) or scale the data as shown in:\n",
      "    https://scikit-learn.org/stable/modules/preprocessing.html\n",
      "  self.n_iter_ = _check_optimize_result(\"lbfgs\", opt_res, self.max_iter)\n",
      "d:\\VSCode_Workspaces\\unibs_mldm_diabetes\\.venv\\Lib\\site-packages\\sklearn\\neural_network\\_multilayer_perceptron.py:545: ConvergenceWarning: lbfgs failed to converge (status=1):\n",
      "STOP: TOTAL NO. of ITERATIONS REACHED LIMIT.\n",
      "\n",
      "Increase the number of iterations (max_iter) or scale the data as shown in:\n",
      "    https://scikit-learn.org/stable/modules/preprocessing.html\n",
      "  self.n_iter_ = _check_optimize_result(\"lbfgs\", opt_res, self.max_iter)\n"
     ]
    },
    {
     "name": "stdout",
     "output_type": "stream",
     "text": [
      "Cross validation scores: [0.51657059 0.51608688 0.52057236 0.51277587 0.50860052]\n",
      "Average score: 0.5149212433899004\n"
     ]
    },
    {
     "name": "stderr",
     "output_type": "stream",
     "text": [
      "[I 2025-01-12 23:33:28,365] Trial 37 finished with value: 0.5149212433899004 and parameters: {'n_layers': 3, 'layer_0': 38, 'layer_1': 80, 'layer_2': 82, 'activation': 'tanh', 'solver': 'lbfgs', 'alpha': 0.03621233477101845, 'learning_rate_init': 0.00028730396670865576}. Best is trial 36 with value: 0.5190231083269887.\n"
     ]
    },
    {
     "name": "stdout",
     "output_type": "stream",
     "text": [
      "Cross validation scores: [0.47635241 0.47635241 0.47632501 0.47632501 0.47632501]\n",
      "Average score: 0.47633597337075617\n"
     ]
    },
    {
     "name": "stderr",
     "output_type": "stream",
     "text": [
      "[I 2025-01-12 23:34:08,182] Trial 42 finished with value: 0.47633597337075617 and parameters: {'n_layers': 3, 'layer_0': 37, 'layer_1': 81, 'layer_2': 84, 'activation': 'logistic', 'solver': 'lbfgs', 'alpha': 0.043843347550500206, 'learning_rate_init': 0.00032404747004088474}. Best is trial 36 with value: 0.5190231083269887.\n"
     ]
    },
    {
     "name": "stdout",
     "output_type": "stream",
     "text": [
      "Cross validation scores: [0.47635241 0.47635241 0.47632501 0.47632501 0.47632501]\n",
      "Average score: 0.47633597337075617\n"
     ]
    },
    {
     "name": "stderr",
     "output_type": "stream",
     "text": [
      "[I 2025-01-12 23:34:30,123] Trial 43 finished with value: 0.47633597337075617 and parameters: {'n_layers': 2, 'layer_0': 52, 'layer_1': 80, 'activation': 'identity', 'solver': 'lbfgs', 'alpha': 0.03445319410303279, 'learning_rate_init': 0.0002472602907577316}. Best is trial 36 with value: 0.5190231083269887.\n",
      "d:\\VSCode_Workspaces\\unibs_mldm_diabetes\\.venv\\Lib\\site-packages\\sklearn\\neural_network\\_multilayer_perceptron.py:545: ConvergenceWarning: lbfgs failed to converge (status=1):\n",
      "STOP: TOTAL NO. of ITERATIONS REACHED LIMIT.\n",
      "\n",
      "Increase the number of iterations (max_iter) or scale the data as shown in:\n",
      "    https://scikit-learn.org/stable/modules/preprocessing.html\n",
      "  self.n_iter_ = _check_optimize_result(\"lbfgs\", opt_res, self.max_iter)\n"
     ]
    },
    {
     "name": "stdout",
     "output_type": "stream",
     "text": [
      "Cross validation scores: [0.50908557 0.51842021 0.50909749 0.50897788 0.50826169]\n",
      "Average score: 0.5107685713560588\n"
     ]
    },
    {
     "name": "stderr",
     "output_type": "stream",
     "text": [
      "[I 2025-01-12 23:34:44,668] Trial 38 finished with value: 0.5107685713560588 and parameters: {'n_layers': 3, 'layer_0': 41, 'layer_1': 95, 'layer_2': 78, 'activation': 'tanh', 'solver': 'lbfgs', 'alpha': 0.020942001355858438, 'learning_rate_init': 0.00010098610882605457}. Best is trial 36 with value: 0.5190231083269887.\n",
      "d:\\VSCode_Workspaces\\unibs_mldm_diabetes\\.venv\\Lib\\site-packages\\sklearn\\neural_network\\_multilayer_perceptron.py:545: ConvergenceWarning: lbfgs failed to converge (status=1):\n",
      "STOP: TOTAL NO. of ITERATIONS REACHED LIMIT.\n",
      "\n",
      "Increase the number of iterations (max_iter) or scale the data as shown in:\n",
      "    https://scikit-learn.org/stable/modules/preprocessing.html\n",
      "  self.n_iter_ = _check_optimize_result(\"lbfgs\", opt_res, self.max_iter)\n",
      "d:\\VSCode_Workspaces\\unibs_mldm_diabetes\\.venv\\Lib\\site-packages\\sklearn\\neural_network\\_multilayer_perceptron.py:545: ConvergenceWarning: lbfgs failed to converge (status=1):\n",
      "STOP: TOTAL NO. of ITERATIONS REACHED LIMIT.\n",
      "\n",
      "Increase the number of iterations (max_iter) or scale the data as shown in:\n",
      "    https://scikit-learn.org/stable/modules/preprocessing.html\n",
      "  self.n_iter_ = _check_optimize_result(\"lbfgs\", opt_res, self.max_iter)\n",
      "d:\\VSCode_Workspaces\\unibs_mldm_diabetes\\.venv\\Lib\\site-packages\\sklearn\\neural_network\\_multilayer_perceptron.py:545: ConvergenceWarning: lbfgs failed to converge (status=1):\n",
      "STOP: TOTAL NO. of ITERATIONS REACHED LIMIT.\n",
      "\n",
      "Increase the number of iterations (max_iter) or scale the data as shown in:\n",
      "    https://scikit-learn.org/stable/modules/preprocessing.html\n",
      "  self.n_iter_ = _check_optimize_result(\"lbfgs\", opt_res, self.max_iter)\n",
      "d:\\VSCode_Workspaces\\unibs_mldm_diabetes\\.venv\\Lib\\site-packages\\sklearn\\neural_network\\_multilayer_perceptron.py:545: ConvergenceWarning: lbfgs failed to converge (status=1):\n",
      "STOP: TOTAL NO. of ITERATIONS REACHED LIMIT.\n",
      "\n",
      "Increase the number of iterations (max_iter) or scale the data as shown in:\n",
      "    https://scikit-learn.org/stable/modules/preprocessing.html\n",
      "  self.n_iter_ = _check_optimize_result(\"lbfgs\", opt_res, self.max_iter)\n"
     ]
    },
    {
     "name": "stdout",
     "output_type": "stream",
     "text": [
      "Cross validation scores: [0.52131771 0.51843546 0.5173087  0.51501771 0.51018195]\n",
      "Average score: 0.5164523086053215\n"
     ]
    },
    {
     "name": "stderr",
     "output_type": "stream",
     "text": [
      "[I 2025-01-12 23:37:49,345] Trial 39 finished with value: 0.5164523086053215 and parameters: {'n_layers': 3, 'layer_0': 57, 'layer_1': 41, 'layer_2': 50, 'activation': 'tanh', 'solver': 'lbfgs', 'alpha': 0.04287630137296343, 'learning_rate_init': 0.000164764121673728}. Best is trial 36 with value: 0.5190231083269887.\n",
      "d:\\VSCode_Workspaces\\unibs_mldm_diabetes\\.venv\\Lib\\site-packages\\sklearn\\neural_network\\_multilayer_perceptron.py:545: ConvergenceWarning: lbfgs failed to converge (status=1):\n",
      "STOP: TOTAL NO. of ITERATIONS REACHED LIMIT.\n",
      "\n",
      "Increase the number of iterations (max_iter) or scale the data as shown in:\n",
      "    https://scikit-learn.org/stable/modules/preprocessing.html\n",
      "  self.n_iter_ = _check_optimize_result(\"lbfgs\", opt_res, self.max_iter)\n",
      "d:\\VSCode_Workspaces\\unibs_mldm_diabetes\\.venv\\Lib\\site-packages\\sklearn\\neural_network\\_multilayer_perceptron.py:545: ConvergenceWarning: lbfgs failed to converge (status=1):\n",
      "STOP: TOTAL NO. of ITERATIONS REACHED LIMIT.\n",
      "\n",
      "Increase the number of iterations (max_iter) or scale the data as shown in:\n",
      "    https://scikit-learn.org/stable/modules/preprocessing.html\n",
      "  self.n_iter_ = _check_optimize_result(\"lbfgs\", opt_res, self.max_iter)\n",
      "d:\\VSCode_Workspaces\\unibs_mldm_diabetes\\.venv\\Lib\\site-packages\\sklearn\\neural_network\\_multilayer_perceptron.py:545: ConvergenceWarning: lbfgs failed to converge (status=1):\n",
      "STOP: TOTAL NO. of ITERATIONS REACHED LIMIT.\n",
      "\n",
      "Increase the number of iterations (max_iter) or scale the data as shown in:\n",
      "    https://scikit-learn.org/stable/modules/preprocessing.html\n",
      "  self.n_iter_ = _check_optimize_result(\"lbfgs\", opt_res, self.max_iter)\n"
     ]
    },
    {
     "name": "stdout",
     "output_type": "stream",
     "text": [
      "Cross validation scores: [0.49728591 0.50379508 0.50621243 0.50987223 0.49921398]\n",
      "Average score: 0.5032759265347021\n"
     ]
    },
    {
     "name": "stderr",
     "output_type": "stream",
     "text": [
      "[I 2025-01-12 23:40:20,571] Trial 41 finished with value: 0.5032759265347021 and parameters: {'n_layers': 3, 'layer_0': 16, 'layer_1': 54, 'layer_2': 66, 'activation': 'tanh', 'solver': 'lbfgs', 'alpha': 0.0006062396080273893, 'learning_rate_init': 0.00013551757522501764}. Best is trial 36 with value: 0.5190231083269887.\n",
      "d:\\VSCode_Workspaces\\unibs_mldm_diabetes\\.venv\\Lib\\site-packages\\sklearn\\neural_network\\_multilayer_perceptron.py:545: ConvergenceWarning: lbfgs failed to converge (status=1):\n",
      "STOP: TOTAL NO. of ITERATIONS REACHED LIMIT.\n",
      "\n",
      "Increase the number of iterations (max_iter) or scale the data as shown in:\n",
      "    https://scikit-learn.org/stable/modules/preprocessing.html\n",
      "  self.n_iter_ = _check_optimize_result(\"lbfgs\", opt_res, self.max_iter)\n",
      "d:\\VSCode_Workspaces\\unibs_mldm_diabetes\\.venv\\Lib\\site-packages\\sklearn\\neural_network\\_multilayer_perceptron.py:545: ConvergenceWarning: lbfgs failed to converge (status=1):\n",
      "STOP: TOTAL NO. of ITERATIONS REACHED LIMIT.\n",
      "\n",
      "Increase the number of iterations (max_iter) or scale the data as shown in:\n",
      "    https://scikit-learn.org/stable/modules/preprocessing.html\n",
      "  self.n_iter_ = _check_optimize_result(\"lbfgs\", opt_res, self.max_iter)\n",
      "d:\\VSCode_Workspaces\\unibs_mldm_diabetes\\.venv\\Lib\\site-packages\\sklearn\\neural_network\\_multilayer_perceptron.py:545: ConvergenceWarning: lbfgs failed to converge (status=1):\n",
      "STOP: TOTAL NO. of ITERATIONS REACHED LIMIT.\n",
      "\n",
      "Increase the number of iterations (max_iter) or scale the data as shown in:\n",
      "    https://scikit-learn.org/stable/modules/preprocessing.html\n",
      "  self.n_iter_ = _check_optimize_result(\"lbfgs\", opt_res, self.max_iter)\n",
      "d:\\VSCode_Workspaces\\unibs_mldm_diabetes\\.venv\\Lib\\site-packages\\sklearn\\neural_network\\_multilayer_perceptron.py:545: ConvergenceWarning: lbfgs failed to converge (status=1):\n",
      "STOP: TOTAL NO. of ITERATIONS REACHED LIMIT.\n",
      "\n",
      "Increase the number of iterations (max_iter) or scale the data as shown in:\n",
      "    https://scikit-learn.org/stable/modules/preprocessing.html\n",
      "  self.n_iter_ = _check_optimize_result(\"lbfgs\", opt_res, self.max_iter)\n",
      "d:\\VSCode_Workspaces\\unibs_mldm_diabetes\\.venv\\Lib\\site-packages\\sklearn\\neural_network\\_multilayer_perceptron.py:545: ConvergenceWarning: lbfgs failed to converge (status=1):\n",
      "STOP: TOTAL NO. of ITERATIONS REACHED LIMIT.\n",
      "\n",
      "Increase the number of iterations (max_iter) or scale the data as shown in:\n",
      "    https://scikit-learn.org/stable/modules/preprocessing.html\n",
      "  self.n_iter_ = _check_optimize_result(\"lbfgs\", opt_res, self.max_iter)\n",
      "d:\\VSCode_Workspaces\\unibs_mldm_diabetes\\.venv\\Lib\\site-packages\\sklearn\\neural_network\\_multilayer_perceptron.py:545: ConvergenceWarning: lbfgs failed to converge (status=1):\n",
      "STOP: TOTAL NO. of ITERATIONS REACHED LIMIT.\n",
      "\n",
      "Increase the number of iterations (max_iter) or scale the data as shown in:\n",
      "    https://scikit-learn.org/stable/modules/preprocessing.html\n",
      "  self.n_iter_ = _check_optimize_result(\"lbfgs\", opt_res, self.max_iter)\n"
     ]
    },
    {
     "name": "stdout",
     "output_type": "stream",
     "text": [
      "Cross validation scores: [0.50869423 0.51237309 0.51119698 0.50094608 0.50164608]\n",
      "Average score: 0.5069712936066277\n"
     ]
    },
    {
     "name": "stderr",
     "output_type": "stream",
     "text": [
      "[I 2025-01-12 23:44:43,303] Trial 44 finished with value: 0.5069712936066277 and parameters: {'n_layers': 2, 'layer_0': 44, 'layer_1': 89, 'activation': 'tanh', 'solver': 'lbfgs', 'alpha': 0.004620570239610183, 'learning_rate_init': 0.0007077837057049008}. Best is trial 36 with value: 0.5190231083269887.\n"
     ]
    },
    {
     "name": "stdout",
     "output_type": "stream",
     "text": [
      "Cross validation scores: [0.50520962 0.49956775 0.49470527 0.50568365 0.4958065 ]\n",
      "Average score: 0.5001945591786278\n"
     ]
    },
    {
     "name": "stderr",
     "output_type": "stream",
     "text": [
      "[I 2025-01-12 23:45:19,811] Trial 19 finished with value: 0.5001945591786278 and parameters: {'n_layers': 2, 'layer_0': 82, 'layer_1': 62, 'activation': 'relu', 'solver': 'adam', 'alpha': 0.00033644257879337076, 'learning_rate_init': 0.006045551400455195}. Best is trial 36 with value: 0.5190231083269887.\n",
      "d:\\VSCode_Workspaces\\unibs_mldm_diabetes\\.venv\\Lib\\site-packages\\sklearn\\neural_network\\_multilayer_perceptron.py:545: ConvergenceWarning: lbfgs failed to converge (status=1):\n",
      "STOP: TOTAL NO. of ITERATIONS REACHED LIMIT.\n",
      "\n",
      "Increase the number of iterations (max_iter) or scale the data as shown in:\n",
      "    https://scikit-learn.org/stable/modules/preprocessing.html\n",
      "  self.n_iter_ = _check_optimize_result(\"lbfgs\", opt_res, self.max_iter)\n",
      "d:\\VSCode_Workspaces\\unibs_mldm_diabetes\\.venv\\Lib\\site-packages\\sklearn\\neural_network\\_multilayer_perceptron.py:545: ConvergenceWarning: lbfgs failed to converge (status=1):\n",
      "STOP: TOTAL NO. of ITERATIONS REACHED LIMIT.\n",
      "\n",
      "Increase the number of iterations (max_iter) or scale the data as shown in:\n",
      "    https://scikit-learn.org/stable/modules/preprocessing.html\n",
      "  self.n_iter_ = _check_optimize_result(\"lbfgs\", opt_res, self.max_iter)\n"
     ]
    },
    {
     "name": "stdout",
     "output_type": "stream",
     "text": [
      "Cross validation scores: [0.47635241 0.47635241 0.47632501 0.47632501 0.47632501]\n",
      "Average score: 0.47633597337075617\n"
     ]
    },
    {
     "name": "stderr",
     "output_type": "stream",
     "text": [
      "[I 2025-01-12 23:46:11,311] Trial 49 finished with value: 0.47633597337075617 and parameters: {'n_layers': 3, 'layer_0': 70, 'layer_1': 52, 'layer_2': 90, 'activation': 'logistic', 'solver': 'lbfgs', 'alpha': 0.028460485087758447, 'learning_rate_init': 0.00029402757643719077}. Best is trial 36 with value: 0.5190231083269887.\n",
      "d:\\VSCode_Workspaces\\unibs_mldm_diabetes\\.venv\\Lib\\site-packages\\sklearn\\neural_network\\_multilayer_perceptron.py:545: ConvergenceWarning: lbfgs failed to converge (status=1):\n",
      "STOP: TOTAL NO. of ITERATIONS REACHED LIMIT.\n",
      "\n",
      "Increase the number of iterations (max_iter) or scale the data as shown in:\n",
      "    https://scikit-learn.org/stable/modules/preprocessing.html\n",
      "  self.n_iter_ = _check_optimize_result(\"lbfgs\", opt_res, self.max_iter)\n",
      "d:\\VSCode_Workspaces\\unibs_mldm_diabetes\\.venv\\Lib\\site-packages\\sklearn\\neural_network\\_multilayer_perceptron.py:545: ConvergenceWarning: lbfgs failed to converge (status=1):\n",
      "STOP: TOTAL NO. of ITERATIONS REACHED LIMIT.\n",
      "\n",
      "Increase the number of iterations (max_iter) or scale the data as shown in:\n",
      "    https://scikit-learn.org/stable/modules/preprocessing.html\n",
      "  self.n_iter_ = _check_optimize_result(\"lbfgs\", opt_res, self.max_iter)\n",
      "d:\\VSCode_Workspaces\\unibs_mldm_diabetes\\.venv\\Lib\\site-packages\\sklearn\\neural_network\\_multilayer_perceptron.py:545: ConvergenceWarning: lbfgs failed to converge (status=1):\n",
      "STOP: TOTAL NO. of ITERATIONS REACHED LIMIT.\n",
      "\n",
      "Increase the number of iterations (max_iter) or scale the data as shown in:\n",
      "    https://scikit-learn.org/stable/modules/preprocessing.html\n",
      "  self.n_iter_ = _check_optimize_result(\"lbfgs\", opt_res, self.max_iter)\n",
      "d:\\VSCode_Workspaces\\unibs_mldm_diabetes\\.venv\\Lib\\site-packages\\sklearn\\neural_network\\_multilayer_perceptron.py:545: ConvergenceWarning: lbfgs failed to converge (status=1):\n",
      "STOP: TOTAL NO. of ITERATIONS REACHED LIMIT.\n",
      "\n",
      "Increase the number of iterations (max_iter) or scale the data as shown in:\n",
      "    https://scikit-learn.org/stable/modules/preprocessing.html\n",
      "  self.n_iter_ = _check_optimize_result(\"lbfgs\", opt_res, self.max_iter)\n",
      "d:\\VSCode_Workspaces\\unibs_mldm_diabetes\\.venv\\Lib\\site-packages\\sklearn\\neural_network\\_multilayer_perceptron.py:545: ConvergenceWarning: lbfgs failed to converge (status=1):\n",
      "STOP: TOTAL NO. of ITERATIONS REACHED LIMIT.\n",
      "\n",
      "Increase the number of iterations (max_iter) or scale the data as shown in:\n",
      "    https://scikit-learn.org/stable/modules/preprocessing.html\n",
      "  self.n_iter_ = _check_optimize_result(\"lbfgs\", opt_res, self.max_iter)\n",
      "d:\\VSCode_Workspaces\\unibs_mldm_diabetes\\.venv\\Lib\\site-packages\\sklearn\\neural_network\\_multilayer_perceptron.py:690: ConvergenceWarning: Stochastic Optimizer: Maximum iterations (500) reached and the optimization hasn't converged yet.\n",
      "  warnings.warn(\n",
      "d:\\VSCode_Workspaces\\unibs_mldm_diabetes\\.venv\\Lib\\site-packages\\sklearn\\neural_network\\_multilayer_perceptron.py:545: ConvergenceWarning: lbfgs failed to converge (status=1):\n",
      "STOP: TOTAL NO. of ITERATIONS REACHED LIMIT.\n",
      "\n",
      "Increase the number of iterations (max_iter) or scale the data as shown in:\n",
      "    https://scikit-learn.org/stable/modules/preprocessing.html\n",
      "  self.n_iter_ = _check_optimize_result(\"lbfgs\", opt_res, self.max_iter)\n"
     ]
    },
    {
     "name": "stdout",
     "output_type": "stream",
     "text": [
      "Cross validation scores: [0.51842251 0.52417675 0.51375618 0.52091526 0.51448686]\n",
      "Average score: 0.5183515122110082\n"
     ]
    },
    {
     "name": "stderr",
     "output_type": "stream",
     "text": [
      "[I 2025-01-12 23:50:49,355] Trial 46 finished with value: 0.5183515122110082 and parameters: {'n_layers': 3, 'layer_0': 62, 'layer_1': 41, 'layer_2': 52, 'activation': 'tanh', 'solver': 'lbfgs', 'alpha': 0.04286838434452803, 'learning_rate_init': 0.00016960580816481822}. Best is trial 36 with value: 0.5190231083269887.\n",
      "d:\\VSCode_Workspaces\\unibs_mldm_diabetes\\.venv\\Lib\\site-packages\\sklearn\\neural_network\\_multilayer_perceptron.py:545: ConvergenceWarning: lbfgs failed to converge (status=1):\n",
      "STOP: TOTAL NO. of ITERATIONS REACHED LIMIT.\n",
      "\n",
      "Increase the number of iterations (max_iter) or scale the data as shown in:\n",
      "    https://scikit-learn.org/stable/modules/preprocessing.html\n",
      "  self.n_iter_ = _check_optimize_result(\"lbfgs\", opt_res, self.max_iter)\n",
      "d:\\VSCode_Workspaces\\unibs_mldm_diabetes\\.venv\\Lib\\site-packages\\sklearn\\neural_network\\_multilayer_perceptron.py:545: ConvergenceWarning: lbfgs failed to converge (status=1):\n",
      "STOP: TOTAL NO. of ITERATIONS REACHED LIMIT.\n",
      "\n",
      "Increase the number of iterations (max_iter) or scale the data as shown in:\n",
      "    https://scikit-learn.org/stable/modules/preprocessing.html\n",
      "  self.n_iter_ = _check_optimize_result(\"lbfgs\", opt_res, self.max_iter)\n",
      "d:\\VSCode_Workspaces\\unibs_mldm_diabetes\\.venv\\Lib\\site-packages\\sklearn\\neural_network\\_multilayer_perceptron.py:545: ConvergenceWarning: lbfgs failed to converge (status=1):\n",
      "STOP: TOTAL NO. of ITERATIONS REACHED LIMIT.\n",
      "\n",
      "Increase the number of iterations (max_iter) or scale the data as shown in:\n",
      "    https://scikit-learn.org/stable/modules/preprocessing.html\n",
      "  self.n_iter_ = _check_optimize_result(\"lbfgs\", opt_res, self.max_iter)\n"
     ]
    },
    {
     "name": "stdout",
     "output_type": "stream",
     "text": [
      "Cross validation scores: [0.51097161 0.50724503 0.51635415 0.51517276 0.51015889]\n",
      "Average score: 0.5119804897125414\n"
     ]
    },
    {
     "name": "stderr",
     "output_type": "stream",
     "text": [
      "[I 2025-01-12 23:53:05,595] Trial 47 finished with value: 0.5119804897125414 and parameters: {'n_layers': 3, 'layer_0': 60, 'layer_1': 44, 'layer_2': 46, 'activation': 'tanh', 'solver': 'lbfgs', 'alpha': 0.05800512808252707, 'learning_rate_init': 0.0001658444423027466}. Best is trial 36 with value: 0.5190231083269887.\n"
     ]
    },
    {
     "name": "stdout",
     "output_type": "stream",
     "text": [
      "Cross validation scores: [0.47635241 0.47635241 0.47632501 0.47632501 0.47632501]\n",
      "Average score: 0.47633597337075617\n"
     ]
    },
    {
     "name": "stderr",
     "output_type": "stream",
     "text": [
      "[I 2025-01-12 23:53:24,436] Trial 52 finished with value: 0.47633597337075617 and parameters: {'n_layers': 3, 'layer_0': 59, 'layer_1': 34, 'layer_2': 50, 'activation': 'identity', 'solver': 'lbfgs', 'alpha': 0.014118578191344615, 'learning_rate_init': 0.00034947444870551524}. Best is trial 36 with value: 0.5190231083269887.\n"
     ]
    },
    {
     "name": "stdout",
     "output_type": "stream",
     "text": [
      "Cross validation scores: [0.47635241 0.47635241 0.47632501 0.47632501 0.47632501]\n",
      "Average score: 0.47633597337075617\n"
     ]
    },
    {
     "name": "stderr",
     "output_type": "stream",
     "text": [
      "[I 2025-01-12 23:53:40,667] Trial 45 finished with value: 0.47633597337075617 and parameters: {'n_layers': 3, 'layer_0': 90, 'layer_1': 65, 'layer_2': 82, 'activation': 'tanh', 'solver': 'sgd', 'alpha': 0.008432170536728872, 'learning_rate_init': 0.00028849959090420686}. Best is trial 36 with value: 0.5190231083269887.\n"
     ]
    },
    {
     "name": "stdout",
     "output_type": "stream",
     "text": [
      "Cross validation scores: [0.47635241 0.47635241 0.47632501 0.47632501 0.47632501]\n",
      "Average score: 0.47633597337075617\n"
     ]
    },
    {
     "name": "stderr",
     "output_type": "stream",
     "text": [
      "[I 2025-01-12 23:53:55,684] Trial 53 finished with value: 0.47633597337075617 and parameters: {'n_layers': 1, 'layer_0': 75, 'activation': 'tanh', 'solver': 'adam', 'alpha': 0.00011832132000592396, 'learning_rate_init': 0.0002168316566302307}. Best is trial 36 with value: 0.5190231083269887.\n"
     ]
    },
    {
     "name": "stdout",
     "output_type": "stream",
     "text": [
      "Cross validation scores: [0.47635241 0.47635241 0.47632501 0.47632501 0.47632501]\n",
      "Average score: 0.47633597337075617\n"
     ]
    },
    {
     "name": "stderr",
     "output_type": "stream",
     "text": [
      "[I 2025-01-12 23:54:04,321] Trial 54 finished with value: 0.47633597337075617 and parameters: {'n_layers': 3, 'layer_0': 64, 'layer_1': 47, 'layer_2': 42, 'activation': 'logistic', 'solver': 'lbfgs', 'alpha': 0.09331608096818098, 'learning_rate_init': 0.0006823808094222087}. Best is trial 36 with value: 0.5190231083269887.\n",
      "d:\\VSCode_Workspaces\\unibs_mldm_diabetes\\.venv\\Lib\\site-packages\\sklearn\\neural_network\\_multilayer_perceptron.py:545: ConvergenceWarning: lbfgs failed to converge (status=1):\n",
      "STOP: TOTAL NO. of ITERATIONS REACHED LIMIT.\n",
      "\n",
      "Increase the number of iterations (max_iter) or scale the data as shown in:\n",
      "    https://scikit-learn.org/stable/modules/preprocessing.html\n",
      "  self.n_iter_ = _check_optimize_result(\"lbfgs\", opt_res, self.max_iter)\n",
      "d:\\VSCode_Workspaces\\unibs_mldm_diabetes\\.venv\\Lib\\site-packages\\sklearn\\neural_network\\_multilayer_perceptron.py:545: ConvergenceWarning: lbfgs failed to converge (status=1):\n",
      "STOP: TOTAL NO. of ITERATIONS REACHED LIMIT.\n",
      "\n",
      "Increase the number of iterations (max_iter) or scale the data as shown in:\n",
      "    https://scikit-learn.org/stable/modules/preprocessing.html\n",
      "  self.n_iter_ = _check_optimize_result(\"lbfgs\", opt_res, self.max_iter)\n",
      "d:\\VSCode_Workspaces\\unibs_mldm_diabetes\\.venv\\Lib\\site-packages\\sklearn\\neural_network\\_multilayer_perceptron.py:545: ConvergenceWarning: lbfgs failed to converge (status=1):\n",
      "STOP: TOTAL NO. of ITERATIONS REACHED LIMIT.\n",
      "\n",
      "Increase the number of iterations (max_iter) or scale the data as shown in:\n",
      "    https://scikit-learn.org/stable/modules/preprocessing.html\n",
      "  self.n_iter_ = _check_optimize_result(\"lbfgs\", opt_res, self.max_iter)\n",
      "d:\\VSCode_Workspaces\\unibs_mldm_diabetes\\.venv\\Lib\\site-packages\\sklearn\\neural_network\\_multilayer_perceptron.py:545: ConvergenceWarning: lbfgs failed to converge (status=1):\n",
      "STOP: TOTAL NO. of ITERATIONS REACHED LIMIT.\n",
      "\n",
      "Increase the number of iterations (max_iter) or scale the data as shown in:\n",
      "    https://scikit-learn.org/stable/modules/preprocessing.html\n",
      "  self.n_iter_ = _check_optimize_result(\"lbfgs\", opt_res, self.max_iter)\n",
      "d:\\VSCode_Workspaces\\unibs_mldm_diabetes\\.venv\\Lib\\site-packages\\sklearn\\neural_network\\_multilayer_perceptron.py:545: ConvergenceWarning: lbfgs failed to converge (status=1):\n",
      "STOP: TOTAL NO. of ITERATIONS REACHED LIMIT.\n",
      "\n",
      "Increase the number of iterations (max_iter) or scale the data as shown in:\n",
      "    https://scikit-learn.org/stable/modules/preprocessing.html\n",
      "  self.n_iter_ = _check_optimize_result(\"lbfgs\", opt_res, self.max_iter)\n"
     ]
    },
    {
     "name": "stdout",
     "output_type": "stream",
     "text": [
      "Cross validation scores: [0.51337974 0.51996432 0.52589986 0.52552411 0.51091073]\n",
      "Average score: 0.5191357531282066\n"
     ]
    },
    {
     "name": "stderr",
     "output_type": "stream",
     "text": [
      "[I 2025-01-12 23:57:11,582] Trial 48 finished with value: 0.5191357531282066 and parameters: {'n_layers': 3, 'layer_0': 57, 'layer_1': 38, 'layer_2': 55, 'activation': 'tanh', 'solver': 'lbfgs', 'alpha': 0.07343891455990853, 'learning_rate_init': 0.00018420381024727213}. Best is trial 48 with value: 0.5191357531282066.\n",
      "d:\\VSCode_Workspaces\\unibs_mldm_diabetes\\.venv\\Lib\\site-packages\\sklearn\\neural_network\\_multilayer_perceptron.py:545: ConvergenceWarning: lbfgs failed to converge (status=1):\n",
      "STOP: TOTAL NO. of ITERATIONS REACHED LIMIT.\n",
      "\n",
      "Increase the number of iterations (max_iter) or scale the data as shown in:\n",
      "    https://scikit-learn.org/stable/modules/preprocessing.html\n",
      "  self.n_iter_ = _check_optimize_result(\"lbfgs\", opt_res, self.max_iter)\n",
      "d:\\VSCode_Workspaces\\unibs_mldm_diabetes\\.venv\\Lib\\site-packages\\sklearn\\neural_network\\_multilayer_perceptron.py:545: ConvergenceWarning: lbfgs failed to converge (status=1):\n",
      "STOP: TOTAL NO. of ITERATIONS REACHED LIMIT.\n",
      "\n",
      "Increase the number of iterations (max_iter) or scale the data as shown in:\n",
      "    https://scikit-learn.org/stable/modules/preprocessing.html\n",
      "  self.n_iter_ = _check_optimize_result(\"lbfgs\", opt_res, self.max_iter)\n"
     ]
    },
    {
     "name": "stdout",
     "output_type": "stream",
     "text": [
      "Cross validation scores: [0.47635241 0.47635241 0.47632501 0.47632501 0.47632501]\n",
      "Average score: 0.47633597337075617\n"
     ]
    },
    {
     "name": "stderr",
     "output_type": "stream",
     "text": [
      "[I 2025-01-12 23:59:23,855] Trial 50 finished with value: 0.47633597337075617 and parameters: {'n_layers': 3, 'layer_0': 53, 'layer_1': 77, 'layer_2': 54, 'activation': 'tanh', 'solver': 'sgd', 'alpha': 0.023709761311322783, 'learning_rate_init': 0.00014727645279219456}. Best is trial 48 with value: 0.5191357531282066.\n",
      "d:\\VSCode_Workspaces\\unibs_mldm_diabetes\\.venv\\Lib\\site-packages\\sklearn\\neural_network\\_multilayer_perceptron.py:545: ConvergenceWarning: lbfgs failed to converge (status=1):\n",
      "STOP: TOTAL NO. of ITERATIONS REACHED LIMIT.\n",
      "\n",
      "Increase the number of iterations (max_iter) or scale the data as shown in:\n",
      "    https://scikit-learn.org/stable/modules/preprocessing.html\n",
      "  self.n_iter_ = _check_optimize_result(\"lbfgs\", opt_res, self.max_iter)\n"
     ]
    },
    {
     "name": "stdout",
     "output_type": "stream",
     "text": [
      "Cross validation scores: [0.51631403 0.51348116 0.52076563 0.50773813 0.49451405]\n",
      "Average score: 0.5105626021512\n"
     ]
    },
    {
     "name": "stderr",
     "output_type": "stream",
     "text": [
      "[I 2025-01-12 23:59:39,004] Trial 51 finished with value: 0.5105626021512 and parameters: {'n_layers': 2, 'layer_0': 64, 'layer_1': 42, 'activation': 'tanh', 'solver': 'lbfgs', 'alpha': 0.04934354874320378, 'learning_rate_init': 0.0010406517149208138}. Best is trial 48 with value: 0.5191357531282066.\n",
      "d:\\VSCode_Workspaces\\unibs_mldm_diabetes\\.venv\\Lib\\site-packages\\sklearn\\neural_network\\_multilayer_perceptron.py:545: ConvergenceWarning: lbfgs failed to converge (status=1):\n",
      "STOP: TOTAL NO. of ITERATIONS REACHED LIMIT.\n",
      "\n",
      "Increase the number of iterations (max_iter) or scale the data as shown in:\n",
      "    https://scikit-learn.org/stable/modules/preprocessing.html\n",
      "  self.n_iter_ = _check_optimize_result(\"lbfgs\", opt_res, self.max_iter)\n",
      "d:\\VSCode_Workspaces\\unibs_mldm_diabetes\\.venv\\Lib\\site-packages\\sklearn\\neural_network\\_multilayer_perceptron.py:545: ConvergenceWarning: lbfgs failed to converge (status=1):\n",
      "STOP: TOTAL NO. of ITERATIONS REACHED LIMIT.\n",
      "\n",
      "Increase the number of iterations (max_iter) or scale the data as shown in:\n",
      "    https://scikit-learn.org/stable/modules/preprocessing.html\n",
      "  self.n_iter_ = _check_optimize_result(\"lbfgs\", opt_res, self.max_iter)\n",
      "d:\\VSCode_Workspaces\\unibs_mldm_diabetes\\.venv\\Lib\\site-packages\\sklearn\\neural_network\\_multilayer_perceptron.py:545: ConvergenceWarning: lbfgs failed to converge (status=1):\n",
      "STOP: TOTAL NO. of ITERATIONS REACHED LIMIT.\n",
      "\n",
      "Increase the number of iterations (max_iter) or scale the data as shown in:\n",
      "    https://scikit-learn.org/stable/modules/preprocessing.html\n",
      "  self.n_iter_ = _check_optimize_result(\"lbfgs\", opt_res, self.max_iter)\n"
     ]
    },
    {
     "name": "stdout",
     "output_type": "stream",
     "text": [
      "Cross validation scores: [0.47635241 0.47635241 0.47632501 0.47632501 0.47632501]\n",
      "Average score: 0.47633597337075617\n"
     ]
    },
    {
     "name": "stderr",
     "output_type": "stream",
     "text": [
      "[I 2025-01-13 00:02:36,179] Trial 55 finished with value: 0.47633597337075617 and parameters: {'n_layers': 2, 'layer_0': 69, 'layer_1': 38, 'activation': 'tanh', 'solver': 'sgd', 'alpha': 0.0035182689877993087, 'learning_rate_init': 0.0002085564328371107}. Best is trial 48 with value: 0.5191357531282066.\n",
      "d:\\VSCode_Workspaces\\unibs_mldm_diabetes\\.venv\\Lib\\site-packages\\sklearn\\neural_network\\_multilayer_perceptron.py:545: ConvergenceWarning: lbfgs failed to converge (status=1):\n",
      "STOP: TOTAL NO. of ITERATIONS REACHED LIMIT.\n",
      "\n",
      "Increase the number of iterations (max_iter) or scale the data as shown in:\n",
      "    https://scikit-learn.org/stable/modules/preprocessing.html\n",
      "  self.n_iter_ = _check_optimize_result(\"lbfgs\", opt_res, self.max_iter)\n",
      "d:\\VSCode_Workspaces\\unibs_mldm_diabetes\\.venv\\Lib\\site-packages\\sklearn\\neural_network\\_multilayer_perceptron.py:545: ConvergenceWarning: lbfgs failed to converge (status=1):\n",
      "STOP: TOTAL NO. of ITERATIONS REACHED LIMIT.\n",
      "\n",
      "Increase the number of iterations (max_iter) or scale the data as shown in:\n",
      "    https://scikit-learn.org/stable/modules/preprocessing.html\n",
      "  self.n_iter_ = _check_optimize_result(\"lbfgs\", opt_res, self.max_iter)\n",
      "d:\\VSCode_Workspaces\\unibs_mldm_diabetes\\.venv\\Lib\\site-packages\\sklearn\\neural_network\\_multilayer_perceptron.py:545: ConvergenceWarning: lbfgs failed to converge (status=1):\n",
      "STOP: TOTAL NO. of ITERATIONS REACHED LIMIT.\n",
      "\n",
      "Increase the number of iterations (max_iter) or scale the data as shown in:\n",
      "    https://scikit-learn.org/stable/modules/preprocessing.html\n",
      "  self.n_iter_ = _check_optimize_result(\"lbfgs\", opt_res, self.max_iter)\n",
      "d:\\VSCode_Workspaces\\unibs_mldm_diabetes\\.venv\\Lib\\site-packages\\sklearn\\neural_network\\_multilayer_perceptron.py:545: ConvergenceWarning: lbfgs failed to converge (status=1):\n",
      "STOP: TOTAL NO. of ITERATIONS REACHED LIMIT.\n",
      "\n",
      "Increase the number of iterations (max_iter) or scale the data as shown in:\n",
      "    https://scikit-learn.org/stable/modules/preprocessing.html\n",
      "  self.n_iter_ = _check_optimize_result(\"lbfgs\", opt_res, self.max_iter)\n",
      "d:\\VSCode_Workspaces\\unibs_mldm_diabetes\\.venv\\Lib\\site-packages\\sklearn\\neural_network\\_multilayer_perceptron.py:545: ConvergenceWarning: lbfgs failed to converge (status=1):\n",
      "STOP: TOTAL NO. of ITERATIONS REACHED LIMIT.\n",
      "\n",
      "Increase the number of iterations (max_iter) or scale the data as shown in:\n",
      "    https://scikit-learn.org/stable/modules/preprocessing.html\n",
      "  self.n_iter_ = _check_optimize_result(\"lbfgs\", opt_res, self.max_iter)\n",
      "d:\\VSCode_Workspaces\\unibs_mldm_diabetes\\.venv\\Lib\\site-packages\\sklearn\\neural_network\\_multilayer_perceptron.py:545: ConvergenceWarning: lbfgs failed to converge (status=1):\n",
      "STOP: TOTAL NO. of ITERATIONS REACHED LIMIT.\n",
      "\n",
      "Increase the number of iterations (max_iter) or scale the data as shown in:\n",
      "    https://scikit-learn.org/stable/modules/preprocessing.html\n",
      "  self.n_iter_ = _check_optimize_result(\"lbfgs\", opt_res, self.max_iter)\n",
      "d:\\VSCode_Workspaces\\unibs_mldm_diabetes\\.venv\\Lib\\site-packages\\sklearn\\neural_network\\_multilayer_perceptron.py:545: ConvergenceWarning: lbfgs failed to converge (status=1):\n",
      "STOP: TOTAL NO. of ITERATIONS REACHED LIMIT.\n",
      "\n",
      "Increase the number of iterations (max_iter) or scale the data as shown in:\n",
      "    https://scikit-learn.org/stable/modules/preprocessing.html\n",
      "  self.n_iter_ = _check_optimize_result(\"lbfgs\", opt_res, self.max_iter)\n",
      "d:\\VSCode_Workspaces\\unibs_mldm_diabetes\\.venv\\Lib\\site-packages\\sklearn\\neural_network\\_multilayer_perceptron.py:545: ConvergenceWarning: lbfgs failed to converge (status=1):\n",
      "STOP: TOTAL NO. of ITERATIONS REACHED LIMIT.\n",
      "\n",
      "Increase the number of iterations (max_iter) or scale the data as shown in:\n",
      "    https://scikit-learn.org/stable/modules/preprocessing.html\n",
      "  self.n_iter_ = _check_optimize_result(\"lbfgs\", opt_res, self.max_iter)\n",
      "[I 2025-01-13 00:07:44,524] Trial 56 finished with value: 0.51156168903493 and parameters: {'n_layers': 3, 'layer_0': 36, 'layer_1': 45, 'layer_2': 54, 'activation': 'tanh', 'solver': 'lbfgs', 'alpha': 0.06037583780566152, 'learning_rate_init': 0.00014536912255208354}. Best is trial 48 with value: 0.5191357531282066.\n"
     ]
    },
    {
     "name": "stdout",
     "output_type": "stream",
     "text": [
      "Cross validation scores: [0.50915601 0.51841314 0.50651872 0.51246571 0.51125485]\n",
      "Average score: 0.51156168903493\n"
     ]
    },
    {
     "name": "stderr",
     "output_type": "stream",
     "text": [
      "d:\\VSCode_Workspaces\\unibs_mldm_diabetes\\.venv\\Lib\\site-packages\\sklearn\\neural_network\\_multilayer_perceptron.py:545: ConvergenceWarning: lbfgs failed to converge (status=1):\n",
      "STOP: TOTAL NO. of ITERATIONS REACHED LIMIT.\n",
      "\n",
      "Increase the number of iterations (max_iter) or scale the data as shown in:\n",
      "    https://scikit-learn.org/stable/modules/preprocessing.html\n",
      "  self.n_iter_ = _check_optimize_result(\"lbfgs\", opt_res, self.max_iter)\n",
      "d:\\VSCode_Workspaces\\unibs_mldm_diabetes\\.venv\\Lib\\site-packages\\sklearn\\neural_network\\_multilayer_perceptron.py:545: ConvergenceWarning: lbfgs failed to converge (status=1):\n",
      "STOP: TOTAL NO. of ITERATIONS REACHED LIMIT.\n",
      "\n",
      "Increase the number of iterations (max_iter) or scale the data as shown in:\n",
      "    https://scikit-learn.org/stable/modules/preprocessing.html\n",
      "  self.n_iter_ = _check_optimize_result(\"lbfgs\", opt_res, self.max_iter)\n",
      "d:\\VSCode_Workspaces\\unibs_mldm_diabetes\\.venv\\Lib\\site-packages\\sklearn\\neural_network\\_multilayer_perceptron.py:545: ConvergenceWarning: lbfgs failed to converge (status=1):\n",
      "STOP: TOTAL NO. of ITERATIONS REACHED LIMIT.\n",
      "\n",
      "Increase the number of iterations (max_iter) or scale the data as shown in:\n",
      "    https://scikit-learn.org/stable/modules/preprocessing.html\n",
      "  self.n_iter_ = _check_optimize_result(\"lbfgs\", opt_res, self.max_iter)\n",
      "d:\\VSCode_Workspaces\\unibs_mldm_diabetes\\.venv\\Lib\\site-packages\\sklearn\\neural_network\\_multilayer_perceptron.py:545: ConvergenceWarning: lbfgs failed to converge (status=1):\n",
      "STOP: TOTAL NO. of ITERATIONS REACHED LIMIT.\n",
      "\n",
      "Increase the number of iterations (max_iter) or scale the data as shown in:\n",
      "    https://scikit-learn.org/stable/modules/preprocessing.html\n",
      "  self.n_iter_ = _check_optimize_result(\"lbfgs\", opt_res, self.max_iter)\n",
      "d:\\VSCode_Workspaces\\unibs_mldm_diabetes\\.venv\\Lib\\site-packages\\sklearn\\neural_network\\_multilayer_perceptron.py:690: ConvergenceWarning: Stochastic Optimizer: Maximum iterations (500) reached and the optimization hasn't converged yet.\n",
      "  warnings.warn(\n",
      "d:\\VSCode_Workspaces\\unibs_mldm_diabetes\\.venv\\Lib\\site-packages\\sklearn\\neural_network\\_multilayer_perceptron.py:545: ConvergenceWarning: lbfgs failed to converge (status=1):\n",
      "STOP: TOTAL NO. of ITERATIONS REACHED LIMIT.\n",
      "\n",
      "Increase the number of iterations (max_iter) or scale the data as shown in:\n",
      "    https://scikit-learn.org/stable/modules/preprocessing.html\n",
      "  self.n_iter_ = _check_optimize_result(\"lbfgs\", opt_res, self.max_iter)\n",
      "d:\\VSCode_Workspaces\\unibs_mldm_diabetes\\.venv\\Lib\\site-packages\\sklearn\\neural_network\\_multilayer_perceptron.py:545: ConvergenceWarning: lbfgs failed to converge (status=1):\n",
      "STOP: TOTAL NO. of ITERATIONS REACHED LIMIT.\n",
      "\n",
      "Increase the number of iterations (max_iter) or scale the data as shown in:\n",
      "    https://scikit-learn.org/stable/modules/preprocessing.html\n",
      "  self.n_iter_ = _check_optimize_result(\"lbfgs\", opt_res, self.max_iter)\n",
      "d:\\VSCode_Workspaces\\unibs_mldm_diabetes\\.venv\\Lib\\site-packages\\sklearn\\neural_network\\_multilayer_perceptron.py:545: ConvergenceWarning: lbfgs failed to converge (status=1):\n",
      "STOP: TOTAL NO. of ITERATIONS REACHED LIMIT.\n",
      "\n",
      "Increase the number of iterations (max_iter) or scale the data as shown in:\n",
      "    https://scikit-learn.org/stable/modules/preprocessing.html\n",
      "  self.n_iter_ = _check_optimize_result(\"lbfgs\", opt_res, self.max_iter)\n"
     ]
    },
    {
     "name": "stdout",
     "output_type": "stream",
     "text": [
      "Cross validation scores: [0.51984964 0.51412792 0.52512505 0.51951741 0.50740373]\n",
      "Average score: 0.5172047483863205\n"
     ]
    },
    {
     "name": "stderr",
     "output_type": "stream",
     "text": [
      "[I 2025-01-13 00:13:28,215] Trial 57 finished with value: 0.5172047483863205 and parameters: {'n_layers': 3, 'layer_0': 56, 'layer_1': 38, 'layer_2': 55, 'activation': 'tanh', 'solver': 'lbfgs', 'alpha': 0.09772333822585984, 'learning_rate_init': 0.00019403160162348906}. Best is trial 48 with value: 0.5191357531282066.\n",
      "d:\\VSCode_Workspaces\\unibs_mldm_diabetes\\.venv\\Lib\\site-packages\\sklearn\\neural_network\\_multilayer_perceptron.py:545: ConvergenceWarning: lbfgs failed to converge (status=1):\n",
      "STOP: TOTAL NO. of ITERATIONS REACHED LIMIT.\n",
      "\n",
      "Increase the number of iterations (max_iter) or scale the data as shown in:\n",
      "    https://scikit-learn.org/stable/modules/preprocessing.html\n",
      "  self.n_iter_ = _check_optimize_result(\"lbfgs\", opt_res, self.max_iter)\n",
      "d:\\VSCode_Workspaces\\unibs_mldm_diabetes\\.venv\\Lib\\site-packages\\sklearn\\neural_network\\_multilayer_perceptron.py:690: ConvergenceWarning: Stochastic Optimizer: Maximum iterations (500) reached and the optimization hasn't converged yet.\n",
      "  warnings.warn(\n",
      "d:\\VSCode_Workspaces\\unibs_mldm_diabetes\\.venv\\Lib\\site-packages\\sklearn\\neural_network\\_multilayer_perceptron.py:545: ConvergenceWarning: lbfgs failed to converge (status=1):\n",
      "STOP: TOTAL NO. of ITERATIONS REACHED LIMIT.\n",
      "\n",
      "Increase the number of iterations (max_iter) or scale the data as shown in:\n",
      "    https://scikit-learn.org/stable/modules/preprocessing.html\n",
      "  self.n_iter_ = _check_optimize_result(\"lbfgs\", opt_res, self.max_iter)\n"
     ]
    },
    {
     "name": "stdout",
     "output_type": "stream",
     "text": [
      "Cross validation scores: [0.51944345 0.52240375 0.51570241 0.50566277 0.5086778 ]\n",
      "Average score: 0.5143780365813495\n"
     ]
    },
    {
     "name": "stderr",
     "output_type": "stream",
     "text": [
      "[I 2025-01-13 00:15:15,547] Trial 58 finished with value: 0.5143780365813495 and parameters: {'n_layers': 3, 'layer_0': 55, 'layer_1': 35, 'layer_2': 35, 'activation': 'tanh', 'solver': 'lbfgs', 'alpha': 0.06867092772030838, 'learning_rate_init': 0.0002650890389210728}. Best is trial 48 with value: 0.5191357531282066.\n",
      "[I 2025-01-13 00:15:41,611] Trial 63 finished with value: 0.47633597337075617 and parameters: {'n_layers': 3, 'layer_0': 57, 'layer_1': 36, 'layer_2': 54, 'activation': 'identity', 'solver': 'lbfgs', 'alpha': 0.07378425679282863, 'learning_rate_init': 0.00013872666870570714}. Best is trial 48 with value: 0.5191357531282066.\n"
     ]
    },
    {
     "name": "stdout",
     "output_type": "stream",
     "text": [
      "Cross validation scores: [0.47635241 0.47635241 0.47632501 0.47632501 0.47632501]\n",
      "Average score: 0.47633597337075617\n"
     ]
    },
    {
     "name": "stderr",
     "output_type": "stream",
     "text": [
      "d:\\VSCode_Workspaces\\unibs_mldm_diabetes\\.venv\\Lib\\site-packages\\sklearn\\neural_network\\_multilayer_perceptron.py:545: ConvergenceWarning: lbfgs failed to converge (status=1):\n",
      "STOP: TOTAL NO. of ITERATIONS REACHED LIMIT.\n",
      "\n",
      "Increase the number of iterations (max_iter) or scale the data as shown in:\n",
      "    https://scikit-learn.org/stable/modules/preprocessing.html\n",
      "  self.n_iter_ = _check_optimize_result(\"lbfgs\", opt_res, self.max_iter)\n"
     ]
    },
    {
     "name": "stdout",
     "output_type": "stream",
     "text": [
      "Cross validation scores: [0.50717713 0.51995907 0.5111932  0.50316612 0.51387406]\n",
      "Average score: 0.5110739168902821\n"
     ]
    },
    {
     "name": "stderr",
     "output_type": "stream",
     "text": [
      "[I 2025-01-13 00:16:35,406] Trial 59 finished with value: 0.5110739168902821 and parameters: {'n_layers': 3, 'layer_0': 58, 'layer_1': 31, 'layer_2': 59, 'activation': 'tanh', 'solver': 'lbfgs', 'alpha': 0.027091025840298225, 'learning_rate_init': 0.00038156098613491827}. Best is trial 48 with value: 0.5191357531282066.\n",
      "d:\\VSCode_Workspaces\\unibs_mldm_diabetes\\.venv\\Lib\\site-packages\\sklearn\\neural_network\\_multilayer_perceptron.py:545: ConvergenceWarning: lbfgs failed to converge (status=1):\n",
      "STOP: TOTAL NO. of ITERATIONS REACHED LIMIT.\n",
      "\n",
      "Increase the number of iterations (max_iter) or scale the data as shown in:\n",
      "    https://scikit-learn.org/stable/modules/preprocessing.html\n",
      "  self.n_iter_ = _check_optimize_result(\"lbfgs\", opt_res, self.max_iter)\n",
      "d:\\VSCode_Workspaces\\unibs_mldm_diabetes\\.venv\\Lib\\site-packages\\sklearn\\neural_network\\_multilayer_perceptron.py:545: ConvergenceWarning: lbfgs failed to converge (status=1):\n",
      "STOP: TOTAL NO. of ITERATIONS REACHED LIMIT.\n",
      "\n",
      "Increase the number of iterations (max_iter) or scale the data as shown in:\n",
      "    https://scikit-learn.org/stable/modules/preprocessing.html\n",
      "  self.n_iter_ = _check_optimize_result(\"lbfgs\", opt_res, self.max_iter)\n",
      "d:\\VSCode_Workspaces\\unibs_mldm_diabetes\\.venv\\Lib\\site-packages\\sklearn\\neural_network\\_multilayer_perceptron.py:545: ConvergenceWarning: lbfgs failed to converge (status=1):\n",
      "STOP: TOTAL NO. of ITERATIONS REACHED LIMIT.\n",
      "\n",
      "Increase the number of iterations (max_iter) or scale the data as shown in:\n",
      "    https://scikit-learn.org/stable/modules/preprocessing.html\n",
      "  self.n_iter_ = _check_optimize_result(\"lbfgs\", opt_res, self.max_iter)\n",
      "d:\\VSCode_Workspaces\\unibs_mldm_diabetes\\.venv\\Lib\\site-packages\\sklearn\\neural_network\\_multilayer_perceptron.py:690: ConvergenceWarning: Stochastic Optimizer: Maximum iterations (500) reached and the optimization hasn't converged yet.\n",
      "  warnings.warn(\n",
      "d:\\VSCode_Workspaces\\unibs_mldm_diabetes\\.venv\\Lib\\site-packages\\sklearn\\neural_network\\_multilayer_perceptron.py:545: ConvergenceWarning: lbfgs failed to converge (status=1):\n",
      "STOP: TOTAL NO. of ITERATIONS REACHED LIMIT.\n",
      "\n",
      "Increase the number of iterations (max_iter) or scale the data as shown in:\n",
      "    https://scikit-learn.org/stable/modules/preprocessing.html\n",
      "  self.n_iter_ = _check_optimize_result(\"lbfgs\", opt_res, self.max_iter)\n",
      "d:\\VSCode_Workspaces\\unibs_mldm_diabetes\\.venv\\Lib\\site-packages\\sklearn\\neural_network\\_multilayer_perceptron.py:545: ConvergenceWarning: lbfgs failed to converge (status=1):\n",
      "STOP: TOTAL NO. of ITERATIONS REACHED LIMIT.\n",
      "\n",
      "Increase the number of iterations (max_iter) or scale the data as shown in:\n",
      "    https://scikit-learn.org/stable/modules/preprocessing.html\n",
      "  self.n_iter_ = _check_optimize_result(\"lbfgs\", opt_res, self.max_iter)\n",
      "d:\\VSCode_Workspaces\\unibs_mldm_diabetes\\.venv\\Lib\\site-packages\\sklearn\\neural_network\\_multilayer_perceptron.py:545: ConvergenceWarning: lbfgs failed to converge (status=1):\n",
      "STOP: TOTAL NO. of ITERATIONS REACHED LIMIT.\n",
      "\n",
      "Increase the number of iterations (max_iter) or scale the data as shown in:\n",
      "    https://scikit-learn.org/stable/modules/preprocessing.html\n",
      "  self.n_iter_ = _check_optimize_result(\"lbfgs\", opt_res, self.max_iter)\n",
      "d:\\VSCode_Workspaces\\unibs_mldm_diabetes\\.venv\\Lib\\site-packages\\sklearn\\neural_network\\_multilayer_perceptron.py:545: ConvergenceWarning: lbfgs failed to converge (status=1):\n",
      "STOP: TOTAL NO. of ITERATIONS REACHED LIMIT.\n",
      "\n",
      "Increase the number of iterations (max_iter) or scale the data as shown in:\n",
      "    https://scikit-learn.org/stable/modules/preprocessing.html\n",
      "  self.n_iter_ = _check_optimize_result(\"lbfgs\", opt_res, self.max_iter)\n",
      "d:\\VSCode_Workspaces\\unibs_mldm_diabetes\\.venv\\Lib\\site-packages\\sklearn\\neural_network\\_multilayer_perceptron.py:545: ConvergenceWarning: lbfgs failed to converge (status=1):\n",
      "STOP: TOTAL NO. of ITERATIONS REACHED LIMIT.\n",
      "\n",
      "Increase the number of iterations (max_iter) or scale the data as shown in:\n",
      "    https://scikit-learn.org/stable/modules/preprocessing.html\n",
      "  self.n_iter_ = _check_optimize_result(\"lbfgs\", opt_res, self.max_iter)\n",
      "d:\\VSCode_Workspaces\\unibs_mldm_diabetes\\.venv\\Lib\\site-packages\\sklearn\\neural_network\\_multilayer_perceptron.py:545: ConvergenceWarning: lbfgs failed to converge (status=1):\n",
      "STOP: TOTAL NO. of ITERATIONS REACHED LIMIT.\n",
      "\n",
      "Increase the number of iterations (max_iter) or scale the data as shown in:\n",
      "    https://scikit-learn.org/stable/modules/preprocessing.html\n",
      "  self.n_iter_ = _check_optimize_result(\"lbfgs\", opt_res, self.max_iter)\n"
     ]
    },
    {
     "name": "stdout",
     "output_type": "stream",
     "text": [
      "Cross validation scores: [0.51174613 0.52052129 0.51699526 0.51963089 0.51219818]\n",
      "Average score: 0.5162183507492963\n"
     ]
    },
    {
     "name": "stderr",
     "output_type": "stream",
     "text": [
      "[I 2025-01-13 00:21:30,641] Trial 60 finished with value: 0.5162183507492963 and parameters: {'n_layers': 3, 'layer_0': 73, 'layer_1': 41, 'layer_2': 66, 'activation': 'tanh', 'solver': 'lbfgs', 'alpha': 0.0016240696912777665, 'learning_rate_init': 0.0005721135388968796}. Best is trial 48 with value: 0.5191357531282066.\n",
      "d:\\VSCode_Workspaces\\unibs_mldm_diabetes\\.venv\\Lib\\site-packages\\sklearn\\neural_network\\_multilayer_perceptron.py:545: ConvergenceWarning: lbfgs failed to converge (status=1):\n",
      "STOP: TOTAL NO. of ITERATIONS REACHED LIMIT.\n",
      "\n",
      "Increase the number of iterations (max_iter) or scale the data as shown in:\n",
      "    https://scikit-learn.org/stable/modules/preprocessing.html\n",
      "  self.n_iter_ = _check_optimize_result(\"lbfgs\", opt_res, self.max_iter)\n",
      "d:\\VSCode_Workspaces\\unibs_mldm_diabetes\\.venv\\Lib\\site-packages\\sklearn\\neural_network\\_multilayer_perceptron.py:690: ConvergenceWarning: Stochastic Optimizer: Maximum iterations (500) reached and the optimization hasn't converged yet.\n",
      "  warnings.warn(\n",
      "d:\\VSCode_Workspaces\\unibs_mldm_diabetes\\.venv\\Lib\\site-packages\\sklearn\\neural_network\\_multilayer_perceptron.py:545: ConvergenceWarning: lbfgs failed to converge (status=1):\n",
      "STOP: TOTAL NO. of ITERATIONS REACHED LIMIT.\n",
      "\n",
      "Increase the number of iterations (max_iter) or scale the data as shown in:\n",
      "    https://scikit-learn.org/stable/modules/preprocessing.html\n",
      "  self.n_iter_ = _check_optimize_result(\"lbfgs\", opt_res, self.max_iter)\n"
     ]
    },
    {
     "name": "stdout",
     "output_type": "stream",
     "text": [
      "Cross validation scores: [0.48314262 0.48656556 0.48411181 0.4855613  0.48495992]\n",
      "Average score: 0.4848682415583575\n"
     ]
    },
    {
     "name": "stderr",
     "output_type": "stream",
     "text": [
      "[I 2025-01-13 00:22:39,458] Trial 65 finished with value: 0.4848682415583575 and parameters: {'n_layers': 1, 'layer_0': 53, 'activation': 'tanh', 'solver': 'lbfgs', 'alpha': 0.04959801510174403, 'learning_rate_init': 0.0005657836567128377}. Best is trial 48 with value: 0.5191357531282066.\n",
      "d:\\VSCode_Workspaces\\unibs_mldm_diabetes\\.venv\\Lib\\site-packages\\sklearn\\neural_network\\_multilayer_perceptron.py:545: ConvergenceWarning: lbfgs failed to converge (status=1):\n",
      "STOP: TOTAL NO. of ITERATIONS REACHED LIMIT.\n",
      "\n",
      "Increase the number of iterations (max_iter) or scale the data as shown in:\n",
      "    https://scikit-learn.org/stable/modules/preprocessing.html\n",
      "  self.n_iter_ = _check_optimize_result(\"lbfgs\", opt_res, self.max_iter)\n",
      "d:\\VSCode_Workspaces\\unibs_mldm_diabetes\\.venv\\Lib\\site-packages\\sklearn\\neural_network\\_multilayer_perceptron.py:545: ConvergenceWarning: lbfgs failed to converge (status=1):\n",
      "STOP: TOTAL NO. of ITERATIONS REACHED LIMIT.\n",
      "\n",
      "Increase the number of iterations (max_iter) or scale the data as shown in:\n",
      "    https://scikit-learn.org/stable/modules/preprocessing.html\n",
      "  self.n_iter_ = _check_optimize_result(\"lbfgs\", opt_res, self.max_iter)\n",
      "d:\\VSCode_Workspaces\\unibs_mldm_diabetes\\.venv\\Lib\\site-packages\\sklearn\\neural_network\\_multilayer_perceptron.py:545: ConvergenceWarning: lbfgs failed to converge (status=1):\n",
      "STOP: TOTAL NO. of ITERATIONS REACHED LIMIT.\n",
      "\n",
      "Increase the number of iterations (max_iter) or scale the data as shown in:\n",
      "    https://scikit-learn.org/stable/modules/preprocessing.html\n",
      "  self.n_iter_ = _check_optimize_result(\"lbfgs\", opt_res, self.max_iter)\n",
      "d:\\VSCode_Workspaces\\unibs_mldm_diabetes\\.venv\\Lib\\site-packages\\sklearn\\neural_network\\_multilayer_perceptron.py:690: ConvergenceWarning: Stochastic Optimizer: Maximum iterations (500) reached and the optimization hasn't converged yet.\n",
      "  warnings.warn(\n"
     ]
    },
    {
     "name": "stdout",
     "output_type": "stream",
     "text": [
      "Cross validation scores: [0.5050462  0.51790529 0.51716704 0.50905433 0.51706731]\n",
      "Average score: 0.5132480356688495\n"
     ]
    },
    {
     "name": "stderr",
     "output_type": "stream",
     "text": [
      "[I 2025-01-13 00:25:31,784] Trial 61 finished with value: 0.5132480356688495 and parameters: {'n_layers': 3, 'layer_0': 47, 'layer_1': 50, 'layer_2': 50, 'activation': 'tanh', 'solver': 'adam', 'alpha': 0.000240353652601405, 'learning_rate_init': 0.000989293923684542}. Best is trial 48 with value: 0.5191357531282066.\n",
      "d:\\VSCode_Workspaces\\unibs_mldm_diabetes\\.venv\\Lib\\site-packages\\sklearn\\neural_network\\_multilayer_perceptron.py:545: ConvergenceWarning: lbfgs failed to converge (status=1):\n",
      "STOP: TOTAL NO. of ITERATIONS REACHED LIMIT.\n",
      "\n",
      "Increase the number of iterations (max_iter) or scale the data as shown in:\n",
      "    https://scikit-learn.org/stable/modules/preprocessing.html\n",
      "  self.n_iter_ = _check_optimize_result(\"lbfgs\", opt_res, self.max_iter)\n"
     ]
    }
   ],
   "source": [
    "study.optimize(\n",
    "    objective,\n",
    "    n_trials=N_TRIALS,\n",
    "    n_jobs=-1 # Use all available cores\n",
    ")"
   ]
  },
  {
   "cell_type": "code",
   "execution_count": null,
   "metadata": {},
   "outputs": [],
   "source": [
    "print('Best Trial: {}'.format(study.best_trial.number))\n",
    "print('Best Parameters: {}'.format(study.best_params))\n",
    "print('Best Value: {}'.format(study.best_value))"
   ]
  },
  {
   "cell_type": "markdown",
   "metadata": {},
   "source": [
    "### 2.3 Optuna Visualizations\n",
    "Visualizing hyper-parameter tuning results obtained by running Optuna."
   ]
  },
  {
   "cell_type": "code",
   "execution_count": null,
   "metadata": {},
   "outputs": [],
   "source": [
    "optuna.visualization.plot_optimization_history(study)"
   ]
  },
  {
   "cell_type": "code",
   "execution_count": null,
   "metadata": {},
   "outputs": [],
   "source": [
    "optuna.visualization.plot_slice(study)"
   ]
  },
  {
   "cell_type": "code",
   "execution_count": null,
   "metadata": {},
   "outputs": [],
   "source": [
    "optuna.visualization.plot_param_importances(study)"
   ]
  },
  {
   "cell_type": "code",
   "execution_count": null,
   "metadata": {},
   "outputs": [],
   "source": [
    "optuna.visualization.plot_parallel_coordinate(study)"
   ]
  },
  {
   "cell_type": "code",
   "execution_count": null,
   "metadata": {},
   "outputs": [],
   "source": [
    "optuna.visualization.plot_contour(study)"
   ]
  },
  {
   "cell_type": "code",
   "execution_count": null,
   "metadata": {},
   "outputs": [],
   "source": [
    "optuna.visualization.plot_timeline(study)"
   ]
  },
  {
   "cell_type": "markdown",
   "metadata": {},
   "source": [
    "### 2.4 Fitting Best Model\n",
    "Fitting the final model using the best hyper-parameters found by Optuna."
   ]
  },
  {
   "cell_type": "code",
   "execution_count": null,
   "metadata": {},
   "outputs": [],
   "source": [
    "# Fit best model on the training set\n",
    "best_params = study.best_params\n",
    "\n",
    "model = MLPClassifier(**best_params, random_state=RANDOM_STATE)\n",
    "\n",
    "model.fit(X_train, y_train)"
   ]
  },
  {
   "cell_type": "code",
   "execution_count": 245,
   "metadata": {},
   "outputs": [],
   "source": [
    "# Predictions\n",
    "y_train_pred_none = model.predict(X_train)\n",
    "y_test_pred_none = model.predict(X_test)"
   ]
  },
  {
   "cell_type": "code",
   "execution_count": null,
   "metadata": {},
   "outputs": [],
   "source": [
    "ac_train_none = accuracy_score(y_train, y_train_pred_none)\n",
    "ac_test_none = accuracy_score(y_test, y_test_pred_none)\n",
    "\n",
    "print('Train accuracy: ', ac_train_none)\n",
    "print('Test accuracy: ', ac_test_none)"
   ]
  },
  {
   "cell_type": "code",
   "execution_count": null,
   "metadata": {},
   "outputs": [],
   "source": [
    "# Visualize precision, recall, F1-score\n",
    "print(classification_report(\n",
    "    y_test, y_test_pred_none,\n",
    "    target_names=['Late or non-readmission', 'Early-readmission']\n",
    "))"
   ]
  },
  {
   "cell_type": "code",
   "execution_count": 248,
   "metadata": {},
   "outputs": [],
   "source": [
    "# Compute precision, recall, F1-score, ROC-AUC-score, and accuracy\n",
    "recall_none = recall_score(y_test, y_test_pred_none, average='macro')\n",
    "precision_none = precision_score(y_test, y_test_pred_none, average='macro')\n",
    "f1_none = f1_score(y_test, y_test_pred_none, average='macro')\n",
    "roc_auc_none = roc_auc_score(y_test, y_test_pred_none, average='macro')\n",
    "accuracy_none = accuracy_score(y_test, y_test_pred_none)"
   ]
  },
  {
   "cell_type": "code",
   "execution_count": null,
   "metadata": {},
   "outputs": [],
   "source": [
    "# Visualize confusion matrix with both absolute and percentage values\n",
    "cm_none = confusion_matrix(y_test, y_test_pred_none)\n",
    "cm_none_norm = confusion_matrix(y_test, y_test_pred_none, normalize='true')\n",
    "\n",
    "annotations_none = np.array([\n",
    "    [f\"{val}\\n({perc:.1%})\" for val, perc in zip(row, norm_row)]\n",
    "    for row, norm_row in zip(cm_none, cm_none_norm)\n",
    "])\n",
    "\n",
    "sns.heatmap(\n",
    "    cm_none,\n",
    "    annot=annotations_none,\n",
    "    cmap='Blues',\n",
    "    fmt='',\n",
    "    xticklabels=['Late or non-readmission', 'Early-readmission'],\n",
    "    yticklabels=['Late or non-readmission', 'Early-readmission']\n",
    ")"
   ]
  },
  {
   "cell_type": "markdown",
   "metadata": {},
   "source": [
    "## **3. Optuna Hyper-parameter Tuning | Undersampling**\n",
    "Hyper-parameter tuning of the model using Optuna, and undersampling with RandomUnderSampler."
   ]
  },
  {
   "cell_type": "markdown",
   "metadata": {},
   "source": [
    "### 3.1 Objective & study setup\n",
    "Preparing the objective function with all hyper-parameters, and creating/loading the Optuna study."
   ]
  },
  {
   "cell_type": "code",
   "execution_count": 250,
   "metadata": {},
   "outputs": [],
   "source": [
    "def objective(trial: optuna.Trial) -> float:\n",
    "    # Hyperparameter search space\n",
    "    params = {\n",
    "        \"hidden_layer_sizes\": tuple(\n",
    "            trial.suggest_int(f\"layer_{i}\", 10, 100) for i in range(trial.suggest_int(\"n_layers\", 1, 3))\n",
    "        ),\n",
    "        \"activation\": trial.suggest_categorical(\"activation\", [\"identity\", \"logistic\", \"tanh\", \"relu\"]),\n",
    "        \"solver\": trial.suggest_categorical(\"solver\", [\"lbfgs\", \"sgd\", \"adam\"]),\n",
    "        \"alpha\": trial.suggest_float(\"alpha\", 1e-5, 1e-1, log=True),\n",
    "        \"learning_rate_init\": trial.suggest_float(\"learning_rate_init\", 1e-4, 1e-1, log=True),\n",
    "        \"max_iter\": 500\n",
    "    }\n",
    "    \n",
    "    # Build pipeline\n",
    "    pipeline = make_pipeline(\n",
    "        RandomUnderSampler(random_state=RANDOM_STATE),\n",
    "        MLPClassifier(**params, random_state=RANDOM_STATE)\n",
    "    )\n",
    "    \n",
    "    # Define validation folds\n",
    "    kf = StratifiedKFold(n_splits=5, shuffle=False)\n",
    "    \n",
    "    # Cross validation\n",
    "    scores = cross_val_score(pipeline, X_train, y_train, cv=kf, scoring=SCORING)\n",
    "\n",
    "    print(\"Cross validation scores: {}\".format(scores))\n",
    "    print(\"Average score: {}\".format(scores.mean()))\n",
    "\n",
    "    return scores.mean()"
   ]
  },
  {
   "cell_type": "code",
   "execution_count": null,
   "metadata": {},
   "outputs": [],
   "source": [
    "# Set up study with name and storage\n",
    "storage = JournalStorage(JournalFileBackend(STUDY_PATH_RUS))\n",
    "\n",
    "study = optuna.create_study(\n",
    "    direction=\"maximize\",\n",
    "    study_name=STUDY_NAME,\n",
    "    storage=storage,\n",
    "    load_if_exists=True,\n",
    "    sampler=optuna.samplers.TPESampler(constant_liar=True, seed=RANDOM_STATE),\n",
    "    pruner=optuna.pruners.SuccessiveHalvingPruner()\n",
    ")\n",
    "\n",
    "optuna.logging.set_verbosity(optuna.logging.INFO)"
   ]
  },
  {
   "cell_type": "markdown",
   "metadata": {},
   "source": [
    "### 3.2 Hyper-parameter tuning\n",
    "**(CAUTION)** <u>Do not run</u>, unless you already need to find the best parameters. If you already have bound the best model configuration, <u>run the section above</u> _(Objective & study setup)_."
   ]
  },
  {
   "cell_type": "code",
   "execution_count": null,
   "metadata": {},
   "outputs": [],
   "source": [
    "study.optimize(\n",
    "    objective,\n",
    "    n_trials=N_TRIALS,\n",
    "    n_jobs=-1 # Use all available cores\n",
    ")"
   ]
  },
  {
   "cell_type": "code",
   "execution_count": null,
   "metadata": {},
   "outputs": [],
   "source": [
    "print('Best Trial: {}'.format(study.best_trial.number))\n",
    "print('Best Parameters: {}'.format(study.best_params))\n",
    "print('Best Value: {}'.format(study.best_value))"
   ]
  },
  {
   "cell_type": "markdown",
   "metadata": {},
   "source": [
    "### 3.3 Optuna Visualizations\n",
    "Visualizing hyper-parameter tuning results obtained by running Optuna."
   ]
  },
  {
   "cell_type": "code",
   "execution_count": null,
   "metadata": {},
   "outputs": [],
   "source": [
    "optuna.visualization.plot_optimization_history(study)"
   ]
  },
  {
   "cell_type": "code",
   "execution_count": null,
   "metadata": {},
   "outputs": [],
   "source": [
    "optuna.visualization.plot_slice(study)"
   ]
  },
  {
   "cell_type": "code",
   "execution_count": null,
   "metadata": {},
   "outputs": [],
   "source": [
    "optuna.visualization.plot_param_importances(study)"
   ]
  },
  {
   "cell_type": "code",
   "execution_count": null,
   "metadata": {},
   "outputs": [],
   "source": [
    "optuna.visualization.plot_parallel_coordinate(study)"
   ]
  },
  {
   "cell_type": "code",
   "execution_count": null,
   "metadata": {},
   "outputs": [],
   "source": [
    "optuna.visualization.plot_contour(study)"
   ]
  },
  {
   "cell_type": "code",
   "execution_count": null,
   "metadata": {},
   "outputs": [],
   "source": [
    "optuna.visualization.plot_timeline(study)"
   ]
  },
  {
   "cell_type": "markdown",
   "metadata": {},
   "source": [
    "### 3.4 Fitting Best Model\n",
    "Fitting the final model using the best hyper-parameters found by Optuna."
   ]
  },
  {
   "cell_type": "code",
   "execution_count": null,
   "metadata": {},
   "outputs": [],
   "source": [
    "# Fit best model on the training set\n",
    "best_params = study.best_params\n",
    "\n",
    "pipeline_rus = make_pipeline(\n",
    "    RandomUnderSampler(random_state=RANDOM_STATE),\n",
    "    MLPClassifier(**best_params, random_state=RANDOM_STATE)\n",
    ")\n",
    "\n",
    "pipeline_rus.fit(X_train, y_train)"
   ]
  },
  {
   "cell_type": "code",
   "execution_count": 261,
   "metadata": {},
   "outputs": [],
   "source": [
    "# Predictions\n",
    "y_train_pred_rus = pipeline_rus.predict(X_train)\n",
    "y_test_pred_rus = pipeline_rus.predict(X_test)"
   ]
  },
  {
   "cell_type": "code",
   "execution_count": null,
   "metadata": {},
   "outputs": [],
   "source": [
    "ac_train_rus = accuracy_score(y_train, y_train_pred_rus)\n",
    "ac_test_rus = accuracy_score(y_test, y_test_pred_rus)\n",
    "\n",
    "print('Train accuracy: ', ac_train_rus)\n",
    "print('Test accuracy: ', ac_test_rus)"
   ]
  },
  {
   "cell_type": "code",
   "execution_count": null,
   "metadata": {},
   "outputs": [],
   "source": [
    "# Visualize precision, recall, F1-score\n",
    "print(classification_report(\n",
    "    y_test, y_test_pred_rus,\n",
    "    target_names=['Late or non-readmission', 'Early-readmission']\n",
    "))"
   ]
  },
  {
   "cell_type": "code",
   "execution_count": 264,
   "metadata": {},
   "outputs": [],
   "source": [
    "# Compute precision, recall, F1-score, ROC-AUC-score, and accuracy\n",
    "recall_rus = recall_score(y_test, y_test_pred_rus, average='macro')\n",
    "precision_rus = precision_score(y_test, y_test_pred_rus, average='macro')\n",
    "f1_rus = f1_score(y_test, y_test_pred_rus, average='macro')\n",
    "roc_auc_rus = roc_auc_score(y_test, y_test_pred_rus, average='macro')\n",
    "accuracy_rus = accuracy_score(y_test, y_test_pred_rus)"
   ]
  },
  {
   "cell_type": "code",
   "execution_count": null,
   "metadata": {},
   "outputs": [],
   "source": [
    "# Visualize confusion matrix with both absolute and percentage values\n",
    "cm_rus = confusion_matrix(y_test, y_test_pred_rus)\n",
    "cm_rus_norm = confusion_matrix(y_test, y_test_pred_rus, normalize='true')\n",
    "\n",
    "annotations_rus = np.array([\n",
    "    [f\"{val}\\n({perc:.1%})\" for val, perc in zip(row, norm_row)]\n",
    "    for row, norm_row in zip(cm_rus, cm_rus_norm)\n",
    "])\n",
    "\n",
    "sns.heatmap(\n",
    "    cm_rus,\n",
    "    annot=annotations_rus,\n",
    "    cmap='Blues',\n",
    "    fmt='',\n",
    "    xticklabels=['Late or non-readmission', 'Early-readmission'],\n",
    "    yticklabels=['Late or non-readmission', 'Early-readmission']\n",
    ")"
   ]
  },
  {
   "cell_type": "markdown",
   "metadata": {},
   "source": [
    "## **4. Optuna Hyper-parameter Tuning | SMOTE**\n",
    "Hyper-parameter tuning of the model using Optuna, and oversampling with SMOTE."
   ]
  },
  {
   "cell_type": "markdown",
   "metadata": {},
   "source": [
    "### 4.1 Objective & study setup\n",
    "Preparing the objective function with all hyper-parameters, and creating/loading the Optuna study."
   ]
  },
  {
   "cell_type": "code",
   "execution_count": 266,
   "metadata": {},
   "outputs": [],
   "source": [
    "def objective(trial: optuna.Trial) -> float:\n",
    "    # Hyperparameter search space\n",
    "    params = {\n",
    "        \"hidden_layer_sizes\": tuple(\n",
    "            trial.suggest_int(f\"layer_{i}\", 10, 100) for i in range(trial.suggest_int(\"n_layers\", 1, 3))\n",
    "        ),\n",
    "        \"activation\": trial.suggest_categorical(\"activation\", [\"identity\", \"logistic\", \"tanh\", \"relu\"]),\n",
    "        \"solver\": trial.suggest_categorical(\"solver\", [\"lbfgs\", \"sgd\", \"adam\"]),\n",
    "        \"alpha\": trial.suggest_float(\"alpha\", 1e-5, 1e-1, log=True),\n",
    "        \"learning_rate_init\": trial.suggest_float(\"learning_rate_init\", 1e-4, 1e-1, log=True),\n",
    "        \"max_iter\": 500\n",
    "    }\n",
    "    \n",
    "    # Build pipeline\n",
    "    pipeline = make_pipeline(\n",
    "        SMOTE(random_state=RANDOM_STATE),\n",
    "        MLPClassifier(**params, random_state=RANDOM_STATE)\n",
    "    )\n",
    "    \n",
    "    # Define validation folds\n",
    "    kf = StratifiedKFold(n_splits=5, shuffle=False)\n",
    "    \n",
    "    # Cross validation\n",
    "    scores = cross_val_score(pipeline, X_train, y_train, cv=kf, scoring=SCORING)\n",
    "\n",
    "    print(\"Cross validation scores: {}\".format(scores))\n",
    "    print(\"Average score: {}\".format(scores.mean()))\n",
    "\n",
    "    return scores.mean()"
   ]
  },
  {
   "cell_type": "code",
   "execution_count": null,
   "metadata": {},
   "outputs": [],
   "source": [
    "# Set up study with name and storage\n",
    "storage = JournalStorage(JournalFileBackend(STUDY_PATH_SMOTE))\n",
    "\n",
    "study = optuna.create_study(\n",
    "    direction=\"maximize\",\n",
    "    study_name=STUDY_NAME,\n",
    "    storage=storage,\n",
    "    load_if_exists=True,\n",
    "    sampler=optuna.samplers.TPESampler(constant_liar=True, seed=RANDOM_STATE),\n",
    "    pruner=optuna.pruners.SuccessiveHalvingPruner()\n",
    ")\n",
    "\n",
    "optuna.logging.set_verbosity(optuna.logging.INFO)"
   ]
  },
  {
   "cell_type": "markdown",
   "metadata": {},
   "source": [
    "### 4.2 Hyper-parameter tuning\n",
    "**(CAUTION)** <u>Do not run</u>, unless you already need to find the best parameters. If you already have bound the best model configuration, <u>run the section above</u> _(Objective & study setup)_."
   ]
  },
  {
   "cell_type": "code",
   "execution_count": null,
   "metadata": {},
   "outputs": [],
   "source": [
    "study.optimize(\n",
    "    objective,\n",
    "    n_trials=N_TRIALS,\n",
    "    n_jobs=-1 # Use all available cores\n",
    ")"
   ]
  },
  {
   "cell_type": "code",
   "execution_count": null,
   "metadata": {},
   "outputs": [],
   "source": [
    "print('Best Trial: {}'.format(study.best_trial.number))\n",
    "print('Best Parameters: {}'.format(study.best_params))\n",
    "print('Best Value: {}'.format(study.best_value))"
   ]
  },
  {
   "cell_type": "markdown",
   "metadata": {},
   "source": [
    "### 4.3 Optuna Visualizations\n",
    "Visualizing hyper-parameter tuning results obtained by running Optuna."
   ]
  },
  {
   "cell_type": "code",
   "execution_count": null,
   "metadata": {},
   "outputs": [],
   "source": [
    "optuna.visualization.plot_optimization_history(study)"
   ]
  },
  {
   "cell_type": "code",
   "execution_count": null,
   "metadata": {},
   "outputs": [],
   "source": [
    "optuna.visualization.plot_slice(study)"
   ]
  },
  {
   "cell_type": "code",
   "execution_count": null,
   "metadata": {},
   "outputs": [],
   "source": [
    "optuna.visualization.plot_param_importances(study)"
   ]
  },
  {
   "cell_type": "code",
   "execution_count": null,
   "metadata": {},
   "outputs": [],
   "source": [
    "optuna.visualization.plot_parallel_coordinate(study)"
   ]
  },
  {
   "cell_type": "code",
   "execution_count": null,
   "metadata": {},
   "outputs": [],
   "source": [
    "optuna.visualization.plot_contour(study)"
   ]
  },
  {
   "cell_type": "code",
   "execution_count": null,
   "metadata": {},
   "outputs": [],
   "source": [
    "optuna.visualization.plot_timeline(study)"
   ]
  },
  {
   "cell_type": "markdown",
   "metadata": {},
   "source": [
    "### 4.4 Fitting Best Model\n",
    "Fitting the final model using the best hyper-parameters found by Optuna."
   ]
  },
  {
   "cell_type": "code",
   "execution_count": null,
   "metadata": {},
   "outputs": [],
   "source": [
    "# Fit best model on the training set\n",
    "best_params = study.best_params\n",
    "\n",
    "pipeline_smote = make_pipeline(\n",
    "    SMOTE(random_state=RANDOM_STATE),\n",
    "    MLPClassifier(**best_params, random_state=RANDOM_STATE)\n",
    ")\n",
    "\n",
    "pipeline_smote.fit(X_train, y_train)"
   ]
  },
  {
   "cell_type": "code",
   "execution_count": 277,
   "metadata": {},
   "outputs": [],
   "source": [
    "# Predictions\n",
    "y_train_pred_smote = pipeline_smote.predict(X_train)\n",
    "y_test_pred_smote = pipeline_smote.predict(X_test)"
   ]
  },
  {
   "cell_type": "code",
   "execution_count": null,
   "metadata": {},
   "outputs": [],
   "source": [
    "ac_train_smote = accuracy_score(y_train, y_train_pred_smote)\n",
    "ac_test_smote = accuracy_score(y_test, y_test_pred_smote)\n",
    "\n",
    "print('Train accuracy: ', ac_train_smote)\n",
    "print('Test accuracy: ', ac_test_smote)"
   ]
  },
  {
   "cell_type": "code",
   "execution_count": null,
   "metadata": {},
   "outputs": [],
   "source": [
    "# Visualize precision, recall, F1-score\n",
    "print(classification_report(\n",
    "    y_test, y_test_pred_smote,\n",
    "    target_names=['Late or non-readmission', 'Early-readmission']\n",
    "))"
   ]
  },
  {
   "cell_type": "code",
   "execution_count": 280,
   "metadata": {},
   "outputs": [],
   "source": [
    "# Compute precision, recall, F1-score, ROC-AUC-score, and accuracy\n",
    "recall_smote = recall_score(y_test, y_test_pred_smote, average='macro')\n",
    "precision_smote = precision_score(y_test, y_test_pred_smote, average='macro')\n",
    "f1_smote = f1_score(y_test, y_test_pred_smote, average='macro')\n",
    "roc_auc_smote = roc_auc_score(y_test, y_test_pred_smote, average='macro')\n",
    "accuracy_smote = accuracy_score(y_test, y_test_pred_smote)"
   ]
  },
  {
   "cell_type": "code",
   "execution_count": null,
   "metadata": {},
   "outputs": [],
   "source": [
    "# Visualize confusion matrix with both absolute and percentage values\n",
    "cm_smote = confusion_matrix(y_test, y_test_pred_smote)\n",
    "cm_smote_norm = confusion_matrix(y_test, y_test_pred_smote, normalize='true')\n",
    "\n",
    "annotations_smote = np.array([\n",
    "    [f\"{val}\\n({perc:.1%})\" for val, perc in zip(row, norm_row)]\n",
    "    for row, norm_row in zip(cm_smote, cm_smote_norm)\n",
    "])\n",
    "\n",
    "sns.heatmap(\n",
    "    cm_smote,\n",
    "    annot=annotations_smote,\n",
    "    cmap='Blues',\n",
    "    fmt='',\n",
    "    xticklabels=['Late or non-readmission', 'Early-readmission'],\n",
    "    yticklabels=['Late or non-readmission', 'Early-readmission']\n",
    ")"
   ]
  },
  {
   "cell_type": "markdown",
   "metadata": {},
   "source": [
    "## **5. Optuna Hyper-parameter Tuning | SMOTE + Tomek Links**\n",
    "Hyper-parameter tuning of the model using Optuna, by oversampling with SMOTE and undersampling with Tomek Links."
   ]
  },
  {
   "cell_type": "markdown",
   "metadata": {},
   "source": [
    "### 5.1 Objective & study setup\n",
    "Preparing the objective function with all hyper-parameters, and creating/loading the Optuna study."
   ]
  },
  {
   "cell_type": "code",
   "execution_count": 282,
   "metadata": {},
   "outputs": [],
   "source": [
    "def objective(trial: optuna.Trial) -> float:\n",
    "    # Hyperparameter search space\n",
    "    params = {\n",
    "        \"hidden_layer_sizes\": tuple(\n",
    "            trial.suggest_int(f\"layer_{i}\", 10, 100) for i in range(trial.suggest_int(\"n_layers\", 1, 3))\n",
    "        ),\n",
    "        \"activation\": trial.suggest_categorical(\"activation\", [\"identity\", \"logistic\", \"tanh\", \"relu\"]),\n",
    "        \"solver\": trial.suggest_categorical(\"solver\", [\"lbfgs\", \"sgd\", \"adam\"]),\n",
    "        \"alpha\": trial.suggest_float(\"alpha\", 1e-5, 1e-1, log=True),\n",
    "        \"learning_rate_init\": trial.suggest_float(\"learning_rate_init\", 1e-4, 1e-1, log=True),\n",
    "        \"max_iter\": 500\n",
    "    }\n",
    "    \n",
    "    # Build pipeline\n",
    "    pipeline = make_pipeline(\n",
    "        SMOTETomek(tomek=TomekLinks(sampling_strategy='majority'), random_state=RANDOM_STATE),\n",
    "        MLPClassifier(**params, random_state=RANDOM_STATE)\n",
    "    )\n",
    "    \n",
    "    # Define validation folds\n",
    "    kf = StratifiedKFold(n_splits=5, shuffle=False)\n",
    "    \n",
    "    # Cross validation\n",
    "    scores = cross_val_score(pipeline, X_train, y_train, cv=kf, scoring=SCORING)\n",
    "\n",
    "    print(\"Cross validation scores: {}\".format(scores))\n",
    "    print(\"Average score: {}\".format(scores.mean()))\n",
    "\n",
    "    return scores.mean()"
   ]
  },
  {
   "cell_type": "code",
   "execution_count": null,
   "metadata": {},
   "outputs": [],
   "source": [
    "# Set up study with name and storage\n",
    "storage = JournalStorage(JournalFileBackend(STUDY_PATH_SMOTE_TOMEK))\n",
    "\n",
    "study = optuna.create_study(\n",
    "    direction=\"maximize\",\n",
    "    study_name=STUDY_NAME,\n",
    "    storage=storage,\n",
    "    load_if_exists=True,\n",
    "    sampler=optuna.samplers.TPESampler(constant_liar=True, seed=RANDOM_STATE),\n",
    "    pruner=optuna.pruners.SuccessiveHalvingPruner()\n",
    ")\n",
    "\n",
    "optuna.logging.set_verbosity(optuna.logging.INFO)"
   ]
  },
  {
   "cell_type": "markdown",
   "metadata": {},
   "source": [
    "### 5.2 Hyper-parameter tuning\n",
    "**(CAUTION)** <u>Do not run</u>, unless you already need to find the best parameters. If you already have bound the best model configuration, <u>run the section above</u> _(Objective & study setup)_."
   ]
  },
  {
   "cell_type": "code",
   "execution_count": null,
   "metadata": {},
   "outputs": [],
   "source": [
    "study.optimize(\n",
    "    objective,\n",
    "    n_trials=N_TRIALS,\n",
    "    n_jobs=-1 # Use all available cores\n",
    ")"
   ]
  },
  {
   "cell_type": "code",
   "execution_count": null,
   "metadata": {},
   "outputs": [],
   "source": [
    "print('Best Trial: {}'.format(study.best_trial.number))\n",
    "print('Best Parameters: {}'.format(study.best_params))\n",
    "print('Best Value: {}'.format(study.best_value))"
   ]
  },
  {
   "cell_type": "markdown",
   "metadata": {},
   "source": [
    "### 5.3 Optuna Visualizations\n",
    "Visualizing hyper-parameter tuning results obtained by running Optuna."
   ]
  },
  {
   "cell_type": "code",
   "execution_count": null,
   "metadata": {},
   "outputs": [],
   "source": [
    "optuna.visualization.plot_optimization_history(study)"
   ]
  },
  {
   "cell_type": "code",
   "execution_count": null,
   "metadata": {},
   "outputs": [],
   "source": [
    "optuna.visualization.plot_slice(study)"
   ]
  },
  {
   "cell_type": "code",
   "execution_count": null,
   "metadata": {},
   "outputs": [],
   "source": [
    "optuna.visualization.plot_param_importances(study)"
   ]
  },
  {
   "cell_type": "code",
   "execution_count": null,
   "metadata": {},
   "outputs": [],
   "source": [
    "optuna.visualization.plot_parallel_coordinate(study)"
   ]
  },
  {
   "cell_type": "code",
   "execution_count": null,
   "metadata": {},
   "outputs": [],
   "source": [
    "optuna.visualization.plot_contour(study)"
   ]
  },
  {
   "cell_type": "code",
   "execution_count": null,
   "metadata": {},
   "outputs": [],
   "source": [
    "optuna.visualization.plot_timeline(study)"
   ]
  },
  {
   "cell_type": "markdown",
   "metadata": {},
   "source": [
    "### 5.4 Fitting Best Model\n",
    "Fitting the final model using the best hyper-parameters found by Optuna."
   ]
  },
  {
   "cell_type": "code",
   "execution_count": null,
   "metadata": {},
   "outputs": [],
   "source": [
    "# Fit best model on the training set\n",
    "best_params = study.best_params\n",
    "\n",
    "pipeline_smotetomek = make_pipeline(\n",
    "    SMOTETomek(tomek=TomekLinks(sampling_strategy='majority'), random_state=RANDOM_STATE),\n",
    "    MLPClassifier(**best_params, random_state=RANDOM_STATE)\n",
    ")\n",
    "\n",
    "pipeline_smotetomek.fit(X_train, y_train)"
   ]
  },
  {
   "cell_type": "code",
   "execution_count": 293,
   "metadata": {},
   "outputs": [],
   "source": [
    "# Predictions\n",
    "y_train_pred_smotetomek = pipeline_smotetomek.predict(X_train)\n",
    "y_test_pred_smotetomek = pipeline_smotetomek.predict(X_test)"
   ]
  },
  {
   "cell_type": "code",
   "execution_count": null,
   "metadata": {},
   "outputs": [],
   "source": [
    "ac_train_smotetomek = accuracy_score(y_train, y_train_pred_smotetomek)\n",
    "ac_test_smotetomek = accuracy_score(y_test, y_test_pred_smotetomek)\n",
    "\n",
    "print('Train accuracy: ', ac_train_smotetomek)\n",
    "print('Test accuracy: ', ac_test_smotetomek)"
   ]
  },
  {
   "cell_type": "code",
   "execution_count": null,
   "metadata": {},
   "outputs": [],
   "source": [
    "# Visualize precision, recall, F1-score\n",
    "print(classification_report(\n",
    "    y_test, y_test_pred_smotetomek,\n",
    "    target_names=['Late or non-readmission', 'Early-readmission']\n",
    "))"
   ]
  },
  {
   "cell_type": "code",
   "execution_count": 296,
   "metadata": {},
   "outputs": [],
   "source": [
    "# Compute precision, recall, F1-score, ROC-AUC-score, and accuracy\n",
    "recall_smotetomek = recall_score(y_test, y_test_pred_smotetomek, average='macro')\n",
    "precision_smotetomek = precision_score(y_test, y_test_pred_smotetomek, average='macro')\n",
    "f1_smotetomek = f1_score(y_test, y_test_pred_smotetomek, average='macro')\n",
    "roc_auc_smotetomek = roc_auc_score(y_test, y_test_pred_smotetomek, average='macro')\n",
    "accuracy_smotetomek = accuracy_score(y_test, y_test_pred_smotetomek)"
   ]
  },
  {
   "cell_type": "code",
   "execution_count": null,
   "metadata": {},
   "outputs": [],
   "source": [
    "# Visualize confusion matrix with both absolute and percentage values\n",
    "cm_smotetomek = confusion_matrix(y_test, y_test_pred_smotetomek)\n",
    "cm_smotetomek_norm = confusion_matrix(y_test, y_test_pred_smotetomek, normalize='true')\n",
    "\n",
    "annotations_smotetomek = np.array([\n",
    "    [f\"{val}\\n({perc:.1%})\" for val, perc in zip(row, norm_row)]\n",
    "    for row, norm_row in zip(cm_smotetomek, cm_smotetomek_norm)\n",
    "])\n",
    "\n",
    "sns.heatmap(\n",
    "    cm_smotetomek,\n",
    "    annot=annotations_smotetomek,\n",
    "    cmap='Blues',\n",
    "    fmt='',\n",
    "    xticklabels=['Late or non-readmission', 'Early-readmission'],\n",
    "    yticklabels=['Late or non-readmission', 'Early-readmission']\n",
    ")"
   ]
  },
  {
   "cell_type": "markdown",
   "metadata": {},
   "source": [
    "## **6. Results Combined**\n",
    "Visualizing all results obtained by different sampling methods, on the best respective models."
   ]
  },
  {
   "cell_type": "code",
   "execution_count": null,
   "metadata": {},
   "outputs": [],
   "source": [
    "# Combine all confusion matrices into a single plot\n",
    "fig, axs = plt.subplots(2, 2, figsize=(10, 8))\n",
    "cm_list = [cm_none_norm, cm_rus_norm, cm_smote_norm, cm_smotetomek_norm]\n",
    "annotations = [annotations_none, annotations_rus, annotations_smote, annotations_smotetomek]\n",
    "labels = ['No Under/Oversampling', 'Random Undersampling', 'SMOTE', 'SMOTE-Tomek']\n",
    "\n",
    "# Define tick labels\n",
    "xticklabels = ['Late or non-readmission', 'Early-readmission']\n",
    "yticklabels = ['Late or non-readmission', 'Early-readmission']\n",
    "\n",
    "for i, cm in enumerate(cm_list):\n",
    "    ax=axs[i//2, i%2]\n",
    "    sns.heatmap(\n",
    "        cm,\n",
    "        annot=annotations[i],\n",
    "        cmap='Blues',\n",
    "        fmt='',\n",
    "        vmin=0, vmax=1,\n",
    "        ax=axs[i//2, i%2],\n",
    "        xticklabels=['Late or non-readmission', 'Early-readmission'],\n",
    "        yticklabels=['Late or non-readmission', 'Early-readmission']\n",
    "    )\n",
    "    ax.set_title(labels[i])\n",
    "    \n",
    "    # Hide x-tick labels for the top row\n",
    "    if i < 2:\n",
    "        ax.set_xticklabels([])\n",
    "    # Hide y-tick labels for the right column\n",
    "    if i % 2 == 1:\n",
    "        ax.set_yticklabels([])\n",
    "\n",
    "plt.tight_layout()\n",
    "plt.show()"
   ]
  },
  {
   "cell_type": "markdown",
   "metadata": {},
   "source": [
    "Visualizing the scores for each method."
   ]
  },
  {
   "cell_type": "code",
   "execution_count": null,
   "metadata": {},
   "outputs": [],
   "source": [
    "# Combine all metrics into a single DataFrame\n",
    "data = {\n",
    "    'Recall': [recall_none, recall_rus, recall_smote, recall_smotetomek],\n",
    "    'Precision': [precision_none, precision_rus, precision_smote, precision_smotetomek],\n",
    "    'F1-score': [f1_none, f1_rus, f1_smote, f1_smotetomek],\n",
    "    'ROC-AUC': [roc_auc_none, roc_auc_rus, roc_auc_smote, roc_auc_smotetomek],\n",
    "    'Accuracy': [accuracy_none, accuracy_rus, accuracy_smote, accuracy_smotetomek]\n",
    "}\n",
    "\n",
    "metrics_df = pd.DataFrame(data, index=labels)\n",
    "metrics_df"
   ]
  },
  {
   "cell_type": "code",
   "execution_count": null,
   "metadata": {},
   "outputs": [],
   "source": [
    "# Visualize all metrics in a bar plot, by coloring each method differently, using SeaBorn barplot and adding grids\n",
    "sns.set_palette('viridis')\n",
    "metrics_df.plot(kind='bar', figsize=(10, 4))\n",
    "plt.title('Model Performance Metrics')\n",
    "plt.ylabel('Score')\n",
    "plt.xticks(rotation=0)\n",
    "plt.grid(axis='y', linestyle='--', alpha=0.6)\n",
    "plt.show()"
   ]
  }
 ],
 "metadata": {
  "kernelspec": {
   "display_name": ".venv",
   "language": "python",
   "name": "python3"
  },
  "language_info": {
   "codemirror_mode": {
    "name": "ipython",
    "version": 3
   },
   "file_extension": ".py",
   "mimetype": "text/x-python",
   "name": "python",
   "nbconvert_exporter": "python",
   "pygments_lexer": "ipython3",
   "version": "3.12.8"
  }
 },
 "nbformat": 4,
 "nbformat_minor": 2
}
