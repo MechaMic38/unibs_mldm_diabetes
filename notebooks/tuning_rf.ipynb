{
 "cells": [
  {
   "cell_type": "markdown",
   "metadata": {},
   "source": [
    "# Optuna Tuning | RandomForestClassifier\n",
    "**RandomForestClassifier** hyper-parameter tuning for the [UCI dataset](https://archive.ics.uci.edu/dataset/296/diabetes+130-us+hospitals+for+years+1999-2008). The dataset represents ten years (1999-2008) of clinical care at 130 US hospitals and integrated delivery networks.\n",
    "\n",
    "> **[CAUTION]** Do <u>NOT</u> execute \"Run All\", that will tell Optuna to run hyper-parameter tuning, regardless of whether you have already done it or not. Avoid running the _\"Hyper-parameter tuning\"_ subsections if you don't have to."
   ]
  },
  {
   "cell_type": "markdown",
   "metadata": {},
   "source": [
    "## **0. Initial Setup**\n",
    "Taking care of package imports, defining work constants, and loading all necessary datasets."
   ]
  },
  {
   "cell_type": "markdown",
   "metadata": {},
   "source": [
    "### 0.1 Python imports"
   ]
  },
  {
   "cell_type": "code",
   "execution_count": 72,
   "metadata": {},
   "outputs": [],
   "source": [
    "# Data Analysis\n",
    "import numpy as np\n",
    "import pandas as pd\n",
    "\n",
    "# Hyperparameter optimization\n",
    "import optuna\n",
    "\n",
    "# Visualization\n",
    "import seaborn as sns\n",
    "import matplotlib.pyplot as plt\n",
    "\n",
    "# Visualization configurations\n",
    "pd.set_option('display.max_columns', 60)\n",
    "plt.style.use('ggplot')\n",
    "sns.set_style('white')"
   ]
  },
  {
   "cell_type": "code",
   "execution_count": 73,
   "metadata": {},
   "outputs": [],
   "source": [
    "from collections import Counter\n",
    "\n",
    "from imblearn.combine import SMOTETomek\n",
    "from imblearn.pipeline import make_pipeline\n",
    "from imblearn.over_sampling import SMOTE\n",
    "from imblearn.under_sampling import RandomUnderSampler, TomekLinks\n",
    "\n",
    "from optuna.storages import JournalStorage\n",
    "from optuna.storages.journal import JournalFileBackend\n",
    "\n",
    "from sklearn.ensemble import RandomForestClassifier\n",
    "from sklearn.metrics import accuracy_score, classification_report, confusion_matrix, f1_score, fbeta_score, recall_score\n",
    "from sklearn.model_selection import cross_val_score, StratifiedKFold\n",
    "from sklearn.preprocessing import StandardScaler"
   ]
  },
  {
   "cell_type": "markdown",
   "metadata": {},
   "source": [
    "### 0.2 Constants"
   ]
  },
  {
   "cell_type": "code",
   "execution_count": 74,
   "metadata": {},
   "outputs": [],
   "source": [
    "DATA_PATH = '../data/original/'\n",
    "DATA_PATH_PROCESSED = '../data/processed/'\n",
    "\n",
    "OPTUNA_PATH = '../optuna/'\n",
    "\n",
    "STUDY_NAME = \"Diabetes_130-US\"\n",
    "STUDY_PATH_RUS = OPTUNA_PATH + \"optuna_rf_rus.log\"\n",
    "STUDY_PATH_SMOTE = OPTUNA_PATH + \"optuna_rf_smote.log\"\n",
    "STUDY_PATH_SMOTE_TOMEK = OPTUNA_PATH + \"optuna_rf_smote-tomek.log\"\n",
    "\n",
    "RANDOM_STATE = 38"
   ]
  },
  {
   "cell_type": "markdown",
   "metadata": {},
   "source": [
    "### 0.3 Loading datasets"
   ]
  },
  {
   "cell_type": "code",
   "execution_count": 75,
   "metadata": {},
   "outputs": [],
   "source": [
    "train_set = pd.read_csv(\n",
    "    DATA_PATH_PROCESSED + 'train.csv',\n",
    "    na_values='?',\n",
    "    keep_default_na=False\n",
    ")\n",
    "\n",
    "test_set = pd.read_csv(\n",
    "    DATA_PATH_PROCESSED + 'test.csv',\n",
    "    na_values='?',\n",
    "    keep_default_na=False\n",
    ")"
   ]
  },
  {
   "cell_type": "markdown",
   "metadata": {},
   "source": [
    "## **1. Scaling & Validation Set**\n",
    "Applying scaling to numerical features, and extracting a validation set."
   ]
  },
  {
   "cell_type": "code",
   "execution_count": 76,
   "metadata": {},
   "outputs": [],
   "source": [
    "target = 'readmitted'\n",
    "\n",
    "X_train = train_set.drop(target, axis=1)\n",
    "y_train = train_set[target]\n",
    "\n",
    "X_test = test_set.drop(target, axis=1)\n",
    "y_test = test_set[target]"
   ]
  },
  {
   "cell_type": "markdown",
   "metadata": {},
   "source": [
    "### 1.1 Scaling\n",
    "Applying scaling to numerical features, while leaving boolean features untouched."
   ]
  },
  {
   "cell_type": "code",
   "execution_count": null,
   "metadata": {},
   "outputs": [],
   "source": [
    "NUMERICAL_COLUMNS = [\n",
    "    'time_in_hospital', 'num_lab_procedures', 'num_procedures',\n",
    "    'age', 'num_inpatient', 'num_diagnoses', 'num_medications'\n",
    "]"
   ]
  },
  {
   "cell_type": "code",
   "execution_count": 77,
   "metadata": {},
   "outputs": [],
   "source": [
    "scaler = StandardScaler()\n",
    "\n",
    "X_train[NUMERICAL_COLUMNS] = scaler.fit_transform(X_train[NUMERICAL_COLUMNS])\n",
    "X_test[NUMERICAL_COLUMNS] = scaler.transform(X_test[NUMERICAL_COLUMNS])"
   ]
  },
  {
   "cell_type": "code",
   "execution_count": 78,
   "metadata": {},
   "outputs": [
    {
     "name": "stdout",
     "output_type": "stream",
     "text": [
      "Train set: Counter({0: 45061, 1: 4522})\n",
      "Test set: Counter({0: 19312, 1: 1938})\n"
     ]
    }
   ],
   "source": [
    "print('Train set:', Counter(y_train))\n",
    "print('Test set:', Counter(y_test))"
   ]
  },
  {
   "cell_type": "markdown",
   "metadata": {},
   "source": [
    "## **2. Optuna Hyper-parameter Tuning | Undersampling**\n",
    "Hyper-parameter tuning of the model using Optuna, and undersampling with RandomUnderSampler."
   ]
  },
  {
   "cell_type": "markdown",
   "metadata": {},
   "source": [
    "### 2.1 Objective & study setup\n",
    "Preparing the objective function with all hyper-parameters, and creating/loading the Optuna study."
   ]
  },
  {
   "cell_type": "code",
   "execution_count": 79,
   "metadata": {},
   "outputs": [],
   "source": [
    "def objective(trial: optuna.Trial) -> float:\n",
    "    # Hyperparameter search space\n",
    "    params = {\n",
    "        \"n_estimators\": 100,\n",
    "        \"max_depth\": trial.suggest_int(\"max_depth\", 4, 30, step=2),\n",
    "        \"min_samples_leaf\": trial.suggest_int(\"min_samples_leaf\", 2, 60, step=2)\n",
    "    }\n",
    "    \n",
    "    # Build pipeline\n",
    "    pipeline = make_pipeline(\n",
    "        RandomUnderSampler(random_state=RANDOM_STATE),\n",
    "        RandomForestClassifier(**params, random_state=RANDOM_STATE)\n",
    "    )\n",
    "    \n",
    "    # Define validation folds\n",
    "    kf = StratifiedKFold(n_splits=5, shuffle=False)\n",
    "    \n",
    "    # Cross validation\n",
    "    f1_score = cross_val_score(pipeline, X_train, y_train, cv=kf, scoring='f1')\n",
    "\n",
    "    print(\"Cross validation F1-scores: {}\".format(f1_score))\n",
    "    print(\"Average F1-score: {}\".format(f1_score.mean()))\n",
    "\n",
    "    return f1_score.mean()"
   ]
  },
  {
   "cell_type": "code",
   "execution_count": 80,
   "metadata": {},
   "outputs": [
    {
     "name": "stderr",
     "output_type": "stream",
     "text": [
      "[I 2024-12-27 16:53:10,415] A new study created in Journal with name: Diabetes_130-US\n"
     ]
    }
   ],
   "source": [
    "# Set up study with name and storage\n",
    "storage = JournalStorage(JournalFileBackend(STUDY_PATH_RUS))\n",
    "\n",
    "study = optuna.create_study(\n",
    "    direction=\"maximize\",\n",
    "    study_name=STUDY_NAME,\n",
    "    storage=storage,\n",
    "    load_if_exists=True,\n",
    "    sampler=optuna.samplers.TPESampler(seed=RANDOM_STATE),\n",
    "    pruner=optuna.pruners.SuccessiveHalvingPruner()\n",
    ")\n",
    "\n",
    "optuna.logging.set_verbosity(optuna.logging.INFO)"
   ]
  },
  {
   "cell_type": "markdown",
   "metadata": {},
   "source": [
    "### 2.2 Hyper-parameter tuning\n",
    "**(CAUTION)** <u>Do not run</u>, unless you already need to find the best parameters. If you already have bound the best model configuration, <u>run the section above</u> _(Objective & study setup)_."
   ]
  },
  {
   "cell_type": "code",
   "execution_count": 81,
   "metadata": {},
   "outputs": [
    {
     "name": "stderr",
     "output_type": "stream",
     "text": [
      "[I 2024-12-27 16:53:18,694] Trial 3 finished with value: 0.21756973472831792 and parameters: {'max_depth': 6, 'min_samples_leaf': 50}. Best is trial 3 with value: 0.21756973472831792.\n",
      "[I 2024-12-27 16:53:18,791] Trial 1 finished with value: 0.2168124737195462 and parameters: {'max_depth': 6, 'min_samples_leaf': 6}. Best is trial 3 with value: 0.21756973472831792.\n"
     ]
    },
    {
     "name": "stdout",
     "output_type": "stream",
     "text": [
      "Cross validation F1-scores: [0.21502646 0.21849116 0.21976593 0.22490876 0.20965637]\n",
      "Average F1-score: 0.21756973472831792\n",
      "Cross validation F1-scores: [0.21582734 0.21436563 0.21911218 0.2211127  0.21364452]\n",
      "Average F1-score: 0.2168124737195462\n",
      "Cross validation F1-scores: [0.2128433  0.21374704 0.22116183 0.21963028 0.21226216]\n",
      "Average F1-score: 0.215928919355812\n"
     ]
    },
    {
     "name": "stderr",
     "output_type": "stream",
     "text": [
      "[I 2024-12-27 16:53:18,892] Trial 4 finished with value: 0.215928919355812 and parameters: {'max_depth': 20, 'min_samples_leaf': 60}. Best is trial 3 with value: 0.21756973472831792.\n",
      "[I 2024-12-27 16:53:18,956] Trial 0 finished with value: 0.215928919355812 and parameters: {'max_depth': 20, 'min_samples_leaf': 60}. Best is trial 3 with value: 0.21756973472831792.\n",
      "[I 2024-12-27 16:53:19,131] Trial 6 finished with value: 0.21658210303704672 and parameters: {'max_depth': 12, 'min_samples_leaf': 54}. Best is trial 3 with value: 0.21756973472831792.\n"
     ]
    },
    {
     "name": "stdout",
     "output_type": "stream",
     "text": [
      "Cross validation F1-scores: [0.2128433  0.21374704 0.22116183 0.21963028 0.21226216]\n",
      "Average F1-score: 0.215928919355812\n",
      "Cross validation F1-scores: [0.21351296 0.21734452 0.21835708 0.22198136 0.21171459]\n",
      "Average F1-score: 0.21658210303704672\n"
     ]
    },
    {
     "name": "stderr",
     "output_type": "stream",
     "text": [
      "[I 2024-12-27 16:53:19,197] Trial 11 finished with value: 0.21465517251782043 and parameters: {'max_depth': 10, 'min_samples_leaf': 40}. Best is trial 3 with value: 0.21756973472831792.\n",
      "[I 2024-12-27 16:53:19,200] Trial 7 finished with value: 0.21465517251782043 and parameters: {'max_depth': 10, 'min_samples_leaf': 40}. Best is trial 3 with value: 0.21756973472831792.\n",
      "[I 2024-12-27 16:53:19,320] Trial 10 finished with value: 0.21470099159757408 and parameters: {'max_depth': 14, 'min_samples_leaf': 38}. Best is trial 3 with value: 0.21756973472831792.\n"
     ]
    },
    {
     "name": "stdout",
     "output_type": "stream",
     "text": [
      "Cross validation F1-scores: [0.21056878 0.21453138 0.21922918 0.21718683 0.21175969]\n",
      "Average F1-score: 0.21465517251782043\n",
      "Cross validation F1-scores: [0.21056878 0.21453138 0.21922918 0.21718683 0.21175969]\n",
      "Average F1-score: 0.21465517251782043\n",
      "Cross validation F1-scores: [0.21096878 0.21546961 0.21794872 0.21777003 0.21134782]\n",
      "Average F1-score: 0.21470099159757408\n"
     ]
    },
    {
     "name": "stderr",
     "output_type": "stream",
     "text": [
      "[I 2024-12-27 16:53:19,453] Trial 9 finished with value: 0.21447831363338157 and parameters: {'max_depth': 12, 'min_samples_leaf': 34}. Best is trial 3 with value: 0.21756973472831792.\n"
     ]
    },
    {
     "name": "stdout",
     "output_type": "stream",
     "text": [
      "Cross validation F1-scores: [0.21376812 0.2137045  0.21831714 0.21503087 0.21157095]\n",
      "Average F1-score: 0.21447831363338157\n"
     ]
    },
    {
     "name": "stderr",
     "output_type": "stream",
     "text": [
      "[I 2024-12-27 16:53:19,733] Trial 2 finished with value: 0.21284243568797762 and parameters: {'max_depth': 18, 'min_samples_leaf': 20}. Best is trial 3 with value: 0.21756973472831792.\n",
      "[I 2024-12-27 16:53:19,769] Trial 5 finished with value: 0.21284243568797762 and parameters: {'max_depth': 18, 'min_samples_leaf': 20}. Best is trial 3 with value: 0.21756973472831792.\n",
      "[I 2024-12-27 16:53:19,920] Trial 8 finished with value: 0.21365987365702283 and parameters: {'max_depth': 18, 'min_samples_leaf': 16}. Best is trial 3 with value: 0.21756973472831792.\n"
     ]
    },
    {
     "name": "stdout",
     "output_type": "stream",
     "text": [
      "Cross validation F1-scores: [0.21407096 0.21239687 0.21579487 0.21201862 0.20993086]\n",
      "Average F1-score: 0.21284243568797762\n",
      "Cross validation F1-scores: [0.21407096 0.21239687 0.21579487 0.21201862 0.20993086]\n",
      "Average F1-score: 0.21284243568797762\n",
      "Cross validation F1-scores: [0.21213339 0.21221053 0.22013478 0.21492158 0.2088991 ]\n",
      "Average F1-score: 0.21365987365702283\n"
     ]
    },
    {
     "name": "stderr",
     "output_type": "stream",
     "text": [
      "[I 2024-12-27 16:53:27,528] Trial 21 finished with value: 0.21872033164181431 and parameters: {'max_depth': 4, 'min_samples_leaf': 2}. Best is trial 21 with value: 0.21872033164181431.\n",
      "[I 2024-12-27 16:53:27,530] Trial 14 finished with value: 0.21555368060419444 and parameters: {'max_depth': 20, 'min_samples_leaf': 56}. Best is trial 21 with value: 0.21872033164181431.\n",
      "[I 2024-12-27 16:53:27,602] Trial 22 finished with value: 0.21879295419909614 and parameters: {'max_depth': 4, 'min_samples_leaf': 4}. Best is trial 23 with value: 0.21910181338881332.\n",
      "[I 2024-12-27 16:53:27,617] Trial 15 finished with value: 0.21609822429027276 and parameters: {'max_depth': 8, 'min_samples_leaf': 6}. Best is trial 23 with value: 0.21910181338881332.\n",
      "[I 2024-12-27 16:53:27,625] Trial 23 finished with value: 0.21910181338881332 and parameters: {'max_depth': 4, 'min_samples_leaf': 6}. Best is trial 23 with value: 0.21910181338881332.\n",
      "[I 2024-12-27 16:53:27,665] Trial 13 finished with value: 0.21452282702524803 and parameters: {'max_depth': 12, 'min_samples_leaf': 24}. Best is trial 23 with value: 0.21910181338881332.\n"
     ]
    },
    {
     "name": "stdout",
     "output_type": "stream",
     "text": [
      "Cross validation F1-scores: [0.21740083 0.21585394 0.22176213 0.22647754 0.21210721]\n",
      "Average F1-score: 0.21872033164181431\n",
      "Cross validation F1-scores: [0.21266134 0.21671018 0.21803889 0.21830065 0.21205734]\n",
      "Average F1-score: 0.21555368060419444\n",
      "Cross validation F1-scores: [0.21784777 0.21583742 0.22206928 0.22566996 0.21254034]\n",
      "Average F1-score: 0.21879295419909614\n",
      "Cross validation F1-scores: [0.21764706 0.21672504 0.21912437 0.21469174 0.21230291]\n",
      "Average F1-score: 0.21609822429027276\n",
      "Cross validation F1-scores: [0.21917211 0.21631702 0.22242775 0.22501184 0.21258035]\n",
      "Average F1-score: 0.21910181338881332\n",
      "Cross validation F1-scores: [0.21334415 0.21484458 0.21973001 0.21463623 0.21005917]\n",
      "Average F1-score: 0.21452282702524803\n"
     ]
    },
    {
     "name": "stderr",
     "output_type": "stream",
     "text": [
      "[I 2024-12-27 16:53:27,807] Trial 16 finished with value: 0.21483399102991724 and parameters: {'max_depth': 14, 'min_samples_leaf': 46}. Best is trial 23 with value: 0.21910181338881332.\n",
      "[I 2024-12-27 16:53:27,926] Trial 17 finished with value: 0.21597836678734644 and parameters: {'max_depth': 8, 'min_samples_leaf': 30}. Best is trial 23 with value: 0.21910181338881332.\n"
     ]
    },
    {
     "name": "stdout",
     "output_type": "stream",
     "text": [
      "Cross validation F1-scores: [0.21188839 0.21427032 0.2201873  0.21667026 0.21115368]\n",
      "Average F1-score: 0.21483399102991724\n",
      "Cross validation F1-scores: [0.21212121 0.21626374 0.21808173 0.22064057 0.21278459]\n",
      "Average F1-score: 0.21597836678734644\n"
     ]
    },
    {
     "name": "stderr",
     "output_type": "stream",
     "text": [
      "[I 2024-12-27 16:53:27,998] Trial 20 finished with value: 0.21522923603530933 and parameters: {'max_depth': 12, 'min_samples_leaf': 52}. Best is trial 23 with value: 0.21910181338881332.\n",
      "[I 2024-12-27 16:53:28,138] Trial 18 finished with value: 0.21377381625317513 and parameters: {'max_depth': 10, 'min_samples_leaf': 28}. Best is trial 23 with value: 0.21910181338881332.\n"
     ]
    },
    {
     "name": "stdout",
     "output_type": "stream",
     "text": [
      "Cross validation F1-scores: [0.21182665 0.2162395  0.21841004 0.21765734 0.21201264]\n",
      "Average F1-score: 0.21522923603530933\n",
      "Cross validation F1-scores: [0.2121583  0.21402531 0.21901776 0.21205643 0.21161127]\n",
      "Average F1-score: 0.21377381625317513\n"
     ]
    },
    {
     "name": "stderr",
     "output_type": "stream",
     "text": [
      "[I 2024-12-27 16:53:28,264] Trial 19 finished with value: 0.21562508464270672 and parameters: {'max_depth': 8, 'min_samples_leaf': 2}. Best is trial 23 with value: 0.21910181338881332.\n",
      "[I 2024-12-27 16:53:28,382] Trial 12 finished with value: 0.2098971669738368 and parameters: {'max_depth': 26, 'min_samples_leaf': 8}. Best is trial 23 with value: 0.21910181338881332.\n"
     ]
    },
    {
     "name": "stdout",
     "output_type": "stream",
     "text": [
      "Cross validation F1-scores: [0.21558387 0.21029476 0.22120618 0.21561507 0.21542553]\n",
      "Average F1-score: 0.21562508464270672\n",
      "Cross validation F1-scores: [0.20977069 0.21138211 0.21840937 0.20481675 0.20510691]\n",
      "Average F1-score: 0.2098971669738368\n"
     ]
    },
    {
     "name": "stderr",
     "output_type": "stream",
     "text": [
      "[I 2024-12-27 16:53:34,395] Trial 29 finished with value: 0.21960834046767386 and parameters: {'max_depth': 4, 'min_samples_leaf': 12}. Best is trial 29 with value: 0.21960834046767386.\n"
     ]
    },
    {
     "name": "stdout",
     "output_type": "stream",
     "text": [
      "Cross validation F1-scores: [0.21929246 0.2155633  0.22352941 0.2256361  0.21402043]\n",
      "Average F1-score: 0.21960834046767386\n"
     ]
    },
    {
     "name": "stderr",
     "output_type": "stream",
     "text": [
      "[I 2024-12-27 16:53:35,065] Trial 35 finished with value: 0.2193280791834197 and parameters: {'max_depth': 4, 'min_samples_leaf': 14}. Best is trial 29 with value: 0.21960834046767386.\n"
     ]
    },
    {
     "name": "stdout",
     "output_type": "stream",
     "text": [
      "Cross validation F1-scores: [0.21907502 0.21626617 0.22257336 0.22531828 0.21340756]\n",
      "Average F1-score: 0.2193280791834197\n"
     ]
    },
    {
     "name": "stderr",
     "output_type": "stream",
     "text": [
      "[I 2024-12-27 16:53:35,307] Trial 25 finished with value: 0.21493807570387347 and parameters: {'max_depth': 28, 'min_samples_leaf': 48}. Best is trial 29 with value: 0.21960834046767386.\n"
     ]
    },
    {
     "name": "stdout",
     "output_type": "stream",
     "text": [
      "Cross validation F1-scores: [0.21351735 0.21558442 0.21887881 0.21591398 0.21079582]\n",
      "Average F1-score: 0.21493807570387347\n"
     ]
    },
    {
     "name": "stderr",
     "output_type": "stream",
     "text": [
      "[I 2024-12-27 16:53:36,243] Trial 26 finished with value: 0.212608588458306 and parameters: {'max_depth': 28, 'min_samples_leaf': 12}. Best is trial 29 with value: 0.21960834046767386.\n",
      "[I 2024-12-27 16:53:36,246] Trial 27 finished with value: 0.212608588458306 and parameters: {'max_depth': 28, 'min_samples_leaf': 12}. Best is trial 29 with value: 0.21960834046767386.\n",
      "[I 2024-12-27 16:53:36,318] Trial 28 finished with value: 0.212608588458306 and parameters: {'max_depth': 28, 'min_samples_leaf': 12}. Best is trial 29 with value: 0.21960834046767386.\n",
      "[I 2024-12-27 16:53:36,400] Trial 31 finished with value: 0.212608588458306 and parameters: {'max_depth': 26, 'min_samples_leaf': 12}. Best is trial 29 with value: 0.21960834046767386.\n"
     ]
    },
    {
     "name": "stdout",
     "output_type": "stream",
     "text": [
      "Cross validation F1-scores: [0.21301301 0.21519251 0.21960625 0.20810469 0.20712648]\n",
      "Average F1-score: 0.212608588458306\n",
      "Cross validation F1-scores: [0.21301301 0.21519251 0.21960625 0.20810469 0.20712648]\n",
      "Average F1-score: 0.212608588458306\n",
      "Cross validation F1-scores: [0.21301301 0.21519251 0.21960625 0.20810469 0.20712648]\n",
      "Average F1-score: 0.212608588458306\n",
      "Cross validation F1-scores: [0.21301301 0.21519251 0.21960625 0.20810469 0.20712648]\n",
      "Average F1-score: 0.212608588458306\n"
     ]
    },
    {
     "name": "stderr",
     "output_type": "stream",
     "text": [
      "[I 2024-12-27 16:53:36,456] Trial 30 finished with value: 0.212608588458306 and parameters: {'max_depth': 28, 'min_samples_leaf': 12}. Best is trial 29 with value: 0.21960834046767386.\n"
     ]
    },
    {
     "name": "stdout",
     "output_type": "stream",
     "text": [
      "Cross validation F1-scores: [0.21301301 0.21519251 0.21960625 0.20810469 0.20712648]\n",
      "Average F1-score: 0.212608588458306\n"
     ]
    },
    {
     "name": "stderr",
     "output_type": "stream",
     "text": [
      "[I 2024-12-27 16:53:36,758] Trial 33 finished with value: 0.212608588458306 and parameters: {'max_depth': 28, 'min_samples_leaf': 12}. Best is trial 29 with value: 0.21960834046767386.\n",
      "[I 2024-12-27 16:53:36,841] Trial 34 finished with value: 0.212608588458306 and parameters: {'max_depth': 28, 'min_samples_leaf': 12}. Best is trial 29 with value: 0.21960834046767386.\n"
     ]
    },
    {
     "name": "stdout",
     "output_type": "stream",
     "text": [
      "Cross validation F1-scores: [0.21301301 0.21519251 0.21960625 0.20810469 0.20712648]\n",
      "Average F1-score: 0.212608588458306\n",
      "Cross validation F1-scores: [0.21301301 0.21519251 0.21960625 0.20810469 0.20712648]\n",
      "Average F1-score: 0.212608588458306\n"
     ]
    },
    {
     "name": "stderr",
     "output_type": "stream",
     "text": [
      "[I 2024-12-27 16:53:37,854] Trial 24 finished with value: 0.2022899092060379 and parameters: {'max_depth': 26, 'min_samples_leaf': 2}. Best is trial 29 with value: 0.21960834046767386.\n"
     ]
    },
    {
     "name": "stdout",
     "output_type": "stream",
     "text": [
      "Cross validation F1-scores: [0.20481692 0.20350877 0.21150135 0.19608626 0.19553624]\n",
      "Average F1-score: 0.2022899092060379\n"
     ]
    },
    {
     "name": "stderr",
     "output_type": "stream",
     "text": [
      "[I 2024-12-27 16:53:38,172] Trial 32 finished with value: 0.20416836178582026 and parameters: {'max_depth': 28, 'min_samples_leaf': 2}. Best is trial 29 with value: 0.21960834046767386.\n"
     ]
    },
    {
     "name": "stdout",
     "output_type": "stream",
     "text": [
      "Cross validation F1-scores: [0.20770585 0.203874   0.21240638 0.199001   0.19785459]\n",
      "Average F1-score: 0.20416836178582026\n"
     ]
    },
    {
     "name": "stderr",
     "output_type": "stream",
     "text": [
      "[I 2024-12-27 16:53:42,749] Trial 36 finished with value: 0.21960834046767386 and parameters: {'max_depth': 4, 'min_samples_leaf': 12}. Best is trial 29 with value: 0.21960834046767386.\n"
     ]
    },
    {
     "name": "stdout",
     "output_type": "stream",
     "text": [
      "Cross validation F1-scores: [0.21929246 0.2155633  0.22352941 0.2256361  0.21402043]\n",
      "Average F1-score: 0.21960834046767386\n"
     ]
    },
    {
     "name": "stderr",
     "output_type": "stream",
     "text": [
      "[I 2024-12-27 16:53:43,588] Trial 37 finished with value: 0.2193280791834197 and parameters: {'max_depth': 4, 'min_samples_leaf': 14}. Best is trial 29 with value: 0.21960834046767386.\n"
     ]
    },
    {
     "name": "stdout",
     "output_type": "stream",
     "text": [
      "Cross validation F1-scores: [0.21907502 0.21626617 0.22257336 0.22531828 0.21340756]\n",
      "Average F1-score: 0.2193280791834197\n"
     ]
    },
    {
     "name": "stderr",
     "output_type": "stream",
     "text": [
      "[I 2024-12-27 16:53:44,040] Trial 38 finished with value: 0.21960834046767386 and parameters: {'max_depth': 4, 'min_samples_leaf': 12}. Best is trial 29 with value: 0.21960834046767386.\n"
     ]
    },
    {
     "name": "stdout",
     "output_type": "stream",
     "text": [
      "Cross validation F1-scores: [0.21929246 0.2155633  0.22352941 0.2256361  0.21402043]\n",
      "Average F1-score: 0.21960834046767386\n"
     ]
    },
    {
     "name": "stderr",
     "output_type": "stream",
     "text": [
      "[I 2024-12-27 16:53:44,982] Trial 39 finished with value: 0.21960834046767386 and parameters: {'max_depth': 4, 'min_samples_leaf': 12}. Best is trial 29 with value: 0.21960834046767386.\n",
      "[I 2024-12-27 16:53:45,075] Trial 40 finished with value: 0.21960834046767386 and parameters: {'max_depth': 4, 'min_samples_leaf': 12}. Best is trial 29 with value: 0.21960834046767386.\n",
      "[I 2024-12-27 16:53:45,163] Trial 41 finished with value: 0.21923661292453334 and parameters: {'max_depth': 4, 'min_samples_leaf': 16}. Best is trial 29 with value: 0.21960834046767386.\n"
     ]
    },
    {
     "name": "stdout",
     "output_type": "stream",
     "text": [
      "Cross validation F1-scores: [0.21929246 0.2155633  0.22352941 0.2256361  0.21402043]\n",
      "Average F1-score: 0.21960834046767386\n",
      "Cross validation F1-scores: [0.21929246 0.2155633  0.22352941 0.2256361  0.21402043]\n",
      "Average F1-score: 0.21960834046767386\n",
      "Cross validation F1-scores: [0.21952297 0.21691176 0.22237227 0.22495776 0.2124183 ]\n",
      "Average F1-score: 0.21923661292453334\n",
      "Cross validation F1-scores: [0.21880416 0.21687861 0.22273355 0.22572178 0.21205152]\n",
      "Average F1-score: 0.2192379245937107\n"
     ]
    },
    {
     "name": "stderr",
     "output_type": "stream",
     "text": [
      "[I 2024-12-27 16:53:45,204] Trial 43 finished with value: 0.2192379245937107 and parameters: {'max_depth': 4, 'min_samples_leaf': 8}. Best is trial 29 with value: 0.21960834046767386.\n",
      "[I 2024-12-27 16:53:45,266] Trial 42 finished with value: 0.21907651919231266 and parameters: {'max_depth': 4, 'min_samples_leaf': 18}. Best is trial 29 with value: 0.21960834046767386.\n"
     ]
    },
    {
     "name": "stdout",
     "output_type": "stream",
     "text": [
      "Cross validation F1-scores: [0.21787832 0.21605505 0.22307692 0.22475728 0.21361502]\n",
      "Average F1-score: 0.21907651919231266\n"
     ]
    },
    {
     "name": "stderr",
     "output_type": "stream",
     "text": [
      "[I 2024-12-27 16:53:45,522] Trial 45 finished with value: 0.21907651919231266 and parameters: {'max_depth': 4, 'min_samples_leaf': 18}. Best is trial 29 with value: 0.21960834046767386.\n",
      "[I 2024-12-27 16:53:45,599] Trial 44 finished with value: 0.21907651919231266 and parameters: {'max_depth': 4, 'min_samples_leaf': 18}. Best is trial 29 with value: 0.21960834046767386.\n"
     ]
    },
    {
     "name": "stdout",
     "output_type": "stream",
     "text": [
      "Cross validation F1-scores: [0.21787832 0.21605505 0.22307692 0.22475728 0.21361502]\n",
      "Average F1-score: 0.21907651919231266\n",
      "Cross validation F1-scores: [0.21787832 0.21605505 0.22307692 0.22475728 0.21361502]\n",
      "Average F1-score: 0.21907651919231266\n"
     ]
    },
    {
     "name": "stderr",
     "output_type": "stream",
     "text": [
      "[I 2024-12-27 16:53:46,889] Trial 46 finished with value: 0.21907651919231266 and parameters: {'max_depth': 4, 'min_samples_leaf': 18}. Best is trial 29 with value: 0.21960834046767386.\n",
      "[I 2024-12-27 16:53:47,060] Trial 47 finished with value: 0.21907651919231266 and parameters: {'max_depth': 4, 'min_samples_leaf': 18}. Best is trial 29 with value: 0.21960834046767386.\n"
     ]
    },
    {
     "name": "stdout",
     "output_type": "stream",
     "text": [
      "Cross validation F1-scores: [0.21787832 0.21605505 0.22307692 0.22475728 0.21361502]\n",
      "Average F1-score: 0.21907651919231266\n",
      "Cross validation F1-scores: [0.21787832 0.21605505 0.22307692 0.22475728 0.21361502]\n",
      "Average F1-score: 0.21907651919231266\n"
     ]
    },
    {
     "name": "stderr",
     "output_type": "stream",
     "text": [
      "[I 2024-12-27 16:53:51,373] Trial 48 finished with value: 0.2177243553455991 and parameters: {'max_depth': 6, 'min_samples_leaf': 18}. Best is trial 29 with value: 0.21960834046767386.\n"
     ]
    },
    {
     "name": "stdout",
     "output_type": "stream",
     "text": [
      "Cross validation F1-scores: [0.21345215 0.21642468 0.22207564 0.22498242 0.21168688]\n",
      "Average F1-score: 0.2177243553455991\n"
     ]
    },
    {
     "name": "stderr",
     "output_type": "stream",
     "text": [
      "[I 2024-12-27 16:53:52,065] Trial 49 finished with value: 0.2177243553455991 and parameters: {'max_depth': 6, 'min_samples_leaf': 18}. Best is trial 29 with value: 0.21960834046767386.\n"
     ]
    },
    {
     "name": "stdout",
     "output_type": "stream",
     "text": [
      "Cross validation F1-scores: [0.21345215 0.21642468 0.22207564 0.22498242 0.21168688]\n",
      "Average F1-score: 0.2177243553455991\n"
     ]
    },
    {
     "name": "stderr",
     "output_type": "stream",
     "text": [
      "[I 2024-12-27 16:53:52,556] Trial 50 finished with value: 0.21811017041514097 and parameters: {'max_depth': 6, 'min_samples_leaf': 20}. Best is trial 29 with value: 0.21960834046767386.\n"
     ]
    },
    {
     "name": "stdout",
     "output_type": "stream",
     "text": [
      "Cross validation F1-scores: [0.21396919 0.21732283 0.22110333 0.2244898  0.2136657 ]\n",
      "Average F1-score: 0.21811017041514097\n"
     ]
    },
    {
     "name": "stderr",
     "output_type": "stream",
     "text": [
      "[I 2024-12-27 16:53:53,413] Trial 51 finished with value: 0.21811017041514097 and parameters: {'max_depth': 6, 'min_samples_leaf': 20}. Best is trial 29 with value: 0.21960834046767386.\n",
      "[I 2024-12-27 16:53:53,483] Trial 52 finished with value: 0.21759351448034886 and parameters: {'max_depth': 6, 'min_samples_leaf': 24}. Best is trial 29 with value: 0.21960834046767386.\n"
     ]
    },
    {
     "name": "stdout",
     "output_type": "stream",
     "text": [
      "Cross validation F1-scores: [0.21396919 0.21732283 0.22110333 0.2244898  0.2136657 ]\n",
      "Average F1-score: 0.21811017041514097\n",
      "Cross validation F1-scores: [0.21375346 0.21527306 0.21838317 0.22765757 0.21290032]\n",
      "Average F1-score: 0.21759351448034886\n",
      "Cross validation F1-scores: [0.21396919 0.21732283 0.22110333 0.2244898  0.2136657 ]\n",
      "Average F1-score: 0.21811017041514097\n"
     ]
    },
    {
     "name": "stderr",
     "output_type": "stream",
     "text": [
      "[I 2024-12-27 16:53:53,608] Trial 54 finished with value: 0.21811017041514097 and parameters: {'max_depth': 6, 'min_samples_leaf': 20}. Best is trial 29 with value: 0.21960834046767386.\n",
      "[I 2024-12-27 16:53:53,747] Trial 53 finished with value: 0.21811017041514097 and parameters: {'max_depth': 6, 'min_samples_leaf': 20}. Best is trial 29 with value: 0.21960834046767386.\n",
      "[I 2024-12-27 16:53:53,795] Trial 55 finished with value: 0.21777030664032188 and parameters: {'max_depth': 6, 'min_samples_leaf': 22}. Best is trial 29 with value: 0.21960834046767386.\n"
     ]
    },
    {
     "name": "stdout",
     "output_type": "stream",
     "text": [
      "Cross validation F1-scores: [0.21396919 0.21732283 0.22110333 0.2244898  0.2136657 ]\n",
      "Average F1-score: 0.21811017041514097\n",
      "Cross validation F1-scores: [0.21541081 0.21680823 0.22163704 0.22360248 0.21139297]\n",
      "Average F1-score: 0.21777030664032188\n"
     ]
    },
    {
     "name": "stderr",
     "output_type": "stream",
     "text": [
      "[I 2024-12-27 16:53:54,155] Trial 56 finished with value: 0.21777030664032188 and parameters: {'max_depth': 6, 'min_samples_leaf': 22}. Best is trial 29 with value: 0.21960834046767386.\n",
      "[I 2024-12-27 16:53:54,159] Trial 57 finished with value: 0.21777030664032188 and parameters: {'max_depth': 6, 'min_samples_leaf': 22}. Best is trial 29 with value: 0.21960834046767386.\n"
     ]
    },
    {
     "name": "stdout",
     "output_type": "stream",
     "text": [
      "Cross validation F1-scores: [0.21541081 0.21680823 0.22163704 0.22360248 0.21139297]\n",
      "Average F1-score: 0.21777030664032188\n",
      "Cross validation F1-scores: [0.21541081 0.21680823 0.22163704 0.22360248 0.21139297]\n",
      "Average F1-score: 0.21777030664032188\n"
     ]
    },
    {
     "name": "stderr",
     "output_type": "stream",
     "text": [
      "[I 2024-12-27 16:53:55,490] Trial 58 finished with value: 0.21759351448034886 and parameters: {'max_depth': 6, 'min_samples_leaf': 24}. Best is trial 29 with value: 0.21960834046767386.\n",
      "[I 2024-12-27 16:53:55,590] Trial 59 finished with value: 0.21759351448034886 and parameters: {'max_depth': 6, 'min_samples_leaf': 24}. Best is trial 29 with value: 0.21960834046767386.\n"
     ]
    },
    {
     "name": "stdout",
     "output_type": "stream",
     "text": [
      "Cross validation F1-scores: [0.21375346 0.21527306 0.21838317 0.22765757 0.21290032]\n",
      "Average F1-score: 0.21759351448034886\n",
      "Cross validation F1-scores: [0.21375346 0.21527306 0.21838317 0.22765757 0.21290032]\n",
      "Average F1-score: 0.21759351448034886\n"
     ]
    },
    {
     "name": "stderr",
     "output_type": "stream",
     "text": [
      "[I 2024-12-27 16:53:59,838] Trial 60 finished with value: 0.21777030664032188 and parameters: {'max_depth': 6, 'min_samples_leaf': 22}. Best is trial 29 with value: 0.21960834046767386.\n"
     ]
    },
    {
     "name": "stdout",
     "output_type": "stream",
     "text": [
      "Cross validation F1-scores: [0.21541081 0.21680823 0.22163704 0.22360248 0.21139297]\n",
      "Average F1-score: 0.21777030664032188\n"
     ]
    },
    {
     "name": "stderr",
     "output_type": "stream",
     "text": [
      "[I 2024-12-27 16:54:01,028] Trial 61 finished with value: 0.21632735364803324 and parameters: {'max_depth': 8, 'min_samples_leaf': 22}. Best is trial 29 with value: 0.21960834046767386.\n"
     ]
    },
    {
     "name": "stdout",
     "output_type": "stream",
     "text": [
      "Cross validation F1-scores: [0.21394381 0.21276596 0.21999146 0.22063421 0.21430133]\n",
      "Average F1-score: 0.21632735364803324\n"
     ]
    },
    {
     "name": "stderr",
     "output_type": "stream",
     "text": [
      "[I 2024-12-27 16:54:01,645] Trial 62 finished with value: 0.21704549666677395 and parameters: {'max_depth': 8, 'min_samples_leaf': 24}. Best is trial 29 with value: 0.21960834046767386.\n"
     ]
    },
    {
     "name": "stdout",
     "output_type": "stream",
     "text": [
      "Cross validation F1-scores: [0.21444835 0.21559233 0.22111855 0.22041186 0.21365639]\n",
      "Average F1-score: 0.21704549666677395\n"
     ]
    },
    {
     "name": "stderr",
     "output_type": "stream",
     "text": [
      "[I 2024-12-27 16:54:02,491] Trial 63 finished with value: 0.21686432909038422 and parameters: {'max_depth': 8, 'min_samples_leaf': 10}. Best is trial 29 with value: 0.21960834046767386.\n",
      "[I 2024-12-27 16:54:02,533] Trial 64 finished with value: 0.21814820936759985 and parameters: {'max_depth': 8, 'min_samples_leaf': 8}. Best is trial 29 with value: 0.21960834046767386.\n",
      "[I 2024-12-27 16:54:02,602] Trial 65 finished with value: 0.21704549666677395 and parameters: {'max_depth': 8, 'min_samples_leaf': 24}. Best is trial 29 with value: 0.21960834046767386.\n"
     ]
    },
    {
     "name": "stdout",
     "output_type": "stream",
     "text": [
      "Cross validation F1-scores: [0.2173913  0.21388286 0.2214442  0.21596032 0.21564295]\n",
      "Average F1-score: 0.21686432909038422\n",
      "Cross validation F1-scores: [0.21729119 0.21760283 0.22338114 0.21704036 0.21542553]\n",
      "Average F1-score: 0.21814820936759985\n",
      "Cross validation F1-scores: [0.21444835 0.21559233 0.22111855 0.22041186 0.21365639]\n",
      "Average F1-score: 0.21704549666677395\n"
     ]
    },
    {
     "name": "stderr",
     "output_type": "stream",
     "text": [
      "[I 2024-12-27 16:54:02,855] Trial 67 finished with value: 0.21814820936759985 and parameters: {'max_depth': 8, 'min_samples_leaf': 8}. Best is trial 29 with value: 0.21960834046767386.\n",
      "[I 2024-12-27 16:54:03,022] Trial 66 finished with value: 0.21814820936759985 and parameters: {'max_depth': 8, 'min_samples_leaf': 8}. Best is trial 29 with value: 0.21960834046767386.\n"
     ]
    },
    {
     "name": "stdout",
     "output_type": "stream",
     "text": [
      "Cross validation F1-scores: [0.21729119 0.21760283 0.22338114 0.21704036 0.21542553]\n",
      "Average F1-score: 0.21814820936759985\n",
      "Cross validation F1-scores: [0.21729119 0.21760283 0.22338114 0.21704036 0.21542553]\n",
      "Average F1-score: 0.21814820936759985\n"
     ]
    },
    {
     "name": "stderr",
     "output_type": "stream",
     "text": [
      "[I 2024-12-27 16:54:03,138] Trial 68 finished with value: 0.21814820936759985 and parameters: {'max_depth': 8, 'min_samples_leaf': 8}. Best is trial 29 with value: 0.21960834046767386.\n",
      "[I 2024-12-27 16:54:03,260] Trial 69 finished with value: 0.21814820936759985 and parameters: {'max_depth': 8, 'min_samples_leaf': 8}. Best is trial 29 with value: 0.21960834046767386.\n"
     ]
    },
    {
     "name": "stdout",
     "output_type": "stream",
     "text": [
      "Cross validation F1-scores: [0.21729119 0.21760283 0.22338114 0.21704036 0.21542553]\n",
      "Average F1-score: 0.21814820936759985\n",
      "Cross validation F1-scores: [0.21729119 0.21760283 0.22338114 0.21704036 0.21542553]\n",
      "Average F1-score: 0.21814820936759985\n"
     ]
    },
    {
     "name": "stderr",
     "output_type": "stream",
     "text": [
      "[I 2024-12-27 16:54:04,420] Trial 70 finished with value: 0.21814820936759985 and parameters: {'max_depth': 8, 'min_samples_leaf': 8}. Best is trial 29 with value: 0.21960834046767386.\n",
      "[I 2024-12-27 16:54:04,469] Trial 71 finished with value: 0.21814820936759985 and parameters: {'max_depth': 8, 'min_samples_leaf': 8}. Best is trial 29 with value: 0.21960834046767386.\n"
     ]
    },
    {
     "name": "stdout",
     "output_type": "stream",
     "text": [
      "Cross validation F1-scores: [0.21729119 0.21760283 0.22338114 0.21704036 0.21542553]\n",
      "Average F1-score: 0.21814820936759985\n",
      "Cross validation F1-scores: [0.21729119 0.21760283 0.22338114 0.21704036 0.21542553]\n",
      "Average F1-score: 0.21814820936759985\n"
     ]
    },
    {
     "name": "stderr",
     "output_type": "stream",
     "text": [
      "[I 2024-12-27 16:54:08,644] Trial 72 finished with value: 0.21814820936759985 and parameters: {'max_depth': 8, 'min_samples_leaf': 8}. Best is trial 29 with value: 0.21960834046767386.\n"
     ]
    },
    {
     "name": "stdout",
     "output_type": "stream",
     "text": [
      "Cross validation F1-scores: [0.21729119 0.21760283 0.22338114 0.21704036 0.21542553]\n",
      "Average F1-score: 0.21814820936759985\n"
     ]
    },
    {
     "name": "stderr",
     "output_type": "stream",
     "text": [
      "[I 2024-12-27 16:54:09,790] Trial 73 finished with value: 0.21814820936759985 and parameters: {'max_depth': 8, 'min_samples_leaf': 8}. Best is trial 29 with value: 0.21960834046767386.\n"
     ]
    },
    {
     "name": "stdout",
     "output_type": "stream",
     "text": [
      "Cross validation F1-scores: [0.21729119 0.21760283 0.22338114 0.21704036 0.21542553]\n",
      "Average F1-score: 0.21814820936759985\n"
     ]
    },
    {
     "name": "stderr",
     "output_type": "stream",
     "text": [
      "[I 2024-12-27 16:54:11,383] Trial 74 finished with value: 0.20996393384121817 and parameters: {'max_depth': 22, 'min_samples_leaf': 8}. Best is trial 29 with value: 0.21960834046767386.\n"
     ]
    },
    {
     "name": "stdout",
     "output_type": "stream",
     "text": [
      "Cross validation F1-scores: [0.20996016 0.21146808 0.21808618 0.20465506 0.20565019]\n",
      "Average F1-score: 0.20996393384121817\n"
     ]
    },
    {
     "name": "stderr",
     "output_type": "stream",
     "text": [
      "[I 2024-12-27 16:54:11,613] Trial 76 finished with value: 0.21438587039605145 and parameters: {'max_depth': 16, 'min_samples_leaf': 14}. Best is trial 29 with value: 0.21960834046767386.\n",
      "[I 2024-12-27 16:54:11,692] Trial 78 finished with value: 0.21500160209245936 and parameters: {'max_depth': 10, 'min_samples_leaf': 14}. Best is trial 29 with value: 0.21960834046767386.\n"
     ]
    },
    {
     "name": "stdout",
     "output_type": "stream",
     "text": [
      "Cross validation F1-scores: [0.21541542 0.2150448  0.22033556 0.21254209 0.20859149]\n",
      "Average F1-score: 0.21438587039605145\n",
      "Cross validation F1-scores: [0.21383391 0.21462163 0.22032841 0.21295896 0.21326509]\n",
      "Average F1-score: 0.21500160209245936\n"
     ]
    },
    {
     "name": "stderr",
     "output_type": "stream",
     "text": [
      "[I 2024-12-27 16:54:11,847] Trial 75 finished with value: 0.21438587039605145 and parameters: {'max_depth': 16, 'min_samples_leaf': 14}. Best is trial 29 with value: 0.21960834046767386.\n",
      "[I 2024-12-27 16:54:11,888] Trial 77 finished with value: 0.21507152800092966 and parameters: {'max_depth': 20, 'min_samples_leaf': 14}. Best is trial 29 with value: 0.21960834046767386.\n",
      "[I 2024-12-27 16:54:12,019] Trial 80 finished with value: 0.21500160209245936 and parameters: {'max_depth': 10, 'min_samples_leaf': 14}. Best is trial 29 with value: 0.21960834046767386.\n"
     ]
    },
    {
     "name": "stdout",
     "output_type": "stream",
     "text": [
      "Cross validation F1-scores: [0.21541542 0.2150448  0.22033556 0.21254209 0.20859149]\n",
      "Average F1-score: 0.21438587039605145\n",
      "Cross validation F1-scores: [0.21721802 0.21749113 0.21859246 0.21289228 0.20916376]\n",
      "Average F1-score: 0.21507152800092966\n",
      "Cross validation F1-scores: [0.21383391 0.21462163 0.22032841 0.21295896 0.21326509]\n",
      "Average F1-score: 0.21500160209245936\n"
     ]
    },
    {
     "name": "stderr",
     "output_type": "stream",
     "text": [
      "[I 2024-12-27 16:54:12,082] Trial 82 finished with value: 0.21923661292453334 and parameters: {'max_depth': 4, 'min_samples_leaf': 16}. Best is trial 29 with value: 0.21960834046767386.\n",
      "[I 2024-12-27 16:54:12,096] Trial 83 finished with value: 0.21879295419909614 and parameters: {'max_depth': 4, 'min_samples_leaf': 4}. Best is trial 29 with value: 0.21960834046767386.\n",
      "[I 2024-12-27 16:54:12,180] Trial 79 finished with value: 0.21535511850040928 and parameters: {'max_depth': 22, 'min_samples_leaf': 14}. Best is trial 29 with value: 0.21960834046767386.\n"
     ]
    },
    {
     "name": "stdout",
     "output_type": "stream",
     "text": [
      "Cross validation F1-scores: [0.21952297 0.21691176 0.22237227 0.22495776 0.2124183 ]\n",
      "Average F1-score: 0.21923661292453334\n",
      "Cross validation F1-scores: [0.21784777 0.21583742 0.22206928 0.22566996 0.21254034]\n",
      "Average F1-score: 0.21879295419909614\n",
      "Cross validation F1-scores: [0.21743467 0.21679198 0.21859246 0.21492158 0.20903491]\n",
      "Average F1-score: 0.21535511850040928\n"
     ]
    },
    {
     "name": "stderr",
     "output_type": "stream",
     "text": [
      "[I 2024-12-27 16:54:12,333] Trial 81 finished with value: 0.21535511850040928 and parameters: {'max_depth': 22, 'min_samples_leaf': 14}. Best is trial 29 with value: 0.21960834046767386.\n"
     ]
    },
    {
     "name": "stdout",
     "output_type": "stream",
     "text": [
      "Cross validation F1-scores: [0.21743467 0.21679198 0.21859246 0.21492158 0.20903491]\n",
      "Average F1-score: 0.21535511850040928\n"
     ]
    },
    {
     "name": "stderr",
     "output_type": "stream",
     "text": [
      "[I 2024-12-27 16:54:17,166] Trial 84 finished with value: 0.2193280791834197 and parameters: {'max_depth': 4, 'min_samples_leaf': 14}. Best is trial 29 with value: 0.21960834046767386.\n"
     ]
    },
    {
     "name": "stdout",
     "output_type": "stream",
     "text": [
      "Cross validation F1-scores: [0.21907502 0.21626617 0.22257336 0.22531828 0.21340756]\n",
      "Average F1-score: 0.2193280791834197\n"
     ]
    },
    {
     "name": "stderr",
     "output_type": "stream",
     "text": [
      "[I 2024-12-27 16:54:18,181] Trial 85 finished with value: 0.2193280791834197 and parameters: {'max_depth': 4, 'min_samples_leaf': 14}. Best is trial 29 with value: 0.21960834046767386.\n"
     ]
    },
    {
     "name": "stdout",
     "output_type": "stream",
     "text": [
      "Cross validation F1-scores: [0.21907502 0.21626617 0.22257336 0.22531828 0.21340756]\n",
      "Average F1-score: 0.2193280791834197\n"
     ]
    },
    {
     "name": "stderr",
     "output_type": "stream",
     "text": [
      "[I 2024-12-27 16:54:20,051] Trial 86 finished with value: 0.2193280791834197 and parameters: {'max_depth': 4, 'min_samples_leaf': 14}. Best is trial 29 with value: 0.21960834046767386.\n",
      "[I 2024-12-27 16:54:20,208] Trial 87 finished with value: 0.2193280791834197 and parameters: {'max_depth': 4, 'min_samples_leaf': 14}. Best is trial 29 with value: 0.21960834046767386.\n"
     ]
    },
    {
     "name": "stdout",
     "output_type": "stream",
     "text": [
      "Cross validation F1-scores: [0.21907502 0.21626617 0.22257336 0.22531828 0.21340756]\n",
      "Average F1-score: 0.2193280791834197\n",
      "Cross validation F1-scores: [0.21907502 0.21626617 0.22257336 0.22531828 0.21340756]\n",
      "Average F1-score: 0.2193280791834197\n"
     ]
    },
    {
     "name": "stderr",
     "output_type": "stream",
     "text": [
      "[I 2024-12-27 16:54:20,333] Trial 88 finished with value: 0.21879295419909614 and parameters: {'max_depth': 4, 'min_samples_leaf': 4}. Best is trial 29 with value: 0.21960834046767386.\n",
      "[I 2024-12-27 16:54:20,336] Trial 89 finished with value: 0.21879295419909614 and parameters: {'max_depth': 4, 'min_samples_leaf': 4}. Best is trial 29 with value: 0.21960834046767386.\n",
      "[I 2024-12-27 16:54:20,411] Trial 90 finished with value: 0.21879295419909614 and parameters: {'max_depth': 4, 'min_samples_leaf': 4}. Best is trial 29 with value: 0.21960834046767386.\n"
     ]
    },
    {
     "name": "stdout",
     "output_type": "stream",
     "text": [
      "Cross validation F1-scores: [0.21784777 0.21583742 0.22206928 0.22566996 0.21254034]\n",
      "Average F1-score: 0.21879295419909614\n",
      "Cross validation F1-scores: [0.21784777 0.21583742 0.22206928 0.22566996 0.21254034]\n",
      "Average F1-score: 0.21879295419909614\n",
      "Cross validation F1-scores: [0.21784777 0.21583742 0.22206928 0.22566996 0.21254034]\n",
      "Average F1-score: 0.21879295419909614\n"
     ]
    },
    {
     "name": "stderr",
     "output_type": "stream",
     "text": [
      "[I 2024-12-27 16:54:20,558] Trial 91 finished with value: 0.21972573966991887 and parameters: {'max_depth': 4, 'min_samples_leaf': 10}. Best is trial 91 with value: 0.21972573966991887.\n",
      "[I 2024-12-27 16:54:20,599] Trial 92 finished with value: 0.21972573966991887 and parameters: {'max_depth': 4, 'min_samples_leaf': 10}. Best is trial 91 with value: 0.21972573966991887.\n",
      "[I 2024-12-27 16:54:20,654] Trial 93 finished with value: 0.21972573966991887 and parameters: {'max_depth': 4, 'min_samples_leaf': 10}. Best is trial 91 with value: 0.21972573966991887.\n",
      "[I 2024-12-27 16:54:20,661] Trial 94 finished with value: 0.21972573966991887 and parameters: {'max_depth': 4, 'min_samples_leaf': 10}. Best is trial 91 with value: 0.21972573966991887.\n",
      "[I 2024-12-27 16:54:20,712] Trial 95 finished with value: 0.21972573966991887 and parameters: {'max_depth': 4, 'min_samples_leaf': 10}. Best is trial 91 with value: 0.21972573966991887.\n"
     ]
    },
    {
     "name": "stdout",
     "output_type": "stream",
     "text": [
      "Cross validation F1-scores: [0.21953897 0.21675563 0.22313297 0.2259914  0.21320973]\n",
      "Average F1-score: 0.21972573966991887\n",
      "Cross validation F1-scores: [0.21953897 0.21675563 0.22313297 0.2259914  0.21320973]\n",
      "Average F1-score: 0.21972573966991887\n",
      "Cross validation F1-scores: [0.21953897 0.21675563 0.22313297 0.2259914  0.21320973]\n",
      "Average F1-score: 0.21972573966991887\n",
      "Cross validation F1-scores: [0.21953897 0.21675563 0.22313297 0.2259914  0.21320973]\n",
      "Average F1-score: 0.21972573966991887\n",
      "Cross validation F1-scores: [0.21953897 0.21675563 0.22313297 0.2259914  0.21320973]\n",
      "Average F1-score: 0.21972573966991887\n"
     ]
    },
    {
     "name": "stderr",
     "output_type": "stream",
     "text": [
      "[I 2024-12-27 16:54:21,774] Trial 96 finished with value: 0.21972573966991887 and parameters: {'max_depth': 4, 'min_samples_leaf': 10}. Best is trial 91 with value: 0.21972573966991887.\n",
      "[I 2024-12-27 16:54:21,921] Trial 97 finished with value: 0.21972573966991887 and parameters: {'max_depth': 4, 'min_samples_leaf': 10}. Best is trial 91 with value: 0.21972573966991887.\n"
     ]
    },
    {
     "name": "stdout",
     "output_type": "stream",
     "text": [
      "Cross validation F1-scores: [0.21953897 0.21675563 0.22313297 0.2259914  0.21320973]\n",
      "Average F1-score: 0.21972573966991887\n",
      "Cross validation F1-scores: [0.21953897 0.21675563 0.22313297 0.2259914  0.21320973]\n",
      "Average F1-score: 0.21972573966991887\n"
     ]
    },
    {
     "name": "stderr",
     "output_type": "stream",
     "text": [
      "[I 2024-12-27 16:54:22,216] Trial 98 finished with value: 0.21972573966991887 and parameters: {'max_depth': 4, 'min_samples_leaf': 10}. Best is trial 91 with value: 0.21972573966991887.\n",
      "[I 2024-12-27 16:54:22,228] Trial 99 finished with value: 0.21972573966991887 and parameters: {'max_depth': 4, 'min_samples_leaf': 10}. Best is trial 91 with value: 0.21972573966991887.\n"
     ]
    },
    {
     "name": "stdout",
     "output_type": "stream",
     "text": [
      "Cross validation F1-scores: [0.21953897 0.21675563 0.22313297 0.2259914  0.21320973]\n",
      "Average F1-score: 0.21972573966991887\n",
      "Cross validation F1-scores: [0.21953897 0.21675563 0.22313297 0.2259914  0.21320973]\n",
      "Average F1-score: 0.21972573966991887\n"
     ]
    }
   ],
   "source": [
    "study.optimize(\n",
    "    objective,\n",
    "    n_trials=100,\n",
    "    n_jobs=-1 # Use all available cores\n",
    ")"
   ]
  },
  {
   "cell_type": "code",
   "execution_count": 82,
   "metadata": {},
   "outputs": [
    {
     "name": "stdout",
     "output_type": "stream",
     "text": [
      "Best Trial: 91\n",
      "Best Parameters: {'max_depth': 4, 'min_samples_leaf': 10}\n",
      "Best Value: 0.21972573966991887\n"
     ]
    }
   ],
   "source": [
    "print('Best Trial: {}'.format(study.best_trial.number))\n",
    "print('Best Parameters: {}'.format(study.best_params))\n",
    "print('Best Value: {}'.format(study.best_value))"
   ]
  },
  {
   "cell_type": "markdown",
   "metadata": {},
   "source": [
    "### 2.3 Optuna Visualizations\n",
    "Visualizing hyper-parameter tuning results obtained by running Optuna."
   ]
  },
  {
   "cell_type": "code",
   "execution_count": 83,
   "metadata": {},
   "outputs": [
    {
     "data": {
      "application/vnd.plotly.v1+json": {
       "config": {
        "plotlyServerURL": "https://plot.ly"
       },
       "data": [
        {
         "mode": "markers",
         "name": "Objective Value",
         "type": "scatter",
         "x": [
          0,
          1,
          2,
          3,
          4,
          5,
          6,
          7,
          8,
          9,
          10,
          11,
          12,
          13,
          14,
          15,
          16,
          17,
          18,
          19,
          20,
          21,
          22,
          23,
          24,
          25,
          26,
          27,
          28,
          29,
          30,
          31,
          32,
          33,
          34,
          35,
          36,
          37,
          38,
          39,
          40,
          41,
          42,
          43,
          44,
          45,
          46,
          47,
          48,
          49,
          50,
          51,
          52,
          53,
          54,
          55,
          56,
          57,
          58,
          59,
          60,
          61,
          62,
          63,
          64,
          65,
          66,
          67,
          68,
          69,
          70,
          71,
          72,
          73,
          74,
          75,
          76,
          77,
          78,
          79,
          80,
          81,
          82,
          83,
          84,
          85,
          86,
          87,
          88,
          89,
          90,
          91,
          92,
          93,
          94,
          95,
          96,
          97,
          98,
          99
         ],
         "y": [
          0.215928919355812,
          0.2168124737195462,
          0.21284243568797762,
          0.21756973472831792,
          0.215928919355812,
          0.21284243568797762,
          0.21658210303704672,
          0.21465517251782043,
          0.21365987365702283,
          0.21447831363338157,
          0.21470099159757408,
          0.21465517251782043,
          0.2098971669738368,
          0.21452282702524803,
          0.21555368060419444,
          0.21609822429027276,
          0.21483399102991724,
          0.21597836678734644,
          0.21377381625317513,
          0.21562508464270672,
          0.21522923603530933,
          0.21872033164181431,
          0.21879295419909614,
          0.21910181338881332,
          0.2022899092060379,
          0.21493807570387347,
          0.212608588458306,
          0.212608588458306,
          0.212608588458306,
          0.21960834046767386,
          0.212608588458306,
          0.212608588458306,
          0.20416836178582026,
          0.212608588458306,
          0.212608588458306,
          0.2193280791834197,
          0.21960834046767386,
          0.2193280791834197,
          0.21960834046767386,
          0.21960834046767386,
          0.21960834046767386,
          0.21923661292453334,
          0.21907651919231266,
          0.2192379245937107,
          0.21907651919231266,
          0.21907651919231266,
          0.21907651919231266,
          0.21907651919231266,
          0.2177243553455991,
          0.2177243553455991,
          0.21811017041514097,
          0.21811017041514097,
          0.21759351448034886,
          0.21811017041514097,
          0.21811017041514097,
          0.21777030664032188,
          0.21777030664032188,
          0.21777030664032188,
          0.21759351448034886,
          0.21759351448034886,
          0.21777030664032188,
          0.21632735364803324,
          0.21704549666677395,
          0.21686432909038422,
          0.21814820936759985,
          0.21704549666677395,
          0.21814820936759985,
          0.21814820936759985,
          0.21814820936759985,
          0.21814820936759985,
          0.21814820936759985,
          0.21814820936759985,
          0.21814820936759985,
          0.21814820936759985,
          0.20996393384121817,
          0.21438587039605145,
          0.21438587039605145,
          0.21507152800092966,
          0.21500160209245936,
          0.21535511850040928,
          0.21500160209245936,
          0.21535511850040928,
          0.21923661292453334,
          0.21879295419909614,
          0.2193280791834197,
          0.2193280791834197,
          0.2193280791834197,
          0.2193280791834197,
          0.21879295419909614,
          0.21879295419909614,
          0.21879295419909614,
          0.21972573966991887,
          0.21972573966991887,
          0.21972573966991887,
          0.21972573966991887,
          0.21972573966991887,
          0.21972573966991887,
          0.21972573966991887,
          0.21972573966991887,
          0.21972573966991887
         ]
        },
        {
         "mode": "lines",
         "name": "Best Value",
         "type": "scatter",
         "x": [
          0,
          1,
          2,
          3,
          4,
          5,
          6,
          7,
          8,
          9,
          10,
          11,
          12,
          13,
          14,
          15,
          16,
          17,
          18,
          19,
          20,
          21,
          22,
          23,
          24,
          25,
          26,
          27,
          28,
          29,
          30,
          31,
          32,
          33,
          34,
          35,
          36,
          37,
          38,
          39,
          40,
          41,
          42,
          43,
          44,
          45,
          46,
          47,
          48,
          49,
          50,
          51,
          52,
          53,
          54,
          55,
          56,
          57,
          58,
          59,
          60,
          61,
          62,
          63,
          64,
          65,
          66,
          67,
          68,
          69,
          70,
          71,
          72,
          73,
          74,
          75,
          76,
          77,
          78,
          79,
          80,
          81,
          82,
          83,
          84,
          85,
          86,
          87,
          88,
          89,
          90,
          91,
          92,
          93,
          94,
          95,
          96,
          97,
          98,
          99
         ],
         "y": [
          0.215928919355812,
          0.2168124737195462,
          0.2168124737195462,
          0.21756973472831792,
          0.21756973472831792,
          0.21756973472831792,
          0.21756973472831792,
          0.21756973472831792,
          0.21756973472831792,
          0.21756973472831792,
          0.21756973472831792,
          0.21756973472831792,
          0.21756973472831792,
          0.21756973472831792,
          0.21756973472831792,
          0.21756973472831792,
          0.21756973472831792,
          0.21756973472831792,
          0.21756973472831792,
          0.21756973472831792,
          0.21756973472831792,
          0.21872033164181431,
          0.21879295419909614,
          0.21910181338881332,
          0.21910181338881332,
          0.21910181338881332,
          0.21910181338881332,
          0.21910181338881332,
          0.21910181338881332,
          0.21960834046767386,
          0.21960834046767386,
          0.21960834046767386,
          0.21960834046767386,
          0.21960834046767386,
          0.21960834046767386,
          0.21960834046767386,
          0.21960834046767386,
          0.21960834046767386,
          0.21960834046767386,
          0.21960834046767386,
          0.21960834046767386,
          0.21960834046767386,
          0.21960834046767386,
          0.21960834046767386,
          0.21960834046767386,
          0.21960834046767386,
          0.21960834046767386,
          0.21960834046767386,
          0.21960834046767386,
          0.21960834046767386,
          0.21960834046767386,
          0.21960834046767386,
          0.21960834046767386,
          0.21960834046767386,
          0.21960834046767386,
          0.21960834046767386,
          0.21960834046767386,
          0.21960834046767386,
          0.21960834046767386,
          0.21960834046767386,
          0.21960834046767386,
          0.21960834046767386,
          0.21960834046767386,
          0.21960834046767386,
          0.21960834046767386,
          0.21960834046767386,
          0.21960834046767386,
          0.21960834046767386,
          0.21960834046767386,
          0.21960834046767386,
          0.21960834046767386,
          0.21960834046767386,
          0.21960834046767386,
          0.21960834046767386,
          0.21960834046767386,
          0.21960834046767386,
          0.21960834046767386,
          0.21960834046767386,
          0.21960834046767386,
          0.21960834046767386,
          0.21960834046767386,
          0.21960834046767386,
          0.21960834046767386,
          0.21960834046767386,
          0.21960834046767386,
          0.21960834046767386,
          0.21960834046767386,
          0.21960834046767386,
          0.21960834046767386,
          0.21960834046767386,
          0.21960834046767386,
          0.21972573966991887,
          0.21972573966991887,
          0.21972573966991887,
          0.21972573966991887,
          0.21972573966991887,
          0.21972573966991887,
          0.21972573966991887,
          0.21972573966991887,
          0.21972573966991887
         ]
        },
        {
         "marker": {
          "color": "#cccccc"
         },
         "mode": "markers",
         "name": "Infeasible Trial",
         "showlegend": false,
         "type": "scatter",
         "x": [],
         "y": []
        }
       ],
       "layout": {
        "template": {
         "data": {
          "bar": [
           {
            "error_x": {
             "color": "#2a3f5f"
            },
            "error_y": {
             "color": "#2a3f5f"
            },
            "marker": {
             "line": {
              "color": "#E5ECF6",
              "width": 0.5
             },
             "pattern": {
              "fillmode": "overlay",
              "size": 10,
              "solidity": 0.2
             }
            },
            "type": "bar"
           }
          ],
          "barpolar": [
           {
            "marker": {
             "line": {
              "color": "#E5ECF6",
              "width": 0.5
             },
             "pattern": {
              "fillmode": "overlay",
              "size": 10,
              "solidity": 0.2
             }
            },
            "type": "barpolar"
           }
          ],
          "carpet": [
           {
            "aaxis": {
             "endlinecolor": "#2a3f5f",
             "gridcolor": "white",
             "linecolor": "white",
             "minorgridcolor": "white",
             "startlinecolor": "#2a3f5f"
            },
            "baxis": {
             "endlinecolor": "#2a3f5f",
             "gridcolor": "white",
             "linecolor": "white",
             "minorgridcolor": "white",
             "startlinecolor": "#2a3f5f"
            },
            "type": "carpet"
           }
          ],
          "choropleth": [
           {
            "colorbar": {
             "outlinewidth": 0,
             "ticks": ""
            },
            "type": "choropleth"
           }
          ],
          "contour": [
           {
            "colorbar": {
             "outlinewidth": 0,
             "ticks": ""
            },
            "colorscale": [
             [
              0,
              "#0d0887"
             ],
             [
              0.1111111111111111,
              "#46039f"
             ],
             [
              0.2222222222222222,
              "#7201a8"
             ],
             [
              0.3333333333333333,
              "#9c179e"
             ],
             [
              0.4444444444444444,
              "#bd3786"
             ],
             [
              0.5555555555555556,
              "#d8576b"
             ],
             [
              0.6666666666666666,
              "#ed7953"
             ],
             [
              0.7777777777777778,
              "#fb9f3a"
             ],
             [
              0.8888888888888888,
              "#fdca26"
             ],
             [
              1,
              "#f0f921"
             ]
            ],
            "type": "contour"
           }
          ],
          "contourcarpet": [
           {
            "colorbar": {
             "outlinewidth": 0,
             "ticks": ""
            },
            "type": "contourcarpet"
           }
          ],
          "heatmap": [
           {
            "colorbar": {
             "outlinewidth": 0,
             "ticks": ""
            },
            "colorscale": [
             [
              0,
              "#0d0887"
             ],
             [
              0.1111111111111111,
              "#46039f"
             ],
             [
              0.2222222222222222,
              "#7201a8"
             ],
             [
              0.3333333333333333,
              "#9c179e"
             ],
             [
              0.4444444444444444,
              "#bd3786"
             ],
             [
              0.5555555555555556,
              "#d8576b"
             ],
             [
              0.6666666666666666,
              "#ed7953"
             ],
             [
              0.7777777777777778,
              "#fb9f3a"
             ],
             [
              0.8888888888888888,
              "#fdca26"
             ],
             [
              1,
              "#f0f921"
             ]
            ],
            "type": "heatmap"
           }
          ],
          "heatmapgl": [
           {
            "colorbar": {
             "outlinewidth": 0,
             "ticks": ""
            },
            "colorscale": [
             [
              0,
              "#0d0887"
             ],
             [
              0.1111111111111111,
              "#46039f"
             ],
             [
              0.2222222222222222,
              "#7201a8"
             ],
             [
              0.3333333333333333,
              "#9c179e"
             ],
             [
              0.4444444444444444,
              "#bd3786"
             ],
             [
              0.5555555555555556,
              "#d8576b"
             ],
             [
              0.6666666666666666,
              "#ed7953"
             ],
             [
              0.7777777777777778,
              "#fb9f3a"
             ],
             [
              0.8888888888888888,
              "#fdca26"
             ],
             [
              1,
              "#f0f921"
             ]
            ],
            "type": "heatmapgl"
           }
          ],
          "histogram": [
           {
            "marker": {
             "pattern": {
              "fillmode": "overlay",
              "size": 10,
              "solidity": 0.2
             }
            },
            "type": "histogram"
           }
          ],
          "histogram2d": [
           {
            "colorbar": {
             "outlinewidth": 0,
             "ticks": ""
            },
            "colorscale": [
             [
              0,
              "#0d0887"
             ],
             [
              0.1111111111111111,
              "#46039f"
             ],
             [
              0.2222222222222222,
              "#7201a8"
             ],
             [
              0.3333333333333333,
              "#9c179e"
             ],
             [
              0.4444444444444444,
              "#bd3786"
             ],
             [
              0.5555555555555556,
              "#d8576b"
             ],
             [
              0.6666666666666666,
              "#ed7953"
             ],
             [
              0.7777777777777778,
              "#fb9f3a"
             ],
             [
              0.8888888888888888,
              "#fdca26"
             ],
             [
              1,
              "#f0f921"
             ]
            ],
            "type": "histogram2d"
           }
          ],
          "histogram2dcontour": [
           {
            "colorbar": {
             "outlinewidth": 0,
             "ticks": ""
            },
            "colorscale": [
             [
              0,
              "#0d0887"
             ],
             [
              0.1111111111111111,
              "#46039f"
             ],
             [
              0.2222222222222222,
              "#7201a8"
             ],
             [
              0.3333333333333333,
              "#9c179e"
             ],
             [
              0.4444444444444444,
              "#bd3786"
             ],
             [
              0.5555555555555556,
              "#d8576b"
             ],
             [
              0.6666666666666666,
              "#ed7953"
             ],
             [
              0.7777777777777778,
              "#fb9f3a"
             ],
             [
              0.8888888888888888,
              "#fdca26"
             ],
             [
              1,
              "#f0f921"
             ]
            ],
            "type": "histogram2dcontour"
           }
          ],
          "mesh3d": [
           {
            "colorbar": {
             "outlinewidth": 0,
             "ticks": ""
            },
            "type": "mesh3d"
           }
          ],
          "parcoords": [
           {
            "line": {
             "colorbar": {
              "outlinewidth": 0,
              "ticks": ""
             }
            },
            "type": "parcoords"
           }
          ],
          "pie": [
           {
            "automargin": true,
            "type": "pie"
           }
          ],
          "scatter": [
           {
            "fillpattern": {
             "fillmode": "overlay",
             "size": 10,
             "solidity": 0.2
            },
            "type": "scatter"
           }
          ],
          "scatter3d": [
           {
            "line": {
             "colorbar": {
              "outlinewidth": 0,
              "ticks": ""
             }
            },
            "marker": {
             "colorbar": {
              "outlinewidth": 0,
              "ticks": ""
             }
            },
            "type": "scatter3d"
           }
          ],
          "scattercarpet": [
           {
            "marker": {
             "colorbar": {
              "outlinewidth": 0,
              "ticks": ""
             }
            },
            "type": "scattercarpet"
           }
          ],
          "scattergeo": [
           {
            "marker": {
             "colorbar": {
              "outlinewidth": 0,
              "ticks": ""
             }
            },
            "type": "scattergeo"
           }
          ],
          "scattergl": [
           {
            "marker": {
             "colorbar": {
              "outlinewidth": 0,
              "ticks": ""
             }
            },
            "type": "scattergl"
           }
          ],
          "scattermapbox": [
           {
            "marker": {
             "colorbar": {
              "outlinewidth": 0,
              "ticks": ""
             }
            },
            "type": "scattermapbox"
           }
          ],
          "scatterpolar": [
           {
            "marker": {
             "colorbar": {
              "outlinewidth": 0,
              "ticks": ""
             }
            },
            "type": "scatterpolar"
           }
          ],
          "scatterpolargl": [
           {
            "marker": {
             "colorbar": {
              "outlinewidth": 0,
              "ticks": ""
             }
            },
            "type": "scatterpolargl"
           }
          ],
          "scatterternary": [
           {
            "marker": {
             "colorbar": {
              "outlinewidth": 0,
              "ticks": ""
             }
            },
            "type": "scatterternary"
           }
          ],
          "surface": [
           {
            "colorbar": {
             "outlinewidth": 0,
             "ticks": ""
            },
            "colorscale": [
             [
              0,
              "#0d0887"
             ],
             [
              0.1111111111111111,
              "#46039f"
             ],
             [
              0.2222222222222222,
              "#7201a8"
             ],
             [
              0.3333333333333333,
              "#9c179e"
             ],
             [
              0.4444444444444444,
              "#bd3786"
             ],
             [
              0.5555555555555556,
              "#d8576b"
             ],
             [
              0.6666666666666666,
              "#ed7953"
             ],
             [
              0.7777777777777778,
              "#fb9f3a"
             ],
             [
              0.8888888888888888,
              "#fdca26"
             ],
             [
              1,
              "#f0f921"
             ]
            ],
            "type": "surface"
           }
          ],
          "table": [
           {
            "cells": {
             "fill": {
              "color": "#EBF0F8"
             },
             "line": {
              "color": "white"
             }
            },
            "header": {
             "fill": {
              "color": "#C8D4E3"
             },
             "line": {
              "color": "white"
             }
            },
            "type": "table"
           }
          ]
         },
         "layout": {
          "annotationdefaults": {
           "arrowcolor": "#2a3f5f",
           "arrowhead": 0,
           "arrowwidth": 1
          },
          "autotypenumbers": "strict",
          "coloraxis": {
           "colorbar": {
            "outlinewidth": 0,
            "ticks": ""
           }
          },
          "colorscale": {
           "diverging": [
            [
             0,
             "#8e0152"
            ],
            [
             0.1,
             "#c51b7d"
            ],
            [
             0.2,
             "#de77ae"
            ],
            [
             0.3,
             "#f1b6da"
            ],
            [
             0.4,
             "#fde0ef"
            ],
            [
             0.5,
             "#f7f7f7"
            ],
            [
             0.6,
             "#e6f5d0"
            ],
            [
             0.7,
             "#b8e186"
            ],
            [
             0.8,
             "#7fbc41"
            ],
            [
             0.9,
             "#4d9221"
            ],
            [
             1,
             "#276419"
            ]
           ],
           "sequential": [
            [
             0,
             "#0d0887"
            ],
            [
             0.1111111111111111,
             "#46039f"
            ],
            [
             0.2222222222222222,
             "#7201a8"
            ],
            [
             0.3333333333333333,
             "#9c179e"
            ],
            [
             0.4444444444444444,
             "#bd3786"
            ],
            [
             0.5555555555555556,
             "#d8576b"
            ],
            [
             0.6666666666666666,
             "#ed7953"
            ],
            [
             0.7777777777777778,
             "#fb9f3a"
            ],
            [
             0.8888888888888888,
             "#fdca26"
            ],
            [
             1,
             "#f0f921"
            ]
           ],
           "sequentialminus": [
            [
             0,
             "#0d0887"
            ],
            [
             0.1111111111111111,
             "#46039f"
            ],
            [
             0.2222222222222222,
             "#7201a8"
            ],
            [
             0.3333333333333333,
             "#9c179e"
            ],
            [
             0.4444444444444444,
             "#bd3786"
            ],
            [
             0.5555555555555556,
             "#d8576b"
            ],
            [
             0.6666666666666666,
             "#ed7953"
            ],
            [
             0.7777777777777778,
             "#fb9f3a"
            ],
            [
             0.8888888888888888,
             "#fdca26"
            ],
            [
             1,
             "#f0f921"
            ]
           ]
          },
          "colorway": [
           "#636efa",
           "#EF553B",
           "#00cc96",
           "#ab63fa",
           "#FFA15A",
           "#19d3f3",
           "#FF6692",
           "#B6E880",
           "#FF97FF",
           "#FECB52"
          ],
          "font": {
           "color": "#2a3f5f"
          },
          "geo": {
           "bgcolor": "white",
           "lakecolor": "white",
           "landcolor": "#E5ECF6",
           "showlakes": true,
           "showland": true,
           "subunitcolor": "white"
          },
          "hoverlabel": {
           "align": "left"
          },
          "hovermode": "closest",
          "mapbox": {
           "style": "light"
          },
          "paper_bgcolor": "white",
          "plot_bgcolor": "#E5ECF6",
          "polar": {
           "angularaxis": {
            "gridcolor": "white",
            "linecolor": "white",
            "ticks": ""
           },
           "bgcolor": "#E5ECF6",
           "radialaxis": {
            "gridcolor": "white",
            "linecolor": "white",
            "ticks": ""
           }
          },
          "scene": {
           "xaxis": {
            "backgroundcolor": "#E5ECF6",
            "gridcolor": "white",
            "gridwidth": 2,
            "linecolor": "white",
            "showbackground": true,
            "ticks": "",
            "zerolinecolor": "white"
           },
           "yaxis": {
            "backgroundcolor": "#E5ECF6",
            "gridcolor": "white",
            "gridwidth": 2,
            "linecolor": "white",
            "showbackground": true,
            "ticks": "",
            "zerolinecolor": "white"
           },
           "zaxis": {
            "backgroundcolor": "#E5ECF6",
            "gridcolor": "white",
            "gridwidth": 2,
            "linecolor": "white",
            "showbackground": true,
            "ticks": "",
            "zerolinecolor": "white"
           }
          },
          "shapedefaults": {
           "line": {
            "color": "#2a3f5f"
           }
          },
          "ternary": {
           "aaxis": {
            "gridcolor": "white",
            "linecolor": "white",
            "ticks": ""
           },
           "baxis": {
            "gridcolor": "white",
            "linecolor": "white",
            "ticks": ""
           },
           "bgcolor": "#E5ECF6",
           "caxis": {
            "gridcolor": "white",
            "linecolor": "white",
            "ticks": ""
           }
          },
          "title": {
           "x": 0.05
          },
          "xaxis": {
           "automargin": true,
           "gridcolor": "white",
           "linecolor": "white",
           "ticks": "",
           "title": {
            "standoff": 15
           },
           "zerolinecolor": "white",
           "zerolinewidth": 2
          },
          "yaxis": {
           "automargin": true,
           "gridcolor": "white",
           "linecolor": "white",
           "ticks": "",
           "title": {
            "standoff": 15
           },
           "zerolinecolor": "white",
           "zerolinewidth": 2
          }
         }
        },
        "title": {
         "text": "Optimization History Plot"
        },
        "xaxis": {
         "title": {
          "text": "Trial"
         }
        },
        "yaxis": {
         "title": {
          "text": "Objective Value"
         }
        }
       }
      }
     },
     "metadata": {},
     "output_type": "display_data"
    }
   ],
   "source": [
    "optuna.visualization.plot_optimization_history(study)"
   ]
  },
  {
   "cell_type": "code",
   "execution_count": 84,
   "metadata": {},
   "outputs": [
    {
     "data": {
      "application/vnd.plotly.v1+json": {
       "config": {
        "plotlyServerURL": "https://plot.ly"
       },
       "data": [
        {
         "marker": {
          "color": [
           0,
           1,
           2,
           3,
           4,
           5,
           6,
           7,
           8,
           9,
           10,
           11,
           12,
           13,
           14,
           15,
           16,
           17,
           18,
           19,
           20,
           21,
           22,
           23,
           24,
           25,
           26,
           27,
           28,
           29,
           30,
           31,
           32,
           33,
           34,
           35,
           36,
           37,
           38,
           39,
           40,
           41,
           42,
           43,
           44,
           45,
           46,
           47,
           48,
           49,
           50,
           51,
           52,
           53,
           54,
           55,
           56,
           57,
           58,
           59,
           60,
           61,
           62,
           63,
           64,
           65,
           66,
           67,
           68,
           69,
           70,
           71,
           72,
           73,
           74,
           75,
           76,
           77,
           78,
           79,
           80,
           81,
           82,
           83,
           84,
           85,
           86,
           87,
           88,
           89,
           90,
           91,
           92,
           93,
           94,
           95,
           96,
           97,
           98,
           99
          ],
          "colorbar": {
           "title": {
            "text": "Trial"
           },
           "x": 1,
           "xpad": 40
          },
          "colorscale": [
           [
            0,
            "rgb(247,251,255)"
           ],
           [
            0.125,
            "rgb(222,235,247)"
           ],
           [
            0.25,
            "rgb(198,219,239)"
           ],
           [
            0.375,
            "rgb(158,202,225)"
           ],
           [
            0.5,
            "rgb(107,174,214)"
           ],
           [
            0.625,
            "rgb(66,146,198)"
           ],
           [
            0.75,
            "rgb(33,113,181)"
           ],
           [
            0.875,
            "rgb(8,81,156)"
           ],
           [
            1,
            "rgb(8,48,107)"
           ]
          ],
          "line": {
           "color": "Grey",
           "width": 0.5
          },
          "showscale": true
         },
         "mode": "markers",
         "name": "Feasible Trial",
         "showlegend": false,
         "type": "scatter",
         "x": [
          20,
          6,
          18,
          6,
          20,
          18,
          12,
          10,
          18,
          12,
          14,
          10,
          26,
          12,
          20,
          8,
          14,
          8,
          10,
          8,
          12,
          4,
          4,
          4,
          26,
          28,
          28,
          28,
          28,
          4,
          28,
          26,
          28,
          28,
          28,
          4,
          4,
          4,
          4,
          4,
          4,
          4,
          4,
          4,
          4,
          4,
          4,
          4,
          6,
          6,
          6,
          6,
          6,
          6,
          6,
          6,
          6,
          6,
          6,
          6,
          6,
          8,
          8,
          8,
          8,
          8,
          8,
          8,
          8,
          8,
          8,
          8,
          8,
          8,
          22,
          16,
          16,
          20,
          10,
          22,
          10,
          22,
          4,
          4,
          4,
          4,
          4,
          4,
          4,
          4,
          4,
          4,
          4,
          4,
          4,
          4,
          4,
          4,
          4,
          4
         ],
         "xaxis": "x",
         "y": [
          0.215928919355812,
          0.2168124737195462,
          0.21284243568797762,
          0.21756973472831792,
          0.215928919355812,
          0.21284243568797762,
          0.21658210303704672,
          0.21465517251782043,
          0.21365987365702283,
          0.21447831363338157,
          0.21470099159757408,
          0.21465517251782043,
          0.2098971669738368,
          0.21452282702524803,
          0.21555368060419444,
          0.21609822429027276,
          0.21483399102991724,
          0.21597836678734644,
          0.21377381625317513,
          0.21562508464270672,
          0.21522923603530933,
          0.21872033164181431,
          0.21879295419909614,
          0.21910181338881332,
          0.2022899092060379,
          0.21493807570387347,
          0.212608588458306,
          0.212608588458306,
          0.212608588458306,
          0.21960834046767386,
          0.212608588458306,
          0.212608588458306,
          0.20416836178582026,
          0.212608588458306,
          0.212608588458306,
          0.2193280791834197,
          0.21960834046767386,
          0.2193280791834197,
          0.21960834046767386,
          0.21960834046767386,
          0.21960834046767386,
          0.21923661292453334,
          0.21907651919231266,
          0.2192379245937107,
          0.21907651919231266,
          0.21907651919231266,
          0.21907651919231266,
          0.21907651919231266,
          0.2177243553455991,
          0.2177243553455991,
          0.21811017041514097,
          0.21811017041514097,
          0.21759351448034886,
          0.21811017041514097,
          0.21811017041514097,
          0.21777030664032188,
          0.21777030664032188,
          0.21777030664032188,
          0.21759351448034886,
          0.21759351448034886,
          0.21777030664032188,
          0.21632735364803324,
          0.21704549666677395,
          0.21686432909038422,
          0.21814820936759985,
          0.21704549666677395,
          0.21814820936759985,
          0.21814820936759985,
          0.21814820936759985,
          0.21814820936759985,
          0.21814820936759985,
          0.21814820936759985,
          0.21814820936759985,
          0.21814820936759985,
          0.20996393384121817,
          0.21438587039605145,
          0.21438587039605145,
          0.21507152800092966,
          0.21500160209245936,
          0.21535511850040928,
          0.21500160209245936,
          0.21535511850040928,
          0.21923661292453334,
          0.21879295419909614,
          0.2193280791834197,
          0.2193280791834197,
          0.2193280791834197,
          0.2193280791834197,
          0.21879295419909614,
          0.21879295419909614,
          0.21879295419909614,
          0.21972573966991887,
          0.21972573966991887,
          0.21972573966991887,
          0.21972573966991887,
          0.21972573966991887,
          0.21972573966991887,
          0.21972573966991887,
          0.21972573966991887,
          0.21972573966991887
         ],
         "yaxis": "y"
        },
        {
         "marker": {
          "color": [
           0,
           1,
           2,
           3,
           4,
           5,
           6,
           7,
           8,
           9,
           10,
           11,
           12,
           13,
           14,
           15,
           16,
           17,
           18,
           19,
           20,
           21,
           22,
           23,
           24,
           25,
           26,
           27,
           28,
           29,
           30,
           31,
           32,
           33,
           34,
           35,
           36,
           37,
           38,
           39,
           40,
           41,
           42,
           43,
           44,
           45,
           46,
           47,
           48,
           49,
           50,
           51,
           52,
           53,
           54,
           55,
           56,
           57,
           58,
           59,
           60,
           61,
           62,
           63,
           64,
           65,
           66,
           67,
           68,
           69,
           70,
           71,
           72,
           73,
           74,
           75,
           76,
           77,
           78,
           79,
           80,
           81,
           82,
           83,
           84,
           85,
           86,
           87,
           88,
           89,
           90,
           91,
           92,
           93,
           94,
           95,
           96,
           97,
           98,
           99
          ],
          "colorbar": {
           "title": {
            "text": "Trial"
           },
           "x": 1,
           "xpad": 40
          },
          "colorscale": [
           [
            0,
            "rgb(247,251,255)"
           ],
           [
            0.125,
            "rgb(222,235,247)"
           ],
           [
            0.25,
            "rgb(198,219,239)"
           ],
           [
            0.375,
            "rgb(158,202,225)"
           ],
           [
            0.5,
            "rgb(107,174,214)"
           ],
           [
            0.625,
            "rgb(66,146,198)"
           ],
           [
            0.75,
            "rgb(33,113,181)"
           ],
           [
            0.875,
            "rgb(8,81,156)"
           ],
           [
            1,
            "rgb(8,48,107)"
           ]
          ],
          "line": {
           "color": "Grey",
           "width": 0.5
          },
          "showscale": false
         },
         "mode": "markers",
         "name": "Feasible Trial",
         "showlegend": false,
         "type": "scatter",
         "x": [
          60,
          6,
          20,
          50,
          60,
          20,
          54,
          40,
          16,
          34,
          38,
          40,
          8,
          24,
          56,
          6,
          46,
          30,
          28,
          2,
          52,
          2,
          4,
          6,
          2,
          48,
          12,
          12,
          12,
          12,
          12,
          12,
          2,
          12,
          12,
          14,
          12,
          14,
          12,
          12,
          12,
          16,
          18,
          8,
          18,
          18,
          18,
          18,
          18,
          18,
          20,
          20,
          24,
          20,
          20,
          22,
          22,
          22,
          24,
          24,
          22,
          22,
          24,
          10,
          8,
          24,
          8,
          8,
          8,
          8,
          8,
          8,
          8,
          8,
          8,
          14,
          14,
          14,
          14,
          14,
          14,
          14,
          16,
          4,
          14,
          14,
          14,
          14,
          4,
          4,
          4,
          10,
          10,
          10,
          10,
          10,
          10,
          10,
          10,
          10
         ],
         "xaxis": "x2",
         "y": [
          0.215928919355812,
          0.2168124737195462,
          0.21284243568797762,
          0.21756973472831792,
          0.215928919355812,
          0.21284243568797762,
          0.21658210303704672,
          0.21465517251782043,
          0.21365987365702283,
          0.21447831363338157,
          0.21470099159757408,
          0.21465517251782043,
          0.2098971669738368,
          0.21452282702524803,
          0.21555368060419444,
          0.21609822429027276,
          0.21483399102991724,
          0.21597836678734644,
          0.21377381625317513,
          0.21562508464270672,
          0.21522923603530933,
          0.21872033164181431,
          0.21879295419909614,
          0.21910181338881332,
          0.2022899092060379,
          0.21493807570387347,
          0.212608588458306,
          0.212608588458306,
          0.212608588458306,
          0.21960834046767386,
          0.212608588458306,
          0.212608588458306,
          0.20416836178582026,
          0.212608588458306,
          0.212608588458306,
          0.2193280791834197,
          0.21960834046767386,
          0.2193280791834197,
          0.21960834046767386,
          0.21960834046767386,
          0.21960834046767386,
          0.21923661292453334,
          0.21907651919231266,
          0.2192379245937107,
          0.21907651919231266,
          0.21907651919231266,
          0.21907651919231266,
          0.21907651919231266,
          0.2177243553455991,
          0.2177243553455991,
          0.21811017041514097,
          0.21811017041514097,
          0.21759351448034886,
          0.21811017041514097,
          0.21811017041514097,
          0.21777030664032188,
          0.21777030664032188,
          0.21777030664032188,
          0.21759351448034886,
          0.21759351448034886,
          0.21777030664032188,
          0.21632735364803324,
          0.21704549666677395,
          0.21686432909038422,
          0.21814820936759985,
          0.21704549666677395,
          0.21814820936759985,
          0.21814820936759985,
          0.21814820936759985,
          0.21814820936759985,
          0.21814820936759985,
          0.21814820936759985,
          0.21814820936759985,
          0.21814820936759985,
          0.20996393384121817,
          0.21438587039605145,
          0.21438587039605145,
          0.21507152800092966,
          0.21500160209245936,
          0.21535511850040928,
          0.21500160209245936,
          0.21535511850040928,
          0.21923661292453334,
          0.21879295419909614,
          0.2193280791834197,
          0.2193280791834197,
          0.2193280791834197,
          0.2193280791834197,
          0.21879295419909614,
          0.21879295419909614,
          0.21879295419909614,
          0.21972573966991887,
          0.21972573966991887,
          0.21972573966991887,
          0.21972573966991887,
          0.21972573966991887,
          0.21972573966991887,
          0.21972573966991887,
          0.21972573966991887,
          0.21972573966991887
         ],
         "yaxis": "y2"
        }
       ],
       "layout": {
        "template": {
         "data": {
          "bar": [
           {
            "error_x": {
             "color": "#2a3f5f"
            },
            "error_y": {
             "color": "#2a3f5f"
            },
            "marker": {
             "line": {
              "color": "#E5ECF6",
              "width": 0.5
             },
             "pattern": {
              "fillmode": "overlay",
              "size": 10,
              "solidity": 0.2
             }
            },
            "type": "bar"
           }
          ],
          "barpolar": [
           {
            "marker": {
             "line": {
              "color": "#E5ECF6",
              "width": 0.5
             },
             "pattern": {
              "fillmode": "overlay",
              "size": 10,
              "solidity": 0.2
             }
            },
            "type": "barpolar"
           }
          ],
          "carpet": [
           {
            "aaxis": {
             "endlinecolor": "#2a3f5f",
             "gridcolor": "white",
             "linecolor": "white",
             "minorgridcolor": "white",
             "startlinecolor": "#2a3f5f"
            },
            "baxis": {
             "endlinecolor": "#2a3f5f",
             "gridcolor": "white",
             "linecolor": "white",
             "minorgridcolor": "white",
             "startlinecolor": "#2a3f5f"
            },
            "type": "carpet"
           }
          ],
          "choropleth": [
           {
            "colorbar": {
             "outlinewidth": 0,
             "ticks": ""
            },
            "type": "choropleth"
           }
          ],
          "contour": [
           {
            "colorbar": {
             "outlinewidth": 0,
             "ticks": ""
            },
            "colorscale": [
             [
              0,
              "#0d0887"
             ],
             [
              0.1111111111111111,
              "#46039f"
             ],
             [
              0.2222222222222222,
              "#7201a8"
             ],
             [
              0.3333333333333333,
              "#9c179e"
             ],
             [
              0.4444444444444444,
              "#bd3786"
             ],
             [
              0.5555555555555556,
              "#d8576b"
             ],
             [
              0.6666666666666666,
              "#ed7953"
             ],
             [
              0.7777777777777778,
              "#fb9f3a"
             ],
             [
              0.8888888888888888,
              "#fdca26"
             ],
             [
              1,
              "#f0f921"
             ]
            ],
            "type": "contour"
           }
          ],
          "contourcarpet": [
           {
            "colorbar": {
             "outlinewidth": 0,
             "ticks": ""
            },
            "type": "contourcarpet"
           }
          ],
          "heatmap": [
           {
            "colorbar": {
             "outlinewidth": 0,
             "ticks": ""
            },
            "colorscale": [
             [
              0,
              "#0d0887"
             ],
             [
              0.1111111111111111,
              "#46039f"
             ],
             [
              0.2222222222222222,
              "#7201a8"
             ],
             [
              0.3333333333333333,
              "#9c179e"
             ],
             [
              0.4444444444444444,
              "#bd3786"
             ],
             [
              0.5555555555555556,
              "#d8576b"
             ],
             [
              0.6666666666666666,
              "#ed7953"
             ],
             [
              0.7777777777777778,
              "#fb9f3a"
             ],
             [
              0.8888888888888888,
              "#fdca26"
             ],
             [
              1,
              "#f0f921"
             ]
            ],
            "type": "heatmap"
           }
          ],
          "heatmapgl": [
           {
            "colorbar": {
             "outlinewidth": 0,
             "ticks": ""
            },
            "colorscale": [
             [
              0,
              "#0d0887"
             ],
             [
              0.1111111111111111,
              "#46039f"
             ],
             [
              0.2222222222222222,
              "#7201a8"
             ],
             [
              0.3333333333333333,
              "#9c179e"
             ],
             [
              0.4444444444444444,
              "#bd3786"
             ],
             [
              0.5555555555555556,
              "#d8576b"
             ],
             [
              0.6666666666666666,
              "#ed7953"
             ],
             [
              0.7777777777777778,
              "#fb9f3a"
             ],
             [
              0.8888888888888888,
              "#fdca26"
             ],
             [
              1,
              "#f0f921"
             ]
            ],
            "type": "heatmapgl"
           }
          ],
          "histogram": [
           {
            "marker": {
             "pattern": {
              "fillmode": "overlay",
              "size": 10,
              "solidity": 0.2
             }
            },
            "type": "histogram"
           }
          ],
          "histogram2d": [
           {
            "colorbar": {
             "outlinewidth": 0,
             "ticks": ""
            },
            "colorscale": [
             [
              0,
              "#0d0887"
             ],
             [
              0.1111111111111111,
              "#46039f"
             ],
             [
              0.2222222222222222,
              "#7201a8"
             ],
             [
              0.3333333333333333,
              "#9c179e"
             ],
             [
              0.4444444444444444,
              "#bd3786"
             ],
             [
              0.5555555555555556,
              "#d8576b"
             ],
             [
              0.6666666666666666,
              "#ed7953"
             ],
             [
              0.7777777777777778,
              "#fb9f3a"
             ],
             [
              0.8888888888888888,
              "#fdca26"
             ],
             [
              1,
              "#f0f921"
             ]
            ],
            "type": "histogram2d"
           }
          ],
          "histogram2dcontour": [
           {
            "colorbar": {
             "outlinewidth": 0,
             "ticks": ""
            },
            "colorscale": [
             [
              0,
              "#0d0887"
             ],
             [
              0.1111111111111111,
              "#46039f"
             ],
             [
              0.2222222222222222,
              "#7201a8"
             ],
             [
              0.3333333333333333,
              "#9c179e"
             ],
             [
              0.4444444444444444,
              "#bd3786"
             ],
             [
              0.5555555555555556,
              "#d8576b"
             ],
             [
              0.6666666666666666,
              "#ed7953"
             ],
             [
              0.7777777777777778,
              "#fb9f3a"
             ],
             [
              0.8888888888888888,
              "#fdca26"
             ],
             [
              1,
              "#f0f921"
             ]
            ],
            "type": "histogram2dcontour"
           }
          ],
          "mesh3d": [
           {
            "colorbar": {
             "outlinewidth": 0,
             "ticks": ""
            },
            "type": "mesh3d"
           }
          ],
          "parcoords": [
           {
            "line": {
             "colorbar": {
              "outlinewidth": 0,
              "ticks": ""
             }
            },
            "type": "parcoords"
           }
          ],
          "pie": [
           {
            "automargin": true,
            "type": "pie"
           }
          ],
          "scatter": [
           {
            "fillpattern": {
             "fillmode": "overlay",
             "size": 10,
             "solidity": 0.2
            },
            "type": "scatter"
           }
          ],
          "scatter3d": [
           {
            "line": {
             "colorbar": {
              "outlinewidth": 0,
              "ticks": ""
             }
            },
            "marker": {
             "colorbar": {
              "outlinewidth": 0,
              "ticks": ""
             }
            },
            "type": "scatter3d"
           }
          ],
          "scattercarpet": [
           {
            "marker": {
             "colorbar": {
              "outlinewidth": 0,
              "ticks": ""
             }
            },
            "type": "scattercarpet"
           }
          ],
          "scattergeo": [
           {
            "marker": {
             "colorbar": {
              "outlinewidth": 0,
              "ticks": ""
             }
            },
            "type": "scattergeo"
           }
          ],
          "scattergl": [
           {
            "marker": {
             "colorbar": {
              "outlinewidth": 0,
              "ticks": ""
             }
            },
            "type": "scattergl"
           }
          ],
          "scattermapbox": [
           {
            "marker": {
             "colorbar": {
              "outlinewidth": 0,
              "ticks": ""
             }
            },
            "type": "scattermapbox"
           }
          ],
          "scatterpolar": [
           {
            "marker": {
             "colorbar": {
              "outlinewidth": 0,
              "ticks": ""
             }
            },
            "type": "scatterpolar"
           }
          ],
          "scatterpolargl": [
           {
            "marker": {
             "colorbar": {
              "outlinewidth": 0,
              "ticks": ""
             }
            },
            "type": "scatterpolargl"
           }
          ],
          "scatterternary": [
           {
            "marker": {
             "colorbar": {
              "outlinewidth": 0,
              "ticks": ""
             }
            },
            "type": "scatterternary"
           }
          ],
          "surface": [
           {
            "colorbar": {
             "outlinewidth": 0,
             "ticks": ""
            },
            "colorscale": [
             [
              0,
              "#0d0887"
             ],
             [
              0.1111111111111111,
              "#46039f"
             ],
             [
              0.2222222222222222,
              "#7201a8"
             ],
             [
              0.3333333333333333,
              "#9c179e"
             ],
             [
              0.4444444444444444,
              "#bd3786"
             ],
             [
              0.5555555555555556,
              "#d8576b"
             ],
             [
              0.6666666666666666,
              "#ed7953"
             ],
             [
              0.7777777777777778,
              "#fb9f3a"
             ],
             [
              0.8888888888888888,
              "#fdca26"
             ],
             [
              1,
              "#f0f921"
             ]
            ],
            "type": "surface"
           }
          ],
          "table": [
           {
            "cells": {
             "fill": {
              "color": "#EBF0F8"
             },
             "line": {
              "color": "white"
             }
            },
            "header": {
             "fill": {
              "color": "#C8D4E3"
             },
             "line": {
              "color": "white"
             }
            },
            "type": "table"
           }
          ]
         },
         "layout": {
          "annotationdefaults": {
           "arrowcolor": "#2a3f5f",
           "arrowhead": 0,
           "arrowwidth": 1
          },
          "autotypenumbers": "strict",
          "coloraxis": {
           "colorbar": {
            "outlinewidth": 0,
            "ticks": ""
           }
          },
          "colorscale": {
           "diverging": [
            [
             0,
             "#8e0152"
            ],
            [
             0.1,
             "#c51b7d"
            ],
            [
             0.2,
             "#de77ae"
            ],
            [
             0.3,
             "#f1b6da"
            ],
            [
             0.4,
             "#fde0ef"
            ],
            [
             0.5,
             "#f7f7f7"
            ],
            [
             0.6,
             "#e6f5d0"
            ],
            [
             0.7,
             "#b8e186"
            ],
            [
             0.8,
             "#7fbc41"
            ],
            [
             0.9,
             "#4d9221"
            ],
            [
             1,
             "#276419"
            ]
           ],
           "sequential": [
            [
             0,
             "#0d0887"
            ],
            [
             0.1111111111111111,
             "#46039f"
            ],
            [
             0.2222222222222222,
             "#7201a8"
            ],
            [
             0.3333333333333333,
             "#9c179e"
            ],
            [
             0.4444444444444444,
             "#bd3786"
            ],
            [
             0.5555555555555556,
             "#d8576b"
            ],
            [
             0.6666666666666666,
             "#ed7953"
            ],
            [
             0.7777777777777778,
             "#fb9f3a"
            ],
            [
             0.8888888888888888,
             "#fdca26"
            ],
            [
             1,
             "#f0f921"
            ]
           ],
           "sequentialminus": [
            [
             0,
             "#0d0887"
            ],
            [
             0.1111111111111111,
             "#46039f"
            ],
            [
             0.2222222222222222,
             "#7201a8"
            ],
            [
             0.3333333333333333,
             "#9c179e"
            ],
            [
             0.4444444444444444,
             "#bd3786"
            ],
            [
             0.5555555555555556,
             "#d8576b"
            ],
            [
             0.6666666666666666,
             "#ed7953"
            ],
            [
             0.7777777777777778,
             "#fb9f3a"
            ],
            [
             0.8888888888888888,
             "#fdca26"
            ],
            [
             1,
             "#f0f921"
            ]
           ]
          },
          "colorway": [
           "#636efa",
           "#EF553B",
           "#00cc96",
           "#ab63fa",
           "#FFA15A",
           "#19d3f3",
           "#FF6692",
           "#B6E880",
           "#FF97FF",
           "#FECB52"
          ],
          "font": {
           "color": "#2a3f5f"
          },
          "geo": {
           "bgcolor": "white",
           "lakecolor": "white",
           "landcolor": "#E5ECF6",
           "showlakes": true,
           "showland": true,
           "subunitcolor": "white"
          },
          "hoverlabel": {
           "align": "left"
          },
          "hovermode": "closest",
          "mapbox": {
           "style": "light"
          },
          "paper_bgcolor": "white",
          "plot_bgcolor": "#E5ECF6",
          "polar": {
           "angularaxis": {
            "gridcolor": "white",
            "linecolor": "white",
            "ticks": ""
           },
           "bgcolor": "#E5ECF6",
           "radialaxis": {
            "gridcolor": "white",
            "linecolor": "white",
            "ticks": ""
           }
          },
          "scene": {
           "xaxis": {
            "backgroundcolor": "#E5ECF6",
            "gridcolor": "white",
            "gridwidth": 2,
            "linecolor": "white",
            "showbackground": true,
            "ticks": "",
            "zerolinecolor": "white"
           },
           "yaxis": {
            "backgroundcolor": "#E5ECF6",
            "gridcolor": "white",
            "gridwidth": 2,
            "linecolor": "white",
            "showbackground": true,
            "ticks": "",
            "zerolinecolor": "white"
           },
           "zaxis": {
            "backgroundcolor": "#E5ECF6",
            "gridcolor": "white",
            "gridwidth": 2,
            "linecolor": "white",
            "showbackground": true,
            "ticks": "",
            "zerolinecolor": "white"
           }
          },
          "shapedefaults": {
           "line": {
            "color": "#2a3f5f"
           }
          },
          "ternary": {
           "aaxis": {
            "gridcolor": "white",
            "linecolor": "white",
            "ticks": ""
           },
           "baxis": {
            "gridcolor": "white",
            "linecolor": "white",
            "ticks": ""
           },
           "bgcolor": "#E5ECF6",
           "caxis": {
            "gridcolor": "white",
            "linecolor": "white",
            "ticks": ""
           }
          },
          "title": {
           "x": 0.05
          },
          "xaxis": {
           "automargin": true,
           "gridcolor": "white",
           "linecolor": "white",
           "ticks": "",
           "title": {
            "standoff": 15
           },
           "zerolinecolor": "white",
           "zerolinewidth": 2
          },
          "yaxis": {
           "automargin": true,
           "gridcolor": "white",
           "linecolor": "white",
           "ticks": "",
           "title": {
            "standoff": 15
           },
           "zerolinecolor": "white",
           "zerolinewidth": 2
          }
         }
        },
        "title": {
         "text": "Slice Plot"
        },
        "xaxis": {
         "anchor": "y",
         "domain": [
          0,
          0.45
         ],
         "title": {
          "text": "max_depth"
         }
        },
        "xaxis2": {
         "anchor": "y2",
         "domain": [
          0.55,
          1
         ],
         "title": {
          "text": "min_samples_leaf"
         }
        },
        "yaxis": {
         "anchor": "x",
         "domain": [
          0,
          1
         ],
         "title": {
          "text": "Objective Value"
         }
        },
        "yaxis2": {
         "anchor": "x2",
         "domain": [
          0,
          1
         ],
         "matches": "y",
         "showticklabels": false
        }
       }
      }
     },
     "metadata": {},
     "output_type": "display_data"
    }
   ],
   "source": [
    "optuna.visualization.plot_slice(study)"
   ]
  },
  {
   "cell_type": "code",
   "execution_count": 85,
   "metadata": {},
   "outputs": [
    {
     "data": {
      "application/vnd.plotly.v1+json": {
       "config": {
        "plotlyServerURL": "https://plot.ly"
       },
       "data": [
        {
         "cliponaxis": false,
         "hovertemplate": [
          "max_depth (IntDistribution): 0.3779250180629916<extra></extra>",
          "min_samples_leaf (IntDistribution): 0.6220749819370084<extra></extra>"
         ],
         "name": "Objective Value",
         "orientation": "h",
         "text": [
          "0.38",
          "0.62"
         ],
         "textposition": "outside",
         "type": "bar",
         "x": [
          0.3779250180629916,
          0.6220749819370084
         ],
         "y": [
          "max_depth",
          "min_samples_leaf"
         ]
        }
       ],
       "layout": {
        "template": {
         "data": {
          "bar": [
           {
            "error_x": {
             "color": "#2a3f5f"
            },
            "error_y": {
             "color": "#2a3f5f"
            },
            "marker": {
             "line": {
              "color": "#E5ECF6",
              "width": 0.5
             },
             "pattern": {
              "fillmode": "overlay",
              "size": 10,
              "solidity": 0.2
             }
            },
            "type": "bar"
           }
          ],
          "barpolar": [
           {
            "marker": {
             "line": {
              "color": "#E5ECF6",
              "width": 0.5
             },
             "pattern": {
              "fillmode": "overlay",
              "size": 10,
              "solidity": 0.2
             }
            },
            "type": "barpolar"
           }
          ],
          "carpet": [
           {
            "aaxis": {
             "endlinecolor": "#2a3f5f",
             "gridcolor": "white",
             "linecolor": "white",
             "minorgridcolor": "white",
             "startlinecolor": "#2a3f5f"
            },
            "baxis": {
             "endlinecolor": "#2a3f5f",
             "gridcolor": "white",
             "linecolor": "white",
             "minorgridcolor": "white",
             "startlinecolor": "#2a3f5f"
            },
            "type": "carpet"
           }
          ],
          "choropleth": [
           {
            "colorbar": {
             "outlinewidth": 0,
             "ticks": ""
            },
            "type": "choropleth"
           }
          ],
          "contour": [
           {
            "colorbar": {
             "outlinewidth": 0,
             "ticks": ""
            },
            "colorscale": [
             [
              0,
              "#0d0887"
             ],
             [
              0.1111111111111111,
              "#46039f"
             ],
             [
              0.2222222222222222,
              "#7201a8"
             ],
             [
              0.3333333333333333,
              "#9c179e"
             ],
             [
              0.4444444444444444,
              "#bd3786"
             ],
             [
              0.5555555555555556,
              "#d8576b"
             ],
             [
              0.6666666666666666,
              "#ed7953"
             ],
             [
              0.7777777777777778,
              "#fb9f3a"
             ],
             [
              0.8888888888888888,
              "#fdca26"
             ],
             [
              1,
              "#f0f921"
             ]
            ],
            "type": "contour"
           }
          ],
          "contourcarpet": [
           {
            "colorbar": {
             "outlinewidth": 0,
             "ticks": ""
            },
            "type": "contourcarpet"
           }
          ],
          "heatmap": [
           {
            "colorbar": {
             "outlinewidth": 0,
             "ticks": ""
            },
            "colorscale": [
             [
              0,
              "#0d0887"
             ],
             [
              0.1111111111111111,
              "#46039f"
             ],
             [
              0.2222222222222222,
              "#7201a8"
             ],
             [
              0.3333333333333333,
              "#9c179e"
             ],
             [
              0.4444444444444444,
              "#bd3786"
             ],
             [
              0.5555555555555556,
              "#d8576b"
             ],
             [
              0.6666666666666666,
              "#ed7953"
             ],
             [
              0.7777777777777778,
              "#fb9f3a"
             ],
             [
              0.8888888888888888,
              "#fdca26"
             ],
             [
              1,
              "#f0f921"
             ]
            ],
            "type": "heatmap"
           }
          ],
          "heatmapgl": [
           {
            "colorbar": {
             "outlinewidth": 0,
             "ticks": ""
            },
            "colorscale": [
             [
              0,
              "#0d0887"
             ],
             [
              0.1111111111111111,
              "#46039f"
             ],
             [
              0.2222222222222222,
              "#7201a8"
             ],
             [
              0.3333333333333333,
              "#9c179e"
             ],
             [
              0.4444444444444444,
              "#bd3786"
             ],
             [
              0.5555555555555556,
              "#d8576b"
             ],
             [
              0.6666666666666666,
              "#ed7953"
             ],
             [
              0.7777777777777778,
              "#fb9f3a"
             ],
             [
              0.8888888888888888,
              "#fdca26"
             ],
             [
              1,
              "#f0f921"
             ]
            ],
            "type": "heatmapgl"
           }
          ],
          "histogram": [
           {
            "marker": {
             "pattern": {
              "fillmode": "overlay",
              "size": 10,
              "solidity": 0.2
             }
            },
            "type": "histogram"
           }
          ],
          "histogram2d": [
           {
            "colorbar": {
             "outlinewidth": 0,
             "ticks": ""
            },
            "colorscale": [
             [
              0,
              "#0d0887"
             ],
             [
              0.1111111111111111,
              "#46039f"
             ],
             [
              0.2222222222222222,
              "#7201a8"
             ],
             [
              0.3333333333333333,
              "#9c179e"
             ],
             [
              0.4444444444444444,
              "#bd3786"
             ],
             [
              0.5555555555555556,
              "#d8576b"
             ],
             [
              0.6666666666666666,
              "#ed7953"
             ],
             [
              0.7777777777777778,
              "#fb9f3a"
             ],
             [
              0.8888888888888888,
              "#fdca26"
             ],
             [
              1,
              "#f0f921"
             ]
            ],
            "type": "histogram2d"
           }
          ],
          "histogram2dcontour": [
           {
            "colorbar": {
             "outlinewidth": 0,
             "ticks": ""
            },
            "colorscale": [
             [
              0,
              "#0d0887"
             ],
             [
              0.1111111111111111,
              "#46039f"
             ],
             [
              0.2222222222222222,
              "#7201a8"
             ],
             [
              0.3333333333333333,
              "#9c179e"
             ],
             [
              0.4444444444444444,
              "#bd3786"
             ],
             [
              0.5555555555555556,
              "#d8576b"
             ],
             [
              0.6666666666666666,
              "#ed7953"
             ],
             [
              0.7777777777777778,
              "#fb9f3a"
             ],
             [
              0.8888888888888888,
              "#fdca26"
             ],
             [
              1,
              "#f0f921"
             ]
            ],
            "type": "histogram2dcontour"
           }
          ],
          "mesh3d": [
           {
            "colorbar": {
             "outlinewidth": 0,
             "ticks": ""
            },
            "type": "mesh3d"
           }
          ],
          "parcoords": [
           {
            "line": {
             "colorbar": {
              "outlinewidth": 0,
              "ticks": ""
             }
            },
            "type": "parcoords"
           }
          ],
          "pie": [
           {
            "automargin": true,
            "type": "pie"
           }
          ],
          "scatter": [
           {
            "fillpattern": {
             "fillmode": "overlay",
             "size": 10,
             "solidity": 0.2
            },
            "type": "scatter"
           }
          ],
          "scatter3d": [
           {
            "line": {
             "colorbar": {
              "outlinewidth": 0,
              "ticks": ""
             }
            },
            "marker": {
             "colorbar": {
              "outlinewidth": 0,
              "ticks": ""
             }
            },
            "type": "scatter3d"
           }
          ],
          "scattercarpet": [
           {
            "marker": {
             "colorbar": {
              "outlinewidth": 0,
              "ticks": ""
             }
            },
            "type": "scattercarpet"
           }
          ],
          "scattergeo": [
           {
            "marker": {
             "colorbar": {
              "outlinewidth": 0,
              "ticks": ""
             }
            },
            "type": "scattergeo"
           }
          ],
          "scattergl": [
           {
            "marker": {
             "colorbar": {
              "outlinewidth": 0,
              "ticks": ""
             }
            },
            "type": "scattergl"
           }
          ],
          "scattermapbox": [
           {
            "marker": {
             "colorbar": {
              "outlinewidth": 0,
              "ticks": ""
             }
            },
            "type": "scattermapbox"
           }
          ],
          "scatterpolar": [
           {
            "marker": {
             "colorbar": {
              "outlinewidth": 0,
              "ticks": ""
             }
            },
            "type": "scatterpolar"
           }
          ],
          "scatterpolargl": [
           {
            "marker": {
             "colorbar": {
              "outlinewidth": 0,
              "ticks": ""
             }
            },
            "type": "scatterpolargl"
           }
          ],
          "scatterternary": [
           {
            "marker": {
             "colorbar": {
              "outlinewidth": 0,
              "ticks": ""
             }
            },
            "type": "scatterternary"
           }
          ],
          "surface": [
           {
            "colorbar": {
             "outlinewidth": 0,
             "ticks": ""
            },
            "colorscale": [
             [
              0,
              "#0d0887"
             ],
             [
              0.1111111111111111,
              "#46039f"
             ],
             [
              0.2222222222222222,
              "#7201a8"
             ],
             [
              0.3333333333333333,
              "#9c179e"
             ],
             [
              0.4444444444444444,
              "#bd3786"
             ],
             [
              0.5555555555555556,
              "#d8576b"
             ],
             [
              0.6666666666666666,
              "#ed7953"
             ],
             [
              0.7777777777777778,
              "#fb9f3a"
             ],
             [
              0.8888888888888888,
              "#fdca26"
             ],
             [
              1,
              "#f0f921"
             ]
            ],
            "type": "surface"
           }
          ],
          "table": [
           {
            "cells": {
             "fill": {
              "color": "#EBF0F8"
             },
             "line": {
              "color": "white"
             }
            },
            "header": {
             "fill": {
              "color": "#C8D4E3"
             },
             "line": {
              "color": "white"
             }
            },
            "type": "table"
           }
          ]
         },
         "layout": {
          "annotationdefaults": {
           "arrowcolor": "#2a3f5f",
           "arrowhead": 0,
           "arrowwidth": 1
          },
          "autotypenumbers": "strict",
          "coloraxis": {
           "colorbar": {
            "outlinewidth": 0,
            "ticks": ""
           }
          },
          "colorscale": {
           "diverging": [
            [
             0,
             "#8e0152"
            ],
            [
             0.1,
             "#c51b7d"
            ],
            [
             0.2,
             "#de77ae"
            ],
            [
             0.3,
             "#f1b6da"
            ],
            [
             0.4,
             "#fde0ef"
            ],
            [
             0.5,
             "#f7f7f7"
            ],
            [
             0.6,
             "#e6f5d0"
            ],
            [
             0.7,
             "#b8e186"
            ],
            [
             0.8,
             "#7fbc41"
            ],
            [
             0.9,
             "#4d9221"
            ],
            [
             1,
             "#276419"
            ]
           ],
           "sequential": [
            [
             0,
             "#0d0887"
            ],
            [
             0.1111111111111111,
             "#46039f"
            ],
            [
             0.2222222222222222,
             "#7201a8"
            ],
            [
             0.3333333333333333,
             "#9c179e"
            ],
            [
             0.4444444444444444,
             "#bd3786"
            ],
            [
             0.5555555555555556,
             "#d8576b"
            ],
            [
             0.6666666666666666,
             "#ed7953"
            ],
            [
             0.7777777777777778,
             "#fb9f3a"
            ],
            [
             0.8888888888888888,
             "#fdca26"
            ],
            [
             1,
             "#f0f921"
            ]
           ],
           "sequentialminus": [
            [
             0,
             "#0d0887"
            ],
            [
             0.1111111111111111,
             "#46039f"
            ],
            [
             0.2222222222222222,
             "#7201a8"
            ],
            [
             0.3333333333333333,
             "#9c179e"
            ],
            [
             0.4444444444444444,
             "#bd3786"
            ],
            [
             0.5555555555555556,
             "#d8576b"
            ],
            [
             0.6666666666666666,
             "#ed7953"
            ],
            [
             0.7777777777777778,
             "#fb9f3a"
            ],
            [
             0.8888888888888888,
             "#fdca26"
            ],
            [
             1,
             "#f0f921"
            ]
           ]
          },
          "colorway": [
           "#636efa",
           "#EF553B",
           "#00cc96",
           "#ab63fa",
           "#FFA15A",
           "#19d3f3",
           "#FF6692",
           "#B6E880",
           "#FF97FF",
           "#FECB52"
          ],
          "font": {
           "color": "#2a3f5f"
          },
          "geo": {
           "bgcolor": "white",
           "lakecolor": "white",
           "landcolor": "#E5ECF6",
           "showlakes": true,
           "showland": true,
           "subunitcolor": "white"
          },
          "hoverlabel": {
           "align": "left"
          },
          "hovermode": "closest",
          "mapbox": {
           "style": "light"
          },
          "paper_bgcolor": "white",
          "plot_bgcolor": "#E5ECF6",
          "polar": {
           "angularaxis": {
            "gridcolor": "white",
            "linecolor": "white",
            "ticks": ""
           },
           "bgcolor": "#E5ECF6",
           "radialaxis": {
            "gridcolor": "white",
            "linecolor": "white",
            "ticks": ""
           }
          },
          "scene": {
           "xaxis": {
            "backgroundcolor": "#E5ECF6",
            "gridcolor": "white",
            "gridwidth": 2,
            "linecolor": "white",
            "showbackground": true,
            "ticks": "",
            "zerolinecolor": "white"
           },
           "yaxis": {
            "backgroundcolor": "#E5ECF6",
            "gridcolor": "white",
            "gridwidth": 2,
            "linecolor": "white",
            "showbackground": true,
            "ticks": "",
            "zerolinecolor": "white"
           },
           "zaxis": {
            "backgroundcolor": "#E5ECF6",
            "gridcolor": "white",
            "gridwidth": 2,
            "linecolor": "white",
            "showbackground": true,
            "ticks": "",
            "zerolinecolor": "white"
           }
          },
          "shapedefaults": {
           "line": {
            "color": "#2a3f5f"
           }
          },
          "ternary": {
           "aaxis": {
            "gridcolor": "white",
            "linecolor": "white",
            "ticks": ""
           },
           "baxis": {
            "gridcolor": "white",
            "linecolor": "white",
            "ticks": ""
           },
           "bgcolor": "#E5ECF6",
           "caxis": {
            "gridcolor": "white",
            "linecolor": "white",
            "ticks": ""
           }
          },
          "title": {
           "x": 0.05
          },
          "xaxis": {
           "automargin": true,
           "gridcolor": "white",
           "linecolor": "white",
           "ticks": "",
           "title": {
            "standoff": 15
           },
           "zerolinecolor": "white",
           "zerolinewidth": 2
          },
          "yaxis": {
           "automargin": true,
           "gridcolor": "white",
           "linecolor": "white",
           "ticks": "",
           "title": {
            "standoff": 15
           },
           "zerolinecolor": "white",
           "zerolinewidth": 2
          }
         }
        },
        "title": {
         "text": "Hyperparameter Importances"
        },
        "xaxis": {
         "title": {
          "text": "Hyperparameter Importance"
         }
        },
        "yaxis": {
         "title": {
          "text": "Hyperparameter"
         }
        }
       }
      }
     },
     "metadata": {},
     "output_type": "display_data"
    }
   ],
   "source": [
    "optuna.visualization.plot_param_importances(study)"
   ]
  },
  {
   "cell_type": "code",
   "execution_count": 86,
   "metadata": {},
   "outputs": [
    {
     "data": {
      "application/vnd.plotly.v1+json": {
       "config": {
        "plotlyServerURL": "https://plot.ly"
       },
       "data": [
        {
         "dimensions": [
          {
           "label": "Objective Value",
           "range": [
            0.2022899092060379,
            0.21972573966991887
           ],
           "values": [
            0.215928919355812,
            0.2168124737195462,
            0.21284243568797762,
            0.21756973472831792,
            0.215928919355812,
            0.21284243568797762,
            0.21658210303704672,
            0.21465517251782043,
            0.21365987365702283,
            0.21447831363338157,
            0.21470099159757408,
            0.21465517251782043,
            0.2098971669738368,
            0.21452282702524803,
            0.21555368060419444,
            0.21609822429027276,
            0.21483399102991724,
            0.21597836678734644,
            0.21377381625317513,
            0.21562508464270672,
            0.21522923603530933,
            0.21872033164181431,
            0.21879295419909614,
            0.21910181338881332,
            0.2022899092060379,
            0.21493807570387347,
            0.212608588458306,
            0.212608588458306,
            0.212608588458306,
            0.21960834046767386,
            0.212608588458306,
            0.212608588458306,
            0.20416836178582026,
            0.212608588458306,
            0.212608588458306,
            0.2193280791834197,
            0.21960834046767386,
            0.2193280791834197,
            0.21960834046767386,
            0.21960834046767386,
            0.21960834046767386,
            0.21923661292453334,
            0.21907651919231266,
            0.2192379245937107,
            0.21907651919231266,
            0.21907651919231266,
            0.21907651919231266,
            0.21907651919231266,
            0.2177243553455991,
            0.2177243553455991,
            0.21811017041514097,
            0.21811017041514097,
            0.21759351448034886,
            0.21811017041514097,
            0.21811017041514097,
            0.21777030664032188,
            0.21777030664032188,
            0.21777030664032188,
            0.21759351448034886,
            0.21759351448034886,
            0.21777030664032188,
            0.21632735364803324,
            0.21704549666677395,
            0.21686432909038422,
            0.21814820936759985,
            0.21704549666677395,
            0.21814820936759985,
            0.21814820936759985,
            0.21814820936759985,
            0.21814820936759985,
            0.21814820936759985,
            0.21814820936759985,
            0.21814820936759985,
            0.21814820936759985,
            0.20996393384121817,
            0.21438587039605145,
            0.21438587039605145,
            0.21507152800092966,
            0.21500160209245936,
            0.21535511850040928,
            0.21500160209245936,
            0.21535511850040928,
            0.21923661292453334,
            0.21879295419909614,
            0.2193280791834197,
            0.2193280791834197,
            0.2193280791834197,
            0.2193280791834197,
            0.21879295419909614,
            0.21879295419909614,
            0.21879295419909614,
            0.21972573966991887,
            0.21972573966991887,
            0.21972573966991887,
            0.21972573966991887,
            0.21972573966991887,
            0.21972573966991887,
            0.21972573966991887,
            0.21972573966991887,
            0.21972573966991887
           ]
          },
          {
           "label": "max_depth",
           "range": [
            4,
            28
           ],
           "values": [
            20,
            6,
            18,
            6,
            20,
            18,
            12,
            10,
            18,
            12,
            14,
            10,
            26,
            12,
            20,
            8,
            14,
            8,
            10,
            8,
            12,
            4,
            4,
            4,
            26,
            28,
            28,
            28,
            28,
            4,
            28,
            26,
            28,
            28,
            28,
            4,
            4,
            4,
            4,
            4,
            4,
            4,
            4,
            4,
            4,
            4,
            4,
            4,
            6,
            6,
            6,
            6,
            6,
            6,
            6,
            6,
            6,
            6,
            6,
            6,
            6,
            8,
            8,
            8,
            8,
            8,
            8,
            8,
            8,
            8,
            8,
            8,
            8,
            8,
            22,
            16,
            16,
            20,
            10,
            22,
            10,
            22,
            4,
            4,
            4,
            4,
            4,
            4,
            4,
            4,
            4,
            4,
            4,
            4,
            4,
            4,
            4,
            4,
            4,
            4
           ]
          },
          {
           "label": "min_samples_leaf",
           "range": [
            2,
            60
           ],
           "values": [
            60,
            6,
            20,
            50,
            60,
            20,
            54,
            40,
            16,
            34,
            38,
            40,
            8,
            24,
            56,
            6,
            46,
            30,
            28,
            2,
            52,
            2,
            4,
            6,
            2,
            48,
            12,
            12,
            12,
            12,
            12,
            12,
            2,
            12,
            12,
            14,
            12,
            14,
            12,
            12,
            12,
            16,
            18,
            8,
            18,
            18,
            18,
            18,
            18,
            18,
            20,
            20,
            24,
            20,
            20,
            22,
            22,
            22,
            24,
            24,
            22,
            22,
            24,
            10,
            8,
            24,
            8,
            8,
            8,
            8,
            8,
            8,
            8,
            8,
            8,
            14,
            14,
            14,
            14,
            14,
            14,
            14,
            16,
            4,
            14,
            14,
            14,
            14,
            4,
            4,
            4,
            10,
            10,
            10,
            10,
            10,
            10,
            10,
            10,
            10
           ]
          }
         ],
         "labelangle": 30,
         "labelside": "bottom",
         "line": {
          "color": [
           0.215928919355812,
           0.2168124737195462,
           0.21284243568797762,
           0.21756973472831792,
           0.215928919355812,
           0.21284243568797762,
           0.21658210303704672,
           0.21465517251782043,
           0.21365987365702283,
           0.21447831363338157,
           0.21470099159757408,
           0.21465517251782043,
           0.2098971669738368,
           0.21452282702524803,
           0.21555368060419444,
           0.21609822429027276,
           0.21483399102991724,
           0.21597836678734644,
           0.21377381625317513,
           0.21562508464270672,
           0.21522923603530933,
           0.21872033164181431,
           0.21879295419909614,
           0.21910181338881332,
           0.2022899092060379,
           0.21493807570387347,
           0.212608588458306,
           0.212608588458306,
           0.212608588458306,
           0.21960834046767386,
           0.212608588458306,
           0.212608588458306,
           0.20416836178582026,
           0.212608588458306,
           0.212608588458306,
           0.2193280791834197,
           0.21960834046767386,
           0.2193280791834197,
           0.21960834046767386,
           0.21960834046767386,
           0.21960834046767386,
           0.21923661292453334,
           0.21907651919231266,
           0.2192379245937107,
           0.21907651919231266,
           0.21907651919231266,
           0.21907651919231266,
           0.21907651919231266,
           0.2177243553455991,
           0.2177243553455991,
           0.21811017041514097,
           0.21811017041514097,
           0.21759351448034886,
           0.21811017041514097,
           0.21811017041514097,
           0.21777030664032188,
           0.21777030664032188,
           0.21777030664032188,
           0.21759351448034886,
           0.21759351448034886,
           0.21777030664032188,
           0.21632735364803324,
           0.21704549666677395,
           0.21686432909038422,
           0.21814820936759985,
           0.21704549666677395,
           0.21814820936759985,
           0.21814820936759985,
           0.21814820936759985,
           0.21814820936759985,
           0.21814820936759985,
           0.21814820936759985,
           0.21814820936759985,
           0.21814820936759985,
           0.20996393384121817,
           0.21438587039605145,
           0.21438587039605145,
           0.21507152800092966,
           0.21500160209245936,
           0.21535511850040928,
           0.21500160209245936,
           0.21535511850040928,
           0.21923661292453334,
           0.21879295419909614,
           0.2193280791834197,
           0.2193280791834197,
           0.2193280791834197,
           0.2193280791834197,
           0.21879295419909614,
           0.21879295419909614,
           0.21879295419909614,
           0.21972573966991887,
           0.21972573966991887,
           0.21972573966991887,
           0.21972573966991887,
           0.21972573966991887,
           0.21972573966991887,
           0.21972573966991887,
           0.21972573966991887,
           0.21972573966991887
          ],
          "colorbar": {
           "title": {
            "text": "Objective Value"
           }
          },
          "colorscale": [
           [
            0,
            "rgb(247,251,255)"
           ],
           [
            0.125,
            "rgb(222,235,247)"
           ],
           [
            0.25,
            "rgb(198,219,239)"
           ],
           [
            0.375,
            "rgb(158,202,225)"
           ],
           [
            0.5,
            "rgb(107,174,214)"
           ],
           [
            0.625,
            "rgb(66,146,198)"
           ],
           [
            0.75,
            "rgb(33,113,181)"
           ],
           [
            0.875,
            "rgb(8,81,156)"
           ],
           [
            1,
            "rgb(8,48,107)"
           ]
          ],
          "reversescale": false,
          "showscale": true
         },
         "type": "parcoords"
        }
       ],
       "layout": {
        "template": {
         "data": {
          "bar": [
           {
            "error_x": {
             "color": "#2a3f5f"
            },
            "error_y": {
             "color": "#2a3f5f"
            },
            "marker": {
             "line": {
              "color": "#E5ECF6",
              "width": 0.5
             },
             "pattern": {
              "fillmode": "overlay",
              "size": 10,
              "solidity": 0.2
             }
            },
            "type": "bar"
           }
          ],
          "barpolar": [
           {
            "marker": {
             "line": {
              "color": "#E5ECF6",
              "width": 0.5
             },
             "pattern": {
              "fillmode": "overlay",
              "size": 10,
              "solidity": 0.2
             }
            },
            "type": "barpolar"
           }
          ],
          "carpet": [
           {
            "aaxis": {
             "endlinecolor": "#2a3f5f",
             "gridcolor": "white",
             "linecolor": "white",
             "minorgridcolor": "white",
             "startlinecolor": "#2a3f5f"
            },
            "baxis": {
             "endlinecolor": "#2a3f5f",
             "gridcolor": "white",
             "linecolor": "white",
             "minorgridcolor": "white",
             "startlinecolor": "#2a3f5f"
            },
            "type": "carpet"
           }
          ],
          "choropleth": [
           {
            "colorbar": {
             "outlinewidth": 0,
             "ticks": ""
            },
            "type": "choropleth"
           }
          ],
          "contour": [
           {
            "colorbar": {
             "outlinewidth": 0,
             "ticks": ""
            },
            "colorscale": [
             [
              0,
              "#0d0887"
             ],
             [
              0.1111111111111111,
              "#46039f"
             ],
             [
              0.2222222222222222,
              "#7201a8"
             ],
             [
              0.3333333333333333,
              "#9c179e"
             ],
             [
              0.4444444444444444,
              "#bd3786"
             ],
             [
              0.5555555555555556,
              "#d8576b"
             ],
             [
              0.6666666666666666,
              "#ed7953"
             ],
             [
              0.7777777777777778,
              "#fb9f3a"
             ],
             [
              0.8888888888888888,
              "#fdca26"
             ],
             [
              1,
              "#f0f921"
             ]
            ],
            "type": "contour"
           }
          ],
          "contourcarpet": [
           {
            "colorbar": {
             "outlinewidth": 0,
             "ticks": ""
            },
            "type": "contourcarpet"
           }
          ],
          "heatmap": [
           {
            "colorbar": {
             "outlinewidth": 0,
             "ticks": ""
            },
            "colorscale": [
             [
              0,
              "#0d0887"
             ],
             [
              0.1111111111111111,
              "#46039f"
             ],
             [
              0.2222222222222222,
              "#7201a8"
             ],
             [
              0.3333333333333333,
              "#9c179e"
             ],
             [
              0.4444444444444444,
              "#bd3786"
             ],
             [
              0.5555555555555556,
              "#d8576b"
             ],
             [
              0.6666666666666666,
              "#ed7953"
             ],
             [
              0.7777777777777778,
              "#fb9f3a"
             ],
             [
              0.8888888888888888,
              "#fdca26"
             ],
             [
              1,
              "#f0f921"
             ]
            ],
            "type": "heatmap"
           }
          ],
          "heatmapgl": [
           {
            "colorbar": {
             "outlinewidth": 0,
             "ticks": ""
            },
            "colorscale": [
             [
              0,
              "#0d0887"
             ],
             [
              0.1111111111111111,
              "#46039f"
             ],
             [
              0.2222222222222222,
              "#7201a8"
             ],
             [
              0.3333333333333333,
              "#9c179e"
             ],
             [
              0.4444444444444444,
              "#bd3786"
             ],
             [
              0.5555555555555556,
              "#d8576b"
             ],
             [
              0.6666666666666666,
              "#ed7953"
             ],
             [
              0.7777777777777778,
              "#fb9f3a"
             ],
             [
              0.8888888888888888,
              "#fdca26"
             ],
             [
              1,
              "#f0f921"
             ]
            ],
            "type": "heatmapgl"
           }
          ],
          "histogram": [
           {
            "marker": {
             "pattern": {
              "fillmode": "overlay",
              "size": 10,
              "solidity": 0.2
             }
            },
            "type": "histogram"
           }
          ],
          "histogram2d": [
           {
            "colorbar": {
             "outlinewidth": 0,
             "ticks": ""
            },
            "colorscale": [
             [
              0,
              "#0d0887"
             ],
             [
              0.1111111111111111,
              "#46039f"
             ],
             [
              0.2222222222222222,
              "#7201a8"
             ],
             [
              0.3333333333333333,
              "#9c179e"
             ],
             [
              0.4444444444444444,
              "#bd3786"
             ],
             [
              0.5555555555555556,
              "#d8576b"
             ],
             [
              0.6666666666666666,
              "#ed7953"
             ],
             [
              0.7777777777777778,
              "#fb9f3a"
             ],
             [
              0.8888888888888888,
              "#fdca26"
             ],
             [
              1,
              "#f0f921"
             ]
            ],
            "type": "histogram2d"
           }
          ],
          "histogram2dcontour": [
           {
            "colorbar": {
             "outlinewidth": 0,
             "ticks": ""
            },
            "colorscale": [
             [
              0,
              "#0d0887"
             ],
             [
              0.1111111111111111,
              "#46039f"
             ],
             [
              0.2222222222222222,
              "#7201a8"
             ],
             [
              0.3333333333333333,
              "#9c179e"
             ],
             [
              0.4444444444444444,
              "#bd3786"
             ],
             [
              0.5555555555555556,
              "#d8576b"
             ],
             [
              0.6666666666666666,
              "#ed7953"
             ],
             [
              0.7777777777777778,
              "#fb9f3a"
             ],
             [
              0.8888888888888888,
              "#fdca26"
             ],
             [
              1,
              "#f0f921"
             ]
            ],
            "type": "histogram2dcontour"
           }
          ],
          "mesh3d": [
           {
            "colorbar": {
             "outlinewidth": 0,
             "ticks": ""
            },
            "type": "mesh3d"
           }
          ],
          "parcoords": [
           {
            "line": {
             "colorbar": {
              "outlinewidth": 0,
              "ticks": ""
             }
            },
            "type": "parcoords"
           }
          ],
          "pie": [
           {
            "automargin": true,
            "type": "pie"
           }
          ],
          "scatter": [
           {
            "fillpattern": {
             "fillmode": "overlay",
             "size": 10,
             "solidity": 0.2
            },
            "type": "scatter"
           }
          ],
          "scatter3d": [
           {
            "line": {
             "colorbar": {
              "outlinewidth": 0,
              "ticks": ""
             }
            },
            "marker": {
             "colorbar": {
              "outlinewidth": 0,
              "ticks": ""
             }
            },
            "type": "scatter3d"
           }
          ],
          "scattercarpet": [
           {
            "marker": {
             "colorbar": {
              "outlinewidth": 0,
              "ticks": ""
             }
            },
            "type": "scattercarpet"
           }
          ],
          "scattergeo": [
           {
            "marker": {
             "colorbar": {
              "outlinewidth": 0,
              "ticks": ""
             }
            },
            "type": "scattergeo"
           }
          ],
          "scattergl": [
           {
            "marker": {
             "colorbar": {
              "outlinewidth": 0,
              "ticks": ""
             }
            },
            "type": "scattergl"
           }
          ],
          "scattermapbox": [
           {
            "marker": {
             "colorbar": {
              "outlinewidth": 0,
              "ticks": ""
             }
            },
            "type": "scattermapbox"
           }
          ],
          "scatterpolar": [
           {
            "marker": {
             "colorbar": {
              "outlinewidth": 0,
              "ticks": ""
             }
            },
            "type": "scatterpolar"
           }
          ],
          "scatterpolargl": [
           {
            "marker": {
             "colorbar": {
              "outlinewidth": 0,
              "ticks": ""
             }
            },
            "type": "scatterpolargl"
           }
          ],
          "scatterternary": [
           {
            "marker": {
             "colorbar": {
              "outlinewidth": 0,
              "ticks": ""
             }
            },
            "type": "scatterternary"
           }
          ],
          "surface": [
           {
            "colorbar": {
             "outlinewidth": 0,
             "ticks": ""
            },
            "colorscale": [
             [
              0,
              "#0d0887"
             ],
             [
              0.1111111111111111,
              "#46039f"
             ],
             [
              0.2222222222222222,
              "#7201a8"
             ],
             [
              0.3333333333333333,
              "#9c179e"
             ],
             [
              0.4444444444444444,
              "#bd3786"
             ],
             [
              0.5555555555555556,
              "#d8576b"
             ],
             [
              0.6666666666666666,
              "#ed7953"
             ],
             [
              0.7777777777777778,
              "#fb9f3a"
             ],
             [
              0.8888888888888888,
              "#fdca26"
             ],
             [
              1,
              "#f0f921"
             ]
            ],
            "type": "surface"
           }
          ],
          "table": [
           {
            "cells": {
             "fill": {
              "color": "#EBF0F8"
             },
             "line": {
              "color": "white"
             }
            },
            "header": {
             "fill": {
              "color": "#C8D4E3"
             },
             "line": {
              "color": "white"
             }
            },
            "type": "table"
           }
          ]
         },
         "layout": {
          "annotationdefaults": {
           "arrowcolor": "#2a3f5f",
           "arrowhead": 0,
           "arrowwidth": 1
          },
          "autotypenumbers": "strict",
          "coloraxis": {
           "colorbar": {
            "outlinewidth": 0,
            "ticks": ""
           }
          },
          "colorscale": {
           "diverging": [
            [
             0,
             "#8e0152"
            ],
            [
             0.1,
             "#c51b7d"
            ],
            [
             0.2,
             "#de77ae"
            ],
            [
             0.3,
             "#f1b6da"
            ],
            [
             0.4,
             "#fde0ef"
            ],
            [
             0.5,
             "#f7f7f7"
            ],
            [
             0.6,
             "#e6f5d0"
            ],
            [
             0.7,
             "#b8e186"
            ],
            [
             0.8,
             "#7fbc41"
            ],
            [
             0.9,
             "#4d9221"
            ],
            [
             1,
             "#276419"
            ]
           ],
           "sequential": [
            [
             0,
             "#0d0887"
            ],
            [
             0.1111111111111111,
             "#46039f"
            ],
            [
             0.2222222222222222,
             "#7201a8"
            ],
            [
             0.3333333333333333,
             "#9c179e"
            ],
            [
             0.4444444444444444,
             "#bd3786"
            ],
            [
             0.5555555555555556,
             "#d8576b"
            ],
            [
             0.6666666666666666,
             "#ed7953"
            ],
            [
             0.7777777777777778,
             "#fb9f3a"
            ],
            [
             0.8888888888888888,
             "#fdca26"
            ],
            [
             1,
             "#f0f921"
            ]
           ],
           "sequentialminus": [
            [
             0,
             "#0d0887"
            ],
            [
             0.1111111111111111,
             "#46039f"
            ],
            [
             0.2222222222222222,
             "#7201a8"
            ],
            [
             0.3333333333333333,
             "#9c179e"
            ],
            [
             0.4444444444444444,
             "#bd3786"
            ],
            [
             0.5555555555555556,
             "#d8576b"
            ],
            [
             0.6666666666666666,
             "#ed7953"
            ],
            [
             0.7777777777777778,
             "#fb9f3a"
            ],
            [
             0.8888888888888888,
             "#fdca26"
            ],
            [
             1,
             "#f0f921"
            ]
           ]
          },
          "colorway": [
           "#636efa",
           "#EF553B",
           "#00cc96",
           "#ab63fa",
           "#FFA15A",
           "#19d3f3",
           "#FF6692",
           "#B6E880",
           "#FF97FF",
           "#FECB52"
          ],
          "font": {
           "color": "#2a3f5f"
          },
          "geo": {
           "bgcolor": "white",
           "lakecolor": "white",
           "landcolor": "#E5ECF6",
           "showlakes": true,
           "showland": true,
           "subunitcolor": "white"
          },
          "hoverlabel": {
           "align": "left"
          },
          "hovermode": "closest",
          "mapbox": {
           "style": "light"
          },
          "paper_bgcolor": "white",
          "plot_bgcolor": "#E5ECF6",
          "polar": {
           "angularaxis": {
            "gridcolor": "white",
            "linecolor": "white",
            "ticks": ""
           },
           "bgcolor": "#E5ECF6",
           "radialaxis": {
            "gridcolor": "white",
            "linecolor": "white",
            "ticks": ""
           }
          },
          "scene": {
           "xaxis": {
            "backgroundcolor": "#E5ECF6",
            "gridcolor": "white",
            "gridwidth": 2,
            "linecolor": "white",
            "showbackground": true,
            "ticks": "",
            "zerolinecolor": "white"
           },
           "yaxis": {
            "backgroundcolor": "#E5ECF6",
            "gridcolor": "white",
            "gridwidth": 2,
            "linecolor": "white",
            "showbackground": true,
            "ticks": "",
            "zerolinecolor": "white"
           },
           "zaxis": {
            "backgroundcolor": "#E5ECF6",
            "gridcolor": "white",
            "gridwidth": 2,
            "linecolor": "white",
            "showbackground": true,
            "ticks": "",
            "zerolinecolor": "white"
           }
          },
          "shapedefaults": {
           "line": {
            "color": "#2a3f5f"
           }
          },
          "ternary": {
           "aaxis": {
            "gridcolor": "white",
            "linecolor": "white",
            "ticks": ""
           },
           "baxis": {
            "gridcolor": "white",
            "linecolor": "white",
            "ticks": ""
           },
           "bgcolor": "#E5ECF6",
           "caxis": {
            "gridcolor": "white",
            "linecolor": "white",
            "ticks": ""
           }
          },
          "title": {
           "x": 0.05
          },
          "xaxis": {
           "automargin": true,
           "gridcolor": "white",
           "linecolor": "white",
           "ticks": "",
           "title": {
            "standoff": 15
           },
           "zerolinecolor": "white",
           "zerolinewidth": 2
          },
          "yaxis": {
           "automargin": true,
           "gridcolor": "white",
           "linecolor": "white",
           "ticks": "",
           "title": {
            "standoff": 15
           },
           "zerolinecolor": "white",
           "zerolinewidth": 2
          }
         }
        },
        "title": {
         "text": "Parallel Coordinate Plot"
        }
       }
      }
     },
     "metadata": {},
     "output_type": "display_data"
    }
   ],
   "source": [
    "optuna.visualization.plot_parallel_coordinate(study)"
   ]
  },
  {
   "cell_type": "code",
   "execution_count": 87,
   "metadata": {},
   "outputs": [
    {
     "data": {
      "application/vnd.plotly.v1+json": {
       "config": {
        "plotlyServerURL": "https://plot.ly"
       },
       "data": [
        {
         "colorbar": {
          "title": {
           "text": "Objective Value"
          }
         },
         "colorscale": [
          [
           0,
           "rgb(247,251,255)"
          ],
          [
           0.125,
           "rgb(222,235,247)"
          ],
          [
           0.25,
           "rgb(198,219,239)"
          ],
          [
           0.375,
           "rgb(158,202,225)"
          ],
          [
           0.5,
           "rgb(107,174,214)"
          ],
          [
           0.625,
           "rgb(66,146,198)"
          ],
          [
           0.75,
           "rgb(33,113,181)"
          ],
          [
           0.875,
           "rgb(8,81,156)"
          ],
          [
           1,
           "rgb(8,48,107)"
          ]
         ],
         "connectgaps": true,
         "contours": {
          "coloring": "heatmap"
         },
         "hoverinfo": "none",
         "line": {
          "smoothing": 1.3
         },
         "reversescale": false,
         "type": "contour",
         "x": [
          2.8,
          4,
          6,
          8,
          10,
          12,
          14,
          16,
          18,
          20,
          22,
          26,
          28,
          29.2
         ],
         "y": [
          -0.9000000000000004,
          2,
          4,
          6,
          8,
          10,
          12,
          14,
          16,
          18,
          20,
          22,
          24,
          28,
          30,
          34,
          38,
          40,
          46,
          48,
          50,
          52,
          54,
          56,
          60,
          62.9
         ],
         "z": [
          [
           null,
           null,
           null,
           null,
           null,
           null,
           null,
           null,
           null,
           null,
           null,
           null,
           null,
           null
          ],
          [
           null,
           0.21872033164181431,
           null,
           0.21562508464270672,
           null,
           null,
           null,
           null,
           null,
           null,
           null,
           0.2022899092060379,
           0.20416836178582026,
           null
          ],
          [
           null,
           0.21879295419909614,
           null,
           null,
           null,
           null,
           null,
           null,
           null,
           null,
           null,
           null,
           null,
           null
          ],
          [
           null,
           0.21910181338881332,
           0.2168124737195462,
           0.21609822429027276,
           null,
           null,
           null,
           null,
           null,
           null,
           null,
           null,
           null,
           null
          ],
          [
           null,
           0.2192379245937107,
           null,
           0.21814820936759985,
           null,
           null,
           null,
           null,
           null,
           null,
           0.20996393384121817,
           0.2098971669738368,
           null,
           null
          ],
          [
           null,
           0.21972573966991887,
           null,
           0.21686432909038422,
           null,
           null,
           null,
           null,
           null,
           null,
           null,
           null,
           null,
           null
          ],
          [
           null,
           0.21960834046767386,
           null,
           null,
           null,
           null,
           null,
           null,
           null,
           null,
           null,
           0.212608588458306,
           0.212608588458306,
           null
          ],
          [
           null,
           0.2193280791834197,
           null,
           null,
           0.21500160209245936,
           null,
           null,
           0.21438587039605145,
           null,
           0.21507152800092966,
           0.21535511850040928,
           null,
           null,
           null
          ],
          [
           null,
           0.21923661292453334,
           null,
           null,
           null,
           null,
           null,
           null,
           0.21365987365702283,
           null,
           null,
           null,
           null,
           null
          ],
          [
           null,
           0.21907651919231266,
           0.2177243553455991,
           null,
           null,
           null,
           null,
           null,
           null,
           null,
           null,
           null,
           null,
           null
          ],
          [
           null,
           null,
           0.21811017041514097,
           null,
           null,
           null,
           null,
           null,
           0.21284243568797762,
           null,
           null,
           null,
           null,
           null
          ],
          [
           null,
           null,
           0.21777030664032188,
           0.21632735364803324,
           null,
           null,
           null,
           null,
           null,
           null,
           null,
           null,
           null,
           null
          ],
          [
           null,
           null,
           0.21759351448034886,
           0.21704549666677395,
           null,
           0.21452282702524803,
           null,
           null,
           null,
           null,
           null,
           null,
           null,
           null
          ],
          [
           null,
           null,
           null,
           null,
           0.21377381625317513,
           null,
           null,
           null,
           null,
           null,
           null,
           null,
           null,
           null
          ],
          [
           null,
           null,
           null,
           0.21597836678734644,
           null,
           null,
           null,
           null,
           null,
           null,
           null,
           null,
           null,
           null
          ],
          [
           null,
           null,
           null,
           null,
           null,
           0.21447831363338157,
           null,
           null,
           null,
           null,
           null,
           null,
           null,
           null
          ],
          [
           null,
           null,
           null,
           null,
           null,
           null,
           0.21470099159757408,
           null,
           null,
           null,
           null,
           null,
           null,
           null
          ],
          [
           null,
           null,
           null,
           null,
           0.21465517251782043,
           null,
           null,
           null,
           null,
           null,
           null,
           null,
           null,
           null
          ],
          [
           null,
           null,
           null,
           null,
           null,
           null,
           0.21483399102991724,
           null,
           null,
           null,
           null,
           null,
           null,
           null
          ],
          [
           null,
           null,
           null,
           null,
           null,
           null,
           null,
           null,
           null,
           null,
           null,
           null,
           0.21493807570387347,
           null
          ],
          [
           null,
           null,
           0.21756973472831792,
           null,
           null,
           null,
           null,
           null,
           null,
           null,
           null,
           null,
           null,
           null
          ],
          [
           null,
           null,
           null,
           null,
           null,
           0.21522923603530933,
           null,
           null,
           null,
           null,
           null,
           null,
           null,
           null
          ],
          [
           null,
           null,
           null,
           null,
           null,
           0.21658210303704672,
           null,
           null,
           null,
           null,
           null,
           null,
           null,
           null
          ],
          [
           null,
           null,
           null,
           null,
           null,
           null,
           null,
           null,
           null,
           0.21555368060419444,
           null,
           null,
           null,
           null
          ],
          [
           null,
           null,
           null,
           null,
           null,
           null,
           null,
           null,
           null,
           0.215928919355812,
           null,
           null,
           null,
           null
          ],
          [
           null,
           null,
           null,
           null,
           null,
           null,
           null,
           null,
           null,
           null,
           null,
           null,
           null,
           null
          ]
         ]
        },
        {
         "marker": {
          "color": "black",
          "line": {
           "color": "Gray",
           "width": 2
          }
         },
         "mode": "markers",
         "name": "Feasible Trial",
         "showlegend": false,
         "type": "scatter",
         "x": [
          20,
          6,
          18,
          6,
          20,
          18,
          12,
          10,
          18,
          12,
          14,
          10,
          26,
          12,
          20,
          8,
          14,
          8,
          10,
          8,
          12,
          4,
          4,
          4,
          26,
          28,
          28,
          28,
          28,
          4,
          28,
          26,
          28,
          28,
          28,
          4,
          4,
          4,
          4,
          4,
          4,
          4,
          4,
          4,
          4,
          4,
          4,
          4,
          6,
          6,
          6,
          6,
          6,
          6,
          6,
          6,
          6,
          6,
          6,
          6,
          6,
          8,
          8,
          8,
          8,
          8,
          8,
          8,
          8,
          8,
          8,
          8,
          8,
          8,
          22,
          16,
          16,
          20,
          10,
          22,
          10,
          22,
          4,
          4,
          4,
          4,
          4,
          4,
          4,
          4,
          4,
          4,
          4,
          4,
          4,
          4,
          4,
          4,
          4,
          4
         ],
         "y": [
          60,
          6,
          20,
          50,
          60,
          20,
          54,
          40,
          16,
          34,
          38,
          40,
          8,
          24,
          56,
          6,
          46,
          30,
          28,
          2,
          52,
          2,
          4,
          6,
          2,
          48,
          12,
          12,
          12,
          12,
          12,
          12,
          2,
          12,
          12,
          14,
          12,
          14,
          12,
          12,
          12,
          16,
          18,
          8,
          18,
          18,
          18,
          18,
          18,
          18,
          20,
          20,
          24,
          20,
          20,
          22,
          22,
          22,
          24,
          24,
          22,
          22,
          24,
          10,
          8,
          24,
          8,
          8,
          8,
          8,
          8,
          8,
          8,
          8,
          8,
          14,
          14,
          14,
          14,
          14,
          14,
          14,
          16,
          4,
          14,
          14,
          14,
          14,
          4,
          4,
          4,
          10,
          10,
          10,
          10,
          10,
          10,
          10,
          10,
          10
         ]
        },
        {
         "marker": {
          "color": "#cccccc",
          "line": {
           "color": "Gray",
           "width": 2
          }
         },
         "mode": "markers",
         "name": "Infeasible Trial",
         "showlegend": false,
         "type": "scatter",
         "x": [],
         "y": []
        }
       ],
       "layout": {
        "template": {
         "data": {
          "bar": [
           {
            "error_x": {
             "color": "#2a3f5f"
            },
            "error_y": {
             "color": "#2a3f5f"
            },
            "marker": {
             "line": {
              "color": "#E5ECF6",
              "width": 0.5
             },
             "pattern": {
              "fillmode": "overlay",
              "size": 10,
              "solidity": 0.2
             }
            },
            "type": "bar"
           }
          ],
          "barpolar": [
           {
            "marker": {
             "line": {
              "color": "#E5ECF6",
              "width": 0.5
             },
             "pattern": {
              "fillmode": "overlay",
              "size": 10,
              "solidity": 0.2
             }
            },
            "type": "barpolar"
           }
          ],
          "carpet": [
           {
            "aaxis": {
             "endlinecolor": "#2a3f5f",
             "gridcolor": "white",
             "linecolor": "white",
             "minorgridcolor": "white",
             "startlinecolor": "#2a3f5f"
            },
            "baxis": {
             "endlinecolor": "#2a3f5f",
             "gridcolor": "white",
             "linecolor": "white",
             "minorgridcolor": "white",
             "startlinecolor": "#2a3f5f"
            },
            "type": "carpet"
           }
          ],
          "choropleth": [
           {
            "colorbar": {
             "outlinewidth": 0,
             "ticks": ""
            },
            "type": "choropleth"
           }
          ],
          "contour": [
           {
            "colorbar": {
             "outlinewidth": 0,
             "ticks": ""
            },
            "colorscale": [
             [
              0,
              "#0d0887"
             ],
             [
              0.1111111111111111,
              "#46039f"
             ],
             [
              0.2222222222222222,
              "#7201a8"
             ],
             [
              0.3333333333333333,
              "#9c179e"
             ],
             [
              0.4444444444444444,
              "#bd3786"
             ],
             [
              0.5555555555555556,
              "#d8576b"
             ],
             [
              0.6666666666666666,
              "#ed7953"
             ],
             [
              0.7777777777777778,
              "#fb9f3a"
             ],
             [
              0.8888888888888888,
              "#fdca26"
             ],
             [
              1,
              "#f0f921"
             ]
            ],
            "type": "contour"
           }
          ],
          "contourcarpet": [
           {
            "colorbar": {
             "outlinewidth": 0,
             "ticks": ""
            },
            "type": "contourcarpet"
           }
          ],
          "heatmap": [
           {
            "colorbar": {
             "outlinewidth": 0,
             "ticks": ""
            },
            "colorscale": [
             [
              0,
              "#0d0887"
             ],
             [
              0.1111111111111111,
              "#46039f"
             ],
             [
              0.2222222222222222,
              "#7201a8"
             ],
             [
              0.3333333333333333,
              "#9c179e"
             ],
             [
              0.4444444444444444,
              "#bd3786"
             ],
             [
              0.5555555555555556,
              "#d8576b"
             ],
             [
              0.6666666666666666,
              "#ed7953"
             ],
             [
              0.7777777777777778,
              "#fb9f3a"
             ],
             [
              0.8888888888888888,
              "#fdca26"
             ],
             [
              1,
              "#f0f921"
             ]
            ],
            "type": "heatmap"
           }
          ],
          "heatmapgl": [
           {
            "colorbar": {
             "outlinewidth": 0,
             "ticks": ""
            },
            "colorscale": [
             [
              0,
              "#0d0887"
             ],
             [
              0.1111111111111111,
              "#46039f"
             ],
             [
              0.2222222222222222,
              "#7201a8"
             ],
             [
              0.3333333333333333,
              "#9c179e"
             ],
             [
              0.4444444444444444,
              "#bd3786"
             ],
             [
              0.5555555555555556,
              "#d8576b"
             ],
             [
              0.6666666666666666,
              "#ed7953"
             ],
             [
              0.7777777777777778,
              "#fb9f3a"
             ],
             [
              0.8888888888888888,
              "#fdca26"
             ],
             [
              1,
              "#f0f921"
             ]
            ],
            "type": "heatmapgl"
           }
          ],
          "histogram": [
           {
            "marker": {
             "pattern": {
              "fillmode": "overlay",
              "size": 10,
              "solidity": 0.2
             }
            },
            "type": "histogram"
           }
          ],
          "histogram2d": [
           {
            "colorbar": {
             "outlinewidth": 0,
             "ticks": ""
            },
            "colorscale": [
             [
              0,
              "#0d0887"
             ],
             [
              0.1111111111111111,
              "#46039f"
             ],
             [
              0.2222222222222222,
              "#7201a8"
             ],
             [
              0.3333333333333333,
              "#9c179e"
             ],
             [
              0.4444444444444444,
              "#bd3786"
             ],
             [
              0.5555555555555556,
              "#d8576b"
             ],
             [
              0.6666666666666666,
              "#ed7953"
             ],
             [
              0.7777777777777778,
              "#fb9f3a"
             ],
             [
              0.8888888888888888,
              "#fdca26"
             ],
             [
              1,
              "#f0f921"
             ]
            ],
            "type": "histogram2d"
           }
          ],
          "histogram2dcontour": [
           {
            "colorbar": {
             "outlinewidth": 0,
             "ticks": ""
            },
            "colorscale": [
             [
              0,
              "#0d0887"
             ],
             [
              0.1111111111111111,
              "#46039f"
             ],
             [
              0.2222222222222222,
              "#7201a8"
             ],
             [
              0.3333333333333333,
              "#9c179e"
             ],
             [
              0.4444444444444444,
              "#bd3786"
             ],
             [
              0.5555555555555556,
              "#d8576b"
             ],
             [
              0.6666666666666666,
              "#ed7953"
             ],
             [
              0.7777777777777778,
              "#fb9f3a"
             ],
             [
              0.8888888888888888,
              "#fdca26"
             ],
             [
              1,
              "#f0f921"
             ]
            ],
            "type": "histogram2dcontour"
           }
          ],
          "mesh3d": [
           {
            "colorbar": {
             "outlinewidth": 0,
             "ticks": ""
            },
            "type": "mesh3d"
           }
          ],
          "parcoords": [
           {
            "line": {
             "colorbar": {
              "outlinewidth": 0,
              "ticks": ""
             }
            },
            "type": "parcoords"
           }
          ],
          "pie": [
           {
            "automargin": true,
            "type": "pie"
           }
          ],
          "scatter": [
           {
            "fillpattern": {
             "fillmode": "overlay",
             "size": 10,
             "solidity": 0.2
            },
            "type": "scatter"
           }
          ],
          "scatter3d": [
           {
            "line": {
             "colorbar": {
              "outlinewidth": 0,
              "ticks": ""
             }
            },
            "marker": {
             "colorbar": {
              "outlinewidth": 0,
              "ticks": ""
             }
            },
            "type": "scatter3d"
           }
          ],
          "scattercarpet": [
           {
            "marker": {
             "colorbar": {
              "outlinewidth": 0,
              "ticks": ""
             }
            },
            "type": "scattercarpet"
           }
          ],
          "scattergeo": [
           {
            "marker": {
             "colorbar": {
              "outlinewidth": 0,
              "ticks": ""
             }
            },
            "type": "scattergeo"
           }
          ],
          "scattergl": [
           {
            "marker": {
             "colorbar": {
              "outlinewidth": 0,
              "ticks": ""
             }
            },
            "type": "scattergl"
           }
          ],
          "scattermapbox": [
           {
            "marker": {
             "colorbar": {
              "outlinewidth": 0,
              "ticks": ""
             }
            },
            "type": "scattermapbox"
           }
          ],
          "scatterpolar": [
           {
            "marker": {
             "colorbar": {
              "outlinewidth": 0,
              "ticks": ""
             }
            },
            "type": "scatterpolar"
           }
          ],
          "scatterpolargl": [
           {
            "marker": {
             "colorbar": {
              "outlinewidth": 0,
              "ticks": ""
             }
            },
            "type": "scatterpolargl"
           }
          ],
          "scatterternary": [
           {
            "marker": {
             "colorbar": {
              "outlinewidth": 0,
              "ticks": ""
             }
            },
            "type": "scatterternary"
           }
          ],
          "surface": [
           {
            "colorbar": {
             "outlinewidth": 0,
             "ticks": ""
            },
            "colorscale": [
             [
              0,
              "#0d0887"
             ],
             [
              0.1111111111111111,
              "#46039f"
             ],
             [
              0.2222222222222222,
              "#7201a8"
             ],
             [
              0.3333333333333333,
              "#9c179e"
             ],
             [
              0.4444444444444444,
              "#bd3786"
             ],
             [
              0.5555555555555556,
              "#d8576b"
             ],
             [
              0.6666666666666666,
              "#ed7953"
             ],
             [
              0.7777777777777778,
              "#fb9f3a"
             ],
             [
              0.8888888888888888,
              "#fdca26"
             ],
             [
              1,
              "#f0f921"
             ]
            ],
            "type": "surface"
           }
          ],
          "table": [
           {
            "cells": {
             "fill": {
              "color": "#EBF0F8"
             },
             "line": {
              "color": "white"
             }
            },
            "header": {
             "fill": {
              "color": "#C8D4E3"
             },
             "line": {
              "color": "white"
             }
            },
            "type": "table"
           }
          ]
         },
         "layout": {
          "annotationdefaults": {
           "arrowcolor": "#2a3f5f",
           "arrowhead": 0,
           "arrowwidth": 1
          },
          "autotypenumbers": "strict",
          "coloraxis": {
           "colorbar": {
            "outlinewidth": 0,
            "ticks": ""
           }
          },
          "colorscale": {
           "diverging": [
            [
             0,
             "#8e0152"
            ],
            [
             0.1,
             "#c51b7d"
            ],
            [
             0.2,
             "#de77ae"
            ],
            [
             0.3,
             "#f1b6da"
            ],
            [
             0.4,
             "#fde0ef"
            ],
            [
             0.5,
             "#f7f7f7"
            ],
            [
             0.6,
             "#e6f5d0"
            ],
            [
             0.7,
             "#b8e186"
            ],
            [
             0.8,
             "#7fbc41"
            ],
            [
             0.9,
             "#4d9221"
            ],
            [
             1,
             "#276419"
            ]
           ],
           "sequential": [
            [
             0,
             "#0d0887"
            ],
            [
             0.1111111111111111,
             "#46039f"
            ],
            [
             0.2222222222222222,
             "#7201a8"
            ],
            [
             0.3333333333333333,
             "#9c179e"
            ],
            [
             0.4444444444444444,
             "#bd3786"
            ],
            [
             0.5555555555555556,
             "#d8576b"
            ],
            [
             0.6666666666666666,
             "#ed7953"
            ],
            [
             0.7777777777777778,
             "#fb9f3a"
            ],
            [
             0.8888888888888888,
             "#fdca26"
            ],
            [
             1,
             "#f0f921"
            ]
           ],
           "sequentialminus": [
            [
             0,
             "#0d0887"
            ],
            [
             0.1111111111111111,
             "#46039f"
            ],
            [
             0.2222222222222222,
             "#7201a8"
            ],
            [
             0.3333333333333333,
             "#9c179e"
            ],
            [
             0.4444444444444444,
             "#bd3786"
            ],
            [
             0.5555555555555556,
             "#d8576b"
            ],
            [
             0.6666666666666666,
             "#ed7953"
            ],
            [
             0.7777777777777778,
             "#fb9f3a"
            ],
            [
             0.8888888888888888,
             "#fdca26"
            ],
            [
             1,
             "#f0f921"
            ]
           ]
          },
          "colorway": [
           "#636efa",
           "#EF553B",
           "#00cc96",
           "#ab63fa",
           "#FFA15A",
           "#19d3f3",
           "#FF6692",
           "#B6E880",
           "#FF97FF",
           "#FECB52"
          ],
          "font": {
           "color": "#2a3f5f"
          },
          "geo": {
           "bgcolor": "white",
           "lakecolor": "white",
           "landcolor": "#E5ECF6",
           "showlakes": true,
           "showland": true,
           "subunitcolor": "white"
          },
          "hoverlabel": {
           "align": "left"
          },
          "hovermode": "closest",
          "mapbox": {
           "style": "light"
          },
          "paper_bgcolor": "white",
          "plot_bgcolor": "#E5ECF6",
          "polar": {
           "angularaxis": {
            "gridcolor": "white",
            "linecolor": "white",
            "ticks": ""
           },
           "bgcolor": "#E5ECF6",
           "radialaxis": {
            "gridcolor": "white",
            "linecolor": "white",
            "ticks": ""
           }
          },
          "scene": {
           "xaxis": {
            "backgroundcolor": "#E5ECF6",
            "gridcolor": "white",
            "gridwidth": 2,
            "linecolor": "white",
            "showbackground": true,
            "ticks": "",
            "zerolinecolor": "white"
           },
           "yaxis": {
            "backgroundcolor": "#E5ECF6",
            "gridcolor": "white",
            "gridwidth": 2,
            "linecolor": "white",
            "showbackground": true,
            "ticks": "",
            "zerolinecolor": "white"
           },
           "zaxis": {
            "backgroundcolor": "#E5ECF6",
            "gridcolor": "white",
            "gridwidth": 2,
            "linecolor": "white",
            "showbackground": true,
            "ticks": "",
            "zerolinecolor": "white"
           }
          },
          "shapedefaults": {
           "line": {
            "color": "#2a3f5f"
           }
          },
          "ternary": {
           "aaxis": {
            "gridcolor": "white",
            "linecolor": "white",
            "ticks": ""
           },
           "baxis": {
            "gridcolor": "white",
            "linecolor": "white",
            "ticks": ""
           },
           "bgcolor": "#E5ECF6",
           "caxis": {
            "gridcolor": "white",
            "linecolor": "white",
            "ticks": ""
           }
          },
          "title": {
           "x": 0.05
          },
          "xaxis": {
           "automargin": true,
           "gridcolor": "white",
           "linecolor": "white",
           "ticks": "",
           "title": {
            "standoff": 15
           },
           "zerolinecolor": "white",
           "zerolinewidth": 2
          },
          "yaxis": {
           "automargin": true,
           "gridcolor": "white",
           "linecolor": "white",
           "ticks": "",
           "title": {
            "standoff": 15
           },
           "zerolinecolor": "white",
           "zerolinewidth": 2
          }
         }
        },
        "title": {
         "text": "Contour Plot"
        },
        "xaxis": {
         "range": [
          2.8,
          29.2
         ],
         "title": {
          "text": "max_depth"
         }
        },
        "yaxis": {
         "range": [
          -0.9000000000000004,
          62.9
         ],
         "title": {
          "text": "min_samples_leaf"
         }
        }
       }
      }
     },
     "metadata": {},
     "output_type": "display_data"
    }
   ],
   "source": [
    "optuna.visualization.plot_contour(study)"
   ]
  },
  {
   "cell_type": "code",
   "execution_count": 88,
   "metadata": {},
   "outputs": [
    {
     "data": {
      "application/vnd.plotly.v1+json": {
       "config": {
        "plotlyServerURL": "https://plot.ly"
       },
       "data": [
        {
         "base": [
          "2024-12-27T16:53:10.422118",
          "2024-12-27T16:53:10.422497",
          "2024-12-27T16:53:10.423051",
          "2024-12-27T16:53:10.423132",
          "2024-12-27T16:53:10.427273",
          "2024-12-27T16:53:10.425666",
          "2024-12-27T16:53:10.427180",
          "2024-12-27T16:53:10.427243",
          "2024-12-27T16:53:10.424859",
          "2024-12-27T16:53:10.425706",
          "2024-12-27T16:53:10.427220",
          "2024-12-27T16:53:10.433962",
          "2024-12-27T16:53:18.697415",
          "2024-12-27T16:53:18.796954",
          "2024-12-27T16:53:18.897652",
          "2024-12-27T16:53:18.959096",
          "2024-12-27T16:53:19.135072",
          "2024-12-27T16:53:19.205497",
          "2024-12-27T16:53:19.224342",
          "2024-12-27T16:53:19.324429",
          "2024-12-27T16:53:19.461298",
          "2024-12-27T16:53:19.737186",
          "2024-12-27T16:53:19.782957",
          "2024-12-27T16:53:19.928884",
          "2024-12-27T16:53:27.532249",
          "2024-12-27T16:53:27.537262",
          "2024-12-27T16:53:27.622971",
          "2024-12-27T16:53:27.626283",
          "2024-12-27T16:53:27.649190",
          "2024-12-27T16:53:27.679133",
          "2024-12-27T16:53:27.810838",
          "2024-12-27T16:53:27.930901",
          "2024-12-27T16:53:28.005643",
          "2024-12-27T16:53:28.142074",
          "2024-12-27T16:53:28.268392",
          "2024-12-27T16:53:28.404405",
          "2024-12-27T16:53:34.398451",
          "2024-12-27T16:53:35.070783",
          "2024-12-27T16:53:35.310944",
          "2024-12-27T16:53:36.247204",
          "2024-12-27T16:53:36.255637",
          "2024-12-27T16:53:36.322195",
          "2024-12-27T16:53:36.404203",
          "2024-12-27T16:53:36.465602",
          "2024-12-27T16:53:36.761848",
          "2024-12-27T16:53:36.845036",
          "2024-12-27T16:53:37.872745",
          "2024-12-27T16:53:38.178293",
          "2024-12-27T16:53:42.761911",
          "2024-12-27T16:53:43.591400",
          "2024-12-27T16:53:44.043485",
          "2024-12-27T16:53:44.989472",
          "2024-12-27T16:53:45.078151",
          "2024-12-27T16:53:45.172958",
          "2024-12-27T16:53:45.226665",
          "2024-12-27T16:53:45.273877",
          "2024-12-27T16:53:45.532793",
          "2024-12-27T16:53:45.606048",
          "2024-12-27T16:53:46.892882",
          "2024-12-27T16:53:47.063973",
          "2024-12-27T16:53:51.380477",
          "2024-12-27T16:53:52.068814",
          "2024-12-27T16:53:52.567636",
          "2024-12-27T16:53:53.415412",
          "2024-12-27T16:53:53.487285",
          "2024-12-27T16:53:53.618154",
          "2024-12-27T16:53:53.750161",
          "2024-12-27T16:53:53.798795",
          "2024-12-27T16:53:54.161094",
          "2024-12-27T16:53:54.162186",
          "2024-12-27T16:53:55.493570",
          "2024-12-27T16:53:55.592677",
          "2024-12-27T16:53:59.842783",
          "2024-12-27T16:54:01.034073",
          "2024-12-27T16:54:01.651934",
          "2024-12-27T16:54:02.496408",
          "2024-12-27T16:54:02.538961",
          "2024-12-27T16:54:02.610660",
          "2024-12-27T16:54:02.864337",
          "2024-12-27T16:54:03.028299",
          "2024-12-27T16:54:03.142710",
          "2024-12-27T16:54:03.281166",
          "2024-12-27T16:54:04.422944",
          "2024-12-27T16:54:04.491523",
          "2024-12-27T16:54:08.648214",
          "2024-12-27T16:54:09.796397",
          "2024-12-27T16:54:11.392380",
          "2024-12-27T16:54:11.621059",
          "2024-12-27T16:54:11.699516",
          "2024-12-27T16:54:11.849746",
          "2024-12-27T16:54:11.894726",
          "2024-12-27T16:54:12.023911",
          "2024-12-27T16:54:12.089298",
          "2024-12-27T16:54:12.100801",
          "2024-12-27T16:54:12.184066",
          "2024-12-27T16:54:12.336865",
          "2024-12-27T16:54:17.169910",
          "2024-12-27T16:54:18.183650",
          "2024-12-27T16:54:20.055281",
          "2024-12-27T16:54:20.213959"
         ],
         "hovertemplate": "%{text}<extra>COMPLETE</extra>",
         "marker": {
          "color": "blue"
         },
         "name": "COMPLETE",
         "orientation": "h",
         "text": [
          "{<br>  \"number\": 0,<br>  \"values\": [<br>    0.215928919355812<br>  ],<br>  \"params\": {<br>    \"max_depth\": 20,<br>    \"min_samples_leaf\": 60<br>  }<br>}",
          "{<br>  \"number\": 1,<br>  \"values\": [<br>    0.2168124737195462<br>  ],<br>  \"params\": {<br>    \"max_depth\": 6,<br>    \"min_samples_leaf\": 6<br>  }<br>}",
          "{<br>  \"number\": 2,<br>  \"values\": [<br>    0.21284243568797762<br>  ],<br>  \"params\": {<br>    \"max_depth\": 18,<br>    \"min_samples_leaf\": 20<br>  }<br>}",
          "{<br>  \"number\": 3,<br>  \"values\": [<br>    0.21756973472831792<br>  ],<br>  \"params\": {<br>    \"max_depth\": 6,<br>    \"min_samples_leaf\": 50<br>  }<br>}",
          "{<br>  \"number\": 4,<br>  \"values\": [<br>    0.215928919355812<br>  ],<br>  \"params\": {<br>    \"max_depth\": 20,<br>    \"min_samples_leaf\": 60<br>  }<br>}",
          "{<br>  \"number\": 5,<br>  \"values\": [<br>    0.21284243568797762<br>  ],<br>  \"params\": {<br>    \"max_depth\": 18,<br>    \"min_samples_leaf\": 20<br>  }<br>}",
          "{<br>  \"number\": 6,<br>  \"values\": [<br>    0.21658210303704672<br>  ],<br>  \"params\": {<br>    \"max_depth\": 12,<br>    \"min_samples_leaf\": 54<br>  }<br>}",
          "{<br>  \"number\": 7,<br>  \"values\": [<br>    0.21465517251782043<br>  ],<br>  \"params\": {<br>    \"max_depth\": 10,<br>    \"min_samples_leaf\": 40<br>  }<br>}",
          "{<br>  \"number\": 8,<br>  \"values\": [<br>    0.21365987365702283<br>  ],<br>  \"params\": {<br>    \"max_depth\": 18,<br>    \"min_samples_leaf\": 16<br>  }<br>}",
          "{<br>  \"number\": 9,<br>  \"values\": [<br>    0.21447831363338157<br>  ],<br>  \"params\": {<br>    \"max_depth\": 12,<br>    \"min_samples_leaf\": 34<br>  }<br>}",
          "{<br>  \"number\": 10,<br>  \"values\": [<br>    0.21470099159757408<br>  ],<br>  \"params\": {<br>    \"max_depth\": 14,<br>    \"min_samples_leaf\": 38<br>  }<br>}",
          "{<br>  \"number\": 11,<br>  \"values\": [<br>    0.21465517251782043<br>  ],<br>  \"params\": {<br>    \"max_depth\": 10,<br>    \"min_samples_leaf\": 40<br>  }<br>}",
          "{<br>  \"number\": 12,<br>  \"values\": [<br>    0.2098971669738368<br>  ],<br>  \"params\": {<br>    \"max_depth\": 26,<br>    \"min_samples_leaf\": 8<br>  }<br>}",
          "{<br>  \"number\": 13,<br>  \"values\": [<br>    0.21452282702524803<br>  ],<br>  \"params\": {<br>    \"max_depth\": 12,<br>    \"min_samples_leaf\": 24<br>  }<br>}",
          "{<br>  \"number\": 14,<br>  \"values\": [<br>    0.21555368060419444<br>  ],<br>  \"params\": {<br>    \"max_depth\": 20,<br>    \"min_samples_leaf\": 56<br>  }<br>}",
          "{<br>  \"number\": 15,<br>  \"values\": [<br>    0.21609822429027276<br>  ],<br>  \"params\": {<br>    \"max_depth\": 8,<br>    \"min_samples_leaf\": 6<br>  }<br>}",
          "{<br>  \"number\": 16,<br>  \"values\": [<br>    0.21483399102991724<br>  ],<br>  \"params\": {<br>    \"max_depth\": 14,<br>    \"min_samples_leaf\": 46<br>  }<br>}",
          "{<br>  \"number\": 17,<br>  \"values\": [<br>    0.21597836678734644<br>  ],<br>  \"params\": {<br>    \"max_depth\": 8,<br>    \"min_samples_leaf\": 30<br>  }<br>}",
          "{<br>  \"number\": 18,<br>  \"values\": [<br>    0.21377381625317513<br>  ],<br>  \"params\": {<br>    \"max_depth\": 10,<br>    \"min_samples_leaf\": 28<br>  }<br>}",
          "{<br>  \"number\": 19,<br>  \"values\": [<br>    0.21562508464270672<br>  ],<br>  \"params\": {<br>    \"max_depth\": 8,<br>    \"min_samples_leaf\": 2<br>  }<br>}",
          "{<br>  \"number\": 20,<br>  \"values\": [<br>    0.21522923603530933<br>  ],<br>  \"params\": {<br>    \"max_depth\": 12,<br>    \"min_samples_leaf\": 52<br>  }<br>}",
          "{<br>  \"number\": 21,<br>  \"values\": [<br>    0.21872033164181431<br>  ],<br>  \"params\": {<br>    \"max_depth\": 4,<br>    \"min_samples_leaf\": 2<br>  }<br>}",
          "{<br>  \"number\": 22,<br>  \"values\": [<br>    0.21879295419909614<br>  ],<br>  \"params\": {<br>    \"max_depth\": 4,<br>    \"min_samples_leaf\": 4<br>  }<br>}",
          "{<br>  \"number\": 23,<br>  \"values\": [<br>    0.21910181338881332<br>  ],<br>  \"params\": {<br>    \"max_depth\": 4,<br>    \"min_samples_leaf\": 6<br>  }<br>}",
          "{<br>  \"number\": 24,<br>  \"values\": [<br>    0.2022899092060379<br>  ],<br>  \"params\": {<br>    \"max_depth\": 26,<br>    \"min_samples_leaf\": 2<br>  }<br>}",
          "{<br>  \"number\": 25,<br>  \"values\": [<br>    0.21493807570387347<br>  ],<br>  \"params\": {<br>    \"max_depth\": 28,<br>    \"min_samples_leaf\": 48<br>  }<br>}",
          "{<br>  \"number\": 26,<br>  \"values\": [<br>    0.212608588458306<br>  ],<br>  \"params\": {<br>    \"max_depth\": 28,<br>    \"min_samples_leaf\": 12<br>  }<br>}",
          "{<br>  \"number\": 27,<br>  \"values\": [<br>    0.212608588458306<br>  ],<br>  \"params\": {<br>    \"max_depth\": 28,<br>    \"min_samples_leaf\": 12<br>  }<br>}",
          "{<br>  \"number\": 28,<br>  \"values\": [<br>    0.212608588458306<br>  ],<br>  \"params\": {<br>    \"max_depth\": 28,<br>    \"min_samples_leaf\": 12<br>  }<br>}",
          "{<br>  \"number\": 29,<br>  \"values\": [<br>    0.21960834046767386<br>  ],<br>  \"params\": {<br>    \"max_depth\": 4,<br>    \"min_samples_leaf\": 12<br>  }<br>}",
          "{<br>  \"number\": 30,<br>  \"values\": [<br>    0.212608588458306<br>  ],<br>  \"params\": {<br>    \"max_depth\": 28,<br>    \"min_samples_leaf\": 12<br>  }<br>}",
          "{<br>  \"number\": 31,<br>  \"values\": [<br>    0.212608588458306<br>  ],<br>  \"params\": {<br>    \"max_depth\": 26,<br>    \"min_samples_leaf\": 12<br>  }<br>}",
          "{<br>  \"number\": 32,<br>  \"values\": [<br>    0.20416836178582026<br>  ],<br>  \"params\": {<br>    \"max_depth\": 28,<br>    \"min_samples_leaf\": 2<br>  }<br>}",
          "{<br>  \"number\": 33,<br>  \"values\": [<br>    0.212608588458306<br>  ],<br>  \"params\": {<br>    \"max_depth\": 28,<br>    \"min_samples_leaf\": 12<br>  }<br>}",
          "{<br>  \"number\": 34,<br>  \"values\": [<br>    0.212608588458306<br>  ],<br>  \"params\": {<br>    \"max_depth\": 28,<br>    \"min_samples_leaf\": 12<br>  }<br>}",
          "{<br>  \"number\": 35,<br>  \"values\": [<br>    0.2193280791834197<br>  ],<br>  \"params\": {<br>    \"max_depth\": 4,<br>    \"min_samples_leaf\": 14<br>  }<br>}",
          "{<br>  \"number\": 36,<br>  \"values\": [<br>    0.21960834046767386<br>  ],<br>  \"params\": {<br>    \"max_depth\": 4,<br>    \"min_samples_leaf\": 12<br>  }<br>}",
          "{<br>  \"number\": 37,<br>  \"values\": [<br>    0.2193280791834197<br>  ],<br>  \"params\": {<br>    \"max_depth\": 4,<br>    \"min_samples_leaf\": 14<br>  }<br>}",
          "{<br>  \"number\": 38,<br>  \"values\": [<br>    0.21960834046767386<br>  ],<br>  \"params\": {<br>    \"max_depth\": 4,<br>    \"min_samples_leaf\": 12<br>  }<br>}",
          "{<br>  \"number\": 39,<br>  \"values\": [<br>    0.21960834046767386<br>  ],<br>  \"params\": {<br>    \"max_depth\": 4,<br>    \"min_samples_leaf\": 12<br>  }<br>}",
          "{<br>  \"number\": 40,<br>  \"values\": [<br>    0.21960834046767386<br>  ],<br>  \"params\": {<br>    \"max_depth\": 4,<br>    \"min_samples_leaf\": 12<br>  }<br>}",
          "{<br>  \"number\": 41,<br>  \"values\": [<br>    0.21923661292453334<br>  ],<br>  \"params\": {<br>    \"max_depth\": 4,<br>    \"min_samples_leaf\": 16<br>  }<br>}",
          "{<br>  \"number\": 42,<br>  \"values\": [<br>    0.21907651919231266<br>  ],<br>  \"params\": {<br>    \"max_depth\": 4,<br>    \"min_samples_leaf\": 18<br>  }<br>}",
          "{<br>  \"number\": 43,<br>  \"values\": [<br>    0.2192379245937107<br>  ],<br>  \"params\": {<br>    \"max_depth\": 4,<br>    \"min_samples_leaf\": 8<br>  }<br>}",
          "{<br>  \"number\": 44,<br>  \"values\": [<br>    0.21907651919231266<br>  ],<br>  \"params\": {<br>    \"max_depth\": 4,<br>    \"min_samples_leaf\": 18<br>  }<br>}",
          "{<br>  \"number\": 45,<br>  \"values\": [<br>    0.21907651919231266<br>  ],<br>  \"params\": {<br>    \"max_depth\": 4,<br>    \"min_samples_leaf\": 18<br>  }<br>}",
          "{<br>  \"number\": 46,<br>  \"values\": [<br>    0.21907651919231266<br>  ],<br>  \"params\": {<br>    \"max_depth\": 4,<br>    \"min_samples_leaf\": 18<br>  }<br>}",
          "{<br>  \"number\": 47,<br>  \"values\": [<br>    0.21907651919231266<br>  ],<br>  \"params\": {<br>    \"max_depth\": 4,<br>    \"min_samples_leaf\": 18<br>  }<br>}",
          "{<br>  \"number\": 48,<br>  \"values\": [<br>    0.2177243553455991<br>  ],<br>  \"params\": {<br>    \"max_depth\": 6,<br>    \"min_samples_leaf\": 18<br>  }<br>}",
          "{<br>  \"number\": 49,<br>  \"values\": [<br>    0.2177243553455991<br>  ],<br>  \"params\": {<br>    \"max_depth\": 6,<br>    \"min_samples_leaf\": 18<br>  }<br>}",
          "{<br>  \"number\": 50,<br>  \"values\": [<br>    0.21811017041514097<br>  ],<br>  \"params\": {<br>    \"max_depth\": 6,<br>    \"min_samples_leaf\": 20<br>  }<br>}",
          "{<br>  \"number\": 51,<br>  \"values\": [<br>    0.21811017041514097<br>  ],<br>  \"params\": {<br>    \"max_depth\": 6,<br>    \"min_samples_leaf\": 20<br>  }<br>}",
          "{<br>  \"number\": 52,<br>  \"values\": [<br>    0.21759351448034886<br>  ],<br>  \"params\": {<br>    \"max_depth\": 6,<br>    \"min_samples_leaf\": 24<br>  }<br>}",
          "{<br>  \"number\": 53,<br>  \"values\": [<br>    0.21811017041514097<br>  ],<br>  \"params\": {<br>    \"max_depth\": 6,<br>    \"min_samples_leaf\": 20<br>  }<br>}",
          "{<br>  \"number\": 54,<br>  \"values\": [<br>    0.21811017041514097<br>  ],<br>  \"params\": {<br>    \"max_depth\": 6,<br>    \"min_samples_leaf\": 20<br>  }<br>}",
          "{<br>  \"number\": 55,<br>  \"values\": [<br>    0.21777030664032188<br>  ],<br>  \"params\": {<br>    \"max_depth\": 6,<br>    \"min_samples_leaf\": 22<br>  }<br>}",
          "{<br>  \"number\": 56,<br>  \"values\": [<br>    0.21777030664032188<br>  ],<br>  \"params\": {<br>    \"max_depth\": 6,<br>    \"min_samples_leaf\": 22<br>  }<br>}",
          "{<br>  \"number\": 57,<br>  \"values\": [<br>    0.21777030664032188<br>  ],<br>  \"params\": {<br>    \"max_depth\": 6,<br>    \"min_samples_leaf\": 22<br>  }<br>}",
          "{<br>  \"number\": 58,<br>  \"values\": [<br>    0.21759351448034886<br>  ],<br>  \"params\": {<br>    \"max_depth\": 6,<br>    \"min_samples_leaf\": 24<br>  }<br>}",
          "{<br>  \"number\": 59,<br>  \"values\": [<br>    0.21759351448034886<br>  ],<br>  \"params\": {<br>    \"max_depth\": 6,<br>    \"min_samples_leaf\": 24<br>  }<br>}",
          "{<br>  \"number\": 60,<br>  \"values\": [<br>    0.21777030664032188<br>  ],<br>  \"params\": {<br>    \"max_depth\": 6,<br>    \"min_samples_leaf\": 22<br>  }<br>}",
          "{<br>  \"number\": 61,<br>  \"values\": [<br>    0.21632735364803324<br>  ],<br>  \"params\": {<br>    \"max_depth\": 8,<br>    \"min_samples_leaf\": 22<br>  }<br>}",
          "{<br>  \"number\": 62,<br>  \"values\": [<br>    0.21704549666677395<br>  ],<br>  \"params\": {<br>    \"max_depth\": 8,<br>    \"min_samples_leaf\": 24<br>  }<br>}",
          "{<br>  \"number\": 63,<br>  \"values\": [<br>    0.21686432909038422<br>  ],<br>  \"params\": {<br>    \"max_depth\": 8,<br>    \"min_samples_leaf\": 10<br>  }<br>}",
          "{<br>  \"number\": 64,<br>  \"values\": [<br>    0.21814820936759985<br>  ],<br>  \"params\": {<br>    \"max_depth\": 8,<br>    \"min_samples_leaf\": 8<br>  }<br>}",
          "{<br>  \"number\": 65,<br>  \"values\": [<br>    0.21704549666677395<br>  ],<br>  \"params\": {<br>    \"max_depth\": 8,<br>    \"min_samples_leaf\": 24<br>  }<br>}",
          "{<br>  \"number\": 66,<br>  \"values\": [<br>    0.21814820936759985<br>  ],<br>  \"params\": {<br>    \"max_depth\": 8,<br>    \"min_samples_leaf\": 8<br>  }<br>}",
          "{<br>  \"number\": 67,<br>  \"values\": [<br>    0.21814820936759985<br>  ],<br>  \"params\": {<br>    \"max_depth\": 8,<br>    \"min_samples_leaf\": 8<br>  }<br>}",
          "{<br>  \"number\": 68,<br>  \"values\": [<br>    0.21814820936759985<br>  ],<br>  \"params\": {<br>    \"max_depth\": 8,<br>    \"min_samples_leaf\": 8<br>  }<br>}",
          "{<br>  \"number\": 69,<br>  \"values\": [<br>    0.21814820936759985<br>  ],<br>  \"params\": {<br>    \"max_depth\": 8,<br>    \"min_samples_leaf\": 8<br>  }<br>}",
          "{<br>  \"number\": 70,<br>  \"values\": [<br>    0.21814820936759985<br>  ],<br>  \"params\": {<br>    \"max_depth\": 8,<br>    \"min_samples_leaf\": 8<br>  }<br>}",
          "{<br>  \"number\": 71,<br>  \"values\": [<br>    0.21814820936759985<br>  ],<br>  \"params\": {<br>    \"max_depth\": 8,<br>    \"min_samples_leaf\": 8<br>  }<br>}",
          "{<br>  \"number\": 72,<br>  \"values\": [<br>    0.21814820936759985<br>  ],<br>  \"params\": {<br>    \"max_depth\": 8,<br>    \"min_samples_leaf\": 8<br>  }<br>}",
          "{<br>  \"number\": 73,<br>  \"values\": [<br>    0.21814820936759985<br>  ],<br>  \"params\": {<br>    \"max_depth\": 8,<br>    \"min_samples_leaf\": 8<br>  }<br>}",
          "{<br>  \"number\": 74,<br>  \"values\": [<br>    0.20996393384121817<br>  ],<br>  \"params\": {<br>    \"max_depth\": 22,<br>    \"min_samples_leaf\": 8<br>  }<br>}",
          "{<br>  \"number\": 75,<br>  \"values\": [<br>    0.21438587039605145<br>  ],<br>  \"params\": {<br>    \"max_depth\": 16,<br>    \"min_samples_leaf\": 14<br>  }<br>}",
          "{<br>  \"number\": 76,<br>  \"values\": [<br>    0.21438587039605145<br>  ],<br>  \"params\": {<br>    \"max_depth\": 16,<br>    \"min_samples_leaf\": 14<br>  }<br>}",
          "{<br>  \"number\": 77,<br>  \"values\": [<br>    0.21507152800092966<br>  ],<br>  \"params\": {<br>    \"max_depth\": 20,<br>    \"min_samples_leaf\": 14<br>  }<br>}",
          "{<br>  \"number\": 78,<br>  \"values\": [<br>    0.21500160209245936<br>  ],<br>  \"params\": {<br>    \"max_depth\": 10,<br>    \"min_samples_leaf\": 14<br>  }<br>}",
          "{<br>  \"number\": 79,<br>  \"values\": [<br>    0.21535511850040928<br>  ],<br>  \"params\": {<br>    \"max_depth\": 22,<br>    \"min_samples_leaf\": 14<br>  }<br>}",
          "{<br>  \"number\": 80,<br>  \"values\": [<br>    0.21500160209245936<br>  ],<br>  \"params\": {<br>    \"max_depth\": 10,<br>    \"min_samples_leaf\": 14<br>  }<br>}",
          "{<br>  \"number\": 81,<br>  \"values\": [<br>    0.21535511850040928<br>  ],<br>  \"params\": {<br>    \"max_depth\": 22,<br>    \"min_samples_leaf\": 14<br>  }<br>}",
          "{<br>  \"number\": 82,<br>  \"values\": [<br>    0.21923661292453334<br>  ],<br>  \"params\": {<br>    \"max_depth\": 4,<br>    \"min_samples_leaf\": 16<br>  }<br>}",
          "{<br>  \"number\": 83,<br>  \"values\": [<br>    0.21879295419909614<br>  ],<br>  \"params\": {<br>    \"max_depth\": 4,<br>    \"min_samples_leaf\": 4<br>  }<br>}",
          "{<br>  \"number\": 84,<br>  \"values\": [<br>    0.2193280791834197<br>  ],<br>  \"params\": {<br>    \"max_depth\": 4,<br>    \"min_samples_leaf\": 14<br>  }<br>}",
          "{<br>  \"number\": 85,<br>  \"values\": [<br>    0.2193280791834197<br>  ],<br>  \"params\": {<br>    \"max_depth\": 4,<br>    \"min_samples_leaf\": 14<br>  }<br>}",
          "{<br>  \"number\": 86,<br>  \"values\": [<br>    0.2193280791834197<br>  ],<br>  \"params\": {<br>    \"max_depth\": 4,<br>    \"min_samples_leaf\": 14<br>  }<br>}",
          "{<br>  \"number\": 87,<br>  \"values\": [<br>    0.2193280791834197<br>  ],<br>  \"params\": {<br>    \"max_depth\": 4,<br>    \"min_samples_leaf\": 14<br>  }<br>}",
          "{<br>  \"number\": 88,<br>  \"values\": [<br>    0.21879295419909614<br>  ],<br>  \"params\": {<br>    \"max_depth\": 4,<br>    \"min_samples_leaf\": 4<br>  }<br>}",
          "{<br>  \"number\": 89,<br>  \"values\": [<br>    0.21879295419909614<br>  ],<br>  \"params\": {<br>    \"max_depth\": 4,<br>    \"min_samples_leaf\": 4<br>  }<br>}",
          "{<br>  \"number\": 90,<br>  \"values\": [<br>    0.21879295419909614<br>  ],<br>  \"params\": {<br>    \"max_depth\": 4,<br>    \"min_samples_leaf\": 4<br>  }<br>}",
          "{<br>  \"number\": 91,<br>  \"values\": [<br>    0.21972573966991887<br>  ],<br>  \"params\": {<br>    \"max_depth\": 4,<br>    \"min_samples_leaf\": 10<br>  }<br>}",
          "{<br>  \"number\": 92,<br>  \"values\": [<br>    0.21972573966991887<br>  ],<br>  \"params\": {<br>    \"max_depth\": 4,<br>    \"min_samples_leaf\": 10<br>  }<br>}",
          "{<br>  \"number\": 93,<br>  \"values\": [<br>    0.21972573966991887<br>  ],<br>  \"params\": {<br>    \"max_depth\": 4,<br>    \"min_samples_leaf\": 10<br>  }<br>}",
          "{<br>  \"number\": 94,<br>  \"values\": [<br>    0.21972573966991887<br>  ],<br>  \"params\": {<br>    \"max_depth\": 4,<br>    \"min_samples_leaf\": 10<br>  }<br>}",
          "{<br>  \"number\": 95,<br>  \"values\": [<br>    0.21972573966991887<br>  ],<br>  \"params\": {<br>    \"max_depth\": 4,<br>    \"min_samples_leaf\": 10<br>  }<br>}",
          "{<br>  \"number\": 96,<br>  \"values\": [<br>    0.21972573966991887<br>  ],<br>  \"params\": {<br>    \"max_depth\": 4,<br>    \"min_samples_leaf\": 10<br>  }<br>}",
          "{<br>  \"number\": 97,<br>  \"values\": [<br>    0.21972573966991887<br>  ],<br>  \"params\": {<br>    \"max_depth\": 4,<br>    \"min_samples_leaf\": 10<br>  }<br>}",
          "{<br>  \"number\": 98,<br>  \"values\": [<br>    0.21972573966991887<br>  ],<br>  \"params\": {<br>    \"max_depth\": 4,<br>    \"min_samples_leaf\": 10<br>  }<br>}",
          "{<br>  \"number\": 99,<br>  \"values\": [<br>    0.21972573966991887<br>  ],<br>  \"params\": {<br>    \"max_depth\": 4,<br>    \"min_samples_leaf\": 10<br>  }<br>}"
         ],
         "textposition": "none",
         "type": "bar",
         "x": [
          8524.142,
          8349.91,
          9300.247000000001,
          8260.221,
          8443.725,
          9318.338000000002,
          8692.622,
          8757.313,
          9480.559,
          8997.044,
          8881.223,
          8743.768,
          9674.425,
          8824.534,
          8617.131000000001,
          8629.538999999999,
          8644.348,
          8680.5,
          8902.993999999999,
          8930.231,
          8528.473,
          7770.339,
          7782.110000000001,
          7661.345,
          10311.161,
          7757.3910000000005,
          8605.124,
          8602.765,
          8632.438,
          6706.755,
          8624.193,
          8435.124,
          10156.793,
          8605.705,
          8561.98,
          6641.993,
          8336.907,
          8507.69,
          8718.657000000001,
          8719.275,
          8811.681999999999,
          8828.761,
          8836.335000000001,
          8700.452000000001,
          8827.029,
          8669.525,
          9006.027,
          8872.818000000001,
          8596.839,
          8448.902,
          8496.681,
          8411.038,
          8394.545,
          8555.265000000001,
          8375.679,
          8490.573,
          8599.103,
          8531.989,
          8573.639,
          8517.821,
          8446.23,
          8952.126,
          9063.423,
          9059.314,
          9012.193,
          8962.904,
          9263.747000000001,
          9043.037999999999,
          8963.238000000001,
          9084.099999999999,
          8919.734999999999,
          8846.847,
          8791.871000000001,
          8748.837,
          9717.008,
          9327.875,
          9056.367,
          9269.33,
          8789.127,
          9132.683,
          8867.045,
          9025.43,
          7647.508,
          7587.831999999999,
          8509.517,
          8376.496,
          8645.689,
          8579.817000000001,
          8597.399,
          8448.248,
          8495.191,
          8528.963,
          8504.538,
          8547.3,
          8475.572,
          8373.234,
          4600.265,
          3735.523,
          2160.192,
          2013.786
         ],
         "y": [
          0,
          1,
          2,
          3,
          4,
          5,
          6,
          7,
          8,
          9,
          10,
          11,
          12,
          13,
          14,
          15,
          16,
          17,
          18,
          19,
          20,
          21,
          22,
          23,
          24,
          25,
          26,
          27,
          28,
          29,
          30,
          31,
          32,
          33,
          34,
          35,
          36,
          37,
          38,
          39,
          40,
          41,
          42,
          43,
          44,
          45,
          46,
          47,
          48,
          49,
          50,
          51,
          52,
          53,
          54,
          55,
          56,
          57,
          58,
          59,
          60,
          61,
          62,
          63,
          64,
          65,
          66,
          67,
          68,
          69,
          70,
          71,
          72,
          73,
          74,
          75,
          76,
          77,
          78,
          79,
          80,
          81,
          82,
          83,
          84,
          85,
          86,
          87,
          88,
          89,
          90,
          91,
          92,
          93,
          94,
          95,
          96,
          97,
          98,
          99
         ]
        }
       ],
       "layout": {
        "showlegend": true,
        "template": {
         "data": {
          "bar": [
           {
            "error_x": {
             "color": "#2a3f5f"
            },
            "error_y": {
             "color": "#2a3f5f"
            },
            "marker": {
             "line": {
              "color": "#E5ECF6",
              "width": 0.5
             },
             "pattern": {
              "fillmode": "overlay",
              "size": 10,
              "solidity": 0.2
             }
            },
            "type": "bar"
           }
          ],
          "barpolar": [
           {
            "marker": {
             "line": {
              "color": "#E5ECF6",
              "width": 0.5
             },
             "pattern": {
              "fillmode": "overlay",
              "size": 10,
              "solidity": 0.2
             }
            },
            "type": "barpolar"
           }
          ],
          "carpet": [
           {
            "aaxis": {
             "endlinecolor": "#2a3f5f",
             "gridcolor": "white",
             "linecolor": "white",
             "minorgridcolor": "white",
             "startlinecolor": "#2a3f5f"
            },
            "baxis": {
             "endlinecolor": "#2a3f5f",
             "gridcolor": "white",
             "linecolor": "white",
             "minorgridcolor": "white",
             "startlinecolor": "#2a3f5f"
            },
            "type": "carpet"
           }
          ],
          "choropleth": [
           {
            "colorbar": {
             "outlinewidth": 0,
             "ticks": ""
            },
            "type": "choropleth"
           }
          ],
          "contour": [
           {
            "colorbar": {
             "outlinewidth": 0,
             "ticks": ""
            },
            "colorscale": [
             [
              0,
              "#0d0887"
             ],
             [
              0.1111111111111111,
              "#46039f"
             ],
             [
              0.2222222222222222,
              "#7201a8"
             ],
             [
              0.3333333333333333,
              "#9c179e"
             ],
             [
              0.4444444444444444,
              "#bd3786"
             ],
             [
              0.5555555555555556,
              "#d8576b"
             ],
             [
              0.6666666666666666,
              "#ed7953"
             ],
             [
              0.7777777777777778,
              "#fb9f3a"
             ],
             [
              0.8888888888888888,
              "#fdca26"
             ],
             [
              1,
              "#f0f921"
             ]
            ],
            "type": "contour"
           }
          ],
          "contourcarpet": [
           {
            "colorbar": {
             "outlinewidth": 0,
             "ticks": ""
            },
            "type": "contourcarpet"
           }
          ],
          "heatmap": [
           {
            "colorbar": {
             "outlinewidth": 0,
             "ticks": ""
            },
            "colorscale": [
             [
              0,
              "#0d0887"
             ],
             [
              0.1111111111111111,
              "#46039f"
             ],
             [
              0.2222222222222222,
              "#7201a8"
             ],
             [
              0.3333333333333333,
              "#9c179e"
             ],
             [
              0.4444444444444444,
              "#bd3786"
             ],
             [
              0.5555555555555556,
              "#d8576b"
             ],
             [
              0.6666666666666666,
              "#ed7953"
             ],
             [
              0.7777777777777778,
              "#fb9f3a"
             ],
             [
              0.8888888888888888,
              "#fdca26"
             ],
             [
              1,
              "#f0f921"
             ]
            ],
            "type": "heatmap"
           }
          ],
          "heatmapgl": [
           {
            "colorbar": {
             "outlinewidth": 0,
             "ticks": ""
            },
            "colorscale": [
             [
              0,
              "#0d0887"
             ],
             [
              0.1111111111111111,
              "#46039f"
             ],
             [
              0.2222222222222222,
              "#7201a8"
             ],
             [
              0.3333333333333333,
              "#9c179e"
             ],
             [
              0.4444444444444444,
              "#bd3786"
             ],
             [
              0.5555555555555556,
              "#d8576b"
             ],
             [
              0.6666666666666666,
              "#ed7953"
             ],
             [
              0.7777777777777778,
              "#fb9f3a"
             ],
             [
              0.8888888888888888,
              "#fdca26"
             ],
             [
              1,
              "#f0f921"
             ]
            ],
            "type": "heatmapgl"
           }
          ],
          "histogram": [
           {
            "marker": {
             "pattern": {
              "fillmode": "overlay",
              "size": 10,
              "solidity": 0.2
             }
            },
            "type": "histogram"
           }
          ],
          "histogram2d": [
           {
            "colorbar": {
             "outlinewidth": 0,
             "ticks": ""
            },
            "colorscale": [
             [
              0,
              "#0d0887"
             ],
             [
              0.1111111111111111,
              "#46039f"
             ],
             [
              0.2222222222222222,
              "#7201a8"
             ],
             [
              0.3333333333333333,
              "#9c179e"
             ],
             [
              0.4444444444444444,
              "#bd3786"
             ],
             [
              0.5555555555555556,
              "#d8576b"
             ],
             [
              0.6666666666666666,
              "#ed7953"
             ],
             [
              0.7777777777777778,
              "#fb9f3a"
             ],
             [
              0.8888888888888888,
              "#fdca26"
             ],
             [
              1,
              "#f0f921"
             ]
            ],
            "type": "histogram2d"
           }
          ],
          "histogram2dcontour": [
           {
            "colorbar": {
             "outlinewidth": 0,
             "ticks": ""
            },
            "colorscale": [
             [
              0,
              "#0d0887"
             ],
             [
              0.1111111111111111,
              "#46039f"
             ],
             [
              0.2222222222222222,
              "#7201a8"
             ],
             [
              0.3333333333333333,
              "#9c179e"
             ],
             [
              0.4444444444444444,
              "#bd3786"
             ],
             [
              0.5555555555555556,
              "#d8576b"
             ],
             [
              0.6666666666666666,
              "#ed7953"
             ],
             [
              0.7777777777777778,
              "#fb9f3a"
             ],
             [
              0.8888888888888888,
              "#fdca26"
             ],
             [
              1,
              "#f0f921"
             ]
            ],
            "type": "histogram2dcontour"
           }
          ],
          "mesh3d": [
           {
            "colorbar": {
             "outlinewidth": 0,
             "ticks": ""
            },
            "type": "mesh3d"
           }
          ],
          "parcoords": [
           {
            "line": {
             "colorbar": {
              "outlinewidth": 0,
              "ticks": ""
             }
            },
            "type": "parcoords"
           }
          ],
          "pie": [
           {
            "automargin": true,
            "type": "pie"
           }
          ],
          "scatter": [
           {
            "fillpattern": {
             "fillmode": "overlay",
             "size": 10,
             "solidity": 0.2
            },
            "type": "scatter"
           }
          ],
          "scatter3d": [
           {
            "line": {
             "colorbar": {
              "outlinewidth": 0,
              "ticks": ""
             }
            },
            "marker": {
             "colorbar": {
              "outlinewidth": 0,
              "ticks": ""
             }
            },
            "type": "scatter3d"
           }
          ],
          "scattercarpet": [
           {
            "marker": {
             "colorbar": {
              "outlinewidth": 0,
              "ticks": ""
             }
            },
            "type": "scattercarpet"
           }
          ],
          "scattergeo": [
           {
            "marker": {
             "colorbar": {
              "outlinewidth": 0,
              "ticks": ""
             }
            },
            "type": "scattergeo"
           }
          ],
          "scattergl": [
           {
            "marker": {
             "colorbar": {
              "outlinewidth": 0,
              "ticks": ""
             }
            },
            "type": "scattergl"
           }
          ],
          "scattermapbox": [
           {
            "marker": {
             "colorbar": {
              "outlinewidth": 0,
              "ticks": ""
             }
            },
            "type": "scattermapbox"
           }
          ],
          "scatterpolar": [
           {
            "marker": {
             "colorbar": {
              "outlinewidth": 0,
              "ticks": ""
             }
            },
            "type": "scatterpolar"
           }
          ],
          "scatterpolargl": [
           {
            "marker": {
             "colorbar": {
              "outlinewidth": 0,
              "ticks": ""
             }
            },
            "type": "scatterpolargl"
           }
          ],
          "scatterternary": [
           {
            "marker": {
             "colorbar": {
              "outlinewidth": 0,
              "ticks": ""
             }
            },
            "type": "scatterternary"
           }
          ],
          "surface": [
           {
            "colorbar": {
             "outlinewidth": 0,
             "ticks": ""
            },
            "colorscale": [
             [
              0,
              "#0d0887"
             ],
             [
              0.1111111111111111,
              "#46039f"
             ],
             [
              0.2222222222222222,
              "#7201a8"
             ],
             [
              0.3333333333333333,
              "#9c179e"
             ],
             [
              0.4444444444444444,
              "#bd3786"
             ],
             [
              0.5555555555555556,
              "#d8576b"
             ],
             [
              0.6666666666666666,
              "#ed7953"
             ],
             [
              0.7777777777777778,
              "#fb9f3a"
             ],
             [
              0.8888888888888888,
              "#fdca26"
             ],
             [
              1,
              "#f0f921"
             ]
            ],
            "type": "surface"
           }
          ],
          "table": [
           {
            "cells": {
             "fill": {
              "color": "#EBF0F8"
             },
             "line": {
              "color": "white"
             }
            },
            "header": {
             "fill": {
              "color": "#C8D4E3"
             },
             "line": {
              "color": "white"
             }
            },
            "type": "table"
           }
          ]
         },
         "layout": {
          "annotationdefaults": {
           "arrowcolor": "#2a3f5f",
           "arrowhead": 0,
           "arrowwidth": 1
          },
          "autotypenumbers": "strict",
          "coloraxis": {
           "colorbar": {
            "outlinewidth": 0,
            "ticks": ""
           }
          },
          "colorscale": {
           "diverging": [
            [
             0,
             "#8e0152"
            ],
            [
             0.1,
             "#c51b7d"
            ],
            [
             0.2,
             "#de77ae"
            ],
            [
             0.3,
             "#f1b6da"
            ],
            [
             0.4,
             "#fde0ef"
            ],
            [
             0.5,
             "#f7f7f7"
            ],
            [
             0.6,
             "#e6f5d0"
            ],
            [
             0.7,
             "#b8e186"
            ],
            [
             0.8,
             "#7fbc41"
            ],
            [
             0.9,
             "#4d9221"
            ],
            [
             1,
             "#276419"
            ]
           ],
           "sequential": [
            [
             0,
             "#0d0887"
            ],
            [
             0.1111111111111111,
             "#46039f"
            ],
            [
             0.2222222222222222,
             "#7201a8"
            ],
            [
             0.3333333333333333,
             "#9c179e"
            ],
            [
             0.4444444444444444,
             "#bd3786"
            ],
            [
             0.5555555555555556,
             "#d8576b"
            ],
            [
             0.6666666666666666,
             "#ed7953"
            ],
            [
             0.7777777777777778,
             "#fb9f3a"
            ],
            [
             0.8888888888888888,
             "#fdca26"
            ],
            [
             1,
             "#f0f921"
            ]
           ],
           "sequentialminus": [
            [
             0,
             "#0d0887"
            ],
            [
             0.1111111111111111,
             "#46039f"
            ],
            [
             0.2222222222222222,
             "#7201a8"
            ],
            [
             0.3333333333333333,
             "#9c179e"
            ],
            [
             0.4444444444444444,
             "#bd3786"
            ],
            [
             0.5555555555555556,
             "#d8576b"
            ],
            [
             0.6666666666666666,
             "#ed7953"
            ],
            [
             0.7777777777777778,
             "#fb9f3a"
            ],
            [
             0.8888888888888888,
             "#fdca26"
            ],
            [
             1,
             "#f0f921"
            ]
           ]
          },
          "colorway": [
           "#636efa",
           "#EF553B",
           "#00cc96",
           "#ab63fa",
           "#FFA15A",
           "#19d3f3",
           "#FF6692",
           "#B6E880",
           "#FF97FF",
           "#FECB52"
          ],
          "font": {
           "color": "#2a3f5f"
          },
          "geo": {
           "bgcolor": "white",
           "lakecolor": "white",
           "landcolor": "#E5ECF6",
           "showlakes": true,
           "showland": true,
           "subunitcolor": "white"
          },
          "hoverlabel": {
           "align": "left"
          },
          "hovermode": "closest",
          "mapbox": {
           "style": "light"
          },
          "paper_bgcolor": "white",
          "plot_bgcolor": "#E5ECF6",
          "polar": {
           "angularaxis": {
            "gridcolor": "white",
            "linecolor": "white",
            "ticks": ""
           },
           "bgcolor": "#E5ECF6",
           "radialaxis": {
            "gridcolor": "white",
            "linecolor": "white",
            "ticks": ""
           }
          },
          "scene": {
           "xaxis": {
            "backgroundcolor": "#E5ECF6",
            "gridcolor": "white",
            "gridwidth": 2,
            "linecolor": "white",
            "showbackground": true,
            "ticks": "",
            "zerolinecolor": "white"
           },
           "yaxis": {
            "backgroundcolor": "#E5ECF6",
            "gridcolor": "white",
            "gridwidth": 2,
            "linecolor": "white",
            "showbackground": true,
            "ticks": "",
            "zerolinecolor": "white"
           },
           "zaxis": {
            "backgroundcolor": "#E5ECF6",
            "gridcolor": "white",
            "gridwidth": 2,
            "linecolor": "white",
            "showbackground": true,
            "ticks": "",
            "zerolinecolor": "white"
           }
          },
          "shapedefaults": {
           "line": {
            "color": "#2a3f5f"
           }
          },
          "ternary": {
           "aaxis": {
            "gridcolor": "white",
            "linecolor": "white",
            "ticks": ""
           },
           "baxis": {
            "gridcolor": "white",
            "linecolor": "white",
            "ticks": ""
           },
           "bgcolor": "#E5ECF6",
           "caxis": {
            "gridcolor": "white",
            "linecolor": "white",
            "ticks": ""
           }
          },
          "title": {
           "x": 0.05
          },
          "xaxis": {
           "automargin": true,
           "gridcolor": "white",
           "linecolor": "white",
           "ticks": "",
           "title": {
            "standoff": 15
           },
           "zerolinecolor": "white",
           "zerolinewidth": 2
          },
          "yaxis": {
           "automargin": true,
           "gridcolor": "white",
           "linecolor": "white",
           "ticks": "",
           "title": {
            "standoff": 15
           },
           "zerolinecolor": "white",
           "zerolinewidth": 2
          }
         }
        },
        "title": {
         "text": "Timeline Plot"
        },
        "xaxis": {
         "title": {
          "text": "Datetime"
         },
         "type": "date"
        },
        "yaxis": {
         "title": {
          "text": "Trial"
         }
        }
       }
      }
     },
     "metadata": {},
     "output_type": "display_data"
    }
   ],
   "source": [
    "optuna.visualization.plot_timeline(study)"
   ]
  },
  {
   "cell_type": "markdown",
   "metadata": {},
   "source": [
    "### 2.4 Fitting Best Model\n",
    "Fitting the final model using the best hyper-parameters found by Optuna."
   ]
  },
  {
   "cell_type": "code",
   "execution_count": 89,
   "metadata": {},
   "outputs": [
    {
     "data": {
      "text/html": [
       "<style>#sk-container-id-5 {\n",
       "  /* Definition of color scheme common for light and dark mode */\n",
       "  --sklearn-color-text: black;\n",
       "  --sklearn-color-line: gray;\n",
       "  /* Definition of color scheme for unfitted estimators */\n",
       "  --sklearn-color-unfitted-level-0: #fff5e6;\n",
       "  --sklearn-color-unfitted-level-1: #f6e4d2;\n",
       "  --sklearn-color-unfitted-level-2: #ffe0b3;\n",
       "  --sklearn-color-unfitted-level-3: chocolate;\n",
       "  /* Definition of color scheme for fitted estimators */\n",
       "  --sklearn-color-fitted-level-0: #f0f8ff;\n",
       "  --sklearn-color-fitted-level-1: #d4ebff;\n",
       "  --sklearn-color-fitted-level-2: #b3dbfd;\n",
       "  --sklearn-color-fitted-level-3: cornflowerblue;\n",
       "\n",
       "  /* Specific color for light theme */\n",
       "  --sklearn-color-text-on-default-background: var(--sg-text-color, var(--theme-code-foreground, var(--jp-content-font-color1, black)));\n",
       "  --sklearn-color-background: var(--sg-background-color, var(--theme-background, var(--jp-layout-color0, white)));\n",
       "  --sklearn-color-border-box: var(--sg-text-color, var(--theme-code-foreground, var(--jp-content-font-color1, black)));\n",
       "  --sklearn-color-icon: #696969;\n",
       "\n",
       "  @media (prefers-color-scheme: dark) {\n",
       "    /* Redefinition of color scheme for dark theme */\n",
       "    --sklearn-color-text-on-default-background: var(--sg-text-color, var(--theme-code-foreground, var(--jp-content-font-color1, white)));\n",
       "    --sklearn-color-background: var(--sg-background-color, var(--theme-background, var(--jp-layout-color0, #111)));\n",
       "    --sklearn-color-border-box: var(--sg-text-color, var(--theme-code-foreground, var(--jp-content-font-color1, white)));\n",
       "    --sklearn-color-icon: #878787;\n",
       "  }\n",
       "}\n",
       "\n",
       "#sk-container-id-5 {\n",
       "  color: var(--sklearn-color-text);\n",
       "}\n",
       "\n",
       "#sk-container-id-5 pre {\n",
       "  padding: 0;\n",
       "}\n",
       "\n",
       "#sk-container-id-5 input.sk-hidden--visually {\n",
       "  border: 0;\n",
       "  clip: rect(1px 1px 1px 1px);\n",
       "  clip: rect(1px, 1px, 1px, 1px);\n",
       "  height: 1px;\n",
       "  margin: -1px;\n",
       "  overflow: hidden;\n",
       "  padding: 0;\n",
       "  position: absolute;\n",
       "  width: 1px;\n",
       "}\n",
       "\n",
       "#sk-container-id-5 div.sk-dashed-wrapped {\n",
       "  border: 1px dashed var(--sklearn-color-line);\n",
       "  margin: 0 0.4em 0.5em 0.4em;\n",
       "  box-sizing: border-box;\n",
       "  padding-bottom: 0.4em;\n",
       "  background-color: var(--sklearn-color-background);\n",
       "}\n",
       "\n",
       "#sk-container-id-5 div.sk-container {\n",
       "  /* jupyter's `normalize.less` sets `[hidden] { display: none; }`\n",
       "     but bootstrap.min.css set `[hidden] { display: none !important; }`\n",
       "     so we also need the `!important` here to be able to override the\n",
       "     default hidden behavior on the sphinx rendered scikit-learn.org.\n",
       "     See: https://github.com/scikit-learn/scikit-learn/issues/21755 */\n",
       "  display: inline-block !important;\n",
       "  position: relative;\n",
       "}\n",
       "\n",
       "#sk-container-id-5 div.sk-text-repr-fallback {\n",
       "  display: none;\n",
       "}\n",
       "\n",
       "div.sk-parallel-item,\n",
       "div.sk-serial,\n",
       "div.sk-item {\n",
       "  /* draw centered vertical line to link estimators */\n",
       "  background-image: linear-gradient(var(--sklearn-color-text-on-default-background), var(--sklearn-color-text-on-default-background));\n",
       "  background-size: 2px 100%;\n",
       "  background-repeat: no-repeat;\n",
       "  background-position: center center;\n",
       "}\n",
       "\n",
       "/* Parallel-specific style estimator block */\n",
       "\n",
       "#sk-container-id-5 div.sk-parallel-item::after {\n",
       "  content: \"\";\n",
       "  width: 100%;\n",
       "  border-bottom: 2px solid var(--sklearn-color-text-on-default-background);\n",
       "  flex-grow: 1;\n",
       "}\n",
       "\n",
       "#sk-container-id-5 div.sk-parallel {\n",
       "  display: flex;\n",
       "  align-items: stretch;\n",
       "  justify-content: center;\n",
       "  background-color: var(--sklearn-color-background);\n",
       "  position: relative;\n",
       "}\n",
       "\n",
       "#sk-container-id-5 div.sk-parallel-item {\n",
       "  display: flex;\n",
       "  flex-direction: column;\n",
       "}\n",
       "\n",
       "#sk-container-id-5 div.sk-parallel-item:first-child::after {\n",
       "  align-self: flex-end;\n",
       "  width: 50%;\n",
       "}\n",
       "\n",
       "#sk-container-id-5 div.sk-parallel-item:last-child::after {\n",
       "  align-self: flex-start;\n",
       "  width: 50%;\n",
       "}\n",
       "\n",
       "#sk-container-id-5 div.sk-parallel-item:only-child::after {\n",
       "  width: 0;\n",
       "}\n",
       "\n",
       "/* Serial-specific style estimator block */\n",
       "\n",
       "#sk-container-id-5 div.sk-serial {\n",
       "  display: flex;\n",
       "  flex-direction: column;\n",
       "  align-items: center;\n",
       "  background-color: var(--sklearn-color-background);\n",
       "  padding-right: 1em;\n",
       "  padding-left: 1em;\n",
       "}\n",
       "\n",
       "\n",
       "/* Toggleable style: style used for estimator/Pipeline/ColumnTransformer box that is\n",
       "clickable and can be expanded/collapsed.\n",
       "- Pipeline and ColumnTransformer use this feature and define the default style\n",
       "- Estimators will overwrite some part of the style using the `sk-estimator` class\n",
       "*/\n",
       "\n",
       "/* Pipeline and ColumnTransformer style (default) */\n",
       "\n",
       "#sk-container-id-5 div.sk-toggleable {\n",
       "  /* Default theme specific background. It is overwritten whether we have a\n",
       "  specific estimator or a Pipeline/ColumnTransformer */\n",
       "  background-color: var(--sklearn-color-background);\n",
       "}\n",
       "\n",
       "/* Toggleable label */\n",
       "#sk-container-id-5 label.sk-toggleable__label {\n",
       "  cursor: pointer;\n",
       "  display: block;\n",
       "  width: 100%;\n",
       "  margin-bottom: 0;\n",
       "  padding: 0.5em;\n",
       "  box-sizing: border-box;\n",
       "  text-align: center;\n",
       "}\n",
       "\n",
       "#sk-container-id-5 label.sk-toggleable__label-arrow:before {\n",
       "  /* Arrow on the left of the label */\n",
       "  content: \"▸\";\n",
       "  float: left;\n",
       "  margin-right: 0.25em;\n",
       "  color: var(--sklearn-color-icon);\n",
       "}\n",
       "\n",
       "#sk-container-id-5 label.sk-toggleable__label-arrow:hover:before {\n",
       "  color: var(--sklearn-color-text);\n",
       "}\n",
       "\n",
       "/* Toggleable content - dropdown */\n",
       "\n",
       "#sk-container-id-5 div.sk-toggleable__content {\n",
       "  max-height: 0;\n",
       "  max-width: 0;\n",
       "  overflow: hidden;\n",
       "  text-align: left;\n",
       "  /* unfitted */\n",
       "  background-color: var(--sklearn-color-unfitted-level-0);\n",
       "}\n",
       "\n",
       "#sk-container-id-5 div.sk-toggleable__content.fitted {\n",
       "  /* fitted */\n",
       "  background-color: var(--sklearn-color-fitted-level-0);\n",
       "}\n",
       "\n",
       "#sk-container-id-5 div.sk-toggleable__content pre {\n",
       "  margin: 0.2em;\n",
       "  border-radius: 0.25em;\n",
       "  color: var(--sklearn-color-text);\n",
       "  /* unfitted */\n",
       "  background-color: var(--sklearn-color-unfitted-level-0);\n",
       "}\n",
       "\n",
       "#sk-container-id-5 div.sk-toggleable__content.fitted pre {\n",
       "  /* unfitted */\n",
       "  background-color: var(--sklearn-color-fitted-level-0);\n",
       "}\n",
       "\n",
       "#sk-container-id-5 input.sk-toggleable__control:checked~div.sk-toggleable__content {\n",
       "  /* Expand drop-down */\n",
       "  max-height: 200px;\n",
       "  max-width: 100%;\n",
       "  overflow: auto;\n",
       "}\n",
       "\n",
       "#sk-container-id-5 input.sk-toggleable__control:checked~label.sk-toggleable__label-arrow:before {\n",
       "  content: \"▾\";\n",
       "}\n",
       "\n",
       "/* Pipeline/ColumnTransformer-specific style */\n",
       "\n",
       "#sk-container-id-5 div.sk-label input.sk-toggleable__control:checked~label.sk-toggleable__label {\n",
       "  color: var(--sklearn-color-text);\n",
       "  background-color: var(--sklearn-color-unfitted-level-2);\n",
       "}\n",
       "\n",
       "#sk-container-id-5 div.sk-label.fitted input.sk-toggleable__control:checked~label.sk-toggleable__label {\n",
       "  background-color: var(--sklearn-color-fitted-level-2);\n",
       "}\n",
       "\n",
       "/* Estimator-specific style */\n",
       "\n",
       "/* Colorize estimator box */\n",
       "#sk-container-id-5 div.sk-estimator input.sk-toggleable__control:checked~label.sk-toggleable__label {\n",
       "  /* unfitted */\n",
       "  background-color: var(--sklearn-color-unfitted-level-2);\n",
       "}\n",
       "\n",
       "#sk-container-id-5 div.sk-estimator.fitted input.sk-toggleable__control:checked~label.sk-toggleable__label {\n",
       "  /* fitted */\n",
       "  background-color: var(--sklearn-color-fitted-level-2);\n",
       "}\n",
       "\n",
       "#sk-container-id-5 div.sk-label label.sk-toggleable__label,\n",
       "#sk-container-id-5 div.sk-label label {\n",
       "  /* The background is the default theme color */\n",
       "  color: var(--sklearn-color-text-on-default-background);\n",
       "}\n",
       "\n",
       "/* On hover, darken the color of the background */\n",
       "#sk-container-id-5 div.sk-label:hover label.sk-toggleable__label {\n",
       "  color: var(--sklearn-color-text);\n",
       "  background-color: var(--sklearn-color-unfitted-level-2);\n",
       "}\n",
       "\n",
       "/* Label box, darken color on hover, fitted */\n",
       "#sk-container-id-5 div.sk-label.fitted:hover label.sk-toggleable__label.fitted {\n",
       "  color: var(--sklearn-color-text);\n",
       "  background-color: var(--sklearn-color-fitted-level-2);\n",
       "}\n",
       "\n",
       "/* Estimator label */\n",
       "\n",
       "#sk-container-id-5 div.sk-label label {\n",
       "  font-family: monospace;\n",
       "  font-weight: bold;\n",
       "  display: inline-block;\n",
       "  line-height: 1.2em;\n",
       "}\n",
       "\n",
       "#sk-container-id-5 div.sk-label-container {\n",
       "  text-align: center;\n",
       "}\n",
       "\n",
       "/* Estimator-specific */\n",
       "#sk-container-id-5 div.sk-estimator {\n",
       "  font-family: monospace;\n",
       "  border: 1px dotted var(--sklearn-color-border-box);\n",
       "  border-radius: 0.25em;\n",
       "  box-sizing: border-box;\n",
       "  margin-bottom: 0.5em;\n",
       "  /* unfitted */\n",
       "  background-color: var(--sklearn-color-unfitted-level-0);\n",
       "}\n",
       "\n",
       "#sk-container-id-5 div.sk-estimator.fitted {\n",
       "  /* fitted */\n",
       "  background-color: var(--sklearn-color-fitted-level-0);\n",
       "}\n",
       "\n",
       "/* on hover */\n",
       "#sk-container-id-5 div.sk-estimator:hover {\n",
       "  /* unfitted */\n",
       "  background-color: var(--sklearn-color-unfitted-level-2);\n",
       "}\n",
       "\n",
       "#sk-container-id-5 div.sk-estimator.fitted:hover {\n",
       "  /* fitted */\n",
       "  background-color: var(--sklearn-color-fitted-level-2);\n",
       "}\n",
       "\n",
       "/* Specification for estimator info (e.g. \"i\" and \"?\") */\n",
       "\n",
       "/* Common style for \"i\" and \"?\" */\n",
       "\n",
       ".sk-estimator-doc-link,\n",
       "a:link.sk-estimator-doc-link,\n",
       "a:visited.sk-estimator-doc-link {\n",
       "  float: right;\n",
       "  font-size: smaller;\n",
       "  line-height: 1em;\n",
       "  font-family: monospace;\n",
       "  background-color: var(--sklearn-color-background);\n",
       "  border-radius: 1em;\n",
       "  height: 1em;\n",
       "  width: 1em;\n",
       "  text-decoration: none !important;\n",
       "  margin-left: 1ex;\n",
       "  /* unfitted */\n",
       "  border: var(--sklearn-color-unfitted-level-1) 1pt solid;\n",
       "  color: var(--sklearn-color-unfitted-level-1);\n",
       "}\n",
       "\n",
       ".sk-estimator-doc-link.fitted,\n",
       "a:link.sk-estimator-doc-link.fitted,\n",
       "a:visited.sk-estimator-doc-link.fitted {\n",
       "  /* fitted */\n",
       "  border: var(--sklearn-color-fitted-level-1) 1pt solid;\n",
       "  color: var(--sklearn-color-fitted-level-1);\n",
       "}\n",
       "\n",
       "/* On hover */\n",
       "div.sk-estimator:hover .sk-estimator-doc-link:hover,\n",
       ".sk-estimator-doc-link:hover,\n",
       "div.sk-label-container:hover .sk-estimator-doc-link:hover,\n",
       ".sk-estimator-doc-link:hover {\n",
       "  /* unfitted */\n",
       "  background-color: var(--sklearn-color-unfitted-level-3);\n",
       "  color: var(--sklearn-color-background);\n",
       "  text-decoration: none;\n",
       "}\n",
       "\n",
       "div.sk-estimator.fitted:hover .sk-estimator-doc-link.fitted:hover,\n",
       ".sk-estimator-doc-link.fitted:hover,\n",
       "div.sk-label-container:hover .sk-estimator-doc-link.fitted:hover,\n",
       ".sk-estimator-doc-link.fitted:hover {\n",
       "  /* fitted */\n",
       "  background-color: var(--sklearn-color-fitted-level-3);\n",
       "  color: var(--sklearn-color-background);\n",
       "  text-decoration: none;\n",
       "}\n",
       "\n",
       "/* Span, style for the box shown on hovering the info icon */\n",
       ".sk-estimator-doc-link span {\n",
       "  display: none;\n",
       "  z-index: 9999;\n",
       "  position: relative;\n",
       "  font-weight: normal;\n",
       "  right: .2ex;\n",
       "  padding: .5ex;\n",
       "  margin: .5ex;\n",
       "  width: min-content;\n",
       "  min-width: 20ex;\n",
       "  max-width: 50ex;\n",
       "  color: var(--sklearn-color-text);\n",
       "  box-shadow: 2pt 2pt 4pt #999;\n",
       "  /* unfitted */\n",
       "  background: var(--sklearn-color-unfitted-level-0);\n",
       "  border: .5pt solid var(--sklearn-color-unfitted-level-3);\n",
       "}\n",
       "\n",
       ".sk-estimator-doc-link.fitted span {\n",
       "  /* fitted */\n",
       "  background: var(--sklearn-color-fitted-level-0);\n",
       "  border: var(--sklearn-color-fitted-level-3);\n",
       "}\n",
       "\n",
       ".sk-estimator-doc-link:hover span {\n",
       "  display: block;\n",
       "}\n",
       "\n",
       "/* \"?\"-specific style due to the `<a>` HTML tag */\n",
       "\n",
       "#sk-container-id-5 a.estimator_doc_link {\n",
       "  float: right;\n",
       "  font-size: 1rem;\n",
       "  line-height: 1em;\n",
       "  font-family: monospace;\n",
       "  background-color: var(--sklearn-color-background);\n",
       "  border-radius: 1rem;\n",
       "  height: 1rem;\n",
       "  width: 1rem;\n",
       "  text-decoration: none;\n",
       "  /* unfitted */\n",
       "  color: var(--sklearn-color-unfitted-level-1);\n",
       "  border: var(--sklearn-color-unfitted-level-1) 1pt solid;\n",
       "}\n",
       "\n",
       "#sk-container-id-5 a.estimator_doc_link.fitted {\n",
       "  /* fitted */\n",
       "  border: var(--sklearn-color-fitted-level-1) 1pt solid;\n",
       "  color: var(--sklearn-color-fitted-level-1);\n",
       "}\n",
       "\n",
       "/* On hover */\n",
       "#sk-container-id-5 a.estimator_doc_link:hover {\n",
       "  /* unfitted */\n",
       "  background-color: var(--sklearn-color-unfitted-level-3);\n",
       "  color: var(--sklearn-color-background);\n",
       "  text-decoration: none;\n",
       "}\n",
       "\n",
       "#sk-container-id-5 a.estimator_doc_link.fitted:hover {\n",
       "  /* fitted */\n",
       "  background-color: var(--sklearn-color-fitted-level-3);\n",
       "}\n",
       "</style><div id=\"sk-container-id-5\" class=\"sk-top-container\"><div class=\"sk-text-repr-fallback\"><pre>Pipeline(steps=[(&#x27;randomundersampler&#x27;, RandomUnderSampler(random_state=38)),\n",
       "                (&#x27;randomforestclassifier&#x27;,\n",
       "                 RandomForestClassifier(max_depth=4, min_samples_leaf=10,\n",
       "                                        random_state=38))])</pre><b>In a Jupyter environment, please rerun this cell to show the HTML representation or trust the notebook. <br />On GitHub, the HTML representation is unable to render, please try loading this page with nbviewer.org.</b></div><div class=\"sk-container\" hidden><div class=\"sk-item sk-dashed-wrapped\"><div class=\"sk-label-container\"><div class=\"sk-label fitted sk-toggleable\"><input class=\"sk-toggleable__control sk-hidden--visually\" id=\"sk-estimator-id-15\" type=\"checkbox\" ><label for=\"sk-estimator-id-15\" class=\"sk-toggleable__label fitted sk-toggleable__label-arrow fitted\">&nbsp;Pipeline<span class=\"sk-estimator-doc-link fitted\">i<span>Fitted</span></span></label><div class=\"sk-toggleable__content fitted\"><pre>Pipeline(steps=[(&#x27;randomundersampler&#x27;, RandomUnderSampler(random_state=38)),\n",
       "                (&#x27;randomforestclassifier&#x27;,\n",
       "                 RandomForestClassifier(max_depth=4, min_samples_leaf=10,\n",
       "                                        random_state=38))])</pre></div> </div></div><div class=\"sk-serial\"><div class=\"sk-item\"><div class=\"sk-estimator fitted sk-toggleable\"><input class=\"sk-toggleable__control sk-hidden--visually\" id=\"sk-estimator-id-16\" type=\"checkbox\" ><label for=\"sk-estimator-id-16\" class=\"sk-toggleable__label fitted sk-toggleable__label-arrow fitted\">RandomUnderSampler</label><div class=\"sk-toggleable__content fitted\"><pre>RandomUnderSampler(random_state=38)</pre></div> </div></div><div class=\"sk-item\"><div class=\"sk-estimator fitted sk-toggleable\"><input class=\"sk-toggleable__control sk-hidden--visually\" id=\"sk-estimator-id-17\" type=\"checkbox\" ><label for=\"sk-estimator-id-17\" class=\"sk-toggleable__label fitted sk-toggleable__label-arrow fitted\">&nbsp;RandomForestClassifier<a class=\"sk-estimator-doc-link fitted\" rel=\"noreferrer\" target=\"_blank\" href=\"https://scikit-learn.org/1.5/modules/generated/sklearn.ensemble.RandomForestClassifier.html\">?<span>Documentation for RandomForestClassifier</span></a></label><div class=\"sk-toggleable__content fitted\"><pre>RandomForestClassifier(max_depth=4, min_samples_leaf=10, random_state=38)</pre></div> </div></div></div></div></div></div>"
      ],
      "text/plain": [
       "Pipeline(steps=[('randomundersampler', RandomUnderSampler(random_state=38)),\n",
       "                ('randomforestclassifier',\n",
       "                 RandomForestClassifier(max_depth=4, min_samples_leaf=10,\n",
       "                                        random_state=38))])"
      ]
     },
     "execution_count": 89,
     "metadata": {},
     "output_type": "execute_result"
    }
   ],
   "source": [
    "# Fit best model on the training set\n",
    "best_params = study.best_params\n",
    "\n",
    "pipeline_rus = make_pipeline(\n",
    "    RandomUnderSampler(random_state=RANDOM_STATE),\n",
    "    RandomForestClassifier(**best_params, random_state=RANDOM_STATE)\n",
    ")\n",
    "\n",
    "pipeline_rus.fit(X_train, y_train)"
   ]
  },
  {
   "cell_type": "code",
   "execution_count": 90,
   "metadata": {},
   "outputs": [],
   "source": [
    "# Predictions\n",
    "y_train_pred_rus = pipeline_rus.predict(X_train)\n",
    "y_test_pred_rus = pipeline_rus.predict(X_test)"
   ]
  },
  {
   "cell_type": "code",
   "execution_count": 91,
   "metadata": {},
   "outputs": [
    {
     "name": "stdout",
     "output_type": "stream",
     "text": [
      "Train accuracy:  0.6712784623762177\n",
      "Test accuracy:  0.673364705882353\n"
     ]
    }
   ],
   "source": [
    "ac_train_rus = accuracy_score(y_train, y_train_pred_rus)\n",
    "ac_test_rus = accuracy_score(y_test, y_test_pred_rus)\n",
    "\n",
    "print('Train accuracy: ', ac_train_rus)\n",
    "print('Test accuracy: ', ac_test_rus)"
   ]
  },
  {
   "cell_type": "code",
   "execution_count": 92,
   "metadata": {},
   "outputs": [
    {
     "name": "stdout",
     "output_type": "stream",
     "text": [
      "                         precision    recall  f1-score   support\n",
      "\n",
      "Late or non-readmission       0.93      0.69      0.79     19312\n",
      "      Early-readmission       0.14      0.50      0.22      1938\n",
      "\n",
      "               accuracy                           0.67     21250\n",
      "              macro avg       0.54      0.60      0.51     21250\n",
      "           weighted avg       0.86      0.67      0.74     21250\n",
      "\n"
     ]
    }
   ],
   "source": [
    "# Visualize precision, recall, F1-score\n",
    "print(classification_report(\n",
    "    y_test, y_test_pred_rus,\n",
    "    target_names=['Late or non-readmission', 'Early-readmission']\n",
    "))"
   ]
  },
  {
   "cell_type": "code",
   "execution_count": 126,
   "metadata": {},
   "outputs": [
    {
     "data": {
      "text/plain": [
       "<Axes: >"
      ]
     },
     "execution_count": 126,
     "metadata": {},
     "output_type": "execute_result"
    },
    {
     "data": {
      "image/png": "[encoded data removed]",
      "text/plain": [
       "<Figure size 640x480 with 2 Axes>"
      ]
     },
     "metadata": {},
     "output_type": "display_data"
    }
   ],
   "source": [
    "cm_rus = confusion_matrix(y_test, y_test_pred_rus, normalize='true')\n",
    "sns.heatmap(cm_rus, annot=True, fmt=\".2f\", cmap='Blues')"
   ]
  },
  {
   "cell_type": "markdown",
   "metadata": {},
   "source": [
    "## **3. Optuna Hyper-parameter Tuning | SMOTE**\n",
    "Hyper-parameter tuning of the model using Optuna, and oversampling with SMOTE."
   ]
  },
  {
   "cell_type": "markdown",
   "metadata": {},
   "source": [
    "### 3.1 Objective & study setup\n",
    "Preparing the objective function with all hyper-parameters, and creating/loading the Optuna study."
   ]
  },
  {
   "cell_type": "code",
   "execution_count": 94,
   "metadata": {},
   "outputs": [],
   "source": [
    "def objective(trial: optuna.Trial) -> float:\n",
    "    # Hyperparameter search space\n",
    "    params = {\n",
    "        \"n_estimators\": 100,\n",
    "        \"max_depth\": trial.suggest_int(\"max_depth\", 4, 30, step=2),\n",
    "        \"min_samples_leaf\": trial.suggest_int(\"min_samples_leaf\", 2, 60, step=2)\n",
    "    }\n",
    "    \n",
    "    # Build pipeline\n",
    "    pipeline = make_pipeline(\n",
    "        SMOTE(random_state=RANDOM_STATE),\n",
    "        RandomForestClassifier(**params, random_state=RANDOM_STATE)\n",
    "    )\n",
    "    \n",
    "    # Define validation folds\n",
    "    kf = StratifiedKFold(n_splits=5, shuffle=False)\n",
    "    \n",
    "    # Cross validation\n",
    "    f1_score = cross_val_score(pipeline, X_train, y_train, cv=kf, scoring='f1')\n",
    "\n",
    "    print(\"Cross validation F1-scores: {}\".format(f1_score))\n",
    "    print(\"Average F1-score: {}\".format(f1_score.mean()))\n",
    "\n",
    "    return f1_score.mean()"
   ]
  },
  {
   "cell_type": "code",
   "execution_count": 95,
   "metadata": {},
   "outputs": [
    {
     "name": "stderr",
     "output_type": "stream",
     "text": [
      "[I 2024-12-27 16:54:22,998] A new study created in Journal with name: Diabetes_130-US\n"
     ]
    }
   ],
   "source": [
    "# Set up study with name and storage\n",
    "storage = JournalStorage(JournalFileBackend(STUDY_PATH_SMOTE))\n",
    "\n",
    "study = optuna.create_study(\n",
    "    direction=\"maximize\",\n",
    "    study_name=STUDY_NAME,\n",
    "    storage=storage,\n",
    "    load_if_exists=True,\n",
    "    sampler=optuna.samplers.TPESampler(seed=RANDOM_STATE),\n",
    "    pruner=optuna.pruners.SuccessiveHalvingPruner()\n",
    ")\n",
    "\n",
    "optuna.logging.set_verbosity(optuna.logging.INFO)"
   ]
  },
  {
   "cell_type": "markdown",
   "metadata": {},
   "source": [
    "### 3.2 Hyper-parameter tuning\n",
    "**(CAUTION)** <u>Do not run</u>, unless you already need to find the best parameters. If you already have bound the best model configuration, <u>run the section above</u> _(Objective & study setup)_."
   ]
  },
  {
   "cell_type": "code",
   "execution_count": 96,
   "metadata": {},
   "outputs": [
    {
     "name": "stderr",
     "output_type": "stream",
     "text": [
      "[I 2024-12-27 16:55:01,036] Trial 0 finished with value: 0.18412085401949496 and parameters: {'max_depth': 12, 'min_samples_leaf': 58}. Best is trial 0 with value: 0.18412085401949496.\n"
     ]
    },
    {
     "name": "stdout",
     "output_type": "stream",
     "text": [
      "Cross validation F1-scores: [0.1996912  0.18585005 0.18308351 0.1718485  0.180131  ]\n",
      "Average F1-score: 0.18412085401949496\n"
     ]
    },
    {
     "name": "stderr",
     "output_type": "stream",
     "text": [
      "[I 2024-12-27 16:55:03,574] Trial 4 finished with value: 0.16655986834073938 and parameters: {'max_depth': 14, 'min_samples_leaf': 48}. Best is trial 0 with value: 0.18412085401949496.\n"
     ]
    },
    {
     "name": "stdout",
     "output_type": "stream",
     "text": [
      "Cross validation F1-scores: [0.18375815 0.16646707 0.16324134 0.15276894 0.16656385]\n",
      "Average F1-score: 0.16655986834073938\n"
     ]
    },
    {
     "name": "stderr",
     "output_type": "stream",
     "text": [
      "[I 2024-12-27 16:55:04,715] Trial 3 finished with value: 0.1473723511823698 and parameters: {'max_depth': 14, 'min_samples_leaf': 22}. Best is trial 0 with value: 0.18412085401949496.\n"
     ]
    },
    {
     "name": "stdout",
     "output_type": "stream",
     "text": [
      "Cross validation F1-scores: [0.15039578 0.14719174 0.14923384 0.13950276 0.15053763]\n",
      "Average F1-score: 0.1473723511823698\n"
     ]
    },
    {
     "name": "stderr",
     "output_type": "stream",
     "text": [
      "[I 2024-12-27 16:55:06,480] Trial 9 finished with value: 0.13777527253161956 and parameters: {'max_depth': 16, 'min_samples_leaf': 30}. Best is trial 0 with value: 0.18412085401949496.\n"
     ]
    },
    {
     "name": "stdout",
     "output_type": "stream",
     "text": [
      "Cross validation F1-scores: [0.1504788  0.1398218  0.14415675 0.12787356 0.12654545]\n",
      "Average F1-score: 0.13777527253161956\n"
     ]
    },
    {
     "name": "stderr",
     "output_type": "stream",
     "text": [
      "[I 2024-12-27 16:55:07,306] Trial 8 finished with value: 0.13779744280687428 and parameters: {'max_depth': 28, 'min_samples_leaf': 46}. Best is trial 0 with value: 0.18412085401949496.\n",
      "[I 2024-12-27 16:55:07,456] Trial 5 finished with value: 0.12693043483991379 and parameters: {'max_depth': 18, 'min_samples_leaf': 30}. Best is trial 0 with value: 0.18412085401949496.\n"
     ]
    },
    {
     "name": "stdout",
     "output_type": "stream",
     "text": [
      "Cross validation F1-scores: [0.14266118 0.13099257 0.13469985 0.13052937 0.15010424]\n",
      "Average F1-score: 0.13779744280687428\n",
      "Cross validation F1-scores: [0.13129103 0.12553495 0.13069909 0.12965723 0.11746988]\n",
      "Average F1-score: 0.12693043483991379\n"
     ]
    },
    {
     "name": "stderr",
     "output_type": "stream",
     "text": [
      "[I 2024-12-27 16:55:09,283] Trial 2 finished with value: 0.114336260184603 and parameters: {'max_depth': 20, 'min_samples_leaf': 24}. Best is trial 0 with value: 0.18412085401949496.\n"
     ]
    },
    {
     "name": "stdout",
     "output_type": "stream",
     "text": [
      "Cross validation F1-scores: [0.11471698 0.11466865 0.11902897 0.12074303 0.10252366]\n",
      "Average F1-score: 0.114336260184603\n"
     ]
    },
    {
     "name": "stderr",
     "output_type": "stream",
     "text": [
      "[I 2024-12-27 16:55:09,831] Trial 1 finished with value: 0.10182315759829152 and parameters: {'max_depth': 22, 'min_samples_leaf': 20}. Best is trial 0 with value: 0.18412085401949496.\n"
     ]
    },
    {
     "name": "stdout",
     "output_type": "stream",
     "text": [
      "Cross validation F1-scores: [0.10651828 0.10268562 0.10128617 0.09862571 0.1       ]\n",
      "Average F1-score: 0.10182315759829152\n"
     ]
    },
    {
     "name": "stderr",
     "output_type": "stream",
     "text": [
      "[I 2024-12-27 16:55:10,352] Trial 11 finished with value: 0.09805668196281353 and parameters: {'max_depth': 30, 'min_samples_leaf': 20}. Best is trial 0 with value: 0.18412085401949496.\n"
     ]
    },
    {
     "name": "stdout",
     "output_type": "stream",
     "text": [
      "Cross validation F1-scores: [0.09500805 0.09335443 0.11065907 0.09547325 0.0957886 ]\n",
      "Average F1-score: 0.09805668196281353\n"
     ]
    },
    {
     "name": "stderr",
     "output_type": "stream",
     "text": [
      "[I 2024-12-27 16:55:11,740] Trial 6 finished with value: 0.08074517778084345 and parameters: {'max_depth': 18, 'min_samples_leaf': 4}. Best is trial 0 with value: 0.18412085401949496.\n"
     ]
    },
    {
     "name": "stdout",
     "output_type": "stream",
     "text": [
      "Cross validation F1-scores: [0.08616404 0.08521303 0.0758214  0.08020478 0.07632264]\n",
      "Average F1-score: 0.08074517778084345\n"
     ]
    },
    {
     "name": "stderr",
     "output_type": "stream",
     "text": [
      "[I 2024-12-27 16:55:14,716] Trial 10 finished with value: 0.05756786548738698 and parameters: {'max_depth': 26, 'min_samples_leaf': 6}. Best is trial 0 with value: 0.18412085401949496.\n"
     ]
    },
    {
     "name": "stdout",
     "output_type": "stream",
     "text": [
      "Cross validation F1-scores: [0.0557053  0.05765766 0.05866178 0.0557053  0.06010929]\n",
      "Average F1-score: 0.05756786548738698\n"
     ]
    },
    {
     "name": "stderr",
     "output_type": "stream",
     "text": [
      "[I 2024-12-27 16:55:16,690] Trial 7 finished with value: 0.055373011327521336 and parameters: {'max_depth': 30, 'min_samples_leaf': 4}. Best is trial 0 with value: 0.18412085401949496.\n"
     ]
    },
    {
     "name": "stdout",
     "output_type": "stream",
     "text": [
      "Cross validation F1-scores: [0.05860806 0.05095541 0.04651163 0.05277525 0.06801471]\n",
      "Average F1-score: 0.055373011327521336\n"
     ]
    },
    {
     "name": "stderr",
     "output_type": "stream",
     "text": [
      "[I 2024-12-27 16:55:30,872] Trial 20 finished with value: 0.2070863212231792 and parameters: {'max_depth': 4, 'min_samples_leaf': 16}. Best is trial 20 with value: 0.2070863212231792.\n"
     ]
    },
    {
     "name": "stdout",
     "output_type": "stream",
     "text": [
      "Cross validation F1-scores: [0.20974111 0.2047172  0.21004146 0.20985222 0.20107962]\n",
      "Average F1-score: 0.2070863212231792\n"
     ]
    },
    {
     "name": "stderr",
     "output_type": "stream",
     "text": [
      "[I 2024-12-27 16:55:31,970] Trial 21 finished with value: 0.2074517587464924 and parameters: {'max_depth': 4, 'min_samples_leaf': 60}. Best is trial 21 with value: 0.2074517587464924.\n"
     ]
    },
    {
     "name": "stdout",
     "output_type": "stream",
     "text": [
      "Cross validation F1-scores: [0.20887166 0.20829493 0.20836158 0.21181773 0.19991289]\n",
      "Average F1-score: 0.2074517587464924\n"
     ]
    },
    {
     "name": "stderr",
     "output_type": "stream",
     "text": [
      "[I 2024-12-27 16:55:34,250] Trial 17 finished with value: 0.21239382007590163 and parameters: {'max_depth': 6, 'min_samples_leaf': 16}. Best is trial 17 with value: 0.21239382007590163.\n"
     ]
    },
    {
     "name": "stdout",
     "output_type": "stream",
     "text": [
      "Cross validation F1-scores: [0.22191706 0.2122281  0.21213873 0.20996756 0.20571765]\n",
      "Average F1-score: 0.21239382007590163\n"
     ]
    },
    {
     "name": "stderr",
     "output_type": "stream",
     "text": [
      "[I 2024-12-27 16:55:35,294] Trial 13 finished with value: 0.21118333127958522 and parameters: {'max_depth': 8, 'min_samples_leaf': 48}. Best is trial 17 with value: 0.21239382007590163.\n"
     ]
    },
    {
     "name": "stdout",
     "output_type": "stream",
     "text": [
      "Cross validation F1-scores: [0.22378139 0.20932009 0.21189024 0.20418006 0.20674487]\n",
      "Average F1-score: 0.21118333127958522\n"
     ]
    },
    {
     "name": "stderr",
     "output_type": "stream",
     "text": [
      "[I 2024-12-27 16:55:41,027] Trial 14 finished with value: 0.19386443191278085 and parameters: {'max_depth': 10, 'min_samples_leaf': 18}. Best is trial 17 with value: 0.21239382007590163.\n"
     ]
    },
    {
     "name": "stdout",
     "output_type": "stream",
     "text": [
      "Cross validation F1-scores: [0.21192053 0.19056879 0.19117647 0.17761807 0.1980383 ]\n",
      "Average F1-score: 0.19386443191278085\n"
     ]
    },
    {
     "name": "stderr",
     "output_type": "stream",
     "text": [
      "[I 2024-12-27 16:55:43,376] Trial 23 finished with value: 0.21160755956117172 and parameters: {'max_depth': 6, 'min_samples_leaf': 60}. Best is trial 17 with value: 0.21239382007590163.\n"
     ]
    },
    {
     "name": "stdout",
     "output_type": "stream",
     "text": [
      "Cross validation F1-scores: [0.21706326 0.2109174  0.21643664 0.21115419 0.2024663 ]\n",
      "Average F1-score: 0.21160755956117172\n"
     ]
    },
    {
     "name": "stderr",
     "output_type": "stream",
     "text": [
      "[I 2024-12-27 16:55:46,369] Trial 12 finished with value: 0.1352999859710454 and parameters: {'max_depth': 30, 'min_samples_leaf': 44}. Best is trial 17 with value: 0.21239382007590163.\n",
      "[I 2024-12-27 16:55:46,373] Trial 15 finished with value: 0.16946497005235944 and parameters: {'max_depth': 12, 'min_samples_leaf': 16}. Best is trial 17 with value: 0.21239382007590163.\n"
     ]
    },
    {
     "name": "stdout",
     "output_type": "stream",
     "text": [
      "Cross validation F1-scores: [0.14814815 0.12033195 0.14295725 0.12879884 0.13626374]\n",
      "Average F1-score: 0.1352999859710454\n",
      "Cross validation F1-scores: [0.18949772 0.17338487 0.17174515 0.14953271 0.1631644 ]\n",
      "Average F1-score: 0.16946497005235944\n"
     ]
    },
    {
     "name": "stderr",
     "output_type": "stream",
     "text": [
      "[I 2024-12-27 16:55:46,688] Trial 22 finished with value: 0.2120317992201884 and parameters: {'max_depth': 8, 'min_samples_leaf': 60}. Best is trial 17 with value: 0.21239382007590163.\n"
     ]
    },
    {
     "name": "stdout",
     "output_type": "stream",
     "text": [
      "Cross validation F1-scores: [0.22999628 0.21241586 0.21071302 0.20882917 0.19820467]\n",
      "Average F1-score: 0.2120317992201884\n"
     ]
    },
    {
     "name": "stderr",
     "output_type": "stream",
     "text": [
      "[I 2024-12-27 16:55:51,716] Trial 24 finished with value: 0.2074517587464924 and parameters: {'max_depth': 4, 'min_samples_leaf': 60}. Best is trial 17 with value: 0.21239382007590163.\n"
     ]
    },
    {
     "name": "stdout",
     "output_type": "stream",
     "text": [
      "Cross validation F1-scores: [0.20887166 0.20829493 0.20836158 0.21181773 0.19991289]\n",
      "Average F1-score: 0.2074517587464924\n"
     ]
    },
    {
     "name": "stderr",
     "output_type": "stream",
     "text": [
      "[I 2024-12-27 16:55:52,483] Trial 25 finished with value: 0.2075836899215105 and parameters: {'max_depth': 4, 'min_samples_leaf': 42}. Best is trial 17 with value: 0.21239382007590163.\n"
     ]
    },
    {
     "name": "stdout",
     "output_type": "stream",
     "text": [
      "Cross validation F1-scores: [0.20892935 0.207404   0.20936131 0.21130456 0.20091924]\n",
      "Average F1-score: 0.2075836899215105\n"
     ]
    },
    {
     "name": "stderr",
     "output_type": "stream",
     "text": [
      "[I 2024-12-27 16:55:52,917] Trial 18 finished with value: 0.14298445196152776 and parameters: {'max_depth': 14, 'min_samples_leaf': 14}. Best is trial 17 with value: 0.21239382007590163.\n"
     ]
    },
    {
     "name": "stdout",
     "output_type": "stream",
     "text": [
      "Cross validation F1-scores: [0.15916504 0.14218645 0.15323646 0.12875536 0.13157895]\n",
      "Average F1-score: 0.14298445196152776\n"
     ]
    },
    {
     "name": "stderr",
     "output_type": "stream",
     "text": [
      "[I 2024-12-27 16:55:54,407] Trial 16 finished with value: 0.10761824808325546 and parameters: {'max_depth': 18, 'min_samples_leaf': 16}. Best is trial 17 with value: 0.21239382007590163.\n"
     ]
    },
    {
     "name": "stdout",
     "output_type": "stream",
     "text": [
      "Cross validation F1-scores: [0.11093991 0.10849057 0.10645161 0.10728583 0.10492333]\n",
      "Average F1-score: 0.10761824808325546\n"
     ]
    },
    {
     "name": "stderr",
     "output_type": "stream",
     "text": [
      "[I 2024-12-27 16:55:55,039] Trial 26 finished with value: 0.20793501822770305 and parameters: {'max_depth': 4, 'min_samples_leaf': 40}. Best is trial 17 with value: 0.21239382007590163.\n"
     ]
    },
    {
     "name": "stdout",
     "output_type": "stream",
     "text": [
      "Cross validation F1-scores: [0.21061831 0.20667727 0.20894834 0.21251194 0.20091924]\n",
      "Average F1-score: 0.20793501822770305\n"
     ]
    },
    {
     "name": "stderr",
     "output_type": "stream",
     "text": [
      "[I 2024-12-27 16:55:56,381] Trial 19 finished with value: 0.11618946375519963 and parameters: {'max_depth': 18, 'min_samples_leaf': 22}. Best is trial 17 with value: 0.21239382007590163.\n"
     ]
    },
    {
     "name": "stdout",
     "output_type": "stream",
     "text": [
      "Cross validation F1-scores: [0.11782477 0.11002261 0.12693498 0.111023   0.11514196]\n",
      "Average F1-score: 0.11618946375519963\n"
     ]
    },
    {
     "name": "stderr",
     "output_type": "stream",
     "text": [
      "[I 2024-12-27 16:56:07,688] Trial 27 finished with value: 0.20928618901404125 and parameters: {'max_depth': 8, 'min_samples_leaf': 42}. Best is trial 17 with value: 0.21239382007590163.\n"
     ]
    },
    {
     "name": "stdout",
     "output_type": "stream",
     "text": [
      "Cross validation F1-scores: [0.23021033 0.20533729 0.21458572 0.1981982  0.19809942]\n",
      "Average F1-score: 0.20928618901404125\n"
     ]
    },
    {
     "name": "stderr",
     "output_type": "stream",
     "text": [
      "[I 2024-12-27 16:56:13,770] Trial 28 finished with value: 0.20826312178255982 and parameters: {'max_depth': 8, 'min_samples_leaf': 40}. Best is trial 17 with value: 0.21239382007590163.\n"
     ]
    },
    {
     "name": "stdout",
     "output_type": "stream",
     "text": [
      "Cross validation F1-scores: [0.22187377 0.20933625 0.21028571 0.20137485 0.19844502]\n",
      "Average F1-score: 0.20826312178255982\n"
     ]
    },
    {
     "name": "stderr",
     "output_type": "stream",
     "text": [
      "[I 2024-12-27 16:56:14,070] Trial 32 finished with value: 0.21253846030101647 and parameters: {'max_depth': 6, 'min_samples_leaf': 54}. Best is trial 32 with value: 0.21253846030101647.\n"
     ]
    },
    {
     "name": "stdout",
     "output_type": "stream",
     "text": [
      "Cross validation F1-scores: [0.22098149 0.21585259 0.21439326 0.21134794 0.20011703]\n",
      "Average F1-score: 0.21253846030101647\n"
     ]
    },
    {
     "name": "stderr",
     "output_type": "stream",
     "text": [
      "[I 2024-12-27 16:56:16,268] Trial 29 finished with value: 0.20826312178255982 and parameters: {'max_depth': 8, 'min_samples_leaf': 40}. Best is trial 32 with value: 0.21253846030101647.\n"
     ]
    },
    {
     "name": "stdout",
     "output_type": "stream",
     "text": [
      "Cross validation F1-scores: [0.22187377 0.20933625 0.21028571 0.20137485 0.19844502]\n",
      "Average F1-score: 0.20826312178255982\n"
     ]
    },
    {
     "name": "stderr",
     "output_type": "stream",
     "text": [
      "[I 2024-12-27 16:56:19,109] Trial 31 finished with value: 0.2084723067201651 and parameters: {'max_depth': 8, 'min_samples_leaf': 38}. Best is trial 32 with value: 0.21253846030101647.\n",
      "[I 2024-12-27 16:56:19,203] Trial 30 finished with value: 0.2084723067201651 and parameters: {'max_depth': 8, 'min_samples_leaf': 38}. Best is trial 32 with value: 0.21253846030101647.\n"
     ]
    },
    {
     "name": "stdout",
     "output_type": "stream",
     "text": [
      "Cross validation F1-scores: [0.22307397 0.20903132 0.20883848 0.19932717 0.20209059]\n",
      "Average F1-score: 0.2084723067201651\n",
      "Cross validation F1-scores: [0.22307397 0.20903132 0.20883848 0.19932717 0.20209059]\n",
      "Average F1-score: 0.2084723067201651\n"
     ]
    },
    {
     "name": "stderr",
     "output_type": "stream",
     "text": [
      "[I 2024-12-27 16:56:24,672] Trial 33 finished with value: 0.20944390248013 and parameters: {'max_depth': 8, 'min_samples_leaf': 54}. Best is trial 32 with value: 0.21253846030101647.\n"
     ]
    },
    {
     "name": "stdout",
     "output_type": "stream",
     "text": [
      "Cross validation F1-scores: [0.22307105 0.21121857 0.21092564 0.20185709 0.20014717]\n",
      "Average F1-score: 0.20944390248013\n"
     ]
    },
    {
     "name": "stderr",
     "output_type": "stream",
     "text": [
      "[I 2024-12-27 16:56:25,169] Trial 34 finished with value: 0.20944390248013 and parameters: {'max_depth': 8, 'min_samples_leaf': 54}. Best is trial 32 with value: 0.21253846030101647.\n"
     ]
    },
    {
     "name": "stdout",
     "output_type": "stream",
     "text": [
      "Cross validation F1-scores: [0.22307105 0.21121857 0.21092564 0.20185709 0.20014717]\n",
      "Average F1-score: 0.20944390248013\n"
     ]
    },
    {
     "name": "stderr",
     "output_type": "stream",
     "text": [
      "[I 2024-12-27 16:56:26,255] Trial 35 finished with value: 0.21038332082857963 and parameters: {'max_depth': 8, 'min_samples_leaf': 52}. Best is trial 32 with value: 0.21253846030101647.\n"
     ]
    },
    {
     "name": "stdout",
     "output_type": "stream",
     "text": [
      "Cross validation F1-scores: [0.22406968 0.2104472  0.20948905 0.20409836 0.20381232]\n",
      "Average F1-score: 0.21038332082857963\n"
     ]
    },
    {
     "name": "stderr",
     "output_type": "stream",
     "text": [
      "[I 2024-12-27 16:56:26,989] Trial 36 finished with value: 0.21038332082857963 and parameters: {'max_depth': 8, 'min_samples_leaf': 52}. Best is trial 32 with value: 0.21253846030101647.\n"
     ]
    },
    {
     "name": "stdout",
     "output_type": "stream",
     "text": [
      "Cross validation F1-scores: [0.22406968 0.2104472  0.20948905 0.20409836 0.20381232]\n",
      "Average F1-score: 0.21038332082857963\n"
     ]
    },
    {
     "name": "stderr",
     "output_type": "stream",
     "text": [
      "[I 2024-12-27 16:56:27,795] Trial 37 finished with value: 0.20944390248013 and parameters: {'max_depth': 8, 'min_samples_leaf': 54}. Best is trial 32 with value: 0.21253846030101647.\n"
     ]
    },
    {
     "name": "stdout",
     "output_type": "stream",
     "text": [
      "Cross validation F1-scores: [0.22307105 0.21121857 0.21092564 0.20185709 0.20014717]\n",
      "Average F1-score: 0.20944390248013\n"
     ]
    },
    {
     "name": "stderr",
     "output_type": "stream",
     "text": [
      "[I 2024-12-27 16:56:29,230] Trial 38 finished with value: 0.20944390248013 and parameters: {'max_depth': 8, 'min_samples_leaf': 54}. Best is trial 32 with value: 0.21253846030101647.\n"
     ]
    },
    {
     "name": "stdout",
     "output_type": "stream",
     "text": [
      "Cross validation F1-scores: [0.22307105 0.21121857 0.21092564 0.20185709 0.20014717]\n",
      "Average F1-score: 0.20944390248013\n"
     ]
    },
    {
     "name": "stderr",
     "output_type": "stream",
     "text": [
      "[I 2024-12-27 16:56:40,852] Trial 39 finished with value: 0.20944390248013 and parameters: {'max_depth': 8, 'min_samples_leaf': 54}. Best is trial 32 with value: 0.21253846030101647.\n"
     ]
    },
    {
     "name": "stdout",
     "output_type": "stream",
     "text": [
      "Cross validation F1-scores: [0.22307105 0.21121857 0.21092564 0.20185709 0.20014717]\n",
      "Average F1-score: 0.20944390248013\n"
     ]
    },
    {
     "name": "stderr",
     "output_type": "stream",
     "text": [
      "[I 2024-12-27 16:56:41,754] Trial 40 finished with value: 0.21253846030101647 and parameters: {'max_depth': 6, 'min_samples_leaf': 54}. Best is trial 32 with value: 0.21253846030101647.\n"
     ]
    },
    {
     "name": "stdout",
     "output_type": "stream",
     "text": [
      "Cross validation F1-scores: [0.22098149 0.21585259 0.21439326 0.21134794 0.20011703]\n",
      "Average F1-score: 0.21253846030101647\n"
     ]
    },
    {
     "name": "stderr",
     "output_type": "stream",
     "text": [
      "[I 2024-12-27 16:56:44,178] Trial 42 finished with value: 0.21253846030101647 and parameters: {'max_depth': 6, 'min_samples_leaf': 54}. Best is trial 32 with value: 0.21253846030101647.\n"
     ]
    },
    {
     "name": "stdout",
     "output_type": "stream",
     "text": [
      "Cross validation F1-scores: [0.22098149 0.21585259 0.21439326 0.21134794 0.20011703]\n",
      "Average F1-score: 0.21253846030101647\n"
     ]
    },
    {
     "name": "stderr",
     "output_type": "stream",
     "text": [
      "[I 2024-12-27 16:56:46,949] Trial 43 finished with value: 0.21253846030101647 and parameters: {'max_depth': 6, 'min_samples_leaf': 54}. Best is trial 32 with value: 0.21253846030101647.\n",
      "[I 2024-12-27 16:56:46,971] Trial 44 finished with value: 0.21253846030101647 and parameters: {'max_depth': 6, 'min_samples_leaf': 54}. Best is trial 32 with value: 0.21253846030101647.\n"
     ]
    },
    {
     "name": "stdout",
     "output_type": "stream",
     "text": [
      "Cross validation F1-scores: [0.22098149 0.21585259 0.21439326 0.21134794 0.20011703]\n",
      "Average F1-score: 0.21253846030101647\n",
      "Cross validation F1-scores: [0.22098149 0.21585259 0.21439326 0.21134794 0.20011703]\n",
      "Average F1-score: 0.21253846030101647\n"
     ]
    },
    {
     "name": "stderr",
     "output_type": "stream",
     "text": [
      "[I 2024-12-27 16:56:51,324] Trial 41 finished with value: 0.1959852477286212 and parameters: {'max_depth': 10, 'min_samples_leaf': 54}. Best is trial 32 with value: 0.21253846030101647.\n"
     ]
    },
    {
     "name": "stdout",
     "output_type": "stream",
     "text": [
      "Cross validation F1-scores: [0.21217547 0.19631336 0.19400856 0.18477741 0.19265144]\n",
      "Average F1-score: 0.1959852477286212\n"
     ]
    },
    {
     "name": "stderr",
     "output_type": "stream",
     "text": [
      "[I 2024-12-27 16:56:53,003] Trial 45 finished with value: 0.21253846030101647 and parameters: {'max_depth': 6, 'min_samples_leaf': 54}. Best is trial 32 with value: 0.21253846030101647.\n"
     ]
    },
    {
     "name": "stdout",
     "output_type": "stream",
     "text": [
      "Cross validation F1-scores: [0.22098149 0.21585259 0.21439326 0.21134794 0.20011703]\n",
      "Average F1-score: 0.21253846030101647\n"
     ]
    },
    {
     "name": "stderr",
     "output_type": "stream",
     "text": [
      "[I 2024-12-27 16:56:53,233] Trial 46 finished with value: 0.21253846030101647 and parameters: {'max_depth': 6, 'min_samples_leaf': 54}. Best is trial 32 with value: 0.21253846030101647.\n"
     ]
    },
    {
     "name": "stdout",
     "output_type": "stream",
     "text": [
      "Cross validation F1-scores: [0.22098149 0.21585259 0.21439326 0.21134794 0.20011703]\n",
      "Average F1-score: 0.21253846030101647\n"
     ]
    },
    {
     "name": "stderr",
     "output_type": "stream",
     "text": [
      "[I 2024-12-27 16:56:54,527] Trial 47 finished with value: 0.2106428541096022 and parameters: {'max_depth': 6, 'min_samples_leaf': 58}. Best is trial 32 with value: 0.21253846030101647.\n"
     ]
    },
    {
     "name": "stdout",
     "output_type": "stream",
     "text": [
      "Cross validation F1-scores: [0.2173537  0.2122571  0.21240492 0.20970172 0.20149683]\n",
      "Average F1-score: 0.2106428541096022\n"
     ]
    },
    {
     "name": "stderr",
     "output_type": "stream",
     "text": [
      "[I 2024-12-27 16:56:55,019] Trial 48 finished with value: 0.2106428541096022 and parameters: {'max_depth': 6, 'min_samples_leaf': 58}. Best is trial 32 with value: 0.21253846030101647.\n"
     ]
    },
    {
     "name": "stdout",
     "output_type": "stream",
     "text": [
      "Cross validation F1-scores: [0.2173537  0.2122571  0.21240492 0.20970172 0.20149683]\n",
      "Average F1-score: 0.2106428541096022\n"
     ]
    },
    {
     "name": "stderr",
     "output_type": "stream",
     "text": [
      "[I 2024-12-27 16:56:55,904] Trial 49 finished with value: 0.2106428541096022 and parameters: {'max_depth': 6, 'min_samples_leaf': 58}. Best is trial 32 with value: 0.21253846030101647.\n"
     ]
    },
    {
     "name": "stdout",
     "output_type": "stream",
     "text": [
      "Cross validation F1-scores: [0.2173537  0.2122571  0.21240492 0.20970172 0.20149683]\n",
      "Average F1-score: 0.2106428541096022\n"
     ]
    },
    {
     "name": "stderr",
     "output_type": "stream",
     "text": [
      "[I 2024-12-27 16:56:57,691] Trial 50 finished with value: 0.2114033510183778 and parameters: {'max_depth': 6, 'min_samples_leaf': 10}. Best is trial 32 with value: 0.21253846030101647.\n"
     ]
    },
    {
     "name": "stdout",
     "output_type": "stream",
     "text": [
      "Cross validation F1-scores: [0.22272598 0.21014925 0.21417706 0.20790378 0.20206068]\n",
      "Average F1-score: 0.2114033510183778\n"
     ]
    },
    {
     "name": "stderr",
     "output_type": "stream",
     "text": [
      "[I 2024-12-27 16:57:08,748] Trial 51 finished with value: 0.21081279711590387 and parameters: {'max_depth': 6, 'min_samples_leaf': 26}. Best is trial 32 with value: 0.21253846030101647.\n"
     ]
    },
    {
     "name": "stdout",
     "output_type": "stream",
     "text": [
      "Cross validation F1-scores: [0.22043165 0.21316998 0.21159257 0.20782323 0.20104654]\n",
      "Average F1-score: 0.21081279711590387\n"
     ]
    },
    {
     "name": "stderr",
     "output_type": "stream",
     "text": [
      "[I 2024-12-27 16:57:09,489] Trial 52 finished with value: 0.2106428541096022 and parameters: {'max_depth': 6, 'min_samples_leaf': 58}. Best is trial 32 with value: 0.21253846030101647.\n"
     ]
    },
    {
     "name": "stdout",
     "output_type": "stream",
     "text": [
      "Cross validation F1-scores: [0.2173537  0.2122571  0.21240492 0.20970172 0.20149683]\n",
      "Average F1-score: 0.2106428541096022\n"
     ]
    },
    {
     "name": "stderr",
     "output_type": "stream",
     "text": [
      "[I 2024-12-27 16:57:14,229] Trial 54 finished with value: 0.21030079391938314 and parameters: {'max_depth': 6, 'min_samples_leaf': 34}. Best is trial 32 with value: 0.21253846030101647.\n"
     ]
    },
    {
     "name": "stdout",
     "output_type": "stream",
     "text": [
      "Cross validation F1-scores: [0.21682567 0.21226994 0.20926244 0.21173549 0.20141044]\n",
      "Average F1-score: 0.21030079391938314\n"
     ]
    },
    {
     "name": "stderr",
     "output_type": "stream",
     "text": [
      "[I 2024-12-27 16:57:18,243] Trial 56 finished with value: 0.21425293785437508 and parameters: {'max_depth': 6, 'min_samples_leaf': 50}. Best is trial 56 with value: 0.21425293785437508.\n"
     ]
    },
    {
     "name": "stdout",
     "output_type": "stream",
     "text": [
      "Cross validation F1-scores: [0.22398124 0.21422351 0.21435228 0.21087021 0.20783745]\n",
      "Average F1-score: 0.21425293785437508\n"
     ]
    },
    {
     "name": "stderr",
     "output_type": "stream",
     "text": [
      "[I 2024-12-27 16:57:23,622] Trial 53 finished with value: 0.18127683394198996 and parameters: {'max_depth': 12, 'min_samples_leaf': 50}. Best is trial 56 with value: 0.21425293785437508.\n"
     ]
    },
    {
     "name": "stdout",
     "output_type": "stream",
     "text": [
      "Cross validation F1-scores: [0.20418581 0.18619934 0.18134715 0.16112084 0.17353103]\n",
      "Average F1-score: 0.18127683394198996\n"
     ]
    },
    {
     "name": "stderr",
     "output_type": "stream",
     "text": [
      "[I 2024-12-27 16:57:25,955] Trial 55 finished with value: 0.18127683394198996 and parameters: {'max_depth': 12, 'min_samples_leaf': 50}. Best is trial 56 with value: 0.21425293785437508.\n"
     ]
    },
    {
     "name": "stdout",
     "output_type": "stream",
     "text": [
      "Cross validation F1-scores: [0.20418581 0.18619934 0.18134715 0.16112084 0.17353103]\n",
      "Average F1-score: 0.18127683394198996\n"
     ]
    },
    {
     "name": "stderr",
     "output_type": "stream",
     "text": [
      "[I 2024-12-27 16:57:29,279] Trial 57 finished with value: 0.19801287654513142 and parameters: {'max_depth': 10, 'min_samples_leaf': 48}. Best is trial 56 with value: 0.21425293785437508.\n"
     ]
    },
    {
     "name": "stdout",
     "output_type": "stream",
     "text": [
      "Cross validation F1-scores: [0.2169238  0.19357798 0.19650067 0.18746965 0.19559229]\n",
      "Average F1-score: 0.19801287654513142\n"
     ]
    },
    {
     "name": "stderr",
     "output_type": "stream",
     "text": [
      "[I 2024-12-27 16:57:32,507] Trial 58 finished with value: 0.18289843046232201 and parameters: {'max_depth': 12, 'min_samples_leaf': 48}. Best is trial 56 with value: 0.21425293785437508.\n"
     ]
    },
    {
     "name": "stdout",
     "output_type": "stream",
     "text": [
      "Cross validation F1-scores: [0.19926199 0.17716115 0.18799788 0.17459429 0.17547684]\n",
      "Average F1-score: 0.18289843046232201\n"
     ]
    },
    {
     "name": "stderr",
     "output_type": "stream",
     "text": [
      "[I 2024-12-27 16:57:34,234] Trial 59 finished with value: 0.18289843046232201 and parameters: {'max_depth': 12, 'min_samples_leaf': 48}. Best is trial 56 with value: 0.21425293785437508.\n"
     ]
    },
    {
     "name": "stdout",
     "output_type": "stream",
     "text": [
      "Cross validation F1-scores: [0.19926199 0.17716115 0.18799788 0.17459429 0.17547684]\n",
      "Average F1-score: 0.18289843046232201\n"
     ]
    },
    {
     "name": "stderr",
     "output_type": "stream",
     "text": [
      "[I 2024-12-27 16:57:34,464] Trial 60 finished with value: 0.18289843046232201 and parameters: {'max_depth': 12, 'min_samples_leaf': 48}. Best is trial 56 with value: 0.21425293785437508.\n"
     ]
    },
    {
     "name": "stdout",
     "output_type": "stream",
     "text": [
      "Cross validation F1-scores: [0.19926199 0.17716115 0.18799788 0.17459429 0.17547684]\n",
      "Average F1-score: 0.18289843046232201\n"
     ]
    },
    {
     "name": "stderr",
     "output_type": "stream",
     "text": [
      "[I 2024-12-27 16:57:34,940] Trial 61 finished with value: 0.18289843046232201 and parameters: {'max_depth': 12, 'min_samples_leaf': 48}. Best is trial 56 with value: 0.21425293785437508.\n"
     ]
    },
    {
     "name": "stdout",
     "output_type": "stream",
     "text": [
      "Cross validation F1-scores: [0.19926199 0.17716115 0.18799788 0.17459429 0.17547684]\n",
      "Average F1-score: 0.18289843046232201\n"
     ]
    },
    {
     "name": "stderr",
     "output_type": "stream",
     "text": [
      "[I 2024-12-27 16:57:37,021] Trial 62 finished with value: 0.18289843046232201 and parameters: {'max_depth': 12, 'min_samples_leaf': 48}. Best is trial 56 with value: 0.21425293785437508.\n"
     ]
    },
    {
     "name": "stdout",
     "output_type": "stream",
     "text": [
      "Cross validation F1-scores: [0.19926199 0.17716115 0.18799788 0.17459429 0.17547684]\n",
      "Average F1-score: 0.18289843046232201\n"
     ]
    },
    {
     "name": "stderr",
     "output_type": "stream",
     "text": [
      "[I 2024-12-27 16:57:52,672] Trial 63 finished with value: 0.14037672990531325 and parameters: {'max_depth': 22, 'min_samples_leaf': 48}. Best is trial 56 with value: 0.21425293785437508.\n",
      "[I 2024-12-27 16:57:52,823] Trial 65 finished with value: 0.18289843046232201 and parameters: {'max_depth': 12, 'min_samples_leaf': 48}. Best is trial 56 with value: 0.21425293785437508.\n"
     ]
    },
    {
     "name": "stdout",
     "output_type": "stream",
     "text": [
      "Cross validation F1-scores: [0.15281501 0.13306452 0.14206897 0.1331484  0.14078675]\n",
      "Average F1-score: 0.14037672990531325\n",
      "Cross validation F1-scores: [0.19926199 0.17716115 0.18799788 0.17459429 0.17547684]\n",
      "Average F1-score: 0.18289843046232201\n"
     ]
    },
    {
     "name": "stderr",
     "output_type": "stream",
     "text": [
      "[I 2024-12-27 16:57:53,013] Trial 66 finished with value: 0.19801287654513142 and parameters: {'max_depth': 10, 'min_samples_leaf': 48}. Best is trial 56 with value: 0.21425293785437508.\n"
     ]
    },
    {
     "name": "stdout",
     "output_type": "stream",
     "text": [
      "Cross validation F1-scores: [0.2169238  0.19357798 0.19650067 0.18746965 0.19559229]\n",
      "Average F1-score: 0.19801287654513142\n"
     ]
    },
    {
     "name": "stderr",
     "output_type": "stream",
     "text": [
      "[I 2024-12-27 16:57:53,927] Trial 64 finished with value: 0.13990952438537319 and parameters: {'max_depth': 24, 'min_samples_leaf': 48}. Best is trial 56 with value: 0.21425293785437508.\n"
     ]
    },
    {
     "name": "stdout",
     "output_type": "stream",
     "text": [
      "Cross validation F1-scores: [0.15161503 0.12938005 0.14285714 0.13453537 0.14116003]\n",
      "Average F1-score: 0.13990952438537319\n"
     ]
    },
    {
     "name": "stderr",
     "output_type": "stream",
     "text": [
      "[I 2024-12-27 16:58:01,327] Trial 68 finished with value: 0.19638417386316634 and parameters: {'max_depth': 10, 'min_samples_leaf': 46}. Best is trial 56 with value: 0.21425293785437508.\n"
     ]
    },
    {
     "name": "stdout",
     "output_type": "stream",
     "text": [
      "Cross validation F1-scores: [0.21629084 0.19340262 0.19540747 0.19191427 0.18490566]\n",
      "Average F1-score: 0.19638417386316634\n"
     ]
    },
    {
     "name": "stderr",
     "output_type": "stream",
     "text": [
      "[I 2024-12-27 16:58:08,466] Trial 67 finished with value: 0.13990952438537319 and parameters: {'max_depth': 24, 'min_samples_leaf': 48}. Best is trial 56 with value: 0.21425293785437508.\n"
     ]
    },
    {
     "name": "stdout",
     "output_type": "stream",
     "text": [
      "Cross validation F1-scores: [0.15161503 0.12938005 0.14285714 0.13453537 0.14116003]\n",
      "Average F1-score: 0.13990952438537319\n"
     ]
    },
    {
     "name": "stderr",
     "output_type": "stream",
     "text": [
      "[I 2024-12-27 16:58:09,579] Trial 72 finished with value: 0.1966960691243608 and parameters: {'max_depth': 10, 'min_samples_leaf': 56}. Best is trial 56 with value: 0.21425293785437508.\n"
     ]
    },
    {
     "name": "stdout",
     "output_type": "stream",
     "text": [
      "Cross validation F1-scores: [0.21180712 0.19561243 0.19703104 0.1871969  0.19183286]\n",
      "Average F1-score: 0.1966960691243608\n"
     ]
    },
    {
     "name": "stderr",
     "output_type": "stream",
     "text": [
      "[I 2024-12-27 16:58:12,413] Trial 74 finished with value: 0.1966960691243608 and parameters: {'max_depth': 10, 'min_samples_leaf': 56}. Best is trial 56 with value: 0.21425293785437508.\n"
     ]
    },
    {
     "name": "stdout",
     "output_type": "stream",
     "text": [
      "Cross validation F1-scores: [0.21180712 0.19561243 0.19703104 0.1871969  0.19183286]\n",
      "Average F1-score: 0.1966960691243608\n"
     ]
    },
    {
     "name": "stderr",
     "output_type": "stream",
     "text": [
      "[I 2024-12-27 16:58:13,086] Trial 77 finished with value: 0.20757440804066948 and parameters: {'max_depth': 4, 'min_samples_leaf': 44}. Best is trial 56 with value: 0.21425293785437508.\n"
     ]
    },
    {
     "name": "stdout",
     "output_type": "stream",
     "text": [
      "Cross validation F1-scores: [0.20961829 0.20703934 0.21052632 0.21142451 0.19926359]\n",
      "Average F1-score: 0.20757440804066948\n"
     ]
    },
    {
     "name": "stderr",
     "output_type": "stream",
     "text": [
      "[I 2024-12-27 16:58:13,892] Trial 69 finished with value: 0.1388103971745935 and parameters: {'max_depth': 24, 'min_samples_leaf': 46}. Best is trial 56 with value: 0.21425293785437508.\n"
     ]
    },
    {
     "name": "stdout",
     "output_type": "stream",
     "text": [
      "Cross validation F1-scores: [0.14178596 0.12863913 0.13753582 0.14173228 0.14435879]\n",
      "Average F1-score: 0.1388103971745935\n"
     ]
    },
    {
     "name": "stderr",
     "output_type": "stream",
     "text": [
      "[I 2024-12-27 16:58:14,268] Trial 78 finished with value: 0.20719542628333257 and parameters: {'max_depth': 4, 'min_samples_leaf': 56}. Best is trial 56 with value: 0.21425293785437508.\n"
     ]
    },
    {
     "name": "stdout",
     "output_type": "stream",
     "text": [
      "Cross validation F1-scores: [0.20913618 0.20708698 0.2095151  0.21110281 0.19913607]\n",
      "Average F1-score: 0.20719542628333257\n"
     ]
    },
    {
     "name": "stderr",
     "output_type": "stream",
     "text": [
      "[I 2024-12-27 16:58:17,042] Trial 70 finished with value: 0.13606269777745572 and parameters: {'max_depth': 22, 'min_samples_leaf': 46}. Best is trial 56 with value: 0.21425293785437508.\n"
     ]
    },
    {
     "name": "stdout",
     "output_type": "stream",
     "text": [
      "Cross validation F1-scores: [0.13950276 0.13055182 0.13484741 0.13275613 0.14265537]\n",
      "Average F1-score: 0.13606269777745572\n"
     ]
    },
    {
     "name": "stderr",
     "output_type": "stream",
     "text": [
      "[I 2024-12-27 16:58:18,447] Trial 73 finished with value: 0.14741163306697186 and parameters: {'max_depth': 24, 'min_samples_leaf': 56}. Best is trial 56 with value: 0.21425293785437508.\n"
     ]
    },
    {
     "name": "stdout",
     "output_type": "stream",
     "text": [
      "Cross validation F1-scores: [0.16141732 0.1309138  0.15292553 0.14032698 0.15147453]\n",
      "Average F1-score: 0.14741163306697186\n"
     ]
    },
    {
     "name": "stderr",
     "output_type": "stream",
     "text": [
      "[I 2024-12-27 16:58:19,301] Trial 71 finished with value: 0.1388103971745935 and parameters: {'max_depth': 24, 'min_samples_leaf': 46}. Best is trial 56 with value: 0.21425293785437508.\n"
     ]
    },
    {
     "name": "stdout",
     "output_type": "stream",
     "text": [
      "Cross validation F1-scores: [0.14178596 0.12863913 0.13753582 0.14173228 0.14435879]\n",
      "Average F1-score: 0.1388103971745935\n"
     ]
    },
    {
     "name": "stderr",
     "output_type": "stream",
     "text": [
      "[I 2024-12-27 16:58:22,299] Trial 79 finished with value: 0.20719542628333257 and parameters: {'max_depth': 4, 'min_samples_leaf': 56}. Best is trial 56 with value: 0.21425293785437508.\n"
     ]
    },
    {
     "name": "stdout",
     "output_type": "stream",
     "text": [
      "Cross validation F1-scores: [0.20913618 0.20708698 0.2095151  0.21110281 0.19913607]\n",
      "Average F1-score: 0.20719542628333257\n"
     ]
    },
    {
     "name": "stderr",
     "output_type": "stream",
     "text": [
      "[I 2024-12-27 16:58:29,088] Trial 75 finished with value: 0.1966960691243608 and parameters: {'max_depth': 10, 'min_samples_leaf': 56}. Best is trial 56 with value: 0.21425293785437508.\n"
     ]
    },
    {
     "name": "stdout",
     "output_type": "stream",
     "text": [
      "Cross validation F1-scores: [0.21180712 0.19561243 0.19703104 0.1871969  0.19183286]\n",
      "Average F1-score: 0.1966960691243608\n"
     ]
    },
    {
     "name": "stderr",
     "output_type": "stream",
     "text": [
      "[I 2024-12-27 16:58:29,711] Trial 76 finished with value: 0.1966960691243608 and parameters: {'max_depth': 10, 'min_samples_leaf': 56}. Best is trial 56 with value: 0.21425293785437508.\n"
     ]
    },
    {
     "name": "stdout",
     "output_type": "stream",
     "text": [
      "Cross validation F1-scores: [0.21180712 0.19561243 0.19703104 0.1871969  0.19183286]\n",
      "Average F1-score: 0.1966960691243608\n"
     ]
    },
    {
     "name": "stderr",
     "output_type": "stream",
     "text": [
      "[I 2024-12-27 16:58:30,364] Trial 80 finished with value: 0.20719542628333257 and parameters: {'max_depth': 4, 'min_samples_leaf': 56}. Best is trial 56 with value: 0.21425293785437508.\n"
     ]
    },
    {
     "name": "stdout",
     "output_type": "stream",
     "text": [
      "Cross validation F1-scores: [0.20913618 0.20708698 0.2095151  0.21110281 0.19913607]\n",
      "Average F1-score: 0.20719542628333257\n"
     ]
    },
    {
     "name": "stderr",
     "output_type": "stream",
     "text": [
      "[I 2024-12-27 16:58:31,358] Trial 81 finished with value: 0.20719542628333257 and parameters: {'max_depth': 4, 'min_samples_leaf': 56}. Best is trial 56 with value: 0.21425293785437508.\n"
     ]
    },
    {
     "name": "stdout",
     "output_type": "stream",
     "text": [
      "Cross validation F1-scores: [0.20913618 0.20708698 0.2095151  0.21110281 0.19913607]\n",
      "Average F1-score: 0.20719542628333257\n"
     ]
    },
    {
     "name": "stderr",
     "output_type": "stream",
     "text": [
      "[I 2024-12-27 16:58:34,431] Trial 82 finished with value: 0.20725718834705403 and parameters: {'max_depth': 4, 'min_samples_leaf': 52}. Best is trial 56 with value: 0.21425293785437508.\n"
     ]
    },
    {
     "name": "stdout",
     "output_type": "stream",
     "text": [
      "Cross validation F1-scores: [0.20861285 0.20716582 0.21013994 0.21156698 0.19880034]\n",
      "Average F1-score: 0.20725718834705403\n"
     ]
    },
    {
     "name": "stderr",
     "output_type": "stream",
     "text": [
      "[I 2024-12-27 16:58:35,054] Trial 83 finished with value: 0.20719542628333257 and parameters: {'max_depth': 4, 'min_samples_leaf': 56}. Best is trial 56 with value: 0.21425293785437508.\n"
     ]
    },
    {
     "name": "stdout",
     "output_type": "stream",
     "text": [
      "Cross validation F1-scores: [0.20913618 0.20708698 0.2095151  0.21110281 0.19913607]\n",
      "Average F1-score: 0.20719542628333257\n"
     ]
    },
    {
     "name": "stderr",
     "output_type": "stream",
     "text": [
      "[I 2024-12-27 16:58:36,215] Trial 84 finished with value: 0.20725718834705403 and parameters: {'max_depth': 4, 'min_samples_leaf': 52}. Best is trial 56 with value: 0.21425293785437508.\n"
     ]
    },
    {
     "name": "stdout",
     "output_type": "stream",
     "text": [
      "Cross validation F1-scores: [0.20861285 0.20716582 0.21013994 0.21156698 0.19880034]\n",
      "Average F1-score: 0.20725718834705403\n"
     ]
    },
    {
     "name": "stderr",
     "output_type": "stream",
     "text": [
      "[I 2024-12-27 16:58:36,665] Trial 85 finished with value: 0.20725718834705403 and parameters: {'max_depth': 4, 'min_samples_leaf': 52}. Best is trial 56 with value: 0.21425293785437508.\n"
     ]
    },
    {
     "name": "stdout",
     "output_type": "stream",
     "text": [
      "Cross validation F1-scores: [0.20861285 0.20716582 0.21013994 0.21156698 0.19880034]\n",
      "Average F1-score: 0.20725718834705403\n"
     ]
    },
    {
     "name": "stderr",
     "output_type": "stream",
     "text": [
      "[I 2024-12-27 16:58:38,804] Trial 86 finished with value: 0.20725718834705403 and parameters: {'max_depth': 4, 'min_samples_leaf': 52}. Best is trial 56 with value: 0.21425293785437508.\n"
     ]
    },
    {
     "name": "stdout",
     "output_type": "stream",
     "text": [
      "Cross validation F1-scores: [0.20861285 0.20716582 0.21013994 0.21156698 0.19880034]\n",
      "Average F1-score: 0.20725718834705403\n"
     ]
    },
    {
     "name": "stderr",
     "output_type": "stream",
     "text": [
      "[I 2024-12-27 16:58:40,422] Trial 87 finished with value: 0.20725718834705403 and parameters: {'max_depth': 4, 'min_samples_leaf': 52}. Best is trial 56 with value: 0.21425293785437508.\n"
     ]
    },
    {
     "name": "stdout",
     "output_type": "stream",
     "text": [
      "Cross validation F1-scores: [0.20861285 0.20716582 0.21013994 0.21156698 0.19880034]\n",
      "Average F1-score: 0.20725718834705403\n"
     ]
    },
    {
     "name": "stderr",
     "output_type": "stream",
     "text": [
      "[I 2024-12-27 16:58:41,430] Trial 88 finished with value: 0.20725718834705403 and parameters: {'max_depth': 4, 'min_samples_leaf': 52}. Best is trial 56 with value: 0.21425293785437508.\n"
     ]
    },
    {
     "name": "stdout",
     "output_type": "stream",
     "text": [
      "Cross validation F1-scores: [0.20861285 0.20716582 0.21013994 0.21156698 0.19880034]\n",
      "Average F1-score: 0.20725718834705403\n"
     ]
    },
    {
     "name": "stderr",
     "output_type": "stream",
     "text": [
      "[I 2024-12-27 16:58:49,785] Trial 89 finished with value: 0.21257096215799845 and parameters: {'max_depth': 6, 'min_samples_leaf': 52}. Best is trial 56 with value: 0.21425293785437508.\n"
     ]
    },
    {
     "name": "stdout",
     "output_type": "stream",
     "text": [
      "Cross validation F1-scores: [0.22275164 0.21213009 0.21403302 0.21096544 0.20297463]\n",
      "Average F1-score: 0.21257096215799845\n"
     ]
    },
    {
     "name": "stderr",
     "output_type": "stream",
     "text": [
      "[I 2024-12-27 16:58:55,885] Trial 90 finished with value: 0.21257096215799845 and parameters: {'max_depth': 6, 'min_samples_leaf': 52}. Best is trial 56 with value: 0.21425293785437508.\n",
      "[I 2024-12-27 16:58:55,980] Trial 91 finished with value: 0.21257096215799845 and parameters: {'max_depth': 6, 'min_samples_leaf': 52}. Best is trial 56 with value: 0.21425293785437508.\n"
     ]
    },
    {
     "name": "stdout",
     "output_type": "stream",
     "text": [
      "Cross validation F1-scores: [0.22275164 0.21213009 0.21403302 0.21096544 0.20297463]\n",
      "Average F1-score: 0.21257096215799845\n",
      "Cross validation F1-scores: [0.22275164 0.21213009 0.21403302 0.21096544 0.20297463]\n",
      "Average F1-score: 0.21257096215799845\n"
     ]
    },
    {
     "name": "stderr",
     "output_type": "stream",
     "text": [
      "[I 2024-12-27 16:58:56,837] Trial 92 finished with value: 0.21257096215799845 and parameters: {'max_depth': 6, 'min_samples_leaf': 52}. Best is trial 56 with value: 0.21425293785437508.\n"
     ]
    },
    {
     "name": "stdout",
     "output_type": "stream",
     "text": [
      "Cross validation F1-scores: [0.22275164 0.21213009 0.21403302 0.21096544 0.20297463]\n",
      "Average F1-score: 0.21257096215799845\n"
     ]
    },
    {
     "name": "stderr",
     "output_type": "stream",
     "text": [
      "[I 2024-12-27 16:58:57,148] Trial 93 finished with value: 0.21257096215799845 and parameters: {'max_depth': 6, 'min_samples_leaf': 52}. Best is trial 56 with value: 0.21425293785437508.\n"
     ]
    },
    {
     "name": "stdout",
     "output_type": "stream",
     "text": [
      "Cross validation F1-scores: [0.22275164 0.21213009 0.21403302 0.21096544 0.20297463]\n",
      "Average F1-score: 0.21257096215799845\n"
     ]
    },
    {
     "name": "stderr",
     "output_type": "stream",
     "text": [
      "[I 2024-12-27 16:58:59,012] Trial 94 finished with value: 0.21257096215799845 and parameters: {'max_depth': 6, 'min_samples_leaf': 52}. Best is trial 56 with value: 0.21425293785437508.\n"
     ]
    },
    {
     "name": "stdout",
     "output_type": "stream",
     "text": [
      "Cross validation F1-scores: [0.22275164 0.21213009 0.21403302 0.21096544 0.20297463]\n",
      "Average F1-score: 0.21257096215799845\n"
     ]
    },
    {
     "name": "stderr",
     "output_type": "stream",
     "text": [
      "[I 2024-12-27 16:58:59,464] Trial 95 finished with value: 0.21257096215799845 and parameters: {'max_depth': 6, 'min_samples_leaf': 52}. Best is trial 56 with value: 0.21425293785437508.\n"
     ]
    },
    {
     "name": "stdout",
     "output_type": "stream",
     "text": [
      "Cross validation F1-scores: [0.22275164 0.21213009 0.21403302 0.21096544 0.20297463]\n",
      "Average F1-score: 0.21257096215799845\n"
     ]
    },
    {
     "name": "stderr",
     "output_type": "stream",
     "text": [
      "[I 2024-12-27 16:59:00,209] Trial 96 finished with value: 0.21072568415029647 and parameters: {'max_depth': 6, 'min_samples_leaf': 28}. Best is trial 56 with value: 0.21425293785437508.\n",
      "[I 2024-12-27 16:59:00,362] Trial 97 finished with value: 0.21176074102962206 and parameters: {'max_depth': 6, 'min_samples_leaf': 2}. Best is trial 56 with value: 0.21425293785437508.\n"
     ]
    },
    {
     "name": "stdout",
     "output_type": "stream",
     "text": [
      "Cross validation F1-scores: [0.21993127 0.21411043 0.20996341 0.21023256 0.19939075]\n",
      "Average F1-score: 0.21072568415029647\n",
      "Cross validation F1-scores: [0.22040124 0.21376706 0.21264724 0.20987654 0.20211161]\n",
      "Average F1-score: 0.21176074102962206\n"
     ]
    },
    {
     "name": "stderr",
     "output_type": "stream",
     "text": [
      "[I 2024-12-27 16:59:01,611] Trial 98 finished with value: 0.21425293785437508 and parameters: {'max_depth': 6, 'min_samples_leaf': 50}. Best is trial 56 with value: 0.21425293785437508.\n"
     ]
    },
    {
     "name": "stdout",
     "output_type": "stream",
     "text": [
      "Cross validation F1-scores: [0.22398124 0.21422351 0.21435228 0.21087021 0.20783745]\n",
      "Average F1-score: 0.21425293785437508\n"
     ]
    },
    {
     "name": "stderr",
     "output_type": "stream",
     "text": [
      "[I 2024-12-27 16:59:01,936] Trial 99 finished with value: 0.21160755956117172 and parameters: {'max_depth': 6, 'min_samples_leaf': 60}. Best is trial 56 with value: 0.21425293785437508.\n"
     ]
    },
    {
     "name": "stdout",
     "output_type": "stream",
     "text": [
      "Cross validation F1-scores: [0.21706326 0.2109174  0.21643664 0.21115419 0.2024663 ]\n",
      "Average F1-score: 0.21160755956117172\n"
     ]
    }
   ],
   "source": [
    "study.optimize(\n",
    "    objective,\n",
    "    n_trials=100,\n",
    "    n_jobs=-1 # Use all available cores\n",
    ")"
   ]
  },
  {
   "cell_type": "code",
   "execution_count": 97,
   "metadata": {},
   "outputs": [
    {
     "name": "stdout",
     "output_type": "stream",
     "text": [
      "Best Trial: 56\n",
      "Best Parameters: {'max_depth': 6, 'min_samples_leaf': 50}\n",
      "Best Value: 0.21425293785437508\n"
     ]
    }
   ],
   "source": [
    "print('Best Trial: {}'.format(study.best_trial.number))\n",
    "print('Best Parameters: {}'.format(study.best_params))\n",
    "print('Best Value: {}'.format(study.best_value))"
   ]
  },
  {
   "cell_type": "markdown",
   "metadata": {},
   "source": [
    "### 3.3 Optuna Visualizations\n",
    "Visualizing hyper-parameter tuning results obtained by running Optuna."
   ]
  },
  {
   "cell_type": "code",
   "execution_count": 98,
   "metadata": {},
   "outputs": [
    {
     "data": {
      "application/vnd.plotly.v1+json": {
       "config": {
        "plotlyServerURL": "https://plot.ly"
       },
       "data": [
        {
         "mode": "markers",
         "name": "Objective Value",
         "type": "scatter",
         "x": [
          0,
          1,
          2,
          3,
          4,
          5,
          6,
          7,
          8,
          9,
          10,
          11,
          12,
          13,
          14,
          15,
          16,
          17,
          18,
          19,
          20,
          21,
          22,
          23,
          24,
          25,
          26,
          27,
          28,
          29,
          30,
          31,
          32,
          33,
          34,
          35,
          36,
          37,
          38,
          39,
          40,
          41,
          42,
          43,
          44,
          45,
          46,
          47,
          48,
          49,
          50,
          51,
          52,
          53,
          54,
          55,
          56,
          57,
          58,
          59,
          60,
          61,
          62,
          63,
          64,
          65,
          66,
          67,
          68,
          69,
          70,
          71,
          72,
          73,
          74,
          75,
          76,
          77,
          78,
          79,
          80,
          81,
          82,
          83,
          84,
          85,
          86,
          87,
          88,
          89,
          90,
          91,
          92,
          93,
          94,
          95,
          96,
          97,
          98,
          99
         ],
         "y": [
          0.18412085401949496,
          0.10182315759829152,
          0.114336260184603,
          0.1473723511823698,
          0.16655986834073938,
          0.12693043483991379,
          0.08074517778084345,
          0.055373011327521336,
          0.13779744280687428,
          0.13777527253161956,
          0.05756786548738698,
          0.09805668196281353,
          0.1352999859710454,
          0.21118333127958522,
          0.19386443191278085,
          0.16946497005235944,
          0.10761824808325546,
          0.21239382007590163,
          0.14298445196152776,
          0.11618946375519963,
          0.2070863212231792,
          0.2074517587464924,
          0.2120317992201884,
          0.21160755956117172,
          0.2074517587464924,
          0.2075836899215105,
          0.20793501822770305,
          0.20928618901404125,
          0.20826312178255982,
          0.20826312178255982,
          0.2084723067201651,
          0.2084723067201651,
          0.21253846030101647,
          0.20944390248013,
          0.20944390248013,
          0.21038332082857963,
          0.21038332082857963,
          0.20944390248013,
          0.20944390248013,
          0.20944390248013,
          0.21253846030101647,
          0.1959852477286212,
          0.21253846030101647,
          0.21253846030101647,
          0.21253846030101647,
          0.21253846030101647,
          0.21253846030101647,
          0.2106428541096022,
          0.2106428541096022,
          0.2106428541096022,
          0.2114033510183778,
          0.21081279711590387,
          0.2106428541096022,
          0.18127683394198996,
          0.21030079391938314,
          0.18127683394198996,
          0.21425293785437508,
          0.19801287654513142,
          0.18289843046232201,
          0.18289843046232201,
          0.18289843046232201,
          0.18289843046232201,
          0.18289843046232201,
          0.14037672990531325,
          0.13990952438537319,
          0.18289843046232201,
          0.19801287654513142,
          0.13990952438537319,
          0.19638417386316634,
          0.1388103971745935,
          0.13606269777745572,
          0.1388103971745935,
          0.1966960691243608,
          0.14741163306697186,
          0.1966960691243608,
          0.1966960691243608,
          0.1966960691243608,
          0.20757440804066948,
          0.20719542628333257,
          0.20719542628333257,
          0.20719542628333257,
          0.20719542628333257,
          0.20725718834705403,
          0.20719542628333257,
          0.20725718834705403,
          0.20725718834705403,
          0.20725718834705403,
          0.20725718834705403,
          0.20725718834705403,
          0.21257096215799845,
          0.21257096215799845,
          0.21257096215799845,
          0.21257096215799845,
          0.21257096215799845,
          0.21257096215799845,
          0.21257096215799845,
          0.21072568415029647,
          0.21176074102962206,
          0.21425293785437508,
          0.21160755956117172
         ]
        },
        {
         "mode": "lines",
         "name": "Best Value",
         "type": "scatter",
         "x": [
          0,
          1,
          2,
          3,
          4,
          5,
          6,
          7,
          8,
          9,
          10,
          11,
          12,
          13,
          14,
          15,
          16,
          17,
          18,
          19,
          20,
          21,
          22,
          23,
          24,
          25,
          26,
          27,
          28,
          29,
          30,
          31,
          32,
          33,
          34,
          35,
          36,
          37,
          38,
          39,
          40,
          41,
          42,
          43,
          44,
          45,
          46,
          47,
          48,
          49,
          50,
          51,
          52,
          53,
          54,
          55,
          56,
          57,
          58,
          59,
          60,
          61,
          62,
          63,
          64,
          65,
          66,
          67,
          68,
          69,
          70,
          71,
          72,
          73,
          74,
          75,
          76,
          77,
          78,
          79,
          80,
          81,
          82,
          83,
          84,
          85,
          86,
          87,
          88,
          89,
          90,
          91,
          92,
          93,
          94,
          95,
          96,
          97,
          98,
          99
         ],
         "y": [
          0.18412085401949496,
          0.18412085401949496,
          0.18412085401949496,
          0.18412085401949496,
          0.18412085401949496,
          0.18412085401949496,
          0.18412085401949496,
          0.18412085401949496,
          0.18412085401949496,
          0.18412085401949496,
          0.18412085401949496,
          0.18412085401949496,
          0.18412085401949496,
          0.21118333127958522,
          0.21118333127958522,
          0.21118333127958522,
          0.21118333127958522,
          0.21239382007590163,
          0.21239382007590163,
          0.21239382007590163,
          0.21239382007590163,
          0.21239382007590163,
          0.21239382007590163,
          0.21239382007590163,
          0.21239382007590163,
          0.21239382007590163,
          0.21239382007590163,
          0.21239382007590163,
          0.21239382007590163,
          0.21239382007590163,
          0.21239382007590163,
          0.21239382007590163,
          0.21253846030101647,
          0.21253846030101647,
          0.21253846030101647,
          0.21253846030101647,
          0.21253846030101647,
          0.21253846030101647,
          0.21253846030101647,
          0.21253846030101647,
          0.21253846030101647,
          0.21253846030101647,
          0.21253846030101647,
          0.21253846030101647,
          0.21253846030101647,
          0.21253846030101647,
          0.21253846030101647,
          0.21253846030101647,
          0.21253846030101647,
          0.21253846030101647,
          0.21253846030101647,
          0.21253846030101647,
          0.21253846030101647,
          0.21253846030101647,
          0.21253846030101647,
          0.21253846030101647,
          0.21425293785437508,
          0.21425293785437508,
          0.21425293785437508,
          0.21425293785437508,
          0.21425293785437508,
          0.21425293785437508,
          0.21425293785437508,
          0.21425293785437508,
          0.21425293785437508,
          0.21425293785437508,
          0.21425293785437508,
          0.21425293785437508,
          0.21425293785437508,
          0.21425293785437508,
          0.21425293785437508,
          0.21425293785437508,
          0.21425293785437508,
          0.21425293785437508,
          0.21425293785437508,
          0.21425293785437508,
          0.21425293785437508,
          0.21425293785437508,
          0.21425293785437508,
          0.21425293785437508,
          0.21425293785437508,
          0.21425293785437508,
          0.21425293785437508,
          0.21425293785437508,
          0.21425293785437508,
          0.21425293785437508,
          0.21425293785437508,
          0.21425293785437508,
          0.21425293785437508,
          0.21425293785437508,
          0.21425293785437508,
          0.21425293785437508,
          0.21425293785437508,
          0.21425293785437508,
          0.21425293785437508,
          0.21425293785437508,
          0.21425293785437508,
          0.21425293785437508,
          0.21425293785437508,
          0.21425293785437508
         ]
        },
        {
         "marker": {
          "color": "#cccccc"
         },
         "mode": "markers",
         "name": "Infeasible Trial",
         "showlegend": false,
         "type": "scatter",
         "x": [],
         "y": []
        }
       ],
       "layout": {
        "template": {
         "data": {
          "bar": [
           {
            "error_x": {
             "color": "#2a3f5f"
            },
            "error_y": {
             "color": "#2a3f5f"
            },
            "marker": {
             "line": {
              "color": "#E5ECF6",
              "width": 0.5
             },
             "pattern": {
              "fillmode": "overlay",
              "size": 10,
              "solidity": 0.2
             }
            },
            "type": "bar"
           }
          ],
          "barpolar": [
           {
            "marker": {
             "line": {
              "color": "#E5ECF6",
              "width": 0.5
             },
             "pattern": {
              "fillmode": "overlay",
              "size": 10,
              "solidity": 0.2
             }
            },
            "type": "barpolar"
           }
          ],
          "carpet": [
           {
            "aaxis": {
             "endlinecolor": "#2a3f5f",
             "gridcolor": "white",
             "linecolor": "white",
             "minorgridcolor": "white",
             "startlinecolor": "#2a3f5f"
            },
            "baxis": {
             "endlinecolor": "#2a3f5f",
             "gridcolor": "white",
             "linecolor": "white",
             "minorgridcolor": "white",
             "startlinecolor": "#2a3f5f"
            },
            "type": "carpet"
           }
          ],
          "choropleth": [
           {
            "colorbar": {
             "outlinewidth": 0,
             "ticks": ""
            },
            "type": "choropleth"
           }
          ],
          "contour": [
           {
            "colorbar": {
             "outlinewidth": 0,
             "ticks": ""
            },
            "colorscale": [
             [
              0,
              "#0d0887"
             ],
             [
              0.1111111111111111,
              "#46039f"
             ],
             [
              0.2222222222222222,
              "#7201a8"
             ],
             [
              0.3333333333333333,
              "#9c179e"
             ],
             [
              0.4444444444444444,
              "#bd3786"
             ],
             [
              0.5555555555555556,
              "#d8576b"
             ],
             [
              0.6666666666666666,
              "#ed7953"
             ],
             [
              0.7777777777777778,
              "#fb9f3a"
             ],
             [
              0.8888888888888888,
              "#fdca26"
             ],
             [
              1,
              "#f0f921"
             ]
            ],
            "type": "contour"
           }
          ],
          "contourcarpet": [
           {
            "colorbar": {
             "outlinewidth": 0,
             "ticks": ""
            },
            "type": "contourcarpet"
           }
          ],
          "heatmap": [
           {
            "colorbar": {
             "outlinewidth": 0,
             "ticks": ""
            },
            "colorscale": [
             [
              0,
              "#0d0887"
             ],
             [
              0.1111111111111111,
              "#46039f"
             ],
             [
              0.2222222222222222,
              "#7201a8"
             ],
             [
              0.3333333333333333,
              "#9c179e"
             ],
             [
              0.4444444444444444,
              "#bd3786"
             ],
             [
              0.5555555555555556,
              "#d8576b"
             ],
             [
              0.6666666666666666,
              "#ed7953"
             ],
             [
              0.7777777777777778,
              "#fb9f3a"
             ],
             [
              0.8888888888888888,
              "#fdca26"
             ],
             [
              1,
              "#f0f921"
             ]
            ],
            "type": "heatmap"
           }
          ],
          "heatmapgl": [
           {
            "colorbar": {
             "outlinewidth": 0,
             "ticks": ""
            },
            "colorscale": [
             [
              0,
              "#0d0887"
             ],
             [
              0.1111111111111111,
              "#46039f"
             ],
             [
              0.2222222222222222,
              "#7201a8"
             ],
             [
              0.3333333333333333,
              "#9c179e"
             ],
             [
              0.4444444444444444,
              "#bd3786"
             ],
             [
              0.5555555555555556,
              "#d8576b"
             ],
             [
              0.6666666666666666,
              "#ed7953"
             ],
             [
              0.7777777777777778,
              "#fb9f3a"
             ],
             [
              0.8888888888888888,
              "#fdca26"
             ],
             [
              1,
              "#f0f921"
             ]
            ],
            "type": "heatmapgl"
           }
          ],
          "histogram": [
           {
            "marker": {
             "pattern": {
              "fillmode": "overlay",
              "size": 10,
              "solidity": 0.2
             }
            },
            "type": "histogram"
           }
          ],
          "histogram2d": [
           {
            "colorbar": {
             "outlinewidth": 0,
             "ticks": ""
            },
            "colorscale": [
             [
              0,
              "#0d0887"
             ],
             [
              0.1111111111111111,
              "#46039f"
             ],
             [
              0.2222222222222222,
              "#7201a8"
             ],
             [
              0.3333333333333333,
              "#9c179e"
             ],
             [
              0.4444444444444444,
              "#bd3786"
             ],
             [
              0.5555555555555556,
              "#d8576b"
             ],
             [
              0.6666666666666666,
              "#ed7953"
             ],
             [
              0.7777777777777778,
              "#fb9f3a"
             ],
             [
              0.8888888888888888,
              "#fdca26"
             ],
             [
              1,
              "#f0f921"
             ]
            ],
            "type": "histogram2d"
           }
          ],
          "histogram2dcontour": [
           {
            "colorbar": {
             "outlinewidth": 0,
             "ticks": ""
            },
            "colorscale": [
             [
              0,
              "#0d0887"
             ],
             [
              0.1111111111111111,
              "#46039f"
             ],
             [
              0.2222222222222222,
              "#7201a8"
             ],
             [
              0.3333333333333333,
              "#9c179e"
             ],
             [
              0.4444444444444444,
              "#bd3786"
             ],
             [
              0.5555555555555556,
              "#d8576b"
             ],
             [
              0.6666666666666666,
              "#ed7953"
             ],
             [
              0.7777777777777778,
              "#fb9f3a"
             ],
             [
              0.8888888888888888,
              "#fdca26"
             ],
             [
              1,
              "#f0f921"
             ]
            ],
            "type": "histogram2dcontour"
           }
          ],
          "mesh3d": [
           {
            "colorbar": {
             "outlinewidth": 0,
             "ticks": ""
            },
            "type": "mesh3d"
           }
          ],
          "parcoords": [
           {
            "line": {
             "colorbar": {
              "outlinewidth": 0,
              "ticks": ""
             }
            },
            "type": "parcoords"
           }
          ],
          "pie": [
           {
            "automargin": true,
            "type": "pie"
           }
          ],
          "scatter": [
           {
            "fillpattern": {
             "fillmode": "overlay",
             "size": 10,
             "solidity": 0.2
            },
            "type": "scatter"
           }
          ],
          "scatter3d": [
           {
            "line": {
             "colorbar": {
              "outlinewidth": 0,
              "ticks": ""
             }
            },
            "marker": {
             "colorbar": {
              "outlinewidth": 0,
              "ticks": ""
             }
            },
            "type": "scatter3d"
           }
          ],
          "scattercarpet": [
           {
            "marker": {
             "colorbar": {
              "outlinewidth": 0,
              "ticks": ""
             }
            },
            "type": "scattercarpet"
           }
          ],
          "scattergeo": [
           {
            "marker": {
             "colorbar": {
              "outlinewidth": 0,
              "ticks": ""
             }
            },
            "type": "scattergeo"
           }
          ],
          "scattergl": [
           {
            "marker": {
             "colorbar": {
              "outlinewidth": 0,
              "ticks": ""
             }
            },
            "type": "scattergl"
           }
          ],
          "scattermapbox": [
           {
            "marker": {
             "colorbar": {
              "outlinewidth": 0,
              "ticks": ""
             }
            },
            "type": "scattermapbox"
           }
          ],
          "scatterpolar": [
           {
            "marker": {
             "colorbar": {
              "outlinewidth": 0,
              "ticks": ""
             }
            },
            "type": "scatterpolar"
           }
          ],
          "scatterpolargl": [
           {
            "marker": {
             "colorbar": {
              "outlinewidth": 0,
              "ticks": ""
             }
            },
            "type": "scatterpolargl"
           }
          ],
          "scatterternary": [
           {
            "marker": {
             "colorbar": {
              "outlinewidth": 0,
              "ticks": ""
             }
            },
            "type": "scatterternary"
           }
          ],
          "surface": [
           {
            "colorbar": {
             "outlinewidth": 0,
             "ticks": ""
            },
            "colorscale": [
             [
              0,
              "#0d0887"
             ],
             [
              0.1111111111111111,
              "#46039f"
             ],
             [
              0.2222222222222222,
              "#7201a8"
             ],
             [
              0.3333333333333333,
              "#9c179e"
             ],
             [
              0.4444444444444444,
              "#bd3786"
             ],
             [
              0.5555555555555556,
              "#d8576b"
             ],
             [
              0.6666666666666666,
              "#ed7953"
             ],
             [
              0.7777777777777778,
              "#fb9f3a"
             ],
             [
              0.8888888888888888,
              "#fdca26"
             ],
             [
              1,
              "#f0f921"
             ]
            ],
            "type": "surface"
           }
          ],
          "table": [
           {
            "cells": {
             "fill": {
              "color": "#EBF0F8"
             },
             "line": {
              "color": "white"
             }
            },
            "header": {
             "fill": {
              "color": "#C8D4E3"
             },
             "line": {
              "color": "white"
             }
            },
            "type": "table"
           }
          ]
         },
         "layout": {
          "annotationdefaults": {
           "arrowcolor": "#2a3f5f",
           "arrowhead": 0,
           "arrowwidth": 1
          },
          "autotypenumbers": "strict",
          "coloraxis": {
           "colorbar": {
            "outlinewidth": 0,
            "ticks": ""
           }
          },
          "colorscale": {
           "diverging": [
            [
             0,
             "#8e0152"
            ],
            [
             0.1,
             "#c51b7d"
            ],
            [
             0.2,
             "#de77ae"
            ],
            [
             0.3,
             "#f1b6da"
            ],
            [
             0.4,
             "#fde0ef"
            ],
            [
             0.5,
             "#f7f7f7"
            ],
            [
             0.6,
             "#e6f5d0"
            ],
            [
             0.7,
             "#b8e186"
            ],
            [
             0.8,
             "#7fbc41"
            ],
            [
             0.9,
             "#4d9221"
            ],
            [
             1,
             "#276419"
            ]
           ],
           "sequential": [
            [
             0,
             "#0d0887"
            ],
            [
             0.1111111111111111,
             "#46039f"
            ],
            [
             0.2222222222222222,
             "#7201a8"
            ],
            [
             0.3333333333333333,
             "#9c179e"
            ],
            [
             0.4444444444444444,
             "#bd3786"
            ],
            [
             0.5555555555555556,
             "#d8576b"
            ],
            [
             0.6666666666666666,
             "#ed7953"
            ],
            [
             0.7777777777777778,
             "#fb9f3a"
            ],
            [
             0.8888888888888888,
             "#fdca26"
            ],
            [
             1,
             "#f0f921"
            ]
           ],
           "sequentialminus": [
            [
             0,
             "#0d0887"
            ],
            [
             0.1111111111111111,
             "#46039f"
            ],
            [
             0.2222222222222222,
             "#7201a8"
            ],
            [
             0.3333333333333333,
             "#9c179e"
            ],
            [
             0.4444444444444444,
             "#bd3786"
            ],
            [
             0.5555555555555556,
             "#d8576b"
            ],
            [
             0.6666666666666666,
             "#ed7953"
            ],
            [
             0.7777777777777778,
             "#fb9f3a"
            ],
            [
             0.8888888888888888,
             "#fdca26"
            ],
            [
             1,
             "#f0f921"
            ]
           ]
          },
          "colorway": [
           "#636efa",
           "#EF553B",
           "#00cc96",
           "#ab63fa",
           "#FFA15A",
           "#19d3f3",
           "#FF6692",
           "#B6E880",
           "#FF97FF",
           "#FECB52"
          ],
          "font": {
           "color": "#2a3f5f"
          },
          "geo": {
           "bgcolor": "white",
           "lakecolor": "white",
           "landcolor": "#E5ECF6",
           "showlakes": true,
           "showland": true,
           "subunitcolor": "white"
          },
          "hoverlabel": {
           "align": "left"
          },
          "hovermode": "closest",
          "mapbox": {
           "style": "light"
          },
          "paper_bgcolor": "white",
          "plot_bgcolor": "#E5ECF6",
          "polar": {
           "angularaxis": {
            "gridcolor": "white",
            "linecolor": "white",
            "ticks": ""
           },
           "bgcolor": "#E5ECF6",
           "radialaxis": {
            "gridcolor": "white",
            "linecolor": "white",
            "ticks": ""
           }
          },
          "scene": {
           "xaxis": {
            "backgroundcolor": "#E5ECF6",
            "gridcolor": "white",
            "gridwidth": 2,
            "linecolor": "white",
            "showbackground": true,
            "ticks": "",
            "zerolinecolor": "white"
           },
           "yaxis": {
            "backgroundcolor": "#E5ECF6",
            "gridcolor": "white",
            "gridwidth": 2,
            "linecolor": "white",
            "showbackground": true,
            "ticks": "",
            "zerolinecolor": "white"
           },
           "zaxis": {
            "backgroundcolor": "#E5ECF6",
            "gridcolor": "white",
            "gridwidth": 2,
            "linecolor": "white",
            "showbackground": true,
            "ticks": "",
            "zerolinecolor": "white"
           }
          },
          "shapedefaults": {
           "line": {
            "color": "#2a3f5f"
           }
          },
          "ternary": {
           "aaxis": {
            "gridcolor": "white",
            "linecolor": "white",
            "ticks": ""
           },
           "baxis": {
            "gridcolor": "white",
            "linecolor": "white",
            "ticks": ""
           },
           "bgcolor": "#E5ECF6",
           "caxis": {
            "gridcolor": "white",
            "linecolor": "white",
            "ticks": ""
           }
          },
          "title": {
           "x": 0.05
          },
          "xaxis": {
           "automargin": true,
           "gridcolor": "white",
           "linecolor": "white",
           "ticks": "",
           "title": {
            "standoff": 15
           },
           "zerolinecolor": "white",
           "zerolinewidth": 2
          },
          "yaxis": {
           "automargin": true,
           "gridcolor": "white",
           "linecolor": "white",
           "ticks": "",
           "title": {
            "standoff": 15
           },
           "zerolinecolor": "white",
           "zerolinewidth": 2
          }
         }
        },
        "title": {
         "text": "Optimization History Plot"
        },
        "xaxis": {
         "title": {
          "text": "Trial"
         }
        },
        "yaxis": {
         "title": {
          "text": "Objective Value"
         }
        }
       }
      }
     },
     "metadata": {},
     "output_type": "display_data"
    }
   ],
   "source": [
    "optuna.visualization.plot_optimization_history(study)"
   ]
  },
  {
   "cell_type": "code",
   "execution_count": 99,
   "metadata": {},
   "outputs": [
    {
     "data": {
      "application/vnd.plotly.v1+json": {
       "config": {
        "plotlyServerURL": "https://plot.ly"
       },
       "data": [
        {
         "marker": {
          "color": [
           0,
           1,
           2,
           3,
           4,
           5,
           6,
           7,
           8,
           9,
           10,
           11,
           12,
           13,
           14,
           15,
           16,
           17,
           18,
           19,
           20,
           21,
           22,
           23,
           24,
           25,
           26,
           27,
           28,
           29,
           30,
           31,
           32,
           33,
           34,
           35,
           36,
           37,
           38,
           39,
           40,
           41,
           42,
           43,
           44,
           45,
           46,
           47,
           48,
           49,
           50,
           51,
           52,
           53,
           54,
           55,
           56,
           57,
           58,
           59,
           60,
           61,
           62,
           63,
           64,
           65,
           66,
           67,
           68,
           69,
           70,
           71,
           72,
           73,
           74,
           75,
           76,
           77,
           78,
           79,
           80,
           81,
           82,
           83,
           84,
           85,
           86,
           87,
           88,
           89,
           90,
           91,
           92,
           93,
           94,
           95,
           96,
           97,
           98,
           99
          ],
          "colorbar": {
           "title": {
            "text": "Trial"
           },
           "x": 1,
           "xpad": 40
          },
          "colorscale": [
           [
            0,
            "rgb(247,251,255)"
           ],
           [
            0.125,
            "rgb(222,235,247)"
           ],
           [
            0.25,
            "rgb(198,219,239)"
           ],
           [
            0.375,
            "rgb(158,202,225)"
           ],
           [
            0.5,
            "rgb(107,174,214)"
           ],
           [
            0.625,
            "rgb(66,146,198)"
           ],
           [
            0.75,
            "rgb(33,113,181)"
           ],
           [
            0.875,
            "rgb(8,81,156)"
           ],
           [
            1,
            "rgb(8,48,107)"
           ]
          ],
          "line": {
           "color": "Grey",
           "width": 0.5
          },
          "showscale": true
         },
         "mode": "markers",
         "name": "Feasible Trial",
         "showlegend": false,
         "type": "scatter",
         "x": [
          12,
          22,
          20,
          14,
          14,
          18,
          18,
          30,
          28,
          16,
          26,
          30,
          30,
          8,
          10,
          12,
          18,
          6,
          14,
          18,
          4,
          4,
          8,
          6,
          4,
          4,
          4,
          8,
          8,
          8,
          8,
          8,
          6,
          8,
          8,
          8,
          8,
          8,
          8,
          8,
          6,
          10,
          6,
          6,
          6,
          6,
          6,
          6,
          6,
          6,
          6,
          6,
          6,
          12,
          6,
          12,
          6,
          10,
          12,
          12,
          12,
          12,
          12,
          22,
          24,
          12,
          10,
          24,
          10,
          24,
          22,
          24,
          10,
          24,
          10,
          10,
          10,
          4,
          4,
          4,
          4,
          4,
          4,
          4,
          4,
          4,
          4,
          4,
          4,
          6,
          6,
          6,
          6,
          6,
          6,
          6,
          6,
          6,
          6,
          6
         ],
         "xaxis": "x",
         "y": [
          0.18412085401949496,
          0.10182315759829152,
          0.114336260184603,
          0.1473723511823698,
          0.16655986834073938,
          0.12693043483991379,
          0.08074517778084345,
          0.055373011327521336,
          0.13779744280687428,
          0.13777527253161956,
          0.05756786548738698,
          0.09805668196281353,
          0.1352999859710454,
          0.21118333127958522,
          0.19386443191278085,
          0.16946497005235944,
          0.10761824808325546,
          0.21239382007590163,
          0.14298445196152776,
          0.11618946375519963,
          0.2070863212231792,
          0.2074517587464924,
          0.2120317992201884,
          0.21160755956117172,
          0.2074517587464924,
          0.2075836899215105,
          0.20793501822770305,
          0.20928618901404125,
          0.20826312178255982,
          0.20826312178255982,
          0.2084723067201651,
          0.2084723067201651,
          0.21253846030101647,
          0.20944390248013,
          0.20944390248013,
          0.21038332082857963,
          0.21038332082857963,
          0.20944390248013,
          0.20944390248013,
          0.20944390248013,
          0.21253846030101647,
          0.1959852477286212,
          0.21253846030101647,
          0.21253846030101647,
          0.21253846030101647,
          0.21253846030101647,
          0.21253846030101647,
          0.2106428541096022,
          0.2106428541096022,
          0.2106428541096022,
          0.2114033510183778,
          0.21081279711590387,
          0.2106428541096022,
          0.18127683394198996,
          0.21030079391938314,
          0.18127683394198996,
          0.21425293785437508,
          0.19801287654513142,
          0.18289843046232201,
          0.18289843046232201,
          0.18289843046232201,
          0.18289843046232201,
          0.18289843046232201,
          0.14037672990531325,
          0.13990952438537319,
          0.18289843046232201,
          0.19801287654513142,
          0.13990952438537319,
          0.19638417386316634,
          0.1388103971745935,
          0.13606269777745572,
          0.1388103971745935,
          0.1966960691243608,
          0.14741163306697186,
          0.1966960691243608,
          0.1966960691243608,
          0.1966960691243608,
          0.20757440804066948,
          0.20719542628333257,
          0.20719542628333257,
          0.20719542628333257,
          0.20719542628333257,
          0.20725718834705403,
          0.20719542628333257,
          0.20725718834705403,
          0.20725718834705403,
          0.20725718834705403,
          0.20725718834705403,
          0.20725718834705403,
          0.21257096215799845,
          0.21257096215799845,
          0.21257096215799845,
          0.21257096215799845,
          0.21257096215799845,
          0.21257096215799845,
          0.21257096215799845,
          0.21072568415029647,
          0.21176074102962206,
          0.21425293785437508,
          0.21160755956117172
         ],
         "yaxis": "y"
        },
        {
         "marker": {
          "color": [
           0,
           1,
           2,
           3,
           4,
           5,
           6,
           7,
           8,
           9,
           10,
           11,
           12,
           13,
           14,
           15,
           16,
           17,
           18,
           19,
           20,
           21,
           22,
           23,
           24,
           25,
           26,
           27,
           28,
           29,
           30,
           31,
           32,
           33,
           34,
           35,
           36,
           37,
           38,
           39,
           40,
           41,
           42,
           43,
           44,
           45,
           46,
           47,
           48,
           49,
           50,
           51,
           52,
           53,
           54,
           55,
           56,
           57,
           58,
           59,
           60,
           61,
           62,
           63,
           64,
           65,
           66,
           67,
           68,
           69,
           70,
           71,
           72,
           73,
           74,
           75,
           76,
           77,
           78,
           79,
           80,
           81,
           82,
           83,
           84,
           85,
           86,
           87,
           88,
           89,
           90,
           91,
           92,
           93,
           94,
           95,
           96,
           97,
           98,
           99
          ],
          "colorbar": {
           "title": {
            "text": "Trial"
           },
           "x": 1,
           "xpad": 40
          },
          "colorscale": [
           [
            0,
            "rgb(247,251,255)"
           ],
           [
            0.125,
            "rgb(222,235,247)"
           ],
           [
            0.25,
            "rgb(198,219,239)"
           ],
           [
            0.375,
            "rgb(158,202,225)"
           ],
           [
            0.5,
            "rgb(107,174,214)"
           ],
           [
            0.625,
            "rgb(66,146,198)"
           ],
           [
            0.75,
            "rgb(33,113,181)"
           ],
           [
            0.875,
            "rgb(8,81,156)"
           ],
           [
            1,
            "rgb(8,48,107)"
           ]
          ],
          "line": {
           "color": "Grey",
           "width": 0.5
          },
          "showscale": false
         },
         "mode": "markers",
         "name": "Feasible Trial",
         "showlegend": false,
         "type": "scatter",
         "x": [
          58,
          20,
          24,
          22,
          48,
          30,
          4,
          4,
          46,
          30,
          6,
          20,
          44,
          48,
          18,
          16,
          16,
          16,
          14,
          22,
          16,
          60,
          60,
          60,
          60,
          42,
          40,
          42,
          40,
          40,
          38,
          38,
          54,
          54,
          54,
          52,
          52,
          54,
          54,
          54,
          54,
          54,
          54,
          54,
          54,
          54,
          54,
          58,
          58,
          58,
          10,
          26,
          58,
          50,
          34,
          50,
          50,
          48,
          48,
          48,
          48,
          48,
          48,
          48,
          48,
          48,
          48,
          48,
          46,
          46,
          46,
          46,
          56,
          56,
          56,
          56,
          56,
          44,
          56,
          56,
          56,
          56,
          52,
          56,
          52,
          52,
          52,
          52,
          52,
          52,
          52,
          52,
          52,
          52,
          52,
          52,
          28,
          2,
          50,
          60
         ],
         "xaxis": "x2",
         "y": [
          0.18412085401949496,
          0.10182315759829152,
          0.114336260184603,
          0.1473723511823698,
          0.16655986834073938,
          0.12693043483991379,
          0.08074517778084345,
          0.055373011327521336,
          0.13779744280687428,
          0.13777527253161956,
          0.05756786548738698,
          0.09805668196281353,
          0.1352999859710454,
          0.21118333127958522,
          0.19386443191278085,
          0.16946497005235944,
          0.10761824808325546,
          0.21239382007590163,
          0.14298445196152776,
          0.11618946375519963,
          0.2070863212231792,
          0.2074517587464924,
          0.2120317992201884,
          0.21160755956117172,
          0.2074517587464924,
          0.2075836899215105,
          0.20793501822770305,
          0.20928618901404125,
          0.20826312178255982,
          0.20826312178255982,
          0.2084723067201651,
          0.2084723067201651,
          0.21253846030101647,
          0.20944390248013,
          0.20944390248013,
          0.21038332082857963,
          0.21038332082857963,
          0.20944390248013,
          0.20944390248013,
          0.20944390248013,
          0.21253846030101647,
          0.1959852477286212,
          0.21253846030101647,
          0.21253846030101647,
          0.21253846030101647,
          0.21253846030101647,
          0.21253846030101647,
          0.2106428541096022,
          0.2106428541096022,
          0.2106428541096022,
          0.2114033510183778,
          0.21081279711590387,
          0.2106428541096022,
          0.18127683394198996,
          0.21030079391938314,
          0.18127683394198996,
          0.21425293785437508,
          0.19801287654513142,
          0.18289843046232201,
          0.18289843046232201,
          0.18289843046232201,
          0.18289843046232201,
          0.18289843046232201,
          0.14037672990531325,
          0.13990952438537319,
          0.18289843046232201,
          0.19801287654513142,
          0.13990952438537319,
          0.19638417386316634,
          0.1388103971745935,
          0.13606269777745572,
          0.1388103971745935,
          0.1966960691243608,
          0.14741163306697186,
          0.1966960691243608,
          0.1966960691243608,
          0.1966960691243608,
          0.20757440804066948,
          0.20719542628333257,
          0.20719542628333257,
          0.20719542628333257,
          0.20719542628333257,
          0.20725718834705403,
          0.20719542628333257,
          0.20725718834705403,
          0.20725718834705403,
          0.20725718834705403,
          0.20725718834705403,
          0.20725718834705403,
          0.21257096215799845,
          0.21257096215799845,
          0.21257096215799845,
          0.21257096215799845,
          0.21257096215799845,
          0.21257096215799845,
          0.21257096215799845,
          0.21072568415029647,
          0.21176074102962206,
          0.21425293785437508,
          0.21160755956117172
         ],
         "yaxis": "y2"
        }
       ],
       "layout": {
        "template": {
         "data": {
          "bar": [
           {
            "error_x": {
             "color": "#2a3f5f"
            },
            "error_y": {
             "color": "#2a3f5f"
            },
            "marker": {
             "line": {
              "color": "#E5ECF6",
              "width": 0.5
             },
             "pattern": {
              "fillmode": "overlay",
              "size": 10,
              "solidity": 0.2
             }
            },
            "type": "bar"
           }
          ],
          "barpolar": [
           {
            "marker": {
             "line": {
              "color": "#E5ECF6",
              "width": 0.5
             },
             "pattern": {
              "fillmode": "overlay",
              "size": 10,
              "solidity": 0.2
             }
            },
            "type": "barpolar"
           }
          ],
          "carpet": [
           {
            "aaxis": {
             "endlinecolor": "#2a3f5f",
             "gridcolor": "white",
             "linecolor": "white",
             "minorgridcolor": "white",
             "startlinecolor": "#2a3f5f"
            },
            "baxis": {
             "endlinecolor": "#2a3f5f",
             "gridcolor": "white",
             "linecolor": "white",
             "minorgridcolor": "white",
             "startlinecolor": "#2a3f5f"
            },
            "type": "carpet"
           }
          ],
          "choropleth": [
           {
            "colorbar": {
             "outlinewidth": 0,
             "ticks": ""
            },
            "type": "choropleth"
           }
          ],
          "contour": [
           {
            "colorbar": {
             "outlinewidth": 0,
             "ticks": ""
            },
            "colorscale": [
             [
              0,
              "#0d0887"
             ],
             [
              0.1111111111111111,
              "#46039f"
             ],
             [
              0.2222222222222222,
              "#7201a8"
             ],
             [
              0.3333333333333333,
              "#9c179e"
             ],
             [
              0.4444444444444444,
              "#bd3786"
             ],
             [
              0.5555555555555556,
              "#d8576b"
             ],
             [
              0.6666666666666666,
              "#ed7953"
             ],
             [
              0.7777777777777778,
              "#fb9f3a"
             ],
             [
              0.8888888888888888,
              "#fdca26"
             ],
             [
              1,
              "#f0f921"
             ]
            ],
            "type": "contour"
           }
          ],
          "contourcarpet": [
           {
            "colorbar": {
             "outlinewidth": 0,
             "ticks": ""
            },
            "type": "contourcarpet"
           }
          ],
          "heatmap": [
           {
            "colorbar": {
             "outlinewidth": 0,
             "ticks": ""
            },
            "colorscale": [
             [
              0,
              "#0d0887"
             ],
             [
              0.1111111111111111,
              "#46039f"
             ],
             [
              0.2222222222222222,
              "#7201a8"
             ],
             [
              0.3333333333333333,
              "#9c179e"
             ],
             [
              0.4444444444444444,
              "#bd3786"
             ],
             [
              0.5555555555555556,
              "#d8576b"
             ],
             [
              0.6666666666666666,
              "#ed7953"
             ],
             [
              0.7777777777777778,
              "#fb9f3a"
             ],
             [
              0.8888888888888888,
              "#fdca26"
             ],
             [
              1,
              "#f0f921"
             ]
            ],
            "type": "heatmap"
           }
          ],
          "heatmapgl": [
           {
            "colorbar": {
             "outlinewidth": 0,
             "ticks": ""
            },
            "colorscale": [
             [
              0,
              "#0d0887"
             ],
             [
              0.1111111111111111,
              "#46039f"
             ],
             [
              0.2222222222222222,
              "#7201a8"
             ],
             [
              0.3333333333333333,
              "#9c179e"
             ],
             [
              0.4444444444444444,
              "#bd3786"
             ],
             [
              0.5555555555555556,
              "#d8576b"
             ],
             [
              0.6666666666666666,
              "#ed7953"
             ],
             [
              0.7777777777777778,
              "#fb9f3a"
             ],
             [
              0.8888888888888888,
              "#fdca26"
             ],
             [
              1,
              "#f0f921"
             ]
            ],
            "type": "heatmapgl"
           }
          ],
          "histogram": [
           {
            "marker": {
             "pattern": {
              "fillmode": "overlay",
              "size": 10,
              "solidity": 0.2
             }
            },
            "type": "histogram"
           }
          ],
          "histogram2d": [
           {
            "colorbar": {
             "outlinewidth": 0,
             "ticks": ""
            },
            "colorscale": [
             [
              0,
              "#0d0887"
             ],
             [
              0.1111111111111111,
              "#46039f"
             ],
             [
              0.2222222222222222,
              "#7201a8"
             ],
             [
              0.3333333333333333,
              "#9c179e"
             ],
             [
              0.4444444444444444,
              "#bd3786"
             ],
             [
              0.5555555555555556,
              "#d8576b"
             ],
             [
              0.6666666666666666,
              "#ed7953"
             ],
             [
              0.7777777777777778,
              "#fb9f3a"
             ],
             [
              0.8888888888888888,
              "#fdca26"
             ],
             [
              1,
              "#f0f921"
             ]
            ],
            "type": "histogram2d"
           }
          ],
          "histogram2dcontour": [
           {
            "colorbar": {
             "outlinewidth": 0,
             "ticks": ""
            },
            "colorscale": [
             [
              0,
              "#0d0887"
             ],
             [
              0.1111111111111111,
              "#46039f"
             ],
             [
              0.2222222222222222,
              "#7201a8"
             ],
             [
              0.3333333333333333,
              "#9c179e"
             ],
             [
              0.4444444444444444,
              "#bd3786"
             ],
             [
              0.5555555555555556,
              "#d8576b"
             ],
             [
              0.6666666666666666,
              "#ed7953"
             ],
             [
              0.7777777777777778,
              "#fb9f3a"
             ],
             [
              0.8888888888888888,
              "#fdca26"
             ],
             [
              1,
              "#f0f921"
             ]
            ],
            "type": "histogram2dcontour"
           }
          ],
          "mesh3d": [
           {
            "colorbar": {
             "outlinewidth": 0,
             "ticks": ""
            },
            "type": "mesh3d"
           }
          ],
          "parcoords": [
           {
            "line": {
             "colorbar": {
              "outlinewidth": 0,
              "ticks": ""
             }
            },
            "type": "parcoords"
           }
          ],
          "pie": [
           {
            "automargin": true,
            "type": "pie"
           }
          ],
          "scatter": [
           {
            "fillpattern": {
             "fillmode": "overlay",
             "size": 10,
             "solidity": 0.2
            },
            "type": "scatter"
           }
          ],
          "scatter3d": [
           {
            "line": {
             "colorbar": {
              "outlinewidth": 0,
              "ticks": ""
             }
            },
            "marker": {
             "colorbar": {
              "outlinewidth": 0,
              "ticks": ""
             }
            },
            "type": "scatter3d"
           }
          ],
          "scattercarpet": [
           {
            "marker": {
             "colorbar": {
              "outlinewidth": 0,
              "ticks": ""
             }
            },
            "type": "scattercarpet"
           }
          ],
          "scattergeo": [
           {
            "marker": {
             "colorbar": {
              "outlinewidth": 0,
              "ticks": ""
             }
            },
            "type": "scattergeo"
           }
          ],
          "scattergl": [
           {
            "marker": {
             "colorbar": {
              "outlinewidth": 0,
              "ticks": ""
             }
            },
            "type": "scattergl"
           }
          ],
          "scattermapbox": [
           {
            "marker": {
             "colorbar": {
              "outlinewidth": 0,
              "ticks": ""
             }
            },
            "type": "scattermapbox"
           }
          ],
          "scatterpolar": [
           {
            "marker": {
             "colorbar": {
              "outlinewidth": 0,
              "ticks": ""
             }
            },
            "type": "scatterpolar"
           }
          ],
          "scatterpolargl": [
           {
            "marker": {
             "colorbar": {
              "outlinewidth": 0,
              "ticks": ""
             }
            },
            "type": "scatterpolargl"
           }
          ],
          "scatterternary": [
           {
            "marker": {
             "colorbar": {
              "outlinewidth": 0,
              "ticks": ""
             }
            },
            "type": "scatterternary"
           }
          ],
          "surface": [
           {
            "colorbar": {
             "outlinewidth": 0,
             "ticks": ""
            },
            "colorscale": [
             [
              0,
              "#0d0887"
             ],
             [
              0.1111111111111111,
              "#46039f"
             ],
             [
              0.2222222222222222,
              "#7201a8"
             ],
             [
              0.3333333333333333,
              "#9c179e"
             ],
             [
              0.4444444444444444,
              "#bd3786"
             ],
             [
              0.5555555555555556,
              "#d8576b"
             ],
             [
              0.6666666666666666,
              "#ed7953"
             ],
             [
              0.7777777777777778,
              "#fb9f3a"
             ],
             [
              0.8888888888888888,
              "#fdca26"
             ],
             [
              1,
              "#f0f921"
             ]
            ],
            "type": "surface"
           }
          ],
          "table": [
           {
            "cells": {
             "fill": {
              "color": "#EBF0F8"
             },
             "line": {
              "color": "white"
             }
            },
            "header": {
             "fill": {
              "color": "#C8D4E3"
             },
             "line": {
              "color": "white"
             }
            },
            "type": "table"
           }
          ]
         },
         "layout": {
          "annotationdefaults": {
           "arrowcolor": "#2a3f5f",
           "arrowhead": 0,
           "arrowwidth": 1
          },
          "autotypenumbers": "strict",
          "coloraxis": {
           "colorbar": {
            "outlinewidth": 0,
            "ticks": ""
           }
          },
          "colorscale": {
           "diverging": [
            [
             0,
             "#8e0152"
            ],
            [
             0.1,
             "#c51b7d"
            ],
            [
             0.2,
             "#de77ae"
            ],
            [
             0.3,
             "#f1b6da"
            ],
            [
             0.4,
             "#fde0ef"
            ],
            [
             0.5,
             "#f7f7f7"
            ],
            [
             0.6,
             "#e6f5d0"
            ],
            [
             0.7,
             "#b8e186"
            ],
            [
             0.8,
             "#7fbc41"
            ],
            [
             0.9,
             "#4d9221"
            ],
            [
             1,
             "#276419"
            ]
           ],
           "sequential": [
            [
             0,
             "#0d0887"
            ],
            [
             0.1111111111111111,
             "#46039f"
            ],
            [
             0.2222222222222222,
             "#7201a8"
            ],
            [
             0.3333333333333333,
             "#9c179e"
            ],
            [
             0.4444444444444444,
             "#bd3786"
            ],
            [
             0.5555555555555556,
             "#d8576b"
            ],
            [
             0.6666666666666666,
             "#ed7953"
            ],
            [
             0.7777777777777778,
             "#fb9f3a"
            ],
            [
             0.8888888888888888,
             "#fdca26"
            ],
            [
             1,
             "#f0f921"
            ]
           ],
           "sequentialminus": [
            [
             0,
             "#0d0887"
            ],
            [
             0.1111111111111111,
             "#46039f"
            ],
            [
             0.2222222222222222,
             "#7201a8"
            ],
            [
             0.3333333333333333,
             "#9c179e"
            ],
            [
             0.4444444444444444,
             "#bd3786"
            ],
            [
             0.5555555555555556,
             "#d8576b"
            ],
            [
             0.6666666666666666,
             "#ed7953"
            ],
            [
             0.7777777777777778,
             "#fb9f3a"
            ],
            [
             0.8888888888888888,
             "#fdca26"
            ],
            [
             1,
             "#f0f921"
            ]
           ]
          },
          "colorway": [
           "#636efa",
           "#EF553B",
           "#00cc96",
           "#ab63fa",
           "#FFA15A",
           "#19d3f3",
           "#FF6692",
           "#B6E880",
           "#FF97FF",
           "#FECB52"
          ],
          "font": {
           "color": "#2a3f5f"
          },
          "geo": {
           "bgcolor": "white",
           "lakecolor": "white",
           "landcolor": "#E5ECF6",
           "showlakes": true,
           "showland": true,
           "subunitcolor": "white"
          },
          "hoverlabel": {
           "align": "left"
          },
          "hovermode": "closest",
          "mapbox": {
           "style": "light"
          },
          "paper_bgcolor": "white",
          "plot_bgcolor": "#E5ECF6",
          "polar": {
           "angularaxis": {
            "gridcolor": "white",
            "linecolor": "white",
            "ticks": ""
           },
           "bgcolor": "#E5ECF6",
           "radialaxis": {
            "gridcolor": "white",
            "linecolor": "white",
            "ticks": ""
           }
          },
          "scene": {
           "xaxis": {
            "backgroundcolor": "#E5ECF6",
            "gridcolor": "white",
            "gridwidth": 2,
            "linecolor": "white",
            "showbackground": true,
            "ticks": "",
            "zerolinecolor": "white"
           },
           "yaxis": {
            "backgroundcolor": "#E5ECF6",
            "gridcolor": "white",
            "gridwidth": 2,
            "linecolor": "white",
            "showbackground": true,
            "ticks": "",
            "zerolinecolor": "white"
           },
           "zaxis": {
            "backgroundcolor": "#E5ECF6",
            "gridcolor": "white",
            "gridwidth": 2,
            "linecolor": "white",
            "showbackground": true,
            "ticks": "",
            "zerolinecolor": "white"
           }
          },
          "shapedefaults": {
           "line": {
            "color": "#2a3f5f"
           }
          },
          "ternary": {
           "aaxis": {
            "gridcolor": "white",
            "linecolor": "white",
            "ticks": ""
           },
           "baxis": {
            "gridcolor": "white",
            "linecolor": "white",
            "ticks": ""
           },
           "bgcolor": "#E5ECF6",
           "caxis": {
            "gridcolor": "white",
            "linecolor": "white",
            "ticks": ""
           }
          },
          "title": {
           "x": 0.05
          },
          "xaxis": {
           "automargin": true,
           "gridcolor": "white",
           "linecolor": "white",
           "ticks": "",
           "title": {
            "standoff": 15
           },
           "zerolinecolor": "white",
           "zerolinewidth": 2
          },
          "yaxis": {
           "automargin": true,
           "gridcolor": "white",
           "linecolor": "white",
           "ticks": "",
           "title": {
            "standoff": 15
           },
           "zerolinecolor": "white",
           "zerolinewidth": 2
          }
         }
        },
        "title": {
         "text": "Slice Plot"
        },
        "xaxis": {
         "anchor": "y",
         "domain": [
          0,
          0.45
         ],
         "title": {
          "text": "max_depth"
         }
        },
        "xaxis2": {
         "anchor": "y2",
         "domain": [
          0.55,
          1
         ],
         "title": {
          "text": "min_samples_leaf"
         }
        },
        "yaxis": {
         "anchor": "x",
         "domain": [
          0,
          1
         ],
         "title": {
          "text": "Objective Value"
         }
        },
        "yaxis2": {
         "anchor": "x2",
         "domain": [
          0,
          1
         ],
         "matches": "y",
         "showticklabels": false
        }
       }
      }
     },
     "metadata": {},
     "output_type": "display_data"
    }
   ],
   "source": [
    "optuna.visualization.plot_slice(study)"
   ]
  },
  {
   "cell_type": "code",
   "execution_count": 100,
   "metadata": {},
   "outputs": [
    {
     "data": {
      "application/vnd.plotly.v1+json": {
       "config": {
        "plotlyServerURL": "https://plot.ly"
       },
       "data": [
        {
         "cliponaxis": false,
         "hovertemplate": [
          "min_samples_leaf (IntDistribution): 0.15608691650433087<extra></extra>",
          "max_depth (IntDistribution): 0.8439130834956692<extra></extra>"
         ],
         "name": "Objective Value",
         "orientation": "h",
         "text": [
          "0.16",
          "0.84"
         ],
         "textposition": "outside",
         "type": "bar",
         "x": [
          0.15608691650433087,
          0.8439130834956692
         ],
         "y": [
          "min_samples_leaf",
          "max_depth"
         ]
        }
       ],
       "layout": {
        "template": {
         "data": {
          "bar": [
           {
            "error_x": {
             "color": "#2a3f5f"
            },
            "error_y": {
             "color": "#2a3f5f"
            },
            "marker": {
             "line": {
              "color": "#E5ECF6",
              "width": 0.5
             },
             "pattern": {
              "fillmode": "overlay",
              "size": 10,
              "solidity": 0.2
             }
            },
            "type": "bar"
           }
          ],
          "barpolar": [
           {
            "marker": {
             "line": {
              "color": "#E5ECF6",
              "width": 0.5
             },
             "pattern": {
              "fillmode": "overlay",
              "size": 10,
              "solidity": 0.2
             }
            },
            "type": "barpolar"
           }
          ],
          "carpet": [
           {
            "aaxis": {
             "endlinecolor": "#2a3f5f",
             "gridcolor": "white",
             "linecolor": "white",
             "minorgridcolor": "white",
             "startlinecolor": "#2a3f5f"
            },
            "baxis": {
             "endlinecolor": "#2a3f5f",
             "gridcolor": "white",
             "linecolor": "white",
             "minorgridcolor": "white",
             "startlinecolor": "#2a3f5f"
            },
            "type": "carpet"
           }
          ],
          "choropleth": [
           {
            "colorbar": {
             "outlinewidth": 0,
             "ticks": ""
            },
            "type": "choropleth"
           }
          ],
          "contour": [
           {
            "colorbar": {
             "outlinewidth": 0,
             "ticks": ""
            },
            "colorscale": [
             [
              0,
              "#0d0887"
             ],
             [
              0.1111111111111111,
              "#46039f"
             ],
             [
              0.2222222222222222,
              "#7201a8"
             ],
             [
              0.3333333333333333,
              "#9c179e"
             ],
             [
              0.4444444444444444,
              "#bd3786"
             ],
             [
              0.5555555555555556,
              "#d8576b"
             ],
             [
              0.6666666666666666,
              "#ed7953"
             ],
             [
              0.7777777777777778,
              "#fb9f3a"
             ],
             [
              0.8888888888888888,
              "#fdca26"
             ],
             [
              1,
              "#f0f921"
             ]
            ],
            "type": "contour"
           }
          ],
          "contourcarpet": [
           {
            "colorbar": {
             "outlinewidth": 0,
             "ticks": ""
            },
            "type": "contourcarpet"
           }
          ],
          "heatmap": [
           {
            "colorbar": {
             "outlinewidth": 0,
             "ticks": ""
            },
            "colorscale": [
             [
              0,
              "#0d0887"
             ],
             [
              0.1111111111111111,
              "#46039f"
             ],
             [
              0.2222222222222222,
              "#7201a8"
             ],
             [
              0.3333333333333333,
              "#9c179e"
             ],
             [
              0.4444444444444444,
              "#bd3786"
             ],
             [
              0.5555555555555556,
              "#d8576b"
             ],
             [
              0.6666666666666666,
              "#ed7953"
             ],
             [
              0.7777777777777778,
              "#fb9f3a"
             ],
             [
              0.8888888888888888,
              "#fdca26"
             ],
             [
              1,
              "#f0f921"
             ]
            ],
            "type": "heatmap"
           }
          ],
          "heatmapgl": [
           {
            "colorbar": {
             "outlinewidth": 0,
             "ticks": ""
            },
            "colorscale": [
             [
              0,
              "#0d0887"
             ],
             [
              0.1111111111111111,
              "#46039f"
             ],
             [
              0.2222222222222222,
              "#7201a8"
             ],
             [
              0.3333333333333333,
              "#9c179e"
             ],
             [
              0.4444444444444444,
              "#bd3786"
             ],
             [
              0.5555555555555556,
              "#d8576b"
             ],
             [
              0.6666666666666666,
              "#ed7953"
             ],
             [
              0.7777777777777778,
              "#fb9f3a"
             ],
             [
              0.8888888888888888,
              "#fdca26"
             ],
             [
              1,
              "#f0f921"
             ]
            ],
            "type": "heatmapgl"
           }
          ],
          "histogram": [
           {
            "marker": {
             "pattern": {
              "fillmode": "overlay",
              "size": 10,
              "solidity": 0.2
             }
            },
            "type": "histogram"
           }
          ],
          "histogram2d": [
           {
            "colorbar": {
             "outlinewidth": 0,
             "ticks": ""
            },
            "colorscale": [
             [
              0,
              "#0d0887"
             ],
             [
              0.1111111111111111,
              "#46039f"
             ],
             [
              0.2222222222222222,
              "#7201a8"
             ],
             [
              0.3333333333333333,
              "#9c179e"
             ],
             [
              0.4444444444444444,
              "#bd3786"
             ],
             [
              0.5555555555555556,
              "#d8576b"
             ],
             [
              0.6666666666666666,
              "#ed7953"
             ],
             [
              0.7777777777777778,
              "#fb9f3a"
             ],
             [
              0.8888888888888888,
              "#fdca26"
             ],
             [
              1,
              "#f0f921"
             ]
            ],
            "type": "histogram2d"
           }
          ],
          "histogram2dcontour": [
           {
            "colorbar": {
             "outlinewidth": 0,
             "ticks": ""
            },
            "colorscale": [
             [
              0,
              "#0d0887"
             ],
             [
              0.1111111111111111,
              "#46039f"
             ],
             [
              0.2222222222222222,
              "#7201a8"
             ],
             [
              0.3333333333333333,
              "#9c179e"
             ],
             [
              0.4444444444444444,
              "#bd3786"
             ],
             [
              0.5555555555555556,
              "#d8576b"
             ],
             [
              0.6666666666666666,
              "#ed7953"
             ],
             [
              0.7777777777777778,
              "#fb9f3a"
             ],
             [
              0.8888888888888888,
              "#fdca26"
             ],
             [
              1,
              "#f0f921"
             ]
            ],
            "type": "histogram2dcontour"
           }
          ],
          "mesh3d": [
           {
            "colorbar": {
             "outlinewidth": 0,
             "ticks": ""
            },
            "type": "mesh3d"
           }
          ],
          "parcoords": [
           {
            "line": {
             "colorbar": {
              "outlinewidth": 0,
              "ticks": ""
             }
            },
            "type": "parcoords"
           }
          ],
          "pie": [
           {
            "automargin": true,
            "type": "pie"
           }
          ],
          "scatter": [
           {
            "fillpattern": {
             "fillmode": "overlay",
             "size": 10,
             "solidity": 0.2
            },
            "type": "scatter"
           }
          ],
          "scatter3d": [
           {
            "line": {
             "colorbar": {
              "outlinewidth": 0,
              "ticks": ""
             }
            },
            "marker": {
             "colorbar": {
              "outlinewidth": 0,
              "ticks": ""
             }
            },
            "type": "scatter3d"
           }
          ],
          "scattercarpet": [
           {
            "marker": {
             "colorbar": {
              "outlinewidth": 0,
              "ticks": ""
             }
            },
            "type": "scattercarpet"
           }
          ],
          "scattergeo": [
           {
            "marker": {
             "colorbar": {
              "outlinewidth": 0,
              "ticks": ""
             }
            },
            "type": "scattergeo"
           }
          ],
          "scattergl": [
           {
            "marker": {
             "colorbar": {
              "outlinewidth": 0,
              "ticks": ""
             }
            },
            "type": "scattergl"
           }
          ],
          "scattermapbox": [
           {
            "marker": {
             "colorbar": {
              "outlinewidth": 0,
              "ticks": ""
             }
            },
            "type": "scattermapbox"
           }
          ],
          "scatterpolar": [
           {
            "marker": {
             "colorbar": {
              "outlinewidth": 0,
              "ticks": ""
             }
            },
            "type": "scatterpolar"
           }
          ],
          "scatterpolargl": [
           {
            "marker": {
             "colorbar": {
              "outlinewidth": 0,
              "ticks": ""
             }
            },
            "type": "scatterpolargl"
           }
          ],
          "scatterternary": [
           {
            "marker": {
             "colorbar": {
              "outlinewidth": 0,
              "ticks": ""
             }
            },
            "type": "scatterternary"
           }
          ],
          "surface": [
           {
            "colorbar": {
             "outlinewidth": 0,
             "ticks": ""
            },
            "colorscale": [
             [
              0,
              "#0d0887"
             ],
             [
              0.1111111111111111,
              "#46039f"
             ],
             [
              0.2222222222222222,
              "#7201a8"
             ],
             [
              0.3333333333333333,
              "#9c179e"
             ],
             [
              0.4444444444444444,
              "#bd3786"
             ],
             [
              0.5555555555555556,
              "#d8576b"
             ],
             [
              0.6666666666666666,
              "#ed7953"
             ],
             [
              0.7777777777777778,
              "#fb9f3a"
             ],
             [
              0.8888888888888888,
              "#fdca26"
             ],
             [
              1,
              "#f0f921"
             ]
            ],
            "type": "surface"
           }
          ],
          "table": [
           {
            "cells": {
             "fill": {
              "color": "#EBF0F8"
             },
             "line": {
              "color": "white"
             }
            },
            "header": {
             "fill": {
              "color": "#C8D4E3"
             },
             "line": {
              "color": "white"
             }
            },
            "type": "table"
           }
          ]
         },
         "layout": {
          "annotationdefaults": {
           "arrowcolor": "#2a3f5f",
           "arrowhead": 0,
           "arrowwidth": 1
          },
          "autotypenumbers": "strict",
          "coloraxis": {
           "colorbar": {
            "outlinewidth": 0,
            "ticks": ""
           }
          },
          "colorscale": {
           "diverging": [
            [
             0,
             "#8e0152"
            ],
            [
             0.1,
             "#c51b7d"
            ],
            [
             0.2,
             "#de77ae"
            ],
            [
             0.3,
             "#f1b6da"
            ],
            [
             0.4,
             "#fde0ef"
            ],
            [
             0.5,
             "#f7f7f7"
            ],
            [
             0.6,
             "#e6f5d0"
            ],
            [
             0.7,
             "#b8e186"
            ],
            [
             0.8,
             "#7fbc41"
            ],
            [
             0.9,
             "#4d9221"
            ],
            [
             1,
             "#276419"
            ]
           ],
           "sequential": [
            [
             0,
             "#0d0887"
            ],
            [
             0.1111111111111111,
             "#46039f"
            ],
            [
             0.2222222222222222,
             "#7201a8"
            ],
            [
             0.3333333333333333,
             "#9c179e"
            ],
            [
             0.4444444444444444,
             "#bd3786"
            ],
            [
             0.5555555555555556,
             "#d8576b"
            ],
            [
             0.6666666666666666,
             "#ed7953"
            ],
            [
             0.7777777777777778,
             "#fb9f3a"
            ],
            [
             0.8888888888888888,
             "#fdca26"
            ],
            [
             1,
             "#f0f921"
            ]
           ],
           "sequentialminus": [
            [
             0,
             "#0d0887"
            ],
            [
             0.1111111111111111,
             "#46039f"
            ],
            [
             0.2222222222222222,
             "#7201a8"
            ],
            [
             0.3333333333333333,
             "#9c179e"
            ],
            [
             0.4444444444444444,
             "#bd3786"
            ],
            [
             0.5555555555555556,
             "#d8576b"
            ],
            [
             0.6666666666666666,
             "#ed7953"
            ],
            [
             0.7777777777777778,
             "#fb9f3a"
            ],
            [
             0.8888888888888888,
             "#fdca26"
            ],
            [
             1,
             "#f0f921"
            ]
           ]
          },
          "colorway": [
           "#636efa",
           "#EF553B",
           "#00cc96",
           "#ab63fa",
           "#FFA15A",
           "#19d3f3",
           "#FF6692",
           "#B6E880",
           "#FF97FF",
           "#FECB52"
          ],
          "font": {
           "color": "#2a3f5f"
          },
          "geo": {
           "bgcolor": "white",
           "lakecolor": "white",
           "landcolor": "#E5ECF6",
           "showlakes": true,
           "showland": true,
           "subunitcolor": "white"
          },
          "hoverlabel": {
           "align": "left"
          },
          "hovermode": "closest",
          "mapbox": {
           "style": "light"
          },
          "paper_bgcolor": "white",
          "plot_bgcolor": "#E5ECF6",
          "polar": {
           "angularaxis": {
            "gridcolor": "white",
            "linecolor": "white",
            "ticks": ""
           },
           "bgcolor": "#E5ECF6",
           "radialaxis": {
            "gridcolor": "white",
            "linecolor": "white",
            "ticks": ""
           }
          },
          "scene": {
           "xaxis": {
            "backgroundcolor": "#E5ECF6",
            "gridcolor": "white",
            "gridwidth": 2,
            "linecolor": "white",
            "showbackground": true,
            "ticks": "",
            "zerolinecolor": "white"
           },
           "yaxis": {
            "backgroundcolor": "#E5ECF6",
            "gridcolor": "white",
            "gridwidth": 2,
            "linecolor": "white",
            "showbackground": true,
            "ticks": "",
            "zerolinecolor": "white"
           },
           "zaxis": {
            "backgroundcolor": "#E5ECF6",
            "gridcolor": "white",
            "gridwidth": 2,
            "linecolor": "white",
            "showbackground": true,
            "ticks": "",
            "zerolinecolor": "white"
           }
          },
          "shapedefaults": {
           "line": {
            "color": "#2a3f5f"
           }
          },
          "ternary": {
           "aaxis": {
            "gridcolor": "white",
            "linecolor": "white",
            "ticks": ""
           },
           "baxis": {
            "gridcolor": "white",
            "linecolor": "white",
            "ticks": ""
           },
           "bgcolor": "#E5ECF6",
           "caxis": {
            "gridcolor": "white",
            "linecolor": "white",
            "ticks": ""
           }
          },
          "title": {
           "x": 0.05
          },
          "xaxis": {
           "automargin": true,
           "gridcolor": "white",
           "linecolor": "white",
           "ticks": "",
           "title": {
            "standoff": 15
           },
           "zerolinecolor": "white",
           "zerolinewidth": 2
          },
          "yaxis": {
           "automargin": true,
           "gridcolor": "white",
           "linecolor": "white",
           "ticks": "",
           "title": {
            "standoff": 15
           },
           "zerolinecolor": "white",
           "zerolinewidth": 2
          }
         }
        },
        "title": {
         "text": "Hyperparameter Importances"
        },
        "xaxis": {
         "title": {
          "text": "Hyperparameter Importance"
         }
        },
        "yaxis": {
         "title": {
          "text": "Hyperparameter"
         }
        }
       }
      }
     },
     "metadata": {},
     "output_type": "display_data"
    }
   ],
   "source": [
    "optuna.visualization.plot_param_importances(study)"
   ]
  },
  {
   "cell_type": "code",
   "execution_count": 101,
   "metadata": {},
   "outputs": [
    {
     "data": {
      "application/vnd.plotly.v1+json": {
       "config": {
        "plotlyServerURL": "https://plot.ly"
       },
       "data": [
        {
         "dimensions": [
          {
           "label": "Objective Value",
           "range": [
            0.055373011327521336,
            0.21425293785437508
           ],
           "values": [
            0.18412085401949496,
            0.10182315759829152,
            0.114336260184603,
            0.1473723511823698,
            0.16655986834073938,
            0.12693043483991379,
            0.08074517778084345,
            0.055373011327521336,
            0.13779744280687428,
            0.13777527253161956,
            0.05756786548738698,
            0.09805668196281353,
            0.1352999859710454,
            0.21118333127958522,
            0.19386443191278085,
            0.16946497005235944,
            0.10761824808325546,
            0.21239382007590163,
            0.14298445196152776,
            0.11618946375519963,
            0.2070863212231792,
            0.2074517587464924,
            0.2120317992201884,
            0.21160755956117172,
            0.2074517587464924,
            0.2075836899215105,
            0.20793501822770305,
            0.20928618901404125,
            0.20826312178255982,
            0.20826312178255982,
            0.2084723067201651,
            0.2084723067201651,
            0.21253846030101647,
            0.20944390248013,
            0.20944390248013,
            0.21038332082857963,
            0.21038332082857963,
            0.20944390248013,
            0.20944390248013,
            0.20944390248013,
            0.21253846030101647,
            0.1959852477286212,
            0.21253846030101647,
            0.21253846030101647,
            0.21253846030101647,
            0.21253846030101647,
            0.21253846030101647,
            0.2106428541096022,
            0.2106428541096022,
            0.2106428541096022,
            0.2114033510183778,
            0.21081279711590387,
            0.2106428541096022,
            0.18127683394198996,
            0.21030079391938314,
            0.18127683394198996,
            0.21425293785437508,
            0.19801287654513142,
            0.18289843046232201,
            0.18289843046232201,
            0.18289843046232201,
            0.18289843046232201,
            0.18289843046232201,
            0.14037672990531325,
            0.13990952438537319,
            0.18289843046232201,
            0.19801287654513142,
            0.13990952438537319,
            0.19638417386316634,
            0.1388103971745935,
            0.13606269777745572,
            0.1388103971745935,
            0.1966960691243608,
            0.14741163306697186,
            0.1966960691243608,
            0.1966960691243608,
            0.1966960691243608,
            0.20757440804066948,
            0.20719542628333257,
            0.20719542628333257,
            0.20719542628333257,
            0.20719542628333257,
            0.20725718834705403,
            0.20719542628333257,
            0.20725718834705403,
            0.20725718834705403,
            0.20725718834705403,
            0.20725718834705403,
            0.20725718834705403,
            0.21257096215799845,
            0.21257096215799845,
            0.21257096215799845,
            0.21257096215799845,
            0.21257096215799845,
            0.21257096215799845,
            0.21257096215799845,
            0.21072568415029647,
            0.21176074102962206,
            0.21425293785437508,
            0.21160755956117172
           ]
          },
          {
           "label": "max_depth",
           "range": [
            4,
            30
           ],
           "values": [
            12,
            22,
            20,
            14,
            14,
            18,
            18,
            30,
            28,
            16,
            26,
            30,
            30,
            8,
            10,
            12,
            18,
            6,
            14,
            18,
            4,
            4,
            8,
            6,
            4,
            4,
            4,
            8,
            8,
            8,
            8,
            8,
            6,
            8,
            8,
            8,
            8,
            8,
            8,
            8,
            6,
            10,
            6,
            6,
            6,
            6,
            6,
            6,
            6,
            6,
            6,
            6,
            6,
            12,
            6,
            12,
            6,
            10,
            12,
            12,
            12,
            12,
            12,
            22,
            24,
            12,
            10,
            24,
            10,
            24,
            22,
            24,
            10,
            24,
            10,
            10,
            10,
            4,
            4,
            4,
            4,
            4,
            4,
            4,
            4,
            4,
            4,
            4,
            4,
            6,
            6,
            6,
            6,
            6,
            6,
            6,
            6,
            6,
            6,
            6
           ]
          },
          {
           "label": "min_samples_leaf",
           "range": [
            2,
            60
           ],
           "values": [
            58,
            20,
            24,
            22,
            48,
            30,
            4,
            4,
            46,
            30,
            6,
            20,
            44,
            48,
            18,
            16,
            16,
            16,
            14,
            22,
            16,
            60,
            60,
            60,
            60,
            42,
            40,
            42,
            40,
            40,
            38,
            38,
            54,
            54,
            54,
            52,
            52,
            54,
            54,
            54,
            54,
            54,
            54,
            54,
            54,
            54,
            54,
            58,
            58,
            58,
            10,
            26,
            58,
            50,
            34,
            50,
            50,
            48,
            48,
            48,
            48,
            48,
            48,
            48,
            48,
            48,
            48,
            48,
            46,
            46,
            46,
            46,
            56,
            56,
            56,
            56,
            56,
            44,
            56,
            56,
            56,
            56,
            52,
            56,
            52,
            52,
            52,
            52,
            52,
            52,
            52,
            52,
            52,
            52,
            52,
            52,
            28,
            2,
            50,
            60
           ]
          }
         ],
         "labelangle": 30,
         "labelside": "bottom",
         "line": {
          "color": [
           0.18412085401949496,
           0.10182315759829152,
           0.114336260184603,
           0.1473723511823698,
           0.16655986834073938,
           0.12693043483991379,
           0.08074517778084345,
           0.055373011327521336,
           0.13779744280687428,
           0.13777527253161956,
           0.05756786548738698,
           0.09805668196281353,
           0.1352999859710454,
           0.21118333127958522,
           0.19386443191278085,
           0.16946497005235944,
           0.10761824808325546,
           0.21239382007590163,
           0.14298445196152776,
           0.11618946375519963,
           0.2070863212231792,
           0.2074517587464924,
           0.2120317992201884,
           0.21160755956117172,
           0.2074517587464924,
           0.2075836899215105,
           0.20793501822770305,
           0.20928618901404125,
           0.20826312178255982,
           0.20826312178255982,
           0.2084723067201651,
           0.2084723067201651,
           0.21253846030101647,
           0.20944390248013,
           0.20944390248013,
           0.21038332082857963,
           0.21038332082857963,
           0.20944390248013,
           0.20944390248013,
           0.20944390248013,
           0.21253846030101647,
           0.1959852477286212,
           0.21253846030101647,
           0.21253846030101647,
           0.21253846030101647,
           0.21253846030101647,
           0.21253846030101647,
           0.2106428541096022,
           0.2106428541096022,
           0.2106428541096022,
           0.2114033510183778,
           0.21081279711590387,
           0.2106428541096022,
           0.18127683394198996,
           0.21030079391938314,
           0.18127683394198996,
           0.21425293785437508,
           0.19801287654513142,
           0.18289843046232201,
           0.18289843046232201,
           0.18289843046232201,
           0.18289843046232201,
           0.18289843046232201,
           0.14037672990531325,
           0.13990952438537319,
           0.18289843046232201,
           0.19801287654513142,
           0.13990952438537319,
           0.19638417386316634,
           0.1388103971745935,
           0.13606269777745572,
           0.1388103971745935,
           0.1966960691243608,
           0.14741163306697186,
           0.1966960691243608,
           0.1966960691243608,
           0.1966960691243608,
           0.20757440804066948,
           0.20719542628333257,
           0.20719542628333257,
           0.20719542628333257,
           0.20719542628333257,
           0.20725718834705403,
           0.20719542628333257,
           0.20725718834705403,
           0.20725718834705403,
           0.20725718834705403,
           0.20725718834705403,
           0.20725718834705403,
           0.21257096215799845,
           0.21257096215799845,
           0.21257096215799845,
           0.21257096215799845,
           0.21257096215799845,
           0.21257096215799845,
           0.21257096215799845,
           0.21072568415029647,
           0.21176074102962206,
           0.21425293785437508,
           0.21160755956117172
          ],
          "colorbar": {
           "title": {
            "text": "Objective Value"
           }
          },
          "colorscale": [
           [
            0,
            "rgb(247,251,255)"
           ],
           [
            0.125,
            "rgb(222,235,247)"
           ],
           [
            0.25,
            "rgb(198,219,239)"
           ],
           [
            0.375,
            "rgb(158,202,225)"
           ],
           [
            0.5,
            "rgb(107,174,214)"
           ],
           [
            0.625,
            "rgb(66,146,198)"
           ],
           [
            0.75,
            "rgb(33,113,181)"
           ],
           [
            0.875,
            "rgb(8,81,156)"
           ],
           [
            1,
            "rgb(8,48,107)"
           ]
          ],
          "reversescale": false,
          "showscale": true
         },
         "type": "parcoords"
        }
       ],
       "layout": {
        "template": {
         "data": {
          "bar": [
           {
            "error_x": {
             "color": "#2a3f5f"
            },
            "error_y": {
             "color": "#2a3f5f"
            },
            "marker": {
             "line": {
              "color": "#E5ECF6",
              "width": 0.5
             },
             "pattern": {
              "fillmode": "overlay",
              "size": 10,
              "solidity": 0.2
             }
            },
            "type": "bar"
           }
          ],
          "barpolar": [
           {
            "marker": {
             "line": {
              "color": "#E5ECF6",
              "width": 0.5
             },
             "pattern": {
              "fillmode": "overlay",
              "size": 10,
              "solidity": 0.2
             }
            },
            "type": "barpolar"
           }
          ],
          "carpet": [
           {
            "aaxis": {
             "endlinecolor": "#2a3f5f",
             "gridcolor": "white",
             "linecolor": "white",
             "minorgridcolor": "white",
             "startlinecolor": "#2a3f5f"
            },
            "baxis": {
             "endlinecolor": "#2a3f5f",
             "gridcolor": "white",
             "linecolor": "white",
             "minorgridcolor": "white",
             "startlinecolor": "#2a3f5f"
            },
            "type": "carpet"
           }
          ],
          "choropleth": [
           {
            "colorbar": {
             "outlinewidth": 0,
             "ticks": ""
            },
            "type": "choropleth"
           }
          ],
          "contour": [
           {
            "colorbar": {
             "outlinewidth": 0,
             "ticks": ""
            },
            "colorscale": [
             [
              0,
              "#0d0887"
             ],
             [
              0.1111111111111111,
              "#46039f"
             ],
             [
              0.2222222222222222,
              "#7201a8"
             ],
             [
              0.3333333333333333,
              "#9c179e"
             ],
             [
              0.4444444444444444,
              "#bd3786"
             ],
             [
              0.5555555555555556,
              "#d8576b"
             ],
             [
              0.6666666666666666,
              "#ed7953"
             ],
             [
              0.7777777777777778,
              "#fb9f3a"
             ],
             [
              0.8888888888888888,
              "#fdca26"
             ],
             [
              1,
              "#f0f921"
             ]
            ],
            "type": "contour"
           }
          ],
          "contourcarpet": [
           {
            "colorbar": {
             "outlinewidth": 0,
             "ticks": ""
            },
            "type": "contourcarpet"
           }
          ],
          "heatmap": [
           {
            "colorbar": {
             "outlinewidth": 0,
             "ticks": ""
            },
            "colorscale": [
             [
              0,
              "#0d0887"
             ],
             [
              0.1111111111111111,
              "#46039f"
             ],
             [
              0.2222222222222222,
              "#7201a8"
             ],
             [
              0.3333333333333333,
              "#9c179e"
             ],
             [
              0.4444444444444444,
              "#bd3786"
             ],
             [
              0.5555555555555556,
              "#d8576b"
             ],
             [
              0.6666666666666666,
              "#ed7953"
             ],
             [
              0.7777777777777778,
              "#fb9f3a"
             ],
             [
              0.8888888888888888,
              "#fdca26"
             ],
             [
              1,
              "#f0f921"
             ]
            ],
            "type": "heatmap"
           }
          ],
          "heatmapgl": [
           {
            "colorbar": {
             "outlinewidth": 0,
             "ticks": ""
            },
            "colorscale": [
             [
              0,
              "#0d0887"
             ],
             [
              0.1111111111111111,
              "#46039f"
             ],
             [
              0.2222222222222222,
              "#7201a8"
             ],
             [
              0.3333333333333333,
              "#9c179e"
             ],
             [
              0.4444444444444444,
              "#bd3786"
             ],
             [
              0.5555555555555556,
              "#d8576b"
             ],
             [
              0.6666666666666666,
              "#ed7953"
             ],
             [
              0.7777777777777778,
              "#fb9f3a"
             ],
             [
              0.8888888888888888,
              "#fdca26"
             ],
             [
              1,
              "#f0f921"
             ]
            ],
            "type": "heatmapgl"
           }
          ],
          "histogram": [
           {
            "marker": {
             "pattern": {
              "fillmode": "overlay",
              "size": 10,
              "solidity": 0.2
             }
            },
            "type": "histogram"
           }
          ],
          "histogram2d": [
           {
            "colorbar": {
             "outlinewidth": 0,
             "ticks": ""
            },
            "colorscale": [
             [
              0,
              "#0d0887"
             ],
             [
              0.1111111111111111,
              "#46039f"
             ],
             [
              0.2222222222222222,
              "#7201a8"
             ],
             [
              0.3333333333333333,
              "#9c179e"
             ],
             [
              0.4444444444444444,
              "#bd3786"
             ],
             [
              0.5555555555555556,
              "#d8576b"
             ],
             [
              0.6666666666666666,
              "#ed7953"
             ],
             [
              0.7777777777777778,
              "#fb9f3a"
             ],
             [
              0.8888888888888888,
              "#fdca26"
             ],
             [
              1,
              "#f0f921"
             ]
            ],
            "type": "histogram2d"
           }
          ],
          "histogram2dcontour": [
           {
            "colorbar": {
             "outlinewidth": 0,
             "ticks": ""
            },
            "colorscale": [
             [
              0,
              "#0d0887"
             ],
             [
              0.1111111111111111,
              "#46039f"
             ],
             [
              0.2222222222222222,
              "#7201a8"
             ],
             [
              0.3333333333333333,
              "#9c179e"
             ],
             [
              0.4444444444444444,
              "#bd3786"
             ],
             [
              0.5555555555555556,
              "#d8576b"
             ],
             [
              0.6666666666666666,
              "#ed7953"
             ],
             [
              0.7777777777777778,
              "#fb9f3a"
             ],
             [
              0.8888888888888888,
              "#fdca26"
             ],
             [
              1,
              "#f0f921"
             ]
            ],
            "type": "histogram2dcontour"
           }
          ],
          "mesh3d": [
           {
            "colorbar": {
             "outlinewidth": 0,
             "ticks": ""
            },
            "type": "mesh3d"
           }
          ],
          "parcoords": [
           {
            "line": {
             "colorbar": {
              "outlinewidth": 0,
              "ticks": ""
             }
            },
            "type": "parcoords"
           }
          ],
          "pie": [
           {
            "automargin": true,
            "type": "pie"
           }
          ],
          "scatter": [
           {
            "fillpattern": {
             "fillmode": "overlay",
             "size": 10,
             "solidity": 0.2
            },
            "type": "scatter"
           }
          ],
          "scatter3d": [
           {
            "line": {
             "colorbar": {
              "outlinewidth": 0,
              "ticks": ""
             }
            },
            "marker": {
             "colorbar": {
              "outlinewidth": 0,
              "ticks": ""
             }
            },
            "type": "scatter3d"
           }
          ],
          "scattercarpet": [
           {
            "marker": {
             "colorbar": {
              "outlinewidth": 0,
              "ticks": ""
             }
            },
            "type": "scattercarpet"
           }
          ],
          "scattergeo": [
           {
            "marker": {
             "colorbar": {
              "outlinewidth": 0,
              "ticks": ""
             }
            },
            "type": "scattergeo"
           }
          ],
          "scattergl": [
           {
            "marker": {
             "colorbar": {
              "outlinewidth": 0,
              "ticks": ""
             }
            },
            "type": "scattergl"
           }
          ],
          "scattermapbox": [
           {
            "marker": {
             "colorbar": {
              "outlinewidth": 0,
              "ticks": ""
             }
            },
            "type": "scattermapbox"
           }
          ],
          "scatterpolar": [
           {
            "marker": {
             "colorbar": {
              "outlinewidth": 0,
              "ticks": ""
             }
            },
            "type": "scatterpolar"
           }
          ],
          "scatterpolargl": [
           {
            "marker": {
             "colorbar": {
              "outlinewidth": 0,
              "ticks": ""
             }
            },
            "type": "scatterpolargl"
           }
          ],
          "scatterternary": [
           {
            "marker": {
             "colorbar": {
              "outlinewidth": 0,
              "ticks": ""
             }
            },
            "type": "scatterternary"
           }
          ],
          "surface": [
           {
            "colorbar": {
             "outlinewidth": 0,
             "ticks": ""
            },
            "colorscale": [
             [
              0,
              "#0d0887"
             ],
             [
              0.1111111111111111,
              "#46039f"
             ],
             [
              0.2222222222222222,
              "#7201a8"
             ],
             [
              0.3333333333333333,
              "#9c179e"
             ],
             [
              0.4444444444444444,
              "#bd3786"
             ],
             [
              0.5555555555555556,
              "#d8576b"
             ],
             [
              0.6666666666666666,
              "#ed7953"
             ],
             [
              0.7777777777777778,
              "#fb9f3a"
             ],
             [
              0.8888888888888888,
              "#fdca26"
             ],
             [
              1,
              "#f0f921"
             ]
            ],
            "type": "surface"
           }
          ],
          "table": [
           {
            "cells": {
             "fill": {
              "color": "#EBF0F8"
             },
             "line": {
              "color": "white"
             }
            },
            "header": {
             "fill": {
              "color": "#C8D4E3"
             },
             "line": {
              "color": "white"
             }
            },
            "type": "table"
           }
          ]
         },
         "layout": {
          "annotationdefaults": {
           "arrowcolor": "#2a3f5f",
           "arrowhead": 0,
           "arrowwidth": 1
          },
          "autotypenumbers": "strict",
          "coloraxis": {
           "colorbar": {
            "outlinewidth": 0,
            "ticks": ""
           }
          },
          "colorscale": {
           "diverging": [
            [
             0,
             "#8e0152"
            ],
            [
             0.1,
             "#c51b7d"
            ],
            [
             0.2,
             "#de77ae"
            ],
            [
             0.3,
             "#f1b6da"
            ],
            [
             0.4,
             "#fde0ef"
            ],
            [
             0.5,
             "#f7f7f7"
            ],
            [
             0.6,
             "#e6f5d0"
            ],
            [
             0.7,
             "#b8e186"
            ],
            [
             0.8,
             "#7fbc41"
            ],
            [
             0.9,
             "#4d9221"
            ],
            [
             1,
             "#276419"
            ]
           ],
           "sequential": [
            [
             0,
             "#0d0887"
            ],
            [
             0.1111111111111111,
             "#46039f"
            ],
            [
             0.2222222222222222,
             "#7201a8"
            ],
            [
             0.3333333333333333,
             "#9c179e"
            ],
            [
             0.4444444444444444,
             "#bd3786"
            ],
            [
             0.5555555555555556,
             "#d8576b"
            ],
            [
             0.6666666666666666,
             "#ed7953"
            ],
            [
             0.7777777777777778,
             "#fb9f3a"
            ],
            [
             0.8888888888888888,
             "#fdca26"
            ],
            [
             1,
             "#f0f921"
            ]
           ],
           "sequentialminus": [
            [
             0,
             "#0d0887"
            ],
            [
             0.1111111111111111,
             "#46039f"
            ],
            [
             0.2222222222222222,
             "#7201a8"
            ],
            [
             0.3333333333333333,
             "#9c179e"
            ],
            [
             0.4444444444444444,
             "#bd3786"
            ],
            [
             0.5555555555555556,
             "#d8576b"
            ],
            [
             0.6666666666666666,
             "#ed7953"
            ],
            [
             0.7777777777777778,
             "#fb9f3a"
            ],
            [
             0.8888888888888888,
             "#fdca26"
            ],
            [
             1,
             "#f0f921"
            ]
           ]
          },
          "colorway": [
           "#636efa",
           "#EF553B",
           "#00cc96",
           "#ab63fa",
           "#FFA15A",
           "#19d3f3",
           "#FF6692",
           "#B6E880",
           "#FF97FF",
           "#FECB52"
          ],
          "font": {
           "color": "#2a3f5f"
          },
          "geo": {
           "bgcolor": "white",
           "lakecolor": "white",
           "landcolor": "#E5ECF6",
           "showlakes": true,
           "showland": true,
           "subunitcolor": "white"
          },
          "hoverlabel": {
           "align": "left"
          },
          "hovermode": "closest",
          "mapbox": {
           "style": "light"
          },
          "paper_bgcolor": "white",
          "plot_bgcolor": "#E5ECF6",
          "polar": {
           "angularaxis": {
            "gridcolor": "white",
            "linecolor": "white",
            "ticks": ""
           },
           "bgcolor": "#E5ECF6",
           "radialaxis": {
            "gridcolor": "white",
            "linecolor": "white",
            "ticks": ""
           }
          },
          "scene": {
           "xaxis": {
            "backgroundcolor": "#E5ECF6",
            "gridcolor": "white",
            "gridwidth": 2,
            "linecolor": "white",
            "showbackground": true,
            "ticks": "",
            "zerolinecolor": "white"
           },
           "yaxis": {
            "backgroundcolor": "#E5ECF6",
            "gridcolor": "white",
            "gridwidth": 2,
            "linecolor": "white",
            "showbackground": true,
            "ticks": "",
            "zerolinecolor": "white"
           },
           "zaxis": {
            "backgroundcolor": "#E5ECF6",
            "gridcolor": "white",
            "gridwidth": 2,
            "linecolor": "white",
            "showbackground": true,
            "ticks": "",
            "zerolinecolor": "white"
           }
          },
          "shapedefaults": {
           "line": {
            "color": "#2a3f5f"
           }
          },
          "ternary": {
           "aaxis": {
            "gridcolor": "white",
            "linecolor": "white",
            "ticks": ""
           },
           "baxis": {
            "gridcolor": "white",
            "linecolor": "white",
            "ticks": ""
           },
           "bgcolor": "#E5ECF6",
           "caxis": {
            "gridcolor": "white",
            "linecolor": "white",
            "ticks": ""
           }
          },
          "title": {
           "x": 0.05
          },
          "xaxis": {
           "automargin": true,
           "gridcolor": "white",
           "linecolor": "white",
           "ticks": "",
           "title": {
            "standoff": 15
           },
           "zerolinecolor": "white",
           "zerolinewidth": 2
          },
          "yaxis": {
           "automargin": true,
           "gridcolor": "white",
           "linecolor": "white",
           "ticks": "",
           "title": {
            "standoff": 15
           },
           "zerolinecolor": "white",
           "zerolinewidth": 2
          }
         }
        },
        "title": {
         "text": "Parallel Coordinate Plot"
        }
       }
      }
     },
     "metadata": {},
     "output_type": "display_data"
    }
   ],
   "source": [
    "optuna.visualization.plot_parallel_coordinate(study)"
   ]
  },
  {
   "cell_type": "code",
   "execution_count": 102,
   "metadata": {},
   "outputs": [
    {
     "data": {
      "application/vnd.plotly.v1+json": {
       "config": {
        "plotlyServerURL": "https://plot.ly"
       },
       "data": [
        {
         "colorbar": {
          "title": {
           "text": "Objective Value"
          }
         },
         "colorscale": [
          [
           0,
           "rgb(247,251,255)"
          ],
          [
           0.125,
           "rgb(222,235,247)"
          ],
          [
           0.25,
           "rgb(198,219,239)"
          ],
          [
           0.375,
           "rgb(158,202,225)"
          ],
          [
           0.5,
           "rgb(107,174,214)"
          ],
          [
           0.625,
           "rgb(66,146,198)"
          ],
          [
           0.75,
           "rgb(33,113,181)"
          ],
          [
           0.875,
           "rgb(8,81,156)"
          ],
          [
           1,
           "rgb(8,48,107)"
          ]
         ],
         "connectgaps": true,
         "contours": {
          "coloring": "heatmap"
         },
         "hoverinfo": "none",
         "line": {
          "smoothing": 1.3
         },
         "reversescale": false,
         "type": "contour",
         "x": [
          2.7,
          4,
          6,
          8,
          10,
          12,
          14,
          16,
          18,
          20,
          22,
          24,
          26,
          28,
          30,
          31.3
         ],
         "y": [
          -0.9000000000000004,
          2,
          4,
          6,
          10,
          14,
          16,
          18,
          20,
          22,
          24,
          26,
          28,
          30,
          34,
          38,
          40,
          42,
          44,
          46,
          48,
          50,
          52,
          54,
          56,
          58,
          60,
          62.9
         ],
         "z": [
          [
           null,
           null,
           null,
           null,
           null,
           null,
           null,
           null,
           null,
           null,
           null,
           null,
           null,
           null,
           null,
           null
          ],
          [
           null,
           null,
           0.21176074102962206,
           null,
           null,
           null,
           null,
           null,
           null,
           null,
           null,
           null,
           null,
           null,
           null,
           null
          ],
          [
           null,
           null,
           null,
           null,
           null,
           null,
           null,
           null,
           0.08074517778084345,
           null,
           null,
           null,
           null,
           null,
           0.055373011327521336,
           null
          ],
          [
           null,
           null,
           null,
           null,
           null,
           null,
           null,
           null,
           null,
           null,
           null,
           null,
           0.05756786548738698,
           null,
           null,
           null
          ],
          [
           null,
           null,
           0.2114033510183778,
           null,
           null,
           null,
           null,
           null,
           null,
           null,
           null,
           null,
           null,
           null,
           null,
           null
          ],
          [
           null,
           null,
           null,
           null,
           null,
           null,
           0.14298445196152776,
           null,
           null,
           null,
           null,
           null,
           null,
           null,
           null,
           null
          ],
          [
           null,
           0.2070863212231792,
           0.21239382007590163,
           null,
           null,
           0.16946497005235944,
           null,
           null,
           0.10761824808325546,
           null,
           null,
           null,
           null,
           null,
           null,
           null
          ],
          [
           null,
           null,
           null,
           null,
           0.19386443191278085,
           null,
           null,
           null,
           null,
           null,
           null,
           null,
           null,
           null,
           null,
           null
          ],
          [
           null,
           null,
           null,
           null,
           null,
           null,
           null,
           null,
           null,
           null,
           0.10182315759829152,
           null,
           null,
           null,
           0.09805668196281353,
           null
          ],
          [
           null,
           null,
           null,
           null,
           null,
           null,
           0.1473723511823698,
           null,
           0.11618946375519963,
           null,
           null,
           null,
           null,
           null,
           null,
           null
          ],
          [
           null,
           null,
           null,
           null,
           null,
           null,
           null,
           null,
           null,
           0.114336260184603,
           null,
           null,
           null,
           null,
           null,
           null
          ],
          [
           null,
           null,
           0.21081279711590387,
           null,
           null,
           null,
           null,
           null,
           null,
           null,
           null,
           null,
           null,
           null,
           null,
           null
          ],
          [
           null,
           null,
           0.21072568415029647,
           null,
           null,
           null,
           null,
           null,
           null,
           null,
           null,
           null,
           null,
           null,
           null,
           null
          ],
          [
           null,
           null,
           null,
           null,
           null,
           null,
           null,
           0.13777527253161956,
           0.12693043483991379,
           null,
           null,
           null,
           null,
           null,
           null,
           null
          ],
          [
           null,
           null,
           0.21030079391938314,
           null,
           null,
           null,
           null,
           null,
           null,
           null,
           null,
           null,
           null,
           null,
           null,
           null
          ],
          [
           null,
           null,
           null,
           0.2084723067201651,
           null,
           null,
           null,
           null,
           null,
           null,
           null,
           null,
           null,
           null,
           null,
           null
          ],
          [
           null,
           0.20793501822770305,
           null,
           0.20826312178255982,
           null,
           null,
           null,
           null,
           null,
           null,
           null,
           null,
           null,
           null,
           null,
           null
          ],
          [
           null,
           0.2075836899215105,
           null,
           0.20928618901404125,
           null,
           null,
           null,
           null,
           null,
           null,
           null,
           null,
           null,
           null,
           null,
           null
          ],
          [
           null,
           0.20757440804066948,
           null,
           null,
           null,
           null,
           null,
           null,
           null,
           null,
           null,
           null,
           null,
           null,
           0.1352999859710454,
           null
          ],
          [
           null,
           null,
           null,
           null,
           0.19638417386316634,
           null,
           null,
           null,
           null,
           null,
           0.13606269777745572,
           0.1388103971745935,
           null,
           0.13779744280687428,
           null,
           null
          ],
          [
           null,
           null,
           null,
           0.21118333127958522,
           0.19801287654513142,
           0.18289843046232201,
           0.16655986834073938,
           null,
           null,
           null,
           0.14037672990531325,
           0.13990952438537319,
           null,
           null,
           null,
           null
          ],
          [
           null,
           null,
           0.21425293785437508,
           null,
           null,
           0.18127683394198996,
           null,
           null,
           null,
           null,
           null,
           null,
           null,
           null,
           null,
           null
          ],
          [
           null,
           0.20725718834705403,
           0.21257096215799845,
           0.21038332082857963,
           null,
           null,
           null,
           null,
           null,
           null,
           null,
           null,
           null,
           null,
           null,
           null
          ],
          [
           null,
           null,
           0.21253846030101647,
           0.20944390248013,
           0.1959852477286212,
           null,
           null,
           null,
           null,
           null,
           null,
           null,
           null,
           null,
           null,
           null
          ],
          [
           null,
           0.20719542628333257,
           null,
           null,
           0.1966960691243608,
           null,
           null,
           null,
           null,
           null,
           null,
           0.14741163306697186,
           null,
           null,
           null,
           null
          ],
          [
           null,
           null,
           0.2106428541096022,
           null,
           null,
           0.18412085401949496,
           null,
           null,
           null,
           null,
           null,
           null,
           null,
           null,
           null,
           null
          ],
          [
           null,
           0.2074517587464924,
           0.21160755956117172,
           0.2120317992201884,
           null,
           null,
           null,
           null,
           null,
           null,
           null,
           null,
           null,
           null,
           null,
           null
          ],
          [
           null,
           null,
           null,
           null,
           null,
           null,
           null,
           null,
           null,
           null,
           null,
           null,
           null,
           null,
           null,
           null
          ]
         ]
        },
        {
         "marker": {
          "color": "black",
          "line": {
           "color": "Gray",
           "width": 2
          }
         },
         "mode": "markers",
         "name": "Feasible Trial",
         "showlegend": false,
         "type": "scatter",
         "x": [
          12,
          22,
          20,
          14,
          14,
          18,
          18,
          30,
          28,
          16,
          26,
          30,
          30,
          8,
          10,
          12,
          18,
          6,
          14,
          18,
          4,
          4,
          8,
          6,
          4,
          4,
          4,
          8,
          8,
          8,
          8,
          8,
          6,
          8,
          8,
          8,
          8,
          8,
          8,
          8,
          6,
          10,
          6,
          6,
          6,
          6,
          6,
          6,
          6,
          6,
          6,
          6,
          6,
          12,
          6,
          12,
          6,
          10,
          12,
          12,
          12,
          12,
          12,
          22,
          24,
          12,
          10,
          24,
          10,
          24,
          22,
          24,
          10,
          24,
          10,
          10,
          10,
          4,
          4,
          4,
          4,
          4,
          4,
          4,
          4,
          4,
          4,
          4,
          4,
          6,
          6,
          6,
          6,
          6,
          6,
          6,
          6,
          6,
          6,
          6
         ],
         "y": [
          58,
          20,
          24,
          22,
          48,
          30,
          4,
          4,
          46,
          30,
          6,
          20,
          44,
          48,
          18,
          16,
          16,
          16,
          14,
          22,
          16,
          60,
          60,
          60,
          60,
          42,
          40,
          42,
          40,
          40,
          38,
          38,
          54,
          54,
          54,
          52,
          52,
          54,
          54,
          54,
          54,
          54,
          54,
          54,
          54,
          54,
          54,
          58,
          58,
          58,
          10,
          26,
          58,
          50,
          34,
          50,
          50,
          48,
          48,
          48,
          48,
          48,
          48,
          48,
          48,
          48,
          48,
          48,
          46,
          46,
          46,
          46,
          56,
          56,
          56,
          56,
          56,
          44,
          56,
          56,
          56,
          56,
          52,
          56,
          52,
          52,
          52,
          52,
          52,
          52,
          52,
          52,
          52,
          52,
          52,
          52,
          28,
          2,
          50,
          60
         ]
        },
        {
         "marker": {
          "color": "#cccccc",
          "line": {
           "color": "Gray",
           "width": 2
          }
         },
         "mode": "markers",
         "name": "Infeasible Trial",
         "showlegend": false,
         "type": "scatter",
         "x": [],
         "y": []
        }
       ],
       "layout": {
        "template": {
         "data": {
          "bar": [
           {
            "error_x": {
             "color": "#2a3f5f"
            },
            "error_y": {
             "color": "#2a3f5f"
            },
            "marker": {
             "line": {
              "color": "#E5ECF6",
              "width": 0.5
             },
             "pattern": {
              "fillmode": "overlay",
              "size": 10,
              "solidity": 0.2
             }
            },
            "type": "bar"
           }
          ],
          "barpolar": [
           {
            "marker": {
             "line": {
              "color": "#E5ECF6",
              "width": 0.5
             },
             "pattern": {
              "fillmode": "overlay",
              "size": 10,
              "solidity": 0.2
             }
            },
            "type": "barpolar"
           }
          ],
          "carpet": [
           {
            "aaxis": {
             "endlinecolor": "#2a3f5f",
             "gridcolor": "white",
             "linecolor": "white",
             "minorgridcolor": "white",
             "startlinecolor": "#2a3f5f"
            },
            "baxis": {
             "endlinecolor": "#2a3f5f",
             "gridcolor": "white",
             "linecolor": "white",
             "minorgridcolor": "white",
             "startlinecolor": "#2a3f5f"
            },
            "type": "carpet"
           }
          ],
          "choropleth": [
           {
            "colorbar": {
             "outlinewidth": 0,
             "ticks": ""
            },
            "type": "choropleth"
           }
          ],
          "contour": [
           {
            "colorbar": {
             "outlinewidth": 0,
             "ticks": ""
            },
            "colorscale": [
             [
              0,
              "#0d0887"
             ],
             [
              0.1111111111111111,
              "#46039f"
             ],
             [
              0.2222222222222222,
              "#7201a8"
             ],
             [
              0.3333333333333333,
              "#9c179e"
             ],
             [
              0.4444444444444444,
              "#bd3786"
             ],
             [
              0.5555555555555556,
              "#d8576b"
             ],
             [
              0.6666666666666666,
              "#ed7953"
             ],
             [
              0.7777777777777778,
              "#fb9f3a"
             ],
             [
              0.8888888888888888,
              "#fdca26"
             ],
             [
              1,
              "#f0f921"
             ]
            ],
            "type": "contour"
           }
          ],
          "contourcarpet": [
           {
            "colorbar": {
             "outlinewidth": 0,
             "ticks": ""
            },
            "type": "contourcarpet"
           }
          ],
          "heatmap": [
           {
            "colorbar": {
             "outlinewidth": 0,
             "ticks": ""
            },
            "colorscale": [
             [
              0,
              "#0d0887"
             ],
             [
              0.1111111111111111,
              "#46039f"
             ],
             [
              0.2222222222222222,
              "#7201a8"
             ],
             [
              0.3333333333333333,
              "#9c179e"
             ],
             [
              0.4444444444444444,
              "#bd3786"
             ],
             [
              0.5555555555555556,
              "#d8576b"
             ],
             [
              0.6666666666666666,
              "#ed7953"
             ],
             [
              0.7777777777777778,
              "#fb9f3a"
             ],
             [
              0.8888888888888888,
              "#fdca26"
             ],
             [
              1,
              "#f0f921"
             ]
            ],
            "type": "heatmap"
           }
          ],
          "heatmapgl": [
           {
            "colorbar": {
             "outlinewidth": 0,
             "ticks": ""
            },
            "colorscale": [
             [
              0,
              "#0d0887"
             ],
             [
              0.1111111111111111,
              "#46039f"
             ],
             [
              0.2222222222222222,
              "#7201a8"
             ],
             [
              0.3333333333333333,
              "#9c179e"
             ],
             [
              0.4444444444444444,
              "#bd3786"
             ],
             [
              0.5555555555555556,
              "#d8576b"
             ],
             [
              0.6666666666666666,
              "#ed7953"
             ],
             [
              0.7777777777777778,
              "#fb9f3a"
             ],
             [
              0.8888888888888888,
              "#fdca26"
             ],
             [
              1,
              "#f0f921"
             ]
            ],
            "type": "heatmapgl"
           }
          ],
          "histogram": [
           {
            "marker": {
             "pattern": {
              "fillmode": "overlay",
              "size": 10,
              "solidity": 0.2
             }
            },
            "type": "histogram"
           }
          ],
          "histogram2d": [
           {
            "colorbar": {
             "outlinewidth": 0,
             "ticks": ""
            },
            "colorscale": [
             [
              0,
              "#0d0887"
             ],
             [
              0.1111111111111111,
              "#46039f"
             ],
             [
              0.2222222222222222,
              "#7201a8"
             ],
             [
              0.3333333333333333,
              "#9c179e"
             ],
             [
              0.4444444444444444,
              "#bd3786"
             ],
             [
              0.5555555555555556,
              "#d8576b"
             ],
             [
              0.6666666666666666,
              "#ed7953"
             ],
             [
              0.7777777777777778,
              "#fb9f3a"
             ],
             [
              0.8888888888888888,
              "#fdca26"
             ],
             [
              1,
              "#f0f921"
             ]
            ],
            "type": "histogram2d"
           }
          ],
          "histogram2dcontour": [
           {
            "colorbar": {
             "outlinewidth": 0,
             "ticks": ""
            },
            "colorscale": [
             [
              0,
              "#0d0887"
             ],
             [
              0.1111111111111111,
              "#46039f"
             ],
             [
              0.2222222222222222,
              "#7201a8"
             ],
             [
              0.3333333333333333,
              "#9c179e"
             ],
             [
              0.4444444444444444,
              "#bd3786"
             ],
             [
              0.5555555555555556,
              "#d8576b"
             ],
             [
              0.6666666666666666,
              "#ed7953"
             ],
             [
              0.7777777777777778,
              "#fb9f3a"
             ],
             [
              0.8888888888888888,
              "#fdca26"
             ],
             [
              1,
              "#f0f921"
             ]
            ],
            "type": "histogram2dcontour"
           }
          ],
          "mesh3d": [
           {
            "colorbar": {
             "outlinewidth": 0,
             "ticks": ""
            },
            "type": "mesh3d"
           }
          ],
          "parcoords": [
           {
            "line": {
             "colorbar": {
              "outlinewidth": 0,
              "ticks": ""
             }
            },
            "type": "parcoords"
           }
          ],
          "pie": [
           {
            "automargin": true,
            "type": "pie"
           }
          ],
          "scatter": [
           {
            "fillpattern": {
             "fillmode": "overlay",
             "size": 10,
             "solidity": 0.2
            },
            "type": "scatter"
           }
          ],
          "scatter3d": [
           {
            "line": {
             "colorbar": {
              "outlinewidth": 0,
              "ticks": ""
             }
            },
            "marker": {
             "colorbar": {
              "outlinewidth": 0,
              "ticks": ""
             }
            },
            "type": "scatter3d"
           }
          ],
          "scattercarpet": [
           {
            "marker": {
             "colorbar": {
              "outlinewidth": 0,
              "ticks": ""
             }
            },
            "type": "scattercarpet"
           }
          ],
          "scattergeo": [
           {
            "marker": {
             "colorbar": {
              "outlinewidth": 0,
              "ticks": ""
             }
            },
            "type": "scattergeo"
           }
          ],
          "scattergl": [
           {
            "marker": {
             "colorbar": {
              "outlinewidth": 0,
              "ticks": ""
             }
            },
            "type": "scattergl"
           }
          ],
          "scattermapbox": [
           {
            "marker": {
             "colorbar": {
              "outlinewidth": 0,
              "ticks": ""
             }
            },
            "type": "scattermapbox"
           }
          ],
          "scatterpolar": [
           {
            "marker": {
             "colorbar": {
              "outlinewidth": 0,
              "ticks": ""
             }
            },
            "type": "scatterpolar"
           }
          ],
          "scatterpolargl": [
           {
            "marker": {
             "colorbar": {
              "outlinewidth": 0,
              "ticks": ""
             }
            },
            "type": "scatterpolargl"
           }
          ],
          "scatterternary": [
           {
            "marker": {
             "colorbar": {
              "outlinewidth": 0,
              "ticks": ""
             }
            },
            "type": "scatterternary"
           }
          ],
          "surface": [
           {
            "colorbar": {
             "outlinewidth": 0,
             "ticks": ""
            },
            "colorscale": [
             [
              0,
              "#0d0887"
             ],
             [
              0.1111111111111111,
              "#46039f"
             ],
             [
              0.2222222222222222,
              "#7201a8"
             ],
             [
              0.3333333333333333,
              "#9c179e"
             ],
             [
              0.4444444444444444,
              "#bd3786"
             ],
             [
              0.5555555555555556,
              "#d8576b"
             ],
             [
              0.6666666666666666,
              "#ed7953"
             ],
             [
              0.7777777777777778,
              "#fb9f3a"
             ],
             [
              0.8888888888888888,
              "#fdca26"
             ],
             [
              1,
              "#f0f921"
             ]
            ],
            "type": "surface"
           }
          ],
          "table": [
           {
            "cells": {
             "fill": {
              "color": "#EBF0F8"
             },
             "line": {
              "color": "white"
             }
            },
            "header": {
             "fill": {
              "color": "#C8D4E3"
             },
             "line": {
              "color": "white"
             }
            },
            "type": "table"
           }
          ]
         },
         "layout": {
          "annotationdefaults": {
           "arrowcolor": "#2a3f5f",
           "arrowhead": 0,
           "arrowwidth": 1
          },
          "autotypenumbers": "strict",
          "coloraxis": {
           "colorbar": {
            "outlinewidth": 0,
            "ticks": ""
           }
          },
          "colorscale": {
           "diverging": [
            [
             0,
             "#8e0152"
            ],
            [
             0.1,
             "#c51b7d"
            ],
            [
             0.2,
             "#de77ae"
            ],
            [
             0.3,
             "#f1b6da"
            ],
            [
             0.4,
             "#fde0ef"
            ],
            [
             0.5,
             "#f7f7f7"
            ],
            [
             0.6,
             "#e6f5d0"
            ],
            [
             0.7,
             "#b8e186"
            ],
            [
             0.8,
             "#7fbc41"
            ],
            [
             0.9,
             "#4d9221"
            ],
            [
             1,
             "#276419"
            ]
           ],
           "sequential": [
            [
             0,
             "#0d0887"
            ],
            [
             0.1111111111111111,
             "#46039f"
            ],
            [
             0.2222222222222222,
             "#7201a8"
            ],
            [
             0.3333333333333333,
             "#9c179e"
            ],
            [
             0.4444444444444444,
             "#bd3786"
            ],
            [
             0.5555555555555556,
             "#d8576b"
            ],
            [
             0.6666666666666666,
             "#ed7953"
            ],
            [
             0.7777777777777778,
             "#fb9f3a"
            ],
            [
             0.8888888888888888,
             "#fdca26"
            ],
            [
             1,
             "#f0f921"
            ]
           ],
           "sequentialminus": [
            [
             0,
             "#0d0887"
            ],
            [
             0.1111111111111111,
             "#46039f"
            ],
            [
             0.2222222222222222,
             "#7201a8"
            ],
            [
             0.3333333333333333,
             "#9c179e"
            ],
            [
             0.4444444444444444,
             "#bd3786"
            ],
            [
             0.5555555555555556,
             "#d8576b"
            ],
            [
             0.6666666666666666,
             "#ed7953"
            ],
            [
             0.7777777777777778,
             "#fb9f3a"
            ],
            [
             0.8888888888888888,
             "#fdca26"
            ],
            [
             1,
             "#f0f921"
            ]
           ]
          },
          "colorway": [
           "#636efa",
           "#EF553B",
           "#00cc96",
           "#ab63fa",
           "#FFA15A",
           "#19d3f3",
           "#FF6692",
           "#B6E880",
           "#FF97FF",
           "#FECB52"
          ],
          "font": {
           "color": "#2a3f5f"
          },
          "geo": {
           "bgcolor": "white",
           "lakecolor": "white",
           "landcolor": "#E5ECF6",
           "showlakes": true,
           "showland": true,
           "subunitcolor": "white"
          },
          "hoverlabel": {
           "align": "left"
          },
          "hovermode": "closest",
          "mapbox": {
           "style": "light"
          },
          "paper_bgcolor": "white",
          "plot_bgcolor": "#E5ECF6",
          "polar": {
           "angularaxis": {
            "gridcolor": "white",
            "linecolor": "white",
            "ticks": ""
           },
           "bgcolor": "#E5ECF6",
           "radialaxis": {
            "gridcolor": "white",
            "linecolor": "white",
            "ticks": ""
           }
          },
          "scene": {
           "xaxis": {
            "backgroundcolor": "#E5ECF6",
            "gridcolor": "white",
            "gridwidth": 2,
            "linecolor": "white",
            "showbackground": true,
            "ticks": "",
            "zerolinecolor": "white"
           },
           "yaxis": {
            "backgroundcolor": "#E5ECF6",
            "gridcolor": "white",
            "gridwidth": 2,
            "linecolor": "white",
            "showbackground": true,
            "ticks": "",
            "zerolinecolor": "white"
           },
           "zaxis": {
            "backgroundcolor": "#E5ECF6",
            "gridcolor": "white",
            "gridwidth": 2,
            "linecolor": "white",
            "showbackground": true,
            "ticks": "",
            "zerolinecolor": "white"
           }
          },
          "shapedefaults": {
           "line": {
            "color": "#2a3f5f"
           }
          },
          "ternary": {
           "aaxis": {
            "gridcolor": "white",
            "linecolor": "white",
            "ticks": ""
           },
           "baxis": {
            "gridcolor": "white",
            "linecolor": "white",
            "ticks": ""
           },
           "bgcolor": "#E5ECF6",
           "caxis": {
            "gridcolor": "white",
            "linecolor": "white",
            "ticks": ""
           }
          },
          "title": {
           "x": 0.05
          },
          "xaxis": {
           "automargin": true,
           "gridcolor": "white",
           "linecolor": "white",
           "ticks": "",
           "title": {
            "standoff": 15
           },
           "zerolinecolor": "white",
           "zerolinewidth": 2
          },
          "yaxis": {
           "automargin": true,
           "gridcolor": "white",
           "linecolor": "white",
           "ticks": "",
           "title": {
            "standoff": 15
           },
           "zerolinecolor": "white",
           "zerolinewidth": 2
          }
         }
        },
        "title": {
         "text": "Contour Plot"
        },
        "xaxis": {
         "range": [
          2.7,
          31.3
         ],
         "title": {
          "text": "max_depth"
         }
        },
        "yaxis": {
         "range": [
          -0.9000000000000004,
          62.9
         ],
         "title": {
          "text": "min_samples_leaf"
         }
        }
       }
      }
     },
     "metadata": {},
     "output_type": "display_data"
    }
   ],
   "source": [
    "optuna.visualization.plot_contour(study)"
   ]
  },
  {
   "cell_type": "code",
   "execution_count": 103,
   "metadata": {},
   "outputs": [
    {
     "data": {
      "application/vnd.plotly.v1+json": {
       "config": {
        "plotlyServerURL": "https://plot.ly"
       },
       "data": [
        {
         "base": [
          "2024-12-27T16:54:23.003308",
          "2024-12-27T16:54:23.007569",
          "2024-12-27T16:54:23.008621",
          "2024-12-27T16:54:23.007182",
          "2024-12-27T16:54:23.007535",
          "2024-12-27T16:54:23.011427",
          "2024-12-27T16:54:23.009659",
          "2024-12-27T16:54:23.009696",
          "2024-12-27T16:54:23.014534",
          "2024-12-27T16:54:23.011269",
          "2024-12-27T16:54:23.015288",
          "2024-12-27T16:54:23.016748",
          "2024-12-27T16:55:01.038893",
          "2024-12-27T16:55:03.576163",
          "2024-12-27T16:55:04.717234",
          "2024-12-27T16:55:06.486370",
          "2024-12-27T16:55:07.307747",
          "2024-12-27T16:55:07.459191",
          "2024-12-27T16:55:09.286179",
          "2024-12-27T16:55:09.834307",
          "2024-12-27T16:55:10.353830",
          "2024-12-27T16:55:11.742205",
          "2024-12-27T16:55:14.717789",
          "2024-12-27T16:55:16.693203",
          "2024-12-27T16:55:30.875707",
          "2024-12-27T16:55:31.976656",
          "2024-12-27T16:55:34.258263",
          "2024-12-27T16:55:35.302174",
          "2024-12-27T16:55:41.031666",
          "2024-12-27T16:55:43.378490",
          "2024-12-27T16:55:46.372301",
          "2024-12-27T16:55:46.383612",
          "2024-12-27T16:55:46.690620",
          "2024-12-27T16:55:51.718148",
          "2024-12-27T16:55:52.484926",
          "2024-12-27T16:55:52.920520",
          "2024-12-27T16:55:54.410317",
          "2024-12-27T16:55:55.041738",
          "2024-12-27T16:55:56.383291",
          "2024-12-27T16:56:07.695305",
          "2024-12-27T16:56:13.772031",
          "2024-12-27T16:56:14.072797",
          "2024-12-27T16:56:16.269906",
          "2024-12-27T16:56:19.113768",
          "2024-12-27T16:56:19.206475",
          "2024-12-27T16:56:24.675052",
          "2024-12-27T16:56:25.171308",
          "2024-12-27T16:56:26.258204",
          "2024-12-27T16:56:26.990736",
          "2024-12-27T16:56:27.800742",
          "2024-12-27T16:56:29.231921",
          "2024-12-27T16:56:40.853639",
          "2024-12-27T16:56:41.756678",
          "2024-12-27T16:56:44.185978",
          "2024-12-27T16:56:46.952778",
          "2024-12-27T16:56:46.980558",
          "2024-12-27T16:56:51.326262",
          "2024-12-27T16:56:53.013809",
          "2024-12-27T16:56:53.238894",
          "2024-12-27T16:56:54.540514",
          "2024-12-27T16:56:55.023302",
          "2024-12-27T16:56:55.911081",
          "2024-12-27T16:56:57.695659",
          "2024-12-27T16:57:08.751167",
          "2024-12-27T16:57:09.491168",
          "2024-12-27T16:57:14.231262",
          "2024-12-27T16:57:18.246685",
          "2024-12-27T16:57:23.624100",
          "2024-12-27T16:57:25.957343",
          "2024-12-27T16:57:29.280972",
          "2024-12-27T16:57:32.509061",
          "2024-12-27T16:57:34.236235",
          "2024-12-27T16:57:34.469207",
          "2024-12-27T16:57:34.941412",
          "2024-12-27T16:57:37.023627",
          "2024-12-27T16:57:52.674203",
          "2024-12-27T16:57:52.824758",
          "2024-12-27T16:57:53.014665",
          "2024-12-27T16:57:53.929392",
          "2024-12-27T16:58:01.330275",
          "2024-12-27T16:58:08.467520",
          "2024-12-27T16:58:09.580939",
          "2024-12-27T16:58:12.415573",
          "2024-12-27T16:58:13.090387",
          "2024-12-27T16:58:13.894986",
          "2024-12-27T16:58:14.271143",
          "2024-12-27T16:58:17.049223",
          "2024-12-27T16:58:18.449326",
          "2024-12-27T16:58:19.304440",
          "2024-12-27T16:58:22.303307",
          "2024-12-27T16:58:29.092579",
          "2024-12-27T16:58:29.712392",
          "2024-12-27T16:58:30.366964",
          "2024-12-27T16:58:31.359286",
          "2024-12-27T16:58:34.433405",
          "2024-12-27T16:58:35.079889",
          "2024-12-27T16:58:36.219491",
          "2024-12-27T16:58:36.670433",
          "2024-12-27T16:58:38.806696",
          "2024-12-27T16:58:40.425091"
         ],
         "hovertemplate": "%{text}<extra>COMPLETE</extra>",
         "marker": {
          "color": "blue"
         },
         "name": "COMPLETE",
         "orientation": "h",
         "text": [
          "{<br>  \"number\": 0,<br>  \"values\": [<br>    0.18412085401949496<br>  ],<br>  \"params\": {<br>    \"max_depth\": 12,<br>    \"min_samples_leaf\": 58<br>  }<br>}",
          "{<br>  \"number\": 1,<br>  \"values\": [<br>    0.10182315759829152<br>  ],<br>  \"params\": {<br>    \"max_depth\": 22,<br>    \"min_samples_leaf\": 20<br>  }<br>}",
          "{<br>  \"number\": 2,<br>  \"values\": [<br>    0.114336260184603<br>  ],<br>  \"params\": {<br>    \"max_depth\": 20,<br>    \"min_samples_leaf\": 24<br>  }<br>}",
          "{<br>  \"number\": 3,<br>  \"values\": [<br>    0.1473723511823698<br>  ],<br>  \"params\": {<br>    \"max_depth\": 14,<br>    \"min_samples_leaf\": 22<br>  }<br>}",
          "{<br>  \"number\": 4,<br>  \"values\": [<br>    0.16655986834073938<br>  ],<br>  \"params\": {<br>    \"max_depth\": 14,<br>    \"min_samples_leaf\": 48<br>  }<br>}",
          "{<br>  \"number\": 5,<br>  \"values\": [<br>    0.12693043483991379<br>  ],<br>  \"params\": {<br>    \"max_depth\": 18,<br>    \"min_samples_leaf\": 30<br>  }<br>}",
          "{<br>  \"number\": 6,<br>  \"values\": [<br>    0.08074517778084345<br>  ],<br>  \"params\": {<br>    \"max_depth\": 18,<br>    \"min_samples_leaf\": 4<br>  }<br>}",
          "{<br>  \"number\": 7,<br>  \"values\": [<br>    0.055373011327521336<br>  ],<br>  \"params\": {<br>    \"max_depth\": 30,<br>    \"min_samples_leaf\": 4<br>  }<br>}",
          "{<br>  \"number\": 8,<br>  \"values\": [<br>    0.13779744280687428<br>  ],<br>  \"params\": {<br>    \"max_depth\": 28,<br>    \"min_samples_leaf\": 46<br>  }<br>}",
          "{<br>  \"number\": 9,<br>  \"values\": [<br>    0.13777527253161956<br>  ],<br>  \"params\": {<br>    \"max_depth\": 16,<br>    \"min_samples_leaf\": 30<br>  }<br>}",
          "{<br>  \"number\": 10,<br>  \"values\": [<br>    0.05756786548738698<br>  ],<br>  \"params\": {<br>    \"max_depth\": 26,<br>    \"min_samples_leaf\": 6<br>  }<br>}",
          "{<br>  \"number\": 11,<br>  \"values\": [<br>    0.09805668196281353<br>  ],<br>  \"params\": {<br>    \"max_depth\": 30,<br>    \"min_samples_leaf\": 20<br>  }<br>}",
          "{<br>  \"number\": 12,<br>  \"values\": [<br>    0.1352999859710454<br>  ],<br>  \"params\": {<br>    \"max_depth\": 30,<br>    \"min_samples_leaf\": 44<br>  }<br>}",
          "{<br>  \"number\": 13,<br>  \"values\": [<br>    0.21118333127958522<br>  ],<br>  \"params\": {<br>    \"max_depth\": 8,<br>    \"min_samples_leaf\": 48<br>  }<br>}",
          "{<br>  \"number\": 14,<br>  \"values\": [<br>    0.19386443191278085<br>  ],<br>  \"params\": {<br>    \"max_depth\": 10,<br>    \"min_samples_leaf\": 18<br>  }<br>}",
          "{<br>  \"number\": 15,<br>  \"values\": [<br>    0.16946497005235944<br>  ],<br>  \"params\": {<br>    \"max_depth\": 12,<br>    \"min_samples_leaf\": 16<br>  }<br>}",
          "{<br>  \"number\": 16,<br>  \"values\": [<br>    0.10761824808325546<br>  ],<br>  \"params\": {<br>    \"max_depth\": 18,<br>    \"min_samples_leaf\": 16<br>  }<br>}",
          "{<br>  \"number\": 17,<br>  \"values\": [<br>    0.21239382007590163<br>  ],<br>  \"params\": {<br>    \"max_depth\": 6,<br>    \"min_samples_leaf\": 16<br>  }<br>}",
          "{<br>  \"number\": 18,<br>  \"values\": [<br>    0.14298445196152776<br>  ],<br>  \"params\": {<br>    \"max_depth\": 14,<br>    \"min_samples_leaf\": 14<br>  }<br>}",
          "{<br>  \"number\": 19,<br>  \"values\": [<br>    0.11618946375519963<br>  ],<br>  \"params\": {<br>    \"max_depth\": 18,<br>    \"min_samples_leaf\": 22<br>  }<br>}",
          "{<br>  \"number\": 20,<br>  \"values\": [<br>    0.2070863212231792<br>  ],<br>  \"params\": {<br>    \"max_depth\": 4,<br>    \"min_samples_leaf\": 16<br>  }<br>}",
          "{<br>  \"number\": 21,<br>  \"values\": [<br>    0.2074517587464924<br>  ],<br>  \"params\": {<br>    \"max_depth\": 4,<br>    \"min_samples_leaf\": 60<br>  }<br>}",
          "{<br>  \"number\": 22,<br>  \"values\": [<br>    0.2120317992201884<br>  ],<br>  \"params\": {<br>    \"max_depth\": 8,<br>    \"min_samples_leaf\": 60<br>  }<br>}",
          "{<br>  \"number\": 23,<br>  \"values\": [<br>    0.21160755956117172<br>  ],<br>  \"params\": {<br>    \"max_depth\": 6,<br>    \"min_samples_leaf\": 60<br>  }<br>}",
          "{<br>  \"number\": 24,<br>  \"values\": [<br>    0.2074517587464924<br>  ],<br>  \"params\": {<br>    \"max_depth\": 4,<br>    \"min_samples_leaf\": 60<br>  }<br>}",
          "{<br>  \"number\": 25,<br>  \"values\": [<br>    0.2075836899215105<br>  ],<br>  \"params\": {<br>    \"max_depth\": 4,<br>    \"min_samples_leaf\": 42<br>  }<br>}",
          "{<br>  \"number\": 26,<br>  \"values\": [<br>    0.20793501822770305<br>  ],<br>  \"params\": {<br>    \"max_depth\": 4,<br>    \"min_samples_leaf\": 40<br>  }<br>}",
          "{<br>  \"number\": 27,<br>  \"values\": [<br>    0.20928618901404125<br>  ],<br>  \"params\": {<br>    \"max_depth\": 8,<br>    \"min_samples_leaf\": 42<br>  }<br>}",
          "{<br>  \"number\": 28,<br>  \"values\": [<br>    0.20826312178255982<br>  ],<br>  \"params\": {<br>    \"max_depth\": 8,<br>    \"min_samples_leaf\": 40<br>  }<br>}",
          "{<br>  \"number\": 29,<br>  \"values\": [<br>    0.20826312178255982<br>  ],<br>  \"params\": {<br>    \"max_depth\": 8,<br>    \"min_samples_leaf\": 40<br>  }<br>}",
          "{<br>  \"number\": 30,<br>  \"values\": [<br>    0.2084723067201651<br>  ],<br>  \"params\": {<br>    \"max_depth\": 8,<br>    \"min_samples_leaf\": 38<br>  }<br>}",
          "{<br>  \"number\": 31,<br>  \"values\": [<br>    0.2084723067201651<br>  ],<br>  \"params\": {<br>    \"max_depth\": 8,<br>    \"min_samples_leaf\": 38<br>  }<br>}",
          "{<br>  \"number\": 32,<br>  \"values\": [<br>    0.21253846030101647<br>  ],<br>  \"params\": {<br>    \"max_depth\": 6,<br>    \"min_samples_leaf\": 54<br>  }<br>}",
          "{<br>  \"number\": 33,<br>  \"values\": [<br>    0.20944390248013<br>  ],<br>  \"params\": {<br>    \"max_depth\": 8,<br>    \"min_samples_leaf\": 54<br>  }<br>}",
          "{<br>  \"number\": 34,<br>  \"values\": [<br>    0.20944390248013<br>  ],<br>  \"params\": {<br>    \"max_depth\": 8,<br>    \"min_samples_leaf\": 54<br>  }<br>}",
          "{<br>  \"number\": 35,<br>  \"values\": [<br>    0.21038332082857963<br>  ],<br>  \"params\": {<br>    \"max_depth\": 8,<br>    \"min_samples_leaf\": 52<br>  }<br>}",
          "{<br>  \"number\": 36,<br>  \"values\": [<br>    0.21038332082857963<br>  ],<br>  \"params\": {<br>    \"max_depth\": 8,<br>    \"min_samples_leaf\": 52<br>  }<br>}",
          "{<br>  \"number\": 37,<br>  \"values\": [<br>    0.20944390248013<br>  ],<br>  \"params\": {<br>    \"max_depth\": 8,<br>    \"min_samples_leaf\": 54<br>  }<br>}",
          "{<br>  \"number\": 38,<br>  \"values\": [<br>    0.20944390248013<br>  ],<br>  \"params\": {<br>    \"max_depth\": 8,<br>    \"min_samples_leaf\": 54<br>  }<br>}",
          "{<br>  \"number\": 39,<br>  \"values\": [<br>    0.20944390248013<br>  ],<br>  \"params\": {<br>    \"max_depth\": 8,<br>    \"min_samples_leaf\": 54<br>  }<br>}",
          "{<br>  \"number\": 40,<br>  \"values\": [<br>    0.21253846030101647<br>  ],<br>  \"params\": {<br>    \"max_depth\": 6,<br>    \"min_samples_leaf\": 54<br>  }<br>}",
          "{<br>  \"number\": 41,<br>  \"values\": [<br>    0.1959852477286212<br>  ],<br>  \"params\": {<br>    \"max_depth\": 10,<br>    \"min_samples_leaf\": 54<br>  }<br>}",
          "{<br>  \"number\": 42,<br>  \"values\": [<br>    0.21253846030101647<br>  ],<br>  \"params\": {<br>    \"max_depth\": 6,<br>    \"min_samples_leaf\": 54<br>  }<br>}",
          "{<br>  \"number\": 43,<br>  \"values\": [<br>    0.21253846030101647<br>  ],<br>  \"params\": {<br>    \"max_depth\": 6,<br>    \"min_samples_leaf\": 54<br>  }<br>}",
          "{<br>  \"number\": 44,<br>  \"values\": [<br>    0.21253846030101647<br>  ],<br>  \"params\": {<br>    \"max_depth\": 6,<br>    \"min_samples_leaf\": 54<br>  }<br>}",
          "{<br>  \"number\": 45,<br>  \"values\": [<br>    0.21253846030101647<br>  ],<br>  \"params\": {<br>    \"max_depth\": 6,<br>    \"min_samples_leaf\": 54<br>  }<br>}",
          "{<br>  \"number\": 46,<br>  \"values\": [<br>    0.21253846030101647<br>  ],<br>  \"params\": {<br>    \"max_depth\": 6,<br>    \"min_samples_leaf\": 54<br>  }<br>}",
          "{<br>  \"number\": 47,<br>  \"values\": [<br>    0.2106428541096022<br>  ],<br>  \"params\": {<br>    \"max_depth\": 6,<br>    \"min_samples_leaf\": 58<br>  }<br>}",
          "{<br>  \"number\": 48,<br>  \"values\": [<br>    0.2106428541096022<br>  ],<br>  \"params\": {<br>    \"max_depth\": 6,<br>    \"min_samples_leaf\": 58<br>  }<br>}",
          "{<br>  \"number\": 49,<br>  \"values\": [<br>    0.2106428541096022<br>  ],<br>  \"params\": {<br>    \"max_depth\": 6,<br>    \"min_samples_leaf\": 58<br>  }<br>}",
          "{<br>  \"number\": 50,<br>  \"values\": [<br>    0.2114033510183778<br>  ],<br>  \"params\": {<br>    \"max_depth\": 6,<br>    \"min_samples_leaf\": 10<br>  }<br>}",
          "{<br>  \"number\": 51,<br>  \"values\": [<br>    0.21081279711590387<br>  ],<br>  \"params\": {<br>    \"max_depth\": 6,<br>    \"min_samples_leaf\": 26<br>  }<br>}",
          "{<br>  \"number\": 52,<br>  \"values\": [<br>    0.2106428541096022<br>  ],<br>  \"params\": {<br>    \"max_depth\": 6,<br>    \"min_samples_leaf\": 58<br>  }<br>}",
          "{<br>  \"number\": 53,<br>  \"values\": [<br>    0.18127683394198996<br>  ],<br>  \"params\": {<br>    \"max_depth\": 12,<br>    \"min_samples_leaf\": 50<br>  }<br>}",
          "{<br>  \"number\": 54,<br>  \"values\": [<br>    0.21030079391938314<br>  ],<br>  \"params\": {<br>    \"max_depth\": 6,<br>    \"min_samples_leaf\": 34<br>  }<br>}",
          "{<br>  \"number\": 55,<br>  \"values\": [<br>    0.18127683394198996<br>  ],<br>  \"params\": {<br>    \"max_depth\": 12,<br>    \"min_samples_leaf\": 50<br>  }<br>}",
          "{<br>  \"number\": 56,<br>  \"values\": [<br>    0.21425293785437508<br>  ],<br>  \"params\": {<br>    \"max_depth\": 6,<br>    \"min_samples_leaf\": 50<br>  }<br>}",
          "{<br>  \"number\": 57,<br>  \"values\": [<br>    0.19801287654513142<br>  ],<br>  \"params\": {<br>    \"max_depth\": 10,<br>    \"min_samples_leaf\": 48<br>  }<br>}",
          "{<br>  \"number\": 58,<br>  \"values\": [<br>    0.18289843046232201<br>  ],<br>  \"params\": {<br>    \"max_depth\": 12,<br>    \"min_samples_leaf\": 48<br>  }<br>}",
          "{<br>  \"number\": 59,<br>  \"values\": [<br>    0.18289843046232201<br>  ],<br>  \"params\": {<br>    \"max_depth\": 12,<br>    \"min_samples_leaf\": 48<br>  }<br>}",
          "{<br>  \"number\": 60,<br>  \"values\": [<br>    0.18289843046232201<br>  ],<br>  \"params\": {<br>    \"max_depth\": 12,<br>    \"min_samples_leaf\": 48<br>  }<br>}",
          "{<br>  \"number\": 61,<br>  \"values\": [<br>    0.18289843046232201<br>  ],<br>  \"params\": {<br>    \"max_depth\": 12,<br>    \"min_samples_leaf\": 48<br>  }<br>}",
          "{<br>  \"number\": 62,<br>  \"values\": [<br>    0.18289843046232201<br>  ],<br>  \"params\": {<br>    \"max_depth\": 12,<br>    \"min_samples_leaf\": 48<br>  }<br>}",
          "{<br>  \"number\": 63,<br>  \"values\": [<br>    0.14037672990531325<br>  ],<br>  \"params\": {<br>    \"max_depth\": 22,<br>    \"min_samples_leaf\": 48<br>  }<br>}",
          "{<br>  \"number\": 64,<br>  \"values\": [<br>    0.13990952438537319<br>  ],<br>  \"params\": {<br>    \"max_depth\": 24,<br>    \"min_samples_leaf\": 48<br>  }<br>}",
          "{<br>  \"number\": 65,<br>  \"values\": [<br>    0.18289843046232201<br>  ],<br>  \"params\": {<br>    \"max_depth\": 12,<br>    \"min_samples_leaf\": 48<br>  }<br>}",
          "{<br>  \"number\": 66,<br>  \"values\": [<br>    0.19801287654513142<br>  ],<br>  \"params\": {<br>    \"max_depth\": 10,<br>    \"min_samples_leaf\": 48<br>  }<br>}",
          "{<br>  \"number\": 67,<br>  \"values\": [<br>    0.13990952438537319<br>  ],<br>  \"params\": {<br>    \"max_depth\": 24,<br>    \"min_samples_leaf\": 48<br>  }<br>}",
          "{<br>  \"number\": 68,<br>  \"values\": [<br>    0.19638417386316634<br>  ],<br>  \"params\": {<br>    \"max_depth\": 10,<br>    \"min_samples_leaf\": 46<br>  }<br>}",
          "{<br>  \"number\": 69,<br>  \"values\": [<br>    0.1388103971745935<br>  ],<br>  \"params\": {<br>    \"max_depth\": 24,<br>    \"min_samples_leaf\": 46<br>  }<br>}",
          "{<br>  \"number\": 70,<br>  \"values\": [<br>    0.13606269777745572<br>  ],<br>  \"params\": {<br>    \"max_depth\": 22,<br>    \"min_samples_leaf\": 46<br>  }<br>}",
          "{<br>  \"number\": 71,<br>  \"values\": [<br>    0.1388103971745935<br>  ],<br>  \"params\": {<br>    \"max_depth\": 24,<br>    \"min_samples_leaf\": 46<br>  }<br>}",
          "{<br>  \"number\": 72,<br>  \"values\": [<br>    0.1966960691243608<br>  ],<br>  \"params\": {<br>    \"max_depth\": 10,<br>    \"min_samples_leaf\": 56<br>  }<br>}",
          "{<br>  \"number\": 73,<br>  \"values\": [<br>    0.14741163306697186<br>  ],<br>  \"params\": {<br>    \"max_depth\": 24,<br>    \"min_samples_leaf\": 56<br>  }<br>}",
          "{<br>  \"number\": 74,<br>  \"values\": [<br>    0.1966960691243608<br>  ],<br>  \"params\": {<br>    \"max_depth\": 10,<br>    \"min_samples_leaf\": 56<br>  }<br>}",
          "{<br>  \"number\": 75,<br>  \"values\": [<br>    0.1966960691243608<br>  ],<br>  \"params\": {<br>    \"max_depth\": 10,<br>    \"min_samples_leaf\": 56<br>  }<br>}",
          "{<br>  \"number\": 76,<br>  \"values\": [<br>    0.1966960691243608<br>  ],<br>  \"params\": {<br>    \"max_depth\": 10,<br>    \"min_samples_leaf\": 56<br>  }<br>}",
          "{<br>  \"number\": 77,<br>  \"values\": [<br>    0.20757440804066948<br>  ],<br>  \"params\": {<br>    \"max_depth\": 4,<br>    \"min_samples_leaf\": 44<br>  }<br>}",
          "{<br>  \"number\": 78,<br>  \"values\": [<br>    0.20719542628333257<br>  ],<br>  \"params\": {<br>    \"max_depth\": 4,<br>    \"min_samples_leaf\": 56<br>  }<br>}",
          "{<br>  \"number\": 79,<br>  \"values\": [<br>    0.20719542628333257<br>  ],<br>  \"params\": {<br>    \"max_depth\": 4,<br>    \"min_samples_leaf\": 56<br>  }<br>}",
          "{<br>  \"number\": 80,<br>  \"values\": [<br>    0.20719542628333257<br>  ],<br>  \"params\": {<br>    \"max_depth\": 4,<br>    \"min_samples_leaf\": 56<br>  }<br>}",
          "{<br>  \"number\": 81,<br>  \"values\": [<br>    0.20719542628333257<br>  ],<br>  \"params\": {<br>    \"max_depth\": 4,<br>    \"min_samples_leaf\": 56<br>  }<br>}",
          "{<br>  \"number\": 82,<br>  \"values\": [<br>    0.20725718834705403<br>  ],<br>  \"params\": {<br>    \"max_depth\": 4,<br>    \"min_samples_leaf\": 52<br>  }<br>}",
          "{<br>  \"number\": 83,<br>  \"values\": [<br>    0.20719542628333257<br>  ],<br>  \"params\": {<br>    \"max_depth\": 4,<br>    \"min_samples_leaf\": 56<br>  }<br>}",
          "{<br>  \"number\": 84,<br>  \"values\": [<br>    0.20725718834705403<br>  ],<br>  \"params\": {<br>    \"max_depth\": 4,<br>    \"min_samples_leaf\": 52<br>  }<br>}",
          "{<br>  \"number\": 85,<br>  \"values\": [<br>    0.20725718834705403<br>  ],<br>  \"params\": {<br>    \"max_depth\": 4,<br>    \"min_samples_leaf\": 52<br>  }<br>}",
          "{<br>  \"number\": 86,<br>  \"values\": [<br>    0.20725718834705403<br>  ],<br>  \"params\": {<br>    \"max_depth\": 4,<br>    \"min_samples_leaf\": 52<br>  }<br>}",
          "{<br>  \"number\": 87,<br>  \"values\": [<br>    0.20725718834705403<br>  ],<br>  \"params\": {<br>    \"max_depth\": 4,<br>    \"min_samples_leaf\": 52<br>  }<br>}",
          "{<br>  \"number\": 88,<br>  \"values\": [<br>    0.20725718834705403<br>  ],<br>  \"params\": {<br>    \"max_depth\": 4,<br>    \"min_samples_leaf\": 52<br>  }<br>}",
          "{<br>  \"number\": 89,<br>  \"values\": [<br>    0.21257096215799845<br>  ],<br>  \"params\": {<br>    \"max_depth\": 6,<br>    \"min_samples_leaf\": 52<br>  }<br>}",
          "{<br>  \"number\": 90,<br>  \"values\": [<br>    0.21257096215799845<br>  ],<br>  \"params\": {<br>    \"max_depth\": 6,<br>    \"min_samples_leaf\": 52<br>  }<br>}",
          "{<br>  \"number\": 91,<br>  \"values\": [<br>    0.21257096215799845<br>  ],<br>  \"params\": {<br>    \"max_depth\": 6,<br>    \"min_samples_leaf\": 52<br>  }<br>}",
          "{<br>  \"number\": 92,<br>  \"values\": [<br>    0.21257096215799845<br>  ],<br>  \"params\": {<br>    \"max_depth\": 6,<br>    \"min_samples_leaf\": 52<br>  }<br>}",
          "{<br>  \"number\": 93,<br>  \"values\": [<br>    0.21257096215799845<br>  ],<br>  \"params\": {<br>    \"max_depth\": 6,<br>    \"min_samples_leaf\": 52<br>  }<br>}",
          "{<br>  \"number\": 94,<br>  \"values\": [<br>    0.21257096215799845<br>  ],<br>  \"params\": {<br>    \"max_depth\": 6,<br>    \"min_samples_leaf\": 52<br>  }<br>}",
          "{<br>  \"number\": 95,<br>  \"values\": [<br>    0.21257096215799845<br>  ],<br>  \"params\": {<br>    \"max_depth\": 6,<br>    \"min_samples_leaf\": 52<br>  }<br>}",
          "{<br>  \"number\": 96,<br>  \"values\": [<br>    0.21072568415029647<br>  ],<br>  \"params\": {<br>    \"max_depth\": 6,<br>    \"min_samples_leaf\": 28<br>  }<br>}",
          "{<br>  \"number\": 97,<br>  \"values\": [<br>    0.21176074102962206<br>  ],<br>  \"params\": {<br>    \"max_depth\": 6,<br>    \"min_samples_leaf\": 2<br>  }<br>}",
          "{<br>  \"number\": 98,<br>  \"values\": [<br>    0.21425293785437508<br>  ],<br>  \"params\": {<br>    \"max_depth\": 6,<br>    \"min_samples_leaf\": 50<br>  }<br>}",
          "{<br>  \"number\": 99,<br>  \"values\": [<br>    0.21160755956117172<br>  ],<br>  \"params\": {<br>    \"max_depth\": 6,<br>    \"min_samples_leaf\": 60<br>  }<br>}"
         ],
         "textposition": "none",
         "type": "bar",
         "x": [
          38029.924,
          46820.774999999994,
          46272.851,
          41704.958,
          40564.901,
          44424.795000000006,
          48725.844000000005,
          53678.054000000004,
          44289.462,
          43468.45,
          51697.533,
          47334.293000000005,
          45327.929,
          31715.875,
          36308.177,
          39883.614,
          47089.786,
          26788.322999999997,
          43627.949,
          46542.265999999996,
          20516.638,
          20217.647,
          31965.801,
          26681.158,
          20839.300000000003,
          20504.189,
          20778.748,
          32383.896,
          32736.906,
          32888.305,
          32829.770000000004,
          32723.777,
          27376.852,
          32953.18,
          32682.499999999996,
          33332.858,
          32573.352,
          32744.17,
          32845.835,
          33155.090000000004,
          27979.078,
          37248.239,
          27902.269,
          27829.173000000003,
          27763.192,
          28324.472,
          28050.840999999997,
          28242.100000000002,
          28026.583,
          28096.5,
          28453.237999999998,
          27891.045,
          27731.056,
          39434.028,
          27274.75,
          38973.297000000006,
          26913.405000000002,
          36264.341,
          39267.327000000005,
          39692.456999999995,
          39439.438,
          39026.957,
          39324.432,
          43919.555,
          44431.954,
          38590.848,
          34765.409,
          44839.752,
          35365.693999999996,
          44607.737,
          44528.286,
          45055.473999999995,
          35107.740999999995,
          43503.486000000004,
          35382.001000000004,
          36409.886,
          36881.528000000006,
          20067.69,
          20337.43,
          20948.014,
          21890.495000000003,
          21774.066000000003,
          22010.677,
          21957.358,
          22315.331000000002,
          22385.007,
          21751.941,
          21971.561,
          22124.581,
          27481.05,
          26791.125,
          26266.684999999998,
          26467.716,
          25786.539999999997,
          24577.864999999998,
          24383.477,
          23988.484,
          23691.210000000003,
          22803.328,
          21509.666
         ],
         "y": [
          0,
          1,
          2,
          3,
          4,
          5,
          6,
          7,
          8,
          9,
          10,
          11,
          12,
          13,
          14,
          15,
          16,
          17,
          18,
          19,
          20,
          21,
          22,
          23,
          24,
          25,
          26,
          27,
          28,
          29,
          30,
          31,
          32,
          33,
          34,
          35,
          36,
          37,
          38,
          39,
          40,
          41,
          42,
          43,
          44,
          45,
          46,
          47,
          48,
          49,
          50,
          51,
          52,
          53,
          54,
          55,
          56,
          57,
          58,
          59,
          60,
          61,
          62,
          63,
          64,
          65,
          66,
          67,
          68,
          69,
          70,
          71,
          72,
          73,
          74,
          75,
          76,
          77,
          78,
          79,
          80,
          81,
          82,
          83,
          84,
          85,
          86,
          87,
          88,
          89,
          90,
          91,
          92,
          93,
          94,
          95,
          96,
          97,
          98,
          99
         ]
        }
       ],
       "layout": {
        "showlegend": true,
        "template": {
         "data": {
          "bar": [
           {
            "error_x": {
             "color": "#2a3f5f"
            },
            "error_y": {
             "color": "#2a3f5f"
            },
            "marker": {
             "line": {
              "color": "#E5ECF6",
              "width": 0.5
             },
             "pattern": {
              "fillmode": "overlay",
              "size": 10,
              "solidity": 0.2
             }
            },
            "type": "bar"
           }
          ],
          "barpolar": [
           {
            "marker": {
             "line": {
              "color": "#E5ECF6",
              "width": 0.5
             },
             "pattern": {
              "fillmode": "overlay",
              "size": 10,
              "solidity": 0.2
             }
            },
            "type": "barpolar"
           }
          ],
          "carpet": [
           {
            "aaxis": {
             "endlinecolor": "#2a3f5f",
             "gridcolor": "white",
             "linecolor": "white",
             "minorgridcolor": "white",
             "startlinecolor": "#2a3f5f"
            },
            "baxis": {
             "endlinecolor": "#2a3f5f",
             "gridcolor": "white",
             "linecolor": "white",
             "minorgridcolor": "white",
             "startlinecolor": "#2a3f5f"
            },
            "type": "carpet"
           }
          ],
          "choropleth": [
           {
            "colorbar": {
             "outlinewidth": 0,
             "ticks": ""
            },
            "type": "choropleth"
           }
          ],
          "contour": [
           {
            "colorbar": {
             "outlinewidth": 0,
             "ticks": ""
            },
            "colorscale": [
             [
              0,
              "#0d0887"
             ],
             [
              0.1111111111111111,
              "#46039f"
             ],
             [
              0.2222222222222222,
              "#7201a8"
             ],
             [
              0.3333333333333333,
              "#9c179e"
             ],
             [
              0.4444444444444444,
              "#bd3786"
             ],
             [
              0.5555555555555556,
              "#d8576b"
             ],
             [
              0.6666666666666666,
              "#ed7953"
             ],
             [
              0.7777777777777778,
              "#fb9f3a"
             ],
             [
              0.8888888888888888,
              "#fdca26"
             ],
             [
              1,
              "#f0f921"
             ]
            ],
            "type": "contour"
           }
          ],
          "contourcarpet": [
           {
            "colorbar": {
             "outlinewidth": 0,
             "ticks": ""
            },
            "type": "contourcarpet"
           }
          ],
          "heatmap": [
           {
            "colorbar": {
             "outlinewidth": 0,
             "ticks": ""
            },
            "colorscale": [
             [
              0,
              "#0d0887"
             ],
             [
              0.1111111111111111,
              "#46039f"
             ],
             [
              0.2222222222222222,
              "#7201a8"
             ],
             [
              0.3333333333333333,
              "#9c179e"
             ],
             [
              0.4444444444444444,
              "#bd3786"
             ],
             [
              0.5555555555555556,
              "#d8576b"
             ],
             [
              0.6666666666666666,
              "#ed7953"
             ],
             [
              0.7777777777777778,
              "#fb9f3a"
             ],
             [
              0.8888888888888888,
              "#fdca26"
             ],
             [
              1,
              "#f0f921"
             ]
            ],
            "type": "heatmap"
           }
          ],
          "heatmapgl": [
           {
            "colorbar": {
             "outlinewidth": 0,
             "ticks": ""
            },
            "colorscale": [
             [
              0,
              "#0d0887"
             ],
             [
              0.1111111111111111,
              "#46039f"
             ],
             [
              0.2222222222222222,
              "#7201a8"
             ],
             [
              0.3333333333333333,
              "#9c179e"
             ],
             [
              0.4444444444444444,
              "#bd3786"
             ],
             [
              0.5555555555555556,
              "#d8576b"
             ],
             [
              0.6666666666666666,
              "#ed7953"
             ],
             [
              0.7777777777777778,
              "#fb9f3a"
             ],
             [
              0.8888888888888888,
              "#fdca26"
             ],
             [
              1,
              "#f0f921"
             ]
            ],
            "type": "heatmapgl"
           }
          ],
          "histogram": [
           {
            "marker": {
             "pattern": {
              "fillmode": "overlay",
              "size": 10,
              "solidity": 0.2
             }
            },
            "type": "histogram"
           }
          ],
          "histogram2d": [
           {
            "colorbar": {
             "outlinewidth": 0,
             "ticks": ""
            },
            "colorscale": [
             [
              0,
              "#0d0887"
             ],
             [
              0.1111111111111111,
              "#46039f"
             ],
             [
              0.2222222222222222,
              "#7201a8"
             ],
             [
              0.3333333333333333,
              "#9c179e"
             ],
             [
              0.4444444444444444,
              "#bd3786"
             ],
             [
              0.5555555555555556,
              "#d8576b"
             ],
             [
              0.6666666666666666,
              "#ed7953"
             ],
             [
              0.7777777777777778,
              "#fb9f3a"
             ],
             [
              0.8888888888888888,
              "#fdca26"
             ],
             [
              1,
              "#f0f921"
             ]
            ],
            "type": "histogram2d"
           }
          ],
          "histogram2dcontour": [
           {
            "colorbar": {
             "outlinewidth": 0,
             "ticks": ""
            },
            "colorscale": [
             [
              0,
              "#0d0887"
             ],
             [
              0.1111111111111111,
              "#46039f"
             ],
             [
              0.2222222222222222,
              "#7201a8"
             ],
             [
              0.3333333333333333,
              "#9c179e"
             ],
             [
              0.4444444444444444,
              "#bd3786"
             ],
             [
              0.5555555555555556,
              "#d8576b"
             ],
             [
              0.6666666666666666,
              "#ed7953"
             ],
             [
              0.7777777777777778,
              "#fb9f3a"
             ],
             [
              0.8888888888888888,
              "#fdca26"
             ],
             [
              1,
              "#f0f921"
             ]
            ],
            "type": "histogram2dcontour"
           }
          ],
          "mesh3d": [
           {
            "colorbar": {
             "outlinewidth": 0,
             "ticks": ""
            },
            "type": "mesh3d"
           }
          ],
          "parcoords": [
           {
            "line": {
             "colorbar": {
              "outlinewidth": 0,
              "ticks": ""
             }
            },
            "type": "parcoords"
           }
          ],
          "pie": [
           {
            "automargin": true,
            "type": "pie"
           }
          ],
          "scatter": [
           {
            "fillpattern": {
             "fillmode": "overlay",
             "size": 10,
             "solidity": 0.2
            },
            "type": "scatter"
           }
          ],
          "scatter3d": [
           {
            "line": {
             "colorbar": {
              "outlinewidth": 0,
              "ticks": ""
             }
            },
            "marker": {
             "colorbar": {
              "outlinewidth": 0,
              "ticks": ""
             }
            },
            "type": "scatter3d"
           }
          ],
          "scattercarpet": [
           {
            "marker": {
             "colorbar": {
              "outlinewidth": 0,
              "ticks": ""
             }
            },
            "type": "scattercarpet"
           }
          ],
          "scattergeo": [
           {
            "marker": {
             "colorbar": {
              "outlinewidth": 0,
              "ticks": ""
             }
            },
            "type": "scattergeo"
           }
          ],
          "scattergl": [
           {
            "marker": {
             "colorbar": {
              "outlinewidth": 0,
              "ticks": ""
             }
            },
            "type": "scattergl"
           }
          ],
          "scattermapbox": [
           {
            "marker": {
             "colorbar": {
              "outlinewidth": 0,
              "ticks": ""
             }
            },
            "type": "scattermapbox"
           }
          ],
          "scatterpolar": [
           {
            "marker": {
             "colorbar": {
              "outlinewidth": 0,
              "ticks": ""
             }
            },
            "type": "scatterpolar"
           }
          ],
          "scatterpolargl": [
           {
            "marker": {
             "colorbar": {
              "outlinewidth": 0,
              "ticks": ""
             }
            },
            "type": "scatterpolargl"
           }
          ],
          "scatterternary": [
           {
            "marker": {
             "colorbar": {
              "outlinewidth": 0,
              "ticks": ""
             }
            },
            "type": "scatterternary"
           }
          ],
          "surface": [
           {
            "colorbar": {
             "outlinewidth": 0,
             "ticks": ""
            },
            "colorscale": [
             [
              0,
              "#0d0887"
             ],
             [
              0.1111111111111111,
              "#46039f"
             ],
             [
              0.2222222222222222,
              "#7201a8"
             ],
             [
              0.3333333333333333,
              "#9c179e"
             ],
             [
              0.4444444444444444,
              "#bd3786"
             ],
             [
              0.5555555555555556,
              "#d8576b"
             ],
             [
              0.6666666666666666,
              "#ed7953"
             ],
             [
              0.7777777777777778,
              "#fb9f3a"
             ],
             [
              0.8888888888888888,
              "#fdca26"
             ],
             [
              1,
              "#f0f921"
             ]
            ],
            "type": "surface"
           }
          ],
          "table": [
           {
            "cells": {
             "fill": {
              "color": "#EBF0F8"
             },
             "line": {
              "color": "white"
             }
            },
            "header": {
             "fill": {
              "color": "#C8D4E3"
             },
             "line": {
              "color": "white"
             }
            },
            "type": "table"
           }
          ]
         },
         "layout": {
          "annotationdefaults": {
           "arrowcolor": "#2a3f5f",
           "arrowhead": 0,
           "arrowwidth": 1
          },
          "autotypenumbers": "strict",
          "coloraxis": {
           "colorbar": {
            "outlinewidth": 0,
            "ticks": ""
           }
          },
          "colorscale": {
           "diverging": [
            [
             0,
             "#8e0152"
            ],
            [
             0.1,
             "#c51b7d"
            ],
            [
             0.2,
             "#de77ae"
            ],
            [
             0.3,
             "#f1b6da"
            ],
            [
             0.4,
             "#fde0ef"
            ],
            [
             0.5,
             "#f7f7f7"
            ],
            [
             0.6,
             "#e6f5d0"
            ],
            [
             0.7,
             "#b8e186"
            ],
            [
             0.8,
             "#7fbc41"
            ],
            [
             0.9,
             "#4d9221"
            ],
            [
             1,
             "#276419"
            ]
           ],
           "sequential": [
            [
             0,
             "#0d0887"
            ],
            [
             0.1111111111111111,
             "#46039f"
            ],
            [
             0.2222222222222222,
             "#7201a8"
            ],
            [
             0.3333333333333333,
             "#9c179e"
            ],
            [
             0.4444444444444444,
             "#bd3786"
            ],
            [
             0.5555555555555556,
             "#d8576b"
            ],
            [
             0.6666666666666666,
             "#ed7953"
            ],
            [
             0.7777777777777778,
             "#fb9f3a"
            ],
            [
             0.8888888888888888,
             "#fdca26"
            ],
            [
             1,
             "#f0f921"
            ]
           ],
           "sequentialminus": [
            [
             0,
             "#0d0887"
            ],
            [
             0.1111111111111111,
             "#46039f"
            ],
            [
             0.2222222222222222,
             "#7201a8"
            ],
            [
             0.3333333333333333,
             "#9c179e"
            ],
            [
             0.4444444444444444,
             "#bd3786"
            ],
            [
             0.5555555555555556,
             "#d8576b"
            ],
            [
             0.6666666666666666,
             "#ed7953"
            ],
            [
             0.7777777777777778,
             "#fb9f3a"
            ],
            [
             0.8888888888888888,
             "#fdca26"
            ],
            [
             1,
             "#f0f921"
            ]
           ]
          },
          "colorway": [
           "#636efa",
           "#EF553B",
           "#00cc96",
           "#ab63fa",
           "#FFA15A",
           "#19d3f3",
           "#FF6692",
           "#B6E880",
           "#FF97FF",
           "#FECB52"
          ],
          "font": {
           "color": "#2a3f5f"
          },
          "geo": {
           "bgcolor": "white",
           "lakecolor": "white",
           "landcolor": "#E5ECF6",
           "showlakes": true,
           "showland": true,
           "subunitcolor": "white"
          },
          "hoverlabel": {
           "align": "left"
          },
          "hovermode": "closest",
          "mapbox": {
           "style": "light"
          },
          "paper_bgcolor": "white",
          "plot_bgcolor": "#E5ECF6",
          "polar": {
           "angularaxis": {
            "gridcolor": "white",
            "linecolor": "white",
            "ticks": ""
           },
           "bgcolor": "#E5ECF6",
           "radialaxis": {
            "gridcolor": "white",
            "linecolor": "white",
            "ticks": ""
           }
          },
          "scene": {
           "xaxis": {
            "backgroundcolor": "#E5ECF6",
            "gridcolor": "white",
            "gridwidth": 2,
            "linecolor": "white",
            "showbackground": true,
            "ticks": "",
            "zerolinecolor": "white"
           },
           "yaxis": {
            "backgroundcolor": "#E5ECF6",
            "gridcolor": "white",
            "gridwidth": 2,
            "linecolor": "white",
            "showbackground": true,
            "ticks": "",
            "zerolinecolor": "white"
           },
           "zaxis": {
            "backgroundcolor": "#E5ECF6",
            "gridcolor": "white",
            "gridwidth": 2,
            "linecolor": "white",
            "showbackground": true,
            "ticks": "",
            "zerolinecolor": "white"
           }
          },
          "shapedefaults": {
           "line": {
            "color": "#2a3f5f"
           }
          },
          "ternary": {
           "aaxis": {
            "gridcolor": "white",
            "linecolor": "white",
            "ticks": ""
           },
           "baxis": {
            "gridcolor": "white",
            "linecolor": "white",
            "ticks": ""
           },
           "bgcolor": "#E5ECF6",
           "caxis": {
            "gridcolor": "white",
            "linecolor": "white",
            "ticks": ""
           }
          },
          "title": {
           "x": 0.05
          },
          "xaxis": {
           "automargin": true,
           "gridcolor": "white",
           "linecolor": "white",
           "ticks": "",
           "title": {
            "standoff": 15
           },
           "zerolinecolor": "white",
           "zerolinewidth": 2
          },
          "yaxis": {
           "automargin": true,
           "gridcolor": "white",
           "linecolor": "white",
           "ticks": "",
           "title": {
            "standoff": 15
           },
           "zerolinecolor": "white",
           "zerolinewidth": 2
          }
         }
        },
        "title": {
         "text": "Timeline Plot"
        },
        "xaxis": {
         "title": {
          "text": "Datetime"
         },
         "type": "date"
        },
        "yaxis": {
         "title": {
          "text": "Trial"
         }
        }
       }
      }
     },
     "metadata": {},
     "output_type": "display_data"
    }
   ],
   "source": [
    "optuna.visualization.plot_timeline(study)"
   ]
  },
  {
   "cell_type": "markdown",
   "metadata": {},
   "source": [
    "### 3.4 Fitting Best Model\n",
    "Fitting the final model using the best hyper-parameters found by Optuna."
   ]
  },
  {
   "cell_type": "code",
   "execution_count": 104,
   "metadata": {},
   "outputs": [
    {
     "data": {
      "text/html": [
       "<style>#sk-container-id-6 {\n",
       "  /* Definition of color scheme common for light and dark mode */\n",
       "  --sklearn-color-text: black;\n",
       "  --sklearn-color-line: gray;\n",
       "  /* Definition of color scheme for unfitted estimators */\n",
       "  --sklearn-color-unfitted-level-0: #fff5e6;\n",
       "  --sklearn-color-unfitted-level-1: #f6e4d2;\n",
       "  --sklearn-color-unfitted-level-2: #ffe0b3;\n",
       "  --sklearn-color-unfitted-level-3: chocolate;\n",
       "  /* Definition of color scheme for fitted estimators */\n",
       "  --sklearn-color-fitted-level-0: #f0f8ff;\n",
       "  --sklearn-color-fitted-level-1: #d4ebff;\n",
       "  --sklearn-color-fitted-level-2: #b3dbfd;\n",
       "  --sklearn-color-fitted-level-3: cornflowerblue;\n",
       "\n",
       "  /* Specific color for light theme */\n",
       "  --sklearn-color-text-on-default-background: var(--sg-text-color, var(--theme-code-foreground, var(--jp-content-font-color1, black)));\n",
       "  --sklearn-color-background: var(--sg-background-color, var(--theme-background, var(--jp-layout-color0, white)));\n",
       "  --sklearn-color-border-box: var(--sg-text-color, var(--theme-code-foreground, var(--jp-content-font-color1, black)));\n",
       "  --sklearn-color-icon: #696969;\n",
       "\n",
       "  @media (prefers-color-scheme: dark) {\n",
       "    /* Redefinition of color scheme for dark theme */\n",
       "    --sklearn-color-text-on-default-background: var(--sg-text-color, var(--theme-code-foreground, var(--jp-content-font-color1, white)));\n",
       "    --sklearn-color-background: var(--sg-background-color, var(--theme-background, var(--jp-layout-color0, #111)));\n",
       "    --sklearn-color-border-box: var(--sg-text-color, var(--theme-code-foreground, var(--jp-content-font-color1, white)));\n",
       "    --sklearn-color-icon: #878787;\n",
       "  }\n",
       "}\n",
       "\n",
       "#sk-container-id-6 {\n",
       "  color: var(--sklearn-color-text);\n",
       "}\n",
       "\n",
       "#sk-container-id-6 pre {\n",
       "  padding: 0;\n",
       "}\n",
       "\n",
       "#sk-container-id-6 input.sk-hidden--visually {\n",
       "  border: 0;\n",
       "  clip: rect(1px 1px 1px 1px);\n",
       "  clip: rect(1px, 1px, 1px, 1px);\n",
       "  height: 1px;\n",
       "  margin: -1px;\n",
       "  overflow: hidden;\n",
       "  padding: 0;\n",
       "  position: absolute;\n",
       "  width: 1px;\n",
       "}\n",
       "\n",
       "#sk-container-id-6 div.sk-dashed-wrapped {\n",
       "  border: 1px dashed var(--sklearn-color-line);\n",
       "  margin: 0 0.4em 0.5em 0.4em;\n",
       "  box-sizing: border-box;\n",
       "  padding-bottom: 0.4em;\n",
       "  background-color: var(--sklearn-color-background);\n",
       "}\n",
       "\n",
       "#sk-container-id-6 div.sk-container {\n",
       "  /* jupyter's `normalize.less` sets `[hidden] { display: none; }`\n",
       "     but bootstrap.min.css set `[hidden] { display: none !important; }`\n",
       "     so we also need the `!important` here to be able to override the\n",
       "     default hidden behavior on the sphinx rendered scikit-learn.org.\n",
       "     See: https://github.com/scikit-learn/scikit-learn/issues/21755 */\n",
       "  display: inline-block !important;\n",
       "  position: relative;\n",
       "}\n",
       "\n",
       "#sk-container-id-6 div.sk-text-repr-fallback {\n",
       "  display: none;\n",
       "}\n",
       "\n",
       "div.sk-parallel-item,\n",
       "div.sk-serial,\n",
       "div.sk-item {\n",
       "  /* draw centered vertical line to link estimators */\n",
       "  background-image: linear-gradient(var(--sklearn-color-text-on-default-background), var(--sklearn-color-text-on-default-background));\n",
       "  background-size: 2px 100%;\n",
       "  background-repeat: no-repeat;\n",
       "  background-position: center center;\n",
       "}\n",
       "\n",
       "/* Parallel-specific style estimator block */\n",
       "\n",
       "#sk-container-id-6 div.sk-parallel-item::after {\n",
       "  content: \"\";\n",
       "  width: 100%;\n",
       "  border-bottom: 2px solid var(--sklearn-color-text-on-default-background);\n",
       "  flex-grow: 1;\n",
       "}\n",
       "\n",
       "#sk-container-id-6 div.sk-parallel {\n",
       "  display: flex;\n",
       "  align-items: stretch;\n",
       "  justify-content: center;\n",
       "  background-color: var(--sklearn-color-background);\n",
       "  position: relative;\n",
       "}\n",
       "\n",
       "#sk-container-id-6 div.sk-parallel-item {\n",
       "  display: flex;\n",
       "  flex-direction: column;\n",
       "}\n",
       "\n",
       "#sk-container-id-6 div.sk-parallel-item:first-child::after {\n",
       "  align-self: flex-end;\n",
       "  width: 50%;\n",
       "}\n",
       "\n",
       "#sk-container-id-6 div.sk-parallel-item:last-child::after {\n",
       "  align-self: flex-start;\n",
       "  width: 50%;\n",
       "}\n",
       "\n",
       "#sk-container-id-6 div.sk-parallel-item:only-child::after {\n",
       "  width: 0;\n",
       "}\n",
       "\n",
       "/* Serial-specific style estimator block */\n",
       "\n",
       "#sk-container-id-6 div.sk-serial {\n",
       "  display: flex;\n",
       "  flex-direction: column;\n",
       "  align-items: center;\n",
       "  background-color: var(--sklearn-color-background);\n",
       "  padding-right: 1em;\n",
       "  padding-left: 1em;\n",
       "}\n",
       "\n",
       "\n",
       "/* Toggleable style: style used for estimator/Pipeline/ColumnTransformer box that is\n",
       "clickable and can be expanded/collapsed.\n",
       "- Pipeline and ColumnTransformer use this feature and define the default style\n",
       "- Estimators will overwrite some part of the style using the `sk-estimator` class\n",
       "*/\n",
       "\n",
       "/* Pipeline and ColumnTransformer style (default) */\n",
       "\n",
       "#sk-container-id-6 div.sk-toggleable {\n",
       "  /* Default theme specific background. It is overwritten whether we have a\n",
       "  specific estimator or a Pipeline/ColumnTransformer */\n",
       "  background-color: var(--sklearn-color-background);\n",
       "}\n",
       "\n",
       "/* Toggleable label */\n",
       "#sk-container-id-6 label.sk-toggleable__label {\n",
       "  cursor: pointer;\n",
       "  display: block;\n",
       "  width: 100%;\n",
       "  margin-bottom: 0;\n",
       "  padding: 0.5em;\n",
       "  box-sizing: border-box;\n",
       "  text-align: center;\n",
       "}\n",
       "\n",
       "#sk-container-id-6 label.sk-toggleable__label-arrow:before {\n",
       "  /* Arrow on the left of the label */\n",
       "  content: \"▸\";\n",
       "  float: left;\n",
       "  margin-right: 0.25em;\n",
       "  color: var(--sklearn-color-icon);\n",
       "}\n",
       "\n",
       "#sk-container-id-6 label.sk-toggleable__label-arrow:hover:before {\n",
       "  color: var(--sklearn-color-text);\n",
       "}\n",
       "\n",
       "/* Toggleable content - dropdown */\n",
       "\n",
       "#sk-container-id-6 div.sk-toggleable__content {\n",
       "  max-height: 0;\n",
       "  max-width: 0;\n",
       "  overflow: hidden;\n",
       "  text-align: left;\n",
       "  /* unfitted */\n",
       "  background-color: var(--sklearn-color-unfitted-level-0);\n",
       "}\n",
       "\n",
       "#sk-container-id-6 div.sk-toggleable__content.fitted {\n",
       "  /* fitted */\n",
       "  background-color: var(--sklearn-color-fitted-level-0);\n",
       "}\n",
       "\n",
       "#sk-container-id-6 div.sk-toggleable__content pre {\n",
       "  margin: 0.2em;\n",
       "  border-radius: 0.25em;\n",
       "  color: var(--sklearn-color-text);\n",
       "  /* unfitted */\n",
       "  background-color: var(--sklearn-color-unfitted-level-0);\n",
       "}\n",
       "\n",
       "#sk-container-id-6 div.sk-toggleable__content.fitted pre {\n",
       "  /* unfitted */\n",
       "  background-color: var(--sklearn-color-fitted-level-0);\n",
       "}\n",
       "\n",
       "#sk-container-id-6 input.sk-toggleable__control:checked~div.sk-toggleable__content {\n",
       "  /* Expand drop-down */\n",
       "  max-height: 200px;\n",
       "  max-width: 100%;\n",
       "  overflow: auto;\n",
       "}\n",
       "\n",
       "#sk-container-id-6 input.sk-toggleable__control:checked~label.sk-toggleable__label-arrow:before {\n",
       "  content: \"▾\";\n",
       "}\n",
       "\n",
       "/* Pipeline/ColumnTransformer-specific style */\n",
       "\n",
       "#sk-container-id-6 div.sk-label input.sk-toggleable__control:checked~label.sk-toggleable__label {\n",
       "  color: var(--sklearn-color-text);\n",
       "  background-color: var(--sklearn-color-unfitted-level-2);\n",
       "}\n",
       "\n",
       "#sk-container-id-6 div.sk-label.fitted input.sk-toggleable__control:checked~label.sk-toggleable__label {\n",
       "  background-color: var(--sklearn-color-fitted-level-2);\n",
       "}\n",
       "\n",
       "/* Estimator-specific style */\n",
       "\n",
       "/* Colorize estimator box */\n",
       "#sk-container-id-6 div.sk-estimator input.sk-toggleable__control:checked~label.sk-toggleable__label {\n",
       "  /* unfitted */\n",
       "  background-color: var(--sklearn-color-unfitted-level-2);\n",
       "}\n",
       "\n",
       "#sk-container-id-6 div.sk-estimator.fitted input.sk-toggleable__control:checked~label.sk-toggleable__label {\n",
       "  /* fitted */\n",
       "  background-color: var(--sklearn-color-fitted-level-2);\n",
       "}\n",
       "\n",
       "#sk-container-id-6 div.sk-label label.sk-toggleable__label,\n",
       "#sk-container-id-6 div.sk-label label {\n",
       "  /* The background is the default theme color */\n",
       "  color: var(--sklearn-color-text-on-default-background);\n",
       "}\n",
       "\n",
       "/* On hover, darken the color of the background */\n",
       "#sk-container-id-6 div.sk-label:hover label.sk-toggleable__label {\n",
       "  color: var(--sklearn-color-text);\n",
       "  background-color: var(--sklearn-color-unfitted-level-2);\n",
       "}\n",
       "\n",
       "/* Label box, darken color on hover, fitted */\n",
       "#sk-container-id-6 div.sk-label.fitted:hover label.sk-toggleable__label.fitted {\n",
       "  color: var(--sklearn-color-text);\n",
       "  background-color: var(--sklearn-color-fitted-level-2);\n",
       "}\n",
       "\n",
       "/* Estimator label */\n",
       "\n",
       "#sk-container-id-6 div.sk-label label {\n",
       "  font-family: monospace;\n",
       "  font-weight: bold;\n",
       "  display: inline-block;\n",
       "  line-height: 1.2em;\n",
       "}\n",
       "\n",
       "#sk-container-id-6 div.sk-label-container {\n",
       "  text-align: center;\n",
       "}\n",
       "\n",
       "/* Estimator-specific */\n",
       "#sk-container-id-6 div.sk-estimator {\n",
       "  font-family: monospace;\n",
       "  border: 1px dotted var(--sklearn-color-border-box);\n",
       "  border-radius: 0.25em;\n",
       "  box-sizing: border-box;\n",
       "  margin-bottom: 0.5em;\n",
       "  /* unfitted */\n",
       "  background-color: var(--sklearn-color-unfitted-level-0);\n",
       "}\n",
       "\n",
       "#sk-container-id-6 div.sk-estimator.fitted {\n",
       "  /* fitted */\n",
       "  background-color: var(--sklearn-color-fitted-level-0);\n",
       "}\n",
       "\n",
       "/* on hover */\n",
       "#sk-container-id-6 div.sk-estimator:hover {\n",
       "  /* unfitted */\n",
       "  background-color: var(--sklearn-color-unfitted-level-2);\n",
       "}\n",
       "\n",
       "#sk-container-id-6 div.sk-estimator.fitted:hover {\n",
       "  /* fitted */\n",
       "  background-color: var(--sklearn-color-fitted-level-2);\n",
       "}\n",
       "\n",
       "/* Specification for estimator info (e.g. \"i\" and \"?\") */\n",
       "\n",
       "/* Common style for \"i\" and \"?\" */\n",
       "\n",
       ".sk-estimator-doc-link,\n",
       "a:link.sk-estimator-doc-link,\n",
       "a:visited.sk-estimator-doc-link {\n",
       "  float: right;\n",
       "  font-size: smaller;\n",
       "  line-height: 1em;\n",
       "  font-family: monospace;\n",
       "  background-color: var(--sklearn-color-background);\n",
       "  border-radius: 1em;\n",
       "  height: 1em;\n",
       "  width: 1em;\n",
       "  text-decoration: none !important;\n",
       "  margin-left: 1ex;\n",
       "  /* unfitted */\n",
       "  border: var(--sklearn-color-unfitted-level-1) 1pt solid;\n",
       "  color: var(--sklearn-color-unfitted-level-1);\n",
       "}\n",
       "\n",
       ".sk-estimator-doc-link.fitted,\n",
       "a:link.sk-estimator-doc-link.fitted,\n",
       "a:visited.sk-estimator-doc-link.fitted {\n",
       "  /* fitted */\n",
       "  border: var(--sklearn-color-fitted-level-1) 1pt solid;\n",
       "  color: var(--sklearn-color-fitted-level-1);\n",
       "}\n",
       "\n",
       "/* On hover */\n",
       "div.sk-estimator:hover .sk-estimator-doc-link:hover,\n",
       ".sk-estimator-doc-link:hover,\n",
       "div.sk-label-container:hover .sk-estimator-doc-link:hover,\n",
       ".sk-estimator-doc-link:hover {\n",
       "  /* unfitted */\n",
       "  background-color: var(--sklearn-color-unfitted-level-3);\n",
       "  color: var(--sklearn-color-background);\n",
       "  text-decoration: none;\n",
       "}\n",
       "\n",
       "div.sk-estimator.fitted:hover .sk-estimator-doc-link.fitted:hover,\n",
       ".sk-estimator-doc-link.fitted:hover,\n",
       "div.sk-label-container:hover .sk-estimator-doc-link.fitted:hover,\n",
       ".sk-estimator-doc-link.fitted:hover {\n",
       "  /* fitted */\n",
       "  background-color: var(--sklearn-color-fitted-level-3);\n",
       "  color: var(--sklearn-color-background);\n",
       "  text-decoration: none;\n",
       "}\n",
       "\n",
       "/* Span, style for the box shown on hovering the info icon */\n",
       ".sk-estimator-doc-link span {\n",
       "  display: none;\n",
       "  z-index: 9999;\n",
       "  position: relative;\n",
       "  font-weight: normal;\n",
       "  right: .2ex;\n",
       "  padding: .5ex;\n",
       "  margin: .5ex;\n",
       "  width: min-content;\n",
       "  min-width: 20ex;\n",
       "  max-width: 50ex;\n",
       "  color: var(--sklearn-color-text);\n",
       "  box-shadow: 2pt 2pt 4pt #999;\n",
       "  /* unfitted */\n",
       "  background: var(--sklearn-color-unfitted-level-0);\n",
       "  border: .5pt solid var(--sklearn-color-unfitted-level-3);\n",
       "}\n",
       "\n",
       ".sk-estimator-doc-link.fitted span {\n",
       "  /* fitted */\n",
       "  background: var(--sklearn-color-fitted-level-0);\n",
       "  border: var(--sklearn-color-fitted-level-3);\n",
       "}\n",
       "\n",
       ".sk-estimator-doc-link:hover span {\n",
       "  display: block;\n",
       "}\n",
       "\n",
       "/* \"?\"-specific style due to the `<a>` HTML tag */\n",
       "\n",
       "#sk-container-id-6 a.estimator_doc_link {\n",
       "  float: right;\n",
       "  font-size: 1rem;\n",
       "  line-height: 1em;\n",
       "  font-family: monospace;\n",
       "  background-color: var(--sklearn-color-background);\n",
       "  border-radius: 1rem;\n",
       "  height: 1rem;\n",
       "  width: 1rem;\n",
       "  text-decoration: none;\n",
       "  /* unfitted */\n",
       "  color: var(--sklearn-color-unfitted-level-1);\n",
       "  border: var(--sklearn-color-unfitted-level-1) 1pt solid;\n",
       "}\n",
       "\n",
       "#sk-container-id-6 a.estimator_doc_link.fitted {\n",
       "  /* fitted */\n",
       "  border: var(--sklearn-color-fitted-level-1) 1pt solid;\n",
       "  color: var(--sklearn-color-fitted-level-1);\n",
       "}\n",
       "\n",
       "/* On hover */\n",
       "#sk-container-id-6 a.estimator_doc_link:hover {\n",
       "  /* unfitted */\n",
       "  background-color: var(--sklearn-color-unfitted-level-3);\n",
       "  color: var(--sklearn-color-background);\n",
       "  text-decoration: none;\n",
       "}\n",
       "\n",
       "#sk-container-id-6 a.estimator_doc_link.fitted:hover {\n",
       "  /* fitted */\n",
       "  background-color: var(--sklearn-color-fitted-level-3);\n",
       "}\n",
       "</style><div id=\"sk-container-id-6\" class=\"sk-top-container\"><div class=\"sk-text-repr-fallback\"><pre>Pipeline(steps=[(&#x27;smote&#x27;, SMOTE(random_state=38)),\n",
       "                (&#x27;randomforestclassifier&#x27;,\n",
       "                 RandomForestClassifier(max_depth=6, min_samples_leaf=50,\n",
       "                                        random_state=38))])</pre><b>In a Jupyter environment, please rerun this cell to show the HTML representation or trust the notebook. <br />On GitHub, the HTML representation is unable to render, please try loading this page with nbviewer.org.</b></div><div class=\"sk-container\" hidden><div class=\"sk-item sk-dashed-wrapped\"><div class=\"sk-label-container\"><div class=\"sk-label fitted sk-toggleable\"><input class=\"sk-toggleable__control sk-hidden--visually\" id=\"sk-estimator-id-18\" type=\"checkbox\" ><label for=\"sk-estimator-id-18\" class=\"sk-toggleable__label fitted sk-toggleable__label-arrow fitted\">&nbsp;Pipeline<span class=\"sk-estimator-doc-link fitted\">i<span>Fitted</span></span></label><div class=\"sk-toggleable__content fitted\"><pre>Pipeline(steps=[(&#x27;smote&#x27;, SMOTE(random_state=38)),\n",
       "                (&#x27;randomforestclassifier&#x27;,\n",
       "                 RandomForestClassifier(max_depth=6, min_samples_leaf=50,\n",
       "                                        random_state=38))])</pre></div> </div></div><div class=\"sk-serial\"><div class=\"sk-item\"><div class=\"sk-estimator fitted sk-toggleable\"><input class=\"sk-toggleable__control sk-hidden--visually\" id=\"sk-estimator-id-19\" type=\"checkbox\" ><label for=\"sk-estimator-id-19\" class=\"sk-toggleable__label fitted sk-toggleable__label-arrow fitted\">SMOTE</label><div class=\"sk-toggleable__content fitted\"><pre>SMOTE(random_state=38)</pre></div> </div></div><div class=\"sk-item\"><div class=\"sk-estimator fitted sk-toggleable\"><input class=\"sk-toggleable__control sk-hidden--visually\" id=\"sk-estimator-id-20\" type=\"checkbox\" ><label for=\"sk-estimator-id-20\" class=\"sk-toggleable__label fitted sk-toggleable__label-arrow fitted\">&nbsp;RandomForestClassifier<a class=\"sk-estimator-doc-link fitted\" rel=\"noreferrer\" target=\"_blank\" href=\"https://scikit-learn.org/1.5/modules/generated/sklearn.ensemble.RandomForestClassifier.html\">?<span>Documentation for RandomForestClassifier</span></a></label><div class=\"sk-toggleable__content fitted\"><pre>RandomForestClassifier(max_depth=6, min_samples_leaf=50, random_state=38)</pre></div> </div></div></div></div></div></div>"
      ],
      "text/plain": [
       "Pipeline(steps=[('smote', SMOTE(random_state=38)),\n",
       "                ('randomforestclassifier',\n",
       "                 RandomForestClassifier(max_depth=6, min_samples_leaf=50,\n",
       "                                        random_state=38))])"
      ]
     },
     "execution_count": 104,
     "metadata": {},
     "output_type": "execute_result"
    }
   ],
   "source": [
    "# Fit best model on the training set\n",
    "best_params = study.best_params\n",
    "\n",
    "pipeline_smote = make_pipeline(\n",
    "    SMOTE(random_state=RANDOM_STATE),\n",
    "    RandomForestClassifier(**best_params, random_state=RANDOM_STATE)\n",
    ")\n",
    "\n",
    "pipeline_smote.fit(X_train, y_train)"
   ]
  },
  {
   "cell_type": "code",
   "execution_count": 105,
   "metadata": {},
   "outputs": [],
   "source": [
    "# Predictions\n",
    "y_train_pred_smote = pipeline_smote.predict(X_train)\n",
    "y_test_pred_smote = pipeline_smote.predict(X_test)"
   ]
  },
  {
   "cell_type": "code",
   "execution_count": 106,
   "metadata": {},
   "outputs": [
    {
     "name": "stdout",
     "output_type": "stream",
     "text": [
      "Train accuracy:  0.7438638242946171\n",
      "Test accuracy:  0.7425882352941177\n"
     ]
    }
   ],
   "source": [
    "ac_train_smote = accuracy_score(y_train, y_train_pred_smote)\n",
    "ac_test_smote = accuracy_score(y_test, y_test_pred_smote)\n",
    "\n",
    "print('Train accuracy: ', ac_train_smote)\n",
    "print('Test accuracy: ', ac_test_smote)"
   ]
  },
  {
   "cell_type": "code",
   "execution_count": 107,
   "metadata": {},
   "outputs": [
    {
     "name": "stdout",
     "output_type": "stream",
     "text": [
      "                         precision    recall  f1-score   support\n",
      "\n",
      "Late or non-readmission       0.93      0.78      0.85     19312\n",
      "      Early-readmission       0.14      0.37      0.21      1938\n",
      "\n",
      "               accuracy                           0.74     21250\n",
      "              macro avg       0.53      0.58      0.53     21250\n",
      "           weighted avg       0.85      0.74      0.79     21250\n",
      "\n"
     ]
    }
   ],
   "source": [
    "# Visualize precision, recall, F1-score\n",
    "print(classification_report(\n",
    "    y_test, y_test_pred_smote,\n",
    "    target_names=['Late or non-readmission', 'Early-readmission']\n",
    "))"
   ]
  },
  {
   "cell_type": "code",
   "execution_count": 127,
   "metadata": {},
   "outputs": [
    {
     "data": {
      "text/plain": [
       "<Axes: >"
      ]
     },
     "execution_count": 127,
     "metadata": {},
     "output_type": "execute_result"
    },
    {
     "data": {
      "image/png": "[encoded data removed]",
      "text/plain": [
       "<Figure size 640x480 with 2 Axes>"
      ]
     },
     "metadata": {},
     "output_type": "display_data"
    }
   ],
   "source": [
    "cm_smote = confusion_matrix(y_test, y_test_pred_smote, normalize='true')\n",
    "sns.heatmap(cm_smote, annot=True, fmt=\".2f\", cmap='Blues')"
   ]
  },
  {
   "cell_type": "markdown",
   "metadata": {},
   "source": [
    "## **4. Optuna Hyper-parameter Tuning | SMOTE + Tomek Links**\n",
    "Hyper-parameter tuning of the model using Optuna, by oversampling with SMOTE and undersampling with Tomek Links."
   ]
  },
  {
   "cell_type": "markdown",
   "metadata": {},
   "source": [
    "### 4.1 Objective & study setup\n",
    "Preparing the objective function with all hyper-parameters, and creating/loading the Optuna study."
   ]
  },
  {
   "cell_type": "code",
   "execution_count": 109,
   "metadata": {},
   "outputs": [],
   "source": [
    "def objective(trial: optuna.Trial) -> float:\n",
    "    # Hyperparameter search space\n",
    "    params = {\n",
    "        \"n_estimators\": 100,\n",
    "        \"max_depth\": trial.suggest_int(\"max_depth\", 4, 30, step=2),\n",
    "        \"min_samples_leaf\": trial.suggest_int(\"min_samples_leaf\", 2, 60, step=2)\n",
    "    }\n",
    "    \n",
    "    # Build pipeline\n",
    "    pipeline = make_pipeline(\n",
    "        SMOTETomek(tomek=TomekLinks(sampling_strategy='majority'), random_state=RANDOM_STATE),\n",
    "        RandomForestClassifier(**params, random_state=RANDOM_STATE)\n",
    "    )\n",
    "    \n",
    "    # Define validation folds\n",
    "    kf = StratifiedKFold(n_splits=5, shuffle=False)\n",
    "    \n",
    "    # Cross validation\n",
    "    f1_score = cross_val_score(pipeline, X_train, y_train, cv=kf, scoring='f1')\n",
    "\n",
    "    print(\"Cross validation F1-scores: {}\".format(f1_score))\n",
    "    print(\"Average F1-score: {}\".format(f1_score.mean()))\n",
    "\n",
    "    return f1_score.mean()"
   ]
  },
  {
   "cell_type": "code",
   "execution_count": 110,
   "metadata": {},
   "outputs": [
    {
     "name": "stderr",
     "output_type": "stream",
     "text": [
      "[I 2024-12-27 16:59:06,149] A new study created in Journal with name: Diabetes_130-US\n"
     ]
    }
   ],
   "source": [
    "# Set up study with name and storage\n",
    "storage = JournalStorage(JournalFileBackend(STUDY_PATH_SMOTE_TOMEK))\n",
    "\n",
    "study = optuna.create_study(\n",
    "    direction=\"maximize\",\n",
    "    study_name=STUDY_NAME,\n",
    "    storage=storage,\n",
    "    load_if_exists=True,\n",
    "    sampler=optuna.samplers.TPESampler(seed=RANDOM_STATE),\n",
    "    pruner=optuna.pruners.SuccessiveHalvingPruner()\n",
    ")\n",
    "\n",
    "optuna.logging.set_verbosity(optuna.logging.INFO)"
   ]
  },
  {
   "cell_type": "markdown",
   "metadata": {},
   "source": [
    "### 4.2 Hyper-parameter tuning\n",
    "**(CAUTION)** <u>Do not run</u>, unless you already need to find the best parameters. If you already have bound the best model configuration, <u>run the section above</u> _(Objective & study setup)_."
   ]
  },
  {
   "cell_type": "code",
   "execution_count": 111,
   "metadata": {},
   "outputs": [
    {
     "name": "stderr",
     "output_type": "stream",
     "text": [
      "[I 2024-12-27 17:00:14,204] Trial 5 finished with value: 0.19653885559841838 and parameters: {'max_depth': 10, 'min_samples_leaf': 8}. Best is trial 5 with value: 0.19653885559841838.\n"
     ]
    },
    {
     "name": "stdout",
     "output_type": "stream",
     "text": [
      "Cross validation F1-scores: [0.20896902 0.19211599 0.19778271 0.19019019 0.19363636]\n",
      "Average F1-score: 0.19653885559841838\n"
     ]
    },
    {
     "name": "stderr",
     "output_type": "stream",
     "text": [
      "[I 2024-12-27 17:00:15,612] Trial 7 finished with value: 0.19077515479740953 and parameters: {'max_depth': 10, 'min_samples_leaf': 6}. Best is trial 5 with value: 0.19653885559841838.\n"
     ]
    },
    {
     "name": "stdout",
     "output_type": "stream",
     "text": [
      "Cross validation F1-scores: [0.20910781 0.18904508 0.18932715 0.18307768 0.18331806]\n",
      "Average F1-score: 0.19077515479740953\n"
     ]
    },
    {
     "name": "stderr",
     "output_type": "stream",
     "text": [
      "[I 2024-12-27 17:00:19,655] Trial 2 finished with value: 0.15100575657722634 and parameters: {'max_depth': 16, 'min_samples_leaf': 38}. Best is trial 5 with value: 0.19653885559841838.\n"
     ]
    },
    {
     "name": "stdout",
     "output_type": "stream",
     "text": [
      "Cross validation F1-scores: [0.17045455 0.15344939 0.14614878 0.13692946 0.14804661]\n",
      "Average F1-score: 0.15100575657722634\n"
     ]
    },
    {
     "name": "stderr",
     "output_type": "stream",
     "text": [
      "[I 2024-12-27 17:00:20,337] Trial 9 finished with value: 0.1703297466253517 and parameters: {'max_depth': 14, 'min_samples_leaf': 52}. Best is trial 5 with value: 0.19653885559841838.\n"
     ]
    },
    {
     "name": "stdout",
     "output_type": "stream",
     "text": [
      "Cross validation F1-scores: [0.17772512 0.17586207 0.17068864 0.16906475 0.15830816]\n",
      "Average F1-score: 0.1703297466253517\n"
     ]
    },
    {
     "name": "stderr",
     "output_type": "stream",
     "text": [
      "[I 2024-12-27 17:00:22,831] Trial 1 finished with value: 0.1432491194577901 and parameters: {'max_depth': 14, 'min_samples_leaf': 8}. Best is trial 5 with value: 0.19653885559841838.\n"
     ]
    },
    {
     "name": "stdout",
     "output_type": "stream",
     "text": [
      "Cross validation F1-scores: [0.14911081 0.14886731 0.14276184 0.13561644 0.1398892 ]\n",
      "Average F1-score: 0.1432491194577901\n"
     ]
    },
    {
     "name": "stderr",
     "output_type": "stream",
     "text": [
      "[I 2024-12-27 17:00:23,784] Trial 4 finished with value: 0.16023007837635378 and parameters: {'max_depth': 16, 'min_samples_leaf': 46}. Best is trial 5 with value: 0.19653885559841838.\n"
     ]
    },
    {
     "name": "stdout",
     "output_type": "stream",
     "text": [
      "Cross validation F1-scores: [0.17923362 0.15558344 0.15559772 0.15436242 0.15637319]\n",
      "Average F1-score: 0.16023007837635378\n"
     ]
    },
    {
     "name": "stderr",
     "output_type": "stream",
     "text": [
      "[I 2024-12-27 17:00:24,317] Trial 3 finished with value: 0.15475283973959958 and parameters: {'max_depth': 20, 'min_samples_leaf': 58}. Best is trial 5 with value: 0.19653885559841838.\n"
     ]
    },
    {
     "name": "stdout",
     "output_type": "stream",
     "text": [
      "Cross validation F1-scores: [0.17164654 0.13888889 0.1669736  0.14051215 0.15574302]\n",
      "Average F1-score: 0.15475283973959958\n"
     ]
    },
    {
     "name": "stderr",
     "output_type": "stream",
     "text": [
      "[I 2024-12-27 17:00:25,924] Trial 11 finished with value: 0.1524711961359103 and parameters: {'max_depth': 24, 'min_samples_leaf': 54}. Best is trial 5 with value: 0.19653885559841838.\n"
     ]
    },
    {
     "name": "stdout",
     "output_type": "stream",
     "text": [
      "Cross validation F1-scores: [0.16688228 0.1446384  0.15091774 0.1527027  0.14721485]\n",
      "Average F1-score: 0.1524711961359103\n"
     ]
    },
    {
     "name": "stderr",
     "output_type": "stream",
     "text": [
      "[I 2024-12-27 17:00:26,245] Trial 10 finished with value: 0.1439158341694969 and parameters: {'max_depth': 30, 'min_samples_leaf': 50}. Best is trial 5 with value: 0.19653885559841838.\n"
     ]
    },
    {
     "name": "stdout",
     "output_type": "stream",
     "text": [
      "Cross validation F1-scores: [0.15792966 0.13890675 0.13868117 0.14140041 0.14266118]\n",
      "Average F1-score: 0.1439158341694969\n"
     ]
    },
    {
     "name": "stderr",
     "output_type": "stream",
     "text": [
      "[I 2024-12-27 17:00:27,217] Trial 6 finished with value: 0.13975901726077145 and parameters: {'max_depth': 22, 'min_samples_leaf': 44}. Best is trial 5 with value: 0.19653885559841838.\n"
     ]
    },
    {
     "name": "stdout",
     "output_type": "stream",
     "text": [
      "Cross validation F1-scores: [0.14401077 0.13561554 0.14976174 0.13333333 0.13607371]\n",
      "Average F1-score: 0.13975901726077145\n"
     ]
    },
    {
     "name": "stderr",
     "output_type": "stream",
     "text": [
      "[I 2024-12-27 17:00:29,242] Trial 0 finished with value: 0.10606108409503867 and parameters: {'max_depth': 24, 'min_samples_leaf': 22}. Best is trial 5 with value: 0.19653885559841838.\n"
     ]
    },
    {
     "name": "stdout",
     "output_type": "stream",
     "text": [
      "Cross validation F1-scores: [0.10648148 0.10582822 0.1136543  0.10369207 0.10064935]\n",
      "Average F1-score: 0.10606108409503867\n"
     ]
    },
    {
     "name": "stderr",
     "output_type": "stream",
     "text": [
      "[I 2024-12-27 17:00:32,746] Trial 8 finished with value: 0.0780953273969462 and parameters: {'max_depth': 30, 'min_samples_leaf': 12}. Best is trial 5 with value: 0.19653885559841838.\n"
     ]
    },
    {
     "name": "stdout",
     "output_type": "stream",
     "text": [
      "Cross validation F1-scores: [0.07666667 0.08381265 0.08404803 0.06802721 0.07792208]\n",
      "Average F1-score: 0.0780953273969462\n"
     ]
    },
    {
     "name": "stderr",
     "output_type": "stream",
     "text": [
      "[I 2024-12-27 17:01:15,745] Trial 19 finished with value: 0.2077201681895068 and parameters: {'max_depth': 4, 'min_samples_leaf': 2}. Best is trial 19 with value: 0.2077201681895068.\n"
     ]
    },
    {
     "name": "stdout",
     "output_type": "stream",
     "text": [
      "Cross validation F1-scores: [0.21246214 0.20759271 0.20727432 0.21256932 0.19870235]\n",
      "Average F1-score: 0.2077201681895068\n"
     ]
    },
    {
     "name": "stderr",
     "output_type": "stream",
     "text": [
      "[I 2024-12-27 17:01:18,205] Trial 21 finished with value: 0.20807931060963117 and parameters: {'max_depth': 4, 'min_samples_leaf': 20}. Best is trial 21 with value: 0.20807931060963117.\n"
     ]
    },
    {
     "name": "stdout",
     "output_type": "stream",
     "text": [
      "Cross validation F1-scores: [0.21255411 0.20603675 0.21134492 0.21091243 0.19954835]\n",
      "Average F1-score: 0.20807931060963117\n"
     ]
    },
    {
     "name": "stderr",
     "output_type": "stream",
     "text": [
      "[I 2024-12-27 17:01:26,623] Trial 22 finished with value: 0.21059044869947963 and parameters: {'max_depth': 6, 'min_samples_leaf': 2}. Best is trial 22 with value: 0.21059044869947963.\n"
     ]
    },
    {
     "name": "stdout",
     "output_type": "stream",
     "text": [
      "Cross validation F1-scores: [0.22032967 0.2118471  0.21139133 0.20988015 0.199504  ]\n",
      "Average F1-score: 0.21059044869947963\n"
     ]
    },
    {
     "name": "stderr",
     "output_type": "stream",
     "text": [
      "[I 2024-12-27 17:01:28,471] Trial 17 finished with value: 0.20777480507400928 and parameters: {'max_depth': 8, 'min_samples_leaf': 32}. Best is trial 22 with value: 0.21059044869947963.\n"
     ]
    },
    {
     "name": "stdout",
     "output_type": "stream",
     "text": [
      "Cross validation F1-scores: [0.22417751 0.20881503 0.20275591 0.20220588 0.2009197 ]\n",
      "Average F1-score: 0.20777480507400928\n"
     ]
    },
    {
     "name": "stderr",
     "output_type": "stream",
     "text": [
      "[I 2024-12-27 17:01:32,076] Trial 23 finished with value: 0.21059044869947963 and parameters: {'max_depth': 6, 'min_samples_leaf': 2}. Best is trial 22 with value: 0.21059044869947963.\n"
     ]
    },
    {
     "name": "stdout",
     "output_type": "stream",
     "text": [
      "Cross validation F1-scores: [0.22032967 0.2118471  0.21139133 0.20988015 0.199504  ]\n",
      "Average F1-score: 0.21059044869947963\n"
     ]
    },
    {
     "name": "stderr",
     "output_type": "stream",
     "text": [
      "[I 2024-12-27 17:01:32,522] Trial 13 finished with value: 0.15013463047579068 and parameters: {'max_depth': 26, 'min_samples_leaf': 54}. Best is trial 22 with value: 0.21059044869947963.\n"
     ]
    },
    {
     "name": "stdout",
     "output_type": "stream",
     "text": [
      "Cross validation F1-scores: [0.16135329 0.14745973 0.15074024 0.14854828 0.14257162]\n",
      "Average F1-score: 0.15013463047579068\n"
     ]
    },
    {
     "name": "stderr",
     "output_type": "stream",
     "text": [
      "[I 2024-12-27 17:01:36,454] Trial 14 finished with value: 0.1542000970513051 and parameters: {'max_depth': 16, 'min_samples_leaf': 40}. Best is trial 22 with value: 0.21059044869947963.\n"
     ]
    },
    {
     "name": "stdout",
     "output_type": "stream",
     "text": [
      "Cross validation F1-scores: [0.17164654 0.15636822 0.15251989 0.14382632 0.14663951]\n",
      "Average F1-score: 0.1542000970513051\n"
     ]
    },
    {
     "name": "stderr",
     "output_type": "stream",
     "text": [
      "[I 2024-12-27 17:01:38,892] Trial 15 finished with value: 0.1245179250473802 and parameters: {'max_depth': 16, 'min_samples_leaf': 12}. Best is trial 22 with value: 0.21059044869947963.\n"
     ]
    },
    {
     "name": "stdout",
     "output_type": "stream",
     "text": [
      "Cross validation F1-scores: [0.12445731 0.12086331 0.13227894 0.12481203 0.12017804]\n",
      "Average F1-score: 0.1245179250473802\n"
     ]
    },
    {
     "name": "stderr",
     "output_type": "stream",
     "text": [
      "[I 2024-12-27 17:01:39,787] Trial 16 finished with value: 0.14774266401079864 and parameters: {'max_depth': 16, 'min_samples_leaf': 32}. Best is trial 22 with value: 0.21059044869947963.\n"
     ]
    },
    {
     "name": "stdout",
     "output_type": "stream",
     "text": [
      "Cross validation F1-scores: [0.16461439 0.14427531 0.14486922 0.14472777 0.14022663]\n",
      "Average F1-score: 0.14774266401079864\n"
     ]
    },
    {
     "name": "stderr",
     "output_type": "stream",
     "text": [
      "[I 2024-12-27 17:01:41,917] Trial 12 finished with value: 0.056727658219363264 and parameters: {'max_depth': 28, 'min_samples_leaf': 4}. Best is trial 22 with value: 0.21059044869947963.\n"
     ]
    },
    {
     "name": "stdout",
     "output_type": "stream",
     "text": [
      "Cross validation F1-scores: [0.05770965 0.05530776 0.04757548 0.05770965 0.06533575]\n",
      "Average F1-score: 0.056727658219363264\n"
     ]
    },
    {
     "name": "stderr",
     "output_type": "stream",
     "text": [
      "[I 2024-12-27 17:01:44,279] Trial 18 finished with value: 0.12037825923930726 and parameters: {'max_depth': 30, 'min_samples_leaf': 30}. Best is trial 22 with value: 0.21059044869947963.\n"
     ]
    },
    {
     "name": "stdout",
     "output_type": "stream",
     "text": [
      "Cross validation F1-scores: [0.12271731 0.10727406 0.12622089 0.13017751 0.11550152]\n",
      "Average F1-score: 0.12037825923930726\n"
     ]
    },
    {
     "name": "stderr",
     "output_type": "stream",
     "text": [
      "[I 2024-12-27 17:01:46,946] Trial 20 finished with value: 0.10606108409503867 and parameters: {'max_depth': 24, 'min_samples_leaf': 22}. Best is trial 22 with value: 0.21059044869947963.\n"
     ]
    },
    {
     "name": "stdout",
     "output_type": "stream",
     "text": [
      "Cross validation F1-scores: [0.10648148 0.10582822 0.1136543  0.10369207 0.10064935]\n",
      "Average F1-score: 0.10606108409503867\n"
     ]
    },
    {
     "name": "stderr",
     "output_type": "stream",
     "text": [
      "[I 2024-12-27 17:02:08,276] Trial 24 finished with value: 0.20807931060963117 and parameters: {'max_depth': 4, 'min_samples_leaf': 20}. Best is trial 22 with value: 0.21059044869947963.\n"
     ]
    },
    {
     "name": "stdout",
     "output_type": "stream",
     "text": [
      "Cross validation F1-scores: [0.21255411 0.20603675 0.21134492 0.21091243 0.19954835]\n",
      "Average F1-score: 0.20807931060963117\n"
     ]
    },
    {
     "name": "stderr",
     "output_type": "stream",
     "text": [
      "[I 2024-12-27 17:02:11,093] Trial 25 finished with value: 0.20807931060963117 and parameters: {'max_depth': 4, 'min_samples_leaf': 20}. Best is trial 22 with value: 0.21059044869947963.\n"
     ]
    },
    {
     "name": "stdout",
     "output_type": "stream",
     "text": [
      "Cross validation F1-scores: [0.21255411 0.20603675 0.21134492 0.21091243 0.19954835]\n",
      "Average F1-score: 0.20807931060963117\n"
     ]
    },
    {
     "name": "stderr",
     "output_type": "stream",
     "text": [
      "[I 2024-12-27 17:02:18,665] Trial 26 finished with value: 0.20807931060963117 and parameters: {'max_depth': 4, 'min_samples_leaf': 20}. Best is trial 22 with value: 0.21059044869947963.\n"
     ]
    },
    {
     "name": "stdout",
     "output_type": "stream",
     "text": [
      "Cross validation F1-scores: [0.21255411 0.20603675 0.21134492 0.21091243 0.19954835]\n",
      "Average F1-score: 0.20807931060963117\n"
     ]
    },
    {
     "name": "stderr",
     "output_type": "stream",
     "text": [
      "[I 2024-12-27 17:02:22,551] Trial 27 finished with value: 0.20807931060963117 and parameters: {'max_depth': 4, 'min_samples_leaf': 20}. Best is trial 22 with value: 0.21059044869947963.\n"
     ]
    },
    {
     "name": "stdout",
     "output_type": "stream",
     "text": [
      "Cross validation F1-scores: [0.21255411 0.20603675 0.21134492 0.21091243 0.19954835]\n",
      "Average F1-score: 0.20807931060963117\n"
     ]
    },
    {
     "name": "stderr",
     "output_type": "stream",
     "text": [
      "[I 2024-12-27 17:02:34,524] Trial 32 finished with value: 0.20807931060963117 and parameters: {'max_depth': 4, 'min_samples_leaf': 20}. Best is trial 22 with value: 0.21059044869947963.\n"
     ]
    },
    {
     "name": "stdout",
     "output_type": "stream",
     "text": [
      "Cross validation F1-scores: [0.21255411 0.20603675 0.21134492 0.21091243 0.19954835]\n",
      "Average F1-score: 0.20807931060963117\n"
     ]
    },
    {
     "name": "stderr",
     "output_type": "stream",
     "text": [
      "[I 2024-12-27 17:02:35,894] Trial 33 finished with value: 0.20807931060963117 and parameters: {'max_depth': 4, 'min_samples_leaf': 20}. Best is trial 22 with value: 0.21059044869947963.\n"
     ]
    },
    {
     "name": "stdout",
     "output_type": "stream",
     "text": [
      "Cross validation F1-scores: [0.21255411 0.20603675 0.21134492 0.21091243 0.19954835]\n",
      "Average F1-score: 0.20807931060963117\n"
     ]
    },
    {
     "name": "stderr",
     "output_type": "stream",
     "text": [
      "[I 2024-12-27 17:02:37,892] Trial 34 finished with value: 0.20807931060963117 and parameters: {'max_depth': 4, 'min_samples_leaf': 20}. Best is trial 22 with value: 0.21059044869947963.\n"
     ]
    },
    {
     "name": "stdout",
     "output_type": "stream",
     "text": [
      "Cross validation F1-scores: [0.21255411 0.20603675 0.21134492 0.21091243 0.19954835]\n",
      "Average F1-score: 0.20807931060963117\n"
     ]
    },
    {
     "name": "stderr",
     "output_type": "stream",
     "text": [
      "[I 2024-12-27 17:02:39,553] Trial 28 finished with value: 0.20682542410720378 and parameters: {'max_depth': 8, 'min_samples_leaf': 18}. Best is trial 22 with value: 0.21059044869947963.\n"
     ]
    },
    {
     "name": "stdout",
     "output_type": "stream",
     "text": [
      "Cross validation F1-scores: [0.22102232 0.20779221 0.21121352 0.20070285 0.19339623]\n",
      "Average F1-score: 0.20682542410720378\n"
     ]
    },
    {
     "name": "stderr",
     "output_type": "stream",
     "text": [
      "[I 2024-12-27 17:02:40,289] Trial 29 finished with value: 0.20682542410720378 and parameters: {'max_depth': 8, 'min_samples_leaf': 18}. Best is trial 22 with value: 0.21059044869947963.\n"
     ]
    },
    {
     "name": "stdout",
     "output_type": "stream",
     "text": [
      "Cross validation F1-scores: [0.22102232 0.20779221 0.21121352 0.20070285 0.19339623]\n",
      "Average F1-score: 0.20682542410720378\n"
     ]
    },
    {
     "name": "stderr",
     "output_type": "stream",
     "text": [
      "[I 2024-12-27 17:02:40,988] Trial 35 finished with value: 0.20831437287548207 and parameters: {'max_depth': 4, 'min_samples_leaf': 18}. Best is trial 22 with value: 0.21059044869947963.\n"
     ]
    },
    {
     "name": "stdout",
     "output_type": "stream",
     "text": [
      "Cross validation F1-scores: [0.21250812 0.20603675 0.21129659 0.21275605 0.19897436]\n",
      "Average F1-score: 0.20831437287548207\n"
     ]
    },
    {
     "name": "stderr",
     "output_type": "stream",
     "text": [
      "[I 2024-12-27 17:02:44,301] Trial 30 finished with value: 0.20799508589437435 and parameters: {'max_depth': 8, 'min_samples_leaf': 16}. Best is trial 22 with value: 0.21059044869947963.\n"
     ]
    },
    {
     "name": "stdout",
     "output_type": "stream",
     "text": [
      "Cross validation F1-scores: [0.22245838 0.20581818 0.21090387 0.20286396 0.19793103]\n",
      "Average F1-score: 0.20799508589437435\n"
     ]
    },
    {
     "name": "stderr",
     "output_type": "stream",
     "text": [
      "[I 2024-12-27 17:02:46,920] Trial 31 finished with value: 0.20709289188332955 and parameters: {'max_depth': 8, 'min_samples_leaf': 20}. Best is trial 22 with value: 0.21059044869947963.\n"
     ]
    },
    {
     "name": "stdout",
     "output_type": "stream",
     "text": [
      "Cross validation F1-scores: [0.21712204 0.21204472 0.21415608 0.19506641 0.19707521]\n",
      "Average F1-score: 0.20709289188332955\n"
     ]
    },
    {
     "name": "stderr",
     "output_type": "stream",
     "text": [
      "[I 2024-12-27 17:03:10,152] Trial 36 finished with value: 0.2115719298785394 and parameters: {'max_depth': 6, 'min_samples_leaf': 16}. Best is trial 36 with value: 0.2115719298785394.\n"
     ]
    },
    {
     "name": "stdout",
     "output_type": "stream",
     "text": [
      "Cross validation F1-scores: [0.22271839 0.21560035 0.21127159 0.20902214 0.19924718]\n",
      "Average F1-score: 0.2115719298785394\n"
     ]
    },
    {
     "name": "stderr",
     "output_type": "stream",
     "text": [
      "[I 2024-12-27 17:03:19,093] Trial 37 finished with value: 0.2071096947861128 and parameters: {'max_depth': 8, 'min_samples_leaf': 14}. Best is trial 36 with value: 0.2115719298785394.\n"
     ]
    },
    {
     "name": "stdout",
     "output_type": "stream",
     "text": [
      "Cross validation F1-scores: [0.22458716 0.20457187 0.21041056 0.19890368 0.19707521]\n",
      "Average F1-score: 0.2071096947861128\n"
     ]
    },
    {
     "name": "stderr",
     "output_type": "stream",
     "text": [
      "[I 2024-12-27 17:03:26,256] Trial 38 finished with value: 0.2071096947861128 and parameters: {'max_depth': 8, 'min_samples_leaf': 14}. Best is trial 36 with value: 0.2115719298785394.\n"
     ]
    },
    {
     "name": "stdout",
     "output_type": "stream",
     "text": [
      "Cross validation F1-scores: [0.22458716 0.20457187 0.21041056 0.19890368 0.19707521]\n",
      "Average F1-score: 0.2071096947861128\n"
     ]
    },
    {
     "name": "stderr",
     "output_type": "stream",
     "text": [
      "[I 2024-12-27 17:03:35,787] Trial 39 finished with value: 0.19265706298516408 and parameters: {'max_depth': 10, 'min_samples_leaf': 14}. Best is trial 36 with value: 0.2115719298785394.\n"
     ]
    },
    {
     "name": "stdout",
     "output_type": "stream",
     "text": [
      "Cross validation F1-scores: [0.20852221 0.1928702  0.19114878 0.18286814 0.18787598]\n",
      "Average F1-score: 0.19265706298516408\n"
     ]
    },
    {
     "name": "stderr",
     "output_type": "stream",
     "text": [
      "[I 2024-12-27 17:03:40,721] Trial 40 finished with value: 0.2071096947861128 and parameters: {'max_depth': 8, 'min_samples_leaf': 14}. Best is trial 36 with value: 0.2115719298785394.\n"
     ]
    },
    {
     "name": "stdout",
     "output_type": "stream",
     "text": [
      "Cross validation F1-scores: [0.22458716 0.20457187 0.21041056 0.19890368 0.19707521]\n",
      "Average F1-score: 0.2071096947861128\n"
     ]
    },
    {
     "name": "stderr",
     "output_type": "stream",
     "text": [
      "[I 2024-12-27 17:03:41,287] Trial 44 finished with value: 0.21154933196964576 and parameters: {'max_depth': 6, 'min_samples_leaf': 12}. Best is trial 36 with value: 0.2115719298785394.\n"
     ]
    },
    {
     "name": "stdout",
     "output_type": "stream",
     "text": [
      "Cross validation F1-scores: [0.22276688 0.21173695 0.21058559 0.21142521 0.20123203]\n",
      "Average F1-score: 0.21154933196964576\n"
     ]
    },
    {
     "name": "stderr",
     "output_type": "stream",
     "text": [
      "[I 2024-12-27 17:03:42,409] Trial 45 finished with value: 0.21154933196964576 and parameters: {'max_depth': 6, 'min_samples_leaf': 12}. Best is trial 36 with value: 0.2115719298785394.\n"
     ]
    },
    {
     "name": "stdout",
     "output_type": "stream",
     "text": [
      "Cross validation F1-scores: [0.22276688 0.21173695 0.21058559 0.21142521 0.20123203]\n",
      "Average F1-score: 0.21154933196964576\n"
     ]
    },
    {
     "name": "stderr",
     "output_type": "stream",
     "text": [
      "[I 2024-12-27 17:03:42,769] Trial 41 finished with value: 0.2071096947861128 and parameters: {'max_depth': 8, 'min_samples_leaf': 14}. Best is trial 36 with value: 0.2115719298785394.\n"
     ]
    },
    {
     "name": "stdout",
     "output_type": "stream",
     "text": [
      "Cross validation F1-scores: [0.22458716 0.20457187 0.21041056 0.19890368 0.19707521]\n",
      "Average F1-score: 0.2071096947861128\n"
     ]
    },
    {
     "name": "stderr",
     "output_type": "stream",
     "text": [
      "[I 2024-12-27 17:03:44,983] Trial 42 finished with value: 0.2071096947861128 and parameters: {'max_depth': 8, 'min_samples_leaf': 14}. Best is trial 36 with value: 0.2115719298785394.\n"
     ]
    },
    {
     "name": "stdout",
     "output_type": "stream",
     "text": [
      "Cross validation F1-scores: [0.22458716 0.20457187 0.21041056 0.19890368 0.19707521]\n",
      "Average F1-score: 0.2071096947861128\n"
     ]
    },
    {
     "name": "stderr",
     "output_type": "stream",
     "text": [
      "[I 2024-12-27 17:03:45,416] Trial 46 finished with value: 0.2110564821690716 and parameters: {'max_depth': 6, 'min_samples_leaf': 28}. Best is trial 36 with value: 0.2115719298785394.\n"
     ]
    },
    {
     "name": "stdout",
     "output_type": "stream",
     "text": [
      "Cross validation F1-scores: [0.22477441 0.21329562 0.20667031 0.21269941 0.19784267]\n",
      "Average F1-score: 0.2110564821690716\n"
     ]
    },
    {
     "name": "stderr",
     "output_type": "stream",
     "text": [
      "[I 2024-12-27 17:03:47,572] Trial 47 finished with value: 0.21108435371372022 and parameters: {'max_depth': 6, 'min_samples_leaf': 26}. Best is trial 36 with value: 0.2115719298785394.\n",
      "[I 2024-12-27 17:03:47,636] Trial 43 finished with value: 0.2071096947861128 and parameters: {'max_depth': 8, 'min_samples_leaf': 14}. Best is trial 36 with value: 0.2115719298785394.\n"
     ]
    },
    {
     "name": "stdout",
     "output_type": "stream",
     "text": [
      "Cross validation F1-scores: [0.22162741 0.21234019 0.21146644 0.2106861  0.19930164]\n",
      "Average F1-score: 0.21108435371372022\n",
      "Cross validation F1-scores: [0.22458716 0.20457187 0.21041056 0.19890368 0.19707521]\n",
      "Average F1-score: 0.2071096947861128\n"
     ]
    },
    {
     "name": "stderr",
     "output_type": "stream",
     "text": [
      "[I 2024-12-27 17:04:21,598] Trial 48 finished with value: 0.19469780895951122 and parameters: {'max_depth': 10, 'min_samples_leaf': 26}. Best is trial 36 with value: 0.2115719298785394.\n"
     ]
    },
    {
     "name": "stdout",
     "output_type": "stream",
     "text": [
      "Cross validation F1-scores: [0.21007686 0.19078341 0.19328494 0.18624642 0.19309742]\n",
      "Average F1-score: 0.19469780895951122\n"
     ]
    },
    {
     "name": "stderr",
     "output_type": "stream",
     "text": [
      "[I 2024-12-27 17:04:34,470] Trial 49 finished with value: 0.17555159513680588 and parameters: {'max_depth': 12, 'min_samples_leaf': 26}. Best is trial 36 with value: 0.2115719298785394.\n"
     ]
    },
    {
     "name": "stdout",
     "output_type": "stream",
     "text": [
      "Cross validation F1-scores: [0.19393283 0.18191604 0.17943337 0.15770609 0.16476965]\n",
      "Average F1-score: 0.17555159513680588\n"
     ]
    },
    {
     "name": "stderr",
     "output_type": "stream",
     "text": [
      "[I 2024-12-27 17:04:35,912] Trial 51 finished with value: 0.21108435371372022 and parameters: {'max_depth': 6, 'min_samples_leaf': 26}. Best is trial 36 with value: 0.2115719298785394.\n"
     ]
    },
    {
     "name": "stdout",
     "output_type": "stream",
     "text": [
      "Cross validation F1-scores: [0.22162741 0.21234019 0.21146644 0.2106861  0.19930164]\n",
      "Average F1-score: 0.21108435371372022\n"
     ]
    },
    {
     "name": "stderr",
     "output_type": "stream",
     "text": [
      "[I 2024-12-27 17:04:40,673] Trial 52 finished with value: 0.21108435371372022 and parameters: {'max_depth': 6, 'min_samples_leaf': 26}. Best is trial 36 with value: 0.2115719298785394.\n",
      "[I 2024-12-27 17:04:40,771] Trial 50 finished with value: 0.17788182376455883 and parameters: {'max_depth': 12, 'min_samples_leaf': 28}. Best is trial 36 with value: 0.2115719298785394.\n"
     ]
    },
    {
     "name": "stdout",
     "output_type": "stream",
     "text": [
      "Cross validation F1-scores: [0.22162741 0.21234019 0.21146644 0.2106861  0.19930164]\n",
      "Average F1-score: 0.21108435371372022\n",
      "Cross validation F1-scores: [0.2        0.17522985 0.17677824 0.15995397 0.17744705]\n",
      "Average F1-score: 0.17788182376455883\n"
     ]
    },
    {
     "name": "stderr",
     "output_type": "stream",
     "text": [
      "[I 2024-12-27 17:04:42,795] Trial 53 finished with value: 0.21058219094766387 and parameters: {'max_depth': 6, 'min_samples_leaf': 8}. Best is trial 36 with value: 0.2115719298785394.\n"
     ]
    },
    {
     "name": "stdout",
     "output_type": "stream",
     "text": [
      "Cross validation F1-scores: [0.22216082 0.20952945 0.2091764  0.20852804 0.20351625]\n",
      "Average F1-score: 0.21058219094766387\n"
     ]
    },
    {
     "name": "stderr",
     "output_type": "stream",
     "text": [
      "[I 2024-12-27 17:04:43,479] Trial 54 finished with value: 0.21058219094766387 and parameters: {'max_depth': 6, 'min_samples_leaf': 8}. Best is trial 36 with value: 0.2115719298785394.\n"
     ]
    },
    {
     "name": "stdout",
     "output_type": "stream",
     "text": [
      "Cross validation F1-scores: [0.22216082 0.20952945 0.2091764  0.20852804 0.20351625]\n",
      "Average F1-score: 0.21058219094766387\n"
     ]
    },
    {
     "name": "stderr",
     "output_type": "stream",
     "text": [
      "[I 2024-12-27 17:04:46,189] Trial 56 finished with value: 0.21058219094766387 and parameters: {'max_depth': 6, 'min_samples_leaf': 8}. Best is trial 36 with value: 0.2115719298785394.\n"
     ]
    },
    {
     "name": "stdout",
     "output_type": "stream",
     "text": [
      "Cross validation F1-scores: [0.22216082 0.20952945 0.2091764  0.20852804 0.20351625]\n",
      "Average F1-score: 0.21058219094766387\n"
     ]
    },
    {
     "name": "stderr",
     "output_type": "stream",
     "text": [
      "[I 2024-12-27 17:04:58,286] Trial 55 finished with value: 0.17054676621123813 and parameters: {'max_depth': 12, 'min_samples_leaf': 6}. Best is trial 36 with value: 0.2115719298785394.\n"
     ]
    },
    {
     "name": "stdout",
     "output_type": "stream",
     "text": [
      "Cross validation F1-scores: [0.18499718 0.1723356  0.16835017 0.15347432 0.17357656]\n",
      "Average F1-score: 0.17054676621123813\n"
     ]
    },
    {
     "name": "stderr",
     "output_type": "stream",
     "text": [
      "[I 2024-12-27 17:05:01,229] Trial 57 finished with value: 0.16851177924364386 and parameters: {'max_depth': 12, 'min_samples_leaf': 8}. Best is trial 36 with value: 0.2115719298785394.\n"
     ]
    },
    {
     "name": "stdout",
     "output_type": "stream",
     "text": [
      "Cross validation F1-scores: [0.17847183 0.17033277 0.16494845 0.1588785  0.16992733]\n",
      "Average F1-score: 0.16851177924364386\n"
     ]
    },
    {
     "name": "stderr",
     "output_type": "stream",
     "text": [
      "[I 2024-12-27 17:05:03,148] Trial 58 finished with value: 0.17555159513680588 and parameters: {'max_depth': 12, 'min_samples_leaf': 26}. Best is trial 36 with value: 0.2115719298785394.\n"
     ]
    },
    {
     "name": "stdout",
     "output_type": "stream",
     "text": [
      "Cross validation F1-scores: [0.19393283 0.18191604 0.17943337 0.15770609 0.16476965]\n",
      "Average F1-score: 0.17555159513680588\n"
     ]
    },
    {
     "name": "stderr",
     "output_type": "stream",
     "text": [
      "[I 2024-12-27 17:05:06,196] Trial 59 finished with value: 0.15680450404715665 and parameters: {'max_depth': 14, 'min_samples_leaf': 26}. Best is trial 36 with value: 0.2115719298785394.\n"
     ]
    },
    {
     "name": "stdout",
     "output_type": "stream",
     "text": [
      "Cross validation F1-scores: [0.1662531  0.15345912 0.15607985 0.14952077 0.15870968]\n",
      "Average F1-score: 0.15680450404715665\n"
     ]
    },
    {
     "name": "stderr",
     "output_type": "stream",
     "text": [
      "[I 2024-12-27 17:05:35,621] Trial 61 finished with value: 0.21058219094766387 and parameters: {'max_depth': 6, 'min_samples_leaf': 8}. Best is trial 36 with value: 0.2115719298785394.\n"
     ]
    },
    {
     "name": "stdout",
     "output_type": "stream",
     "text": [
      "Cross validation F1-scores: [0.22216082 0.20952945 0.2091764  0.20852804 0.20351625]\n",
      "Average F1-score: 0.21058219094766387\n"
     ]
    },
    {
     "name": "stderr",
     "output_type": "stream",
     "text": [
      "[I 2024-12-27 17:05:36,496] Trial 62 finished with value: 0.21058219094766387 and parameters: {'max_depth': 6, 'min_samples_leaf': 8}. Best is trial 36 with value: 0.2115719298785394.\n"
     ]
    },
    {
     "name": "stdout",
     "output_type": "stream",
     "text": [
      "Cross validation F1-scores: [0.22216082 0.20952945 0.2091764  0.20852804 0.20351625]\n",
      "Average F1-score: 0.21058219094766387\n"
     ]
    },
    {
     "name": "stderr",
     "output_type": "stream",
     "text": [
      "[I 2024-12-27 17:05:37,732] Trial 60 finished with value: 0.16851177924364386 and parameters: {'max_depth': 12, 'min_samples_leaf': 8}. Best is trial 36 with value: 0.2115719298785394.\n"
     ]
    },
    {
     "name": "stdout",
     "output_type": "stream",
     "text": [
      "Cross validation F1-scores: [0.17847183 0.17033277 0.16494845 0.1588785  0.16992733]\n",
      "Average F1-score: 0.16851177924364386\n"
     ]
    },
    {
     "name": "stderr",
     "output_type": "stream",
     "text": [
      "[I 2024-12-27 17:05:41,551] Trial 64 finished with value: 0.21194326155895649 and parameters: {'max_depth': 6, 'min_samples_leaf': 10}. Best is trial 64 with value: 0.21194326155895649.\n"
     ]
    },
    {
     "name": "stdout",
     "output_type": "stream",
     "text": [
      "Cross validation F1-scores: [0.22185971 0.20989505 0.2122807  0.21219091 0.20348993]\n",
      "Average F1-score: 0.21194326155895649\n"
     ]
    },
    {
     "name": "stderr",
     "output_type": "stream",
     "text": [
      "[I 2024-12-27 17:05:42,666] Trial 63 finished with value: 0.21194326155895649 and parameters: {'max_depth': 6, 'min_samples_leaf': 10}. Best is trial 63 with value: 0.21194326155895649.\n"
     ]
    },
    {
     "name": "stdout",
     "output_type": "stream",
     "text": [
      "Cross validation F1-scores: [0.22185971 0.20989505 0.2122807  0.21219091 0.20348993]\n",
      "Average F1-score: 0.21194326155895649\n"
     ]
    },
    {
     "name": "stderr",
     "output_type": "stream",
     "text": [
      "[I 2024-12-27 17:05:56,378] Trial 66 finished with value: 0.17767214704345863 and parameters: {'max_depth': 12, 'min_samples_leaf': 36}. Best is trial 63 with value: 0.21194326155895649.\n"
     ]
    },
    {
     "name": "stdout",
     "output_type": "stream",
     "text": [
      "Cross validation F1-scores: [0.18946248 0.18623901 0.17824934 0.15259173 0.18181818]\n",
      "Average F1-score: 0.17767214704345863\n"
     ]
    },
    {
     "name": "stderr",
     "output_type": "stream",
     "text": [
      "[I 2024-12-27 17:06:01,485] Trial 67 finished with value: 0.18142924829529314 and parameters: {'max_depth': 12, 'min_samples_leaf': 34}. Best is trial 63 with value: 0.21194326155895649.\n"
     ]
    },
    {
     "name": "stdout",
     "output_type": "stream",
     "text": [
      "Cross validation F1-scores: [0.20010532 0.17615467 0.18800813 0.16666667 0.17621145]\n",
      "Average F1-score: 0.18142924829529314\n"
     ]
    },
    {
     "name": "stderr",
     "output_type": "stream",
     "text": [
      "[I 2024-12-27 17:06:02,900] Trial 65 finished with value: 0.13026477860493912 and parameters: {'max_depth': 20, 'min_samples_leaf': 34}. Best is trial 63 with value: 0.21194326155895649.\n"
     ]
    },
    {
     "name": "stdout",
     "output_type": "stream",
     "text": [
      "Cross validation F1-scores: [0.13519164 0.12674095 0.14090582 0.12573099 0.12275449]\n",
      "Average F1-score: 0.13026477860493912\n"
     ]
    },
    {
     "name": "stderr",
     "output_type": "stream",
     "text": [
      "[I 2024-12-27 17:06:16,675] Trial 68 finished with value: 0.13431752687362772 and parameters: {'max_depth': 18, 'min_samples_leaf': 36}. Best is trial 63 with value: 0.21194326155895649.\n"
     ]
    },
    {
     "name": "stdout",
     "output_type": "stream",
     "text": [
      "Cross validation F1-scores: [0.14145658 0.13424658 0.13617607 0.12418773 0.13552068]\n",
      "Average F1-score: 0.13431752687362772\n"
     ]
    },
    {
     "name": "stderr",
     "output_type": "stream",
     "text": [
      "[I 2024-12-27 17:06:20,680] Trial 69 finished with value: 0.1338330104391915 and parameters: {'max_depth': 20, 'min_samples_leaf': 36}. Best is trial 63 with value: 0.21194326155895649.\n"
     ]
    },
    {
     "name": "stdout",
     "output_type": "stream",
     "text": [
      "Cross validation F1-scores: [0.14147018 0.13105802 0.14193548 0.12870571 0.12599566]\n",
      "Average F1-score: 0.1338330104391915\n"
     ]
    },
    {
     "name": "stderr",
     "output_type": "stream",
     "text": [
      "[I 2024-12-27 17:06:22,628] Trial 70 finished with value: 0.13431752687362772 and parameters: {'max_depth': 18, 'min_samples_leaf': 36}. Best is trial 63 with value: 0.21194326155895649.\n"
     ]
    },
    {
     "name": "stdout",
     "output_type": "stream",
     "text": [
      "Cross validation F1-scores: [0.14145658 0.13424658 0.13617607 0.12418773 0.13552068]\n",
      "Average F1-score: 0.13431752687362772\n"
     ]
    },
    {
     "name": "stderr",
     "output_type": "stream",
     "text": [
      "[I 2024-12-27 17:06:26,148] Trial 71 finished with value: 0.13026477860493912 and parameters: {'max_depth': 20, 'min_samples_leaf': 34}. Best is trial 63 with value: 0.21194326155895649.\n"
     ]
    },
    {
     "name": "stdout",
     "output_type": "stream",
     "text": [
      "Cross validation F1-scores: [0.13519164 0.12674095 0.14090582 0.12573099 0.12275449]\n",
      "Average F1-score: 0.13026477860493912\n"
     ]
    },
    {
     "name": "stderr",
     "output_type": "stream",
     "text": [
      "[I 2024-12-27 17:06:47,471] Trial 74 finished with value: 0.19971702789659523 and parameters: {'max_depth': 10, 'min_samples_leaf': 40}. Best is trial 63 with value: 0.21194326155895649.\n"
     ]
    },
    {
     "name": "stdout",
     "output_type": "stream",
     "text": [
      "Cross validation F1-scores: [0.22028733 0.20123023 0.19554343 0.19078341 0.19074074]\n",
      "Average F1-score: 0.19971702789659523\n"
     ]
    },
    {
     "name": "stderr",
     "output_type": "stream",
     "text": [
      "[I 2024-12-27 17:06:54,690] Trial 72 finished with value: 0.13431752687362772 and parameters: {'max_depth': 18, 'min_samples_leaf': 36}. Best is trial 63 with value: 0.21194326155895649.\n"
     ]
    },
    {
     "name": "stdout",
     "output_type": "stream",
     "text": [
      "Cross validation F1-scores: [0.14145658 0.13424658 0.13617607 0.12418773 0.13552068]\n",
      "Average F1-score: 0.13431752687362772\n"
     ]
    },
    {
     "name": "stderr",
     "output_type": "stream",
     "text": [
      "[I 2024-12-27 17:06:56,706] Trial 73 finished with value: 0.1338330104391915 and parameters: {'max_depth': 20, 'min_samples_leaf': 36}. Best is trial 63 with value: 0.21194326155895649.\n"
     ]
    },
    {
     "name": "stdout",
     "output_type": "stream",
     "text": [
      "Cross validation F1-scores: [0.14147018 0.13105802 0.14193548 0.12870571 0.12599566]\n",
      "Average F1-score: 0.1338330104391915\n"
     ]
    },
    {
     "name": "stderr",
     "output_type": "stream",
     "text": [
      "[I 2024-12-27 17:07:00,322] Trial 75 finished with value: 0.13026477860493912 and parameters: {'max_depth': 20, 'min_samples_leaf': 34}. Best is trial 63 with value: 0.21194326155895649.\n"
     ]
    },
    {
     "name": "stdout",
     "output_type": "stream",
     "text": [
      "Cross validation F1-scores: [0.13519164 0.12674095 0.14090582 0.12573099 0.12275449]\n",
      "Average F1-score: 0.13026477860493912\n"
     ]
    },
    {
     "name": "stderr",
     "output_type": "stream",
     "text": [
      "[I 2024-12-27 17:07:01,758] Trial 76 finished with value: 0.1338330104391915 and parameters: {'max_depth': 20, 'min_samples_leaf': 36}. Best is trial 63 with value: 0.21194326155895649.\n"
     ]
    },
    {
     "name": "stdout",
     "output_type": "stream",
     "text": [
      "Cross validation F1-scores: [0.14147018 0.13105802 0.14193548 0.12870571 0.12599566]\n",
      "Average F1-score: 0.1338330104391915\n"
     ]
    },
    {
     "name": "stderr",
     "output_type": "stream",
     "text": [
      "[I 2024-12-27 17:07:06,186] Trial 77 finished with value: 0.19386514757968745 and parameters: {'max_depth': 10, 'min_samples_leaf': 10}. Best is trial 63 with value: 0.21194326155895649.\n"
     ]
    },
    {
     "name": "stdout",
     "output_type": "stream",
     "text": [
      "Cross validation F1-scores: [0.20670648 0.19727572 0.18982118 0.18394161 0.19158076]\n",
      "Average F1-score: 0.19386514757968745\n"
     ]
    },
    {
     "name": "stderr",
     "output_type": "stream",
     "text": [
      "[I 2024-12-27 17:07:14,998] Trial 79 finished with value: 0.19386514757968745 and parameters: {'max_depth': 10, 'min_samples_leaf': 10}. Best is trial 63 with value: 0.21194326155895649.\n"
     ]
    },
    {
     "name": "stdout",
     "output_type": "stream",
     "text": [
      "Cross validation F1-scores: [0.20670648 0.19727572 0.18982118 0.18394161 0.19158076]\n",
      "Average F1-score: 0.19386514757968745\n"
     ]
    },
    {
     "name": "stderr",
     "output_type": "stream",
     "text": [
      "[I 2024-12-27 17:07:21,007] Trial 78 finished with value: 0.14236570608238547 and parameters: {'max_depth': 18, 'min_samples_leaf': 42}. Best is trial 63 with value: 0.21194326155895649.\n"
     ]
    },
    {
     "name": "stdout",
     "output_type": "stream",
     "text": [
      "Cross validation F1-scores: [0.15686275 0.12881806 0.15404531 0.1369863  0.13511612]\n",
      "Average F1-score: 0.14236570608238547\n"
     ]
    },
    {
     "name": "stderr",
     "output_type": "stream",
     "text": [
      "[I 2024-12-27 17:07:28,484] Trial 80 finished with value: 0.19386514757968745 and parameters: {'max_depth': 10, 'min_samples_leaf': 10}. Best is trial 63 with value: 0.21194326155895649.\n"
     ]
    },
    {
     "name": "stdout",
     "output_type": "stream",
     "text": [
      "Cross validation F1-scores: [0.20670648 0.19727572 0.18982118 0.18394161 0.19158076]\n",
      "Average F1-score: 0.19386514757968745\n"
     ]
    },
    {
     "name": "stderr",
     "output_type": "stream",
     "text": [
      "[I 2024-12-27 17:07:32,645] Trial 81 finished with value: 0.19386514757968745 and parameters: {'max_depth': 10, 'min_samples_leaf': 10}. Best is trial 63 with value: 0.21194326155895649.\n"
     ]
    },
    {
     "name": "stdout",
     "output_type": "stream",
     "text": [
      "Cross validation F1-scores: [0.20670648 0.19727572 0.18982118 0.18394161 0.19158076]\n",
      "Average F1-score: 0.19386514757968745\n"
     ]
    },
    {
     "name": "stderr",
     "output_type": "stream",
     "text": [
      "[I 2024-12-27 17:07:34,784] Trial 82 finished with value: 0.19386514757968745 and parameters: {'max_depth': 10, 'min_samples_leaf': 10}. Best is trial 63 with value: 0.21194326155895649.\n"
     ]
    },
    {
     "name": "stdout",
     "output_type": "stream",
     "text": [
      "Cross validation F1-scores: [0.20670648 0.19727572 0.18982118 0.18394161 0.19158076]\n",
      "Average F1-score: 0.19386514757968745\n"
     ]
    },
    {
     "name": "stderr",
     "output_type": "stream",
     "text": [
      "[I 2024-12-27 17:07:38,537] Trial 83 finished with value: 0.19386514757968745 and parameters: {'max_depth': 10, 'min_samples_leaf': 10}. Best is trial 63 with value: 0.21194326155895649.\n"
     ]
    },
    {
     "name": "stdout",
     "output_type": "stream",
     "text": [
      "Cross validation F1-scores: [0.20670648 0.19727572 0.18982118 0.18394161 0.19158076]\n",
      "Average F1-score: 0.19386514757968745\n"
     ]
    },
    {
     "name": "stderr",
     "output_type": "stream",
     "text": [
      "[I 2024-12-27 17:07:49,146] Trial 84 finished with value: 0.21194326155895649 and parameters: {'max_depth': 6, 'min_samples_leaf': 10}. Best is trial 63 with value: 0.21194326155895649.\n"
     ]
    },
    {
     "name": "stdout",
     "output_type": "stream",
     "text": [
      "Cross validation F1-scores: [0.22185971 0.20989505 0.2122807  0.21219091 0.20348993]\n",
      "Average F1-score: 0.21194326155895649\n"
     ]
    },
    {
     "name": "stderr",
     "output_type": "stream",
     "text": [
      "[I 2024-12-27 17:07:57,498] Trial 85 finished with value: 0.21194326155895649 and parameters: {'max_depth': 6, 'min_samples_leaf': 10}. Best is trial 63 with value: 0.21194326155895649.\n"
     ]
    },
    {
     "name": "stdout",
     "output_type": "stream",
     "text": [
      "Cross validation F1-scores: [0.22185971 0.20989505 0.2122807  0.21219091 0.20348993]\n",
      "Average F1-score: 0.21194326155895649\n"
     ]
    },
    {
     "name": "stderr",
     "output_type": "stream",
     "text": [
      "[I 2024-12-27 17:07:59,204] Trial 86 finished with value: 0.21194326155895649 and parameters: {'max_depth': 6, 'min_samples_leaf': 10}. Best is trial 63 with value: 0.21194326155895649.\n"
     ]
    },
    {
     "name": "stdout",
     "output_type": "stream",
     "text": [
      "Cross validation F1-scores: [0.22185971 0.20989505 0.2122807  0.21219091 0.20348993]\n",
      "Average F1-score: 0.21194326155895649\n"
     ]
    },
    {
     "name": "stderr",
     "output_type": "stream",
     "text": [
      "[I 2024-12-27 17:08:03,306] Trial 87 finished with value: 0.21194326155895649 and parameters: {'max_depth': 6, 'min_samples_leaf': 10}. Best is trial 63 with value: 0.21194326155895649.\n"
     ]
    },
    {
     "name": "stdout",
     "output_type": "stream",
     "text": [
      "Cross validation F1-scores: [0.22185971 0.20989505 0.2122807  0.21219091 0.20348993]\n",
      "Average F1-score: 0.21194326155895649\n"
     ]
    },
    {
     "name": "stderr",
     "output_type": "stream",
     "text": [
      "[I 2024-12-27 17:08:04,765] Trial 88 finished with value: 0.21194326155895649 and parameters: {'max_depth': 6, 'min_samples_leaf': 10}. Best is trial 63 with value: 0.21194326155895649.\n"
     ]
    },
    {
     "name": "stdout",
     "output_type": "stream",
     "text": [
      "Cross validation F1-scores: [0.22185971 0.20989505 0.2122807  0.21219091 0.20348993]\n",
      "Average F1-score: 0.21194326155895649\n"
     ]
    },
    {
     "name": "stderr",
     "output_type": "stream",
     "text": [
      "[I 2024-12-27 17:08:08,197] Trial 89 finished with value: 0.2130904005882733 and parameters: {'max_depth': 6, 'min_samples_leaf': 24}. Best is trial 89 with value: 0.2130904005882733.\n"
     ]
    },
    {
     "name": "stdout",
     "output_type": "stream",
     "text": [
      "Cross validation F1-scores: [0.22560478 0.21195039 0.21177149 0.21287554 0.20324979]\n",
      "Average F1-score: 0.2130904005882733\n"
     ]
    },
    {
     "name": "stderr",
     "output_type": "stream",
     "text": [
      "[I 2024-12-27 17:08:16,003] Trial 90 finished with value: 0.20933596220345682 and parameters: {'max_depth': 6, 'min_samples_leaf': 4}. Best is trial 89 with value: 0.2130904005882733.\n"
     ]
    },
    {
     "name": "stdout",
     "output_type": "stream",
     "text": [
      "Cross validation F1-scores: [0.21925134 0.2109174  0.21105826 0.20734214 0.19811066]\n",
      "Average F1-score: 0.20933596220345682\n"
     ]
    },
    {
     "name": "stderr",
     "output_type": "stream",
     "text": [
      "[I 2024-12-27 17:08:21,877] Trial 91 finished with value: 0.21152708794473715 and parameters: {'max_depth': 6, 'min_samples_leaf': 22}. Best is trial 89 with value: 0.2130904005882733.\n"
     ]
    },
    {
     "name": "stdout",
     "output_type": "stream",
     "text": [
      "Cross validation F1-scores: [0.22154359 0.21374046 0.21275328 0.21070615 0.19889197]\n",
      "Average F1-score: 0.21152708794473715\n"
     ]
    },
    {
     "name": "stderr",
     "output_type": "stream",
     "text": [
      "[I 2024-12-27 17:08:26,026] Trial 92 finished with value: 0.2094360621854669 and parameters: {'max_depth': 6, 'min_samples_leaf': 30}. Best is trial 89 with value: 0.2130904005882733.\n"
     ]
    },
    {
     "name": "stdout",
     "output_type": "stream",
     "text": [
      "Cross validation F1-scores: [0.2210783  0.20990764 0.20610687 0.21135266 0.19873484]\n",
      "Average F1-score: 0.2094360621854669\n"
     ]
    },
    {
     "name": "stderr",
     "output_type": "stream",
     "text": [
      "[I 2024-12-27 17:08:28,721] Trial 93 finished with value: 0.2130904005882733 and parameters: {'max_depth': 6, 'min_samples_leaf': 24}. Best is trial 89 with value: 0.2130904005882733.\n"
     ]
    },
    {
     "name": "stdout",
     "output_type": "stream",
     "text": [
      "Cross validation F1-scores: [0.22560478 0.21195039 0.21177149 0.21287554 0.20324979]\n",
      "Average F1-score: 0.2130904005882733\n"
     ]
    },
    {
     "name": "stderr",
     "output_type": "stream",
     "text": [
      "[I 2024-12-27 17:08:30,327] Trial 94 finished with value: 0.2130904005882733 and parameters: {'max_depth': 6, 'min_samples_leaf': 24}. Best is trial 89 with value: 0.2130904005882733.\n"
     ]
    },
    {
     "name": "stdout",
     "output_type": "stream",
     "text": [
      "Cross validation F1-scores: [0.22560478 0.21195039 0.21177149 0.21287554 0.20324979]\n",
      "Average F1-score: 0.2130904005882733\n"
     ]
    },
    {
     "name": "stderr",
     "output_type": "stream",
     "text": [
      "[I 2024-12-27 17:08:31,767] Trial 95 finished with value: 0.2130904005882733 and parameters: {'max_depth': 6, 'min_samples_leaf': 24}. Best is trial 89 with value: 0.2130904005882733.\n"
     ]
    },
    {
     "name": "stdout",
     "output_type": "stream",
     "text": [
      "Cross validation F1-scores: [0.22560478 0.21195039 0.21177149 0.21287554 0.20324979]\n",
      "Average F1-score: 0.2130904005882733\n"
     ]
    },
    {
     "name": "stderr",
     "output_type": "stream",
     "text": [
      "[I 2024-12-27 17:08:36,147] Trial 98 finished with value: 0.20797754307608277 and parameters: {'max_depth': 4, 'min_samples_leaf': 4}. Best is trial 89 with value: 0.2130904005882733.\n"
     ]
    },
    {
     "name": "stdout",
     "output_type": "stream",
     "text": [
      "Cross validation F1-scores: [0.21246214 0.20641501 0.20889664 0.21256932 0.19954461]\n",
      "Average F1-score: 0.20797754307608277\n"
     ]
    },
    {
     "name": "stderr",
     "output_type": "stream",
     "text": [
      "[I 2024-12-27 17:08:36,373] Trial 96 finished with value: 0.2130904005882733 and parameters: {'max_depth': 6, 'min_samples_leaf': 24}. Best is trial 89 with value: 0.2130904005882733.\n"
     ]
    },
    {
     "name": "stdout",
     "output_type": "stream",
     "text": [
      "Cross validation F1-scores: [0.22560478 0.21195039 0.21177149 0.21287554 0.20324979]\n",
      "Average F1-score: 0.2130904005882733\n"
     ]
    },
    {
     "name": "stderr",
     "output_type": "stream",
     "text": [
      "[I 2024-12-27 17:08:37,885] Trial 99 finished with value: 0.20797754307608277 and parameters: {'max_depth': 4, 'min_samples_leaf': 4}. Best is trial 89 with value: 0.2130904005882733.\n"
     ]
    },
    {
     "name": "stdout",
     "output_type": "stream",
     "text": [
      "Cross validation F1-scores: [0.21246214 0.20641501 0.20889664 0.21256932 0.19954461]\n",
      "Average F1-score: 0.20797754307608277\n"
     ]
    },
    {
     "name": "stderr",
     "output_type": "stream",
     "text": [
      "[I 2024-12-27 17:08:39,595] Trial 97 finished with value: 0.20933596220345682 and parameters: {'max_depth': 6, 'min_samples_leaf': 4}. Best is trial 89 with value: 0.2130904005882733.\n"
     ]
    },
    {
     "name": "stdout",
     "output_type": "stream",
     "text": [
      "Cross validation F1-scores: [0.21925134 0.2109174  0.21105826 0.20734214 0.19811066]\n",
      "Average F1-score: 0.20933596220345682\n"
     ]
    }
   ],
   "source": [
    "study.optimize(\n",
    "    objective,\n",
    "    n_trials=100,\n",
    "    n_jobs=-1 # Use all available cores\n",
    ")"
   ]
  },
  {
   "cell_type": "code",
   "execution_count": 112,
   "metadata": {},
   "outputs": [
    {
     "name": "stdout",
     "output_type": "stream",
     "text": [
      "Best Trial: 89\n",
      "Best Parameters: {'max_depth': 6, 'min_samples_leaf': 24}\n",
      "Best Value: 0.2130904005882733\n"
     ]
    }
   ],
   "source": [
    "print('Best Trial: {}'.format(study.best_trial.number))\n",
    "print('Best Parameters: {}'.format(study.best_params))\n",
    "print('Best Value: {}'.format(study.best_value))"
   ]
  },
  {
   "cell_type": "markdown",
   "metadata": {},
   "source": [
    "### 4.3 Optuna Visualizations\n",
    "Visualizing hyper-parameter tuning results obtained by running Optuna."
   ]
  },
  {
   "cell_type": "code",
   "execution_count": 113,
   "metadata": {},
   "outputs": [
    {
     "data": {
      "application/vnd.plotly.v1+json": {
       "config": {
        "plotlyServerURL": "https://plot.ly"
       },
       "data": [
        {
         "mode": "markers",
         "name": "Objective Value",
         "type": "scatter",
         "x": [
          0,
          1,
          2,
          3,
          4,
          5,
          6,
          7,
          8,
          9,
          10,
          11,
          12,
          13,
          14,
          15,
          16,
          17,
          18,
          19,
          20,
          21,
          22,
          23,
          24,
          25,
          26,
          27,
          28,
          29,
          30,
          31,
          32,
          33,
          34,
          35,
          36,
          37,
          38,
          39,
          40,
          41,
          42,
          43,
          44,
          45,
          46,
          47,
          48,
          49,
          50,
          51,
          52,
          53,
          54,
          55,
          56,
          57,
          58,
          59,
          60,
          61,
          62,
          63,
          64,
          65,
          66,
          67,
          68,
          69,
          70,
          71,
          72,
          73,
          74,
          75,
          76,
          77,
          78,
          79,
          80,
          81,
          82,
          83,
          84,
          85,
          86,
          87,
          88,
          89,
          90,
          91,
          92,
          93,
          94,
          95,
          96,
          97,
          98,
          99
         ],
         "y": [
          0.10606108409503867,
          0.1432491194577901,
          0.15100575657722634,
          0.15475283973959958,
          0.16023007837635378,
          0.19653885559841838,
          0.13975901726077145,
          0.19077515479740953,
          0.0780953273969462,
          0.1703297466253517,
          0.1439158341694969,
          0.1524711961359103,
          0.056727658219363264,
          0.15013463047579068,
          0.1542000970513051,
          0.1245179250473802,
          0.14774266401079864,
          0.20777480507400928,
          0.12037825923930726,
          0.2077201681895068,
          0.10606108409503867,
          0.20807931060963117,
          0.21059044869947963,
          0.21059044869947963,
          0.20807931060963117,
          0.20807931060963117,
          0.20807931060963117,
          0.20807931060963117,
          0.20682542410720378,
          0.20682542410720378,
          0.20799508589437435,
          0.20709289188332955,
          0.20807931060963117,
          0.20807931060963117,
          0.20807931060963117,
          0.20831437287548207,
          0.2115719298785394,
          0.2071096947861128,
          0.2071096947861128,
          0.19265706298516408,
          0.2071096947861128,
          0.2071096947861128,
          0.2071096947861128,
          0.2071096947861128,
          0.21154933196964576,
          0.21154933196964576,
          0.2110564821690716,
          0.21108435371372022,
          0.19469780895951122,
          0.17555159513680588,
          0.17788182376455883,
          0.21108435371372022,
          0.21108435371372022,
          0.21058219094766387,
          0.21058219094766387,
          0.17054676621123813,
          0.21058219094766387,
          0.16851177924364386,
          0.17555159513680588,
          0.15680450404715665,
          0.16851177924364386,
          0.21058219094766387,
          0.21058219094766387,
          0.21194326155895649,
          0.21194326155895649,
          0.13026477860493912,
          0.17767214704345863,
          0.18142924829529314,
          0.13431752687362772,
          0.1338330104391915,
          0.13431752687362772,
          0.13026477860493912,
          0.13431752687362772,
          0.1338330104391915,
          0.19971702789659523,
          0.13026477860493912,
          0.1338330104391915,
          0.19386514757968745,
          0.14236570608238547,
          0.19386514757968745,
          0.19386514757968745,
          0.19386514757968745,
          0.19386514757968745,
          0.19386514757968745,
          0.21194326155895649,
          0.21194326155895649,
          0.21194326155895649,
          0.21194326155895649,
          0.21194326155895649,
          0.2130904005882733,
          0.20933596220345682,
          0.21152708794473715,
          0.2094360621854669,
          0.2130904005882733,
          0.2130904005882733,
          0.2130904005882733,
          0.2130904005882733,
          0.20933596220345682,
          0.20797754307608277,
          0.20797754307608277
         ]
        },
        {
         "mode": "lines",
         "name": "Best Value",
         "type": "scatter",
         "x": [
          0,
          1,
          2,
          3,
          4,
          5,
          6,
          7,
          8,
          9,
          10,
          11,
          12,
          13,
          14,
          15,
          16,
          17,
          18,
          19,
          20,
          21,
          22,
          23,
          24,
          25,
          26,
          27,
          28,
          29,
          30,
          31,
          32,
          33,
          34,
          35,
          36,
          37,
          38,
          39,
          40,
          41,
          42,
          43,
          44,
          45,
          46,
          47,
          48,
          49,
          50,
          51,
          52,
          53,
          54,
          55,
          56,
          57,
          58,
          59,
          60,
          61,
          62,
          63,
          64,
          65,
          66,
          67,
          68,
          69,
          70,
          71,
          72,
          73,
          74,
          75,
          76,
          77,
          78,
          79,
          80,
          81,
          82,
          83,
          84,
          85,
          86,
          87,
          88,
          89,
          90,
          91,
          92,
          93,
          94,
          95,
          96,
          97,
          98,
          99
         ],
         "y": [
          0.10606108409503867,
          0.1432491194577901,
          0.15100575657722634,
          0.15475283973959958,
          0.16023007837635378,
          0.19653885559841838,
          0.19653885559841838,
          0.19653885559841838,
          0.19653885559841838,
          0.19653885559841838,
          0.19653885559841838,
          0.19653885559841838,
          0.19653885559841838,
          0.19653885559841838,
          0.19653885559841838,
          0.19653885559841838,
          0.19653885559841838,
          0.20777480507400928,
          0.20777480507400928,
          0.20777480507400928,
          0.20777480507400928,
          0.20807931060963117,
          0.21059044869947963,
          0.21059044869947963,
          0.21059044869947963,
          0.21059044869947963,
          0.21059044869947963,
          0.21059044869947963,
          0.21059044869947963,
          0.21059044869947963,
          0.21059044869947963,
          0.21059044869947963,
          0.21059044869947963,
          0.21059044869947963,
          0.21059044869947963,
          0.21059044869947963,
          0.2115719298785394,
          0.2115719298785394,
          0.2115719298785394,
          0.2115719298785394,
          0.2115719298785394,
          0.2115719298785394,
          0.2115719298785394,
          0.2115719298785394,
          0.2115719298785394,
          0.2115719298785394,
          0.2115719298785394,
          0.2115719298785394,
          0.2115719298785394,
          0.2115719298785394,
          0.2115719298785394,
          0.2115719298785394,
          0.2115719298785394,
          0.2115719298785394,
          0.2115719298785394,
          0.2115719298785394,
          0.2115719298785394,
          0.2115719298785394,
          0.2115719298785394,
          0.2115719298785394,
          0.2115719298785394,
          0.2115719298785394,
          0.2115719298785394,
          0.21194326155895649,
          0.21194326155895649,
          0.21194326155895649,
          0.21194326155895649,
          0.21194326155895649,
          0.21194326155895649,
          0.21194326155895649,
          0.21194326155895649,
          0.21194326155895649,
          0.21194326155895649,
          0.21194326155895649,
          0.21194326155895649,
          0.21194326155895649,
          0.21194326155895649,
          0.21194326155895649,
          0.21194326155895649,
          0.21194326155895649,
          0.21194326155895649,
          0.21194326155895649,
          0.21194326155895649,
          0.21194326155895649,
          0.21194326155895649,
          0.21194326155895649,
          0.21194326155895649,
          0.21194326155895649,
          0.21194326155895649,
          0.2130904005882733,
          0.2130904005882733,
          0.2130904005882733,
          0.2130904005882733,
          0.2130904005882733,
          0.2130904005882733,
          0.2130904005882733,
          0.2130904005882733,
          0.2130904005882733,
          0.2130904005882733,
          0.2130904005882733
         ]
        },
        {
         "marker": {
          "color": "#cccccc"
         },
         "mode": "markers",
         "name": "Infeasible Trial",
         "showlegend": false,
         "type": "scatter",
         "x": [],
         "y": []
        }
       ],
       "layout": {
        "template": {
         "data": {
          "bar": [
           {
            "error_x": {
             "color": "#2a3f5f"
            },
            "error_y": {
             "color": "#2a3f5f"
            },
            "marker": {
             "line": {
              "color": "#E5ECF6",
              "width": 0.5
             },
             "pattern": {
              "fillmode": "overlay",
              "size": 10,
              "solidity": 0.2
             }
            },
            "type": "bar"
           }
          ],
          "barpolar": [
           {
            "marker": {
             "line": {
              "color": "#E5ECF6",
              "width": 0.5
             },
             "pattern": {
              "fillmode": "overlay",
              "size": 10,
              "solidity": 0.2
             }
            },
            "type": "barpolar"
           }
          ],
          "carpet": [
           {
            "aaxis": {
             "endlinecolor": "#2a3f5f",
             "gridcolor": "white",
             "linecolor": "white",
             "minorgridcolor": "white",
             "startlinecolor": "#2a3f5f"
            },
            "baxis": {
             "endlinecolor": "#2a3f5f",
             "gridcolor": "white",
             "linecolor": "white",
             "minorgridcolor": "white",
             "startlinecolor": "#2a3f5f"
            },
            "type": "carpet"
           }
          ],
          "choropleth": [
           {
            "colorbar": {
             "outlinewidth": 0,
             "ticks": ""
            },
            "type": "choropleth"
           }
          ],
          "contour": [
           {
            "colorbar": {
             "outlinewidth": 0,
             "ticks": ""
            },
            "colorscale": [
             [
              0,
              "#0d0887"
             ],
             [
              0.1111111111111111,
              "#46039f"
             ],
             [
              0.2222222222222222,
              "#7201a8"
             ],
             [
              0.3333333333333333,
              "#9c179e"
             ],
             [
              0.4444444444444444,
              "#bd3786"
             ],
             [
              0.5555555555555556,
              "#d8576b"
             ],
             [
              0.6666666666666666,
              "#ed7953"
             ],
             [
              0.7777777777777778,
              "#fb9f3a"
             ],
             [
              0.8888888888888888,
              "#fdca26"
             ],
             [
              1,
              "#f0f921"
             ]
            ],
            "type": "contour"
           }
          ],
          "contourcarpet": [
           {
            "colorbar": {
             "outlinewidth": 0,
             "ticks": ""
            },
            "type": "contourcarpet"
           }
          ],
          "heatmap": [
           {
            "colorbar": {
             "outlinewidth": 0,
             "ticks": ""
            },
            "colorscale": [
             [
              0,
              "#0d0887"
             ],
             [
              0.1111111111111111,
              "#46039f"
             ],
             [
              0.2222222222222222,
              "#7201a8"
             ],
             [
              0.3333333333333333,
              "#9c179e"
             ],
             [
              0.4444444444444444,
              "#bd3786"
             ],
             [
              0.5555555555555556,
              "#d8576b"
             ],
             [
              0.6666666666666666,
              "#ed7953"
             ],
             [
              0.7777777777777778,
              "#fb9f3a"
             ],
             [
              0.8888888888888888,
              "#fdca26"
             ],
             [
              1,
              "#f0f921"
             ]
            ],
            "type": "heatmap"
           }
          ],
          "heatmapgl": [
           {
            "colorbar": {
             "outlinewidth": 0,
             "ticks": ""
            },
            "colorscale": [
             [
              0,
              "#0d0887"
             ],
             [
              0.1111111111111111,
              "#46039f"
             ],
             [
              0.2222222222222222,
              "#7201a8"
             ],
             [
              0.3333333333333333,
              "#9c179e"
             ],
             [
              0.4444444444444444,
              "#bd3786"
             ],
             [
              0.5555555555555556,
              "#d8576b"
             ],
             [
              0.6666666666666666,
              "#ed7953"
             ],
             [
              0.7777777777777778,
              "#fb9f3a"
             ],
             [
              0.8888888888888888,
              "#fdca26"
             ],
             [
              1,
              "#f0f921"
             ]
            ],
            "type": "heatmapgl"
           }
          ],
          "histogram": [
           {
            "marker": {
             "pattern": {
              "fillmode": "overlay",
              "size": 10,
              "solidity": 0.2
             }
            },
            "type": "histogram"
           }
          ],
          "histogram2d": [
           {
            "colorbar": {
             "outlinewidth": 0,
             "ticks": ""
            },
            "colorscale": [
             [
              0,
              "#0d0887"
             ],
             [
              0.1111111111111111,
              "#46039f"
             ],
             [
              0.2222222222222222,
              "#7201a8"
             ],
             [
              0.3333333333333333,
              "#9c179e"
             ],
             [
              0.4444444444444444,
              "#bd3786"
             ],
             [
              0.5555555555555556,
              "#d8576b"
             ],
             [
              0.6666666666666666,
              "#ed7953"
             ],
             [
              0.7777777777777778,
              "#fb9f3a"
             ],
             [
              0.8888888888888888,
              "#fdca26"
             ],
             [
              1,
              "#f0f921"
             ]
            ],
            "type": "histogram2d"
           }
          ],
          "histogram2dcontour": [
           {
            "colorbar": {
             "outlinewidth": 0,
             "ticks": ""
            },
            "colorscale": [
             [
              0,
              "#0d0887"
             ],
             [
              0.1111111111111111,
              "#46039f"
             ],
             [
              0.2222222222222222,
              "#7201a8"
             ],
             [
              0.3333333333333333,
              "#9c179e"
             ],
             [
              0.4444444444444444,
              "#bd3786"
             ],
             [
              0.5555555555555556,
              "#d8576b"
             ],
             [
              0.6666666666666666,
              "#ed7953"
             ],
             [
              0.7777777777777778,
              "#fb9f3a"
             ],
             [
              0.8888888888888888,
              "#fdca26"
             ],
             [
              1,
              "#f0f921"
             ]
            ],
            "type": "histogram2dcontour"
           }
          ],
          "mesh3d": [
           {
            "colorbar": {
             "outlinewidth": 0,
             "ticks": ""
            },
            "type": "mesh3d"
           }
          ],
          "parcoords": [
           {
            "line": {
             "colorbar": {
              "outlinewidth": 0,
              "ticks": ""
             }
            },
            "type": "parcoords"
           }
          ],
          "pie": [
           {
            "automargin": true,
            "type": "pie"
           }
          ],
          "scatter": [
           {
            "fillpattern": {
             "fillmode": "overlay",
             "size": 10,
             "solidity": 0.2
            },
            "type": "scatter"
           }
          ],
          "scatter3d": [
           {
            "line": {
             "colorbar": {
              "outlinewidth": 0,
              "ticks": ""
             }
            },
            "marker": {
             "colorbar": {
              "outlinewidth": 0,
              "ticks": ""
             }
            },
            "type": "scatter3d"
           }
          ],
          "scattercarpet": [
           {
            "marker": {
             "colorbar": {
              "outlinewidth": 0,
              "ticks": ""
             }
            },
            "type": "scattercarpet"
           }
          ],
          "scattergeo": [
           {
            "marker": {
             "colorbar": {
              "outlinewidth": 0,
              "ticks": ""
             }
            },
            "type": "scattergeo"
           }
          ],
          "scattergl": [
           {
            "marker": {
             "colorbar": {
              "outlinewidth": 0,
              "ticks": ""
             }
            },
            "type": "scattergl"
           }
          ],
          "scattermapbox": [
           {
            "marker": {
             "colorbar": {
              "outlinewidth": 0,
              "ticks": ""
             }
            },
            "type": "scattermapbox"
           }
          ],
          "scatterpolar": [
           {
            "marker": {
             "colorbar": {
              "outlinewidth": 0,
              "ticks": ""
             }
            },
            "type": "scatterpolar"
           }
          ],
          "scatterpolargl": [
           {
            "marker": {
             "colorbar": {
              "outlinewidth": 0,
              "ticks": ""
             }
            },
            "type": "scatterpolargl"
           }
          ],
          "scatterternary": [
           {
            "marker": {
             "colorbar": {
              "outlinewidth": 0,
              "ticks": ""
             }
            },
            "type": "scatterternary"
           }
          ],
          "surface": [
           {
            "colorbar": {
             "outlinewidth": 0,
             "ticks": ""
            },
            "colorscale": [
             [
              0,
              "#0d0887"
             ],
             [
              0.1111111111111111,
              "#46039f"
             ],
             [
              0.2222222222222222,
              "#7201a8"
             ],
             [
              0.3333333333333333,
              "#9c179e"
             ],
             [
              0.4444444444444444,
              "#bd3786"
             ],
             [
              0.5555555555555556,
              "#d8576b"
             ],
             [
              0.6666666666666666,
              "#ed7953"
             ],
             [
              0.7777777777777778,
              "#fb9f3a"
             ],
             [
              0.8888888888888888,
              "#fdca26"
             ],
             [
              1,
              "#f0f921"
             ]
            ],
            "type": "surface"
           }
          ],
          "table": [
           {
            "cells": {
             "fill": {
              "color": "#EBF0F8"
             },
             "line": {
              "color": "white"
             }
            },
            "header": {
             "fill": {
              "color": "#C8D4E3"
             },
             "line": {
              "color": "white"
             }
            },
            "type": "table"
           }
          ]
         },
         "layout": {
          "annotationdefaults": {
           "arrowcolor": "#2a3f5f",
           "arrowhead": 0,
           "arrowwidth": 1
          },
          "autotypenumbers": "strict",
          "coloraxis": {
           "colorbar": {
            "outlinewidth": 0,
            "ticks": ""
           }
          },
          "colorscale": {
           "diverging": [
            [
             0,
             "#8e0152"
            ],
            [
             0.1,
             "#c51b7d"
            ],
            [
             0.2,
             "#de77ae"
            ],
            [
             0.3,
             "#f1b6da"
            ],
            [
             0.4,
             "#fde0ef"
            ],
            [
             0.5,
             "#f7f7f7"
            ],
            [
             0.6,
             "#e6f5d0"
            ],
            [
             0.7,
             "#b8e186"
            ],
            [
             0.8,
             "#7fbc41"
            ],
            [
             0.9,
             "#4d9221"
            ],
            [
             1,
             "#276419"
            ]
           ],
           "sequential": [
            [
             0,
             "#0d0887"
            ],
            [
             0.1111111111111111,
             "#46039f"
            ],
            [
             0.2222222222222222,
             "#7201a8"
            ],
            [
             0.3333333333333333,
             "#9c179e"
            ],
            [
             0.4444444444444444,
             "#bd3786"
            ],
            [
             0.5555555555555556,
             "#d8576b"
            ],
            [
             0.6666666666666666,
             "#ed7953"
            ],
            [
             0.7777777777777778,
             "#fb9f3a"
            ],
            [
             0.8888888888888888,
             "#fdca26"
            ],
            [
             1,
             "#f0f921"
            ]
           ],
           "sequentialminus": [
            [
             0,
             "#0d0887"
            ],
            [
             0.1111111111111111,
             "#46039f"
            ],
            [
             0.2222222222222222,
             "#7201a8"
            ],
            [
             0.3333333333333333,
             "#9c179e"
            ],
            [
             0.4444444444444444,
             "#bd3786"
            ],
            [
             0.5555555555555556,
             "#d8576b"
            ],
            [
             0.6666666666666666,
             "#ed7953"
            ],
            [
             0.7777777777777778,
             "#fb9f3a"
            ],
            [
             0.8888888888888888,
             "#fdca26"
            ],
            [
             1,
             "#f0f921"
            ]
           ]
          },
          "colorway": [
           "#636efa",
           "#EF553B",
           "#00cc96",
           "#ab63fa",
           "#FFA15A",
           "#19d3f3",
           "#FF6692",
           "#B6E880",
           "#FF97FF",
           "#FECB52"
          ],
          "font": {
           "color": "#2a3f5f"
          },
          "geo": {
           "bgcolor": "white",
           "lakecolor": "white",
           "landcolor": "#E5ECF6",
           "showlakes": true,
           "showland": true,
           "subunitcolor": "white"
          },
          "hoverlabel": {
           "align": "left"
          },
          "hovermode": "closest",
          "mapbox": {
           "style": "light"
          },
          "paper_bgcolor": "white",
          "plot_bgcolor": "#E5ECF6",
          "polar": {
           "angularaxis": {
            "gridcolor": "white",
            "linecolor": "white",
            "ticks": ""
           },
           "bgcolor": "#E5ECF6",
           "radialaxis": {
            "gridcolor": "white",
            "linecolor": "white",
            "ticks": ""
           }
          },
          "scene": {
           "xaxis": {
            "backgroundcolor": "#E5ECF6",
            "gridcolor": "white",
            "gridwidth": 2,
            "linecolor": "white",
            "showbackground": true,
            "ticks": "",
            "zerolinecolor": "white"
           },
           "yaxis": {
            "backgroundcolor": "#E5ECF6",
            "gridcolor": "white",
            "gridwidth": 2,
            "linecolor": "white",
            "showbackground": true,
            "ticks": "",
            "zerolinecolor": "white"
           },
           "zaxis": {
            "backgroundcolor": "#E5ECF6",
            "gridcolor": "white",
            "gridwidth": 2,
            "linecolor": "white",
            "showbackground": true,
            "ticks": "",
            "zerolinecolor": "white"
           }
          },
          "shapedefaults": {
           "line": {
            "color": "#2a3f5f"
           }
          },
          "ternary": {
           "aaxis": {
            "gridcolor": "white",
            "linecolor": "white",
            "ticks": ""
           },
           "baxis": {
            "gridcolor": "white",
            "linecolor": "white",
            "ticks": ""
           },
           "bgcolor": "#E5ECF6",
           "caxis": {
            "gridcolor": "white",
            "linecolor": "white",
            "ticks": ""
           }
          },
          "title": {
           "x": 0.05
          },
          "xaxis": {
           "automargin": true,
           "gridcolor": "white",
           "linecolor": "white",
           "ticks": "",
           "title": {
            "standoff": 15
           },
           "zerolinecolor": "white",
           "zerolinewidth": 2
          },
          "yaxis": {
           "automargin": true,
           "gridcolor": "white",
           "linecolor": "white",
           "ticks": "",
           "title": {
            "standoff": 15
           },
           "zerolinecolor": "white",
           "zerolinewidth": 2
          }
         }
        },
        "title": {
         "text": "Optimization History Plot"
        },
        "xaxis": {
         "title": {
          "text": "Trial"
         }
        },
        "yaxis": {
         "title": {
          "text": "Objective Value"
         }
        }
       }
      }
     },
     "metadata": {},
     "output_type": "display_data"
    }
   ],
   "source": [
    "optuna.visualization.plot_optimization_history(study)"
   ]
  },
  {
   "cell_type": "code",
   "execution_count": 114,
   "metadata": {},
   "outputs": [
    {
     "data": {
      "application/vnd.plotly.v1+json": {
       "config": {
        "plotlyServerURL": "https://plot.ly"
       },
       "data": [
        {
         "marker": {
          "color": [
           0,
           1,
           2,
           3,
           4,
           5,
           6,
           7,
           8,
           9,
           10,
           11,
           12,
           13,
           14,
           15,
           16,
           17,
           18,
           19,
           20,
           21,
           22,
           23,
           24,
           25,
           26,
           27,
           28,
           29,
           30,
           31,
           32,
           33,
           34,
           35,
           36,
           37,
           38,
           39,
           40,
           41,
           42,
           43,
           44,
           45,
           46,
           47,
           48,
           49,
           50,
           51,
           52,
           53,
           54,
           55,
           56,
           57,
           58,
           59,
           60,
           61,
           62,
           63,
           64,
           65,
           66,
           67,
           68,
           69,
           70,
           71,
           72,
           73,
           74,
           75,
           76,
           77,
           78,
           79,
           80,
           81,
           82,
           83,
           84,
           85,
           86,
           87,
           88,
           89,
           90,
           91,
           92,
           93,
           94,
           95,
           96,
           97,
           98,
           99
          ],
          "colorbar": {
           "title": {
            "text": "Trial"
           },
           "x": 1,
           "xpad": 40
          },
          "colorscale": [
           [
            0,
            "rgb(247,251,255)"
           ],
           [
            0.125,
            "rgb(222,235,247)"
           ],
           [
            0.25,
            "rgb(198,219,239)"
           ],
           [
            0.375,
            "rgb(158,202,225)"
           ],
           [
            0.5,
            "rgb(107,174,214)"
           ],
           [
            0.625,
            "rgb(66,146,198)"
           ],
           [
            0.75,
            "rgb(33,113,181)"
           ],
           [
            0.875,
            "rgb(8,81,156)"
           ],
           [
            1,
            "rgb(8,48,107)"
           ]
          ],
          "line": {
           "color": "Grey",
           "width": 0.5
          },
          "showscale": true
         },
         "mode": "markers",
         "name": "Feasible Trial",
         "showlegend": false,
         "type": "scatter",
         "x": [
          24,
          14,
          16,
          20,
          16,
          10,
          22,
          10,
          30,
          14,
          30,
          24,
          28,
          26,
          16,
          16,
          16,
          8,
          30,
          4,
          24,
          4,
          6,
          6,
          4,
          4,
          4,
          4,
          8,
          8,
          8,
          8,
          4,
          4,
          4,
          4,
          6,
          8,
          8,
          10,
          8,
          8,
          8,
          8,
          6,
          6,
          6,
          6,
          10,
          12,
          12,
          6,
          6,
          6,
          6,
          12,
          6,
          12,
          12,
          14,
          12,
          6,
          6,
          6,
          6,
          20,
          12,
          12,
          18,
          20,
          18,
          20,
          18,
          20,
          10,
          20,
          20,
          10,
          18,
          10,
          10,
          10,
          10,
          10,
          6,
          6,
          6,
          6,
          6,
          6,
          6,
          6,
          6,
          6,
          6,
          6,
          6,
          6,
          4,
          4
         ],
         "xaxis": "x",
         "y": [
          0.10606108409503867,
          0.1432491194577901,
          0.15100575657722634,
          0.15475283973959958,
          0.16023007837635378,
          0.19653885559841838,
          0.13975901726077145,
          0.19077515479740953,
          0.0780953273969462,
          0.1703297466253517,
          0.1439158341694969,
          0.1524711961359103,
          0.056727658219363264,
          0.15013463047579068,
          0.1542000970513051,
          0.1245179250473802,
          0.14774266401079864,
          0.20777480507400928,
          0.12037825923930726,
          0.2077201681895068,
          0.10606108409503867,
          0.20807931060963117,
          0.21059044869947963,
          0.21059044869947963,
          0.20807931060963117,
          0.20807931060963117,
          0.20807931060963117,
          0.20807931060963117,
          0.20682542410720378,
          0.20682542410720378,
          0.20799508589437435,
          0.20709289188332955,
          0.20807931060963117,
          0.20807931060963117,
          0.20807931060963117,
          0.20831437287548207,
          0.2115719298785394,
          0.2071096947861128,
          0.2071096947861128,
          0.19265706298516408,
          0.2071096947861128,
          0.2071096947861128,
          0.2071096947861128,
          0.2071096947861128,
          0.21154933196964576,
          0.21154933196964576,
          0.2110564821690716,
          0.21108435371372022,
          0.19469780895951122,
          0.17555159513680588,
          0.17788182376455883,
          0.21108435371372022,
          0.21108435371372022,
          0.21058219094766387,
          0.21058219094766387,
          0.17054676621123813,
          0.21058219094766387,
          0.16851177924364386,
          0.17555159513680588,
          0.15680450404715665,
          0.16851177924364386,
          0.21058219094766387,
          0.21058219094766387,
          0.21194326155895649,
          0.21194326155895649,
          0.13026477860493912,
          0.17767214704345863,
          0.18142924829529314,
          0.13431752687362772,
          0.1338330104391915,
          0.13431752687362772,
          0.13026477860493912,
          0.13431752687362772,
          0.1338330104391915,
          0.19971702789659523,
          0.13026477860493912,
          0.1338330104391915,
          0.19386514757968745,
          0.14236570608238547,
          0.19386514757968745,
          0.19386514757968745,
          0.19386514757968745,
          0.19386514757968745,
          0.19386514757968745,
          0.21194326155895649,
          0.21194326155895649,
          0.21194326155895649,
          0.21194326155895649,
          0.21194326155895649,
          0.2130904005882733,
          0.20933596220345682,
          0.21152708794473715,
          0.2094360621854669,
          0.2130904005882733,
          0.2130904005882733,
          0.2130904005882733,
          0.2130904005882733,
          0.20933596220345682,
          0.20797754307608277,
          0.20797754307608277
         ],
         "yaxis": "y"
        },
        {
         "marker": {
          "color": [
           0,
           1,
           2,
           3,
           4,
           5,
           6,
           7,
           8,
           9,
           10,
           11,
           12,
           13,
           14,
           15,
           16,
           17,
           18,
           19,
           20,
           21,
           22,
           23,
           24,
           25,
           26,
           27,
           28,
           29,
           30,
           31,
           32,
           33,
           34,
           35,
           36,
           37,
           38,
           39,
           40,
           41,
           42,
           43,
           44,
           45,
           46,
           47,
           48,
           49,
           50,
           51,
           52,
           53,
           54,
           55,
           56,
           57,
           58,
           59,
           60,
           61,
           62,
           63,
           64,
           65,
           66,
           67,
           68,
           69,
           70,
           71,
           72,
           73,
           74,
           75,
           76,
           77,
           78,
           79,
           80,
           81,
           82,
           83,
           84,
           85,
           86,
           87,
           88,
           89,
           90,
           91,
           92,
           93,
           94,
           95,
           96,
           97,
           98,
           99
          ],
          "colorbar": {
           "title": {
            "text": "Trial"
           },
           "x": 1,
           "xpad": 40
          },
          "colorscale": [
           [
            0,
            "rgb(247,251,255)"
           ],
           [
            0.125,
            "rgb(222,235,247)"
           ],
           [
            0.25,
            "rgb(198,219,239)"
           ],
           [
            0.375,
            "rgb(158,202,225)"
           ],
           [
            0.5,
            "rgb(107,174,214)"
           ],
           [
            0.625,
            "rgb(66,146,198)"
           ],
           [
            0.75,
            "rgb(33,113,181)"
           ],
           [
            0.875,
            "rgb(8,81,156)"
           ],
           [
            1,
            "rgb(8,48,107)"
           ]
          ],
          "line": {
           "color": "Grey",
           "width": 0.5
          },
          "showscale": false
         },
         "mode": "markers",
         "name": "Feasible Trial",
         "showlegend": false,
         "type": "scatter",
         "x": [
          22,
          8,
          38,
          58,
          46,
          8,
          44,
          6,
          12,
          52,
          50,
          54,
          4,
          54,
          40,
          12,
          32,
          32,
          30,
          2,
          22,
          20,
          2,
          2,
          20,
          20,
          20,
          20,
          18,
          18,
          16,
          20,
          20,
          20,
          20,
          18,
          16,
          14,
          14,
          14,
          14,
          14,
          14,
          14,
          12,
          12,
          28,
          26,
          26,
          26,
          28,
          26,
          26,
          8,
          8,
          6,
          8,
          8,
          26,
          26,
          8,
          8,
          8,
          10,
          10,
          34,
          36,
          34,
          36,
          36,
          36,
          34,
          36,
          36,
          40,
          34,
          36,
          10,
          42,
          10,
          10,
          10,
          10,
          10,
          10,
          10,
          10,
          10,
          10,
          24,
          4,
          22,
          30,
          24,
          24,
          24,
          24,
          4,
          4,
          4
         ],
         "xaxis": "x2",
         "y": [
          0.10606108409503867,
          0.1432491194577901,
          0.15100575657722634,
          0.15475283973959958,
          0.16023007837635378,
          0.19653885559841838,
          0.13975901726077145,
          0.19077515479740953,
          0.0780953273969462,
          0.1703297466253517,
          0.1439158341694969,
          0.1524711961359103,
          0.056727658219363264,
          0.15013463047579068,
          0.1542000970513051,
          0.1245179250473802,
          0.14774266401079864,
          0.20777480507400928,
          0.12037825923930726,
          0.2077201681895068,
          0.10606108409503867,
          0.20807931060963117,
          0.21059044869947963,
          0.21059044869947963,
          0.20807931060963117,
          0.20807931060963117,
          0.20807931060963117,
          0.20807931060963117,
          0.20682542410720378,
          0.20682542410720378,
          0.20799508589437435,
          0.20709289188332955,
          0.20807931060963117,
          0.20807931060963117,
          0.20807931060963117,
          0.20831437287548207,
          0.2115719298785394,
          0.2071096947861128,
          0.2071096947861128,
          0.19265706298516408,
          0.2071096947861128,
          0.2071096947861128,
          0.2071096947861128,
          0.2071096947861128,
          0.21154933196964576,
          0.21154933196964576,
          0.2110564821690716,
          0.21108435371372022,
          0.19469780895951122,
          0.17555159513680588,
          0.17788182376455883,
          0.21108435371372022,
          0.21108435371372022,
          0.21058219094766387,
          0.21058219094766387,
          0.17054676621123813,
          0.21058219094766387,
          0.16851177924364386,
          0.17555159513680588,
          0.15680450404715665,
          0.16851177924364386,
          0.21058219094766387,
          0.21058219094766387,
          0.21194326155895649,
          0.21194326155895649,
          0.13026477860493912,
          0.17767214704345863,
          0.18142924829529314,
          0.13431752687362772,
          0.1338330104391915,
          0.13431752687362772,
          0.13026477860493912,
          0.13431752687362772,
          0.1338330104391915,
          0.19971702789659523,
          0.13026477860493912,
          0.1338330104391915,
          0.19386514757968745,
          0.14236570608238547,
          0.19386514757968745,
          0.19386514757968745,
          0.19386514757968745,
          0.19386514757968745,
          0.19386514757968745,
          0.21194326155895649,
          0.21194326155895649,
          0.21194326155895649,
          0.21194326155895649,
          0.21194326155895649,
          0.2130904005882733,
          0.20933596220345682,
          0.21152708794473715,
          0.2094360621854669,
          0.2130904005882733,
          0.2130904005882733,
          0.2130904005882733,
          0.2130904005882733,
          0.20933596220345682,
          0.20797754307608277,
          0.20797754307608277
         ],
         "yaxis": "y2"
        }
       ],
       "layout": {
        "template": {
         "data": {
          "bar": [
           {
            "error_x": {
             "color": "#2a3f5f"
            },
            "error_y": {
             "color": "#2a3f5f"
            },
            "marker": {
             "line": {
              "color": "#E5ECF6",
              "width": 0.5
             },
             "pattern": {
              "fillmode": "overlay",
              "size": 10,
              "solidity": 0.2
             }
            },
            "type": "bar"
           }
          ],
          "barpolar": [
           {
            "marker": {
             "line": {
              "color": "#E5ECF6",
              "width": 0.5
             },
             "pattern": {
              "fillmode": "overlay",
              "size": 10,
              "solidity": 0.2
             }
            },
            "type": "barpolar"
           }
          ],
          "carpet": [
           {
            "aaxis": {
             "endlinecolor": "#2a3f5f",
             "gridcolor": "white",
             "linecolor": "white",
             "minorgridcolor": "white",
             "startlinecolor": "#2a3f5f"
            },
            "baxis": {
             "endlinecolor": "#2a3f5f",
             "gridcolor": "white",
             "linecolor": "white",
             "minorgridcolor": "white",
             "startlinecolor": "#2a3f5f"
            },
            "type": "carpet"
           }
          ],
          "choropleth": [
           {
            "colorbar": {
             "outlinewidth": 0,
             "ticks": ""
            },
            "type": "choropleth"
           }
          ],
          "contour": [
           {
            "colorbar": {
             "outlinewidth": 0,
             "ticks": ""
            },
            "colorscale": [
             [
              0,
              "#0d0887"
             ],
             [
              0.1111111111111111,
              "#46039f"
             ],
             [
              0.2222222222222222,
              "#7201a8"
             ],
             [
              0.3333333333333333,
              "#9c179e"
             ],
             [
              0.4444444444444444,
              "#bd3786"
             ],
             [
              0.5555555555555556,
              "#d8576b"
             ],
             [
              0.6666666666666666,
              "#ed7953"
             ],
             [
              0.7777777777777778,
              "#fb9f3a"
             ],
             [
              0.8888888888888888,
              "#fdca26"
             ],
             [
              1,
              "#f0f921"
             ]
            ],
            "type": "contour"
           }
          ],
          "contourcarpet": [
           {
            "colorbar": {
             "outlinewidth": 0,
             "ticks": ""
            },
            "type": "contourcarpet"
           }
          ],
          "heatmap": [
           {
            "colorbar": {
             "outlinewidth": 0,
             "ticks": ""
            },
            "colorscale": [
             [
              0,
              "#0d0887"
             ],
             [
              0.1111111111111111,
              "#46039f"
             ],
             [
              0.2222222222222222,
              "#7201a8"
             ],
             [
              0.3333333333333333,
              "#9c179e"
             ],
             [
              0.4444444444444444,
              "#bd3786"
             ],
             [
              0.5555555555555556,
              "#d8576b"
             ],
             [
              0.6666666666666666,
              "#ed7953"
             ],
             [
              0.7777777777777778,
              "#fb9f3a"
             ],
             [
              0.8888888888888888,
              "#fdca26"
             ],
             [
              1,
              "#f0f921"
             ]
            ],
            "type": "heatmap"
           }
          ],
          "heatmapgl": [
           {
            "colorbar": {
             "outlinewidth": 0,
             "ticks": ""
            },
            "colorscale": [
             [
              0,
              "#0d0887"
             ],
             [
              0.1111111111111111,
              "#46039f"
             ],
             [
              0.2222222222222222,
              "#7201a8"
             ],
             [
              0.3333333333333333,
              "#9c179e"
             ],
             [
              0.4444444444444444,
              "#bd3786"
             ],
             [
              0.5555555555555556,
              "#d8576b"
             ],
             [
              0.6666666666666666,
              "#ed7953"
             ],
             [
              0.7777777777777778,
              "#fb9f3a"
             ],
             [
              0.8888888888888888,
              "#fdca26"
             ],
             [
              1,
              "#f0f921"
             ]
            ],
            "type": "heatmapgl"
           }
          ],
          "histogram": [
           {
            "marker": {
             "pattern": {
              "fillmode": "overlay",
              "size": 10,
              "solidity": 0.2
             }
            },
            "type": "histogram"
           }
          ],
          "histogram2d": [
           {
            "colorbar": {
             "outlinewidth": 0,
             "ticks": ""
            },
            "colorscale": [
             [
              0,
              "#0d0887"
             ],
             [
              0.1111111111111111,
              "#46039f"
             ],
             [
              0.2222222222222222,
              "#7201a8"
             ],
             [
              0.3333333333333333,
              "#9c179e"
             ],
             [
              0.4444444444444444,
              "#bd3786"
             ],
             [
              0.5555555555555556,
              "#d8576b"
             ],
             [
              0.6666666666666666,
              "#ed7953"
             ],
             [
              0.7777777777777778,
              "#fb9f3a"
             ],
             [
              0.8888888888888888,
              "#fdca26"
             ],
             [
              1,
              "#f0f921"
             ]
            ],
            "type": "histogram2d"
           }
          ],
          "histogram2dcontour": [
           {
            "colorbar": {
             "outlinewidth": 0,
             "ticks": ""
            },
            "colorscale": [
             [
              0,
              "#0d0887"
             ],
             [
              0.1111111111111111,
              "#46039f"
             ],
             [
              0.2222222222222222,
              "#7201a8"
             ],
             [
              0.3333333333333333,
              "#9c179e"
             ],
             [
              0.4444444444444444,
              "#bd3786"
             ],
             [
              0.5555555555555556,
              "#d8576b"
             ],
             [
              0.6666666666666666,
              "#ed7953"
             ],
             [
              0.7777777777777778,
              "#fb9f3a"
             ],
             [
              0.8888888888888888,
              "#fdca26"
             ],
             [
              1,
              "#f0f921"
             ]
            ],
            "type": "histogram2dcontour"
           }
          ],
          "mesh3d": [
           {
            "colorbar": {
             "outlinewidth": 0,
             "ticks": ""
            },
            "type": "mesh3d"
           }
          ],
          "parcoords": [
           {
            "line": {
             "colorbar": {
              "outlinewidth": 0,
              "ticks": ""
             }
            },
            "type": "parcoords"
           }
          ],
          "pie": [
           {
            "automargin": true,
            "type": "pie"
           }
          ],
          "scatter": [
           {
            "fillpattern": {
             "fillmode": "overlay",
             "size": 10,
             "solidity": 0.2
            },
            "type": "scatter"
           }
          ],
          "scatter3d": [
           {
            "line": {
             "colorbar": {
              "outlinewidth": 0,
              "ticks": ""
             }
            },
            "marker": {
             "colorbar": {
              "outlinewidth": 0,
              "ticks": ""
             }
            },
            "type": "scatter3d"
           }
          ],
          "scattercarpet": [
           {
            "marker": {
             "colorbar": {
              "outlinewidth": 0,
              "ticks": ""
             }
            },
            "type": "scattercarpet"
           }
          ],
          "scattergeo": [
           {
            "marker": {
             "colorbar": {
              "outlinewidth": 0,
              "ticks": ""
             }
            },
            "type": "scattergeo"
           }
          ],
          "scattergl": [
           {
            "marker": {
             "colorbar": {
              "outlinewidth": 0,
              "ticks": ""
             }
            },
            "type": "scattergl"
           }
          ],
          "scattermapbox": [
           {
            "marker": {
             "colorbar": {
              "outlinewidth": 0,
              "ticks": ""
             }
            },
            "type": "scattermapbox"
           }
          ],
          "scatterpolar": [
           {
            "marker": {
             "colorbar": {
              "outlinewidth": 0,
              "ticks": ""
             }
            },
            "type": "scatterpolar"
           }
          ],
          "scatterpolargl": [
           {
            "marker": {
             "colorbar": {
              "outlinewidth": 0,
              "ticks": ""
             }
            },
            "type": "scatterpolargl"
           }
          ],
          "scatterternary": [
           {
            "marker": {
             "colorbar": {
              "outlinewidth": 0,
              "ticks": ""
             }
            },
            "type": "scatterternary"
           }
          ],
          "surface": [
           {
            "colorbar": {
             "outlinewidth": 0,
             "ticks": ""
            },
            "colorscale": [
             [
              0,
              "#0d0887"
             ],
             [
              0.1111111111111111,
              "#46039f"
             ],
             [
              0.2222222222222222,
              "#7201a8"
             ],
             [
              0.3333333333333333,
              "#9c179e"
             ],
             [
              0.4444444444444444,
              "#bd3786"
             ],
             [
              0.5555555555555556,
              "#d8576b"
             ],
             [
              0.6666666666666666,
              "#ed7953"
             ],
             [
              0.7777777777777778,
              "#fb9f3a"
             ],
             [
              0.8888888888888888,
              "#fdca26"
             ],
             [
              1,
              "#f0f921"
             ]
            ],
            "type": "surface"
           }
          ],
          "table": [
           {
            "cells": {
             "fill": {
              "color": "#EBF0F8"
             },
             "line": {
              "color": "white"
             }
            },
            "header": {
             "fill": {
              "color": "#C8D4E3"
             },
             "line": {
              "color": "white"
             }
            },
            "type": "table"
           }
          ]
         },
         "layout": {
          "annotationdefaults": {
           "arrowcolor": "#2a3f5f",
           "arrowhead": 0,
           "arrowwidth": 1
          },
          "autotypenumbers": "strict",
          "coloraxis": {
           "colorbar": {
            "outlinewidth": 0,
            "ticks": ""
           }
          },
          "colorscale": {
           "diverging": [
            [
             0,
             "#8e0152"
            ],
            [
             0.1,
             "#c51b7d"
            ],
            [
             0.2,
             "#de77ae"
            ],
            [
             0.3,
             "#f1b6da"
            ],
            [
             0.4,
             "#fde0ef"
            ],
            [
             0.5,
             "#f7f7f7"
            ],
            [
             0.6,
             "#e6f5d0"
            ],
            [
             0.7,
             "#b8e186"
            ],
            [
             0.8,
             "#7fbc41"
            ],
            [
             0.9,
             "#4d9221"
            ],
            [
             1,
             "#276419"
            ]
           ],
           "sequential": [
            [
             0,
             "#0d0887"
            ],
            [
             0.1111111111111111,
             "#46039f"
            ],
            [
             0.2222222222222222,
             "#7201a8"
            ],
            [
             0.3333333333333333,
             "#9c179e"
            ],
            [
             0.4444444444444444,
             "#bd3786"
            ],
            [
             0.5555555555555556,
             "#d8576b"
            ],
            [
             0.6666666666666666,
             "#ed7953"
            ],
            [
             0.7777777777777778,
             "#fb9f3a"
            ],
            [
             0.8888888888888888,
             "#fdca26"
            ],
            [
             1,
             "#f0f921"
            ]
           ],
           "sequentialminus": [
            [
             0,
             "#0d0887"
            ],
            [
             0.1111111111111111,
             "#46039f"
            ],
            [
             0.2222222222222222,
             "#7201a8"
            ],
            [
             0.3333333333333333,
             "#9c179e"
            ],
            [
             0.4444444444444444,
             "#bd3786"
            ],
            [
             0.5555555555555556,
             "#d8576b"
            ],
            [
             0.6666666666666666,
             "#ed7953"
            ],
            [
             0.7777777777777778,
             "#fb9f3a"
            ],
            [
             0.8888888888888888,
             "#fdca26"
            ],
            [
             1,
             "#f0f921"
            ]
           ]
          },
          "colorway": [
           "#636efa",
           "#EF553B",
           "#00cc96",
           "#ab63fa",
           "#FFA15A",
           "#19d3f3",
           "#FF6692",
           "#B6E880",
           "#FF97FF",
           "#FECB52"
          ],
          "font": {
           "color": "#2a3f5f"
          },
          "geo": {
           "bgcolor": "white",
           "lakecolor": "white",
           "landcolor": "#E5ECF6",
           "showlakes": true,
           "showland": true,
           "subunitcolor": "white"
          },
          "hoverlabel": {
           "align": "left"
          },
          "hovermode": "closest",
          "mapbox": {
           "style": "light"
          },
          "paper_bgcolor": "white",
          "plot_bgcolor": "#E5ECF6",
          "polar": {
           "angularaxis": {
            "gridcolor": "white",
            "linecolor": "white",
            "ticks": ""
           },
           "bgcolor": "#E5ECF6",
           "radialaxis": {
            "gridcolor": "white",
            "linecolor": "white",
            "ticks": ""
           }
          },
          "scene": {
           "xaxis": {
            "backgroundcolor": "#E5ECF6",
            "gridcolor": "white",
            "gridwidth": 2,
            "linecolor": "white",
            "showbackground": true,
            "ticks": "",
            "zerolinecolor": "white"
           },
           "yaxis": {
            "backgroundcolor": "#E5ECF6",
            "gridcolor": "white",
            "gridwidth": 2,
            "linecolor": "white",
            "showbackground": true,
            "ticks": "",
            "zerolinecolor": "white"
           },
           "zaxis": {
            "backgroundcolor": "#E5ECF6",
            "gridcolor": "white",
            "gridwidth": 2,
            "linecolor": "white",
            "showbackground": true,
            "ticks": "",
            "zerolinecolor": "white"
           }
          },
          "shapedefaults": {
           "line": {
            "color": "#2a3f5f"
           }
          },
          "ternary": {
           "aaxis": {
            "gridcolor": "white",
            "linecolor": "white",
            "ticks": ""
           },
           "baxis": {
            "gridcolor": "white",
            "linecolor": "white",
            "ticks": ""
           },
           "bgcolor": "#E5ECF6",
           "caxis": {
            "gridcolor": "white",
            "linecolor": "white",
            "ticks": ""
           }
          },
          "title": {
           "x": 0.05
          },
          "xaxis": {
           "automargin": true,
           "gridcolor": "white",
           "linecolor": "white",
           "ticks": "",
           "title": {
            "standoff": 15
           },
           "zerolinecolor": "white",
           "zerolinewidth": 2
          },
          "yaxis": {
           "automargin": true,
           "gridcolor": "white",
           "linecolor": "white",
           "ticks": "",
           "title": {
            "standoff": 15
           },
           "zerolinecolor": "white",
           "zerolinewidth": 2
          }
         }
        },
        "title": {
         "text": "Slice Plot"
        },
        "xaxis": {
         "anchor": "y",
         "domain": [
          0,
          0.45
         ],
         "title": {
          "text": "max_depth"
         }
        },
        "xaxis2": {
         "anchor": "y2",
         "domain": [
          0.55,
          1
         ],
         "title": {
          "text": "min_samples_leaf"
         }
        },
        "yaxis": {
         "anchor": "x",
         "domain": [
          0,
          1
         ],
         "title": {
          "text": "Objective Value"
         }
        },
        "yaxis2": {
         "anchor": "x2",
         "domain": [
          0,
          1
         ],
         "matches": "y",
         "showticklabels": false
        }
       }
      }
     },
     "metadata": {},
     "output_type": "display_data"
    }
   ],
   "source": [
    "optuna.visualization.plot_slice(study)"
   ]
  },
  {
   "cell_type": "code",
   "execution_count": 115,
   "metadata": {},
   "outputs": [
    {
     "data": {
      "application/vnd.plotly.v1+json": {
       "config": {
        "plotlyServerURL": "https://plot.ly"
       },
       "data": [
        {
         "cliponaxis": false,
         "hovertemplate": [
          "min_samples_leaf (IntDistribution): 0.12338920749423755<extra></extra>",
          "max_depth (IntDistribution): 0.8766107925057625<extra></extra>"
         ],
         "name": "Objective Value",
         "orientation": "h",
         "text": [
          "0.12",
          "0.88"
         ],
         "textposition": "outside",
         "type": "bar",
         "x": [
          0.12338920749423755,
          0.8766107925057625
         ],
         "y": [
          "min_samples_leaf",
          "max_depth"
         ]
        }
       ],
       "layout": {
        "template": {
         "data": {
          "bar": [
           {
            "error_x": {
             "color": "#2a3f5f"
            },
            "error_y": {
             "color": "#2a3f5f"
            },
            "marker": {
             "line": {
              "color": "#E5ECF6",
              "width": 0.5
             },
             "pattern": {
              "fillmode": "overlay",
              "size": 10,
              "solidity": 0.2
             }
            },
            "type": "bar"
           }
          ],
          "barpolar": [
           {
            "marker": {
             "line": {
              "color": "#E5ECF6",
              "width": 0.5
             },
             "pattern": {
              "fillmode": "overlay",
              "size": 10,
              "solidity": 0.2
             }
            },
            "type": "barpolar"
           }
          ],
          "carpet": [
           {
            "aaxis": {
             "endlinecolor": "#2a3f5f",
             "gridcolor": "white",
             "linecolor": "white",
             "minorgridcolor": "white",
             "startlinecolor": "#2a3f5f"
            },
            "baxis": {
             "endlinecolor": "#2a3f5f",
             "gridcolor": "white",
             "linecolor": "white",
             "minorgridcolor": "white",
             "startlinecolor": "#2a3f5f"
            },
            "type": "carpet"
           }
          ],
          "choropleth": [
           {
            "colorbar": {
             "outlinewidth": 0,
             "ticks": ""
            },
            "type": "choropleth"
           }
          ],
          "contour": [
           {
            "colorbar": {
             "outlinewidth": 0,
             "ticks": ""
            },
            "colorscale": [
             [
              0,
              "#0d0887"
             ],
             [
              0.1111111111111111,
              "#46039f"
             ],
             [
              0.2222222222222222,
              "#7201a8"
             ],
             [
              0.3333333333333333,
              "#9c179e"
             ],
             [
              0.4444444444444444,
              "#bd3786"
             ],
             [
              0.5555555555555556,
              "#d8576b"
             ],
             [
              0.6666666666666666,
              "#ed7953"
             ],
             [
              0.7777777777777778,
              "#fb9f3a"
             ],
             [
              0.8888888888888888,
              "#fdca26"
             ],
             [
              1,
              "#f0f921"
             ]
            ],
            "type": "contour"
           }
          ],
          "contourcarpet": [
           {
            "colorbar": {
             "outlinewidth": 0,
             "ticks": ""
            },
            "type": "contourcarpet"
           }
          ],
          "heatmap": [
           {
            "colorbar": {
             "outlinewidth": 0,
             "ticks": ""
            },
            "colorscale": [
             [
              0,
              "#0d0887"
             ],
             [
              0.1111111111111111,
              "#46039f"
             ],
             [
              0.2222222222222222,
              "#7201a8"
             ],
             [
              0.3333333333333333,
              "#9c179e"
             ],
             [
              0.4444444444444444,
              "#bd3786"
             ],
             [
              0.5555555555555556,
              "#d8576b"
             ],
             [
              0.6666666666666666,
              "#ed7953"
             ],
             [
              0.7777777777777778,
              "#fb9f3a"
             ],
             [
              0.8888888888888888,
              "#fdca26"
             ],
             [
              1,
              "#f0f921"
             ]
            ],
            "type": "heatmap"
           }
          ],
          "heatmapgl": [
           {
            "colorbar": {
             "outlinewidth": 0,
             "ticks": ""
            },
            "colorscale": [
             [
              0,
              "#0d0887"
             ],
             [
              0.1111111111111111,
              "#46039f"
             ],
             [
              0.2222222222222222,
              "#7201a8"
             ],
             [
              0.3333333333333333,
              "#9c179e"
             ],
             [
              0.4444444444444444,
              "#bd3786"
             ],
             [
              0.5555555555555556,
              "#d8576b"
             ],
             [
              0.6666666666666666,
              "#ed7953"
             ],
             [
              0.7777777777777778,
              "#fb9f3a"
             ],
             [
              0.8888888888888888,
              "#fdca26"
             ],
             [
              1,
              "#f0f921"
             ]
            ],
            "type": "heatmapgl"
           }
          ],
          "histogram": [
           {
            "marker": {
             "pattern": {
              "fillmode": "overlay",
              "size": 10,
              "solidity": 0.2
             }
            },
            "type": "histogram"
           }
          ],
          "histogram2d": [
           {
            "colorbar": {
             "outlinewidth": 0,
             "ticks": ""
            },
            "colorscale": [
             [
              0,
              "#0d0887"
             ],
             [
              0.1111111111111111,
              "#46039f"
             ],
             [
              0.2222222222222222,
              "#7201a8"
             ],
             [
              0.3333333333333333,
              "#9c179e"
             ],
             [
              0.4444444444444444,
              "#bd3786"
             ],
             [
              0.5555555555555556,
              "#d8576b"
             ],
             [
              0.6666666666666666,
              "#ed7953"
             ],
             [
              0.7777777777777778,
              "#fb9f3a"
             ],
             [
              0.8888888888888888,
              "#fdca26"
             ],
             [
              1,
              "#f0f921"
             ]
            ],
            "type": "histogram2d"
           }
          ],
          "histogram2dcontour": [
           {
            "colorbar": {
             "outlinewidth": 0,
             "ticks": ""
            },
            "colorscale": [
             [
              0,
              "#0d0887"
             ],
             [
              0.1111111111111111,
              "#46039f"
             ],
             [
              0.2222222222222222,
              "#7201a8"
             ],
             [
              0.3333333333333333,
              "#9c179e"
             ],
             [
              0.4444444444444444,
              "#bd3786"
             ],
             [
              0.5555555555555556,
              "#d8576b"
             ],
             [
              0.6666666666666666,
              "#ed7953"
             ],
             [
              0.7777777777777778,
              "#fb9f3a"
             ],
             [
              0.8888888888888888,
              "#fdca26"
             ],
             [
              1,
              "#f0f921"
             ]
            ],
            "type": "histogram2dcontour"
           }
          ],
          "mesh3d": [
           {
            "colorbar": {
             "outlinewidth": 0,
             "ticks": ""
            },
            "type": "mesh3d"
           }
          ],
          "parcoords": [
           {
            "line": {
             "colorbar": {
              "outlinewidth": 0,
              "ticks": ""
             }
            },
            "type": "parcoords"
           }
          ],
          "pie": [
           {
            "automargin": true,
            "type": "pie"
           }
          ],
          "scatter": [
           {
            "fillpattern": {
             "fillmode": "overlay",
             "size": 10,
             "solidity": 0.2
            },
            "type": "scatter"
           }
          ],
          "scatter3d": [
           {
            "line": {
             "colorbar": {
              "outlinewidth": 0,
              "ticks": ""
             }
            },
            "marker": {
             "colorbar": {
              "outlinewidth": 0,
              "ticks": ""
             }
            },
            "type": "scatter3d"
           }
          ],
          "scattercarpet": [
           {
            "marker": {
             "colorbar": {
              "outlinewidth": 0,
              "ticks": ""
             }
            },
            "type": "scattercarpet"
           }
          ],
          "scattergeo": [
           {
            "marker": {
             "colorbar": {
              "outlinewidth": 0,
              "ticks": ""
             }
            },
            "type": "scattergeo"
           }
          ],
          "scattergl": [
           {
            "marker": {
             "colorbar": {
              "outlinewidth": 0,
              "ticks": ""
             }
            },
            "type": "scattergl"
           }
          ],
          "scattermapbox": [
           {
            "marker": {
             "colorbar": {
              "outlinewidth": 0,
              "ticks": ""
             }
            },
            "type": "scattermapbox"
           }
          ],
          "scatterpolar": [
           {
            "marker": {
             "colorbar": {
              "outlinewidth": 0,
              "ticks": ""
             }
            },
            "type": "scatterpolar"
           }
          ],
          "scatterpolargl": [
           {
            "marker": {
             "colorbar": {
              "outlinewidth": 0,
              "ticks": ""
             }
            },
            "type": "scatterpolargl"
           }
          ],
          "scatterternary": [
           {
            "marker": {
             "colorbar": {
              "outlinewidth": 0,
              "ticks": ""
             }
            },
            "type": "scatterternary"
           }
          ],
          "surface": [
           {
            "colorbar": {
             "outlinewidth": 0,
             "ticks": ""
            },
            "colorscale": [
             [
              0,
              "#0d0887"
             ],
             [
              0.1111111111111111,
              "#46039f"
             ],
             [
              0.2222222222222222,
              "#7201a8"
             ],
             [
              0.3333333333333333,
              "#9c179e"
             ],
             [
              0.4444444444444444,
              "#bd3786"
             ],
             [
              0.5555555555555556,
              "#d8576b"
             ],
             [
              0.6666666666666666,
              "#ed7953"
             ],
             [
              0.7777777777777778,
              "#fb9f3a"
             ],
             [
              0.8888888888888888,
              "#fdca26"
             ],
             [
              1,
              "#f0f921"
             ]
            ],
            "type": "surface"
           }
          ],
          "table": [
           {
            "cells": {
             "fill": {
              "color": "#EBF0F8"
             },
             "line": {
              "color": "white"
             }
            },
            "header": {
             "fill": {
              "color": "#C8D4E3"
             },
             "line": {
              "color": "white"
             }
            },
            "type": "table"
           }
          ]
         },
         "layout": {
          "annotationdefaults": {
           "arrowcolor": "#2a3f5f",
           "arrowhead": 0,
           "arrowwidth": 1
          },
          "autotypenumbers": "strict",
          "coloraxis": {
           "colorbar": {
            "outlinewidth": 0,
            "ticks": ""
           }
          },
          "colorscale": {
           "diverging": [
            [
             0,
             "#8e0152"
            ],
            [
             0.1,
             "#c51b7d"
            ],
            [
             0.2,
             "#de77ae"
            ],
            [
             0.3,
             "#f1b6da"
            ],
            [
             0.4,
             "#fde0ef"
            ],
            [
             0.5,
             "#f7f7f7"
            ],
            [
             0.6,
             "#e6f5d0"
            ],
            [
             0.7,
             "#b8e186"
            ],
            [
             0.8,
             "#7fbc41"
            ],
            [
             0.9,
             "#4d9221"
            ],
            [
             1,
             "#276419"
            ]
           ],
           "sequential": [
            [
             0,
             "#0d0887"
            ],
            [
             0.1111111111111111,
             "#46039f"
            ],
            [
             0.2222222222222222,
             "#7201a8"
            ],
            [
             0.3333333333333333,
             "#9c179e"
            ],
            [
             0.4444444444444444,
             "#bd3786"
            ],
            [
             0.5555555555555556,
             "#d8576b"
            ],
            [
             0.6666666666666666,
             "#ed7953"
            ],
            [
             0.7777777777777778,
             "#fb9f3a"
            ],
            [
             0.8888888888888888,
             "#fdca26"
            ],
            [
             1,
             "#f0f921"
            ]
           ],
           "sequentialminus": [
            [
             0,
             "#0d0887"
            ],
            [
             0.1111111111111111,
             "#46039f"
            ],
            [
             0.2222222222222222,
             "#7201a8"
            ],
            [
             0.3333333333333333,
             "#9c179e"
            ],
            [
             0.4444444444444444,
             "#bd3786"
            ],
            [
             0.5555555555555556,
             "#d8576b"
            ],
            [
             0.6666666666666666,
             "#ed7953"
            ],
            [
             0.7777777777777778,
             "#fb9f3a"
            ],
            [
             0.8888888888888888,
             "#fdca26"
            ],
            [
             1,
             "#f0f921"
            ]
           ]
          },
          "colorway": [
           "#636efa",
           "#EF553B",
           "#00cc96",
           "#ab63fa",
           "#FFA15A",
           "#19d3f3",
           "#FF6692",
           "#B6E880",
           "#FF97FF",
           "#FECB52"
          ],
          "font": {
           "color": "#2a3f5f"
          },
          "geo": {
           "bgcolor": "white",
           "lakecolor": "white",
           "landcolor": "#E5ECF6",
           "showlakes": true,
           "showland": true,
           "subunitcolor": "white"
          },
          "hoverlabel": {
           "align": "left"
          },
          "hovermode": "closest",
          "mapbox": {
           "style": "light"
          },
          "paper_bgcolor": "white",
          "plot_bgcolor": "#E5ECF6",
          "polar": {
           "angularaxis": {
            "gridcolor": "white",
            "linecolor": "white",
            "ticks": ""
           },
           "bgcolor": "#E5ECF6",
           "radialaxis": {
            "gridcolor": "white",
            "linecolor": "white",
            "ticks": ""
           }
          },
          "scene": {
           "xaxis": {
            "backgroundcolor": "#E5ECF6",
            "gridcolor": "white",
            "gridwidth": 2,
            "linecolor": "white",
            "showbackground": true,
            "ticks": "",
            "zerolinecolor": "white"
           },
           "yaxis": {
            "backgroundcolor": "#E5ECF6",
            "gridcolor": "white",
            "gridwidth": 2,
            "linecolor": "white",
            "showbackground": true,
            "ticks": "",
            "zerolinecolor": "white"
           },
           "zaxis": {
            "backgroundcolor": "#E5ECF6",
            "gridcolor": "white",
            "gridwidth": 2,
            "linecolor": "white",
            "showbackground": true,
            "ticks": "",
            "zerolinecolor": "white"
           }
          },
          "shapedefaults": {
           "line": {
            "color": "#2a3f5f"
           }
          },
          "ternary": {
           "aaxis": {
            "gridcolor": "white",
            "linecolor": "white",
            "ticks": ""
           },
           "baxis": {
            "gridcolor": "white",
            "linecolor": "white",
            "ticks": ""
           },
           "bgcolor": "#E5ECF6",
           "caxis": {
            "gridcolor": "white",
            "linecolor": "white",
            "ticks": ""
           }
          },
          "title": {
           "x": 0.05
          },
          "xaxis": {
           "automargin": true,
           "gridcolor": "white",
           "linecolor": "white",
           "ticks": "",
           "title": {
            "standoff": 15
           },
           "zerolinecolor": "white",
           "zerolinewidth": 2
          },
          "yaxis": {
           "automargin": true,
           "gridcolor": "white",
           "linecolor": "white",
           "ticks": "",
           "title": {
            "standoff": 15
           },
           "zerolinecolor": "white",
           "zerolinewidth": 2
          }
         }
        },
        "title": {
         "text": "Hyperparameter Importances"
        },
        "xaxis": {
         "title": {
          "text": "Hyperparameter Importance"
         }
        },
        "yaxis": {
         "title": {
          "text": "Hyperparameter"
         }
        }
       }
      }
     },
     "metadata": {},
     "output_type": "display_data"
    }
   ],
   "source": [
    "optuna.visualization.plot_param_importances(study)"
   ]
  },
  {
   "cell_type": "code",
   "execution_count": 116,
   "metadata": {},
   "outputs": [
    {
     "data": {
      "application/vnd.plotly.v1+json": {
       "config": {
        "plotlyServerURL": "https://plot.ly"
       },
       "data": [
        {
         "dimensions": [
          {
           "label": "Objective Value",
           "range": [
            0.056727658219363264,
            0.2130904005882733
           ],
           "values": [
            0.10606108409503867,
            0.1432491194577901,
            0.15100575657722634,
            0.15475283973959958,
            0.16023007837635378,
            0.19653885559841838,
            0.13975901726077145,
            0.19077515479740953,
            0.0780953273969462,
            0.1703297466253517,
            0.1439158341694969,
            0.1524711961359103,
            0.056727658219363264,
            0.15013463047579068,
            0.1542000970513051,
            0.1245179250473802,
            0.14774266401079864,
            0.20777480507400928,
            0.12037825923930726,
            0.2077201681895068,
            0.10606108409503867,
            0.20807931060963117,
            0.21059044869947963,
            0.21059044869947963,
            0.20807931060963117,
            0.20807931060963117,
            0.20807931060963117,
            0.20807931060963117,
            0.20682542410720378,
            0.20682542410720378,
            0.20799508589437435,
            0.20709289188332955,
            0.20807931060963117,
            0.20807931060963117,
            0.20807931060963117,
            0.20831437287548207,
            0.2115719298785394,
            0.2071096947861128,
            0.2071096947861128,
            0.19265706298516408,
            0.2071096947861128,
            0.2071096947861128,
            0.2071096947861128,
            0.2071096947861128,
            0.21154933196964576,
            0.21154933196964576,
            0.2110564821690716,
            0.21108435371372022,
            0.19469780895951122,
            0.17555159513680588,
            0.17788182376455883,
            0.21108435371372022,
            0.21108435371372022,
            0.21058219094766387,
            0.21058219094766387,
            0.17054676621123813,
            0.21058219094766387,
            0.16851177924364386,
            0.17555159513680588,
            0.15680450404715665,
            0.16851177924364386,
            0.21058219094766387,
            0.21058219094766387,
            0.21194326155895649,
            0.21194326155895649,
            0.13026477860493912,
            0.17767214704345863,
            0.18142924829529314,
            0.13431752687362772,
            0.1338330104391915,
            0.13431752687362772,
            0.13026477860493912,
            0.13431752687362772,
            0.1338330104391915,
            0.19971702789659523,
            0.13026477860493912,
            0.1338330104391915,
            0.19386514757968745,
            0.14236570608238547,
            0.19386514757968745,
            0.19386514757968745,
            0.19386514757968745,
            0.19386514757968745,
            0.19386514757968745,
            0.21194326155895649,
            0.21194326155895649,
            0.21194326155895649,
            0.21194326155895649,
            0.21194326155895649,
            0.2130904005882733,
            0.20933596220345682,
            0.21152708794473715,
            0.2094360621854669,
            0.2130904005882733,
            0.2130904005882733,
            0.2130904005882733,
            0.2130904005882733,
            0.20933596220345682,
            0.20797754307608277,
            0.20797754307608277
           ]
          },
          {
           "label": "max_depth",
           "range": [
            4,
            30
           ],
           "values": [
            24,
            14,
            16,
            20,
            16,
            10,
            22,
            10,
            30,
            14,
            30,
            24,
            28,
            26,
            16,
            16,
            16,
            8,
            30,
            4,
            24,
            4,
            6,
            6,
            4,
            4,
            4,
            4,
            8,
            8,
            8,
            8,
            4,
            4,
            4,
            4,
            6,
            8,
            8,
            10,
            8,
            8,
            8,
            8,
            6,
            6,
            6,
            6,
            10,
            12,
            12,
            6,
            6,
            6,
            6,
            12,
            6,
            12,
            12,
            14,
            12,
            6,
            6,
            6,
            6,
            20,
            12,
            12,
            18,
            20,
            18,
            20,
            18,
            20,
            10,
            20,
            20,
            10,
            18,
            10,
            10,
            10,
            10,
            10,
            6,
            6,
            6,
            6,
            6,
            6,
            6,
            6,
            6,
            6,
            6,
            6,
            6,
            6,
            4,
            4
           ]
          },
          {
           "label": "min_samples_leaf",
           "range": [
            2,
            58
           ],
           "values": [
            22,
            8,
            38,
            58,
            46,
            8,
            44,
            6,
            12,
            52,
            50,
            54,
            4,
            54,
            40,
            12,
            32,
            32,
            30,
            2,
            22,
            20,
            2,
            2,
            20,
            20,
            20,
            20,
            18,
            18,
            16,
            20,
            20,
            20,
            20,
            18,
            16,
            14,
            14,
            14,
            14,
            14,
            14,
            14,
            12,
            12,
            28,
            26,
            26,
            26,
            28,
            26,
            26,
            8,
            8,
            6,
            8,
            8,
            26,
            26,
            8,
            8,
            8,
            10,
            10,
            34,
            36,
            34,
            36,
            36,
            36,
            34,
            36,
            36,
            40,
            34,
            36,
            10,
            42,
            10,
            10,
            10,
            10,
            10,
            10,
            10,
            10,
            10,
            10,
            24,
            4,
            22,
            30,
            24,
            24,
            24,
            24,
            4,
            4,
            4
           ]
          }
         ],
         "labelangle": 30,
         "labelside": "bottom",
         "line": {
          "color": [
           0.10606108409503867,
           0.1432491194577901,
           0.15100575657722634,
           0.15475283973959958,
           0.16023007837635378,
           0.19653885559841838,
           0.13975901726077145,
           0.19077515479740953,
           0.0780953273969462,
           0.1703297466253517,
           0.1439158341694969,
           0.1524711961359103,
           0.056727658219363264,
           0.15013463047579068,
           0.1542000970513051,
           0.1245179250473802,
           0.14774266401079864,
           0.20777480507400928,
           0.12037825923930726,
           0.2077201681895068,
           0.10606108409503867,
           0.20807931060963117,
           0.21059044869947963,
           0.21059044869947963,
           0.20807931060963117,
           0.20807931060963117,
           0.20807931060963117,
           0.20807931060963117,
           0.20682542410720378,
           0.20682542410720378,
           0.20799508589437435,
           0.20709289188332955,
           0.20807931060963117,
           0.20807931060963117,
           0.20807931060963117,
           0.20831437287548207,
           0.2115719298785394,
           0.2071096947861128,
           0.2071096947861128,
           0.19265706298516408,
           0.2071096947861128,
           0.2071096947861128,
           0.2071096947861128,
           0.2071096947861128,
           0.21154933196964576,
           0.21154933196964576,
           0.2110564821690716,
           0.21108435371372022,
           0.19469780895951122,
           0.17555159513680588,
           0.17788182376455883,
           0.21108435371372022,
           0.21108435371372022,
           0.21058219094766387,
           0.21058219094766387,
           0.17054676621123813,
           0.21058219094766387,
           0.16851177924364386,
           0.17555159513680588,
           0.15680450404715665,
           0.16851177924364386,
           0.21058219094766387,
           0.21058219094766387,
           0.21194326155895649,
           0.21194326155895649,
           0.13026477860493912,
           0.17767214704345863,
           0.18142924829529314,
           0.13431752687362772,
           0.1338330104391915,
           0.13431752687362772,
           0.13026477860493912,
           0.13431752687362772,
           0.1338330104391915,
           0.19971702789659523,
           0.13026477860493912,
           0.1338330104391915,
           0.19386514757968745,
           0.14236570608238547,
           0.19386514757968745,
           0.19386514757968745,
           0.19386514757968745,
           0.19386514757968745,
           0.19386514757968745,
           0.21194326155895649,
           0.21194326155895649,
           0.21194326155895649,
           0.21194326155895649,
           0.21194326155895649,
           0.2130904005882733,
           0.20933596220345682,
           0.21152708794473715,
           0.2094360621854669,
           0.2130904005882733,
           0.2130904005882733,
           0.2130904005882733,
           0.2130904005882733,
           0.20933596220345682,
           0.20797754307608277,
           0.20797754307608277
          ],
          "colorbar": {
           "title": {
            "text": "Objective Value"
           }
          },
          "colorscale": [
           [
            0,
            "rgb(247,251,255)"
           ],
           [
            0.125,
            "rgb(222,235,247)"
           ],
           [
            0.25,
            "rgb(198,219,239)"
           ],
           [
            0.375,
            "rgb(158,202,225)"
           ],
           [
            0.5,
            "rgb(107,174,214)"
           ],
           [
            0.625,
            "rgb(66,146,198)"
           ],
           [
            0.75,
            "rgb(33,113,181)"
           ],
           [
            0.875,
            "rgb(8,81,156)"
           ],
           [
            1,
            "rgb(8,48,107)"
           ]
          ],
          "reversescale": false,
          "showscale": true
         },
         "type": "parcoords"
        }
       ],
       "layout": {
        "template": {
         "data": {
          "bar": [
           {
            "error_x": {
             "color": "#2a3f5f"
            },
            "error_y": {
             "color": "#2a3f5f"
            },
            "marker": {
             "line": {
              "color": "#E5ECF6",
              "width": 0.5
             },
             "pattern": {
              "fillmode": "overlay",
              "size": 10,
              "solidity": 0.2
             }
            },
            "type": "bar"
           }
          ],
          "barpolar": [
           {
            "marker": {
             "line": {
              "color": "#E5ECF6",
              "width": 0.5
             },
             "pattern": {
              "fillmode": "overlay",
              "size": 10,
              "solidity": 0.2
             }
            },
            "type": "barpolar"
           }
          ],
          "carpet": [
           {
            "aaxis": {
             "endlinecolor": "#2a3f5f",
             "gridcolor": "white",
             "linecolor": "white",
             "minorgridcolor": "white",
             "startlinecolor": "#2a3f5f"
            },
            "baxis": {
             "endlinecolor": "#2a3f5f",
             "gridcolor": "white",
             "linecolor": "white",
             "minorgridcolor": "white",
             "startlinecolor": "#2a3f5f"
            },
            "type": "carpet"
           }
          ],
          "choropleth": [
           {
            "colorbar": {
             "outlinewidth": 0,
             "ticks": ""
            },
            "type": "choropleth"
           }
          ],
          "contour": [
           {
            "colorbar": {
             "outlinewidth": 0,
             "ticks": ""
            },
            "colorscale": [
             [
              0,
              "#0d0887"
             ],
             [
              0.1111111111111111,
              "#46039f"
             ],
             [
              0.2222222222222222,
              "#7201a8"
             ],
             [
              0.3333333333333333,
              "#9c179e"
             ],
             [
              0.4444444444444444,
              "#bd3786"
             ],
             [
              0.5555555555555556,
              "#d8576b"
             ],
             [
              0.6666666666666666,
              "#ed7953"
             ],
             [
              0.7777777777777778,
              "#fb9f3a"
             ],
             [
              0.8888888888888888,
              "#fdca26"
             ],
             [
              1,
              "#f0f921"
             ]
            ],
            "type": "contour"
           }
          ],
          "contourcarpet": [
           {
            "colorbar": {
             "outlinewidth": 0,
             "ticks": ""
            },
            "type": "contourcarpet"
           }
          ],
          "heatmap": [
           {
            "colorbar": {
             "outlinewidth": 0,
             "ticks": ""
            },
            "colorscale": [
             [
              0,
              "#0d0887"
             ],
             [
              0.1111111111111111,
              "#46039f"
             ],
             [
              0.2222222222222222,
              "#7201a8"
             ],
             [
              0.3333333333333333,
              "#9c179e"
             ],
             [
              0.4444444444444444,
              "#bd3786"
             ],
             [
              0.5555555555555556,
              "#d8576b"
             ],
             [
              0.6666666666666666,
              "#ed7953"
             ],
             [
              0.7777777777777778,
              "#fb9f3a"
             ],
             [
              0.8888888888888888,
              "#fdca26"
             ],
             [
              1,
              "#f0f921"
             ]
            ],
            "type": "heatmap"
           }
          ],
          "heatmapgl": [
           {
            "colorbar": {
             "outlinewidth": 0,
             "ticks": ""
            },
            "colorscale": [
             [
              0,
              "#0d0887"
             ],
             [
              0.1111111111111111,
              "#46039f"
             ],
             [
              0.2222222222222222,
              "#7201a8"
             ],
             [
              0.3333333333333333,
              "#9c179e"
             ],
             [
              0.4444444444444444,
              "#bd3786"
             ],
             [
              0.5555555555555556,
              "#d8576b"
             ],
             [
              0.6666666666666666,
              "#ed7953"
             ],
             [
              0.7777777777777778,
              "#fb9f3a"
             ],
             [
              0.8888888888888888,
              "#fdca26"
             ],
             [
              1,
              "#f0f921"
             ]
            ],
            "type": "heatmapgl"
           }
          ],
          "histogram": [
           {
            "marker": {
             "pattern": {
              "fillmode": "overlay",
              "size": 10,
              "solidity": 0.2
             }
            },
            "type": "histogram"
           }
          ],
          "histogram2d": [
           {
            "colorbar": {
             "outlinewidth": 0,
             "ticks": ""
            },
            "colorscale": [
             [
              0,
              "#0d0887"
             ],
             [
              0.1111111111111111,
              "#46039f"
             ],
             [
              0.2222222222222222,
              "#7201a8"
             ],
             [
              0.3333333333333333,
              "#9c179e"
             ],
             [
              0.4444444444444444,
              "#bd3786"
             ],
             [
              0.5555555555555556,
              "#d8576b"
             ],
             [
              0.6666666666666666,
              "#ed7953"
             ],
             [
              0.7777777777777778,
              "#fb9f3a"
             ],
             [
              0.8888888888888888,
              "#fdca26"
             ],
             [
              1,
              "#f0f921"
             ]
            ],
            "type": "histogram2d"
           }
          ],
          "histogram2dcontour": [
           {
            "colorbar": {
             "outlinewidth": 0,
             "ticks": ""
            },
            "colorscale": [
             [
              0,
              "#0d0887"
             ],
             [
              0.1111111111111111,
              "#46039f"
             ],
             [
              0.2222222222222222,
              "#7201a8"
             ],
             [
              0.3333333333333333,
              "#9c179e"
             ],
             [
              0.4444444444444444,
              "#bd3786"
             ],
             [
              0.5555555555555556,
              "#d8576b"
             ],
             [
              0.6666666666666666,
              "#ed7953"
             ],
             [
              0.7777777777777778,
              "#fb9f3a"
             ],
             [
              0.8888888888888888,
              "#fdca26"
             ],
             [
              1,
              "#f0f921"
             ]
            ],
            "type": "histogram2dcontour"
           }
          ],
          "mesh3d": [
           {
            "colorbar": {
             "outlinewidth": 0,
             "ticks": ""
            },
            "type": "mesh3d"
           }
          ],
          "parcoords": [
           {
            "line": {
             "colorbar": {
              "outlinewidth": 0,
              "ticks": ""
             }
            },
            "type": "parcoords"
           }
          ],
          "pie": [
           {
            "automargin": true,
            "type": "pie"
           }
          ],
          "scatter": [
           {
            "fillpattern": {
             "fillmode": "overlay",
             "size": 10,
             "solidity": 0.2
            },
            "type": "scatter"
           }
          ],
          "scatter3d": [
           {
            "line": {
             "colorbar": {
              "outlinewidth": 0,
              "ticks": ""
             }
            },
            "marker": {
             "colorbar": {
              "outlinewidth": 0,
              "ticks": ""
             }
            },
            "type": "scatter3d"
           }
          ],
          "scattercarpet": [
           {
            "marker": {
             "colorbar": {
              "outlinewidth": 0,
              "ticks": ""
             }
            },
            "type": "scattercarpet"
           }
          ],
          "scattergeo": [
           {
            "marker": {
             "colorbar": {
              "outlinewidth": 0,
              "ticks": ""
             }
            },
            "type": "scattergeo"
           }
          ],
          "scattergl": [
           {
            "marker": {
             "colorbar": {
              "outlinewidth": 0,
              "ticks": ""
             }
            },
            "type": "scattergl"
           }
          ],
          "scattermapbox": [
           {
            "marker": {
             "colorbar": {
              "outlinewidth": 0,
              "ticks": ""
             }
            },
            "type": "scattermapbox"
           }
          ],
          "scatterpolar": [
           {
            "marker": {
             "colorbar": {
              "outlinewidth": 0,
              "ticks": ""
             }
            },
            "type": "scatterpolar"
           }
          ],
          "scatterpolargl": [
           {
            "marker": {
             "colorbar": {
              "outlinewidth": 0,
              "ticks": ""
             }
            },
            "type": "scatterpolargl"
           }
          ],
          "scatterternary": [
           {
            "marker": {
             "colorbar": {
              "outlinewidth": 0,
              "ticks": ""
             }
            },
            "type": "scatterternary"
           }
          ],
          "surface": [
           {
            "colorbar": {
             "outlinewidth": 0,
             "ticks": ""
            },
            "colorscale": [
             [
              0,
              "#0d0887"
             ],
             [
              0.1111111111111111,
              "#46039f"
             ],
             [
              0.2222222222222222,
              "#7201a8"
             ],
             [
              0.3333333333333333,
              "#9c179e"
             ],
             [
              0.4444444444444444,
              "#bd3786"
             ],
             [
              0.5555555555555556,
              "#d8576b"
             ],
             [
              0.6666666666666666,
              "#ed7953"
             ],
             [
              0.7777777777777778,
              "#fb9f3a"
             ],
             [
              0.8888888888888888,
              "#fdca26"
             ],
             [
              1,
              "#f0f921"
             ]
            ],
            "type": "surface"
           }
          ],
          "table": [
           {
            "cells": {
             "fill": {
              "color": "#EBF0F8"
             },
             "line": {
              "color": "white"
             }
            },
            "header": {
             "fill": {
              "color": "#C8D4E3"
             },
             "line": {
              "color": "white"
             }
            },
            "type": "table"
           }
          ]
         },
         "layout": {
          "annotationdefaults": {
           "arrowcolor": "#2a3f5f",
           "arrowhead": 0,
           "arrowwidth": 1
          },
          "autotypenumbers": "strict",
          "coloraxis": {
           "colorbar": {
            "outlinewidth": 0,
            "ticks": ""
           }
          },
          "colorscale": {
           "diverging": [
            [
             0,
             "#8e0152"
            ],
            [
             0.1,
             "#c51b7d"
            ],
            [
             0.2,
             "#de77ae"
            ],
            [
             0.3,
             "#f1b6da"
            ],
            [
             0.4,
             "#fde0ef"
            ],
            [
             0.5,
             "#f7f7f7"
            ],
            [
             0.6,
             "#e6f5d0"
            ],
            [
             0.7,
             "#b8e186"
            ],
            [
             0.8,
             "#7fbc41"
            ],
            [
             0.9,
             "#4d9221"
            ],
            [
             1,
             "#276419"
            ]
           ],
           "sequential": [
            [
             0,
             "#0d0887"
            ],
            [
             0.1111111111111111,
             "#46039f"
            ],
            [
             0.2222222222222222,
             "#7201a8"
            ],
            [
             0.3333333333333333,
             "#9c179e"
            ],
            [
             0.4444444444444444,
             "#bd3786"
            ],
            [
             0.5555555555555556,
             "#d8576b"
            ],
            [
             0.6666666666666666,
             "#ed7953"
            ],
            [
             0.7777777777777778,
             "#fb9f3a"
            ],
            [
             0.8888888888888888,
             "#fdca26"
            ],
            [
             1,
             "#f0f921"
            ]
           ],
           "sequentialminus": [
            [
             0,
             "#0d0887"
            ],
            [
             0.1111111111111111,
             "#46039f"
            ],
            [
             0.2222222222222222,
             "#7201a8"
            ],
            [
             0.3333333333333333,
             "#9c179e"
            ],
            [
             0.4444444444444444,
             "#bd3786"
            ],
            [
             0.5555555555555556,
             "#d8576b"
            ],
            [
             0.6666666666666666,
             "#ed7953"
            ],
            [
             0.7777777777777778,
             "#fb9f3a"
            ],
            [
             0.8888888888888888,
             "#fdca26"
            ],
            [
             1,
             "#f0f921"
            ]
           ]
          },
          "colorway": [
           "#636efa",
           "#EF553B",
           "#00cc96",
           "#ab63fa",
           "#FFA15A",
           "#19d3f3",
           "#FF6692",
           "#B6E880",
           "#FF97FF",
           "#FECB52"
          ],
          "font": {
           "color": "#2a3f5f"
          },
          "geo": {
           "bgcolor": "white",
           "lakecolor": "white",
           "landcolor": "#E5ECF6",
           "showlakes": true,
           "showland": true,
           "subunitcolor": "white"
          },
          "hoverlabel": {
           "align": "left"
          },
          "hovermode": "closest",
          "mapbox": {
           "style": "light"
          },
          "paper_bgcolor": "white",
          "plot_bgcolor": "#E5ECF6",
          "polar": {
           "angularaxis": {
            "gridcolor": "white",
            "linecolor": "white",
            "ticks": ""
           },
           "bgcolor": "#E5ECF6",
           "radialaxis": {
            "gridcolor": "white",
            "linecolor": "white",
            "ticks": ""
           }
          },
          "scene": {
           "xaxis": {
            "backgroundcolor": "#E5ECF6",
            "gridcolor": "white",
            "gridwidth": 2,
            "linecolor": "white",
            "showbackground": true,
            "ticks": "",
            "zerolinecolor": "white"
           },
           "yaxis": {
            "backgroundcolor": "#E5ECF6",
            "gridcolor": "white",
            "gridwidth": 2,
            "linecolor": "white",
            "showbackground": true,
            "ticks": "",
            "zerolinecolor": "white"
           },
           "zaxis": {
            "backgroundcolor": "#E5ECF6",
            "gridcolor": "white",
            "gridwidth": 2,
            "linecolor": "white",
            "showbackground": true,
            "ticks": "",
            "zerolinecolor": "white"
           }
          },
          "shapedefaults": {
           "line": {
            "color": "#2a3f5f"
           }
          },
          "ternary": {
           "aaxis": {
            "gridcolor": "white",
            "linecolor": "white",
            "ticks": ""
           },
           "baxis": {
            "gridcolor": "white",
            "linecolor": "white",
            "ticks": ""
           },
           "bgcolor": "#E5ECF6",
           "caxis": {
            "gridcolor": "white",
            "linecolor": "white",
            "ticks": ""
           }
          },
          "title": {
           "x": 0.05
          },
          "xaxis": {
           "automargin": true,
           "gridcolor": "white",
           "linecolor": "white",
           "ticks": "",
           "title": {
            "standoff": 15
           },
           "zerolinecolor": "white",
           "zerolinewidth": 2
          },
          "yaxis": {
           "automargin": true,
           "gridcolor": "white",
           "linecolor": "white",
           "ticks": "",
           "title": {
            "standoff": 15
           },
           "zerolinecolor": "white",
           "zerolinewidth": 2
          }
         }
        },
        "title": {
         "text": "Parallel Coordinate Plot"
        }
       }
      }
     },
     "metadata": {},
     "output_type": "display_data"
    }
   ],
   "source": [
    "optuna.visualization.plot_parallel_coordinate(study)"
   ]
  },
  {
   "cell_type": "code",
   "execution_count": 117,
   "metadata": {},
   "outputs": [
    {
     "data": {
      "application/vnd.plotly.v1+json": {
       "config": {
        "plotlyServerURL": "https://plot.ly"
       },
       "data": [
        {
         "colorbar": {
          "title": {
           "text": "Objective Value"
          }
         },
         "colorscale": [
          [
           0,
           "rgb(247,251,255)"
          ],
          [
           0.125,
           "rgb(222,235,247)"
          ],
          [
           0.25,
           "rgb(198,219,239)"
          ],
          [
           0.375,
           "rgb(158,202,225)"
          ],
          [
           0.5,
           "rgb(107,174,214)"
          ],
          [
           0.625,
           "rgb(66,146,198)"
          ],
          [
           0.75,
           "rgb(33,113,181)"
          ],
          [
           0.875,
           "rgb(8,81,156)"
          ],
          [
           1,
           "rgb(8,48,107)"
          ]
         ],
         "connectgaps": true,
         "contours": {
          "coloring": "heatmap"
         },
         "hoverinfo": "none",
         "line": {
          "smoothing": 1.3
         },
         "reversescale": false,
         "type": "contour",
         "x": [
          2.7,
          4,
          6,
          8,
          10,
          12,
          14,
          16,
          18,
          20,
          22,
          24,
          26,
          28,
          30,
          31.3
         ],
         "y": [
          -0.8000000000000003,
          2,
          4,
          6,
          8,
          10,
          12,
          14,
          16,
          18,
          20,
          22,
          24,
          26,
          28,
          30,
          32,
          34,
          36,
          38,
          40,
          42,
          44,
          46,
          50,
          52,
          54,
          58,
          60.8
         ],
         "z": [
          [
           null,
           null,
           null,
           null,
           null,
           null,
           null,
           null,
           null,
           null,
           null,
           null,
           null,
           null,
           null,
           null
          ],
          [
           null,
           0.2077201681895068,
           0.21059044869947963,
           null,
           null,
           null,
           null,
           null,
           null,
           null,
           null,
           null,
           null,
           null,
           null,
           null
          ],
          [
           null,
           0.20797754307608277,
           0.20933596220345682,
           null,
           null,
           null,
           null,
           null,
           null,
           null,
           null,
           null,
           null,
           0.056727658219363264,
           null,
           null
          ],
          [
           null,
           null,
           null,
           null,
           0.19077515479740953,
           0.17054676621123813,
           null,
           null,
           null,
           null,
           null,
           null,
           null,
           null,
           null,
           null
          ],
          [
           null,
           null,
           0.21058219094766387,
           null,
           0.19653885559841838,
           0.16851177924364386,
           0.1432491194577901,
           null,
           null,
           null,
           null,
           null,
           null,
           null,
           null,
           null
          ],
          [
           null,
           null,
           0.21194326155895649,
           null,
           0.19386514757968745,
           null,
           null,
           null,
           null,
           null,
           null,
           null,
           null,
           null,
           null,
           null
          ],
          [
           null,
           null,
           0.21154933196964576,
           null,
           null,
           null,
           null,
           0.1245179250473802,
           null,
           null,
           null,
           null,
           null,
           null,
           0.0780953273969462,
           null
          ],
          [
           null,
           null,
           null,
           0.2071096947861128,
           0.19265706298516408,
           null,
           null,
           null,
           null,
           null,
           null,
           null,
           null,
           null,
           null,
           null
          ],
          [
           null,
           null,
           0.2115719298785394,
           0.20799508589437435,
           null,
           null,
           null,
           null,
           null,
           null,
           null,
           null,
           null,
           null,
           null,
           null
          ],
          [
           null,
           0.20831437287548207,
           null,
           0.20682542410720378,
           null,
           null,
           null,
           null,
           null,
           null,
           null,
           null,
           null,
           null,
           null,
           null
          ],
          [
           null,
           0.20807931060963117,
           null,
           0.20709289188332955,
           null,
           null,
           null,
           null,
           null,
           null,
           null,
           null,
           null,
           null,
           null,
           null
          ],
          [
           null,
           null,
           0.21152708794473715,
           null,
           null,
           null,
           null,
           null,
           null,
           null,
           null,
           0.10606108409503867,
           null,
           null,
           null,
           null
          ],
          [
           null,
           null,
           0.2130904005882733,
           null,
           null,
           null,
           null,
           null,
           null,
           null,
           null,
           null,
           null,
           null,
           null,
           null
          ],
          [
           null,
           null,
           0.21108435371372022,
           null,
           0.19469780895951122,
           0.17555159513680588,
           0.15680450404715665,
           null,
           null,
           null,
           null,
           null,
           null,
           null,
           null,
           null
          ],
          [
           null,
           null,
           0.2110564821690716,
           null,
           null,
           0.17788182376455883,
           null,
           null,
           null,
           null,
           null,
           null,
           null,
           null,
           null,
           null
          ],
          [
           null,
           null,
           0.2094360621854669,
           null,
           null,
           null,
           null,
           null,
           null,
           null,
           null,
           null,
           null,
           null,
           0.12037825923930726,
           null
          ],
          [
           null,
           null,
           null,
           0.20777480507400928,
           null,
           null,
           null,
           0.14774266401079864,
           null,
           null,
           null,
           null,
           null,
           null,
           null,
           null
          ],
          [
           null,
           null,
           null,
           null,
           null,
           0.18142924829529314,
           null,
           null,
           null,
           0.13026477860493912,
           null,
           null,
           null,
           null,
           null,
           null
          ],
          [
           null,
           null,
           null,
           null,
           null,
           0.17767214704345863,
           null,
           null,
           0.13431752687362772,
           0.1338330104391915,
           null,
           null,
           null,
           null,
           null,
           null
          ],
          [
           null,
           null,
           null,
           null,
           null,
           null,
           null,
           0.15100575657722634,
           null,
           null,
           null,
           null,
           null,
           null,
           null,
           null
          ],
          [
           null,
           null,
           null,
           null,
           0.19971702789659523,
           null,
           null,
           0.1542000970513051,
           null,
           null,
           null,
           null,
           null,
           null,
           null,
           null
          ],
          [
           null,
           null,
           null,
           null,
           null,
           null,
           null,
           null,
           0.14236570608238547,
           null,
           null,
           null,
           null,
           null,
           null,
           null
          ],
          [
           null,
           null,
           null,
           null,
           null,
           null,
           null,
           null,
           null,
           null,
           0.13975901726077145,
           null,
           null,
           null,
           null,
           null
          ],
          [
           null,
           null,
           null,
           null,
           null,
           null,
           null,
           0.16023007837635378,
           null,
           null,
           null,
           null,
           null,
           null,
           null,
           null
          ],
          [
           null,
           null,
           null,
           null,
           null,
           null,
           null,
           null,
           null,
           null,
           null,
           null,
           null,
           null,
           0.1439158341694969,
           null
          ],
          [
           null,
           null,
           null,
           null,
           null,
           null,
           0.1703297466253517,
           null,
           null,
           null,
           null,
           null,
           null,
           null,
           null,
           null
          ],
          [
           null,
           null,
           null,
           null,
           null,
           null,
           null,
           null,
           null,
           null,
           null,
           0.1524711961359103,
           0.15013463047579068,
           null,
           null,
           null
          ],
          [
           null,
           null,
           null,
           null,
           null,
           null,
           null,
           null,
           null,
           0.15475283973959958,
           null,
           null,
           null,
           null,
           null,
           null
          ],
          [
           null,
           null,
           null,
           null,
           null,
           null,
           null,
           null,
           null,
           null,
           null,
           null,
           null,
           null,
           null,
           null
          ]
         ]
        },
        {
         "marker": {
          "color": "black",
          "line": {
           "color": "Gray",
           "width": 2
          }
         },
         "mode": "markers",
         "name": "Feasible Trial",
         "showlegend": false,
         "type": "scatter",
         "x": [
          24,
          14,
          16,
          20,
          16,
          10,
          22,
          10,
          30,
          14,
          30,
          24,
          28,
          26,
          16,
          16,
          16,
          8,
          30,
          4,
          24,
          4,
          6,
          6,
          4,
          4,
          4,
          4,
          8,
          8,
          8,
          8,
          4,
          4,
          4,
          4,
          6,
          8,
          8,
          10,
          8,
          8,
          8,
          8,
          6,
          6,
          6,
          6,
          10,
          12,
          12,
          6,
          6,
          6,
          6,
          12,
          6,
          12,
          12,
          14,
          12,
          6,
          6,
          6,
          6,
          20,
          12,
          12,
          18,
          20,
          18,
          20,
          18,
          20,
          10,
          20,
          20,
          10,
          18,
          10,
          10,
          10,
          10,
          10,
          6,
          6,
          6,
          6,
          6,
          6,
          6,
          6,
          6,
          6,
          6,
          6,
          6,
          6,
          4,
          4
         ],
         "y": [
          22,
          8,
          38,
          58,
          46,
          8,
          44,
          6,
          12,
          52,
          50,
          54,
          4,
          54,
          40,
          12,
          32,
          32,
          30,
          2,
          22,
          20,
          2,
          2,
          20,
          20,
          20,
          20,
          18,
          18,
          16,
          20,
          20,
          20,
          20,
          18,
          16,
          14,
          14,
          14,
          14,
          14,
          14,
          14,
          12,
          12,
          28,
          26,
          26,
          26,
          28,
          26,
          26,
          8,
          8,
          6,
          8,
          8,
          26,
          26,
          8,
          8,
          8,
          10,
          10,
          34,
          36,
          34,
          36,
          36,
          36,
          34,
          36,
          36,
          40,
          34,
          36,
          10,
          42,
          10,
          10,
          10,
          10,
          10,
          10,
          10,
          10,
          10,
          10,
          24,
          4,
          22,
          30,
          24,
          24,
          24,
          24,
          4,
          4,
          4
         ]
        },
        {
         "marker": {
          "color": "#cccccc",
          "line": {
           "color": "Gray",
           "width": 2
          }
         },
         "mode": "markers",
         "name": "Infeasible Trial",
         "showlegend": false,
         "type": "scatter",
         "x": [],
         "y": []
        }
       ],
       "layout": {
        "template": {
         "data": {
          "bar": [
           {
            "error_x": {
             "color": "#2a3f5f"
            },
            "error_y": {
             "color": "#2a3f5f"
            },
            "marker": {
             "line": {
              "color": "#E5ECF6",
              "width": 0.5
             },
             "pattern": {
              "fillmode": "overlay",
              "size": 10,
              "solidity": 0.2
             }
            },
            "type": "bar"
           }
          ],
          "barpolar": [
           {
            "marker": {
             "line": {
              "color": "#E5ECF6",
              "width": 0.5
             },
             "pattern": {
              "fillmode": "overlay",
              "size": 10,
              "solidity": 0.2
             }
            },
            "type": "barpolar"
           }
          ],
          "carpet": [
           {
            "aaxis": {
             "endlinecolor": "#2a3f5f",
             "gridcolor": "white",
             "linecolor": "white",
             "minorgridcolor": "white",
             "startlinecolor": "#2a3f5f"
            },
            "baxis": {
             "endlinecolor": "#2a3f5f",
             "gridcolor": "white",
             "linecolor": "white",
             "minorgridcolor": "white",
             "startlinecolor": "#2a3f5f"
            },
            "type": "carpet"
           }
          ],
          "choropleth": [
           {
            "colorbar": {
             "outlinewidth": 0,
             "ticks": ""
            },
            "type": "choropleth"
           }
          ],
          "contour": [
           {
            "colorbar": {
             "outlinewidth": 0,
             "ticks": ""
            },
            "colorscale": [
             [
              0,
              "#0d0887"
             ],
             [
              0.1111111111111111,
              "#46039f"
             ],
             [
              0.2222222222222222,
              "#7201a8"
             ],
             [
              0.3333333333333333,
              "#9c179e"
             ],
             [
              0.4444444444444444,
              "#bd3786"
             ],
             [
              0.5555555555555556,
              "#d8576b"
             ],
             [
              0.6666666666666666,
              "#ed7953"
             ],
             [
              0.7777777777777778,
              "#fb9f3a"
             ],
             [
              0.8888888888888888,
              "#fdca26"
             ],
             [
              1,
              "#f0f921"
             ]
            ],
            "type": "contour"
           }
          ],
          "contourcarpet": [
           {
            "colorbar": {
             "outlinewidth": 0,
             "ticks": ""
            },
            "type": "contourcarpet"
           }
          ],
          "heatmap": [
           {
            "colorbar": {
             "outlinewidth": 0,
             "ticks": ""
            },
            "colorscale": [
             [
              0,
              "#0d0887"
             ],
             [
              0.1111111111111111,
              "#46039f"
             ],
             [
              0.2222222222222222,
              "#7201a8"
             ],
             [
              0.3333333333333333,
              "#9c179e"
             ],
             [
              0.4444444444444444,
              "#bd3786"
             ],
             [
              0.5555555555555556,
              "#d8576b"
             ],
             [
              0.6666666666666666,
              "#ed7953"
             ],
             [
              0.7777777777777778,
              "#fb9f3a"
             ],
             [
              0.8888888888888888,
              "#fdca26"
             ],
             [
              1,
              "#f0f921"
             ]
            ],
            "type": "heatmap"
           }
          ],
          "heatmapgl": [
           {
            "colorbar": {
             "outlinewidth": 0,
             "ticks": ""
            },
            "colorscale": [
             [
              0,
              "#0d0887"
             ],
             [
              0.1111111111111111,
              "#46039f"
             ],
             [
              0.2222222222222222,
              "#7201a8"
             ],
             [
              0.3333333333333333,
              "#9c179e"
             ],
             [
              0.4444444444444444,
              "#bd3786"
             ],
             [
              0.5555555555555556,
              "#d8576b"
             ],
             [
              0.6666666666666666,
              "#ed7953"
             ],
             [
              0.7777777777777778,
              "#fb9f3a"
             ],
             [
              0.8888888888888888,
              "#fdca26"
             ],
             [
              1,
              "#f0f921"
             ]
            ],
            "type": "heatmapgl"
           }
          ],
          "histogram": [
           {
            "marker": {
             "pattern": {
              "fillmode": "overlay",
              "size": 10,
              "solidity": 0.2
             }
            },
            "type": "histogram"
           }
          ],
          "histogram2d": [
           {
            "colorbar": {
             "outlinewidth": 0,
             "ticks": ""
            },
            "colorscale": [
             [
              0,
              "#0d0887"
             ],
             [
              0.1111111111111111,
              "#46039f"
             ],
             [
              0.2222222222222222,
              "#7201a8"
             ],
             [
              0.3333333333333333,
              "#9c179e"
             ],
             [
              0.4444444444444444,
              "#bd3786"
             ],
             [
              0.5555555555555556,
              "#d8576b"
             ],
             [
              0.6666666666666666,
              "#ed7953"
             ],
             [
              0.7777777777777778,
              "#fb9f3a"
             ],
             [
              0.8888888888888888,
              "#fdca26"
             ],
             [
              1,
              "#f0f921"
             ]
            ],
            "type": "histogram2d"
           }
          ],
          "histogram2dcontour": [
           {
            "colorbar": {
             "outlinewidth": 0,
             "ticks": ""
            },
            "colorscale": [
             [
              0,
              "#0d0887"
             ],
             [
              0.1111111111111111,
              "#46039f"
             ],
             [
              0.2222222222222222,
              "#7201a8"
             ],
             [
              0.3333333333333333,
              "#9c179e"
             ],
             [
              0.4444444444444444,
              "#bd3786"
             ],
             [
              0.5555555555555556,
              "#d8576b"
             ],
             [
              0.6666666666666666,
              "#ed7953"
             ],
             [
              0.7777777777777778,
              "#fb9f3a"
             ],
             [
              0.8888888888888888,
              "#fdca26"
             ],
             [
              1,
              "#f0f921"
             ]
            ],
            "type": "histogram2dcontour"
           }
          ],
          "mesh3d": [
           {
            "colorbar": {
             "outlinewidth": 0,
             "ticks": ""
            },
            "type": "mesh3d"
           }
          ],
          "parcoords": [
           {
            "line": {
             "colorbar": {
              "outlinewidth": 0,
              "ticks": ""
             }
            },
            "type": "parcoords"
           }
          ],
          "pie": [
           {
            "automargin": true,
            "type": "pie"
           }
          ],
          "scatter": [
           {
            "fillpattern": {
             "fillmode": "overlay",
             "size": 10,
             "solidity": 0.2
            },
            "type": "scatter"
           }
          ],
          "scatter3d": [
           {
            "line": {
             "colorbar": {
              "outlinewidth": 0,
              "ticks": ""
             }
            },
            "marker": {
             "colorbar": {
              "outlinewidth": 0,
              "ticks": ""
             }
            },
            "type": "scatter3d"
           }
          ],
          "scattercarpet": [
           {
            "marker": {
             "colorbar": {
              "outlinewidth": 0,
              "ticks": ""
             }
            },
            "type": "scattercarpet"
           }
          ],
          "scattergeo": [
           {
            "marker": {
             "colorbar": {
              "outlinewidth": 0,
              "ticks": ""
             }
            },
            "type": "scattergeo"
           }
          ],
          "scattergl": [
           {
            "marker": {
             "colorbar": {
              "outlinewidth": 0,
              "ticks": ""
             }
            },
            "type": "scattergl"
           }
          ],
          "scattermapbox": [
           {
            "marker": {
             "colorbar": {
              "outlinewidth": 0,
              "ticks": ""
             }
            },
            "type": "scattermapbox"
           }
          ],
          "scatterpolar": [
           {
            "marker": {
             "colorbar": {
              "outlinewidth": 0,
              "ticks": ""
             }
            },
            "type": "scatterpolar"
           }
          ],
          "scatterpolargl": [
           {
            "marker": {
             "colorbar": {
              "outlinewidth": 0,
              "ticks": ""
             }
            },
            "type": "scatterpolargl"
           }
          ],
          "scatterternary": [
           {
            "marker": {
             "colorbar": {
              "outlinewidth": 0,
              "ticks": ""
             }
            },
            "type": "scatterternary"
           }
          ],
          "surface": [
           {
            "colorbar": {
             "outlinewidth": 0,
             "ticks": ""
            },
            "colorscale": [
             [
              0,
              "#0d0887"
             ],
             [
              0.1111111111111111,
              "#46039f"
             ],
             [
              0.2222222222222222,
              "#7201a8"
             ],
             [
              0.3333333333333333,
              "#9c179e"
             ],
             [
              0.4444444444444444,
              "#bd3786"
             ],
             [
              0.5555555555555556,
              "#d8576b"
             ],
             [
              0.6666666666666666,
              "#ed7953"
             ],
             [
              0.7777777777777778,
              "#fb9f3a"
             ],
             [
              0.8888888888888888,
              "#fdca26"
             ],
             [
              1,
              "#f0f921"
             ]
            ],
            "type": "surface"
           }
          ],
          "table": [
           {
            "cells": {
             "fill": {
              "color": "#EBF0F8"
             },
             "line": {
              "color": "white"
             }
            },
            "header": {
             "fill": {
              "color": "#C8D4E3"
             },
             "line": {
              "color": "white"
             }
            },
            "type": "table"
           }
          ]
         },
         "layout": {
          "annotationdefaults": {
           "arrowcolor": "#2a3f5f",
           "arrowhead": 0,
           "arrowwidth": 1
          },
          "autotypenumbers": "strict",
          "coloraxis": {
           "colorbar": {
            "outlinewidth": 0,
            "ticks": ""
           }
          },
          "colorscale": {
           "diverging": [
            [
             0,
             "#8e0152"
            ],
            [
             0.1,
             "#c51b7d"
            ],
            [
             0.2,
             "#de77ae"
            ],
            [
             0.3,
             "#f1b6da"
            ],
            [
             0.4,
             "#fde0ef"
            ],
            [
             0.5,
             "#f7f7f7"
            ],
            [
             0.6,
             "#e6f5d0"
            ],
            [
             0.7,
             "#b8e186"
            ],
            [
             0.8,
             "#7fbc41"
            ],
            [
             0.9,
             "#4d9221"
            ],
            [
             1,
             "#276419"
            ]
           ],
           "sequential": [
            [
             0,
             "#0d0887"
            ],
            [
             0.1111111111111111,
             "#46039f"
            ],
            [
             0.2222222222222222,
             "#7201a8"
            ],
            [
             0.3333333333333333,
             "#9c179e"
            ],
            [
             0.4444444444444444,
             "#bd3786"
            ],
            [
             0.5555555555555556,
             "#d8576b"
            ],
            [
             0.6666666666666666,
             "#ed7953"
            ],
            [
             0.7777777777777778,
             "#fb9f3a"
            ],
            [
             0.8888888888888888,
             "#fdca26"
            ],
            [
             1,
             "#f0f921"
            ]
           ],
           "sequentialminus": [
            [
             0,
             "#0d0887"
            ],
            [
             0.1111111111111111,
             "#46039f"
            ],
            [
             0.2222222222222222,
             "#7201a8"
            ],
            [
             0.3333333333333333,
             "#9c179e"
            ],
            [
             0.4444444444444444,
             "#bd3786"
            ],
            [
             0.5555555555555556,
             "#d8576b"
            ],
            [
             0.6666666666666666,
             "#ed7953"
            ],
            [
             0.7777777777777778,
             "#fb9f3a"
            ],
            [
             0.8888888888888888,
             "#fdca26"
            ],
            [
             1,
             "#f0f921"
            ]
           ]
          },
          "colorway": [
           "#636efa",
           "#EF553B",
           "#00cc96",
           "#ab63fa",
           "#FFA15A",
           "#19d3f3",
           "#FF6692",
           "#B6E880",
           "#FF97FF",
           "#FECB52"
          ],
          "font": {
           "color": "#2a3f5f"
          },
          "geo": {
           "bgcolor": "white",
           "lakecolor": "white",
           "landcolor": "#E5ECF6",
           "showlakes": true,
           "showland": true,
           "subunitcolor": "white"
          },
          "hoverlabel": {
           "align": "left"
          },
          "hovermode": "closest",
          "mapbox": {
           "style": "light"
          },
          "paper_bgcolor": "white",
          "plot_bgcolor": "#E5ECF6",
          "polar": {
           "angularaxis": {
            "gridcolor": "white",
            "linecolor": "white",
            "ticks": ""
           },
           "bgcolor": "#E5ECF6",
           "radialaxis": {
            "gridcolor": "white",
            "linecolor": "white",
            "ticks": ""
           }
          },
          "scene": {
           "xaxis": {
            "backgroundcolor": "#E5ECF6",
            "gridcolor": "white",
            "gridwidth": 2,
            "linecolor": "white",
            "showbackground": true,
            "ticks": "",
            "zerolinecolor": "white"
           },
           "yaxis": {
            "backgroundcolor": "#E5ECF6",
            "gridcolor": "white",
            "gridwidth": 2,
            "linecolor": "white",
            "showbackground": true,
            "ticks": "",
            "zerolinecolor": "white"
           },
           "zaxis": {
            "backgroundcolor": "#E5ECF6",
            "gridcolor": "white",
            "gridwidth": 2,
            "linecolor": "white",
            "showbackground": true,
            "ticks": "",
            "zerolinecolor": "white"
           }
          },
          "shapedefaults": {
           "line": {
            "color": "#2a3f5f"
           }
          },
          "ternary": {
           "aaxis": {
            "gridcolor": "white",
            "linecolor": "white",
            "ticks": ""
           },
           "baxis": {
            "gridcolor": "white",
            "linecolor": "white",
            "ticks": ""
           },
           "bgcolor": "#E5ECF6",
           "caxis": {
            "gridcolor": "white",
            "linecolor": "white",
            "ticks": ""
           }
          },
          "title": {
           "x": 0.05
          },
          "xaxis": {
           "automargin": true,
           "gridcolor": "white",
           "linecolor": "white",
           "ticks": "",
           "title": {
            "standoff": 15
           },
           "zerolinecolor": "white",
           "zerolinewidth": 2
          },
          "yaxis": {
           "automargin": true,
           "gridcolor": "white",
           "linecolor": "white",
           "ticks": "",
           "title": {
            "standoff": 15
           },
           "zerolinecolor": "white",
           "zerolinewidth": 2
          }
         }
        },
        "title": {
         "text": "Contour Plot"
        },
        "xaxis": {
         "range": [
          2.7,
          31.3
         ],
         "title": {
          "text": "max_depth"
         }
        },
        "yaxis": {
         "range": [
          -0.8000000000000003,
          60.8
         ],
         "title": {
          "text": "min_samples_leaf"
         }
        }
       }
      }
     },
     "metadata": {},
     "output_type": "display_data"
    }
   ],
   "source": [
    "optuna.visualization.plot_contour(study)"
   ]
  },
  {
   "cell_type": "code",
   "execution_count": 118,
   "metadata": {},
   "outputs": [
    {
     "data": {
      "application/vnd.plotly.v1+json": {
       "config": {
        "plotlyServerURL": "https://plot.ly"
       },
       "data": [
        {
         "base": [
          "2024-12-27T16:59:06.154332",
          "2024-12-27T16:59:06.155075",
          "2024-12-27T16:59:06.159427",
          "2024-12-27T16:59:06.161011",
          "2024-12-27T16:59:06.159362",
          "2024-12-27T16:59:06.159402",
          "2024-12-27T16:59:06.160886",
          "2024-12-27T16:59:06.157770",
          "2024-12-27T16:59:06.162414",
          "2024-12-27T16:59:06.164588",
          "2024-12-27T16:59:06.157830",
          "2024-12-27T16:59:06.164619",
          "2024-12-27T17:00:14.209027",
          "2024-12-27T17:00:15.615120",
          "2024-12-27T17:00:19.656302",
          "2024-12-27T17:00:20.341762",
          "2024-12-27T17:00:22.832297",
          "2024-12-27T17:00:23.785955",
          "2024-12-27T17:00:24.320090",
          "2024-12-27T17:00:25.925853",
          "2024-12-27T17:00:26.247262",
          "2024-12-27T17:00:27.220564",
          "2024-12-27T17:00:29.243347",
          "2024-12-27T17:00:32.748577",
          "2024-12-27T17:01:15.747875",
          "2024-12-27T17:01:18.207631",
          "2024-12-27T17:01:26.625313",
          "2024-12-27T17:01:28.474828",
          "2024-12-27T17:01:32.078401",
          "2024-12-27T17:01:32.523896",
          "2024-12-27T17:01:36.459530",
          "2024-12-27T17:01:38.894366",
          "2024-12-27T17:01:39.788792",
          "2024-12-27T17:01:41.919956",
          "2024-12-27T17:01:44.284488",
          "2024-12-27T17:01:46.948680",
          "2024-12-27T17:02:08.278195",
          "2024-12-27T17:02:11.095814",
          "2024-12-27T17:02:18.668599",
          "2024-12-27T17:02:22.552923",
          "2024-12-27T17:02:34.527375",
          "2024-12-27T17:02:35.897987",
          "2024-12-27T17:02:37.893529",
          "2024-12-27T17:02:39.555345",
          "2024-12-27T17:02:40.292274",
          "2024-12-27T17:02:40.993420",
          "2024-12-27T17:02:44.302643",
          "2024-12-27T17:02:46.925702",
          "2024-12-27T17:03:10.154642",
          "2024-12-27T17:03:19.099512",
          "2024-12-27T17:03:26.261607",
          "2024-12-27T17:03:35.788593",
          "2024-12-27T17:03:40.722789",
          "2024-12-27T17:03:41.289066",
          "2024-12-27T17:03:42.415399",
          "2024-12-27T17:03:42.772192",
          "2024-12-27T17:03:44.985562",
          "2024-12-27T17:03:45.418627",
          "2024-12-27T17:03:47.573860",
          "2024-12-27T17:03:47.642447",
          "2024-12-27T17:04:21.604350",
          "2024-12-27T17:04:34.472519",
          "2024-12-27T17:04:35.913754",
          "2024-12-27T17:04:40.679578",
          "2024-12-27T17:04:40.773606",
          "2024-12-27T17:04:42.799785",
          "2024-12-27T17:04:43.482548",
          "2024-12-27T17:04:46.191289",
          "2024-12-27T17:04:58.288225",
          "2024-12-27T17:05:01.234644",
          "2024-12-27T17:05:03.150043",
          "2024-12-27T17:05:06.199341",
          "2024-12-27T17:05:35.624995",
          "2024-12-27T17:05:36.497406",
          "2024-12-27T17:05:37.738240",
          "2024-12-27T17:05:41.552989",
          "2024-12-27T17:05:42.671242",
          "2024-12-27T17:05:56.380838",
          "2024-12-27T17:06:01.486757",
          "2024-12-27T17:06:02.905310",
          "2024-12-27T17:06:16.681375",
          "2024-12-27T17:06:20.683607",
          "2024-12-27T17:06:22.632254",
          "2024-12-27T17:06:26.149370",
          "2024-12-27T17:06:47.474764",
          "2024-12-27T17:06:54.693130",
          "2024-12-27T17:06:56.707992",
          "2024-12-27T17:07:00.324186",
          "2024-12-27T17:07:01.759982",
          "2024-12-27T17:07:06.188692",
          "2024-12-27T17:07:14.999691",
          "2024-12-27T17:07:21.011160",
          "2024-12-27T17:07:28.488187",
          "2024-12-27T17:07:32.646962",
          "2024-12-27T17:07:34.786311",
          "2024-12-27T17:07:38.538475",
          "2024-12-27T17:07:49.149425",
          "2024-12-27T17:07:57.503725",
          "2024-12-27T17:07:59.208283",
          "2024-12-27T17:08:03.308544"
         ],
         "hovertemplate": "%{text}<extra>COMPLETE</extra>",
         "marker": {
          "color": "blue"
         },
         "name": "COMPLETE",
         "orientation": "h",
         "text": [
          "{<br>  \"number\": 0,<br>  \"values\": [<br>    0.10606108409503867<br>  ],<br>  \"params\": {<br>    \"max_depth\": 24,<br>    \"min_samples_leaf\": 22<br>  }<br>}",
          "{<br>  \"number\": 1,<br>  \"values\": [<br>    0.1432491194577901<br>  ],<br>  \"params\": {<br>    \"max_depth\": 14,<br>    \"min_samples_leaf\": 8<br>  }<br>}",
          "{<br>  \"number\": 2,<br>  \"values\": [<br>    0.15100575657722634<br>  ],<br>  \"params\": {<br>    \"max_depth\": 16,<br>    \"min_samples_leaf\": 38<br>  }<br>}",
          "{<br>  \"number\": 3,<br>  \"values\": [<br>    0.15475283973959958<br>  ],<br>  \"params\": {<br>    \"max_depth\": 20,<br>    \"min_samples_leaf\": 58<br>  }<br>}",
          "{<br>  \"number\": 4,<br>  \"values\": [<br>    0.16023007837635378<br>  ],<br>  \"params\": {<br>    \"max_depth\": 16,<br>    \"min_samples_leaf\": 46<br>  }<br>}",
          "{<br>  \"number\": 5,<br>  \"values\": [<br>    0.19653885559841838<br>  ],<br>  \"params\": {<br>    \"max_depth\": 10,<br>    \"min_samples_leaf\": 8<br>  }<br>}",
          "{<br>  \"number\": 6,<br>  \"values\": [<br>    0.13975901726077145<br>  ],<br>  \"params\": {<br>    \"max_depth\": 22,<br>    \"min_samples_leaf\": 44<br>  }<br>}",
          "{<br>  \"number\": 7,<br>  \"values\": [<br>    0.19077515479740953<br>  ],<br>  \"params\": {<br>    \"max_depth\": 10,<br>    \"min_samples_leaf\": 6<br>  }<br>}",
          "{<br>  \"number\": 8,<br>  \"values\": [<br>    0.0780953273969462<br>  ],<br>  \"params\": {<br>    \"max_depth\": 30,<br>    \"min_samples_leaf\": 12<br>  }<br>}",
          "{<br>  \"number\": 9,<br>  \"values\": [<br>    0.1703297466253517<br>  ],<br>  \"params\": {<br>    \"max_depth\": 14,<br>    \"min_samples_leaf\": 52<br>  }<br>}",
          "{<br>  \"number\": 10,<br>  \"values\": [<br>    0.1439158341694969<br>  ],<br>  \"params\": {<br>    \"max_depth\": 30,<br>    \"min_samples_leaf\": 50<br>  }<br>}",
          "{<br>  \"number\": 11,<br>  \"values\": [<br>    0.1524711961359103<br>  ],<br>  \"params\": {<br>    \"max_depth\": 24,<br>    \"min_samples_leaf\": 54<br>  }<br>}",
          "{<br>  \"number\": 12,<br>  \"values\": [<br>    0.056727658219363264<br>  ],<br>  \"params\": {<br>    \"max_depth\": 28,<br>    \"min_samples_leaf\": 4<br>  }<br>}",
          "{<br>  \"number\": 13,<br>  \"values\": [<br>    0.15013463047579068<br>  ],<br>  \"params\": {<br>    \"max_depth\": 26,<br>    \"min_samples_leaf\": 54<br>  }<br>}",
          "{<br>  \"number\": 14,<br>  \"values\": [<br>    0.1542000970513051<br>  ],<br>  \"params\": {<br>    \"max_depth\": 16,<br>    \"min_samples_leaf\": 40<br>  }<br>}",
          "{<br>  \"number\": 15,<br>  \"values\": [<br>    0.1245179250473802<br>  ],<br>  \"params\": {<br>    \"max_depth\": 16,<br>    \"min_samples_leaf\": 12<br>  }<br>}",
          "{<br>  \"number\": 16,<br>  \"values\": [<br>    0.14774266401079864<br>  ],<br>  \"params\": {<br>    \"max_depth\": 16,<br>    \"min_samples_leaf\": 32<br>  }<br>}",
          "{<br>  \"number\": 17,<br>  \"values\": [<br>    0.20777480507400928<br>  ],<br>  \"params\": {<br>    \"max_depth\": 8,<br>    \"min_samples_leaf\": 32<br>  }<br>}",
          "{<br>  \"number\": 18,<br>  \"values\": [<br>    0.12037825923930726<br>  ],<br>  \"params\": {<br>    \"max_depth\": 30,<br>    \"min_samples_leaf\": 30<br>  }<br>}",
          "{<br>  \"number\": 19,<br>  \"values\": [<br>    0.2077201681895068<br>  ],<br>  \"params\": {<br>    \"max_depth\": 4,<br>    \"min_samples_leaf\": 2<br>  }<br>}",
          "{<br>  \"number\": 20,<br>  \"values\": [<br>    0.10606108409503867<br>  ],<br>  \"params\": {<br>    \"max_depth\": 24,<br>    \"min_samples_leaf\": 22<br>  }<br>}",
          "{<br>  \"number\": 21,<br>  \"values\": [<br>    0.20807931060963117<br>  ],<br>  \"params\": {<br>    \"max_depth\": 4,<br>    \"min_samples_leaf\": 20<br>  }<br>}",
          "{<br>  \"number\": 22,<br>  \"values\": [<br>    0.21059044869947963<br>  ],<br>  \"params\": {<br>    \"max_depth\": 6,<br>    \"min_samples_leaf\": 2<br>  }<br>}",
          "{<br>  \"number\": 23,<br>  \"values\": [<br>    0.21059044869947963<br>  ],<br>  \"params\": {<br>    \"max_depth\": 6,<br>    \"min_samples_leaf\": 2<br>  }<br>}",
          "{<br>  \"number\": 24,<br>  \"values\": [<br>    0.20807931060963117<br>  ],<br>  \"params\": {<br>    \"max_depth\": 4,<br>    \"min_samples_leaf\": 20<br>  }<br>}",
          "{<br>  \"number\": 25,<br>  \"values\": [<br>    0.20807931060963117<br>  ],<br>  \"params\": {<br>    \"max_depth\": 4,<br>    \"min_samples_leaf\": 20<br>  }<br>}",
          "{<br>  \"number\": 26,<br>  \"values\": [<br>    0.20807931060963117<br>  ],<br>  \"params\": {<br>    \"max_depth\": 4,<br>    \"min_samples_leaf\": 20<br>  }<br>}",
          "{<br>  \"number\": 27,<br>  \"values\": [<br>    0.20807931060963117<br>  ],<br>  \"params\": {<br>    \"max_depth\": 4,<br>    \"min_samples_leaf\": 20<br>  }<br>}",
          "{<br>  \"number\": 28,<br>  \"values\": [<br>    0.20682542410720378<br>  ],<br>  \"params\": {<br>    \"max_depth\": 8,<br>    \"min_samples_leaf\": 18<br>  }<br>}",
          "{<br>  \"number\": 29,<br>  \"values\": [<br>    0.20682542410720378<br>  ],<br>  \"params\": {<br>    \"max_depth\": 8,<br>    \"min_samples_leaf\": 18<br>  }<br>}",
          "{<br>  \"number\": 30,<br>  \"values\": [<br>    0.20799508589437435<br>  ],<br>  \"params\": {<br>    \"max_depth\": 8,<br>    \"min_samples_leaf\": 16<br>  }<br>}",
          "{<br>  \"number\": 31,<br>  \"values\": [<br>    0.20709289188332955<br>  ],<br>  \"params\": {<br>    \"max_depth\": 8,<br>    \"min_samples_leaf\": 20<br>  }<br>}",
          "{<br>  \"number\": 32,<br>  \"values\": [<br>    0.20807931060963117<br>  ],<br>  \"params\": {<br>    \"max_depth\": 4,<br>    \"min_samples_leaf\": 20<br>  }<br>}",
          "{<br>  \"number\": 33,<br>  \"values\": [<br>    0.20807931060963117<br>  ],<br>  \"params\": {<br>    \"max_depth\": 4,<br>    \"min_samples_leaf\": 20<br>  }<br>}",
          "{<br>  \"number\": 34,<br>  \"values\": [<br>    0.20807931060963117<br>  ],<br>  \"params\": {<br>    \"max_depth\": 4,<br>    \"min_samples_leaf\": 20<br>  }<br>}",
          "{<br>  \"number\": 35,<br>  \"values\": [<br>    0.20831437287548207<br>  ],<br>  \"params\": {<br>    \"max_depth\": 4,<br>    \"min_samples_leaf\": 18<br>  }<br>}",
          "{<br>  \"number\": 36,<br>  \"values\": [<br>    0.2115719298785394<br>  ],<br>  \"params\": {<br>    \"max_depth\": 6,<br>    \"min_samples_leaf\": 16<br>  }<br>}",
          "{<br>  \"number\": 37,<br>  \"values\": [<br>    0.2071096947861128<br>  ],<br>  \"params\": {<br>    \"max_depth\": 8,<br>    \"min_samples_leaf\": 14<br>  }<br>}",
          "{<br>  \"number\": 38,<br>  \"values\": [<br>    0.2071096947861128<br>  ],<br>  \"params\": {<br>    \"max_depth\": 8,<br>    \"min_samples_leaf\": 14<br>  }<br>}",
          "{<br>  \"number\": 39,<br>  \"values\": [<br>    0.19265706298516408<br>  ],<br>  \"params\": {<br>    \"max_depth\": 10,<br>    \"min_samples_leaf\": 14<br>  }<br>}",
          "{<br>  \"number\": 40,<br>  \"values\": [<br>    0.2071096947861128<br>  ],<br>  \"params\": {<br>    \"max_depth\": 8,<br>    \"min_samples_leaf\": 14<br>  }<br>}",
          "{<br>  \"number\": 41,<br>  \"values\": [<br>    0.2071096947861128<br>  ],<br>  \"params\": {<br>    \"max_depth\": 8,<br>    \"min_samples_leaf\": 14<br>  }<br>}",
          "{<br>  \"number\": 42,<br>  \"values\": [<br>    0.2071096947861128<br>  ],<br>  \"params\": {<br>    \"max_depth\": 8,<br>    \"min_samples_leaf\": 14<br>  }<br>}",
          "{<br>  \"number\": 43,<br>  \"values\": [<br>    0.2071096947861128<br>  ],<br>  \"params\": {<br>    \"max_depth\": 8,<br>    \"min_samples_leaf\": 14<br>  }<br>}",
          "{<br>  \"number\": 44,<br>  \"values\": [<br>    0.21154933196964576<br>  ],<br>  \"params\": {<br>    \"max_depth\": 6,<br>    \"min_samples_leaf\": 12<br>  }<br>}",
          "{<br>  \"number\": 45,<br>  \"values\": [<br>    0.21154933196964576<br>  ],<br>  \"params\": {<br>    \"max_depth\": 6,<br>    \"min_samples_leaf\": 12<br>  }<br>}",
          "{<br>  \"number\": 46,<br>  \"values\": [<br>    0.2110564821690716<br>  ],<br>  \"params\": {<br>    \"max_depth\": 6,<br>    \"min_samples_leaf\": 28<br>  }<br>}",
          "{<br>  \"number\": 47,<br>  \"values\": [<br>    0.21108435371372022<br>  ],<br>  \"params\": {<br>    \"max_depth\": 6,<br>    \"min_samples_leaf\": 26<br>  }<br>}",
          "{<br>  \"number\": 48,<br>  \"values\": [<br>    0.19469780895951122<br>  ],<br>  \"params\": {<br>    \"max_depth\": 10,<br>    \"min_samples_leaf\": 26<br>  }<br>}",
          "{<br>  \"number\": 49,<br>  \"values\": [<br>    0.17555159513680588<br>  ],<br>  \"params\": {<br>    \"max_depth\": 12,<br>    \"min_samples_leaf\": 26<br>  }<br>}",
          "{<br>  \"number\": 50,<br>  \"values\": [<br>    0.17788182376455883<br>  ],<br>  \"params\": {<br>    \"max_depth\": 12,<br>    \"min_samples_leaf\": 28<br>  }<br>}",
          "{<br>  \"number\": 51,<br>  \"values\": [<br>    0.21108435371372022<br>  ],<br>  \"params\": {<br>    \"max_depth\": 6,<br>    \"min_samples_leaf\": 26<br>  }<br>}",
          "{<br>  \"number\": 52,<br>  \"values\": [<br>    0.21108435371372022<br>  ],<br>  \"params\": {<br>    \"max_depth\": 6,<br>    \"min_samples_leaf\": 26<br>  }<br>}",
          "{<br>  \"number\": 53,<br>  \"values\": [<br>    0.21058219094766387<br>  ],<br>  \"params\": {<br>    \"max_depth\": 6,<br>    \"min_samples_leaf\": 8<br>  }<br>}",
          "{<br>  \"number\": 54,<br>  \"values\": [<br>    0.21058219094766387<br>  ],<br>  \"params\": {<br>    \"max_depth\": 6,<br>    \"min_samples_leaf\": 8<br>  }<br>}",
          "{<br>  \"number\": 55,<br>  \"values\": [<br>    0.17054676621123813<br>  ],<br>  \"params\": {<br>    \"max_depth\": 12,<br>    \"min_samples_leaf\": 6<br>  }<br>}",
          "{<br>  \"number\": 56,<br>  \"values\": [<br>    0.21058219094766387<br>  ],<br>  \"params\": {<br>    \"max_depth\": 6,<br>    \"min_samples_leaf\": 8<br>  }<br>}",
          "{<br>  \"number\": 57,<br>  \"values\": [<br>    0.16851177924364386<br>  ],<br>  \"params\": {<br>    \"max_depth\": 12,<br>    \"min_samples_leaf\": 8<br>  }<br>}",
          "{<br>  \"number\": 58,<br>  \"values\": [<br>    0.17555159513680588<br>  ],<br>  \"params\": {<br>    \"max_depth\": 12,<br>    \"min_samples_leaf\": 26<br>  }<br>}",
          "{<br>  \"number\": 59,<br>  \"values\": [<br>    0.15680450404715665<br>  ],<br>  \"params\": {<br>    \"max_depth\": 14,<br>    \"min_samples_leaf\": 26<br>  }<br>}",
          "{<br>  \"number\": 60,<br>  \"values\": [<br>    0.16851177924364386<br>  ],<br>  \"params\": {<br>    \"max_depth\": 12,<br>    \"min_samples_leaf\": 8<br>  }<br>}",
          "{<br>  \"number\": 61,<br>  \"values\": [<br>    0.21058219094766387<br>  ],<br>  \"params\": {<br>    \"max_depth\": 6,<br>    \"min_samples_leaf\": 8<br>  }<br>}",
          "{<br>  \"number\": 62,<br>  \"values\": [<br>    0.21058219094766387<br>  ],<br>  \"params\": {<br>    \"max_depth\": 6,<br>    \"min_samples_leaf\": 8<br>  }<br>}",
          "{<br>  \"number\": 63,<br>  \"values\": [<br>    0.21194326155895649<br>  ],<br>  \"params\": {<br>    \"max_depth\": 6,<br>    \"min_samples_leaf\": 10<br>  }<br>}",
          "{<br>  \"number\": 64,<br>  \"values\": [<br>    0.21194326155895649<br>  ],<br>  \"params\": {<br>    \"max_depth\": 6,<br>    \"min_samples_leaf\": 10<br>  }<br>}",
          "{<br>  \"number\": 65,<br>  \"values\": [<br>    0.13026477860493912<br>  ],<br>  \"params\": {<br>    \"max_depth\": 20,<br>    \"min_samples_leaf\": 34<br>  }<br>}",
          "{<br>  \"number\": 66,<br>  \"values\": [<br>    0.17767214704345863<br>  ],<br>  \"params\": {<br>    \"max_depth\": 12,<br>    \"min_samples_leaf\": 36<br>  }<br>}",
          "{<br>  \"number\": 67,<br>  \"values\": [<br>    0.18142924829529314<br>  ],<br>  \"params\": {<br>    \"max_depth\": 12,<br>    \"min_samples_leaf\": 34<br>  }<br>}",
          "{<br>  \"number\": 68,<br>  \"values\": [<br>    0.13431752687362772<br>  ],<br>  \"params\": {<br>    \"max_depth\": 18,<br>    \"min_samples_leaf\": 36<br>  }<br>}",
          "{<br>  \"number\": 69,<br>  \"values\": [<br>    0.1338330104391915<br>  ],<br>  \"params\": {<br>    \"max_depth\": 20,<br>    \"min_samples_leaf\": 36<br>  }<br>}",
          "{<br>  \"number\": 70,<br>  \"values\": [<br>    0.13431752687362772<br>  ],<br>  \"params\": {<br>    \"max_depth\": 18,<br>    \"min_samples_leaf\": 36<br>  }<br>}",
          "{<br>  \"number\": 71,<br>  \"values\": [<br>    0.13026477860493912<br>  ],<br>  \"params\": {<br>    \"max_depth\": 20,<br>    \"min_samples_leaf\": 34<br>  }<br>}",
          "{<br>  \"number\": 72,<br>  \"values\": [<br>    0.13431752687362772<br>  ],<br>  \"params\": {<br>    \"max_depth\": 18,<br>    \"min_samples_leaf\": 36<br>  }<br>}",
          "{<br>  \"number\": 73,<br>  \"values\": [<br>    0.1338330104391915<br>  ],<br>  \"params\": {<br>    \"max_depth\": 20,<br>    \"min_samples_leaf\": 36<br>  }<br>}",
          "{<br>  \"number\": 74,<br>  \"values\": [<br>    0.19971702789659523<br>  ],<br>  \"params\": {<br>    \"max_depth\": 10,<br>    \"min_samples_leaf\": 40<br>  }<br>}",
          "{<br>  \"number\": 75,<br>  \"values\": [<br>    0.13026477860493912<br>  ],<br>  \"params\": {<br>    \"max_depth\": 20,<br>    \"min_samples_leaf\": 34<br>  }<br>}",
          "{<br>  \"number\": 76,<br>  \"values\": [<br>    0.1338330104391915<br>  ],<br>  \"params\": {<br>    \"max_depth\": 20,<br>    \"min_samples_leaf\": 36<br>  }<br>}",
          "{<br>  \"number\": 77,<br>  \"values\": [<br>    0.19386514757968745<br>  ],<br>  \"params\": {<br>    \"max_depth\": 10,<br>    \"min_samples_leaf\": 10<br>  }<br>}",
          "{<br>  \"number\": 78,<br>  \"values\": [<br>    0.14236570608238547<br>  ],<br>  \"params\": {<br>    \"max_depth\": 18,<br>    \"min_samples_leaf\": 42<br>  }<br>}",
          "{<br>  \"number\": 79,<br>  \"values\": [<br>    0.19386514757968745<br>  ],<br>  \"params\": {<br>    \"max_depth\": 10,<br>    \"min_samples_leaf\": 10<br>  }<br>}",
          "{<br>  \"number\": 80,<br>  \"values\": [<br>    0.19386514757968745<br>  ],<br>  \"params\": {<br>    \"max_depth\": 10,<br>    \"min_samples_leaf\": 10<br>  }<br>}",
          "{<br>  \"number\": 81,<br>  \"values\": [<br>    0.19386514757968745<br>  ],<br>  \"params\": {<br>    \"max_depth\": 10,<br>    \"min_samples_leaf\": 10<br>  }<br>}",
          "{<br>  \"number\": 82,<br>  \"values\": [<br>    0.19386514757968745<br>  ],<br>  \"params\": {<br>    \"max_depth\": 10,<br>    \"min_samples_leaf\": 10<br>  }<br>}",
          "{<br>  \"number\": 83,<br>  \"values\": [<br>    0.19386514757968745<br>  ],<br>  \"params\": {<br>    \"max_depth\": 10,<br>    \"min_samples_leaf\": 10<br>  }<br>}",
          "{<br>  \"number\": 84,<br>  \"values\": [<br>    0.21194326155895649<br>  ],<br>  \"params\": {<br>    \"max_depth\": 6,<br>    \"min_samples_leaf\": 10<br>  }<br>}",
          "{<br>  \"number\": 85,<br>  \"values\": [<br>    0.21194326155895649<br>  ],<br>  \"params\": {<br>    \"max_depth\": 6,<br>    \"min_samples_leaf\": 10<br>  }<br>}",
          "{<br>  \"number\": 86,<br>  \"values\": [<br>    0.21194326155895649<br>  ],<br>  \"params\": {<br>    \"max_depth\": 6,<br>    \"min_samples_leaf\": 10<br>  }<br>}",
          "{<br>  \"number\": 87,<br>  \"values\": [<br>    0.21194326155895649<br>  ],<br>  \"params\": {<br>    \"max_depth\": 6,<br>    \"min_samples_leaf\": 10<br>  }<br>}",
          "{<br>  \"number\": 88,<br>  \"values\": [<br>    0.21194326155895649<br>  ],<br>  \"params\": {<br>    \"max_depth\": 6,<br>    \"min_samples_leaf\": 10<br>  }<br>}",
          "{<br>  \"number\": 89,<br>  \"values\": [<br>    0.2130904005882733<br>  ],<br>  \"params\": {<br>    \"max_depth\": 6,<br>    \"min_samples_leaf\": 24<br>  }<br>}",
          "{<br>  \"number\": 90,<br>  \"values\": [<br>    0.20933596220345682<br>  ],<br>  \"params\": {<br>    \"max_depth\": 6,<br>    \"min_samples_leaf\": 4<br>  }<br>}",
          "{<br>  \"number\": 91,<br>  \"values\": [<br>    0.21152708794473715<br>  ],<br>  \"params\": {<br>    \"max_depth\": 6,<br>    \"min_samples_leaf\": 22<br>  }<br>}",
          "{<br>  \"number\": 92,<br>  \"values\": [<br>    0.2094360621854669<br>  ],<br>  \"params\": {<br>    \"max_depth\": 6,<br>    \"min_samples_leaf\": 30<br>  }<br>}",
          "{<br>  \"number\": 93,<br>  \"values\": [<br>    0.2130904005882733<br>  ],<br>  \"params\": {<br>    \"max_depth\": 6,<br>    \"min_samples_leaf\": 24<br>  }<br>}",
          "{<br>  \"number\": 94,<br>  \"values\": [<br>    0.2130904005882733<br>  ],<br>  \"params\": {<br>    \"max_depth\": 6,<br>    \"min_samples_leaf\": 24<br>  }<br>}",
          "{<br>  \"number\": 95,<br>  \"values\": [<br>    0.2130904005882733<br>  ],<br>  \"params\": {<br>    \"max_depth\": 6,<br>    \"min_samples_leaf\": 24<br>  }<br>}",
          "{<br>  \"number\": 96,<br>  \"values\": [<br>    0.2130904005882733<br>  ],<br>  \"params\": {<br>    \"max_depth\": 6,<br>    \"min_samples_leaf\": 24<br>  }<br>}",
          "{<br>  \"number\": 97,<br>  \"values\": [<br>    0.20933596220345682<br>  ],<br>  \"params\": {<br>    \"max_depth\": 6,<br>    \"min_samples_leaf\": 4<br>  }<br>}",
          "{<br>  \"number\": 98,<br>  \"values\": [<br>    0.20797754307608277<br>  ],<br>  \"params\": {<br>    \"max_depth\": 4,<br>    \"min_samples_leaf\": 4<br>  }<br>}",
          "{<br>  \"number\": 99,<br>  \"values\": [<br>    0.20797754307608277<br>  ],<br>  \"params\": {<br>    \"max_depth\": 4,<br>    \"min_samples_leaf\": 4<br>  }<br>}"
         ],
         "textposition": "none",
         "type": "bar",
         "x": [
          83086.212,
          76673.636,
          73493.912,
          78151.148,
          77623.026,
          68042.023,
          81051.66,
          69450.777,
          86582.176,
          74169.492,
          80086.016,
          79756.419,
          87706.92,
          76905.46500000001,
          76794.87000000001,
          78549.678,
          76952.508,
          64682.751,
          79957.792,
          49815.583,
          80696.47600000001,
          50982.292,
          57378.822,
          59325.924,
          52526.873,
          52883.329000000005,
          52038.184,
          54069.776,
          67469.59599999999,
          67764.016,
          67840.17,
          68019.751,
          54732.45,
          53970.404,
          53605.519,
          54034.475999999995,
          61872.345,
          67994.51500000001,
          67582.971,
          73231.712,
          66192.146,
          66869.129,
          67087.63100000001,
          68066.429,
          60990.792,
          61413.528,
          61112.763,
          60643.371,
          71440.52,
          75360.742,
          74502.268,
          60120.267,
          59942.163,
          61502.865999999995,
          61060.177,
          75512.34700000001,
          61200.206,
          75808.135,
          75572.833,
          78547.171,
          76118.045,
          61147.146,
          60580.826,
          61980.304,
          60772.97,
          80097.644,
          72893.392,
          75292.75300000001,
          78385.522,
          79439.277,
          79473.102,
          79945.86700000001,
          79063.865,
          80207.284,
          69728.255,
          78764.022,
          79084.596,
          69802.952,
          79515.827,
          72082.427,
          71801.394,
          71958.896,
          72150.29400000001,
          72385.843,
          61669.738000000005,
          62803.002,
          62490.043999999994,
          62978.789,
          63002.192,
          62006.635,
          61000.64,
          60864.545,
          57536.645,
          56073.691,
          55539.824,
          53227.382,
          47222.734000000004,
          42090.169,
          36938.012,
          34575.618
         ],
         "y": [
          0,
          1,
          2,
          3,
          4,
          5,
          6,
          7,
          8,
          9,
          10,
          11,
          12,
          13,
          14,
          15,
          16,
          17,
          18,
          19,
          20,
          21,
          22,
          23,
          24,
          25,
          26,
          27,
          28,
          29,
          30,
          31,
          32,
          33,
          34,
          35,
          36,
          37,
          38,
          39,
          40,
          41,
          42,
          43,
          44,
          45,
          46,
          47,
          48,
          49,
          50,
          51,
          52,
          53,
          54,
          55,
          56,
          57,
          58,
          59,
          60,
          61,
          62,
          63,
          64,
          65,
          66,
          67,
          68,
          69,
          70,
          71,
          72,
          73,
          74,
          75,
          76,
          77,
          78,
          79,
          80,
          81,
          82,
          83,
          84,
          85,
          86,
          87,
          88,
          89,
          90,
          91,
          92,
          93,
          94,
          95,
          96,
          97,
          98,
          99
         ]
        }
       ],
       "layout": {
        "showlegend": true,
        "template": {
         "data": {
          "bar": [
           {
            "error_x": {
             "color": "#2a3f5f"
            },
            "error_y": {
             "color": "#2a3f5f"
            },
            "marker": {
             "line": {
              "color": "#E5ECF6",
              "width": 0.5
             },
             "pattern": {
              "fillmode": "overlay",
              "size": 10,
              "solidity": 0.2
             }
            },
            "type": "bar"
           }
          ],
          "barpolar": [
           {
            "marker": {
             "line": {
              "color": "#E5ECF6",
              "width": 0.5
             },
             "pattern": {
              "fillmode": "overlay",
              "size": 10,
              "solidity": 0.2
             }
            },
            "type": "barpolar"
           }
          ],
          "carpet": [
           {
            "aaxis": {
             "endlinecolor": "#2a3f5f",
             "gridcolor": "white",
             "linecolor": "white",
             "minorgridcolor": "white",
             "startlinecolor": "#2a3f5f"
            },
            "baxis": {
             "endlinecolor": "#2a3f5f",
             "gridcolor": "white",
             "linecolor": "white",
             "minorgridcolor": "white",
             "startlinecolor": "#2a3f5f"
            },
            "type": "carpet"
           }
          ],
          "choropleth": [
           {
            "colorbar": {
             "outlinewidth": 0,
             "ticks": ""
            },
            "type": "choropleth"
           }
          ],
          "contour": [
           {
            "colorbar": {
             "outlinewidth": 0,
             "ticks": ""
            },
            "colorscale": [
             [
              0,
              "#0d0887"
             ],
             [
              0.1111111111111111,
              "#46039f"
             ],
             [
              0.2222222222222222,
              "#7201a8"
             ],
             [
              0.3333333333333333,
              "#9c179e"
             ],
             [
              0.4444444444444444,
              "#bd3786"
             ],
             [
              0.5555555555555556,
              "#d8576b"
             ],
             [
              0.6666666666666666,
              "#ed7953"
             ],
             [
              0.7777777777777778,
              "#fb9f3a"
             ],
             [
              0.8888888888888888,
              "#fdca26"
             ],
             [
              1,
              "#f0f921"
             ]
            ],
            "type": "contour"
           }
          ],
          "contourcarpet": [
           {
            "colorbar": {
             "outlinewidth": 0,
             "ticks": ""
            },
            "type": "contourcarpet"
           }
          ],
          "heatmap": [
           {
            "colorbar": {
             "outlinewidth": 0,
             "ticks": ""
            },
            "colorscale": [
             [
              0,
              "#0d0887"
             ],
             [
              0.1111111111111111,
              "#46039f"
             ],
             [
              0.2222222222222222,
              "#7201a8"
             ],
             [
              0.3333333333333333,
              "#9c179e"
             ],
             [
              0.4444444444444444,
              "#bd3786"
             ],
             [
              0.5555555555555556,
              "#d8576b"
             ],
             [
              0.6666666666666666,
              "#ed7953"
             ],
             [
              0.7777777777777778,
              "#fb9f3a"
             ],
             [
              0.8888888888888888,
              "#fdca26"
             ],
             [
              1,
              "#f0f921"
             ]
            ],
            "type": "heatmap"
           }
          ],
          "heatmapgl": [
           {
            "colorbar": {
             "outlinewidth": 0,
             "ticks": ""
            },
            "colorscale": [
             [
              0,
              "#0d0887"
             ],
             [
              0.1111111111111111,
              "#46039f"
             ],
             [
              0.2222222222222222,
              "#7201a8"
             ],
             [
              0.3333333333333333,
              "#9c179e"
             ],
             [
              0.4444444444444444,
              "#bd3786"
             ],
             [
              0.5555555555555556,
              "#d8576b"
             ],
             [
              0.6666666666666666,
              "#ed7953"
             ],
             [
              0.7777777777777778,
              "#fb9f3a"
             ],
             [
              0.8888888888888888,
              "#fdca26"
             ],
             [
              1,
              "#f0f921"
             ]
            ],
            "type": "heatmapgl"
           }
          ],
          "histogram": [
           {
            "marker": {
             "pattern": {
              "fillmode": "overlay",
              "size": 10,
              "solidity": 0.2
             }
            },
            "type": "histogram"
           }
          ],
          "histogram2d": [
           {
            "colorbar": {
             "outlinewidth": 0,
             "ticks": ""
            },
            "colorscale": [
             [
              0,
              "#0d0887"
             ],
             [
              0.1111111111111111,
              "#46039f"
             ],
             [
              0.2222222222222222,
              "#7201a8"
             ],
             [
              0.3333333333333333,
              "#9c179e"
             ],
             [
              0.4444444444444444,
              "#bd3786"
             ],
             [
              0.5555555555555556,
              "#d8576b"
             ],
             [
              0.6666666666666666,
              "#ed7953"
             ],
             [
              0.7777777777777778,
              "#fb9f3a"
             ],
             [
              0.8888888888888888,
              "#fdca26"
             ],
             [
              1,
              "#f0f921"
             ]
            ],
            "type": "histogram2d"
           }
          ],
          "histogram2dcontour": [
           {
            "colorbar": {
             "outlinewidth": 0,
             "ticks": ""
            },
            "colorscale": [
             [
              0,
              "#0d0887"
             ],
             [
              0.1111111111111111,
              "#46039f"
             ],
             [
              0.2222222222222222,
              "#7201a8"
             ],
             [
              0.3333333333333333,
              "#9c179e"
             ],
             [
              0.4444444444444444,
              "#bd3786"
             ],
             [
              0.5555555555555556,
              "#d8576b"
             ],
             [
              0.6666666666666666,
              "#ed7953"
             ],
             [
              0.7777777777777778,
              "#fb9f3a"
             ],
             [
              0.8888888888888888,
              "#fdca26"
             ],
             [
              1,
              "#f0f921"
             ]
            ],
            "type": "histogram2dcontour"
           }
          ],
          "mesh3d": [
           {
            "colorbar": {
             "outlinewidth": 0,
             "ticks": ""
            },
            "type": "mesh3d"
           }
          ],
          "parcoords": [
           {
            "line": {
             "colorbar": {
              "outlinewidth": 0,
              "ticks": ""
             }
            },
            "type": "parcoords"
           }
          ],
          "pie": [
           {
            "automargin": true,
            "type": "pie"
           }
          ],
          "scatter": [
           {
            "fillpattern": {
             "fillmode": "overlay",
             "size": 10,
             "solidity": 0.2
            },
            "type": "scatter"
           }
          ],
          "scatter3d": [
           {
            "line": {
             "colorbar": {
              "outlinewidth": 0,
              "ticks": ""
             }
            },
            "marker": {
             "colorbar": {
              "outlinewidth": 0,
              "ticks": ""
             }
            },
            "type": "scatter3d"
           }
          ],
          "scattercarpet": [
           {
            "marker": {
             "colorbar": {
              "outlinewidth": 0,
              "ticks": ""
             }
            },
            "type": "scattercarpet"
           }
          ],
          "scattergeo": [
           {
            "marker": {
             "colorbar": {
              "outlinewidth": 0,
              "ticks": ""
             }
            },
            "type": "scattergeo"
           }
          ],
          "scattergl": [
           {
            "marker": {
             "colorbar": {
              "outlinewidth": 0,
              "ticks": ""
             }
            },
            "type": "scattergl"
           }
          ],
          "scattermapbox": [
           {
            "marker": {
             "colorbar": {
              "outlinewidth": 0,
              "ticks": ""
             }
            },
            "type": "scattermapbox"
           }
          ],
          "scatterpolar": [
           {
            "marker": {
             "colorbar": {
              "outlinewidth": 0,
              "ticks": ""
             }
            },
            "type": "scatterpolar"
           }
          ],
          "scatterpolargl": [
           {
            "marker": {
             "colorbar": {
              "outlinewidth": 0,
              "ticks": ""
             }
            },
            "type": "scatterpolargl"
           }
          ],
          "scatterternary": [
           {
            "marker": {
             "colorbar": {
              "outlinewidth": 0,
              "ticks": ""
             }
            },
            "type": "scatterternary"
           }
          ],
          "surface": [
           {
            "colorbar": {
             "outlinewidth": 0,
             "ticks": ""
            },
            "colorscale": [
             [
              0,
              "#0d0887"
             ],
             [
              0.1111111111111111,
              "#46039f"
             ],
             [
              0.2222222222222222,
              "#7201a8"
             ],
             [
              0.3333333333333333,
              "#9c179e"
             ],
             [
              0.4444444444444444,
              "#bd3786"
             ],
             [
              0.5555555555555556,
              "#d8576b"
             ],
             [
              0.6666666666666666,
              "#ed7953"
             ],
             [
              0.7777777777777778,
              "#fb9f3a"
             ],
             [
              0.8888888888888888,
              "#fdca26"
             ],
             [
              1,
              "#f0f921"
             ]
            ],
            "type": "surface"
           }
          ],
          "table": [
           {
            "cells": {
             "fill": {
              "color": "#EBF0F8"
             },
             "line": {
              "color": "white"
             }
            },
            "header": {
             "fill": {
              "color": "#C8D4E3"
             },
             "line": {
              "color": "white"
             }
            },
            "type": "table"
           }
          ]
         },
         "layout": {
          "annotationdefaults": {
           "arrowcolor": "#2a3f5f",
           "arrowhead": 0,
           "arrowwidth": 1
          },
          "autotypenumbers": "strict",
          "coloraxis": {
           "colorbar": {
            "outlinewidth": 0,
            "ticks": ""
           }
          },
          "colorscale": {
           "diverging": [
            [
             0,
             "#8e0152"
            ],
            [
             0.1,
             "#c51b7d"
            ],
            [
             0.2,
             "#de77ae"
            ],
            [
             0.3,
             "#f1b6da"
            ],
            [
             0.4,
             "#fde0ef"
            ],
            [
             0.5,
             "#f7f7f7"
            ],
            [
             0.6,
             "#e6f5d0"
            ],
            [
             0.7,
             "#b8e186"
            ],
            [
             0.8,
             "#7fbc41"
            ],
            [
             0.9,
             "#4d9221"
            ],
            [
             1,
             "#276419"
            ]
           ],
           "sequential": [
            [
             0,
             "#0d0887"
            ],
            [
             0.1111111111111111,
             "#46039f"
            ],
            [
             0.2222222222222222,
             "#7201a8"
            ],
            [
             0.3333333333333333,
             "#9c179e"
            ],
            [
             0.4444444444444444,
             "#bd3786"
            ],
            [
             0.5555555555555556,
             "#d8576b"
            ],
            [
             0.6666666666666666,
             "#ed7953"
            ],
            [
             0.7777777777777778,
             "#fb9f3a"
            ],
            [
             0.8888888888888888,
             "#fdca26"
            ],
            [
             1,
             "#f0f921"
            ]
           ],
           "sequentialminus": [
            [
             0,
             "#0d0887"
            ],
            [
             0.1111111111111111,
             "#46039f"
            ],
            [
             0.2222222222222222,
             "#7201a8"
            ],
            [
             0.3333333333333333,
             "#9c179e"
            ],
            [
             0.4444444444444444,
             "#bd3786"
            ],
            [
             0.5555555555555556,
             "#d8576b"
            ],
            [
             0.6666666666666666,
             "#ed7953"
            ],
            [
             0.7777777777777778,
             "#fb9f3a"
            ],
            [
             0.8888888888888888,
             "#fdca26"
            ],
            [
             1,
             "#f0f921"
            ]
           ]
          },
          "colorway": [
           "#636efa",
           "#EF553B",
           "#00cc96",
           "#ab63fa",
           "#FFA15A",
           "#19d3f3",
           "#FF6692",
           "#B6E880",
           "#FF97FF",
           "#FECB52"
          ],
          "font": {
           "color": "#2a3f5f"
          },
          "geo": {
           "bgcolor": "white",
           "lakecolor": "white",
           "landcolor": "#E5ECF6",
           "showlakes": true,
           "showland": true,
           "subunitcolor": "white"
          },
          "hoverlabel": {
           "align": "left"
          },
          "hovermode": "closest",
          "mapbox": {
           "style": "light"
          },
          "paper_bgcolor": "white",
          "plot_bgcolor": "#E5ECF6",
          "polar": {
           "angularaxis": {
            "gridcolor": "white",
            "linecolor": "white",
            "ticks": ""
           },
           "bgcolor": "#E5ECF6",
           "radialaxis": {
            "gridcolor": "white",
            "linecolor": "white",
            "ticks": ""
           }
          },
          "scene": {
           "xaxis": {
            "backgroundcolor": "#E5ECF6",
            "gridcolor": "white",
            "gridwidth": 2,
            "linecolor": "white",
            "showbackground": true,
            "ticks": "",
            "zerolinecolor": "white"
           },
           "yaxis": {
            "backgroundcolor": "#E5ECF6",
            "gridcolor": "white",
            "gridwidth": 2,
            "linecolor": "white",
            "showbackground": true,
            "ticks": "",
            "zerolinecolor": "white"
           },
           "zaxis": {
            "backgroundcolor": "#E5ECF6",
            "gridcolor": "white",
            "gridwidth": 2,
            "linecolor": "white",
            "showbackground": true,
            "ticks": "",
            "zerolinecolor": "white"
           }
          },
          "shapedefaults": {
           "line": {
            "color": "#2a3f5f"
           }
          },
          "ternary": {
           "aaxis": {
            "gridcolor": "white",
            "linecolor": "white",
            "ticks": ""
           },
           "baxis": {
            "gridcolor": "white",
            "linecolor": "white",
            "ticks": ""
           },
           "bgcolor": "#E5ECF6",
           "caxis": {
            "gridcolor": "white",
            "linecolor": "white",
            "ticks": ""
           }
          },
          "title": {
           "x": 0.05
          },
          "xaxis": {
           "automargin": true,
           "gridcolor": "white",
           "linecolor": "white",
           "ticks": "",
           "title": {
            "standoff": 15
           },
           "zerolinecolor": "white",
           "zerolinewidth": 2
          },
          "yaxis": {
           "automargin": true,
           "gridcolor": "white",
           "linecolor": "white",
           "ticks": "",
           "title": {
            "standoff": 15
           },
           "zerolinecolor": "white",
           "zerolinewidth": 2
          }
         }
        },
        "title": {
         "text": "Timeline Plot"
        },
        "xaxis": {
         "title": {
          "text": "Datetime"
         },
         "type": "date"
        },
        "yaxis": {
         "title": {
          "text": "Trial"
         }
        }
       }
      }
     },
     "metadata": {},
     "output_type": "display_data"
    }
   ],
   "source": [
    "optuna.visualization.plot_timeline(study)"
   ]
  },
  {
   "cell_type": "markdown",
   "metadata": {},
   "source": [
    "### 4.4 Fitting Best Model\n",
    "Fitting the final model using the best hyper-parameters found by Optuna."
   ]
  },
  {
   "cell_type": "code",
   "execution_count": 119,
   "metadata": {},
   "outputs": [
    {
     "data": {
      "text/html": [
       "<style>#sk-container-id-7 {\n",
       "  /* Definition of color scheme common for light and dark mode */\n",
       "  --sklearn-color-text: black;\n",
       "  --sklearn-color-line: gray;\n",
       "  /* Definition of color scheme for unfitted estimators */\n",
       "  --sklearn-color-unfitted-level-0: #fff5e6;\n",
       "  --sklearn-color-unfitted-level-1: #f6e4d2;\n",
       "  --sklearn-color-unfitted-level-2: #ffe0b3;\n",
       "  --sklearn-color-unfitted-level-3: chocolate;\n",
       "  /* Definition of color scheme for fitted estimators */\n",
       "  --sklearn-color-fitted-level-0: #f0f8ff;\n",
       "  --sklearn-color-fitted-level-1: #d4ebff;\n",
       "  --sklearn-color-fitted-level-2: #b3dbfd;\n",
       "  --sklearn-color-fitted-level-3: cornflowerblue;\n",
       "\n",
       "  /* Specific color for light theme */\n",
       "  --sklearn-color-text-on-default-background: var(--sg-text-color, var(--theme-code-foreground, var(--jp-content-font-color1, black)));\n",
       "  --sklearn-color-background: var(--sg-background-color, var(--theme-background, var(--jp-layout-color0, white)));\n",
       "  --sklearn-color-border-box: var(--sg-text-color, var(--theme-code-foreground, var(--jp-content-font-color1, black)));\n",
       "  --sklearn-color-icon: #696969;\n",
       "\n",
       "  @media (prefers-color-scheme: dark) {\n",
       "    /* Redefinition of color scheme for dark theme */\n",
       "    --sklearn-color-text-on-default-background: var(--sg-text-color, var(--theme-code-foreground, var(--jp-content-font-color1, white)));\n",
       "    --sklearn-color-background: var(--sg-background-color, var(--theme-background, var(--jp-layout-color0, #111)));\n",
       "    --sklearn-color-border-box: var(--sg-text-color, var(--theme-code-foreground, var(--jp-content-font-color1, white)));\n",
       "    --sklearn-color-icon: #878787;\n",
       "  }\n",
       "}\n",
       "\n",
       "#sk-container-id-7 {\n",
       "  color: var(--sklearn-color-text);\n",
       "}\n",
       "\n",
       "#sk-container-id-7 pre {\n",
       "  padding: 0;\n",
       "}\n",
       "\n",
       "#sk-container-id-7 input.sk-hidden--visually {\n",
       "  border: 0;\n",
       "  clip: rect(1px 1px 1px 1px);\n",
       "  clip: rect(1px, 1px, 1px, 1px);\n",
       "  height: 1px;\n",
       "  margin: -1px;\n",
       "  overflow: hidden;\n",
       "  padding: 0;\n",
       "  position: absolute;\n",
       "  width: 1px;\n",
       "}\n",
       "\n",
       "#sk-container-id-7 div.sk-dashed-wrapped {\n",
       "  border: 1px dashed var(--sklearn-color-line);\n",
       "  margin: 0 0.4em 0.5em 0.4em;\n",
       "  box-sizing: border-box;\n",
       "  padding-bottom: 0.4em;\n",
       "  background-color: var(--sklearn-color-background);\n",
       "}\n",
       "\n",
       "#sk-container-id-7 div.sk-container {\n",
       "  /* jupyter's `normalize.less` sets `[hidden] { display: none; }`\n",
       "     but bootstrap.min.css set `[hidden] { display: none !important; }`\n",
       "     so we also need the `!important` here to be able to override the\n",
       "     default hidden behavior on the sphinx rendered scikit-learn.org.\n",
       "     See: https://github.com/scikit-learn/scikit-learn/issues/21755 */\n",
       "  display: inline-block !important;\n",
       "  position: relative;\n",
       "}\n",
       "\n",
       "#sk-container-id-7 div.sk-text-repr-fallback {\n",
       "  display: none;\n",
       "}\n",
       "\n",
       "div.sk-parallel-item,\n",
       "div.sk-serial,\n",
       "div.sk-item {\n",
       "  /* draw centered vertical line to link estimators */\n",
       "  background-image: linear-gradient(var(--sklearn-color-text-on-default-background), var(--sklearn-color-text-on-default-background));\n",
       "  background-size: 2px 100%;\n",
       "  background-repeat: no-repeat;\n",
       "  background-position: center center;\n",
       "}\n",
       "\n",
       "/* Parallel-specific style estimator block */\n",
       "\n",
       "#sk-container-id-7 div.sk-parallel-item::after {\n",
       "  content: \"\";\n",
       "  width: 100%;\n",
       "  border-bottom: 2px solid var(--sklearn-color-text-on-default-background);\n",
       "  flex-grow: 1;\n",
       "}\n",
       "\n",
       "#sk-container-id-7 div.sk-parallel {\n",
       "  display: flex;\n",
       "  align-items: stretch;\n",
       "  justify-content: center;\n",
       "  background-color: var(--sklearn-color-background);\n",
       "  position: relative;\n",
       "}\n",
       "\n",
       "#sk-container-id-7 div.sk-parallel-item {\n",
       "  display: flex;\n",
       "  flex-direction: column;\n",
       "}\n",
       "\n",
       "#sk-container-id-7 div.sk-parallel-item:first-child::after {\n",
       "  align-self: flex-end;\n",
       "  width: 50%;\n",
       "}\n",
       "\n",
       "#sk-container-id-7 div.sk-parallel-item:last-child::after {\n",
       "  align-self: flex-start;\n",
       "  width: 50%;\n",
       "}\n",
       "\n",
       "#sk-container-id-7 div.sk-parallel-item:only-child::after {\n",
       "  width: 0;\n",
       "}\n",
       "\n",
       "/* Serial-specific style estimator block */\n",
       "\n",
       "#sk-container-id-7 div.sk-serial {\n",
       "  display: flex;\n",
       "  flex-direction: column;\n",
       "  align-items: center;\n",
       "  background-color: var(--sklearn-color-background);\n",
       "  padding-right: 1em;\n",
       "  padding-left: 1em;\n",
       "}\n",
       "\n",
       "\n",
       "/* Toggleable style: style used for estimator/Pipeline/ColumnTransformer box that is\n",
       "clickable and can be expanded/collapsed.\n",
       "- Pipeline and ColumnTransformer use this feature and define the default style\n",
       "- Estimators will overwrite some part of the style using the `sk-estimator` class\n",
       "*/\n",
       "\n",
       "/* Pipeline and ColumnTransformer style (default) */\n",
       "\n",
       "#sk-container-id-7 div.sk-toggleable {\n",
       "  /* Default theme specific background. It is overwritten whether we have a\n",
       "  specific estimator or a Pipeline/ColumnTransformer */\n",
       "  background-color: var(--sklearn-color-background);\n",
       "}\n",
       "\n",
       "/* Toggleable label */\n",
       "#sk-container-id-7 label.sk-toggleable__label {\n",
       "  cursor: pointer;\n",
       "  display: block;\n",
       "  width: 100%;\n",
       "  margin-bottom: 0;\n",
       "  padding: 0.5em;\n",
       "  box-sizing: border-box;\n",
       "  text-align: center;\n",
       "}\n",
       "\n",
       "#sk-container-id-7 label.sk-toggleable__label-arrow:before {\n",
       "  /* Arrow on the left of the label */\n",
       "  content: \"▸\";\n",
       "  float: left;\n",
       "  margin-right: 0.25em;\n",
       "  color: var(--sklearn-color-icon);\n",
       "}\n",
       "\n",
       "#sk-container-id-7 label.sk-toggleable__label-arrow:hover:before {\n",
       "  color: var(--sklearn-color-text);\n",
       "}\n",
       "\n",
       "/* Toggleable content - dropdown */\n",
       "\n",
       "#sk-container-id-7 div.sk-toggleable__content {\n",
       "  max-height: 0;\n",
       "  max-width: 0;\n",
       "  overflow: hidden;\n",
       "  text-align: left;\n",
       "  /* unfitted */\n",
       "  background-color: var(--sklearn-color-unfitted-level-0);\n",
       "}\n",
       "\n",
       "#sk-container-id-7 div.sk-toggleable__content.fitted {\n",
       "  /* fitted */\n",
       "  background-color: var(--sklearn-color-fitted-level-0);\n",
       "}\n",
       "\n",
       "#sk-container-id-7 div.sk-toggleable__content pre {\n",
       "  margin: 0.2em;\n",
       "  border-radius: 0.25em;\n",
       "  color: var(--sklearn-color-text);\n",
       "  /* unfitted */\n",
       "  background-color: var(--sklearn-color-unfitted-level-0);\n",
       "}\n",
       "\n",
       "#sk-container-id-7 div.sk-toggleable__content.fitted pre {\n",
       "  /* unfitted */\n",
       "  background-color: var(--sklearn-color-fitted-level-0);\n",
       "}\n",
       "\n",
       "#sk-container-id-7 input.sk-toggleable__control:checked~div.sk-toggleable__content {\n",
       "  /* Expand drop-down */\n",
       "  max-height: 200px;\n",
       "  max-width: 100%;\n",
       "  overflow: auto;\n",
       "}\n",
       "\n",
       "#sk-container-id-7 input.sk-toggleable__control:checked~label.sk-toggleable__label-arrow:before {\n",
       "  content: \"▾\";\n",
       "}\n",
       "\n",
       "/* Pipeline/ColumnTransformer-specific style */\n",
       "\n",
       "#sk-container-id-7 div.sk-label input.sk-toggleable__control:checked~label.sk-toggleable__label {\n",
       "  color: var(--sklearn-color-text);\n",
       "  background-color: var(--sklearn-color-unfitted-level-2);\n",
       "}\n",
       "\n",
       "#sk-container-id-7 div.sk-label.fitted input.sk-toggleable__control:checked~label.sk-toggleable__label {\n",
       "  background-color: var(--sklearn-color-fitted-level-2);\n",
       "}\n",
       "\n",
       "/* Estimator-specific style */\n",
       "\n",
       "/* Colorize estimator box */\n",
       "#sk-container-id-7 div.sk-estimator input.sk-toggleable__control:checked~label.sk-toggleable__label {\n",
       "  /* unfitted */\n",
       "  background-color: var(--sklearn-color-unfitted-level-2);\n",
       "}\n",
       "\n",
       "#sk-container-id-7 div.sk-estimator.fitted input.sk-toggleable__control:checked~label.sk-toggleable__label {\n",
       "  /* fitted */\n",
       "  background-color: var(--sklearn-color-fitted-level-2);\n",
       "}\n",
       "\n",
       "#sk-container-id-7 div.sk-label label.sk-toggleable__label,\n",
       "#sk-container-id-7 div.sk-label label {\n",
       "  /* The background is the default theme color */\n",
       "  color: var(--sklearn-color-text-on-default-background);\n",
       "}\n",
       "\n",
       "/* On hover, darken the color of the background */\n",
       "#sk-container-id-7 div.sk-label:hover label.sk-toggleable__label {\n",
       "  color: var(--sklearn-color-text);\n",
       "  background-color: var(--sklearn-color-unfitted-level-2);\n",
       "}\n",
       "\n",
       "/* Label box, darken color on hover, fitted */\n",
       "#sk-container-id-7 div.sk-label.fitted:hover label.sk-toggleable__label.fitted {\n",
       "  color: var(--sklearn-color-text);\n",
       "  background-color: var(--sklearn-color-fitted-level-2);\n",
       "}\n",
       "\n",
       "/* Estimator label */\n",
       "\n",
       "#sk-container-id-7 div.sk-label label {\n",
       "  font-family: monospace;\n",
       "  font-weight: bold;\n",
       "  display: inline-block;\n",
       "  line-height: 1.2em;\n",
       "}\n",
       "\n",
       "#sk-container-id-7 div.sk-label-container {\n",
       "  text-align: center;\n",
       "}\n",
       "\n",
       "/* Estimator-specific */\n",
       "#sk-container-id-7 div.sk-estimator {\n",
       "  font-family: monospace;\n",
       "  border: 1px dotted var(--sklearn-color-border-box);\n",
       "  border-radius: 0.25em;\n",
       "  box-sizing: border-box;\n",
       "  margin-bottom: 0.5em;\n",
       "  /* unfitted */\n",
       "  background-color: var(--sklearn-color-unfitted-level-0);\n",
       "}\n",
       "\n",
       "#sk-container-id-7 div.sk-estimator.fitted {\n",
       "  /* fitted */\n",
       "  background-color: var(--sklearn-color-fitted-level-0);\n",
       "}\n",
       "\n",
       "/* on hover */\n",
       "#sk-container-id-7 div.sk-estimator:hover {\n",
       "  /* unfitted */\n",
       "  background-color: var(--sklearn-color-unfitted-level-2);\n",
       "}\n",
       "\n",
       "#sk-container-id-7 div.sk-estimator.fitted:hover {\n",
       "  /* fitted */\n",
       "  background-color: var(--sklearn-color-fitted-level-2);\n",
       "}\n",
       "\n",
       "/* Specification for estimator info (e.g. \"i\" and \"?\") */\n",
       "\n",
       "/* Common style for \"i\" and \"?\" */\n",
       "\n",
       ".sk-estimator-doc-link,\n",
       "a:link.sk-estimator-doc-link,\n",
       "a:visited.sk-estimator-doc-link {\n",
       "  float: right;\n",
       "  font-size: smaller;\n",
       "  line-height: 1em;\n",
       "  font-family: monospace;\n",
       "  background-color: var(--sklearn-color-background);\n",
       "  border-radius: 1em;\n",
       "  height: 1em;\n",
       "  width: 1em;\n",
       "  text-decoration: none !important;\n",
       "  margin-left: 1ex;\n",
       "  /* unfitted */\n",
       "  border: var(--sklearn-color-unfitted-level-1) 1pt solid;\n",
       "  color: var(--sklearn-color-unfitted-level-1);\n",
       "}\n",
       "\n",
       ".sk-estimator-doc-link.fitted,\n",
       "a:link.sk-estimator-doc-link.fitted,\n",
       "a:visited.sk-estimator-doc-link.fitted {\n",
       "  /* fitted */\n",
       "  border: var(--sklearn-color-fitted-level-1) 1pt solid;\n",
       "  color: var(--sklearn-color-fitted-level-1);\n",
       "}\n",
       "\n",
       "/* On hover */\n",
       "div.sk-estimator:hover .sk-estimator-doc-link:hover,\n",
       ".sk-estimator-doc-link:hover,\n",
       "div.sk-label-container:hover .sk-estimator-doc-link:hover,\n",
       ".sk-estimator-doc-link:hover {\n",
       "  /* unfitted */\n",
       "  background-color: var(--sklearn-color-unfitted-level-3);\n",
       "  color: var(--sklearn-color-background);\n",
       "  text-decoration: none;\n",
       "}\n",
       "\n",
       "div.sk-estimator.fitted:hover .sk-estimator-doc-link.fitted:hover,\n",
       ".sk-estimator-doc-link.fitted:hover,\n",
       "div.sk-label-container:hover .sk-estimator-doc-link.fitted:hover,\n",
       ".sk-estimator-doc-link.fitted:hover {\n",
       "  /* fitted */\n",
       "  background-color: var(--sklearn-color-fitted-level-3);\n",
       "  color: var(--sklearn-color-background);\n",
       "  text-decoration: none;\n",
       "}\n",
       "\n",
       "/* Span, style for the box shown on hovering the info icon */\n",
       ".sk-estimator-doc-link span {\n",
       "  display: none;\n",
       "  z-index: 9999;\n",
       "  position: relative;\n",
       "  font-weight: normal;\n",
       "  right: .2ex;\n",
       "  padding: .5ex;\n",
       "  margin: .5ex;\n",
       "  width: min-content;\n",
       "  min-width: 20ex;\n",
       "  max-width: 50ex;\n",
       "  color: var(--sklearn-color-text);\n",
       "  box-shadow: 2pt 2pt 4pt #999;\n",
       "  /* unfitted */\n",
       "  background: var(--sklearn-color-unfitted-level-0);\n",
       "  border: .5pt solid var(--sklearn-color-unfitted-level-3);\n",
       "}\n",
       "\n",
       ".sk-estimator-doc-link.fitted span {\n",
       "  /* fitted */\n",
       "  background: var(--sklearn-color-fitted-level-0);\n",
       "  border: var(--sklearn-color-fitted-level-3);\n",
       "}\n",
       "\n",
       ".sk-estimator-doc-link:hover span {\n",
       "  display: block;\n",
       "}\n",
       "\n",
       "/* \"?\"-specific style due to the `<a>` HTML tag */\n",
       "\n",
       "#sk-container-id-7 a.estimator_doc_link {\n",
       "  float: right;\n",
       "  font-size: 1rem;\n",
       "  line-height: 1em;\n",
       "  font-family: monospace;\n",
       "  background-color: var(--sklearn-color-background);\n",
       "  border-radius: 1rem;\n",
       "  height: 1rem;\n",
       "  width: 1rem;\n",
       "  text-decoration: none;\n",
       "  /* unfitted */\n",
       "  color: var(--sklearn-color-unfitted-level-1);\n",
       "  border: var(--sklearn-color-unfitted-level-1) 1pt solid;\n",
       "}\n",
       "\n",
       "#sk-container-id-7 a.estimator_doc_link.fitted {\n",
       "  /* fitted */\n",
       "  border: var(--sklearn-color-fitted-level-1) 1pt solid;\n",
       "  color: var(--sklearn-color-fitted-level-1);\n",
       "}\n",
       "\n",
       "/* On hover */\n",
       "#sk-container-id-7 a.estimator_doc_link:hover {\n",
       "  /* unfitted */\n",
       "  background-color: var(--sklearn-color-unfitted-level-3);\n",
       "  color: var(--sklearn-color-background);\n",
       "  text-decoration: none;\n",
       "}\n",
       "\n",
       "#sk-container-id-7 a.estimator_doc_link.fitted:hover {\n",
       "  /* fitted */\n",
       "  background-color: var(--sklearn-color-fitted-level-3);\n",
       "}\n",
       "</style><div id=\"sk-container-id-7\" class=\"sk-top-container\"><div class=\"sk-text-repr-fallback\"><pre>Pipeline(steps=[(&#x27;smotetomek&#x27;,\n",
       "                 SMOTETomek(random_state=38,\n",
       "                            tomek=TomekLinks(sampling_strategy=&#x27;majority&#x27;))),\n",
       "                (&#x27;randomforestclassifier&#x27;,\n",
       "                 RandomForestClassifier(max_depth=6, min_samples_leaf=24,\n",
       "                                        random_state=38))])</pre><b>In a Jupyter environment, please rerun this cell to show the HTML representation or trust the notebook. <br />On GitHub, the HTML representation is unable to render, please try loading this page with nbviewer.org.</b></div><div class=\"sk-container\" hidden><div class=\"sk-item sk-dashed-wrapped\"><div class=\"sk-label-container\"><div class=\"sk-label fitted sk-toggleable\"><input class=\"sk-toggleable__control sk-hidden--visually\" id=\"sk-estimator-id-21\" type=\"checkbox\" ><label for=\"sk-estimator-id-21\" class=\"sk-toggleable__label fitted sk-toggleable__label-arrow fitted\">&nbsp;Pipeline<span class=\"sk-estimator-doc-link fitted\">i<span>Fitted</span></span></label><div class=\"sk-toggleable__content fitted\"><pre>Pipeline(steps=[(&#x27;smotetomek&#x27;,\n",
       "                 SMOTETomek(random_state=38,\n",
       "                            tomek=TomekLinks(sampling_strategy=&#x27;majority&#x27;))),\n",
       "                (&#x27;randomforestclassifier&#x27;,\n",
       "                 RandomForestClassifier(max_depth=6, min_samples_leaf=24,\n",
       "                                        random_state=38))])</pre></div> </div></div><div class=\"sk-serial\"><div class=\"sk-item sk-dashed-wrapped\"><div class=\"sk-label-container\"><div class=\"sk-label fitted sk-toggleable\"><input class=\"sk-toggleable__control sk-hidden--visually\" id=\"sk-estimator-id-22\" type=\"checkbox\" ><label for=\"sk-estimator-id-22\" class=\"sk-toggleable__label fitted sk-toggleable__label-arrow fitted\">smotetomek: SMOTETomek</label><div class=\"sk-toggleable__content fitted\"><pre>SMOTETomek(random_state=38, tomek=TomekLinks(sampling_strategy=&#x27;majority&#x27;))</pre></div> </div></div><div class=\"sk-parallel\"><div class=\"sk-parallel-item\"><div class=\"sk-item\"><div class=\"sk-label-container\"><div class=\"sk-label fitted sk-toggleable\"><input class=\"sk-toggleable__control sk-hidden--visually\" id=\"sk-estimator-id-23\" type=\"checkbox\" ><label for=\"sk-estimator-id-23\" class=\"sk-toggleable__label fitted sk-toggleable__label-arrow fitted\">tomek: TomekLinks</label><div class=\"sk-toggleable__content fitted\"><pre>TomekLinks(sampling_strategy=&#x27;majority&#x27;)</pre></div> </div></div><div class=\"sk-serial\"><div class=\"sk-item\"><div class=\"sk-estimator fitted sk-toggleable\"><input class=\"sk-toggleable__control sk-hidden--visually\" id=\"sk-estimator-id-24\" type=\"checkbox\" ><label for=\"sk-estimator-id-24\" class=\"sk-toggleable__label fitted sk-toggleable__label-arrow fitted\">TomekLinks</label><div class=\"sk-toggleable__content fitted\"><pre>TomekLinks(sampling_strategy=&#x27;majority&#x27;)</pre></div> </div></div></div></div></div></div></div><div class=\"sk-item\"><div class=\"sk-estimator fitted sk-toggleable\"><input class=\"sk-toggleable__control sk-hidden--visually\" id=\"sk-estimator-id-25\" type=\"checkbox\" ><label for=\"sk-estimator-id-25\" class=\"sk-toggleable__label fitted sk-toggleable__label-arrow fitted\">&nbsp;RandomForestClassifier<a class=\"sk-estimator-doc-link fitted\" rel=\"noreferrer\" target=\"_blank\" href=\"https://scikit-learn.org/1.5/modules/generated/sklearn.ensemble.RandomForestClassifier.html\">?<span>Documentation for RandomForestClassifier</span></a></label><div class=\"sk-toggleable__content fitted\"><pre>RandomForestClassifier(max_depth=6, min_samples_leaf=24, random_state=38)</pre></div> </div></div></div></div></div></div>"
      ],
      "text/plain": [
       "Pipeline(steps=[('smotetomek',\n",
       "                 SMOTETomek(random_state=38,\n",
       "                            tomek=TomekLinks(sampling_strategy='majority'))),\n",
       "                ('randomforestclassifier',\n",
       "                 RandomForestClassifier(max_depth=6, min_samples_leaf=24,\n",
       "                                        random_state=38))])"
      ]
     },
     "execution_count": 119,
     "metadata": {},
     "output_type": "execute_result"
    }
   ],
   "source": [
    "# Fit best model on the training set\n",
    "best_params = study.best_params\n",
    "\n",
    "pipeline_smotetomek = make_pipeline(\n",
    "    SMOTETomek(tomek=TomekLinks(sampling_strategy='majority'), random_state=RANDOM_STATE),\n",
    "    RandomForestClassifier(**best_params, random_state=RANDOM_STATE)\n",
    ")\n",
    "\n",
    "pipeline_smotetomek.fit(X_train, y_train)"
   ]
  },
  {
   "cell_type": "code",
   "execution_count": 120,
   "metadata": {},
   "outputs": [],
   "source": [
    "# Predictions\n",
    "y_train_pred_smotetomek = pipeline_smotetomek.predict(X_train)\n",
    "y_test_pred_smotetomek = pipeline_smotetomek.predict(X_test)"
   ]
  },
  {
   "cell_type": "code",
   "execution_count": 121,
   "metadata": {},
   "outputs": [
    {
     "name": "stdout",
     "output_type": "stream",
     "text": [
      "Train accuracy:  0.70572575277817\n",
      "Test accuracy:  0.7051294117647059\n"
     ]
    }
   ],
   "source": [
    "ac_train_smotetomek = accuracy_score(y_train, y_train_pred_smotetomek)\n",
    "ac_test_smotetomek = accuracy_score(y_test, y_test_pred_smotetomek)\n",
    "\n",
    "print('Train accuracy: ', ac_train_smotetomek)\n",
    "print('Test accuracy: ', ac_test_smotetomek)"
   ]
  },
  {
   "cell_type": "code",
   "execution_count": 122,
   "metadata": {},
   "outputs": [
    {
     "name": "stdout",
     "output_type": "stream",
     "text": [
      "                         precision    recall  f1-score   support\n",
      "\n",
      "Late or non-readmission       0.93      0.73      0.82     19312\n",
      "      Early-readmission       0.14      0.42      0.21      1938\n",
      "\n",
      "               accuracy                           0.71     21250\n",
      "              macro avg       0.53      0.58      0.51     21250\n",
      "           weighted avg       0.85      0.71      0.76     21250\n",
      "\n"
     ]
    }
   ],
   "source": [
    "# Visualize precision, recall, F1-score\n",
    "print(classification_report(\n",
    "    y_test, y_test_pred_smotetomek,\n",
    "    target_names=['Late or non-readmission', 'Early-readmission']\n",
    "))"
   ]
  },
  {
   "cell_type": "code",
   "execution_count": 128,
   "metadata": {},
   "outputs": [
    {
     "data": {
      "text/plain": [
       "<Axes: >"
      ]
     },
     "execution_count": 128,
     "metadata": {},
     "output_type": "execute_result"
    },
    {
     "data": {
      "image/png": "[encoded data removed]",
      "text/plain": [
       "<Figure size 640x480 with 2 Axes>"
      ]
     },
     "metadata": {},
     "output_type": "display_data"
    }
   ],
   "source": [
    "cm_smotetomek = confusion_matrix(y_test, y_test_pred_smotetomek, normalize='true')\n",
    "sns.heatmap(cm_smotetomek, annot=True, fmt=\".2f\", cmap='Blues')"
   ]
  },
  {
   "cell_type": "markdown",
   "metadata": {},
   "source": [
    "## **5. Results Combined**\n",
    "Visualizing all results obtained by different sampling methods, on the best respective models."
   ]
  },
  {
   "cell_type": "code",
   "execution_count": 130,
   "metadata": {},
   "outputs": [
    {
     "data": {
      "image/png": "[encoded data removed]",
      "text/plain": [
       "<Figure size 1800x500 with 6 Axes>"
      ]
     },
     "metadata": {},
     "output_type": "display_data"
    }
   ],
   "source": [
    "# Combine all confusion matrices into a single plot\n",
    "fig, ax = plt.subplots(1, 3, figsize=(18, 5))\n",
    "cm_list = [cm_rus, cm_smote, cm_smotetomek]\n",
    "titles = ['Random Under Sampling', 'SMOTE', 'SMOTE-Tomek']\n",
    "\n",
    "for i, cm in enumerate(cm_list):\n",
    "    sns.heatmap(cm, annot=True, fmt=\".2f\", cmap='Blues', ax=ax[i])\n",
    "    ax[i].set_title(titles[i])\n",
    "\n",
    "plt.tight_layout()\n",
    "plt.show()"
   ]
  }
 ],
 "metadata": {
  "kernelspec": {
   "display_name": ".venv",
   "language": "python",
   "name": "python3"
  },
  "language_info": {
   "codemirror_mode": {
    "name": "ipython",
    "version": 3
   },
   "file_extension": ".py",
   "mimetype": "text/x-python",
   "name": "python",
   "nbconvert_exporter": "python",
   "pygments_lexer": "ipython3",
   "version": "3.12.3"
  }
 },
 "nbformat": 4,
 "nbformat_minor": 2
}
